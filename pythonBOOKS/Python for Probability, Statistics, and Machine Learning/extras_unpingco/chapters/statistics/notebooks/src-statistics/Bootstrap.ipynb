{
 "metadata": {
  "name": "",
  "signature": "sha256:4cb5011b1edb91dec408c5aa95ce645243b217377eb2958a8d92f5af674e12c8"
 },
 "nbformat": 3,
 "nbformat_minor": 0,
 "worksheets": [
  {
   "cells": [
    {
     "cell_type": "heading",
     "level": 2,
     "metadata": {},
     "source": [
      "Introduction "
     ]
    },
    {
     "cell_type": "markdown",
     "metadata": {},
     "source": [
      "As we have seen, outside of some  toy problems, it can be very difficult  or impossible to determine  the probability density distribution of the estimator of some quantity. The idea behind the bootstrap is that we can use computation  to approximate  these functions which would otherwise be impossible to solve analytically. \n",
      "\n",
      "Let's start with a simple example. Suppose we have the following set of samples $\\lbrace X_1, X_2, \\ldots, X_n \\rbrace$ where each $X_k \\sim F$. In other words the samples are all drawn from the same unknown distribution $F$. Having run the experiment, we thereby obtain the following sample set:\n",
      "\n",
      "$$ \\lbrace x_1, x_2, \\ldots, x_n \\rbrace $$\n",
      "\n",
      "The sample mean is computed from this set as, \n",
      "\n",
      "$$ \\bar{x} = \\frac{1}{n}\\sum_{i=1}^n x_i $$\n",
      "\n",
      "The next question is how close is the sample mean to the true mean, $\\theta = \\mathbb{E}_F(X)$. Note that the second central moment of $X$ is as follows:\n",
      "\n",
      "$$ \\mu_2(F) := \\mathbb{E}_F (X^2)  - (\\mathbb{E}_F (X))^2$$\n",
      "\n",
      "The standard deviation of the sample mean, $\\bar{x}$, given $n$ samples from an underlying distribution $F$ is the following:\n",
      "\n",
      "$$ \\sigma(F) = (\\mu_2(F)/n)^{1/2} $$\n",
      "\n",
      "Unfortunately, because we have only the set of samples $\\lbrace x_1, x_2, \\ldots, x_n \\rbrace$ and not $F$ itself, we cannot compute this and must instead use the estimated standard error,\n",
      "\n",
      "$$ \\bar{\\sigma} = (\\bar{\\mu}_2(F)/n)^{1/2} $$\n",
      "\n",
      "where $\\bar{\\mu}_2 = \\sum (x_i -\\bar{x})^2/(n-1) $, which is the unbiased estimate of $\\mu_2(F)$. However, that is not the only way to proceed. Instead, we could replace $F$ by some estimate, $\\hat{F}$ obtained as a piecewise function of $\\lbrace x_1, x_2, \\ldots, x_n \\rbrace$ by placing probability mass $1/n$ on each $x_i$. With that in place, we can compute the estimated standard error as the following:\n",
      "\n",
      "$$ \\hat{\\sigma}_B  = (\\mu_2(\\hat{F})/n)^{1/2} $$\n",
      "\n",
      "which is called the *bootstrap estimate* of the standard error. Unfortunately, the story effectively ends here. In even a slightly more general setting, there is no clean formula $\\sigma(F)$ within which $F$ can be swapped for $\\hat{F}$.\n",
      "\n",
      "This is where the computer saves the day. We actually do not need to know the formula $\\sigma(F)$ because we can compute it using a resampling method. The key idea is to sample with replacement from $\\lbrace x_1, x_2, \\ldots, x_n \\rbrace$. The new set of $n$ independent draws from this set is the *bootstrap sample*,\n",
      "\n",
      "$$ y^* = \\lbrace x_1^*, x_2^*, \\ldots, x_n^* \\rbrace $$\n",
      "\n",
      "The Monte Carlo algorithm proceeds by first by selecting a large number  of bootstrap samples, $\\lbrace y^*_k\\rbrace$, then computing the statistic on each of these samples, and then computing the sample standard deviation of the results of the usual way. Thus, the bootstrap\n",
      "estimate of the statistic $\\theta$ is the following,\n",
      "\n",
      "$$ \\hat{\\theta}^*_B = \\frac{1}{B} \\sum_k \\hat{\\theta}^*(k) $$\n",
      "\n",
      "with the corresponding square of the sample standard deviation as\n",
      "\n",
      "$$ \\hat{\\sigma}_B^2 = \\frac{1}{B-1} \\sum_k (\\hat{\\theta}^*(k)-\\hat{\\theta}^*_B )^2 $$\n",
      "\n",
      "The process is much simpler than  the notation implies. The next block of code computes this for a simple example.\n"
     ]
    },
    {
     "cell_type": "code",
     "collapsed": false,
     "input": [
      "%matplotlib inline"
     ],
     "language": "python",
     "metadata": {},
     "outputs": [],
     "prompt_number": 1
    },
    {
     "cell_type": "markdown",
     "metadata": {},
     "source": [
      "Let's consider a $\\beta(3,2)$ distribution. Because this is simulation data, we already know that the  mean is $\\mu_1 = 3/5$ and the standard deviation of the sample mean for $n=50$ is $\\bar{\\sigma} =1/\\sqrt {1250} $. Note that we will compute this later below."
     ]
    },
    {
     "cell_type": "code",
     "collapsed": false,
     "input": [
      "from scipy import stats\n",
      "rv = stats.beta(3,2)\n",
      "xsamples = rv.rvs(50)"
     ],
     "language": "python",
     "metadata": {},
     "outputs": [],
     "prompt_number": 2
    },
    {
     "cell_type": "code",
     "collapsed": false,
     "input": [
      "fig,ax = subplots()\n",
      "ax.hist(xsamples,normed=True,color='gray')\n",
      "ax2 = ax.twinx()\n",
      "ax2.plot(linspace(0,1,100),rv.pdf(linspace(0,1,100)),color='k')"
     ],
     "language": "python",
     "metadata": {},
     "outputs": [
      {
       "metadata": {},
       "output_type": "pyout",
       "prompt_number": 3,
       "text": [
        "[<matplotlib.lines.Line2D at 0xcf24e90>]"
       ]
      },
      {
       "metadata": {},
       "output_type": "display_data",
       "png": "[encoded data removed]",
       "text": [
        "<matplotlib.figure.Figure at 0xcf24ed0>"
       ]
      }
     ],
     "prompt_number": 3
    },
    {
     "cell_type": "markdown",
     "metadata": {},
     "source": [
      "The previous plot shows the $\\beta(3,2)$ distribution and the corresponding histogram of the samples. One way to think about this is that the histogram represents $\\hat{F}$ and is the distribution we are sampling from to obtain the bootstrap samples. As shown, the $\\hat{F}$ is a pretty crude estimate for the $F$ density (smooth solid line), but that's not a serious problem insofar as the following bootstrap estimates are concerned. In fact, the approximation $\\hat{F}$  has a naturally tendency to pull towards where most of the probability mass is. This is a feature, not a bug; and is the underlying mechanism for why bootstrapping works, but the formal proofs that exploit this basic idea are far out of our scope here.\n",
      "\n",
      "The next block generates the bootstrap samples"
     ]
    },
    {
     "cell_type": "code",
     "collapsed": false,
     "input": [
      "fig,ax = subplots()\n",
      "yboot = np.random.choice(xsamples,(100,50))\n",
      "yboot_mn = yboot.mean()\n",
      "ax.hist(yboot.mean(axis=1),normed=True,color='gray')\n",
      "ax.set_title('bootstrap estimate of std of sample mean %3.3f vs %3.3f'%\n",
      "             (std(yboot.mean(axis=1)),sqrt(1/1250.)))"
     ],
     "language": "python",
     "metadata": {},
     "outputs": [
      {
       "metadata": {},
       "output_type": "pyout",
       "prompt_number": 4,
       "text": [
        "<matplotlib.text.Text at 0xd1d4d50>"
       ]
      },
      {
       "metadata": {},
       "output_type": "display_data",
       "png": "[encoded data removed]",
       "text": [
        "<matplotlib.figure.Figure at 0xcf39450>"
       ]
      }
     ],
     "prompt_number": 4
    },
    {
     "cell_type": "markdown",
     "metadata": {},
     "source": [
      "The next block shows how to use `sympy.stats` to compute the $\\beta(3,2)$ parameters we quoted earlier."
     ]
    },
    {
     "cell_type": "code",
     "collapsed": false,
     "input": [
      "import sympy as S\n",
      "import sympy.stats\n",
      "\n",
      "for i in range(50):\n",
      "    execstring = \"x%d = S.stats.Beta('x'+str(%d),3,2)\"%(i,i)\n",
      "    exec( execstring )\n",
      "xlist = [eval('x%d'%(i)) for i in range(50) ]\n",
      "sample_mean = sum(xlist)/len(xlist)\n",
      "sample_mean_1 = S.stats.E(sample_mean)\n",
      "sample_mean_2 = S.stats.E(S.expand(sample_mean**2))"
     ],
     "language": "python",
     "metadata": {},
     "outputs": [],
     "prompt_number": 5
    },
    {
     "cell_type": "code",
     "collapsed": false,
     "input": [
      "# standard deviation of sample mean\n",
      "sigma_smn = sample_mean_2-sample_mean_1**2\n",
      "print sigma_smn"
     ],
     "language": "python",
     "metadata": {},
     "outputs": [
      {
       "output_type": "stream",
       "stream": "stdout",
       "text": [
        "1/1250\n"
       ]
      }
     ],
     "prompt_number": 6
    },
    {
     "cell_type": "heading",
     "level": 2,
     "metadata": {},
     "source": [
      "Parametric Bootstrap"
     ]
    },
    {
     "cell_type": "markdown",
     "metadata": {},
     "source": [
      "In the previous example, we used the $\\lbrace x_1, x_2, \\ldots, x_n \\rbrace $ samples themselves as the basis for $\\hat{F}$. An alternative is to *assume* that the samples come from a particular distribution, estimate the parameters of that distribution from the sample set, and then use the bootstrap mechanism to draw samples from the assumed distribution, using the so-derived parameters. For example, the next code block does this for a normal distribution."
     ]
    },
    {
     "cell_type": "code",
     "collapsed": false,
     "input": [
      "rv = stats.norm(0,2)\n",
      "xsamples = rv.rvs(10)\n",
      "# estimate mean and var from xsamples\n",
      "mn_ = mean(xsamples)\n",
      "std_ = std(xsamples)\n",
      "# bootstrap from assumed normal distribution with\n",
      "# mn_,std_ as parameters\n",
      "\n",
      "rvb = stats.norm(mn_,std_) #plug-in distribution\n",
      "yboot = rvb.rvs(1000)"
     ],
     "language": "python",
     "metadata": {},
     "outputs": [],
     "prompt_number": 7
    },
    {
     "cell_type": "markdown",
     "metadata": {},
     "source": [
      "Recall the sample variance estimator is the following:\n",
      "\n",
      "$$ S^2 = \\frac{1}{n-1} \\sum (X_i-\\bar{X})$$\n",
      "\n",
      "Assuming that the samples are normally distributed, this means that $(n-1)S^2/\\sigma^2$ has a chi-squared distribution with $n-1$ degrees of freedom. Thus, the variance, $\\mathbb{V}(S^2) = 2 \\sigma^4/(n-1) $. Likewise, the MLE plug-in estimate for this is $\\mathbb{V}(S^2) = 2 \\hat{\\sigma}^4/(n-1) $\n",
      "\n",
      "The following code computes the variance of the sample variance, $S^2$ using the MLE and bootstrap methods."
     ]
    },
    {
     "cell_type": "code",
     "collapsed": false,
     "input": [
      "print 'variance of the sample mean = ',2*(std_**2)**2/9. # MLE plugin\n",
      "print 'bootstrap variance of the sample mean = ',yboot.var()\n",
      "print 'true variance of sample mean = ',2*(2**2)**2/9."
     ],
     "language": "python",
     "metadata": {},
     "outputs": [
      {
       "output_type": "stream",
       "stream": "stdout",
       "text": [
        "variance of the sample mean =  1.63326238462\n",
        "bootstrap variance of the sample mean =  2.58317984773\n",
        "true variance of sample mean =  3.55555555556\n"
       ]
      }
     ],
     "prompt_number": 8
    },
    {
     "cell_type": "markdown",
     "metadata": {},
     "source": [
      "This shows that the bootstrap estimate is better here than the MLE plugin estimate.\n",
      "\n",
      "Note that this technique becomes even more powerful with multivariate distributions with many parameters because all the mechanics are the same. Thus, the bootstrap is a great all-purpose method for computing standard errors, but, in the limit,  is it converging to the correct value? This is the question of *consistency*. Unfortunately, to get at this question formally requires more and much deeper mathematics than we can get into here. We refer you to the following references for more detail. The short answer is that for estimating standard errors, the bootstrap is a consistent estimator in a wide range of cases and so it definitely belongs in your toolkit."
     ]
    },
    {
     "cell_type": "code",
     "collapsed": false,
     "input": [],
     "language": "python",
     "metadata": {},
     "outputs": [],
     "prompt_number": 8
    }
   ],
   "metadata": {}
  }
 ]
}