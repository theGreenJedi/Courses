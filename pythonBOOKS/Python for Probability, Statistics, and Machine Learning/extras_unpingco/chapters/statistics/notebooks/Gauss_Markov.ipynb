{
 "cells": [
  {
   "cell_type": "code",
   "execution_count": 1,
   "metadata": {
    "collapsed": false
   },
   "outputs": [
    {
     "name": "stdout",
     "output_type": "stream",
     "text": [
      "Populating the interactive namespace from numpy and matplotlib\n"
     ]
    }
   ],
   "source": [
    "from __future__ import division\n",
    "%pylab inline"
   ]
  },
  {
   "cell_type": "markdown",
   "metadata": {},
   "source": [
    "In this section, we  consider the famous Gauss-Markov problem which will give\n",
    "us an opportunity to use all the material we have so far developed. The\n",
    "Gauss-Markov model is the fundamental model for noisy parameter estimation because it\n",
    "estimates unobservable parameters given a noisy indirect measurement.\n",
    "Incarnations of the same model appear in all studies of Gaussian models. This\n",
    "case is an excellent opportunity to use everything we have so far learned about\n",
    "projection and conditional expectation.\n",
    "\n",
    "Following Luenberger [[luenberger1968optimization]](#luenberger1968optimization) let's  consider the\n",
    "following problem:"
   ]
  },
  {
   "cell_type": "markdown",
   "metadata": {},
   "source": [
    "$$\n",
    "\\mathbf{y} = \\mathbf{W} \\boldsymbol{\\beta} + \\boldsymbol{\\epsilon}\n",
    "$$"
   ]
  },
  {
   "cell_type": "markdown",
   "metadata": {},
   "source": [
    " where $\\mathbf{W}$ is a $ n \\times m $ matrix, and $\\mathbf{y}$ is a\n",
    "$n \\times 1$ vector. Also, $\\boldsymbol{\\epsilon}$ is a $n$-dimensional normally\n",
    "distributed random vector with zero-mean and covariance,"
   ]
  },
  {
   "cell_type": "markdown",
   "metadata": {},
   "source": [
    "$$\n",
    "\\mathbb{E}( \\boldsymbol{\\epsilon} \\boldsymbol{\\epsilon}^T) = \\mathbf{Q}\n",
    "$$"
   ]
  },
  {
   "cell_type": "markdown",
   "metadata": {},
   "source": [
    " Note that engineering systems usually provide a *calibration mode*\n",
    "where you can estimate $\\mathbf{Q}$ so it's not fantastical to assume you have\n",
    "some knowledge of the noise statistics. The problem is to find a matrix\n",
    "$\\mathbf{K}$ so that $ \\boldsymbol{\\hat{\\beta}}=\\mathbf{K} \\mathbf{y}$\n",
    "approximates $ \\boldsymbol{\\beta}$.  Note that we only have knowledge of\n",
    "$\\boldsymbol{\\beta}$ via $ \\mathbf{y}$ so we can't measure it directly.\n",
    "Further, note that $\\mathbf{K} $ is a matrix, not a vector, so there are $m\n",
    "\\times n$ entries to compute. \n",
    "\n",
    "We can approach this problem the usual way by trying to solve the MMSE\n",
    "problem:"
   ]
  },
  {
   "cell_type": "markdown",
   "metadata": {},
   "source": [
    "$$\n",
    "\\min_K\\mathbb{E}(\\Vert\\boldsymbol{\\hat{\\beta}}-\\boldsymbol{\\beta} \\Vert^2)\n",
    "$$"
   ]
  },
  {
   "cell_type": "markdown",
   "metadata": {},
   "source": [
    " which we can write out as"
   ]
  },
  {
   "cell_type": "markdown",
   "metadata": {},
   "source": [
    "$$\n",
    "\\min_K \\mathbb{E}(\\Vert \\boldsymbol{\\hat{\\beta}}-\\boldsymbol{\\beta} \\Vert^2) =  \\min_K\\mathbb{E}(\\Vert \\mathbf{K}\\mathbf{y}- \\boldsymbol{\\beta} \\Vert^2) =  \\min_K\\mathbb{E}(\\Vert \\mathbf{K}\\mathbf{W}\\mathbf{\\boldsymbol{\\beta}}+\\mathbf{K}\\boldsymbol{\\epsilon}- \\boldsymbol{\\beta} \\Vert^2)\n",
    "$$"
   ]
  },
  {
   "cell_type": "markdown",
   "metadata": {},
   "source": [
    " and since $\\boldsymbol{\\epsilon}$ is the only random variable here,\n",
    "this simplifies to"
   ]
  },
  {
   "cell_type": "markdown",
   "metadata": {},
   "source": [
    "$$\n",
    "\\min_K \\Vert \\mathbf{K}\\mathbf{W}\\mathbf{\\boldsymbol{\\beta}}-\\boldsymbol{\\beta} \\Vert^2 + \\mathbb{E}(\\Vert\\mathbf{K}\\boldsymbol{\\epsilon} \\Vert^2)\n",
    "$$"
   ]
  },
  {
   "cell_type": "markdown",
   "metadata": {},
   "source": [
    " The next step is to compute"
   ]
  },
  {
   "cell_type": "markdown",
   "metadata": {},
   "source": [
    "$$\n",
    "\\mathbb{E}(\\Vert\\mathbf{K}\\boldsymbol{\\epsilon} \\Vert^2) = \\mathbb{E}(\\boldsymbol{\\epsilon}^T \\mathbf{K}^T \\mathbf{K}^T \\boldsymbol{\\epsilon})=\\Tr(\\mathbf{K \\mathbb{E}(\\boldsymbol{\\epsilon}\\boldsymbol{\\epsilon}^T) K}^T)=\\Tr(\\mathbf{K Q K}^T)\n",
    "$$"
   ]
  },
  {
   "cell_type": "markdown",
   "metadata": {},
   "source": [
    " using the properties of the trace of  a matrix. We can assemble\n",
    "everything as"
   ]
  },
  {
   "cell_type": "markdown",
   "metadata": {},
   "source": [
    "$$\n",
    "\\min_K \\Vert \\mathbf{K W} \\boldsymbol{\\beta} -  \\boldsymbol{\\beta}\\Vert^2 + \\Tr(\\mathbf{K Q K}^T)\n",
    "$$"
   ]
  },
  {
   "cell_type": "markdown",
   "metadata": {},
   "source": [
    " Now, if we were to solve this for $\\mathbf{K}$, it would be a\n",
    "function of $ \\boldsymbol{\\beta}$, which is the same thing as saying that the\n",
    "estimator, $ \\boldsymbol{\\hat{\\beta}}$, is a function of what we are trying to\n",
    "estimate, $\\boldsymbol{\\beta}$, which makes no sense. However, writing this out\n",
    "tells us that if we had $\\mathbf{K W}= \\mathbf{I}$, then the first term\n",
    "vanishes and the problem simplifies to"
   ]
  },
  {
   "cell_type": "markdown",
   "metadata": {},
   "source": [
    "$$\n",
    "\\min_K \\Tr(\\mathbf{K Q K}^T)\n",
    "$$"
   ]
  },
  {
   "cell_type": "markdown",
   "metadata": {},
   "source": [
    " with the contraint,"
   ]
  },
  {
   "cell_type": "markdown",
   "metadata": {},
   "source": [
    "$$\n",
    "\\mathbf{KW} = \\mathbf{I}\n",
    "$$"
   ]
  },
  {
   "cell_type": "markdown",
   "metadata": {},
   "source": [
    " This requirement is the same as asserting that the estimator is unbiased,"
   ]
  },
  {
   "cell_type": "markdown",
   "metadata": {},
   "source": [
    "$$\n",
    "\\mathbb{E}(\\boldsymbol{\\hat{\\beta}})=\\mathbf{KW}  \\boldsymbol{\\beta} =  \\boldsymbol{\\beta}\n",
    "$$"
   ]
  },
  {
   "cell_type": "markdown",
   "metadata": {},
   "source": [
    " To line this problem up with our earlier work, let's consider  the\n",
    "$i^{th}$ column of $\\mathbf{K}$, $\\mathbf{k}_i$. Now, we can re-write the\n",
    "problem as"
   ]
  },
  {
   "cell_type": "markdown",
   "metadata": {},
   "source": [
    "$$\n",
    "\\min_k (\\mathbf{k}_i^T \\mathbf{Q} \\mathbf{k}_i)\n",
    "$$"
   ]
  },
  {
   "cell_type": "markdown",
   "metadata": {},
   "source": [
    " with"
   ]
  },
  {
   "cell_type": "markdown",
   "metadata": {},
   "source": [
    "$$\n",
    "\\mathbf{k}_i^T \\mathbf{W} = \\mathbf{e}_i\n",
    "$$"
   ]
  },
  {
   "cell_type": "markdown",
   "metadata": {},
   "source": [
    " and from our previous work on contrained optimization, we know the\n",
    "solution to this:"
   ]
  },
  {
   "cell_type": "markdown",
   "metadata": {},
   "source": [
    "$$\n",
    "\\mathbf{k}_i  = \\mathbf{Q}^{-1} \\mathbf{W}(\\mathbf{W}^T \\mathbf{Q^{-1} W})^{-1}\\mathbf{e}_i\n",
    "$$"
   ]
  },
  {
   "cell_type": "markdown",
   "metadata": {},
   "source": [
    " Now all we have to do is stack these together for the general solution:"
   ]
  },
  {
   "cell_type": "markdown",
   "metadata": {},
   "source": [
    "$$\n",
    "\\mathbf{K}  = (\\mathbf{W}^T \\mathbf{Q^{-1} W})^{-1} \\mathbf{W}^T\\mathbf{Q}^{-1}\n",
    "$$"
   ]
  },
  {
   "cell_type": "markdown",
   "metadata": {},
   "source": [
    " It's easy when you have all of the concepts lined up! For completeness, the\n",
    "covariance of the error is"
   ]
  },
  {
   "cell_type": "markdown",
   "metadata": {},
   "source": [
    "$$\n",
    "\\mathbb{E}(\\hat{\\boldsymbol{\\beta}}-\\boldsymbol{\\beta}) (\\hat{\\boldsymbol{\\beta}}-\\boldsymbol{\\beta})^T = \\mathbb{E}(\\mathbf{K} \\boldsymbol{\\epsilon} \\boldsymbol{\\epsilon}^T \\mathbf{K}^T)=\\mathbf{K}\\mathbf{Q}\\mathbf{K}^T =(\\mathbf{W}^T \\mathbf{Q}^{-1} \\mathbf{W})^{-1}\n",
    "$$"
   ]
  },
  {
   "cell_type": "markdown",
   "metadata": {},
   "source": [
    "<!-- # !bc pycod -->\n",
    "<!-- # from mpl_toolkits.mplot3d import proj3d -->\n",
    "<!-- # from numpy.linalg import inv -->\n",
    "<!-- # import matplotlib.pyplot as plt -->\n",
    "<!-- # import numpy as np -->\n",
    "<!-- # from numpy import matrix, linalg, ones, array -->\n",
    "<!-- # Q = np.eye(3)*.1 # error covariance matrix -->\n",
    "<!-- # beta = matrix(ones((2,1))) # this is what we are trying estimate -->\n",
    "<!-- # W = matrix([[1,2], -->\n",
    "<!-- #             [2,3], -->\n",
    "<!-- #             [1,1]]) -->\n",
    "<!-- # ntrials = 50 -->\n",
    "<!-- # epsilon = np.random.multivariate_normal((0,0,0),Q,ntrials).T -->\n",
    "<!-- # y=W*beta+epsilon -->\n",
    "<!-- # -->\n",
    "<!-- # K=inv(W.T*inv(Q)*W)*matrix(W.T)*inv(Q) -->\n",
    "<!-- # b=K*y #estimated beta from data -->\n",
    "<!-- # -->\n",
    "<!-- # fig = plt.figure() -->\n",
    "<!-- # fig.set_size_inches([6,6]) -->\n",
    "<!-- # -->\n",
    "<!-- # # some convenience definitions for plotting -->\n",
    "<!-- # bb = array(b) -->\n",
    "<!-- # bm = bb.mean(1) -->\n",
    "<!-- # yy = array(y) -->\n",
    "<!-- # ax = fig.add_subplot(111, projection='3d') -->\n",
    "<!-- # -->\n",
    "<!-- # ax.plot3D(yy[0,:],yy[1,:],yy[2,:],'mo',label='y',alpha=0.3) -->\n",
    "<!-- # ax.plot3D([beta[0,0],0],[beta[1,0],0],[0,0],'r-',label=r'$\\beta$') -->\n",
    "<!-- # ax.plot3D([bm[0],0],[bm[1],0],[0,0],'g-',lw=1,label=r'$\\widehat{\\beta}_m$') -->\n",
    "<!-- # ax.plot3D(bb[0,:],bb[1,:],0*bb[1,:],'.g',alpha=0.5,lw=3,label=r'$\\hat{\\beta}$') -->\n",
    "<!-- # ax.legend(loc=0,fontsize=18) -->\n",
    "<!-- # plt.show() -->\n",
    "<!-- # !ec -->\n",
    "\n",
    "<!-- dom:FIGURE: [fig-statistics/Gauss_Markov_001.png, width=500 frac=0.85] The red circles show the points to be estimated in the *xy*-plane by the black points. <div id=\"fig:Gauss_Markov_001\"></div> -->\n",
    "<!-- begin figure -->\n",
    "<div id=\"fig:Gauss_Markov_001\"></div>\n",
    "\n",
    "<p>The red circles show the points to be estimated in the <em>xy</em>-plane by the black points.</p>\n",
    "<img src=\"fig-statistics/Gauss_Markov_001.png\" width=500>\n",
    "\n",
    "<!-- end figure -->\n",
    "\n",
    "\n",
    "[Figure](#fig:Gauss_Markov_001) shows the simulated $\\mathbf{y}$ data as red\n",
    "circles. The black dots show the corresponding estimates,\n",
    "$\\boldsymbol{\\hat{\\beta}}$ for each sample. The black lines show the true value\n",
    "of $\\boldsymbol{\\beta}$ versus the average of the estimated\n",
    "$\\boldsymbol{\\beta}$-values, $\\widehat{\\boldsymbol{\\beta}_m}$. The matrix\n",
    "$\\mathbf{K}$ maps the red circles in the corresponding dots. Note there are\n",
    "many possible ways to map the red circles to the plane, but the $\\mathbf{K}$ is\n",
    "the one that minimizes the MSE for $\\boldsymbol{\\beta}$. \n",
    "\n",
    "**Programming Tip.**\n",
    "\n",
    "Although the full source code is available in the corresponding\n",
    "IPython Notebook, the following snippets provide a quick walkthrough. \n",
    "To simulate the target data, we define the relevant \n",
    "matrices below,"
   ]
  },
  {
   "cell_type": "code",
   "execution_count": 2,
   "metadata": {
    "collapsed": false
   },
   "outputs": [],
   "source": [
    "Q = np.eye(3)*0.1 # error covariance matrix\n",
    "# this is what we are trying estimate\n",
    "beta = matrix(ones((2,1))) \n",
    "W = matrix([[1,2],\n",
    "            [2,3],\n",
    "            [1,1]])"
   ]
  },
  {
   "cell_type": "markdown",
   "metadata": {},
   "source": [
    "  Then, we generate the noise terms and create\n",
    "the simulated data, $y$,"
   ]
  },
  {
   "cell_type": "code",
   "execution_count": 3,
   "metadata": {
    "collapsed": false
   },
   "outputs": [],
   "source": [
    "ntrials = 50 \n",
    "epsilon = np.random.multivariate_normal((0,0,0),Q,ntrials).T \n",
    "y=W*beta+epsilon"
   ]
  },
  {
   "cell_type": "markdown",
   "metadata": {},
   "source": [
    "<!-- dom:FIGURE: [fig-statistics/Gauss_Markov_002.png, width=500 frac=0.85] Focusing on the *xy*-plane in [Figure](#fig:Gauss_Markov_001), the dashed line shows the true value for $\\boldsymbol{\\beta}$ versus the mean of the estimated values $\\widehat{\\boldsymbol{\\beta}}_m$. <div id=\"fig:Gauss_Markov_002\"></div> -->\n",
    "<!-- begin figure -->\n",
    "<div id=\"fig:Gauss_Markov_002\"></div>\n",
    "\n",
    "<p>Focusing on the <em>xy</em>-plane in [Figure](#fig:Gauss_Markov_001), the dashed line shows the true value for $\\boldsymbol{\\beta}$ versus the mean of the estimated values $\\widehat{\\boldsymbol{\\beta}}_m$.</p>\n",
    "<img src=\"fig-statistics/Gauss_Markov_002.png\" width=500>\n",
    "\n",
    "<!-- end figure -->\n",
    "\n",
    "\n",
    "[Figure](#fig:Gauss_Markov_002) shows more detail in the horizontal *xy*-plane\n",
    "of [Figure](#fig:Gauss_Markov_001).  [Figure](#fig:Gauss_Markov_002) shows\n",
    "the dots, which are individual estimates of $\\boldsymbol{\\hat{\\beta}}$ from the\n",
    "corresponding simulated $\\mathbf{y}$ data. The dashed line is the true value\n",
    "for $\\boldsymbol{\\beta}$ and the filled line ($\\widehat{\\boldsymbol{\\beta}}_m$)\n",
    "is the average of all the dots.  The gray ellipse provides an error ellipse\n",
    "for the covariance of the estimated $\\boldsymbol{\\beta}$ values.  \n",
    "\n",
    "**Programming Tip.**\n",
    "\n",
    "Although the full source code is available in the corresponding\n",
    "IPython Notebook, the following snippets provide a quick walkthrough of\n",
    "the construction of [Figure](#fig:Gauss_Markov_002). To draw\n",
    "the ellipse, we need to import the patch primitive,"
   ]
  },
  {
   "cell_type": "code",
   "execution_count": 4,
   "metadata": {
    "collapsed": false
   },
   "outputs": [],
   "source": [
    "# %matplotlib inline\n",
    "\n",
    "# from  matplotlib.patches import Ellipse"
   ]
  },
  {
   "cell_type": "markdown",
   "metadata": {},
   "source": [
    " To compute the parameters of the error ellipse based on the\n",
    "covariance matrix of the individual estimates of $\\boldsymbol{\\beta}$\n",
    "in the `bm_cov` variable below,"
   ]
  },
  {
   "cell_type": "code",
   "execution_count": 5,
   "metadata": {
    "collapsed": false
   },
   "outputs": [],
   "source": [
    "# U,S,V = linalg.svd(bm_cov) \n",
    "# err = np.sqrt((matrix(bm))*(bm_cov)*(matrix(bm).T))\n",
    "# theta = np.arccos(U[0,1])/np.pi*180"
   ]
  },
  {
   "cell_type": "markdown",
   "metadata": {},
   "source": [
    " Then, we draw the add the scaled ellipse\n",
    "in the following,"
   ]
  },
  {
   "cell_type": "code",
   "execution_count": 6,
   "metadata": {
    "collapsed": false
   },
   "outputs": [],
   "source": [
    "# ax.add_patch(Ellipse(bm,err*2/np.sqrt(S[0]),\n",
    "#                      err*2/np.sqrt(S[1]),\n",
    "#                      angle=theta,color='gray'))"
   ]
  },
  {
   "cell_type": "code",
   "execution_count": 7,
   "metadata": {
    "collapsed": false
   },
   "outputs": [
    {
     "data": {
      "image/png": "[encoded data removed]",
      "text/plain": [
       "<matplotlib.figure.Figure at 0x6e3cfd0>"
      ]
     },
     "metadata": {},
     "output_type": "display_data"
    },
    {
     "data": {
      "image/png": "[encoded data removed]",
      "text/plain": [
       "<matplotlib.figure.Figure at 0x7248278>"
      ]
     },
     "metadata": {},
     "output_type": "display_data"
    }
   ],
   "source": [
    "from __future__ import division\n",
    "from mpl_toolkits.mplot3d import proj3d\n",
    "from numpy.linalg import inv\n",
    "import matplotlib.pyplot as plt\n",
    "import numpy as np\n",
    "from numpy import matrix, linalg, ones, array\n",
    "\n",
    "Q = np.eye(3)*.1 # error covariance matrix\n",
    "\n",
    "beta = matrix(ones((2,1))) # this is what we are trying estimate\n",
    "W = matrix([[1,2],\n",
    "            [2,3],\n",
    "            [1,1]])\n",
    "\n",
    "ntrials = 50 \n",
    "epsilon = np.random.multivariate_normal((0,0,0),Q,ntrials).T \n",
    "y=W*beta+epsilon\n",
    "\n",
    "K=inv(W.T*inv(Q)*W)*matrix(W.T)*inv(Q) \n",
    "b=K*y #estimated beta from data\n",
    "\n",
    "fig = plt.figure()\n",
    "fig.set_size_inches([6,6])\n",
    "\n",
    "# some convenience definitions for plotting\n",
    "bb = array(b)\n",
    "bm = bb.mean(1)\n",
    "yy = array(y)\n",
    "ax = fig.add_subplot(111, projection='3d')\n",
    "\n",
    "ax.plot3D(yy[0,:],yy[1,:],yy[2,:],'ro',label='y',alpha=0.3)\n",
    "ax.plot3D([beta[0,0],0],[beta[1,0],0],[0,0],'k--',label=r'$\\beta$')\n",
    "ax.plot3D([bm[0],0],[bm[1],0],[0,0],'k-',lw=1,label=r'$\\widehat{\\beta}_m$')\n",
    "ax.plot3D(bb[0,:],bb[1,:],0*bb[1,:],'.k',alpha=0.5,lw=3,label=r'$\\widehat{\\beta}$')\n",
    "ax.legend(loc=0,fontsize=18)\n",
    "ax.set_xlabel('$x_1$',fontsize=20)\n",
    "ax.set_ylabel('$x_2$',fontsize=20)\n",
    "ax.set_zlabel('$x_3$',fontsize=20)\n",
    "fig.tight_layout()\n",
    "\n",
    "from  matplotlib.patches import Ellipse\n",
    "\n",
    "fig, ax = plt.subplots()\n",
    "fig.set_size_inches((6,6))\n",
    "ax.set_aspect(1)\n",
    "ax.plot(bb[0,:],bb[1,:],'ko',alpha=.3)\n",
    "ax.plot([beta[0,0],0],[beta[1,0],0],'k--',label=r'$\\beta$',lw=3)\n",
    "ax.plot([bm[0],0],[bm[1],0],'k-',lw=3,label=r'$\\widehat{\\beta}_m$')\n",
    "ax.legend(loc=0,fontsize=18)\n",
    "\n",
    "bm_cov = inv(W.T*Q*W)\n",
    "U,S,V = linalg.svd(bm_cov) \n",
    "\n",
    "err = np.sqrt((matrix(bm))*(bm_cov)*(matrix(bm).T))\n",
    "theta = np.arccos(U[0,1])/np.pi*180\n",
    "\n",
    "ax.add_patch(Ellipse(bm,err*2/np.sqrt(S[0]),err*2/np.sqrt(S[1])\n",
    "                       ,angle=theta,color='gray',alpha=0.5))\n",
    "\n",
    "ax.set_xlabel('$x_1$',fontsize=20)\n",
    "ax.set_ylabel('$x_2$',fontsize=20)\n",
    "fig.tight_layout()\n"
   ]
  },
  {
   "cell_type": "markdown",
   "metadata": {},
   "source": [
    "<!-- References -->\n",
    "<!-- --------------- -->\n",
    "<!--  -->\n",
    "<!-- * Luenberger, David G. *Optimization by vector space methods*. Wiley-Interscience, 1997. -->"
   ]
  }
 ],
 "metadata": {
  "kernelspec": {
   "display_name": "Python 2",
   "language": "python",
   "name": "python2"
  },
  "language_info": {
   "codemirror_mode": {
    "name": "ipython",
    "version": 2
   },
   "file_extension": ".py",
   "mimetype": "text/x-python",
   "name": "python",
   "nbconvert_exporter": "python",
   "pygments_lexer": "ipython2",
   "version": "2.7.11"
  }
 },
 "nbformat": 4,
 "nbformat_minor": 0
}
