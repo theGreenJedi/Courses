{
 "cells": [
  {
   "cell_type": "markdown",
   "metadata": {},
   "source": [
    "To get started thinking about statistics, consider the three famous problems\n",
    "\n",
    "* Suppose you have a bag filled with colored marbles. You close your eyes and\n",
    "  reach into it and pull out a handful of marbles, what can you say about what is\n",
    "  in the bag?\n",
    "\n",
    "* You arrive in a strange town and you need a taxicab. You look out the window,\n",
    "  and in the dark, you can just barely make out the number on the roof of one of\n",
    "  the cabs. In this town, you know they label the cabs sequentially. How many\n",
    "  cabs does the town have?\n",
    "\n",
    "* You have already taken the entrance exam twice and you want to know if it's\n",
    "  worth it to take it a third time in the hopes that your score will improve.\n",
    "  Because only the last score is reported, you are worried that you may do worse\n",
    "  the third time. How do you decide whether or not to take the test again?\n",
    "\n",
    "Statistics provides a structured way to approach each of these problems.  This\n",
    "is important because it is easy to be fooled by your biases and intuitions.\n",
    "Unfortunately, the field does not provide a *single* way to do this, which\n",
    "explains the many library shelves that groan under the weight of statistics\n",
    "texts. This means that although many statistical quantities are easy to\n",
    "*compute*, these are not so easy to justify, explain, or even understand.\n",
    "Fundamentally, when we start with just the data, we lack the underlying\n",
    "probability density that we discussed in the last chapter. This removes key\n",
    "structures that we have to compensate for in however we choose to process the\n",
    "data.  In the following, we consider some of the most powerful statistical\n",
    "tools in the Python arsenal and suggest ways to think through them"
   ]
  }
 ],
 "metadata": {
  "kernelspec": {
   "display_name": "Python 2",
   "language": "python",
   "name": "python2"
  },
  "language_info": {
   "codemirror_mode": {
    "name": "ipython",
    "version": 2
   },
   "file_extension": ".py",
   "mimetype": "text/x-python",
   "name": "python",
   "nbconvert_exporter": "python",
   "pygments_lexer": "ipython2",
   "version": "2.7.11"
  }
 },
 "nbformat": 4,
 "nbformat_minor": 0
}
