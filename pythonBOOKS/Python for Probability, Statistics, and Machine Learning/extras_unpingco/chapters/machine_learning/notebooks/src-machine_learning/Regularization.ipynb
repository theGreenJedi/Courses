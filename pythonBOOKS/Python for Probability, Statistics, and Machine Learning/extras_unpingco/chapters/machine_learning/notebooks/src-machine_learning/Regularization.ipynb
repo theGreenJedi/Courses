{
 "cells": [
  {
   "cell_type": "code",
   "execution_count": 57,
   "metadata": {
    "collapsed": false
   },
   "outputs": [
    {
     "name": "stdout",
     "output_type": "stream",
     "text": [
      "Populating the interactive namespace from numpy and matplotlib\n"
     ]
    },
    {
     "name": "stderr",
     "output_type": "stream",
     "text": [
      "WARNING: pylab import has clobbered these variables: ['beta', 'clf', 'fmin']\n",
      "`%matplotlib` prevents importing * from pylab and numpy\n"
     ]
    }
   ],
   "source": [
    "%pylab inline"
   ]
  },
  {
   "cell_type": "code",
   "execution_count": 58,
   "metadata": {
    "collapsed": false
   },
   "outputs": [],
   "source": [
    "import cvxpy as cvx"
   ]
  },
  {
   "cell_type": "code",
   "execution_count": 59,
   "metadata": {
    "collapsed": false
   },
   "outputs": [],
   "source": [
    "from cvxpy import Variable, Problem, Minimize, norm1, norm2"
   ]
  },
  {
   "cell_type": "markdown",
   "metadata": {},
   "source": [
    "### L_2 minimization"
   ]
  },
  {
   "cell_type": "code",
   "execution_count": 60,
   "metadata": {
    "collapsed": false
   },
   "outputs": [
    {
     "data": {
      "text/plain": [
       "matrix([[ 0.2],\n",
       "        [ 0.4]])"
      ]
     },
     "execution_count": 60,
     "metadata": {},
     "output_type": "execute_result"
    }
   ],
   "source": [
    "x=cvx.Variable(2,1,name='x')\n",
    "constr=[np.matrix([[1,2]])*x==1]\n",
    "obj=Minimize(norm2(x))\n",
    "\n",
    "p= Problem(obj,constr)\n",
    "p.solve()\n",
    "x.value"
   ]
  },
  {
   "cell_type": "markdown",
   "metadata": {},
   "source": [
    "### $L_1$ minimization"
   ]
  },
  {
   "cell_type": "code",
   "execution_count": 61,
   "metadata": {
    "collapsed": false
   },
   "outputs": [
    {
     "data": {
      "text/plain": [
       "matrix([[  6.20344278e-10],\n",
       "        [  5.00000000e-01]])"
      ]
     },
     "execution_count": 61,
     "metadata": {},
     "output_type": "execute_result"
    }
   ],
   "source": [
    "constr=[np.matrix([[1,2]])*x==1]\n",
    "obj=Minimize(cvx.norm1(x))\n",
    "\n",
    "p= Problem(obj,constr)\n",
    "p.solve()\n",
    "x.value"
   ]
  },
  {
   "cell_type": "markdown",
   "metadata": {
    "collapsed": true
   },
   "source": [
    "## high dimensions"
   ]
  },
  {
   "cell_type": "code",
   "execution_count": 62,
   "metadata": {
    "collapsed": false
   },
   "outputs": [],
   "source": [
    "x=Variable(3,1,name='x')\n",
    "constr=[np.matrix([[1,2,3]])*x==1]"
   ]
  },
  {
   "cell_type": "code",
   "execution_count": 63,
   "metadata": {
    "collapsed": false
   },
   "outputs": [
    {
     "data": {
      "text/plain": [
       "matrix([[ 0.07142857],\n",
       "        [ 0.14285714],\n",
       "        [ 0.21428571]])"
      ]
     },
     "execution_count": 63,
     "metadata": {},
     "output_type": "execute_result"
    }
   ],
   "source": [
    "obj=Minimize(cvx.norm2(x))\n",
    "\n",
    "p= Problem(obj,constr)\n",
    "p.solve()\n",
    "x.value"
   ]
  },
  {
   "cell_type": "code",
   "execution_count": 64,
   "metadata": {
    "collapsed": false
   },
   "outputs": [
    {
     "data": {
      "text/plain": [
       "matrix([[  3.40265679e-10],\n",
       "        [  1.04899593e-09],\n",
       "        [  3.33333333e-01]])"
      ]
     },
     "execution_count": 64,
     "metadata": {},
     "output_type": "execute_result"
    }
   ],
   "source": [
    "obj=Minimize(cvx.norm1(x))\n",
    "p= Problem(obj,constr)\n",
    "p.solve()\n",
    "x.value"
   ]
  },
  {
   "cell_type": "code",
   "execution_count": 65,
   "metadata": {
    "collapsed": false
   },
   "outputs": [
    {
     "data": {
      "text/plain": [
       "0.33333333390983744"
      ]
     },
     "execution_count": 65,
     "metadata": {},
     "output_type": "execute_result"
    }
   ],
   "source": [
    "obj.value"
   ]
  },
  {
   "cell_type": "markdown",
   "metadata": {
    "collapsed": true
   },
   "source": [
    "## Solve $L_2$ penalized regression"
   ]
  },
  {
   "cell_type": "code",
   "execution_count": 66,
   "metadata": {
    "collapsed": false
   },
   "outputs": [],
   "source": [
    "import sympy as S\n",
    "X = S.Matrix([[1,2,3],\n",
    "               [3,4,5]])\n",
    "y = S.Matrix([[1,2]]).T\n",
    "b0,b1,b2=S.symbols('b:3',real=True)\n",
    "beta = S.Matrix([[b0,b1,b2]]).T\n",
    "\n",
    "ns,=X.nullspace()\n",
    "\n",
    "obj=(X*beta -y).norm(ord=2)**2\n",
    "\n",
    "sol=S.solve([obj.diff(i) for i in beta])"
   ]
  },
  {
   "cell_type": "code",
   "execution_count": 67,
   "metadata": {
    "collapsed": false
   },
   "outputs": [
    {
     "data": {
      "text/plain": [
       "Matrix([\n",
       "[ 1],\n",
       "[-2],\n",
       "[ 1]])"
      ]
     },
     "execution_count": 67,
     "metadata": {},
     "output_type": "execute_result"
    }
   ],
   "source": [
    "ns"
   ]
  },
  {
   "cell_type": "code",
   "execution_count": 68,
   "metadata": {
    "collapsed": false
   },
   "outputs": [
    {
     "data": {
      "text/plain": [
       "Matrix([\n",
       "[1/6],\n",
       "[1/6],\n",
       "[1/6]])"
      ]
     },
     "execution_count": 68,
     "metadata": {},
     "output_type": "execute_result"
    }
   ],
   "source": [
    "Xls=X.T*(X*X.T).inv()*y\n",
    "Xls"
   ]
  },
  {
   "cell_type": "code",
   "execution_count": 69,
   "metadata": {
    "collapsed": false
   },
   "outputs": [
    {
     "data": {
      "text/plain": [
       "sqrt(3)/6"
      ]
     },
     "execution_count": 69,
     "metadata": {},
     "output_type": "execute_result"
    }
   ],
   "source": [
    "beta.subs(sol).subs(b2,S.Rational(1,6)).norm(2)"
   ]
  },
  {
   "cell_type": "code",
   "execution_count": 70,
   "metadata": {
    "collapsed": false
   },
   "outputs": [],
   "source": [
    "l = S.symbols('l',real=True)\n",
    "obj=(X*beta-y).norm(2)**2 + beta.norm(2)**2*l"
   ]
  },
  {
   "cell_type": "code",
   "execution_count": 71,
   "metadata": {
    "collapsed": false
   },
   "outputs": [
    {
     "data": {
      "text/plain": [
       "[2*b0*l + 20*b0 + 28*b1 + 36*b2 - 14,\n",
       " 28*b0 + 2*b1*l + 40*b1 + 52*b2 - 20,\n",
       " 36*b0 + 52*b1 + 2*b2*l + 68*b2 - 26,\n",
       " b0**2 + b1**2 + b2**2]"
      ]
     },
     "execution_count": 71,
     "metadata": {},
     "output_type": "execute_result"
    }
   ],
   "source": [
    "[obj.diff(i) for i in beta]+[obj.diff(l)]"
   ]
  },
  {
   "cell_type": "code",
   "execution_count": 72,
   "metadata": {
    "collapsed": false
   },
   "outputs": [
    {
     "name": "stdout",
     "output_type": "stream",
     "text": [
      "[[ 0.0428641   0.06113005  0.07939601]]\n",
      "-2.73741728273\n"
     ]
    }
   ],
   "source": [
    "from sklearn.linear_model import Ridge\n",
    "clf = Ridge(alpha=100.0,fit_intercept=False)\n",
    "X = np.array(X).astype(float)\n",
    "y = np.array(y).astype(float)\n",
    "clf.fit(X,y)\n",
    "print clf.coef_\n",
    "print clf.score(X,y)"
   ]
  },
  {
   "cell_type": "code",
   "execution_count": 73,
   "metadata": {
    "collapsed": false
   },
   "outputs": [
    {
     "data": {
      "text/plain": [
       "array([ 0.0428641 ,  0.06113005,  0.079396  ])"
      ]
     },
     "execution_count": 73,
     "metadata": {},
     "output_type": "execute_result"
    }
   ],
   "source": [
    "from scipy.optimize import minimize\n",
    "foo=S.lambdify((b0,b1,b2),obj.subs(l,100))\n",
    "goo = lambda x:foo(x[0],x[1],x[2])\n",
    "out=minimize(goo,[.1,.2,.3])\n",
    "out.x"
   ]
  },
  {
   "cell_type": "code",
   "execution_count": 74,
   "metadata": {
    "collapsed": true
   },
   "outputs": [],
   "source": [
    "import numpy as np\n",
    "from numpy import cos, pi\n",
    "np.random.seed(1234567)\n",
    "xi = np.linspace(0,1,100)[:,None]\n",
    "xin = np.linspace(0,1,20)[:,None]\n",
    "xin= np.sort(np.random.choice(xi.flatten(),20,replace=False))[:,None]\n",
    "f0 = 1 # init frequency\n",
    "BW = 2\n",
    "y = cos(2*pi*(f0*xin+(BW/2.0)*xin**2))\n",
    "yi = cos(2*pi*(f0*xi+(BW/2.0)*xi**2))"
   ]
  },
  {
   "cell_type": "code",
   "execution_count": 75,
   "metadata": {
    "collapsed": false
   },
   "outputs": [
    {
     "data": {
      "text/plain": [
       "<matplotlib.text.Text at 0x3f79a8d0>"
      ]
     },
     "execution_count": 75,
     "metadata": {},
     "output_type": "execute_result"
    },
    {
     "data": {
      "image/png": "[encoded data removed]",
      "text/plain": [
       "<matplotlib.figure.Figure at 0x38784748>"
      ]
     },
     "metadata": {},
     "output_type": "display_data"
    }
   ],
   "source": [
    "from sklearn.preprocessing import PolynomialFeatures\n",
    "from sklearn.linear_model import LinearRegression\n",
    "\n",
    "qfit = PolynomialFeatures(degree=8) # quadratic\n",
    "Xq = qfit.fit_transform(xin)\n",
    "Xiq = qfit.fit_transform(xi)\n",
    "\n",
    "lr=LinearRegression() # create linear model \n",
    "lr.fit(Xq,y)\n",
    "\n",
    "fig,axs=subplots(2,1,sharex=True,sharey=True)\n",
    "fig.set_size_inches((6,6))\n",
    "ax=axs[0]\n",
    "# ax.plot(xin,lr.predict(Xq).flatten())\n",
    "# ax.plot(xin,y,'-o')\n",
    "ax.plot(xi,yi,label='true',ls='--',color='k')\n",
    "ax.plot(xi,lr.predict(Xiq),label=r'$\\beta_{LS}$',color='k')\n",
    "ax.legend(loc=0)\n",
    "ax.set_ylabel(r'$\\hat{y}$  ',fontsize=22,rotation='horizontal')\n",
    "ax.fill_between(xi.flatten(),yi.flatten(),lr.predict(Xiq).flatten(),color='gray',alpha=.3)\n",
    "\n",
    "\n",
    "clf = Ridge(alpha=1e-9,fit_intercept=False)\n",
    "clf.fit(Xq,y)\n",
    "ax=axs[1]\n",
    "# ax.plot(xin,clf.predict(Xq).flatten())\n",
    "# ax.plot(xin,y,'-o')\n",
    "ax.plot(xi,yi,label=r'true',ls='--',color='k')\n",
    "ax.plot(xi,clf.predict(Xiq),label=r'$\\beta_{RR}$',color='k')\n",
    "ax.legend(loc=(0.3,0.6))\n",
    "ax.fill_between(xi.flatten(),yi.flatten(),clf.predict(Xiq).flatten(),color='gray',alpha=.3)\n",
    "\n",
    "ax.plot(xin, -1.5+np.array([0.01]*len(xin)), '|', color='k',mew=3)\n",
    "ax.set_xlabel('$x$',fontsize=22)\n",
    "ax.set_ylabel(r'$\\hat{y}$  ',fontsize=22,rotation='horizontal')"
   ]
  },
  {
   "cell_type": "markdown",
   "metadata": {
    "collapsed": true
   },
   "source": [
    "## Lasso regression"
   ]
  },
  {
   "cell_type": "code",
   "execution_count": 76,
   "metadata": {
    "collapsed": true
   },
   "outputs": [],
   "source": [
    "from sklearn.linear_model import Lasso\n",
    "X = S.Matrix([[1,2,3],\n",
    "               [3,4,5]])\n",
    "y = S.Matrix([[1,2]]).T"
   ]
  },
  {
   "cell_type": "code",
   "execution_count": 77,
   "metadata": {
    "collapsed": false
   },
   "outputs": [
    {
     "name": "stdout",
     "output_type": "stream",
     "text": [
      "[ 0.          0.          0.32352941]\n",
      "0.705882352941\n"
     ]
    }
   ],
   "source": [
    "clf = Lasso(alpha=1,fit_intercept=False)\n",
    "X = np.array(X).astype(float)\n",
    "y = np.array(y).astype(float)\n",
    "clf.fit(X,y)\n",
    "print clf.coef_\n",
    "print clf.score(X,y)"
   ]
  },
  {
   "cell_type": "code",
   "execution_count": 78,
   "metadata": {
    "collapsed": true
   },
   "outputs": [],
   "source": [
    "obj=1/4.*(X*beta-y).norm(2)**2 + beta.norm(1)*l"
   ]
  },
  {
   "cell_type": "code",
   "execution_count": 79,
   "metadata": {
    "collapsed": false
   },
   "outputs": [
    {
     "data": {
      "text/plain": [
       "array([ 0. ,  0. ,  0.3])"
      ]
     },
     "execution_count": 79,
     "metadata": {},
     "output_type": "execute_result"
    }
   ],
   "source": [
    "foo=S.lambdify((b0,b1,b2),obj.subs(l,1))\n",
    "goo = lambda x:foo(x[0],x[1],x[2])\n",
    "out=minimize(goo,[.0,.0,.3])\n",
    "out.x"
   ]
  },
  {
   "cell_type": "code",
   "execution_count": 80,
   "metadata": {
    "collapsed": false
   },
   "outputs": [
    {
     "name": "stdout",
     "output_type": "stream",
     "text": [
      "Optimization terminated successfully.\n",
      "         Current function value: 0.360294\n",
      "         Iterations: 116\n",
      "         Function evaluations: 209\n"
     ]
    },
    {
     "data": {
      "text/plain": [
       "array([  2.80468908e-07,   3.65488573e-07,   3.23618557e-01])"
      ]
     },
     "execution_count": 80,
     "metadata": {},
     "output_type": "execute_result"
    }
   ],
   "source": [
    "from scipy.optimize import fmin\n",
    "fmin(goo,[.1,.1,.1])"
   ]
  },
  {
   "cell_type": "code",
   "execution_count": 81,
   "metadata": {
    "collapsed": false
   },
   "outputs": [],
   "source": [
    "o=[]\n",
    "scores=[]\n",
    "alphas= np.logspace(-3,0,10)\n",
    "for a in alphas:\n",
    "    clf = Lasso(alpha=a,fit_intercept=False)\n",
    "    clf.fit(X,y)\n",
    "    o.append(clf.coef_)\n",
    "    scores.append(clf.score(X,y))\n"
   ]
  },
  {
   "cell_type": "code",
   "execution_count": 85,
   "metadata": {
    "collapsed": false
   },
   "outputs": [
    {
     "data": {
      "image/png": "[encoded data removed]",
      "text/plain": [
       "<matplotlib.figure.Figure at 0x40148c50>"
      ]
     },
     "metadata": {},
     "output_type": "display_data"
    }
   ],
   "source": [
    "fig,ax=subplots()\n",
    "k=vstack(o)\n",
    "ls = ['-','--',':','-.']\n",
    "for i in range(k.shape[1]):\n",
    "    ax.semilogx(alphas,k[:,i],'o-',\n",
    "                label='coef %d'%(i),\n",
    "                color='k',ls=ls[i],\n",
    "                alpha=.8,\n",
    "                )\n",
    "_=ax.axis(ymin=-1e-1)\n",
    "_=ax.legend(loc=0)\n",
    "_=ax.set_xlabel(r'$\\alpha$',fontsize=18)\n",
    "_=ax.set_ylabel(r'Coefficient magnitude',fontsize=16)\n"
   ]
  },
  {
   "cell_type": "code",
   "execution_count": 27,
   "metadata": {
    "collapsed": true
   },
   "outputs": [],
   "source": [
    "import numpy as np\n",
    "from numpy import cos, pi\n",
    "np.random.seed(1234567)\n",
    "xi = np.linspace(0,1,100)[:,None]\n",
    "xin = np.linspace(0,1,20)[:,None]\n",
    "xin= np.sort(np.random.choice(xi.flatten(),20,replace=False))[:,None]\n",
    "f0 = 1 # init frequency\n",
    "BW = 2\n",
    "y = cos(2*pi*(f0*xin+(BW/2.0)*xin**2))\n",
    "yi = cos(2*pi*(f0*xi+(BW/2.0)*xi**2))"
   ]
  },
  {
   "cell_type": "code",
   "execution_count": 28,
   "metadata": {
    "collapsed": false
   },
   "outputs": [
    {
     "name": "stderr",
     "output_type": "stream",
     "text": [
      "D:\\Miniconda64\\lib\\site-packages\\sklearn\\linear_model\\coordinate_descent.py:444: ConvergenceWarning: Objective did not converge. You might want to increase the number of iterations\n",
      "  ConvergenceWarning)\n"
     ]
    },
    {
     "data": {
      "text/plain": [
       "<matplotlib.text.Text at 0x3ce67b38>"
      ]
     },
     "execution_count": 28,
     "metadata": {},
     "output_type": "execute_result"
    },
    {
     "data": {
      "image/png": "[encoded data removed]",
      "text/plain": [
       "<matplotlib.figure.Figure at 0x38784898>"
      ]
     },
     "metadata": {},
     "output_type": "display_data"
    }
   ],
   "source": [
    "qfit = PolynomialFeatures(degree=15) # quadratic\n",
    "Xq = qfit.fit_transform(xin)\n",
    "Xiq = qfit.fit_transform(xi)\n",
    "\n",
    "lr=LinearRegression() # create linear model \n",
    "lr.fit(Xq,y)\n",
    "\n",
    "fig,axs=subplots(2,1,sharex=True,sharey=True)\n",
    "fig.set_size_inches((6,6))\n",
    "ax=axs[0]\n",
    "# ax.plot(xin,lr.predict(Xq).flatten())\n",
    "# ax.plot(xin,y,'-o')\n",
    "ax.plot(xi,yi,label='true',ls='--',color='k')\n",
    "ax.plot(xi,lr.predict(Xiq),label=r'$\\beta_{LS}$',color='k')\n",
    "ax.legend(loc=0)\n",
    "ax.set_ylabel(r'$\\hat{y}$  ',fontsize=22,rotation='horizontal')\n",
    "ax.fill_between(xi.flatten(),yi.flatten(),lr.predict(Xiq).flatten(),color='gray',alpha=.3)\n",
    "\n",
    "clf = Lasso(alpha=1e-3,fit_intercept=False)\n",
    "clf.fit(Xq,y)\n",
    "ax=axs[1]\n",
    "# ax.plot(xin,clf.predict(Xq).flatten())\n",
    "# ax.plot(xin,y,'-o')\n",
    "ax.plot(xi,yi,label=r'true',ls='--',color='k')\n",
    "ax.plot(xi,clf.predict(Xiq),label=r'$\\beta_{RR}$',color='k')\n",
    "ax.legend(loc=(0.3,0.6))\n",
    "ax.fill_between(xi.flatten(),yi.flatten(),clf.predict(Xiq).flatten(),color='gray',alpha=.3)\n",
    "\n",
    "ax.plot(xin, -1.5+np.array([0.01]*len(xin)), '|', color='k',mew=3)\n",
    "ax.set_xlabel('$x$',fontsize=22)\n",
    "ax.set_ylabel(r'$\\hat{y}$  ',fontsize=22,rotation='horizontal')"
   ]
  },
  {
   "cell_type": "code",
   "execution_count": null,
   "metadata": {
    "collapsed": true
   },
   "outputs": [],
   "source": []
  },
  {
   "cell_type": "code",
   "execution_count": null,
   "metadata": {
    "collapsed": true
   },
   "outputs": [],
   "source": []
  }
 ],
 "metadata": {
  "kernelspec": {
   "display_name": "Python 2",
   "language": "python",
   "name": "python2"
  },
  "language_info": {
   "codemirror_mode": {
    "name": "ipython",
    "version": 2
   },
   "file_extension": ".py",
   "mimetype": "text/x-python",
   "name": "python",
   "nbconvert_exporter": "python",
   "pygments_lexer": "ipython2",
   "version": "2.7.10"
  }
 },
 "nbformat": 4,
 "nbformat_minor": 0
}
