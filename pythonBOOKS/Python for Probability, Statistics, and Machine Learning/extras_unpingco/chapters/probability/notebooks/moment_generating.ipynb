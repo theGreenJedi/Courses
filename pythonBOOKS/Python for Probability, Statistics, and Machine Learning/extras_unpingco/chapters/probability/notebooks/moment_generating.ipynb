{
 "cells": [
  {
   "cell_type": "markdown",
   "metadata": {},
   "source": [
    "# Moment Generating Functions\n",
    "\n",
    "Generating moments usually involves integrals that are extremely\n",
    "difficult to compute. Moment generating functions make this much, much\n",
    "easier. The moment generating function is defined as,"
   ]
  },
  {
   "cell_type": "markdown",
   "metadata": {},
   "source": [
    "$$\n",
    "M(t) = \\mathbb{E}(\\exp(t X))\n",
    "$$"
   ]
  },
  {
   "cell_type": "markdown",
   "metadata": {},
   "source": [
    " The first moment is the mean, which we can easily compute from \n",
    "$M(t)$ as,"
   ]
  },
  {
   "cell_type": "markdown",
   "metadata": {},
   "source": [
    "$$\n",
    "\\begin{align*}\n",
    "\\frac{dM(t)}{dt} &= \\frac{d}{dt}\\mathbb{E}(\\exp(t X)) = \\mathbb{E}\\frac{d}{dt}(\\exp(t X))\\\\\\\n",
    "                 &= \\mathbb{E}(X \\exp(t X))  \\\\\\\n",
    "\\end{align*}\n",
    "$$"
   ]
  },
  {
   "cell_type": "markdown",
   "metadata": {},
   "source": [
    " Now, we have to set $t=0$ and we have the mean,"
   ]
  },
  {
   "cell_type": "markdown",
   "metadata": {},
   "source": [
    "$$\n",
    "M^{(1)}(0) = \\mathbb{E}(X)\n",
    "$$"
   ]
  },
  {
   "cell_type": "markdown",
   "metadata": {},
   "source": [
    " continuing this derivative process again, we obtain the second moment as,"
   ]
  },
  {
   "cell_type": "markdown",
   "metadata": {},
   "source": [
    "$$\n",
    "\\begin{align*}\n",
    "M^{(2)}(t) &= \\mathbb{E}(X^2\\exp(t X)) \\\\\\\n",
    "M^{(2)}(0) &= \\mathbb{E}(X^2)\n",
    "\\end{align*}\n",
    "$$"
   ]
  },
  {
   "cell_type": "markdown",
   "metadata": {},
   "source": [
    " With this in hand, we can easily compute the variance as,"
   ]
  },
  {
   "cell_type": "markdown",
   "metadata": {},
   "source": [
    "$$\n",
    "\\mathbb{V}(X) = \\mathbb{E}(X^2) -\\mathbb{E}(X)^2=M^{(2)}(0)-M^{(1)}(0)^2\n",
    "$$"
   ]
  },
  {
   "cell_type": "markdown",
   "metadata": {},
   "source": [
    "**Example.** Returning to our favorite binomial distribution, let's compute\n",
    "some moments using Sympy."
   ]
  },
  {
   "cell_type": "code",
   "execution_count": 1,
   "metadata": {
    "collapsed": false
   },
   "outputs": [],
   "source": [
    "import sympy as S\n",
    "from sympy import stats\n",
    "p,t = S.symbols('p t',positive=True)\n",
    "x=stats.Binomial('x',10,p)\n",
    "mgf = stats.E(S.exp(t*x))"
   ]
  },
  {
   "cell_type": "markdown",
   "metadata": {},
   "source": [
    " Now, let's compute the first moment (aka, mean) using\n",
    "the usual integration method and using moment generating functions,"
   ]
  },
  {
   "cell_type": "code",
   "execution_count": 2,
   "metadata": {
    "collapsed": false
   },
   "outputs": [
    {
     "name": "stdout",
     "output_type": "stream",
     "text": [
      "10*p\n",
      "10*p\n"
     ]
    }
   ],
   "source": [
    "print S.simplify(stats.E(x))\n",
    "print S.simplify(S.diff(mgf,t).subs(t,0))"
   ]
  },
  {
   "cell_type": "markdown",
   "metadata": {},
   "source": [
    " Otherwise, we can compute this directly as follows,"
   ]
  },
  {
   "cell_type": "code",
   "execution_count": 3,
   "metadata": {
    "collapsed": false
   },
   "outputs": [
    {
     "name": "stdout",
     "output_type": "stream",
     "text": [
      "10*p\n",
      "10*p*(9*p + 1)\n"
     ]
    }
   ],
   "source": [
    "print S.simplify(stats.moment(x,1)) # mean\n",
    "print S.simplify(stats.moment(x,2)) # 2nd moment"
   ]
  },
  {
   "cell_type": "markdown",
   "metadata": {},
   "source": [
    " In general, the moment generating function for the binomial\n",
    "distribution is the following,"
   ]
  },
  {
   "cell_type": "markdown",
   "metadata": {},
   "source": [
    "$$\n",
    "M_X(t) = \\left(p\\left(e^t-1\\right)+1\\right) ^n\n",
    "$$"
   ]
  },
  {
   "cell_type": "markdown",
   "metadata": {},
   "source": [
    "A key aspect of moment generating functions is that they are unique identifiers\n",
    "of probability distributions.  By the uniqueness theorem, given two random\n",
    "variables $X$ and $Y$, if their respective moment generating functions are\n",
    "equal, then the corresponding probability distribution functions are equal.\n",
    "\n",
    "**Example.** Let's use the uniqueness theorem to consider the following\n",
    "problem. Suppose we know that the probability distribution of $X$ given $U=p$\n",
    "is binomial with parameters $n$ and $p$. For example, suppose $X$ represents the\n",
    "number of heads in $n$ coin flips, given the probability of heads is $p$. We \n",
    "want to find the unconditional distribution of $X$. Writing out the\n",
    "moment generating function as the following,"
   ]
  },
  {
   "cell_type": "markdown",
   "metadata": {},
   "source": [
    "$$\n",
    "\\mathbb{E}(e^{t X}\\vert U=p) = (p e^t + 1-p)^n\n",
    "$$"
   ]
  },
  {
   "cell_type": "markdown",
   "metadata": {},
   "source": [
    " Because $U$ is uniform over the unit interval, we can \n",
    "integrate this part out"
   ]
  },
  {
   "cell_type": "markdown",
   "metadata": {},
   "source": [
    "$$\n",
    "\\begin{align*}\n",
    "\\mathbb{E}(e^{t X}) &=\\int_0^1 (p e^t + 1-p)^n dp \\\\\\\n",
    "                    &= \\frac{1}{n+1} \\frac{e^{t(n+1)-1}}{e^t-1} \\\\\\\n",
    "                    &= \\frac{1}{n+1} (1+e^t+e^{2t}+e^{3t}+\\ldots+e^{n t}) \\\\\\\n",
    "\\end{align*}\n",
    "$$"
   ]
  },
  {
   "cell_type": "markdown",
   "metadata": {},
   "source": [
    " Thus, the moment generating function of $X$ corresponds to that of a\n",
    "random variable that is equally likely to be any of the values $0,1,\\ldots,n$.\n",
    "This is another way of saying that the distribution of $X$ is discrete uniform\n",
    "over $\\lbrace 0,1,\\ldots,n \\rbrace$. Concretely, suppose we have a box of coins\n",
    "whose individual probability of heads is unknown and  that we  dump the box on\n",
    "the floor, spilling all of the coins. If we then count the number of coins facing\n",
    "heads-up, that distribution is uniform.\n",
    "\n",
    "Moment generating functions are useful for deriving distributions of\n",
    "sums of independent random variables. Suppose $X_1$ and $X_2$ are independent\n",
    "and $Y=X_1+X_2$. Then, the moment generating function of $Y$ follows\n",
    "from the properties of the expectation,"
   ]
  },
  {
   "cell_type": "markdown",
   "metadata": {},
   "source": [
    "$$\n",
    "\\begin{align*}\n",
    "M_Y(t) &= \\mathbb{E}(e^{t Y}) =  \\mathbb{E}(e^{t X_1 + t X_2}) \\\\\\\n",
    "       &= \\mathbb{E}(e^{t X_1} e^{ t X_2 }) =\\mathbb{E}(e^{t X_1})\\mathbb{E}(e^{t X_2}) \\\\\\\n",
    "       &= M_{X_1}(t)M_{X_2}(t)\n",
    "\\end{align*}\n",
    "$$"
   ]
  },
  {
   "cell_type": "markdown",
   "metadata": {},
   "source": [
    "**Example.** Suppose we have two normally distributed random variables, \n",
    "$X_1\\sim \\mathcal{N}(\\mu_1,\\sigma_1)$ and $ X_2\\sim \\mathcal{N}(\\mu_2,\\sigma_2)$.\n",
    "We can save some tedium by exploring this in Sympy,"
   ]
  },
  {
   "cell_type": "code",
   "execution_count": 4,
   "metadata": {
    "collapsed": false
   },
   "outputs": [],
   "source": [
    "S.var('x:2',real=True)\n",
    "S.var('mu:2',real=True)\n",
    "S.var('sigma:2',positive=True)\n",
    "S.var('t',positive=True)\n",
    "x0=stats.Normal(x0,mu0,sigma0)\n",
    "x1=stats.Normal(x1,mu1,sigma1)"
   ]
  },
  {
   "cell_type": "markdown",
   "metadata": {},
   "source": [
    "**Programming Tip.**\n",
    "\n",
    "The `S.var` function defines the variable and injects it into the global\n",
    "namespace. This is sheer laziness. It is more expressive to define variables\n",
    "explicitly as in `x = S.symbols('x')`. Also notice that we used the Greek names\n",
    "for the `mu` and `sigma` variables.  This will come in handy later when we want\n",
    "to render the equations in the Jupyter/IPython notebook which understands\n",
    "how to typeset these symbols in \\LaTeX{}. The `var('x:2')` creates two\n",
    "symbols, `x0` and `x1`. Using the colon this way makes it easy to generate\n",
    "array-like sequences of symbols.\n",
    "\n",
    "\n",
    "\n",
    " In the next block we compute the moment generating functions"
   ]
  },
  {
   "cell_type": "code",
   "execution_count": 5,
   "metadata": {
    "collapsed": false
   },
   "outputs": [],
   "source": [
    "mgf0=S.simplify(stats.E(S.exp(t*x0)))\n",
    "mgf1=S.simplify(stats.E(S.exp(t*x1)))\n",
    "mgfY=S.simplify(mgf0*mgf1)"
   ]
  },
  {
   "cell_type": "markdown",
   "metadata": {},
   "source": [
    " The moment generating functions an individual normally distributed\n",
    "random variable is the following,"
   ]
  },
  {
   "cell_type": "markdown",
   "metadata": {},
   "source": [
    "$$\n",
    "e^{\\mu_{0} t + \\frac{\\sigma_{0}^{2} t^{2}}{2}}\n",
    "$$"
   ]
  },
  {
   "cell_type": "markdown",
   "metadata": {},
   "source": [
    " Note the coefficients of $t$. To show that $Y$ is normally\n",
    "distributed, we want to match the moment generating function of $Y$ to this\n",
    "format. The following is the form of the moment generating function of $Y$,"
   ]
  },
  {
   "cell_type": "markdown",
   "metadata": {},
   "source": [
    "$$\n",
    "M_Y(t)=e^{\\frac{t}{2} \\left(2 \\mu_{0} + 2 \\mu_{1} + \\sigma_{0}^{2} t + \\sigma_{1}^{2} t\\right)}\n",
    "$$"
   ]
  },
  {
   "cell_type": "markdown",
   "metadata": {},
   "source": [
    " We can extract the exponent using Sympy and collect on the $t$\n",
    "variable using the following code,"
   ]
  },
  {
   "cell_type": "code",
   "execution_count": 6,
   "metadata": {
    "collapsed": false
   },
   "outputs": [
    {
     "data": {
      "text/plain": [
       "t**2*(sigma0**2/2 + sigma1**2/2) + t*(mu0 + mu1)"
      ]
     },
     "execution_count": 6,
     "metadata": {},
     "output_type": "execute_result"
    }
   ],
   "source": [
    "S.collect(S.expand(S.log(mgfY)),t)"
   ]
  },
  {
   "cell_type": "markdown",
   "metadata": {},
   "source": [
    " Thus, by the uniqueness theorem, $Y$ is normally distributed with\n",
    "$\\mu_Y=\\mu_0+\\mu_1$ and $\\sigma_Y^2=\\sigma_0^2+\\sigma_1^2$.\n",
    "\n",
    "**Programming Tip.**\n",
    "\n",
    "When using the Jupyter/IPython notebook, you can do `S.init_printing` to get\n",
    "the mathematical typesetting to work in the browser. Otherwise, if you want to\n",
    "keep the raw expression and to selectively render to \\LaTeX{}, then you can\n",
    "`from IPython.display import Math`, and then use `Math(S.latex(expr))` to see\n",
    "the typeset version of the expression."
   ]
  }
 ],
 "metadata": {
  "kernelspec": {
   "display_name": "Python 2",
   "language": "python",
   "name": "python2"
  },
  "language_info": {
   "codemirror_mode": {
    "name": "ipython",
    "version": 2
   },
   "file_extension": ".py",
   "mimetype": "text/x-python",
   "name": "python",
   "nbconvert_exporter": "python",
   "pygments_lexer": "ipython2",
   "version": "2.7.11"
  }
 },
 "nbformat": 4,
 "nbformat_minor": 0
}
