{
 "cells": [
  {
   "cell_type": "code",
   "execution_count": 1,
   "metadata": {
    "collapsed": false
   },
   "outputs": [
    {
     "name": "stdout",
     "output_type": "stream",
     "text": [
      "Populating the interactive namespace from numpy and matplotlib\n"
     ]
    }
   ],
   "source": [
    "from __future__ import division\n",
    "%pylab  inline"
   ]
  },
  {
   "cell_type": "markdown",
   "metadata": {},
   "source": [
    "# Worked Examples of Conditional Expectation and Mean Square Error Optimization\n",
    "\n",
    "Brzezniak [[brzezniak1999basic]](#brzezniak1999basic) is a great book because it approaches\n",
    "conditional expectation through a sequence of exercises, which is what we are\n",
    "trying to do here. The main difference is that Brzezniak takes a more abstract\n",
    "measure-theoretic approach to the same problems. Note that you *do* need to\n",
    "grasp  measure theory for advanced areas in  probability, but for what we have\n",
    "covered so far, working the same problems in his text using our methods is\n",
    "illuminating. It always helps to have more than one way to solve *any* problem.\n",
    "I urge you to get a copy of his book or at least look at some pages on Google\n",
    "Books. I have numbered the examples corresponding to the book and tried to\n",
    "follow its notation.  \n",
    "\n",
    "## Example\n",
    "\n",
    "This is Example 2.1 from Brzezniak.  Three coins, 10p, 20p and 50p are tossed.\n",
    "The values of those coins that land heads up are totaled. What is the expected\n",
    "total given that two coins have landed heads up?  In this case we have\n",
    "we want to compute $\\mathbb{E}(\\xi|\\eta)$ where"
   ]
  },
  {
   "cell_type": "markdown",
   "metadata": {},
   "source": [
    "$$\n",
    "\\xi := 10 X_{10} + 20 X_{20} +50 X_{50}\n",
    "$$"
   ]
  },
  {
   "cell_type": "markdown",
   "metadata": {},
   "source": [
    " where $X_i \\in \\{0,1\\} $ and where $X_{10}$ is the\n",
    "Bernoulli-distributed random variable corresponding to the 10p coin (and so\n",
    "on). Thus, $\\xi$ represents the total value of the heads-up coins. The $\\eta$\n",
    "represents the condition that only two of the three coins are heads-up,"
   ]
  },
  {
   "cell_type": "markdown",
   "metadata": {},
   "source": [
    "$$\n",
    "\\eta := X_{10} X_{20} (1-X_{50})+ (1-X_{10}) X_{20} X_{50}+ X_{10} (1-X_{20}) X_{50}\n",
    "$$"
   ]
  },
  {
   "cell_type": "markdown",
   "metadata": {},
   "source": [
    " and is a function that is non-zero *only* when two of the three coins lands\n",
    "heads-up. Each triple term catches each of these three possibilities. For example,\n",
    "the first term equals one when the 10p and 20p are heads up  and the 50p is\n",
    "heads down. The  the remaining terms are zero.\n",
    "\n",
    "To compute the conditional expectation, we want to find a function $h$ of\n",
    "$\\eta$ that minimizes the mean-squared-error (MSE),"
   ]
  },
  {
   "cell_type": "markdown",
   "metadata": {},
   "source": [
    "$$\n",
    "\\mbox{MSE}= \\sum_{X\\in\\{0,1\\}^3} \\frac{1}{2^3} (\\xi-h(\\eta))^2\n",
    "$$"
   ]
  },
  {
   "cell_type": "markdown",
   "metadata": {},
   "source": [
    " where the sum is taken over all possible triples of outcomes for \n",
    "$\\{X_{10},X_{20} ,X_{50}\\}$ because each\n",
    "of the three coins has a $\\frac{1}{2}$ chance of coming up heads.\n",
    "\n",
    "Now, the question boils down to how can we characterize the function $h(\\eta)$?\n",
    "Note that $\\eta \\mapsto \\{0,1\\}$ so $h$ takes on only two values.  So, the\n",
    "orthogonal inner product condition is the following:"
   ]
  },
  {
   "cell_type": "markdown",
   "metadata": {},
   "source": [
    "$$\n",
    "\\langle \\xi -h(\\eta), \\eta \\rangle = 0\n",
    "$$"
   ]
  },
  {
   "cell_type": "markdown",
   "metadata": {},
   "source": [
    " But, because are only interested in $\\eta=1$, this simplifies to"
   ]
  },
  {
   "cell_type": "markdown",
   "metadata": {},
   "source": [
    "$$\n",
    "\\begin{align*}\n",
    "\\langle \\xi -h(1), 1 \\rangle &= 0  \\\\\\\n",
    "\\langle \\xi,1  \\rangle &=\\langle h(1),1  \\rangle  \n",
    "\\end{align*}\n",
    "$$"
   ]
  },
  {
   "cell_type": "markdown",
   "metadata": {},
   "source": [
    " This doesn't look so hard to evaluate but we have to compute the\n",
    "integral over the set where $\\eta=1$. In other words, we need the set of\n",
    "triples $\\{X_{10},X_{20},X_{50}\\}$ where $\\eta=1$. That is, we can\n",
    "compute"
   ]
  },
  {
   "cell_type": "markdown",
   "metadata": {},
   "source": [
    "$$\n",
    "\\int_{\\{\\eta=1\\}} \\xi dX = h(1)  \\int_{\\{\\eta=1\\}} dX\n",
    "$$"
   ]
  },
  {
   "cell_type": "markdown",
   "metadata": {},
   "source": [
    "  which is what Brzezniak does. Instead, we can define\n",
    "$h(\\eta)=\\alpha \\eta$ and then find $\\alpha$. Re-writing the\n",
    "orthogonal condition gives"
   ]
  },
  {
   "cell_type": "markdown",
   "metadata": {},
   "source": [
    "$$\n",
    "\\begin{align*}\n",
    "\\langle \\xi -\\eta, \\alpha\\eta \\rangle &= 0  \\\\\\\n",
    "\\langle \\xi, \\eta \\rangle &= \\alpha \\langle \\eta,\\eta \\rangle  \\\\\\\n",
    "\\alpha &= \\frac{\\langle \\xi, \\eta \\rangle}{\\langle \\eta,\\eta \\rangle} \n",
    "\\end{align*}\n",
    "$$"
   ]
  },
  {
   "cell_type": "markdown",
   "metadata": {},
   "source": [
    " where"
   ]
  },
  {
   "cell_type": "markdown",
   "metadata": {},
   "source": [
    "$$\n",
    "\\langle \\xi, \\eta \\rangle =\\sum_{X\\in\\{0,1\\}^3} \\frac{1}{2^3}(\\xi\\eta)\n",
    "$$"
   ]
  },
  {
   "cell_type": "markdown",
   "metadata": {},
   "source": [
    " Note that we can just sweep over all triples\n",
    "$\\{X_{10},X_{20},X_{50}\\}$ because the definition of $h(\\eta)$ zeros out when\n",
    "$\\eta=0$ anyway.  All we have to do is plug everything in and solve. This\n",
    "tedious job is perfect for Sympy."
   ]
  },
  {
   "cell_type": "code",
   "execution_count": 2,
   "metadata": {
    "collapsed": false
   },
   "outputs": [
    {
     "name": "stdout",
     "output_type": "stream",
     "text": [
      "160/3\n"
     ]
    }
   ],
   "source": [
    "import sympy as S\n",
    "X10,X20,X50 = S.symbols('X10,X20,X50',real=True)\n",
    "xi  = 10*X10+20*X20+50*X50 \n",
    "eta = X10*X20*(1-X50)+X10*(1-X20)*(X50)+(1-X10)*X20*(X50)\n",
    "num=S.summation(xi*eta,(X10,0,1),(X20,0,1),(X50,0,1))\n",
    "den=S.summation(eta*eta,(X10,0,1),(X20,0,1),(X50,0,1))\n",
    "alpha=num/den\n",
    "print alpha # alpha=160/3"
   ]
  },
  {
   "cell_type": "markdown",
   "metadata": {},
   "source": [
    "  This means that"
   ]
  },
  {
   "cell_type": "markdown",
   "metadata": {},
   "source": [
    "$$\n",
    "\\mathbb{E}(\\xi|\\eta) = \\frac{160}{3} \\eta\n",
    "$$"
   ]
  },
  {
   "cell_type": "markdown",
   "metadata": {},
   "source": [
    " which we can check with a quick simulation"
   ]
  },
  {
   "cell_type": "code",
   "execution_count": 3,
   "metadata": {
    "collapsed": false
   },
   "outputs": [],
   "source": [
    ">>> import pandas as pd\n",
    ">>> d = pd.DataFrame(columns=['X10','X20','X50'])\n",
    ">>> d.X10 = np.random.randint(0,2,1000)\n",
    ">>> d.X10 = np.random.randint(0,2,1000)\n",
    ">>> d.X20 = np.random.randint(0,2,1000)\n",
    ">>> d.X50 = np.random.randint(0,2,1000)"
   ]
  },
  {
   "cell_type": "markdown",
   "metadata": {},
   "source": [
    "**Programming Tip.**\n",
    "\n",
    "The code above creates an empty Pandas data frame with the named columns.\n",
    "The next four lines assigns values to each of the columns.\n",
    "\n",
    "\n",
    "\n",
    " The code above simulates flipping the three coins 1000\n",
    "times. Each column of the dataframe is either `0` or `1`\n",
    "corresponding to heads-down or heads-up, respectively. The\n",
    "condition is that two of the three coins have landed heads-up.\n",
    "Next, we can group the columns according to their sums. Note that\n",
    "the sum can only be in $\\{0,1,2,3\\}$ corresponding to `0`\n",
    "heads-up, `1` heads-up, and so on."
   ]
  },
  {
   "cell_type": "code",
   "execution_count": 4,
   "metadata": {
    "collapsed": false
   },
   "outputs": [
    {
     "ename": "ImportError",
     "evalue": "'numexpr' not found. Cannot use engine='numexpr' for query/eval if 'numexpr' is not installed",
     "output_type": "error",
     "traceback": [
      "\u001b[1;31m---------------------------------------------------------------------------\u001b[0m",
      "\u001b[1;31mImportError\u001b[0m                               Traceback (most recent call last)",
      "\u001b[1;32m<ipython-input-4-e67a7e0d57c6>\u001b[0m in \u001b[0;36m<module>\u001b[1;34m()\u001b[0m\n\u001b[1;32m----> 1\u001b[1;33m \u001b[0mgrp\u001b[0m\u001b[1;33m=\u001b[0m\u001b[0md\u001b[0m\u001b[1;33m.\u001b[0m\u001b[0mgroupby\u001b[0m\u001b[1;33m(\u001b[0m\u001b[0md\u001b[0m\u001b[1;33m.\u001b[0m\u001b[0meval\u001b[0m\u001b[1;33m(\u001b[0m\u001b[1;34m'X10+X20+X50'\u001b[0m\u001b[1;33m)\u001b[0m\u001b[1;33m)\u001b[0m\u001b[1;33m\u001b[0m\u001b[0m\n\u001b[0m",
      "\u001b[1;32mD:\\Miniconda64\\envs\\test_ipynb\\lib\\site-packages\\pandas\\core\\frame.pyc\u001b[0m in \u001b[0;36meval\u001b[1;34m(self, expr, **kwargs)\u001b[0m\n\u001b[0;32m   2157\u001b[0m         \u001b[0mkwargs\u001b[0m\u001b[1;33m[\u001b[0m\u001b[1;34m'target'\u001b[0m\u001b[1;33m]\u001b[0m \u001b[1;33m=\u001b[0m \u001b[0mself\u001b[0m\u001b[1;33m\u001b[0m\u001b[0m\n\u001b[0;32m   2158\u001b[0m         \u001b[0mkwargs\u001b[0m\u001b[1;33m[\u001b[0m\u001b[1;34m'resolvers'\u001b[0m\u001b[1;33m]\u001b[0m \u001b[1;33m=\u001b[0m \u001b[0mkwargs\u001b[0m\u001b[1;33m.\u001b[0m\u001b[0mget\u001b[0m\u001b[1;33m(\u001b[0m\u001b[1;34m'resolvers'\u001b[0m\u001b[1;33m,\u001b[0m \u001b[1;33m(\u001b[0m\u001b[1;33m)\u001b[0m\u001b[1;33m)\u001b[0m \u001b[1;33m+\u001b[0m \u001b[0mresolvers\u001b[0m\u001b[1;33m\u001b[0m\u001b[0m\n\u001b[1;32m-> 2159\u001b[1;33m         \u001b[1;32mreturn\u001b[0m \u001b[0m_eval\u001b[0m\u001b[1;33m(\u001b[0m\u001b[0mexpr\u001b[0m\u001b[1;33m,\u001b[0m \u001b[1;33m**\u001b[0m\u001b[0mkwargs\u001b[0m\u001b[1;33m)\u001b[0m\u001b[1;33m\u001b[0m\u001b[0m\n\u001b[0m\u001b[0;32m   2160\u001b[0m \u001b[1;33m\u001b[0m\u001b[0m\n\u001b[0;32m   2161\u001b[0m     \u001b[1;32mdef\u001b[0m \u001b[0mselect_dtypes\u001b[0m\u001b[1;33m(\u001b[0m\u001b[0mself\u001b[0m\u001b[1;33m,\u001b[0m \u001b[0minclude\u001b[0m\u001b[1;33m=\u001b[0m\u001b[0mNone\u001b[0m\u001b[1;33m,\u001b[0m \u001b[0mexclude\u001b[0m\u001b[1;33m=\u001b[0m\u001b[0mNone\u001b[0m\u001b[1;33m)\u001b[0m\u001b[1;33m:\u001b[0m\u001b[1;33m\u001b[0m\u001b[0m\n",
      "\u001b[1;32mD:\\Miniconda64\\envs\\test_ipynb\\lib\\site-packages\\pandas\\computation\\eval.pyc\u001b[0m in \u001b[0;36meval\u001b[1;34m(expr, parser, engine, truediv, local_dict, global_dict, resolvers, level, target)\u001b[0m\n\u001b[0;32m    216\u001b[0m     \"\"\"\n\u001b[0;32m    217\u001b[0m     \u001b[0mexpr\u001b[0m \u001b[1;33m=\u001b[0m \u001b[0m_convert_expression\u001b[0m\u001b[1;33m(\u001b[0m\u001b[0mexpr\u001b[0m\u001b[1;33m)\u001b[0m\u001b[1;33m\u001b[0m\u001b[0m\n\u001b[1;32m--> 218\u001b[1;33m     \u001b[0m_check_engine\u001b[0m\u001b[1;33m(\u001b[0m\u001b[0mengine\u001b[0m\u001b[1;33m)\u001b[0m\u001b[1;33m\u001b[0m\u001b[0m\n\u001b[0m\u001b[0;32m    219\u001b[0m     \u001b[0m_check_parser\u001b[0m\u001b[1;33m(\u001b[0m\u001b[0mparser\u001b[0m\u001b[1;33m)\u001b[0m\u001b[1;33m\u001b[0m\u001b[0m\n\u001b[0;32m    220\u001b[0m     \u001b[0m_check_resolvers\u001b[0m\u001b[1;33m(\u001b[0m\u001b[0mresolvers\u001b[0m\u001b[1;33m)\u001b[0m\u001b[1;33m\u001b[0m\u001b[0m\n",
      "\u001b[1;32mD:\\Miniconda64\\envs\\test_ipynb\\lib\\site-packages\\pandas\\computation\\eval.pyc\u001b[0m in \u001b[0;36m_check_engine\u001b[1;34m(engine)\u001b[0m\n\u001b[0;32m     38\u001b[0m             \u001b[1;32mimport\u001b[0m \u001b[0mnumexpr\u001b[0m\u001b[1;33m\u001b[0m\u001b[0m\n\u001b[0;32m     39\u001b[0m         \u001b[1;32mexcept\u001b[0m \u001b[0mImportError\u001b[0m\u001b[1;33m:\u001b[0m\u001b[1;33m\u001b[0m\u001b[0m\n\u001b[1;32m---> 40\u001b[1;33m             raise ImportError(\"'numexpr' not found. Cannot use \"\n\u001b[0m\u001b[0;32m     41\u001b[0m                               \u001b[1;34m\"engine='numexpr' for query/eval \"\u001b[0m\u001b[1;33m\u001b[0m\u001b[0m\n\u001b[0;32m     42\u001b[0m                               \"if 'numexpr' is not installed\")\n",
      "\u001b[1;31mImportError\u001b[0m: 'numexpr' not found. Cannot use engine='numexpr' for query/eval if 'numexpr' is not installed"
     ]
    }
   ],
   "source": [
    ">>> grp=d.groupby(d.eval('X10+X20+X50'))"
   ]
  },
  {
   "cell_type": "markdown",
   "metadata": {},
   "source": [
    "**Programming Tip.**\n",
    "\n",
    "The `eval` function of the Pandas data frame takes the named\n",
    "columns and evaluates the given formula. At the time of this\n",
    "writing, only simple formulas involving primitive operations are\n",
    "possible.\n",
    "\n",
    "\n",
    "\n",
    " Next, we can get the `2` group, which corresponds to\n",
    "exactly two coins having landed heads up and then evaluate\n",
    "the sum of the values of the coins. Finally, we can take the mean \n",
    "of these sums."
   ]
  },
  {
   "cell_type": "code",
   "execution_count": null,
   "metadata": {
    "collapsed": false
   },
   "outputs": [],
   "source": [
    ">>> grp.get_group(2).eval('10*X10+20*X20+50*X50').mean()\n",
    "52.719999999999999"
   ]
  },
  {
   "cell_type": "markdown",
   "metadata": {},
   "source": [
    " The result is close to `160/3=53.33` which supports\n",
    "the analytic result. The following code shows that we\n",
    "can accomplish the same simulation using pure Numpy."
   ]
  },
  {
   "cell_type": "code",
   "execution_count": null,
   "metadata": {
    "collapsed": false
   },
   "outputs": [],
   "source": [
    ">>> import numpy as np\n",
    ">>> from numpy import array\n",
    ">>> x=np.random.randint(0,2,(3,1000))\n",
    ">>> print np.dot(x[:,x.sum(axis=0)==2].T,array([10,20,50])).mean()\n",
    "52.698998418555611"
   ]
  },
  {
   "cell_type": "markdown",
   "metadata": {},
   "source": [
    " In this case, we used the Numpy dot product to compute\n",
    "the value of the heads-up coins. The `sum(axis=0)==2` part selects\n",
    "the columns that correspond to two heads-up coins. \n",
    "\n",
    "Still another way to get at the same problem is to forego the\n",
    "random sampling part and just consider all possibilities\n",
    "exhaustively using the `itertools` module in Python's standard\n",
    "library."
   ]
  },
  {
   "cell_type": "code",
   "execution_count": null,
   "metadata": {
    "collapsed": false
   },
   "outputs": [],
   "source": [
    ">>> import itertools as it\n",
    ">>> list(it.product((0,1),(0,1),(0,1)))\n",
    "[(0, 0, 0),\n",
    " (0, 0, 1),\n",
    " (0, 1, 0),\n",
    " (0, 1, 1),\n",
    " (1, 0, 0),\n",
    " (1, 0, 1),\n",
    " (1, 1, 0),\n",
    " (1, 1, 1)]"
   ]
  },
  {
   "cell_type": "markdown",
   "metadata": {},
   "source": [
    " Note that we need to call `list` above in order to trigger the\n",
    "iteration in `it.product`. This is because the `itertools` module is\n",
    "generator-based so does not actually *do* the iteration until it is iterated\n",
    "over (by `list` in this case).   This shows all possible triples\n",
    "$(X_{10},X_{20},X_{50})$ where `0` and `1` indicate heads-down and heads-up,\n",
    "respectively. The next step is to filter out the cases that correspond to two\n",
    "heads-up coins."
   ]
  },
  {
   "cell_type": "code",
   "execution_count": null,
   "metadata": {
    "collapsed": false
   },
   "outputs": [],
   "source": [
    ">>> list(it.ifilter(lambda i:sum(i)==2,it.product((0,1),(0,1),(0,1))))\n",
    "[(0, 1, 1), (1, 0, 1), (1, 1, 0)]"
   ]
  },
  {
   "cell_type": "markdown",
   "metadata": {},
   "source": [
    " Next, we need to compute the sum of the coins and combine\n",
    "the prior code."
   ]
  },
  {
   "cell_type": "code",
   "execution_count": null,
   "metadata": {
    "collapsed": false
   },
   "outputs": [],
   "source": [
    ">>> map(lambda k:10*k[0]+20*k[1]+50*k[2],\n",
    "...                   it.ifilter(lambda i:sum(i)==2,\n",
    "...                              it.product((0,1),(0,1),(0,1))))\n",
    "[70, 60, 30]"
   ]
  },
  {
   "cell_type": "markdown",
   "metadata": {},
   "source": [
    " The mean of the output is `53.33`, which is yet another way to get\n",
    "the same result. For this example, we demonstrated the full spectrum of\n",
    "approaches made possible using Sympy, Numpy, and Pandas. It is always valuable\n",
    "to have multiple ways of approaching the same problem and cross-checking\n",
    "the result. \n",
    "\n",
    "## Example\n",
    "\n",
    "This is Example 2.2 from Brzezniak. Three coins, 10p, 20p and 50p are tossed as\n",
    "before. What is the conditional expectation of the total amount shown by the\n",
    "three coins given the total amount shown by the 10p and 20p coins only?  For\n",
    "this problem,"
   ]
  },
  {
   "cell_type": "markdown",
   "metadata": {},
   "source": [
    "$$\n",
    "\\begin{align*}\n",
    "\\xi := & 10 X_{10} + 20 X_{20} +50 X_{50}  \\\\\\\n",
    "\\eta :=& 30 X_{10} X_{20} + 20 (1-X_{10}) X_{20} + 10 X_{10} (1-X_{20}) \n",
    "\\end{align*}\n",
    "$$"
   ]
  },
  {
   "cell_type": "markdown",
   "metadata": {},
   "source": [
    " which takes on four values $\\eta \\mapsto \\{0,10,20,30\\}$ and only\n",
    "considers the 10p and 20p coins.  In contrast to the last problem, here we are\n",
    "interested in $h(\\eta)$ for all of the values of $\\eta$. Naturally, there are\n",
    "only four values for $h(\\eta)$ corresponding to each of these four values.\n",
    "Let's first consider $\\eta=10$. The orthogonal condition is then"
   ]
  },
  {
   "cell_type": "markdown",
   "metadata": {},
   "source": [
    "$$\n",
    "\\langle\\xi-h(10),10\\rangle = 0\n",
    "$$"
   ]
  },
  {
   "cell_type": "markdown",
   "metadata": {},
   "source": [
    " The domain for $\\eta=10$ is $\\{X_{10}=1,X_{20}=0,X_{50}\\}$ which we\n",
    "can integrate out of the expectation below,"
   ]
  },
  {
   "cell_type": "markdown",
   "metadata": {},
   "source": [
    "$$\n",
    "\\begin{align*}\n",
    "\\mathbb{E}_{\\{X_{10}=1,X_{20}=0,X_{50}\\}}(\\xi-h(10)) 10  &=0 \\\\\\ \n",
    "\\mathbb{E}_{\\{X_{50}\\}}(10-h(10)+50 X_{50}) &=0  \\\\\\\n",
    "10-h(10) + 25 &=0 \n",
    "\\end{align*}\n",
    "$$"
   ]
  },
  {
   "cell_type": "markdown",
   "metadata": {},
   "source": [
    " which gives $h(10)=35$. Repeating the same process for $\\eta \\in\n",
    "\\{20,30\\}$ gives $h(20)=45$ and $h(30)=55$, respectively.  This is the approach\n",
    "Brzezniak takes. On the other hand, we can just look at affine functions,\n",
    "$h(\\eta) = a \\eta + b $ and use brute-force calculus."
   ]
  },
  {
   "cell_type": "code",
   "execution_count": null,
   "metadata": {
    "collapsed": false
   },
   "outputs": [],
   "source": [
    ">>> from sympy.abc import a,b\n",
    ">>> h = a*eta + b\n",
    ">>> eta = X10*X20*30 + X10*(1-X20)*(10)+ (1-X10)*X20*(20)\n",
    ">>> MSE=S.summation((xi-h)**2*S.Rational(1,8),(X10,0,1),\n",
    "...                 (X20,0,1),\n",
    "...                 (X50,0,1))\n",
    ">>> sol=S.solve([S.diff(MSE,a),S.diff(MSE,b)],(a,b))\n",
    ">>> print sol\n",
    "{b: 25, a: 1}"
   ]
  },
  {
   "cell_type": "markdown",
   "metadata": {},
   "source": [
    "**Programming Tip.**\n",
    "\n",
    "The `Rational` function from Sympy code expresses a rational number that Sympy\n",
    "is able to manipulate as such. This is different that specifying a fraction\n",
    "like `1/8.`, which Python would automatically compute as a floating point\n",
    "number (i.e., `0.125`). The advantage of using `Rational` is that Sympy can\n",
    "later produce rational numbers as output, which are sometimes easier to make\n",
    "sense of.\n",
    "\n",
    "\n",
    "\n",
    "  This means that"
   ]
  },
  {
   "cell_type": "markdown",
   "metadata": {},
   "source": [
    "<!-- Equation labels as ordinary links -->\n",
    "<div id=\"_auto1\"></div>\n",
    "\n",
    "$$\n",
    "\\begin{equation}\n",
    "\\mathbb{E}(\\xi|\\eta) = 25+\\eta\n",
    "\\label{_auto1} \\tag{1}\n",
    "\\end{equation}\n",
    "$$"
   ]
  },
  {
   "cell_type": "markdown",
   "metadata": {},
   "source": [
    "  since $\\eta$ takes on only four values, $\\{0,10,20,30\\}$, we can\n",
    "write this out explicitly as"
   ]
  },
  {
   "cell_type": "markdown",
   "metadata": {},
   "source": [
    "<!-- Equation labels as ordinary links -->\n",
    "<div id=\"eq:ex21sol\"></div>\n",
    "\n",
    "$$\n",
    "\\begin{equation}\n",
    "\\mathbb{E}(\\xi|\\eta) =\n",
    "\\begin{cases} \n",
    "25 & \\text{for}\\: \\eta=0  \\\\\\\n",
    "35 & \\text{for}\\: \\eta=10 \\\\\\\n",
    "45 & \\text{for}\\: \\eta=20 \\\\\\\n",
    "55 & \\text{for}\\: \\eta=30 \n",
    "\\end{cases}\n",
    "\\end{equation}\n",
    "\\label{eq:ex21sol} \\tag{2}\n",
    "$$"
   ]
  },
  {
   "cell_type": "markdown",
   "metadata": {},
   "source": [
    " Alternatively, we can use orthogonal inner products to write out\n",
    "the following conditions:"
   ]
  },
  {
   "cell_type": "markdown",
   "metadata": {},
   "source": [
    "<!-- Equation labels as ordinary links -->\n",
    "<div id=\"eq:ex22a\"></div>\n",
    "\n",
    "$$\n",
    "\\begin{equation}\n",
    "\\label{eq:ex22a} \\tag{3}\n",
    "\\langle \\xi-h(\\eta), \\eta \\rangle = 0\n",
    "\\end{equation}\n",
    "$$"
   ]
  },
  {
   "cell_type": "markdown",
   "metadata": {},
   "source": [
    "<!-- Equation labels as ordinary links -->\n",
    "<div id=\"eq:ex22b\"></div>\n",
    "\n",
    "$$\n",
    "\\begin{equation}\n",
    "\\label{eq:ex22b} \\tag{4}\n",
    "\\langle \\xi-h(\\eta),1\\rangle = 0\n",
    "\\end{equation}\n",
    "$$"
   ]
  },
  {
   "cell_type": "markdown",
   "metadata": {},
   "source": [
    " Writing these out and solving for $a$ and  $b$ is tedious and\n",
    "a perfect job for Sympy. Starting with Equation ref{eq:ex22a},"
   ]
  },
  {
   "cell_type": "code",
   "execution_count": null,
   "metadata": {
    "collapsed": false
   },
   "outputs": [],
   "source": [
    ">>> expr = expr=S.expand((xi-h)*eta)\n",
    ">>> print expr\n",
    "-100*X10**2*a + 100*X10**2 - 400*X10*X20*a + 400*X10*X20 + 500*X10*X50 \n",
    "- 10*X10*b - 400*X20**2*a + 400*X20**2 + 1000*X20*X50 - 20*X20*b"
   ]
  },
  {
   "cell_type": "markdown",
   "metadata": {},
   "source": [
    " and then because $\\mathbb{E}(X_i^2)=1/2=\\mathbb{E}(X_i)$, we make the\n",
    "following substitutions"
   ]
  },
  {
   "cell_type": "code",
   "execution_count": null,
   "metadata": {
    "collapsed": false
   },
   "outputs": [],
   "source": [
    ">>> expr.xreplace({X10**2:0.5, X20**2:0.5,X10:0.5,X20:0.5,X50:0.5})\n",
    "-350.0*a - 15.0*b + 725.0"
   ]
  },
  {
   "cell_type": "markdown",
   "metadata": {},
   "source": [
    " We can do this for the other orthogonal inner product in Equation\n",
    "ref{eq:ex22b} as follows,\n",
    "\n",
    "**Programming Tip.**\n",
    "\n",
    "Because Sympy symbols are hashable, they can be used as keys in Python\n",
    "dictionaries as in the `xreplace` function above."
   ]
  },
  {
   "cell_type": "code",
   "execution_count": null,
   "metadata": {
    "collapsed": false
   },
   "outputs": [],
   "source": [
    ">>> print S.expand((xi-h)*1).xreplace({X10**2:0.5, \n",
    "...                                    X20**2:0.5,\n",
    "...                                    X10:0.5,\n",
    "...                                    X20:0.5,\n",
    "...                                    X50:0.5})\n",
    "-15.0*a - b + 40.0"
   ]
  },
  {
   "cell_type": "markdown",
   "metadata": {},
   "source": [
    " Then, combining this result with the previous one and solving \n",
    "for `a` and `b` gives,"
   ]
  },
  {
   "cell_type": "code",
   "execution_count": null,
   "metadata": {
    "collapsed": false
   },
   "outputs": [],
   "source": [
    ">>> print S.solve([-350.0*a-15.0*b+725.0,-15.0*a-b+40.0])\n",
    "{b: 25.0000000000000, a: 1.00000000000000}"
   ]
  },
  {
   "cell_type": "markdown",
   "metadata": {},
   "source": [
    " which again gives us the final solution,"
   ]
  },
  {
   "cell_type": "markdown",
   "metadata": {},
   "source": [
    "$$\n",
    "\\mathbb{E}(\\xi|\\eta) = 25+ \\eta\n",
    "$$"
   ]
  },
  {
   "cell_type": "markdown",
   "metadata": {},
   "source": [
    "  The following is a quick simulation to demonstrate this. We can\n",
    "build on the Pandas dataframe we used for the last example and create\n",
    "a new column for the sum of the 10p and 20p coins, as shown below."
   ]
  },
  {
   "cell_type": "code",
   "execution_count": null,
   "metadata": {
    "collapsed": false
   },
   "outputs": [],
   "source": [
    ">>> d['sm'] = d.eval('X10*10+X20*20')"
   ]
  },
  {
   "cell_type": "markdown",
   "metadata": {},
   "source": [
    " We can group this by the values of this sum,"
   ]
  },
  {
   "cell_type": "code",
   "execution_count": null,
   "metadata": {
    "collapsed": false
   },
   "outputs": [],
   "source": [
    ">>> d.groupby('sm').mean()\n"
   ]
  },
  {
   "cell_type": "markdown",
   "metadata": {},
   "source": [
    " But we want the expectation of the value of the coins"
   ]
  },
  {
   "cell_type": "code",
   "execution_count": null,
   "metadata": {
    "collapsed": false
   },
   "outputs": [],
   "source": [
    ">>> d.groupby('sm').mean().eval('10*X10+20*X20+50*X50')\n"
   ]
  },
  {
   "cell_type": "markdown",
   "metadata": {},
   "source": [
    " which is very close to our analytical result in Equation ref{eq:ex21sol}.\n",
    "\n",
    "## Example\n",
    "\n",
    "This is Example 2.3 paraphrased from Brzezniak. Given $X$ uniformly distributed\n",
    "on $[0,1]$, find $\\mathbb{E}(\\xi|\\eta)$ where"
   ]
  },
  {
   "cell_type": "markdown",
   "metadata": {},
   "source": [
    "$$\n",
    "\\xi(x) = 2 x^2\n",
    "$$"
   ]
  },
  {
   "cell_type": "markdown",
   "metadata": {},
   "source": [
    "$$\n",
    "\\eta(x) =  \n",
    "\\begin{cases} \n",
    "1 & \\mbox{if } x \\in [0,1/3]  \\\\\\\n",
    "2 & \\mbox{if } x \\in (1/3,2/3)  \\\\\\\n",
    "0 & \\mbox{if } x \\in (2/3,1]\n",
    "\\end{cases}\n",
    "$$"
   ]
  },
  {
   "cell_type": "markdown",
   "metadata": {},
   "source": [
    " Note that this problem is different from the previous two because the\n",
    "sets that characterize $\\eta$ are intervals instead of discrete points.\n",
    "Nonetheless, we will eventually have three values for $h(\\eta)$ because $\\eta\n",
    "\\mapsto \\{0,1,2\\}$. For $\\eta=1$, we have the orthogonal conditions,"
   ]
  },
  {
   "cell_type": "markdown",
   "metadata": {},
   "source": [
    "$$\n",
    "\\langle \\xi-h(1),1\\rangle = 0\n",
    "$$"
   ]
  },
  {
   "cell_type": "markdown",
   "metadata": {},
   "source": [
    " which boils down to"
   ]
  },
  {
   "cell_type": "markdown",
   "metadata": {},
   "source": [
    "$$\n",
    "\\mathbb{E}_{\\{x \\in [0,1/3]\\}}(\\xi-h(1))=0\n",
    "$$"
   ]
  },
  {
   "cell_type": "markdown",
   "metadata": {},
   "source": [
    "$$\n",
    "\\int_0^{\\frac{1}{3}}(2 x^2-h(1))dx = 0\n",
    "$$"
   ]
  },
  {
   "cell_type": "markdown",
   "metadata": {},
   "source": [
    " and then by solving this for $h(1)$ gives $h(1)=2/24$. This is the way\n",
    "Brzezniak works this problem. Alternatively, we can use $h(\\eta) =  a + b\\eta\n",
    "+ c\\eta^2$ and brute force calculus.  Note the the `Piecewise` object in\n",
    "`sympy` is not complete at this point in its development, so we'll have to be\n",
    "exceptionally verbose in the following,"
   ]
  },
  {
   "cell_type": "code",
   "execution_count": null,
   "metadata": {
    "collapsed": false
   },
   "outputs": [],
   "source": [
    "x,c,b,a=S.symbols('x,c,b,a')\n",
    "xi = 2*x**2\n",
    "\n",
    "eta=S.Piecewise((1,S.And(S.Gt(x,0),\n",
    "                         S.Lt(x,S.Rational(1,3)))),  #  0 < x < 1/3\n",
    "                (2,S.And(S.Gt(x,S.Rational(1,3)),\n",
    "                         S.Lt(x,S.Rational(2,3)))), # 1/3 < x < 2/3,\n",
    "                (0,S.And(S.Gt(x,S.Rational(2,3)),\n",
    "                         S.Lt(x,1)))) # 1/3 < x < 2/3\n",
    "h = a + b*eta + c*eta**2 \n",
    "J=S.integrate((xi-h)**2,(x,0,1))\n",
    "sol=S.solve([S.diff(J,a), \n",
    "             S.diff(J,b),\n",
    "             S.diff(J,c),\n",
    "            ],\n",
    "            (a,b,c))"
   ]
  },
  {
   "cell_type": "code",
   "execution_count": null,
   "metadata": {
    "collapsed": false
   },
   "outputs": [],
   "source": [
    ">>> print sol"
   ]
  },
  {
   "cell_type": "code",
   "execution_count": null,
   "metadata": {
    "collapsed": false
   },
   "outputs": [],
   "source": [
    ">>> print S.piecewise_fold(h.subs(sol))"
   ]
  },
  {
   "cell_type": "raw",
   "metadata": {
    "collapsed": false
   },
   "source": [
    "Piecewise((2/27,And(x<1/3,x>0)),\n",
    "          (14/27,And(x<2/3,x>1/3)),(38/27,And(x<1,x>2/3)))"
   ]
  },
  {
   "cell_type": "markdown",
   "metadata": {},
   "source": [
    "  Thus, collecting this result gives:"
   ]
  },
  {
   "cell_type": "markdown",
   "metadata": {},
   "source": [
    "$$\n",
    "\\mathbb{E}(\\xi|\\eta) = \\frac{38}{27} - \\frac{20}{9}\\eta + \\frac{8}{9} \\eta^2\n",
    "$$"
   ]
  },
  {
   "cell_type": "markdown",
   "metadata": {},
   "source": [
    "  which can be re-written as a piecewise function of x,"
   ]
  },
  {
   "cell_type": "markdown",
   "metadata": {},
   "source": [
    "<!-- Equation labels as ordinary links -->\n",
    "<div id=\"eq:ex23a\"></div>\n",
    "\n",
    "$$\n",
    "\\begin{equation}\n",
    "\\mathbb{E}(\\xi|\\eta(x)) =\\begin{cases} \\frac{2}{27} & \\text{for}\\: 0 < x < \\frac{1}{3} \\\\\\frac{14}{27} & \\text{for}\\: \\frac{1}{3} < x < \\frac{2}{3} \\\\\\frac{38}{27} & \\text{for}\\: \\frac{2}{3}<x < 1 \\end{cases} \n",
    "\\end{equation}\n",
    "\\label{eq:ex23a} \\tag{5}\n",
    "$$"
   ]
  },
  {
   "cell_type": "markdown",
   "metadata": {},
   "source": [
    "Alternatively, we can use the orthogonal inner product conditions directly by\n",
    "choosing $h(\\eta)=c+\\eta b +\\eta^2 a$,"
   ]
  },
  {
   "cell_type": "markdown",
   "metadata": {},
   "source": [
    "<!-- Equation labels as ordinary links -->\n",
    "<div id=\"eq:ex23b\"></div>\n",
    "\n",
    "$$\n",
    "\\begin{align*}\n",
    "\\langle \\xi-h(\\eta),1\\rangle = 0 \\\\\\\n",
    "\\langle \\xi-h(\\eta),\\eta\\rangle = 0 \\\\\\\n",
    "\\langle \\xi-h(\\eta),\\eta^2\\rangle = 0 \n",
    "\\end{align*}\n",
    "\\label{eq:ex23b} \\tag{6}\n",
    "$$"
   ]
  },
  {
   "cell_type": "markdown",
   "metadata": {},
   "source": [
    " and then solving for $a$,$b$, and $c$."
   ]
  },
  {
   "cell_type": "code",
   "execution_count": null,
   "metadata": {
    "collapsed": false
   },
   "outputs": [],
   "source": [
    ">>> x,a,b,c,eta = S.symbols('x,a,b,c,eta',real=True)\n",
    ">>> xi  = 2*x**2\n",
    ">>> eta=S.Piecewise((1,S.And(S.Gt(x,0),\n",
    "...                      S.Lt(x,S.Rational(1,3)))),  #  0 < x < 1/3\n",
    "...             (2,S.And(S.Gt(x,S.Rational(1,3)),\n",
    "...                      S.Lt(x,S.Rational(2,3)))), # 1/3 < x < 2/3,\n",
    "...             (0,S.And(S.Gt(x,S.Rational(2,3)),\n",
    "...                      S.Lt(x,1)))) # 1/3 < x < 2/3\n",
    "\n",
    ">>> h = c+b*eta+a*eta**2"
   ]
  },
  {
   "cell_type": "markdown",
   "metadata": {},
   "source": [
    " Then, the orthogonal conditions become,"
   ]
  },
  {
   "cell_type": "code",
   "execution_count": null,
   "metadata": {
    "collapsed": false
   },
   "outputs": [],
   "source": [
    ">>> S.integrate((xi-h)*1,(x,0,1))\n",
    "-5*a/3 - b - c + 2/3\n",
    ">>> S.integrate((xi-h)*eta,(x,0,1))\n",
    "-3*a - 5*b/3 - c + 10/27\n",
    ">>> S.integrate((xi-h)*eta**2,(x,0,1))\n",
    "-17*a/3 - 3*b - 5*c/3 + 58/81"
   ]
  },
  {
   "cell_type": "markdown",
   "metadata": {},
   "source": [
    " Now, we just combine the three equations and solve\n",
    "for the parameters,"
   ]
  },
  {
   "cell_type": "code",
   "execution_count": null,
   "metadata": {
    "collapsed": false
   },
   "outputs": [],
   "source": [
    ">>> eqs=[ -5*a/3 - b - c + 2/3,\n",
    "...   -3*a - 5*b/3 - c + 10/27,\n",
    "...   -17*a/3 - 3*b - 5*c/3 + 58/81]\n",
    ">>> sol=S.solve(eqs)\n",
    ">>> print sol\n",
    "{a: 0.888888888888889, c: 1.40740740740741, b: -2.22222222222222}"
   ]
  },
  {
   "cell_type": "markdown",
   "metadata": {},
   "source": [
    " We can assemble the final result by substituting in the solution,"
   ]
  },
  {
   "cell_type": "code",
   "execution_count": null,
   "metadata": {
    "collapsed": false
   },
   "outputs": [],
   "source": [
    ">>> print S.piecewise_fold(h.subs(sol))"
   ]
  },
  {
   "cell_type": "raw",
   "metadata": {
    "collapsed": false
   },
   "source": [
    "Piecewise((0.0740740740740740, And (x < 1/3, x > 0)),\n",
    "           (0.518518518518518, And (x < 2/3, x > 1/3)),\n",
    "            (1.40740740740741, And (x < 1, x > 2/3)))"
   ]
  },
  {
   "cell_type": "markdown",
   "metadata": {},
   "source": [
    " which is the same as our analytic result in Equation ref{eq:ex23a},\n",
    "just in decimal format.\n",
    "\n",
    "**Programming Tip.**\n",
    "\n",
    "The definition of Sympy's piecewise function is verbose because of the way\n",
    "Python parses inequality statements. As of this writing, this has not been\n",
    "reconciled in Sympy, so we have to use the verbose declaration.\n",
    "\n",
    "\n",
    "\n",
    "To reinforce our result, let's do a quick simulation using Pandas."
   ]
  },
  {
   "cell_type": "code",
   "execution_count": null,
   "metadata": {
    "collapsed": false
   },
   "outputs": [],
   "source": [
    ">>> d = pd.DataFrame(columns=['x','eta','xi'])\n",
    ">>> d.x = np.random.rand(1000)\n",
    ">>> d.xi = 2*d.x**2"
   ]
  },
  {
   "cell_type": "markdown",
   "metadata": {},
   "source": [
    " Now, we can use the `pd.cut` function to group the `x`\n",
    "values in the following,"
   ]
  },
  {
   "cell_type": "code",
   "execution_count": null,
   "metadata": {
    "collapsed": false
   },
   "outputs": [],
   "source": [
    ">>> pd.cut(d.x,[0,1/3,2/3,1]).head()"
   ]
  },
  {
   "cell_type": "raw",
   "metadata": {
    "collapsed": false
   },
   "source": [
    "0        (0.667, 1]\n",
    "1        (0, 0.333]\n",
    "2        (0.667, 1]\n",
    "3    (0.333, 0.667]\n",
    "4    (0.333, 0.667]\n",
    "Name: x, dtype: category\n",
    "Categories (3, object): [(0, 0.333] < (0.333, 0.667] < (0.667, 1]]"
   ]
  },
  {
   "cell_type": "markdown",
   "metadata": {},
   "source": [
    " Note that the `head()` call above is only to limit the printout shown.\n",
    "The categories listed are each of the intervals for `eta` that we specified\n",
    "using the `[0,1/3,2/3,1]` list. Now that we know how to use `pd.cut`, we\n",
    "can just compute the mean on each group as shown below,"
   ]
  },
  {
   "cell_type": "code",
   "execution_count": null,
   "metadata": {
    "collapsed": false
   },
   "outputs": [],
   "source": [
    ">>> d.groupby(pd.cut(d.x,[0,1/3,2/3,1])).mean()['xi']"
   ]
  },
  {
   "cell_type": "raw",
   "metadata": {
    "collapsed": false
   },
   "source": [
    "(0, 0.333]        0.069240\n",
    "(0.333, 0.667]    0.520154\n",
    "(0.667, 1]        1.409747\n",
    "Name: xi, dtype: float64"
   ]
  },
  {
   "cell_type": "markdown",
   "metadata": {},
   "source": [
    " which is pretty close to our analytic result in Equation\n",
    "ref{eq:ex23a}. Alternatively, `sympy.stats` has some limited tools for the same\n",
    "calculation."
   ]
  },
  {
   "cell_type": "code",
   "execution_count": null,
   "metadata": {
    "collapsed": false
   },
   "outputs": [],
   "source": [
    ">>> from sympy.stats import E, Uniform\n",
    ">>> x=Uniform('x',0,1)\n",
    ">>> E(2*x**2,S.And(x < S.Rational(1,3), x > 0))\n",
    "2/27\n",
    ">>> E(2*x**2,S.And(x < S.Rational(2,3), x > S.Rational(1,3)))\n",
    "14/27\n",
    ">>> E(2*x**2,S.And(x < 1, x > S.Rational(2,3)))\n",
    "38/27"
   ]
  },
  {
   "cell_type": "markdown",
   "metadata": {},
   "source": [
    " which again gives the same result still another way.\n",
    "\n",
    "## Example\n",
    "\n",
    "This is Example 2.4 from Brzezniak. Find $\\mathbb{E}(\\xi|\\eta)$ for"
   ]
  },
  {
   "cell_type": "markdown",
   "metadata": {},
   "source": [
    "$$\n",
    "\\xi(x) = 2 x^2\n",
    "$$"
   ]
  },
  {
   "cell_type": "markdown",
   "metadata": {},
   "source": [
    "<!-- Equation labels as ordinary links -->\n",
    "<div id=\"eq:ex24\"></div>\n",
    "\n",
    "$$\n",
    "\\eta =\n",
    "\\begin{cases}2 & \\mbox{if } 0 \\le x < \\frac{1}{2} \\\\ x & \\mbox{if } \\frac{1}{2} < x \\le 1 \\end{cases} \n",
    "\n",
    "\\label{eq:ex24} \\tag{7}\n",
    "$$"
   ]
  },
  {
   "cell_type": "markdown",
   "metadata": {},
   "source": [
    " Once again, $X$ is uniformly distributed on the unit interval. Note\n",
    "that $\\eta$ is no longer discrete for every domain. For the domain $0 <x <\n",
    "1/2$, $h(2)$ takes on only one value, say, $h_0$. For this domain, the\n",
    "orthogonal condition becomes,"
   ]
  },
  {
   "cell_type": "markdown",
   "metadata": {},
   "source": [
    "$$\n",
    "\\mathbb{E}_{\\{\\eta=2\\}}((\\xi(x)-h_0)2)=0\n",
    "$$"
   ]
  },
  {
   "cell_type": "markdown",
   "metadata": {},
   "source": [
    " which simplifies to,"
   ]
  },
  {
   "cell_type": "markdown",
   "metadata": {},
   "source": [
    "$$\n",
    "\\begin{align*}\n",
    "\\int_0^{1/2} 2 x^2-h_0 dx &= 0 \\\\\\\n",
    "\\int_0^{1/2} 2 x^2 dx &= \\int_0^{1/2} h_0 dx \\\\\\\n",
    "h_0 &= 2 \\int_0^{1/2} 2 x^2 dx \\\\\\\n",
    "h_0 &= \\frac{1}{6}\n",
    "\\end{align*}\n",
    "$$"
   ]
  },
  {
   "cell_type": "markdown",
   "metadata": {},
   "source": [
    "For the other domain where $\\{\\eta=x\\}$ in Equation ref{eq:ex24}, we again \n",
    "use the orthogonal condition,"
   ]
  },
  {
   "cell_type": "markdown",
   "metadata": {},
   "source": [
    "$$\n",
    "\\begin{align*}\n",
    "\\mathbb{E}_{\\{\\eta=x\\}}((\\xi(x)-h(x))x)&=0 \\\\\\\n",
    "\\int_{1/2}^1 (2x^2-h(x)) x dx &=0 \\\\\\\n",
    "h(x) &= 2x^2\n",
    "\\end{align*}\n",
    "$$"
   ]
  },
  {
   "cell_type": "markdown",
   "metadata": {},
   "source": [
    " Assembling the solution gives,"
   ]
  },
  {
   "cell_type": "markdown",
   "metadata": {},
   "source": [
    "$$\n",
    "\\mathbb{E}(\\xi|\\eta(x)) =\\begin{cases} \\frac{1}{6} & \\text{for}\\: 0 \\le x < \\frac{1}{2} \\\\ 2 x^2 & \\text{for}\\: \\frac{1}{2} < x \\le 1 \\end{cases}\n",
    "$$"
   ]
  },
  {
   "cell_type": "markdown",
   "metadata": {},
   "source": [
    " although  this result is not explicitly written as a function of $\\eta$.  \n",
    "\n",
    "## Example\n",
    "\n",
    "This is Exercise 2.6 in Brzezniak. Find $\\mathbb{E}(\\xi|\\eta)$ where"
   ]
  },
  {
   "cell_type": "markdown",
   "metadata": {},
   "source": [
    "$$\n",
    "\\xi(x) = 2 x^2\n",
    "$$"
   ]
  },
  {
   "cell_type": "markdown",
   "metadata": {},
   "source": [
    "$$\n",
    "\\eta(x) = 1 - \\lvert 2 x-1 \\rvert\n",
    "$$"
   ]
  },
  {
   "cell_type": "markdown",
   "metadata": {},
   "source": [
    " and $X$ is uniformly distributed in the unit interval. We\n",
    "can write this out as a piecewise function in the following,"
   ]
  },
  {
   "cell_type": "markdown",
   "metadata": {},
   "source": [
    "$$\n",
    "\\eta =\\begin{cases} 2 x & \\text{for}\\: 0 \\le x < \\frac{1}{2} \\\\ 2 -2x & \\text{for}\\: \\frac{1}{2} < x \\le 1 \\end{cases}\n",
    "$$"
   ]
  },
  {
   "cell_type": "markdown",
   "metadata": {},
   "source": [
    " The discontinuity is at $x=1/2$. Let's start with the $\\{\\eta=2x\\}$ domain."
   ]
  },
  {
   "cell_type": "markdown",
   "metadata": {},
   "source": [
    "$$\n",
    "\\begin{align*}\n",
    "\\mathbb{E}_{\\{\\eta=2x\\}}((2 x^2-h(2 x)) 2 x)& = 0 \\\\\\\n",
    "\\int_{0}^{1/2} (2x^2-h(2 x) ) 2 x dx &=0 \n",
    "\\end{align*}\n",
    "$$"
   ]
  },
  {
   "cell_type": "markdown",
   "metadata": {},
   "source": [
    " We can make this explicitly a function of $\\eta$ by a change\n",
    "of variables ($\\eta=2x$) which gives"
   ]
  },
  {
   "cell_type": "markdown",
   "metadata": {},
   "source": [
    "$$\n",
    "\\int_{0}^{1} (\\eta^2/2-h(\\eta))\\frac{\\eta}{2} d\\eta =0\n",
    "$$"
   ]
  },
  {
   "cell_type": "markdown",
   "metadata": {},
   "source": [
    " Thus, for this domain, $h(\\eta)=\\eta^2/2$. Note that due to the\n",
    "change of variables, $h(\\eta)$ is valid defined over $\\eta\\in[0,1]$.\n",
    "\n",
    "For the other domain where $\\{\\eta=2-2x\\}$, we have"
   ]
  },
  {
   "cell_type": "markdown",
   "metadata": {},
   "source": [
    "$$\n",
    "\\begin{align*}\n",
    "\\mathbb{E}_{\\{\\eta=2-2x\\}}((2 x^2-h(2-2x)) (2-2x))& = 0 \\\\\\\n",
    "\\int_{1/2}^{1} (2 x^2-h(2-2x) ) (2-2x) dx &=0 \n",
    "\\end{align*}\n",
    "$$"
   ]
  },
  {
   "cell_type": "markdown",
   "metadata": {},
   "source": [
    " Once again, a change of variables makes the $ \\eta$ dependency \n",
    "explicit using $\\eta=2-2x$ which gives"
   ]
  },
  {
   "cell_type": "markdown",
   "metadata": {},
   "source": [
    "$$\n",
    "\\begin{align*}\n",
    "\\int_{0}^{1} ((2-\\eta)^2/2-h(\\eta) ) \\frac{\\eta}{2} d\\eta &=0 \\\\\\\n",
    "h(\\eta) &= (2-\\eta)^2/2 \n",
    "\\end{align*}\n",
    "$$"
   ]
  },
  {
   "cell_type": "markdown",
   "metadata": {},
   "source": [
    " Once again, the change of variables means this solution is valid\n",
    "over $\\eta\\in[0,1]$. Thus, because both pieces are valid over the\n",
    "same domain ($\\eta\\in[0,1]$), we can just add them to get the final solution,"
   ]
  },
  {
   "cell_type": "markdown",
   "metadata": {},
   "source": [
    "$$\n",
    "h(\\eta) = \\eta^2-2\\eta+2\n",
    "$$"
   ]
  },
  {
   "cell_type": "markdown",
   "metadata": {},
   "source": [
    " A quick simulation can help bear this out."
   ]
  },
  {
   "cell_type": "code",
   "execution_count": null,
   "metadata": {
    "collapsed": false
   },
   "outputs": [],
   "source": [
    "from pandas import DataFrame\n",
    "import numpy as np\n",
    "d = DataFrame(columns=['xi','eta','x','h','h1','h2'])\n",
    "# 100 random samples\n",
    "d.x = np.random.rand(100)\n",
    "d.xi = d.eval('2*x**2')\n",
    "d.eta =1-abs(2*d.x-1)\n",
    "d.h1=d[(d.x<0.5)].eval('eta**2/2')\n",
    "d.h2=d[(d.x>=0.5)].eval('(2-eta)**2/2')\n",
    "d.fillna(0,inplace=True)\n",
    "d.h = d.h1+d.h2\n",
    "d.head()"
   ]
  },
  {
   "cell_type": "markdown",
   "metadata": {},
   "source": [
    " Note that we have to be careful where we apply the individual\n",
    "solutions using the slice `(d.x<0.5)` index. The `fillna` part ensures that the\n",
    "default `NaN` that fills out the empty row-etries is replaced with zero before\n",
    "combining the individual solutions. Otherwise, the `NaN` values would circulate\n",
    "through the rest of the computation. The following is the\n",
    "essential code that draws [Figure](#fig:Conditional_expectation_MSE_005)."
   ]
  },
  {
   "cell_type": "code",
   "execution_count": null,
   "metadata": {
    "collapsed": false
   },
   "outputs": [],
   "source": [
    "from matplotlib.pyplot import subplots\n",
    "fig,ax=subplots()\n",
    "ax.plot(d.xi,d.eta,'.',alpha=.3,label='$\\eta$')\n",
    "ax.plot(d.xi,d.h,'k.',label='$h(\\eta)$')\n",
    "ax.legend(loc=0,fontsize=18)\n",
    "ax.set_xlabel('$2 x^2$',fontsize=18)\n",
    "ax.set_ylabel('$h(\\eta)$',fontsize=18)"
   ]
  },
  {
   "cell_type": "markdown",
   "metadata": {},
   "source": [
    "**Programming Tip.**\n",
    "\n",
    "Basic \\LaTeX{} formatting works for the labels in [Figure](#fig:Conditional_expectation_MSE_005).  The `loc=0` in the `legend`\n",
    "function is the code for the *best* placement for the labels in the legend. The\n",
    "individual labels should be specified when the elements are drawn individually,\n",
    "otherwise they will be hard to separate out later. This is accomplished using\n",
    "the `label` keyword in the `plot` commands."
   ]
  },
  {
   "cell_type": "code",
   "execution_count": null,
   "metadata": {
    "collapsed": false
   },
   "outputs": [],
   "source": [
    "from matplotlib.pyplot import subplots\n",
    "from pandas import DataFrame\n",
    "import numpy as np\n",
    "\n",
    "d = DataFrame(columns=['xi','eta','x','h','h1','h2'])\n",
    "# 100 random samples\n",
    "d.x = np.random.rand(100)\n",
    "d.xi = d.eval('2*x**2')\n",
    "d.eta =1-abs(2*d.x-1)\n",
    "d.h1=d[(d.x<0.5)].eval('eta**2/2')\n",
    "d.h2=d[(d.x>=0.5)].eval('(2-eta)**2/2')\n",
    "d.fillna(0,inplace=True)\n",
    "d.h = d.h1+d.h2\n",
    "\n",
    "fig,ax=subplots()\n",
    "_=ax.plot(d.xi,d.eta,'.k',alpha=.3,label=r'$\\eta$')\n",
    "_=ax.plot(d.xi,d.h,'ks',label=r'$h(\\eta)$',alpha=.3)\n",
    "_=ax.set_aspect(1)\n",
    "_=ax.legend(loc=0,fontsize=18)\n",
    "_=ax.set_xlabel(r'$\\xi=2 x^2$',fontsize=24)\n",
    "_=ax.set_ylabel(r'$h(\\eta),\\eta$',fontsize=24)\n",
    "fig.tight_layout()\n",
    "#fig.savefig('fig-probability/Conditional_expectation_MSE_Ex_005.png')"
   ]
  },
  {
   "cell_type": "markdown",
   "metadata": {},
   "source": [
    "<!-- dom:FIGURE: [fig-probability/Conditional_expectation_MSE_Ex_005.png, width=500 frac=0.85]  The diagonal line shows where the conditional expectation equals the $\\xi$ function. <div id=\"fig:Conditional_expectation_MSE_005\"></div> -->\n",
    "<!-- begin figure -->\n",
    "<div id=\"fig:Conditional_expectation_MSE_005\"></div>\n",
    "\n",
    "<p>The diagonal line shows where the conditional expectation equals the $\\xi$ function.</p>\n",
    "<img src=\"fig-probability/Conditional_expectation_MSE_Ex_005.png\" width=500>\n",
    "\n",
    "<!-- end figure -->\n",
    "\n",
    "\n",
    "[Figure](#fig:Conditional_expectation_MSE_005) shows the $\\xi$ data plotted\n",
    "against $\\eta$ and $h(\\eta) = \\mathbb{E}(\\xi|\\eta)$. Points on the diagonal\n",
    "are points where $\\xi$ and $\\mathbb{E}(\\xi|\\eta)$ match. As shown by the  \n",
    "dots, there is no agreement between the raw $\\eta$ data and $\\xi$. Thus, one\n",
    "way to think about the conditional expectation is as a functional transform\n",
    "that bends the curve onto the diagonal line. The black dots plot $\\xi$\n",
    "versus $\\mathbb{E}(\\xi|\\eta)$ and the two match everywhere along the diagonal\n",
    "line. This is to be expected because the conditional expectation is the MSE\n",
    "best estimate for $\\xi$ among all functions of $\\eta$. \n",
    "\n",
    "## Example\n",
    "\n",
    "This is Exercise 2.14 from Brzezniak. Find $\\mathbb{E}(\\xi|\\eta)$ where"
   ]
  },
  {
   "cell_type": "markdown",
   "metadata": {},
   "source": [
    "$$\n",
    "\\xi(x) = 2 x^2\n",
    "$$"
   ]
  },
  {
   "cell_type": "markdown",
   "metadata": {},
   "source": [
    "$$\n",
    "\\eta =\n",
    "\\begin{cases} 2x & \\mbox{if } 0 \\le x < \\frac{1}{2} \\\\ 2x-1 & \\mbox{if } \\frac{1}{2} < x \\le 1 \\end{cases}\n",
    "$$"
   ]
  },
  {
   "cell_type": "markdown",
   "metadata": {},
   "source": [
    " and $X$ is uniformly distributed in the unit interval.  This is the\n",
    "same as the last example and the only difference here is that $\\eta$ is not\n",
    "continuous at $x=\\frac{1}{2}$, as before. The first part is exactly the same as\n",
    "the first part of the prior example so we will skip it here. The second part\n",
    "follows the same reasoning as the last example, so we will just write the\n",
    "answer for the $\\{\\eta = 2x-1\\}$ case as the following"
   ]
  },
  {
   "cell_type": "markdown",
   "metadata": {},
   "source": [
    "$$\n",
    "h(\\eta)=\\frac{(1+\\eta)^2}{2} , \\: \\forall \\eta \\: \\in [0,1]\n",
    "$$"
   ]
  },
  {
   "cell_type": "markdown",
   "metadata": {},
   "source": [
    "  and then adding these up as before gives the full solution:"
   ]
  },
  {
   "cell_type": "markdown",
   "metadata": {},
   "source": [
    "$$\n",
    "h(\\eta)= \\frac{1}{2} +\\eta + \\eta^2\n",
    "$$"
   ]
  },
  {
   "cell_type": "markdown",
   "metadata": {},
   "source": [
    " The interesting part about this example is shown in [Figure](#fig:Conditional_expectation_MSE_006). The dots show where $\\eta$ is\n",
    "discontinuous and yet the $h(\\eta)=\\mathbb{E}(\\xi|\\eta)$ solution is equal to\n",
    "$\\xi$ (i.e., matches the diagonal). This illustrates the power of the orthogonal\n",
    "inner product technique, which does not need continuity or complex\n",
    "set-theoretic arguments to calculate solutions. By contrast, I urge you to\n",
    "consider Brzezniak's solution to this problem which requires such  methods."
   ]
  },
  {
   "cell_type": "code",
   "execution_count": null,
   "metadata": {
    "collapsed": false
   },
   "outputs": [],
   "source": [
    "d = DataFrame(columns=['xi','eta','x','h','h1','h2'])\n",
    "d.x = np.random.rand(100) # 100 random samples\n",
    "d.xi = d.eval('2*x**2')\n",
    "d['eta']=(d.x<0.5)*(2*d.x)+(d.x>=0.5)*(2*d.x-1)\n",
    "d.h1=d[(d.x<0.5)].eval('eta**2/2')\n",
    "d.h2=d[(d.x>=0.5)].eval('(1+eta)**2/2')\n",
    "d.fillna(0,inplace=True)\n",
    "d.h = d.h1+d.h2\n",
    "fig,ax=subplots()\n",
    "_=ax.plot(d.xi,d.eta,'.k',alpha=.3,label='$\\eta$')\n",
    "_=ax.plot(d.xi,d.h,'ks',label='$h(\\eta)$',alpha=0.3)\n",
    "_=ax.set_aspect(1)\n",
    "_=ax.legend(loc=0,fontsize=18)\n",
    "_=ax.set_xlabel('$2 x^2$',fontsize=24)\n",
    "_=ax.set_ylabel('$h(\\eta),\\eta$',fontsize=24)\n",
    "fig.tight_layout()\n",
    "#fig.savefig('fig-probability/Conditional_expectation_MSE_Ex_006.png')"
   ]
  },
  {
   "cell_type": "markdown",
   "metadata": {},
   "source": [
    "<!-- dom:FIGURE: [fig-probability/Conditional_expectation_MSE_Ex_006.png, width=500 frac=0.85] The diagonal line shows where the conditional expectation equals the $\\xi$ function. <div id=\"fig:Conditional_expectation_MSE_006\"></div> -->\n",
    "<!-- begin figure -->\n",
    "<div id=\"fig:Conditional_expectation_MSE_006\"></div>\n",
    "\n",
    "<p>The diagonal line shows where the conditional expectation equals the $\\xi$ function.</p>\n",
    "<img src=\"fig-probability/Conditional_expectation_MSE_Ex_006.png\" width=500>\n",
    "\n",
    "<!-- end figure -->\n",
    "\n",
    "\n",
    "Extending projection methods to random variables provides multiple ways for\n",
    "calculating solutions to conditional expectation problems. In this section, we\n",
    "also worked out corresponding simulations using a variety of Python modules. It\n",
    "is always advisable to have more than one technique at hand to cross-check\n",
    "potential solutions. We worked out some of the examples in Brzezniak's\n",
    "book using our methods as a way to show multiple ways to solve the same\n",
    "problem. Comparing Brzezniak's measure-theoretic methods to our less abstract\n",
    "techniques is a great way to get a handle on both concepts, which are important\n",
    "for advanced study in stochastic process."
   ]
  }
 ],
 "metadata": {
  "kernelspec": {
   "display_name": "Python 2",
   "language": "python",
   "name": "python2"
  },
  "language_info": {
   "codemirror_mode": {
    "name": "ipython",
    "version": 2
   },
   "file_extension": ".py",
   "mimetype": "text/x-python",
   "name": "python",
   "nbconvert_exporter": "python",
   "pygments_lexer": "ipython2",
   "version": "2.7.11"
  }
 },
 "nbformat": 4,
 "nbformat_minor": 0
}
