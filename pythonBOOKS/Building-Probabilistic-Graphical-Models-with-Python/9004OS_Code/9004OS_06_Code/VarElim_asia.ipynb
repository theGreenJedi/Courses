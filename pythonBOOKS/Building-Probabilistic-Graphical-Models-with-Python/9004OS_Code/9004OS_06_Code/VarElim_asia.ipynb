{
 "metadata": {
  "name": ""
 },
 "nbformat": 3,
 "nbformat_minor": 0,
 "worksheets": [
  {
   "cells": [
    {
     "cell_type": "markdown",
     "metadata": {},
     "source": [
      "In this notebook we shall use the asia network to understand the details of variable elimination.\n",
      "\n",
      "The Asia network (http://www.bnlearn.com/bnrepository/#asia) is a toy Bayesian network used in patient diagnosis. The network tries to elicit the possibility of lung cancer or tuberculosis based on factors such as travel to Asia, smoking history, X-ray results and so on. Further details on the asia Asia network can be found here (http://www.norsys.com/tutorials/netica/secA/tut_A1.htm)\n",
      "\n",
      "The diagram of the Asia network, courtesy (http://www.bnlearn.com/bnrepository/asia/asia.png). \n",
      "\n",
      "We wish to infer the probability that the patient has bronchitis ( $ P (bronc=True) $, henceforth written as $ P(bronc) $ ). \n",
      "\n",
      "Let us first understand how we arrive at the value of the $ P(bronc) $. Using the product rule, $ P(smoke,bronc) =P(smoke) \\times P(bronc \\mid smoke)  $. If we have $ P(bronc \\mid smoke)  $, we can calculate $ P(bronc=yes) =   P(bronc=yes,smoke=yes) + P(bronc=yes,smoke=no)  $, and $ P(bronc=no) $ can be calculated in a similar fashion, then the probabilities have to be normalized.\n",
      "\n",
      "We shall load the network from a file where the network definition is stored.\n"
     ]
    },
    {
     "cell_type": "code",
     "collapsed": false,
     "input": [
      "from libpgm.graphskeleton import GraphSkeleton\n",
      "from libpgm.nodedata import NodeData\n",
      "from libpgm.discretebayesiannetwork import DiscreteBayesianNetwork\n",
      "from libpgm.tablecpdfactor import TableCPDFactor\n",
      "import itertools\n",
      "import pandas as pd\n",
      "from libpgm.tablecpdfactorization import TableCPDFactorization\n",
      "\n",
      "def loadbn(jsonpath):\n",
      "    nd = NodeData()\n",
      "    skel = GraphSkeleton()\n",
      "    nd.load(jsonpath)\n",
      "    skel.load(jsonpath)\n",
      "    skel.toporder()\n",
      "    \n",
      "    bn = DiscreteBayesianNetwork(skel, nd)\n",
      "    return bn\n",
      "\n",
      "bn=loadbn(\"asia1.txt\")"
     ],
     "language": "python",
     "metadata": {},
     "outputs": [],
     "prompt_number": 23
    },
    {
     "cell_type": "markdown",
     "metadata": {},
     "source": [
      "Our first attempt to compute marginals will use the joint distribution over all variables, and then sum out the variables we don't care about.\n",
      "To list the joint distribution, we shall multiply all the factors. The joint distribution computed from the product of factors is listed below, and its complete specification has 255 entries"
     ]
    },
    {
     "cell_type": "code",
     "collapsed": false,
     "input": [
      "#a method that prints the distribution as a table.\n",
      "def printdist(jd,bn,normalize=False):\n",
      "    x=[bn.Vdata[i][\"vals\"] for i in jd.scope]\n",
      "    zipover=[i/sum(jd.vals) for i in jd.vals] if normalize else jd.vals\n",
      "    #creates the cartesian product\n",
      "    k=[a + [b] for a,b in zip([list(i) for i in itertools.product(*x[::-1])],zipover)]\n",
      "    df=pd.DataFrame.from_records(k,columns=[i for i in reversed(jd.scope)]+['probability'])\n",
      "    df.index.name=\"foo\"\n",
      "    return df\n",
      "\n",
      "#instantiate TableCPDs for all the nodes and multiply them. The result is in the factor that calls the methods.\n",
      "jc=TableCPDFactor(\"asia\",bn)    \n",
      "[jc.multiplyfactor(TableCPDFactor(i,bn)) for i in bn.V if i != \"asia\"]\n",
      "df=printdist(jc,bn,normalize=True)\n",
      "print \"values in joint distribution \",len(jc.vals)\n",
      "#print the first few values in the table\n",
      "df.head()"
     ],
     "language": "python",
     "metadata": {},
     "outputs": [
      {
       "output_type": "stream",
       "stream": "stdout",
       "text": [
        "values in joint distribution  128\n"
       ]
      },
      {
       "html": [
        "<div style=\"max-height:1000px;max-width:1500px;overflow:auto;\">\n",
        "<table border=\"1\" class=\"dataframe\">\n",
        "  <thead>\n",
        "    <tr style=\"text-align: right;\">\n",
        "      <th></th>\n",
        "      <th>bronc</th>\n",
        "      <th>dysp</th>\n",
        "      <th>either</th>\n",
        "      <th>tub</th>\n",
        "      <th>lung</th>\n",
        "      <th>smoke</th>\n",
        "      <th>asia</th>\n",
        "      <th>probability</th>\n",
        "    </tr>\n",
        "    <tr>\n",
        "      <th>foo</th>\n",
        "      <th></th>\n",
        "      <th></th>\n",
        "      <th></th>\n",
        "      <th></th>\n",
        "      <th></th>\n",
        "      <th></th>\n",
        "      <th></th>\n",
        "      <th></th>\n",
        "    </tr>\n",
        "  </thead>\n",
        "  <tbody>\n",
        "    <tr>\n",
        "      <th>0</th>\n",
        "      <td> yes</td>\n",
        "      <td> yes</td>\n",
        "      <td> yes</td>\n",
        "      <td> yes</td>\n",
        "      <td> yes</td>\n",
        "      <td> yes</td>\n",
        "      <td> yes</td>\n",
        "      <td> 0.000011</td>\n",
        "    </tr>\n",
        "    <tr>\n",
        "      <th>1</th>\n",
        "      <td> yes</td>\n",
        "      <td> yes</td>\n",
        "      <td> yes</td>\n",
        "      <td> yes</td>\n",
        "      <td> yes</td>\n",
        "      <td> yes</td>\n",
        "      <td>  no</td>\n",
        "      <td> 0.000223</td>\n",
        "    </tr>\n",
        "    <tr>\n",
        "      <th>2</th>\n",
        "      <td> yes</td>\n",
        "      <td> yes</td>\n",
        "      <td> yes</td>\n",
        "      <td> yes</td>\n",
        "      <td> yes</td>\n",
        "      <td>  no</td>\n",
        "      <td> yes</td>\n",
        "      <td> 0.000001</td>\n",
        "    </tr>\n",
        "    <tr>\n",
        "      <th>3</th>\n",
        "      <td> yes</td>\n",
        "      <td> yes</td>\n",
        "      <td> yes</td>\n",
        "      <td> yes</td>\n",
        "      <td> yes</td>\n",
        "      <td>  no</td>\n",
        "      <td>  no</td>\n",
        "      <td> 0.000022</td>\n",
        "    </tr>\n",
        "    <tr>\n",
        "      <th>4</th>\n",
        "      <td> yes</td>\n",
        "      <td> yes</td>\n",
        "      <td> yes</td>\n",
        "      <td> yes</td>\n",
        "      <td>  no</td>\n",
        "      <td> yes</td>\n",
        "      <td> yes</td>\n",
        "      <td> 0.000101</td>\n",
        "    </tr>\n",
        "  </tbody>\n",
        "</table>\n",
        "</div>"
       ],
       "metadata": {},
       "output_type": "pyout",
       "prompt_number": 42,
       "text": [
        "    bronc dysp either  tub lung smoke asia  probability\n",
        "foo                                                    \n",
        "0     yes  yes    yes  yes  yes   yes  yes     0.000011\n",
        "1     yes  yes    yes  yes  yes   yes   no     0.000223\n",
        "2     yes  yes    yes  yes  yes    no  yes     0.000001\n",
        "3     yes  yes    yes  yes  yes    no   no     0.000022\n",
        "4     yes  yes    yes  yes   no   yes  yes     0.000101"
       ]
      }
     ],
     "prompt_number": 42
    },
    {
     "cell_type": "markdown",
     "metadata": {},
     "source": [
      "Marginalizing factors that are not relevant\n",
      "\n",
      "\n",
      "From the joint distribution, we can get the desired by performing the following operations. First, we notice that we are interested in data from the bronc column alone. So we first collapse the other columns (and the data in it), in an operation called <b>factor marginalization. </b>. \n",
      "\n",
      "Throughout the following discussion we shall also overload the notation a bit. Since all the variables are binary, $ P (bronc \\mid smoke)$ means that the evidence variable smoke is true, unless otherwise mentioned. That is, $ P(bronc \\mid smoke) $ is the same as $ P(bronc=True \\mid smoke=True) $.\n",
      "\n",
      "We shall use the Pandas data analysis library to manipulate the CPDs, which are akin to tables. After loading the joint distribution into a Pandas DataFrame, we group only the columns we want, and sum out the values in the probability column.\n"
     ]
    },
    {
     "cell_type": "code",
     "collapsed": false,
     "input": [
      "t2=df.groupby(['bronc','smoke'],as_index=False)\n",
      "t3=t2['probability'].sum()\n",
      "t3"
     ],
     "language": "python",
     "metadata": {},
     "outputs": [
      {
       "html": [
        "<div style=\"max-height:1000px;max-width:1500px;overflow:auto;\">\n",
        "<table border=\"1\" class=\"dataframe\">\n",
        "  <thead>\n",
        "    <tr style=\"text-align: right;\">\n",
        "      <th></th>\n",
        "      <th>bronc</th>\n",
        "      <th>smoke</th>\n",
        "      <th>probability</th>\n",
        "    </tr>\n",
        "  </thead>\n",
        "  <tbody>\n",
        "    <tr>\n",
        "      <th>0</th>\n",
        "      <td>  no</td>\n",
        "      <td>  no</td>\n",
        "      <td> 0.35</td>\n",
        "    </tr>\n",
        "    <tr>\n",
        "      <th>1</th>\n",
        "      <td>  no</td>\n",
        "      <td> yes</td>\n",
        "      <td> 0.20</td>\n",
        "    </tr>\n",
        "    <tr>\n",
        "      <th>2</th>\n",
        "      <td> yes</td>\n",
        "      <td>  no</td>\n",
        "      <td> 0.15</td>\n",
        "    </tr>\n",
        "    <tr>\n",
        "      <th>3</th>\n",
        "      <td> yes</td>\n",
        "      <td> yes</td>\n",
        "      <td> 0.30</td>\n",
        "    </tr>\n",
        "  </tbody>\n",
        "</table>\n",
        "</div>"
       ],
       "metadata": {},
       "output_type": "pyout",
       "prompt_number": 25,
       "text": [
        "  bronc smoke  probability\n",
        "0    no    no         0.35\n",
        "1    no   yes         0.20\n",
        "2   yes    no         0.15\n",
        "3   yes   yes         0.30"
       ]
      }
     ],
     "prompt_number": 25
    },
    {
     "cell_type": "markdown",
     "metadata": {},
     "source": [
      "How does this operation happen? Let\u2019s take the 0th row in the T3 table above (bronc, smoke == no) as an example and see how the value is obtained. The value of 0.35 is obtained by summing up all values of the other columns. We select rows in the table where the values of bronc and smoke are all 'no'."
     ]
    },
    {
     "cell_type": "code",
     "collapsed": false,
     "input": [
      "df.loc[(df[\"smoke\"] == 'no') & (df[\"bronc\"] == 'no'), :].head()"
     ],
     "language": "python",
     "metadata": {},
     "outputs": [
      {
       "html": [
        "<div style=\"max-height:1000px;max-width:1500px;overflow:auto;\">\n",
        "<table border=\"1\" class=\"dataframe\">\n",
        "  <thead>\n",
        "    <tr style=\"text-align: right;\">\n",
        "      <th></th>\n",
        "      <th>dysp</th>\n",
        "      <th>xray</th>\n",
        "      <th>either</th>\n",
        "      <th>tub</th>\n",
        "      <th>lung</th>\n",
        "      <th>bronc</th>\n",
        "      <th>smoke</th>\n",
        "      <th>asia</th>\n",
        "      <th>probability</th>\n",
        "    </tr>\n",
        "  </thead>\n",
        "  <tbody>\n",
        "    <tr>\n",
        "      <th>6 </th>\n",
        "      <td> yes</td>\n",
        "      <td> yes</td>\n",
        "      <td> yes</td>\n",
        "      <td> yes</td>\n",
        "      <td> yes</td>\n",
        "      <td> no</td>\n",
        "      <td> no</td>\n",
        "      <td> yes</td>\n",
        "      <td> 0.000001</td>\n",
        "    </tr>\n",
        "    <tr>\n",
        "      <th>7 </th>\n",
        "      <td> yes</td>\n",
        "      <td> yes</td>\n",
        "      <td> yes</td>\n",
        "      <td> yes</td>\n",
        "      <td> yes</td>\n",
        "      <td> no</td>\n",
        "      <td> no</td>\n",
        "      <td>  no</td>\n",
        "      <td> 0.000024</td>\n",
        "    </tr>\n",
        "    <tr>\n",
        "      <th>14</th>\n",
        "      <td> yes</td>\n",
        "      <td> yes</td>\n",
        "      <td> yes</td>\n",
        "      <td> yes</td>\n",
        "      <td>  no</td>\n",
        "      <td> no</td>\n",
        "      <td> no</td>\n",
        "      <td> yes</td>\n",
        "      <td> 0.000119</td>\n",
        "    </tr>\n",
        "    <tr>\n",
        "      <th>15</th>\n",
        "      <td> yes</td>\n",
        "      <td> yes</td>\n",
        "      <td> yes</td>\n",
        "      <td> yes</td>\n",
        "      <td>  no</td>\n",
        "      <td> no</td>\n",
        "      <td> no</td>\n",
        "      <td>  no</td>\n",
        "      <td> 0.002353</td>\n",
        "    </tr>\n",
        "    <tr>\n",
        "      <th>22</th>\n",
        "      <td> yes</td>\n",
        "      <td> yes</td>\n",
        "      <td> yes</td>\n",
        "      <td>  no</td>\n",
        "      <td> yes</td>\n",
        "      <td> no</td>\n",
        "      <td> no</td>\n",
        "      <td> yes</td>\n",
        "      <td> 0.000023</td>\n",
        "    </tr>\n",
        "  </tbody>\n",
        "</table>\n",
        "</div>"
       ],
       "metadata": {},
       "output_type": "pyout",
       "prompt_number": 26,
       "text": [
        "   dysp xray either  tub lung bronc smoke asia  probability\n",
        "6   yes  yes    yes  yes  yes    no    no  yes     0.000001\n",
        "7   yes  yes    yes  yes  yes    no    no   no     0.000024\n",
        "14  yes  yes    yes  yes   no    no    no  yes     0.000119\n",
        "15  yes  yes    yes  yes   no    no    no   no     0.002353\n",
        "22  yes  yes    yes   no  yes    no    no  yes     0.000023"
       ]
      }
     ],
     "prompt_number": 26
    },
    {
     "cell_type": "markdown",
     "metadata": {},
     "source": [
      "We select the rows from the above table and only choose the probability column, and sum up the values."
     ]
    },
    {
     "cell_type": "code",
     "collapsed": false,
     "input": [
      "df.loc[(df[\"bronc\"] == 'no') & (df[\"smoke\"] == 'no'), \"probability\"].sum()"
     ],
     "language": "python",
     "metadata": {},
     "outputs": [
      {
       "metadata": {},
       "output_type": "pyout",
       "prompt_number": 27,
       "text": [
        "0.34999999999999998"
       ]
      }
     ],
     "prompt_number": 27
    },
    {
     "cell_type": "markdown",
     "metadata": {},
     "source": [
      "We can see how the factor marginalization operation gives us the probability of 0.35 for the first row in the table above.\n",
      "\n",
      "\n",
      "Lets take a short digression to observe the case where the query had observed variables, such as $ P (bronc \\mid smoke=yes) $.  Then we only need rows 1 and 3 from the table above(with columns bronc, smoke, probability) . These rows correspond to $ (bronc=True \\mid smoke=yes) $ and  $ (bronc=False \\mid smoke=yes)  $. \n",
      "\n",
      "This operation is called <b>Factor Reduction</b>, where the other rows are removed because they do not have the specific assignment (that is, values are not yes) for smoke. "
     ]
    },
    {
     "cell_type": "code",
     "collapsed": false,
     "input": [
      "t4=t3.loc[ (t3[\"smoke\"] == 'yes'), :]\n",
      "t4"
     ],
     "language": "python",
     "metadata": {},
     "outputs": [
      {
       "html": [
        "<div style=\"max-height:1000px;max-width:1500px;overflow:auto;\">\n",
        "<table border=\"1\" class=\"dataframe\">\n",
        "  <thead>\n",
        "    <tr style=\"text-align: right;\">\n",
        "      <th></th>\n",
        "      <th>bronc</th>\n",
        "      <th>smoke</th>\n",
        "      <th>probability</th>\n",
        "    </tr>\n",
        "  </thead>\n",
        "  <tbody>\n",
        "    <tr>\n",
        "      <th>1</th>\n",
        "      <td>  no</td>\n",
        "      <td> yes</td>\n",
        "      <td> 0.2</td>\n",
        "    </tr>\n",
        "    <tr>\n",
        "      <th>3</th>\n",
        "      <td> yes</td>\n",
        "      <td> yes</td>\n",
        "      <td> 0.3</td>\n",
        "    </tr>\n",
        "  </tbody>\n",
        "</table>\n",
        "</div>"
       ],
       "metadata": {},
       "output_type": "pyout",
       "prompt_number": 28,
       "text": [
        "  bronc smoke  probability\n",
        "1    no   yes          0.2\n",
        "3   yes   yes          0.3"
       ]
      }
     ],
     "prompt_number": 28
    },
    {
     "cell_type": "markdown",
     "metadata": {},
     "source": [
      "This is almost the probability set that we require, except that the probabilities do not sum up to 1. We therefore normalize by dividing each probability by the sum of all probabilities."
     ]
    },
    {
     "cell_type": "code",
     "collapsed": false,
     "input": [
      "psum=t4['probability'].sum()\n",
      "t4['probability']=t4['probability']/psum\n",
      "t4"
     ],
     "language": "python",
     "metadata": {},
     "outputs": [
      {
       "html": [
        "<div style=\"max-height:1000px;max-width:1500px;overflow:auto;\">\n",
        "<table border=\"1\" class=\"dataframe\">\n",
        "  <thead>\n",
        "    <tr style=\"text-align: right;\">\n",
        "      <th></th>\n",
        "      <th>bronc</th>\n",
        "      <th>smoke</th>\n",
        "      <th>probability</th>\n",
        "    </tr>\n",
        "  </thead>\n",
        "  <tbody>\n",
        "    <tr>\n",
        "      <th>1</th>\n",
        "      <td>  no</td>\n",
        "      <td> yes</td>\n",
        "      <td> 0.4</td>\n",
        "    </tr>\n",
        "    <tr>\n",
        "      <th>3</th>\n",
        "      <td> yes</td>\n",
        "      <td> yes</td>\n",
        "      <td> 0.6</td>\n",
        "    </tr>\n",
        "  </tbody>\n",
        "</table>\n",
        "</div>"
       ],
       "metadata": {},
       "output_type": "pyout",
       "prompt_number": 29,
       "text": [
        "  bronc smoke  probability\n",
        "1    no   yes          0.4\n",
        "3   yes   yes          0.6"
       ]
      }
     ],
     "prompt_number": 29
    },
    {
     "cell_type": "markdown",
     "metadata": {},
     "source": [
      "Let\u2019s return to the original query that we had, $ P(bronc) $. We've seen that the table t3 represents the conditional probability distribution of bronc given smoke. Now we simply sum out the value of smoke to get $ P (bronc) $. "
     ]
    },
    {
     "cell_type": "code",
     "collapsed": false,
     "input": [
      "t5=t3.groupby(['bronc'],as_index=False)\n",
      "t5['probability'].sum()"
     ],
     "language": "python",
     "metadata": {},
     "outputs": [
      {
       "html": [
        "<div style=\"max-height:1000px;max-width:1500px;overflow:auto;\">\n",
        "<table border=\"1\" class=\"dataframe\">\n",
        "  <thead>\n",
        "    <tr style=\"text-align: right;\">\n",
        "      <th></th>\n",
        "      <th>bronc</th>\n",
        "      <th>probability</th>\n",
        "    </tr>\n",
        "  </thead>\n",
        "  <tbody>\n",
        "    <tr>\n",
        "      <th>0</th>\n",
        "      <td>  no</td>\n",
        "      <td> 0.55</td>\n",
        "    </tr>\n",
        "    <tr>\n",
        "      <th>1</th>\n",
        "      <td> yes</td>\n",
        "      <td> 0.45</td>\n",
        "    </tr>\n",
        "  </tbody>\n",
        "</table>\n",
        "</div>"
       ],
       "metadata": {},
       "output_type": "pyout",
       "prompt_number": 30,
       "text": [
        "  bronc  probability\n",
        "0    no         0.55\n",
        "1   yes         0.45"
       ]
      }
     ],
     "prompt_number": 30
    },
    {
     "cell_type": "markdown",
     "metadata": {},
     "source": [
      "\n",
      "The table above is the desired result of the inference query $ P(bronc) $.\n",
      "\n",
      "What we have shown above is the brute-force method to arrive at the value of a probability query. This method is inefficient for several reasons.\n",
      "\n",
      "One, it does not use any of the conditional independencies that are present in the model. Lets say we want to know the probability $ P(A\\mid B) $, and if nodes X and Y are conditionally independent of A and B,  there is no value in calculating the joint distribution which includes X and Y, and then summing out the values.\n",
      "\n",
      "Secondly, we already know that eliciting the probability values in the joint distribution is not an easy task, nor is storing and manipulating the large joint distribution. For just 8 binary variables in the alarm example, the joint distribution has 255 rows (or  $ 2^8 $), and for larger networks it becomes impossible to learn, store and manipulate the joint distribution. Even after having the joint distribution, summing out the other values has a time complexity of $ 2^n $. "
     ]
    },
    {
     "cell_type": "markdown",
     "metadata": {},
     "source": [
      "Using the Variable Elimination approach\n",
      "---------------------------------------\n",
      "\n",
      "We shall now look at the Variable Elimination algorithm which is an efficient method to calculate probabilities. The efficiency results from avoiding duplicate operations as well as avoiding calculation of probabilities that are conditionally independent. This can be used to calculate the marginal probabilities even if any evidence/observed variables exist. \n",
      "\n",
      "We shall be use <b>Factors</b> which are similar to the tables we have seen above. The operations of Factor Product (which is a cartesian product between elements of 2 sets), Factor Marginalization and Factor Reductions are the calculus by means of which we can manipulate Factors. \n",
      "\n",
      "Each Factor has a scope. If we think of a factor as a table, the scope is the columns associated with the table. The 8 CPDs defined in asia.txt are the initial factors. For example, $  \\phi (tub,asia) $ corresponds to $ P(tub \\mid asia)$ ,$ \\phi (lung,smoke) $ (corresponding to the CPD for $ P (lung \\mid smoke) $) and so on."
     ]
    },
    {
     "cell_type": "markdown",
     "metadata": {},
     "source": [
      "We shall attempt to get the conditional probability of , $ P(bronc \\mid xray) $ should correspond to a factor that has same variables in its scope, which is $ \\phi (bronc,xray) $. \n",
      "\n",
      "To create $ \\phi (bronc,xray) $, we have to use the Factor product operation, where the variables in the scope of the resulting factor should appear in one of the factors being multiplied. For example, the set of factors $  \\{ \\phi (smoke,lung) , \\phi (smoke,bronc) \\} $ has 3 variables in scope $ \\{ smoke,lung,bronc \\} $. Therefore the product of factors $   \\phi (smoke,lung)  , \\phi (smoke,bronc) $ will give us a factor $ \\phi (smoke,lung,bronc) $, where the probability values are arrived at by multiplying the row in the factor where the assignments match.\n"
     ]
    },
    {
     "cell_type": "markdown",
     "metadata": {},
     "source": [
      "We list the factors in the asia network below, along with the corresponding CPD they were derived from\n",
      "\n",
      " 1. $ \\phi (asia) : P(asia) $ \n",
      " 2. $ \\phi (tub,asia) : P(tub \\mid asia)$\n",
      " 3. $ \\phi (smoke) : P(smoke) $\n",
      " 4. $ \\phi (smoke,lung) : P(lung \\mid smoke)$\n",
      " 5. $ \\phi (smoke,bronc) : P(bronc \\mid smoke) $\n",
      " 6. $ \\phi (either,lung,tub) : P(either \\mid lung,tub) $\n",
      " 7. $ \\phi (dysp,bronc,either) :P(dysp \\mid bronc, either) $\n",
      " 8. $ \\phi (xray,either) :P(xray \\mid either) $"
     ]
    },
    {
     "cell_type": "markdown",
     "metadata": {},
     "source": [
      "We shall use the Variable Elimination algorithm to infer the conditional probability of   $ P(bronc \\mid xray) $\u00a0, which corresponds to a factor that has same variables in its scope, which is\u00a0 $ \\phi(xray,bronc) $\n",
      "\n",
      "On scanning the list of factors above, we notice that there is no factor that has $ \\phi(xray,bronc) $ in its scope. Therefore to create\u00a0$ \\phi(xray,bronc) $  we have to use the Factor Product  operation, where the variables in the scope of the resulting factor should appear in one of the factors being multiplied. \n",
      "\n",
      "\n",
      "As the name suggests, in variable elimination we eliminate variables one at a time.\n",
      "Each step consists of 3 operations:\n",
      " + Multiplying factors\n",
      " + Marginalizing a variable (which is in the scope of all multiplied factors)\n",
      " + Producing a new factor., \n",
      "\n",
      "Each row in the table below details one step of the algorithm, that is, the factor product, the variable eliminated, and the new factor created, in pursuit of the factor $ \\phi (bronc,xray) $.\n",
      "\n",
      " 1. $ \\phi (asia) \\times \\phi (tub,asia) $ , eliminate asia: $ \\phi_1(tub) $ \n",
      " 2. $ \\phi (smoke) \\times \\phi (smoke,lung) \\times \\phi (smoke,bronc)$ , eliminate smoke: $ \\phi_2(lung,bronc) $\n",
      " 3. $ \\phi (either,lung,tub) \\times \\phi_1(tub) $, eliminate tub: $ \\phi_3(either,lung) $\n",
      " 4. $ \\phi_2(lung,bronc) \\times \\phi_3(either,lung) $, eliminate lung : $ \\phi_4(bronc,either) $.\n",
      " 5. $ \\phi_4(bronc,either) \\times \\phi (dysp,bronc,either) \\times \\phi(xray,either) $, eliminate either: $ \\phi_5 (dysp,bronc,xray) $\n",
      " 6. $ \\phi_5 (dysp,bronc,xray) $, eliminate dysp: $ \\phi_6(xray,bronc) $.\n",
      " \n",
      "Out of the 8 nodes in the graph, 6 are eliminated in each step, leaving us the factor we desire,  $ \\phi (bronc,xray) $.\n",
      "\n",
      "We use the Libpgm library to walk through each step of the algorithm. Libpgm gives us the multiplyfactor and sumout methods to create a new factor at each step. We start with step 1"
     ]
    },
    {
     "cell_type": "code",
     "collapsed": false,
     "input": [
      "asia=TableCPDFactor(\"asia\",bn)\n",
      "phi_1=TableCPDFactor(\"tub\",bn)\n",
      "\n",
      "phi_1.multiplyfactor(asia)\n",
      "printdist(phi_1,bn)"
     ],
     "language": "python",
     "metadata": {},
     "outputs": [
      {
       "html": [
        "<div style=\"max-height:1000px;max-width:1500px;overflow:auto;\">\n",
        "<table border=\"1\" class=\"dataframe\">\n",
        "  <thead>\n",
        "    <tr style=\"text-align: right;\">\n",
        "      <th></th>\n",
        "      <th>asia</th>\n",
        "      <th>tub</th>\n",
        "      <th>probability</th>\n",
        "    </tr>\n",
        "  </thead>\n",
        "  <tbody>\n",
        "    <tr>\n",
        "      <th>0</th>\n",
        "      <td> yes</td>\n",
        "      <td> yes</td>\n",
        "      <td> 0.0005</td>\n",
        "    </tr>\n",
        "    <tr>\n",
        "      <th>1</th>\n",
        "      <td> yes</td>\n",
        "      <td>  no</td>\n",
        "      <td> 0.0095</td>\n",
        "    </tr>\n",
        "    <tr>\n",
        "      <th>2</th>\n",
        "      <td>  no</td>\n",
        "      <td> yes</td>\n",
        "      <td> 0.0099</td>\n",
        "    </tr>\n",
        "    <tr>\n",
        "      <th>3</th>\n",
        "      <td>  no</td>\n",
        "      <td>  no</td>\n",
        "      <td> 0.9801</td>\n",
        "    </tr>\n",
        "  </tbody>\n",
        "</table>\n",
        "</div>"
       ],
       "metadata": {},
       "output_type": "pyout",
       "prompt_number": 31,
       "text": [
        "  asia  tub  probability\n",
        "0  yes  yes       0.0005\n",
        "1  yes   no       0.0095\n",
        "2   no  yes       0.0099\n",
        "3   no   no       0.9801"
       ]
      }
     ],
     "prompt_number": 31
    },
    {
     "cell_type": "markdown",
     "metadata": {},
     "source": [
      "Since the starting factors are simply CPDs, when we create TableCPDFactor(\"tub\",bn), it is the factor that involves both tub and asia, which is from the CPD for tub given asia. We now eliminate asia."
     ]
    },
    {
     "cell_type": "code",
     "collapsed": false,
     "input": [
      "phi_1.sumout(\"asia\")\n",
      "printdist(phi_1,bn)"
     ],
     "language": "python",
     "metadata": {},
     "outputs": [
      {
       "html": [
        "<div style=\"max-height:1000px;max-width:1500px;overflow:auto;\">\n",
        "<table border=\"1\" class=\"dataframe\">\n",
        "  <thead>\n",
        "    <tr style=\"text-align: right;\">\n",
        "      <th></th>\n",
        "      <th>tub</th>\n",
        "      <th>probability</th>\n",
        "    </tr>\n",
        "  </thead>\n",
        "  <tbody>\n",
        "    <tr>\n",
        "      <th>0</th>\n",
        "      <td> yes</td>\n",
        "      <td> 0.0104</td>\n",
        "    </tr>\n",
        "    <tr>\n",
        "      <th>1</th>\n",
        "      <td>  no</td>\n",
        "      <td> 0.9896</td>\n",
        "    </tr>\n",
        "  </tbody>\n",
        "</table>\n",
        "</div>"
       ],
       "metadata": {},
       "output_type": "pyout",
       "prompt_number": 32,
       "text": [
        "   tub  probability\n",
        "0  yes       0.0104\n",
        "1   no       0.9896"
       ]
      }
     ],
     "prompt_number": 32
    },
    {
     "cell_type": "markdown",
     "metadata": {},
     "source": [
      "### Step 2\n",
      "\n",
      "\n",
      "Now in step 2, $ \\phi (smoke) \\times \\phi (smoke,lung) \\times \\phi (smoke,bronc)$ , eliminate smoke: $ \\phi_2(lung,bronc) $"
     ]
    },
    {
     "cell_type": "code",
     "collapsed": false,
     "input": [
      "phi_2=TableCPDFactor(\"smoke\",bn)\n",
      "[phi_2.multiplyfactor(TableCPDFactor(i,bn)) for i in [\"lung\",\"bronc\"]]\n",
      "phi_2.sumout(\"smoke\")\n",
      "printdist(phi_2,bn)"
     ],
     "language": "python",
     "metadata": {},
     "outputs": [
      {
       "html": [
        "<div style=\"max-height:1000px;max-width:1500px;overflow:auto;\">\n",
        "<table border=\"1\" class=\"dataframe\">\n",
        "  <thead>\n",
        "    <tr style=\"text-align: right;\">\n",
        "      <th></th>\n",
        "      <th>bronc</th>\n",
        "      <th>lung</th>\n",
        "      <th>probability</th>\n",
        "    </tr>\n",
        "  </thead>\n",
        "  <tbody>\n",
        "    <tr>\n",
        "      <th>0</th>\n",
        "      <td> yes</td>\n",
        "      <td> yes</td>\n",
        "      <td> 0.0315</td>\n",
        "    </tr>\n",
        "    <tr>\n",
        "      <th>1</th>\n",
        "      <td> yes</td>\n",
        "      <td>  no</td>\n",
        "      <td> 0.4185</td>\n",
        "    </tr>\n",
        "    <tr>\n",
        "      <th>2</th>\n",
        "      <td>  no</td>\n",
        "      <td> yes</td>\n",
        "      <td> 0.0235</td>\n",
        "    </tr>\n",
        "    <tr>\n",
        "      <th>3</th>\n",
        "      <td>  no</td>\n",
        "      <td>  no</td>\n",
        "      <td> 0.5265</td>\n",
        "    </tr>\n",
        "  </tbody>\n",
        "</table>\n",
        "</div>"
       ],
       "metadata": {},
       "output_type": "pyout",
       "prompt_number": 33,
       "text": [
        "  bronc lung  probability\n",
        "0   yes  yes       0.0315\n",
        "1   yes   no       0.4185\n",
        "2    no  yes       0.0235\n",
        "3    no   no       0.5265"
       ]
      }
     ],
     "prompt_number": 33
    },
    {
     "cell_type": "markdown",
     "metadata": {},
     "source": [
      "### Step 3\n",
      "In this step multiply factors $ \\phi (either,lung,tub) \\times \\phi_1(tub) $, and eliminate tub to produce: $ \\phi_3(either,lung) $"
     ]
    },
    {
     "cell_type": "code",
     "collapsed": false,
     "input": [
      "phi_3=TableCPDFactor(\"either\",bn)\n",
      "phi_3.multiplyfactor(phi_1)\n",
      "phi_3.sumout(\"tub\")\n",
      "printdist(phi_3,bn)"
     ],
     "language": "python",
     "metadata": {},
     "outputs": [
      {
       "html": [
        "<div style=\"max-height:1000px;max-width:1500px;overflow:auto;\">\n",
        "<table border=\"1\" class=\"dataframe\">\n",
        "  <thead>\n",
        "    <tr style=\"text-align: right;\">\n",
        "      <th></th>\n",
        "      <th>lung</th>\n",
        "      <th>either</th>\n",
        "      <th>probability</th>\n",
        "    </tr>\n",
        "  </thead>\n",
        "  <tbody>\n",
        "    <tr>\n",
        "      <th>0</th>\n",
        "      <td> yes</td>\n",
        "      <td> yes</td>\n",
        "      <td> 1.0000</td>\n",
        "    </tr>\n",
        "    <tr>\n",
        "      <th>1</th>\n",
        "      <td> yes</td>\n",
        "      <td>  no</td>\n",
        "      <td> 0.0000</td>\n",
        "    </tr>\n",
        "    <tr>\n",
        "      <th>2</th>\n",
        "      <td>  no</td>\n",
        "      <td> yes</td>\n",
        "      <td> 0.0104</td>\n",
        "    </tr>\n",
        "    <tr>\n",
        "      <th>3</th>\n",
        "      <td>  no</td>\n",
        "      <td>  no</td>\n",
        "      <td> 0.9896</td>\n",
        "    </tr>\n",
        "  </tbody>\n",
        "</table>\n",
        "</div>"
       ],
       "metadata": {},
       "output_type": "pyout",
       "prompt_number": 34,
       "text": [
        "  lung either  probability\n",
        "0  yes    yes       1.0000\n",
        "1  yes     no       0.0000\n",
        "2   no    yes       0.0104\n",
        "3   no     no       0.9896"
       ]
      }
     ],
     "prompt_number": 34
    },
    {
     "cell_type": "markdown",
     "metadata": {},
     "source": [
      "### step 4\n",
      "\n",
      "Multiply factors, $ \\phi_2(lung,bronc) \\times \\phi_3(either,lung) $, and eliminate lung to produce: $ \\phi_4(bronc,either) $. Not printing the CPD since we've seen what it looks like."
     ]
    },
    {
     "cell_type": "code",
     "collapsed": false,
     "input": [
      "phi_4=phi_3\n",
      "phi_4.multiplyfactor(phi_2)\n",
      "phi_4.sumout(\"lung\")\n",
      "print \"variables in scope \",phi_4.scope"
     ],
     "language": "python",
     "metadata": {},
     "outputs": [
      {
       "output_type": "stream",
       "stream": "stdout",
       "text": [
        "variables in scope  ['either', 'bronc']\n"
       ]
      }
     ],
     "prompt_number": 35
    },
    {
     "cell_type": "markdown",
     "metadata": {},
     "source": [
      "### Step 5\n",
      "In this step , multiply factors $ \\phi_4(bronc,either) \\times \\phi (dysp,bronc,either) \\times \\phi(xray,either) $, and eliminate either to produce factor: $ \\phi_5 (dysp,bronc,xray) $"
     ]
    },
    {
     "cell_type": "code",
     "collapsed": false,
     "input": [
      "phi_5=TableCPDFactor(\"xray\",bn)\n",
      "phi_5.multiplyfactor(phi_4)\n",
      "phi_5.multiplyfactor(TableCPDFactor(\"dysp\",bn))\n",
      "phi_5.sumout(\"either\")\n",
      "print \"variables in scope \",phi_5.scope"
     ],
     "language": "python",
     "metadata": {},
     "outputs": [
      {
       "output_type": "stream",
       "stream": "stdout",
       "text": [
        "variables in scope  ['xray', 'bronc', 'dysp']\n"
       ]
      }
     ],
     "prompt_number": 36
    },
    {
     "cell_type": "markdown",
     "metadata": {},
     "source": [
      "### Step 6\n",
      "In the final step , multiple $ \\phi_5 (dysp,bronc,xray) $, and eliminate dysp to produce: $ \\phi_6(xray,bronc) $, to get the required factor."
     ]
    },
    {
     "cell_type": "code",
     "collapsed": false,
     "input": [
      "phi_6=phi_5\n",
      "phi_6.sumout(\"dysp\")\n",
      "printdist(phi_6,bn)"
     ],
     "language": "python",
     "metadata": {},
     "outputs": [
      {
       "html": [
        "<div style=\"max-height:1000px;max-width:1500px;overflow:auto;\">\n",
        "<table border=\"1\" class=\"dataframe\">\n",
        "  <thead>\n",
        "    <tr style=\"text-align: right;\">\n",
        "      <th></th>\n",
        "      <th>bronc</th>\n",
        "      <th>xray</th>\n",
        "      <th>probability</th>\n",
        "    </tr>\n",
        "  </thead>\n",
        "  <tbody>\n",
        "    <tr>\n",
        "      <th>0</th>\n",
        "      <td> yes</td>\n",
        "      <td> yes</td>\n",
        "      <td> 0.055843</td>\n",
        "    </tr>\n",
        "    <tr>\n",
        "      <th>1</th>\n",
        "      <td> yes</td>\n",
        "      <td>  no</td>\n",
        "      <td> 0.394157</td>\n",
        "    </tr>\n",
        "    <tr>\n",
        "      <th>2</th>\n",
        "      <td>  no</td>\n",
        "      <td> yes</td>\n",
        "      <td> 0.054447</td>\n",
        "    </tr>\n",
        "    <tr>\n",
        "      <th>3</th>\n",
        "      <td>  no</td>\n",
        "      <td>  no</td>\n",
        "      <td> 0.495553</td>\n",
        "    </tr>\n",
        "  </tbody>\n",
        "</table>\n",
        "</div>"
       ],
       "metadata": {},
       "output_type": "pyout",
       "prompt_number": 37,
       "text": [
        "  bronc xray  probability\n",
        "0   yes  yes     0.055843\n",
        "1   yes   no     0.394157\n",
        "2    no  yes     0.054447\n",
        "3    no   no     0.495553"
       ]
      }
     ],
     "prompt_number": 37
    },
    {
     "cell_type": "markdown",
     "metadata": {},
     "source": [
      "The above factor has the variables in its scope that we need (xray, bronc), and since we need only specific assignment of xray=yes, we can reduce the factor by the given evidence. "
     ]
    },
    {
     "cell_type": "code",
     "collapsed": false,
     "input": [
      "phi_6.reducefactor(\"xray\",'yes')\n",
      "printdist(phi_6,bn)"
     ],
     "language": "python",
     "metadata": {},
     "outputs": [
      {
       "html": [
        "<div style=\"max-height:1000px;max-width:1500px;overflow:auto;\">\n",
        "<table border=\"1\" class=\"dataframe\">\n",
        "  <thead>\n",
        "    <tr style=\"text-align: right;\">\n",
        "      <th></th>\n",
        "      <th>bronc</th>\n",
        "      <th>probability</th>\n",
        "    </tr>\n",
        "  </thead>\n",
        "  <tbody>\n",
        "    <tr>\n",
        "      <th>0</th>\n",
        "      <td> yes</td>\n",
        "      <td> 0.055843</td>\n",
        "    </tr>\n",
        "    <tr>\n",
        "      <th>1</th>\n",
        "      <td>  no</td>\n",
        "      <td> 0.054447</td>\n",
        "    </tr>\n",
        "  </tbody>\n",
        "</table>\n",
        "</div>"
       ],
       "metadata": {},
       "output_type": "pyout",
       "prompt_number": 38,
       "text": [
        "  bronc  probability\n",
        "0   yes     0.055843\n",
        "1    no     0.054447"
       ]
      }
     ],
     "prompt_number": 38
    },
    {
     "cell_type": "markdown",
     "metadata": {},
     "source": [
      "Since this is not a valid probability distribution, we have to normalize the probability by dividing by the sum."
     ]
    },
    {
     "cell_type": "code",
     "collapsed": false,
     "input": [
      "summ = sum(phi_6.vals)\n",
      "phi_6.vals=[i/float(summ) for i in phi_6.vals]\n",
      "printdist(phi_6,bn)"
     ],
     "language": "python",
     "metadata": {},
     "outputs": [
      {
       "html": [
        "<div style=\"max-height:1000px;max-width:1500px;overflow:auto;\">\n",
        "<table border=\"1\" class=\"dataframe\">\n",
        "  <thead>\n",
        "    <tr style=\"text-align: right;\">\n",
        "      <th></th>\n",
        "      <th>bronc</th>\n",
        "      <th>probability</th>\n",
        "    </tr>\n",
        "  </thead>\n",
        "  <tbody>\n",
        "    <tr>\n",
        "      <th>0</th>\n",
        "      <td> yes</td>\n",
        "      <td> 0.506326</td>\n",
        "    </tr>\n",
        "    <tr>\n",
        "      <th>1</th>\n",
        "      <td>  no</td>\n",
        "      <td> 0.493674</td>\n",
        "    </tr>\n",
        "  </tbody>\n",
        "</table>\n",
        "</div>"
       ],
       "metadata": {},
       "output_type": "pyout",
       "prompt_number": 39,
       "text": [
        "  bronc  probability\n",
        "0   yes     0.506326\n",
        "1    no     0.493674"
       ]
      }
     ],
     "prompt_number": 39
    },
    {
     "cell_type": "markdown",
     "metadata": {},
     "source": [
      "The above code snippets detail the steps involved in arriving at the required CPD. \n",
      "When using Libpgm, algorithmic steps are contained with the condprobve methodthat method\n",
      "\n"
     ]
    },
    {
     "cell_type": "code",
     "collapsed": false,
     "input": [
      "bn = loadbn(\"asia1.txt\")\n",
      "evidence = {\"xray\":'yes'}\n",
      "query = {\"bronc\":'yes'}\n",
      "\n",
      "fn = TableCPDFactorization(bn)\n",
      "result = fn.condprobve(query, evidence)\n",
      "printdist(result,bn)"
     ],
     "language": "python",
     "metadata": {},
     "outputs": [
      {
       "html": [
        "<div style=\"max-height:1000px;max-width:1500px;overflow:auto;\">\n",
        "<table border=\"1\" class=\"dataframe\">\n",
        "  <thead>\n",
        "    <tr style=\"text-align: right;\">\n",
        "      <th></th>\n",
        "      <th>bronc</th>\n",
        "      <th>probability</th>\n",
        "    </tr>\n",
        "  </thead>\n",
        "  <tbody>\n",
        "    <tr>\n",
        "      <th>0</th>\n",
        "      <td> yes</td>\n",
        "      <td> 0.506326</td>\n",
        "    </tr>\n",
        "    <tr>\n",
        "      <th>1</th>\n",
        "      <td>  no</td>\n",
        "      <td> 0.493674</td>\n",
        "    </tr>\n",
        "  </tbody>\n",
        "</table>\n",
        "</div>"
       ],
       "metadata": {},
       "output_type": "pyout",
       "prompt_number": 40,
       "text": [
        "  bronc  probability\n",
        "0   yes     0.506326\n",
        "1    no     0.493674"
       ]
      }
     ],
     "prompt_number": 40
    }
   ],
   "metadata": {}
  }
 ]
}