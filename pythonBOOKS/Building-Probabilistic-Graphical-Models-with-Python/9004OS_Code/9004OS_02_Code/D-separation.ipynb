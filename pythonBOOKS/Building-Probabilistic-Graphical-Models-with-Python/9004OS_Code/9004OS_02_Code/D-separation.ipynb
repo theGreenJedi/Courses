{
 "metadata": {
  "name": ""
 },
 "nbformat": 3,
 "nbformat_minor": 0,
 "worksheets": [
  {
   "cells": [
    {
     "cell_type": "markdown",
     "metadata": {},
     "source": [
      "In this section we shall look at using the job candidate example to understand d-separation.\n",
      "In the process of doing Causal Reasoning, we will query for Job Offer, and we shall introduce observed variables in the parents of Job Offer to verify the concepts of Active Trails that we have seen in the previous section."
     ]
    },
    {
     "cell_type": "code",
     "collapsed": false,
     "input": [
      "from libpgm.graphskeleton import GraphSkeleton\n",
      "from libpgm.nodedata import NodeData\n",
      "from libpgm.discretebayesiannetwork import DiscreteBayesianNetwork\n",
      "from libpgm.tablecpdfactorization import TableCPDFactorization\n",
      "\n",
      "def getTableCPD():\n",
      "    nd = NodeData()\n",
      "    skel = GraphSkeleton()\n",
      "    jsonpath=\"job_interview.txt\"\n",
      "    nd.load(jsonpath)\n",
      "    skel.load(jsonpath)\n",
      "    # load bayesian network\n",
      "    bn = DiscreteBayesianNetwork(skel, nd)\n",
      "    tablecpd=TableCPDFactorization(bn)\n",
      "    return tablecpd"
     ],
     "language": "python",
     "metadata": {},
     "outputs": [],
     "prompt_number": 2
    },
    {
     "cell_type": "markdown",
     "metadata": {},
     "source": [
      "We first query Job Offer with no other observed variables."
     ]
    },
    {
     "cell_type": "code",
     "collapsed": false,
     "input": [
      "getTableCPD().specificquery(dict(Offer='1'),dict())"
     ],
     "language": "python",
     "metadata": {},
     "outputs": [
      {
       "output_type": "stream",
       "stream": "stdout",
       "text": [
        "0.432816\n"
       ]
      }
     ],
     "prompt_number": 3
    },
    {
     "cell_type": "markdown",
     "metadata": {},
     "source": [
      "We know from the active trail rules that observing Experience should change the probability of Job Offer."
     ]
    },
    {
     "cell_type": "code",
     "collapsed": false,
     "input": [
      "getTableCPD().specificquery(dict(Offer='1'),dict(Experience='1'))"
     ],
     "language": "python",
     "metadata": {},
     "outputs": [
      {
       "output_type": "stream",
       "stream": "stdout",
       "text": [
        "0.6438\n"
       ]
      }
     ],
     "prompt_number": 4
    },
    {
     "cell_type": "markdown",
     "metadata": {},
     "source": [
      "And it does. Now let us add the Job interview observed variable. "
     ]
    },
    {
     "cell_type": "code",
     "collapsed": false,
     "input": [
      "getTableCPD().specificquery(dict(Offer='1'),dict(Interview='1'))"
     ],
     "language": "python",
     "metadata": {},
     "outputs": [
      {
       "output_type": "stream",
       "stream": "stdout",
       "text": [
        "0.6\n"
       ]
      }
     ],
     "prompt_number": 5
    },
    {
     "cell_type": "markdown",
     "metadata": {},
     "source": [
      "We get a slightly different probability for Job Offer. We know from the D-seperation rules that observing Job Interview should block the active trail from Experience to Job Offer."
     ]
    },
    {
     "cell_type": "code",
     "collapsed": false,
     "input": [
      "\n",
      "getTableCPD().specificquery(dict(Offer='1'),dict(Interview='1',Experience='1'))"
     ],
     "language": "python",
     "metadata": {},
     "outputs": [
      {
       "output_type": "stream",
       "stream": "stdout",
       "text": [
        "0.6\n"
       ]
      }
     ],
     "prompt_number": 6
    },
    {
     "cell_type": "markdown",
     "metadata": {},
     "source": [
      "Observe that the probability of Job Offer does not change from 0.6, despite the addition of the Experience variable being observed. We can add other values of Job Interview's parent variables"
     ]
    },
    {
     "cell_type": "code",
     "collapsed": false,
     "input": [
      "query=dict(Offer='1')\n",
      "results=[getTableCPD().specificquery(query,e) for e in [dict(Interview='1',Experience='0'),dict(Interview='1',Experience='1'),\n",
      "                                                        dict(Interview='1',Grades='1'),dict(Interview='1',Grades='0')]]\n",
      "print results"
     ],
     "language": "python",
     "metadata": {},
     "outputs": [
      {
       "output_type": "stream",
       "stream": "stdout",
       "text": [
        "[0.6, 0.6, 0.6, 0.6]\n"
       ]
      }
     ],
     "prompt_number": 9
    },
    {
     "cell_type": "markdown",
     "metadata": {},
     "source": [
      "The above code shows that once the Job Interview variable is observed, the active trail between Experience and Job Offer is blocked . Observing values of its parents Experience and Grades do not contribute to changing the probability of Job Offer.\n",
      "\n",
      "## Blocking and unblocking a V-structure\n"
     ]
    },
    {
     "cell_type": "code",
     "collapsed": false,
     "input": [
      "print getTableCPD().specificquery(dict(Grades='1'),dict(Experience='0'))\n",
      "print getTableCPD().specificquery(dict(Grades='1'),dict())"
     ],
     "language": "python",
     "metadata": {},
     "outputs": [
      {
       "output_type": "stream",
       "stream": "stdout",
       "text": [
        "0.3\n",
        "0.3\n"
       ]
      }
     ],
     "prompt_number": 24
    },
    {
     "cell_type": "markdown",
     "metadata": {},
     "source": [
      "According the rules of D-separation, the The Job Interview node is a V-structure between Experience and Grades, and it blocks the active trail between them. The above code shows that the introduction of observed variable Experience has no effect on the probability of Grade."
     ]
    },
    {
     "cell_type": "code",
     "collapsed": false,
     "input": [
      "print getTableCPD().specificquery(dict(Grades='1'),dict(Interview='1'))"
     ],
     "language": "python",
     "metadata": {},
     "outputs": [
      {
       "output_type": "stream",
       "stream": "stdout",
       "text": [
        "0.413016270338\n"
       ]
      }
     ],
     "prompt_number": 25
    },
    {
     "cell_type": "markdown",
     "metadata": {},
     "source": [
      "That should activate trail between Experience and Grades."
     ]
    },
    {
     "cell_type": "code",
     "collapsed": false,
     "input": [
      "print getTableCPD().specificquery(dict(Grades='1'),dict(Interview='1',Experience='0'))\n",
      "print getTableCPD().specificquery(dict(Grades='1'),dict(Interview='1',Experience='1'))"
     ],
     "language": "python",
     "metadata": {},
     "outputs": [
      {
       "output_type": "stream",
       "stream": "stdout",
       "text": [
        "0.588235294118\n",
        "0.176470588235\n"
       ]
      }
     ],
     "prompt_number": 26
    },
    {
     "cell_type": "markdown",
     "metadata": {},
     "source": [
      "the above code now shows the existence of an active trail between Experience and Grade, where changing the observed Experience does change the probability of Grades."
     ]
    }
   ],
   "metadata": {}
  }
 ]
}