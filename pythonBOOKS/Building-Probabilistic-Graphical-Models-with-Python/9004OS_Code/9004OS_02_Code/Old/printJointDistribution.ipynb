{
 "metadata": {
  "name": ""
 },
 "nbformat": 3,
 "nbformat_minor": 0,
 "worksheets": [
  {
   "cells": [
    {
     "cell_type": "markdown",
     "metadata": {},
     "source": [
      "The goal of this program is to print out the joint distribution for the job interview example (where the Admission node is absent), that is, the joint distribution over the variables experience, education, interview and offer.\n",
      "\n",
      "We first load the JSON file containing the CPDs and tree structure in the getJointDist() method, and then do a product of the interview and offer CPD factors. This gives us an object that contains the un-normalized values of the joint distribution using those four variables.\n",
      "\n",
      "The printjointdist method prints the permutations of the variables involved, along with the normalized probabilities against each one."
     ]
    },
    {
     "cell_type": "code",
     "collapsed": false,
     "input": [
      "from libpgm.graphskeleton import GraphSkeleton\n",
      "from libpgm.nodedata import NodeData\n",
      "from libpgm.discretebayesiannetwork import DiscreteBayesianNetwork\n",
      "from libpgm.tablecpdfactor import TableCPDFactor\n",
      "import itertools\n",
      "\n",
      "def getJointDist():\n",
      "    nd = NodeData()\n",
      "    skel = GraphSkeleton()\n",
      "    jsonpath=\"C:/home/home/book/libpgm-1.2/tests/job_interview.txt\"\n",
      "    nd.load(jsonpath)\n",
      "    skel.load(jsonpath)\n",
      "    skel.toporder()\n",
      "    # load bayes netw\n",
      "    bn = DiscreteBayesianNetwork(skel, nd)\n",
      "    inter_fac=TableCPDFactor(\"Interview\",bn)\n",
      "    offer_fac=TableCPDFactor(\"Offer\",bn)\n",
      "    offer_fac.multiplyfactor(inter_fac)\n",
      "    return offer_fac,bn\n",
      "\n",
      "def printjointdist(jd,bn):\n",
      "    x=[bn.Vdata[i][\"vals\"] for i in jd.scope]\n",
      "    normvals=[i/sum(jd.vals) for i in jd.vals]\n",
      "    k=zip([i for i in itertools.product(*x[::-1])],normvals)\n",
      "    print [i for i in reversed(jd.scope)]\n",
      "    \n",
      "    print '=========================================='\n",
      "    \n",
      "    print \"\\n\".join([str(i) for i in k])\n",
      "    \n",
      "jd,bn=getJointDist()\n",
      "\n",
      "printjointdist(jd,bn)\n",
      "\n"
     ],
     "language": "python",
     "metadata": {},
     "outputs": [
      {
       "output_type": "stream",
       "stream": "stdout",
       "text": [
        "[u'Experience', u'Grades', u'Interview', 'Offer']\n",
        "==========================================\n",
        "((u'0', u'0', u'0', u'0'), 0.18000000000000005)\n",
        "((u'0', u'0', u'0', u'1'), 0.020000000000000007)\n",
        "((u'0', u'0', u'1', u'0'), 0.018000000000000002)\n",
        "((u'0', u'0', u'1', u'1'), 0.027000000000000003)\n",
        "((u'0', u'0', u'2', u'0'), 5.000000000000001e-05)\n",
        "((u'0', u'0', u'2', u'1'), 0.004950000000000001)\n",
        "((u'0', u'1', u'0', u'0'), 0.06750000000000002)\n",
        "((u'0', u'1', u'0', u'1'), 0.007500000000000001)\n",
        "((u'0', u'1', u'1', u'0'), 0.060000000000000005)\n",
        "((u'0', u'1', u'1', u'1'), 0.09000000000000001)\n",
        "((u'0', u'1', u'2', u'0'), 0.00025000000000000006)\n",
        "((u'0', u'1', u'2', u'1'), 0.024750000000000005)\n",
        "((u'1', u'0', u'0', u'0'), 0.06750000000000002)\n",
        "((u'1', u'0', u'0', u'1'), 0.007500000000000001)\n",
        "((u'1', u'0', u'1', u'0'), 0.040000000000000015)\n",
        "((u'1', u'0', u'1', u'1'), 0.060000000000000005)\n",
        "((u'1', u'0', u'2', u'0'), 0.0007500000000000001)\n",
        "((u'1', u'0', u'2', u'1'), 0.07425000000000001)\n",
        "((u'1', u'1', u'0', u'0'), 0.022500000000000006)\n",
        "((u'1', u'1', u'0', u'1'), 0.002500000000000001)\n",
        "((u'1', u'1', u'1', u'0'), 0.020000000000000007)\n",
        "((u'1', u'1', u'1', u'1'), 0.030000000000000002)\n",
        "((u'1', u'1', u'2', u'0'), 0.00175)\n",
        "((u'1', u'1', u'2', u'1'), 0.17325000000000002)\n"
       ]
      }
     ],
     "prompt_number": 5
    },
    {
     "cell_type": "code",
     "collapsed": false,
     "input": [],
     "language": "python",
     "metadata": {},
     "outputs": []
    }
   ],
   "metadata": {}
  }
 ]
}