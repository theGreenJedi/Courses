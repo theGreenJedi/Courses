{
 "metadata": {
  "name": "",
  "signature": "sha256:da6d7a7bf7707acb270eea4c1e93fee37211a4d0db41c043e9c2520fe49fe7bf"
 },
 "nbformat": 3,
 "nbformat_minor": 0,
 "worksheets": [
  {
   "cells": [
    {
     "cell_type": "markdown",
     "metadata": {},
     "source": [
      "In this recipe we're going to show how you can keep your model around for more later.  For example, you might want to actually use a model to predict the outcome, and automatically make a decision."
     ]
    },
    {
     "cell_type": "markdown",
     "metadata": {},
     "source": [
      "#Getting Ready"
     ]
    },
    {
     "cell_type": "markdown",
     "metadata": {},
     "source": [
      "In this recipe we will:\n",
      "\n",
      "1. Fit the model that we will presist.\n",
      "2. Import joblib and save the model."
     ]
    },
    {
     "cell_type": "markdown",
     "metadata": {},
     "source": [
      "#How to do it\n",
      "\n"
     ]
    },
    {
     "cell_type": "code",
     "collapsed": false,
     "input": [
      "from sklearn import datasets, tree"
     ],
     "language": "python",
     "metadata": {},
     "outputs": [],
     "prompt_number": 1
    },
    {
     "cell_type": "code",
     "collapsed": false,
     "input": [
      "X, y = datasets.make_classification()\n",
      "\n",
      "dt = tree.DecisionTreeClassifier()\n",
      "dt.fit(X, y)"
     ],
     "language": "python",
     "metadata": {},
     "outputs": [
      {
       "metadata": {},
       "output_type": "pyout",
       "prompt_number": 2,
       "text": [
        "DecisionTreeClassifier(compute_importances=None, criterion='gini',\n",
        "            max_depth=None, max_features=None, max_leaf_nodes=None,\n",
        "            min_density=None, min_samples_leaf=1, min_samples_split=2,\n",
        "            random_state=None, splitter='best')"
       ]
      }
     ],
     "prompt_number": 2
    },
    {
     "cell_type": "code",
     "collapsed": false,
     "input": [
      "from sklearn.externals import joblib"
     ],
     "language": "python",
     "metadata": {},
     "outputs": [],
     "prompt_number": 3
    },
    {
     "cell_type": "code",
     "collapsed": false,
     "input": [
      "joblib.dump(dt, \"dtree.clf\")"
     ],
     "language": "python",
     "metadata": {},
     "outputs": [
      {
       "metadata": {},
       "output_type": "pyout",
       "prompt_number": 4,
       "text": [
        "['dtree.clf',\n",
        " 'dtree.clf_01.npy',\n",
        " 'dtree.clf_02.npy',\n",
        " 'dtree.clf_03.npy',\n",
        " 'dtree.clf_04.npy']"
       ]
      }
     ],
     "prompt_number": 4
    },
    {
     "cell_type": "markdown",
     "metadata": {},
     "source": [
      "#How it works"
     ]
    },
    {
     "cell_type": "markdown",
     "metadata": {},
     "source": [
      "This works by saving the state of the object that can then reloaded into a scikit-learn object.  It's important to note that the state of model will have varying levels of complexity given the model type.\n",
      "\n",
      "For simplicity sake consider that all we'd need to store was the way to predict the outcome given inputs.  Well, for Regression that would be easy, a little matrix algebra and we're done.  However for models like Random Forest where we could have many trees, and those trees could be of various levels complexity.\n",
      "\n",
      "We can check the size of Decision Tree vs Random Forest."
     ]
    },
    {
     "cell_type": "code",
     "collapsed": false,
     "input": [
      "from sklearn import ensemble\n",
      "\n",
      "rf = ensemble.RandomForestClassifier()\n",
      "rf.fit(X, y)"
     ],
     "language": "python",
     "metadata": {},
     "outputs": [
      {
       "metadata": {},
       "output_type": "pyout",
       "prompt_number": 7,
       "text": [
        "RandomForestClassifier(bootstrap=True, compute_importances=None,\n",
        "            criterion='gini', max_depth=None, max_features='auto',\n",
        "            max_leaf_nodes=None, min_density=None, min_samples_leaf=1,\n",
        "            min_samples_split=2, n_estimators=10, n_jobs=1,\n",
        "            oob_score=False, random_state=None, verbose=0)"
       ]
      }
     ],
     "prompt_number": 7
    },
    {
     "cell_type": "markdown",
     "metadata": {},
     "source": [
      "I'm going to omit the trucate the output, but in total there we were 52 files output on my machine."
     ]
    },
    {
     "cell_type": "code",
     "collapsed": false,
     "input": [
      "joblib.dump(rf, \"rf.clf\")"
     ],
     "language": "python",
     "metadata": {},
     "outputs": [
      {
       "metadata": {},
       "output_type": "pyout",
       "prompt_number": 8,
       "text": [
        "['rf.clf',\n",
        " 'rf.clf_01.npy',\n",
        " 'rf.clf_02.npy',\n",
        " 'rf.clf_03.npy',\n",
        " 'rf.clf_04.npy',\n",
        " 'rf.clf_05.npy',\n",
        " 'rf.clf_06.npy',\n",
        " 'rf.clf_07.npy',\n",
        " 'rf.clf_08.npy',\n",
        " 'rf.clf_09.npy',\n",
        " 'rf.clf_10.npy',\n",
        " 'rf.clf_11.npy',\n",
        " 'rf.clf_12.npy',\n",
        " 'rf.clf_13.npy',\n",
        " 'rf.clf_14.npy',\n",
        " 'rf.clf_15.npy',\n",
        " 'rf.clf_16.npy',\n",
        " 'rf.clf_17.npy',\n",
        " 'rf.clf_18.npy',\n",
        " 'rf.clf_19.npy',\n",
        " 'rf.clf_20.npy',\n",
        " 'rf.clf_21.npy',\n",
        " 'rf.clf_22.npy',\n",
        " 'rf.clf_23.npy',\n",
        " 'rf.clf_24.npy',\n",
        " 'rf.clf_25.npy',\n",
        " 'rf.clf_26.npy',\n",
        " 'rf.clf_27.npy',\n",
        " 'rf.clf_28.npy',\n",
        " 'rf.clf_29.npy',\n",
        " 'rf.clf_30.npy',\n",
        " 'rf.clf_31.npy',\n",
        " 'rf.clf_32.npy',\n",
        " 'rf.clf_33.npy',\n",
        " 'rf.clf_34.npy',\n",
        " 'rf.clf_35.npy',\n",
        " 'rf.clf_36.npy',\n",
        " 'rf.clf_37.npy',\n",
        " 'rf.clf_38.npy',\n",
        " 'rf.clf_39.npy',\n",
        " 'rf.clf_40.npy',\n",
        " 'rf.clf_41.npy',\n",
        " 'rf.clf_42.npy',\n",
        " 'rf.clf_43.npy',\n",
        " 'rf.clf_44.npy',\n",
        " 'rf.clf_45.npy',\n",
        " 'rf.clf_46.npy',\n",
        " 'rf.clf_47.npy',\n",
        " 'rf.clf_48.npy',\n",
        " 'rf.clf_49.npy',\n",
        " 'rf.clf_50.npy',\n",
        " 'rf.clf_51.npy']"
       ]
      }
     ],
     "prompt_number": 8
    }
   ],
   "metadata": {}
  }
 ]
}