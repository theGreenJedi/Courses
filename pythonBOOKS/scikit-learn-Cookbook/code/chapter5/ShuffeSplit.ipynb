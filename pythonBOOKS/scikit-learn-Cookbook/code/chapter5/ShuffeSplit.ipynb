{
 "metadata": {
  "name": "",
  "signature": "sha256:a819e98c4a88323601f1a69c15b4b70280a5b8102a81419f952c0b46fd7360b6"
 },
 "nbformat": 3,
 "nbformat_minor": 0,
 "worksheets": [
  {
   "cells": [
    {
     "cell_type": "code",
     "collapsed": false,
     "input": [
      "%matplotlib inline"
     ],
     "language": "python",
     "metadata": {},
     "outputs": [],
     "prompt_number": 1
    },
    {
     "cell_type": "markdown",
     "metadata": {},
     "source": [
      "This is one of the simplest cross validation techniques, `ShuffleSplit`.  This cross validation technique will simply take sample of the data for the number of iterations specified."
     ]
    },
    {
     "cell_type": "markdown",
     "metadata": {},
     "source": [
      "#Getting Ready"
     ]
    },
    {
     "cell_type": "markdown",
     "metadata": {},
     "source": [
      "`ShuffleSplit` is another cross validation technique that is very simple.  We'll specify the total elements in the dataset, and it will take care of the rest.  We'll walk though an example of estimating the mean of a univariate dataset.  This is somewhat similar to resampling, but it'll illustrate how one reason we want to use cross validation while show cross validation."
     ]
    },
    {
     "cell_type": "markdown",
     "metadata": {},
     "source": [
      "# How to do it"
     ]
    },
    {
     "cell_type": "markdown",
     "metadata": {},
     "source": [
      "First we need to create the dataset.  We'll use numpy to create a dataset where we know the underlying mean.  We'll sample half of the dataset to estimate the mean.  And see how close it is to the underlying mean.  After that, we'll use scikit-learn `LeavePOut` object to resample the dataset several times."
     ]
    },
    {
     "cell_type": "code",
     "collapsed": false,
     "input": [
      "import numpy as np\n",
      "\n",
      "true_loc = 1000\n",
      "true_scale = 10\n",
      "N = 1000\n",
      "\n",
      "dataset = np.random.normal(true_loc, true_scale, N)"
     ],
     "language": "python",
     "metadata": {},
     "outputs": [],
     "prompt_number": 2
    },
    {
     "cell_type": "code",
     "collapsed": false,
     "input": [
      "import matplotlib.pyplot as plt\n",
      "\n",
      "f, ax = plt.subplots(figsize=(7, 5))\n",
      "\n",
      "ax.hist(dataset, color='k', alpha=.65, histtype='stepfilled');\n",
      "ax.set_title(\"Histogram of dataset\");\n",
      "\n",
      "f.savefig(\"978-1-78398-948-5_06_06.png\")\n",
      "#ax.legend()"
     ],
     "language": "python",
     "metadata": {},
     "outputs": [
      {
       "metadata": {},
       "output_type": "display_data",
       "png": "[encoded data removed]",
       "text": [
        "<matplotlib.figure.Figure at 0x105e9f990>"
       ]
      }
     ],
     "prompt_number": 5
    },
    {
     "cell_type": "markdown",
     "metadata": {},
     "source": [
      "Now let's take the first half of the data and guess the mean."
     ]
    },
    {
     "cell_type": "code",
     "collapsed": false,
     "input": [
      "from sklearn import cross_validation"
     ],
     "language": "python",
     "metadata": {},
     "outputs": [],
     "prompt_number": 6
    },
    {
     "cell_type": "code",
     "collapsed": false,
     "input": [
      "holdout_set = dataset[:500]\n",
      "fitting_set = dataset[500:]"
     ],
     "language": "python",
     "metadata": {},
     "outputs": [],
     "prompt_number": 7
    },
    {
     "cell_type": "code",
     "collapsed": false,
     "input": [
      "estimate = fitting_set[:N/2].mean()"
     ],
     "language": "python",
     "metadata": {},
     "outputs": [],
     "prompt_number": 8
    },
    {
     "cell_type": "code",
     "collapsed": false,
     "input": [
      "import matplotlib.pyplot as plt\n",
      "\n",
      "f, ax = plt.subplots(figsize=(7, 5))\n",
      "\n",
      "ax.set_title(\"True Mean vs Regular Estimate\")\n",
      "\n",
      "ax.vlines(true_loc, 0, 1, color='r', linestyles='-', lw=5, alpha=.65, label='true mean')\n",
      "ax.vlines(estimate, 0, 1, color='g', linestyles='-', lw=5, alpha=.65, label='regular estimate')\n",
      "\n",
      "ax.set_xlim(999, 1001)\n",
      "\n",
      "ax.legend()\n",
      "\n",
      "f.savefig(\"978-1-78398-948-5_06_07.png\")"
     ],
     "language": "python",
     "metadata": {},
     "outputs": [
      {
       "metadata": {},
       "output_type": "display_data",
       "png": "[encoded data removed]",
       "text": [
        "<matplotlib.figure.Figure at 0x107631d90>"
       ]
      }
     ],
     "prompt_number": 9
    },
    {
     "cell_type": "markdown",
     "metadata": {},
     "source": [
      "Now we can use `ShuffleSplit` to fit the estimator on several smaller datasets."
     ]
    },
    {
     "cell_type": "code",
     "collapsed": false,
     "input": [
      "from sklearn.cross_validation import ShuffleSplit"
     ],
     "language": "python",
     "metadata": {},
     "outputs": [],
     "prompt_number": 10
    },
    {
     "cell_type": "code",
     "collapsed": false,
     "input": [
      "shuffle_split = ShuffleSplit(len(fitting_set))"
     ],
     "language": "python",
     "metadata": {},
     "outputs": [],
     "prompt_number": 11
    },
    {
     "cell_type": "code",
     "collapsed": false,
     "input": [
      "mean_p = []\n",
      "\n",
      "for train, _ in shuffle_split:\n",
      "    mean_p.append(fitting_set[train].mean())\n",
      "    \n",
      "shuf_estimate = np.mean(mean_p)"
     ],
     "language": "python",
     "metadata": {},
     "outputs": [],
     "prompt_number": 12
    },
    {
     "cell_type": "code",
     "collapsed": false,
     "input": [
      "import matplotlib.pyplot as plt\n",
      "\n",
      "f, ax = plt.subplots(figsize=(7, 5))\n",
      "\n",
      "ax.vlines(true_loc, 0, 1, color='r', linestyles='-', lw=5, alpha=.65, label='true mean')\n",
      "ax.vlines(estimate, 0, 1, color='g', linestyles='-', lw=5, alpha=.65, label='regular estimate')\n",
      "ax.vlines(shuf_estimate, 0, 1, color='b', linestyles='-', lw=5, alpha=.65, label='shufflesplit estimate')\n",
      "\n",
      "ax.set_title(\"All Estimates\")\n",
      "ax.set_xlim(999, 1001)\n",
      "\n",
      "f.savefig(\"978-1-78398-948-5_06_08.png\")\n",
      "\n",
      "ax.legend(loc=3)"
     ],
     "language": "python",
     "metadata": {},
     "outputs": [
      {
       "metadata": {},
       "output_type": "pyout",
       "prompt_number": 14,
       "text": [
        "<matplotlib.legend.Legend at 0x10622ebd0>"
       ]
      },
      {
       "metadata": {},
       "output_type": "display_data",
       "png": "[encoded data removed]",
       "text": [
        "<matplotlib.figure.Figure at 0x106272cd0>"
       ]
      }
     ],
     "prompt_number": 14
    }
   ],
   "metadata": {}
  }
 ]
}