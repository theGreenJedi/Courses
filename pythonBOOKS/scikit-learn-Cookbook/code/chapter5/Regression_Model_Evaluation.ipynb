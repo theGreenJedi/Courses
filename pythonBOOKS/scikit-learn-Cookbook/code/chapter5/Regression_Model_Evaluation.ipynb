{
 "metadata": {
  "name": "",
  "signature": "sha256:72cd58971a79feabd76e7347a6f887d4feff493eec0b1980e979d4725fa555ec"
 },
 "nbformat": 3,
 "nbformat_minor": 0,
 "worksheets": [
  {
   "cells": [
    {
     "cell_type": "code",
     "collapsed": false,
     "input": [
      "%matplotlib inline"
     ],
     "language": "python",
     "metadata": {},
     "outputs": [],
     "prompt_number": 21
    },
    {
     "cell_type": "markdown",
     "metadata": {},
     "source": [
      "So we've talk about quantifying the error in classification, now we'll talk about quantifying the error for continuous problems.  For example we're trying to predict an age, not a gender."
     ]
    },
    {
     "cell_type": "markdown",
     "metadata": {},
     "source": [
      "#Getting Ready"
     ]
    },
    {
     "cell_type": "markdown",
     "metadata": {},
     "source": [
      "Like the classification, we'll fake some data, then plot the change.  We'll start simple then build up the complexity.  The data will be a simulated linear model."
     ]
    },
    {
     "cell_type": "code",
     "collapsed": false,
     "input": [
      "m = 2\n",
      "b = 1\n",
      "\n",
      "y = lambda x: m*x+b"
     ],
     "language": "python",
     "metadata": {},
     "outputs": [],
     "prompt_number": 22
    },
    {
     "cell_type": "markdown",
     "metadata": {},
     "source": [
      "Also, let's get our modules loaded."
     ]
    },
    {
     "cell_type": "code",
     "collapsed": false,
     "input": [
      "import numpy as np\n",
      "import matplotlib.pyplot as plt\n",
      "from sklearn import metrics"
     ],
     "language": "python",
     "metadata": {},
     "outputs": [],
     "prompt_number": 23
    },
    {
     "cell_type": "markdown",
     "metadata": {},
     "source": [
      "# How to do it"
     ]
    },
    {
     "cell_type": "markdown",
     "metadata": {},
     "source": [
      "Ok, so no we are going to:\n",
      "    \n",
      "    1. Use `y` to generate `y_actual`\n",
      "    2. Use `y_actual` plus some err to generate `y_prediction`\n",
      "    3. Plot the differences\n",
      "    4. Walk through various metrics and plot some of them\n",
      "\n",
      "Let's take care of 1 and 2 at the same time and just have a function do the work for us.  This will be almost the same thing we saw just a second ago, but we'll add the ability to specify an error (or bias if a constant)."
     ]
    },
    {
     "cell_type": "code",
     "collapsed": false,
     "input": [
      "def data(x, m=2, b=1, e=None, s=10):\n",
      "    \"\"\"  \n",
      "    Args:\n",
      "        x: The x value\n",
      "        m: Slope\n",
      "        b: Intercept\n",
      "        e: Error, optional, True will give\n",
      "            random error\n",
      "    \"\"\"\n",
      "    \n",
      "    if e is None:\n",
      "        e_i = 0\n",
      "    elif e is True:\n",
      "        e_i = np.random.normal(0, s, len(xs))\n",
      "    else:\n",
      "        e_i = e\n",
      "    \n",
      "    return x * m + b + e_i"
     ],
     "language": "python",
     "metadata": {},
     "outputs": [],
     "prompt_number": 24
    },
    {
     "cell_type": "markdown",
     "metadata": {},
     "source": [
      "Ok, so now that we have the function, let's define y_hat and y_actual.  We'll do it in a convient way."
     ]
    },
    {
     "cell_type": "code",
     "collapsed": false,
     "input": [
      "from functools import partial"
     ],
     "language": "python",
     "metadata": {},
     "outputs": [],
     "prompt_number": 25
    },
    {
     "cell_type": "code",
     "collapsed": false,
     "input": [
      "N = 100\n",
      "xs = np.sort(np.random.rand(N)*100)"
     ],
     "language": "python",
     "metadata": {},
     "outputs": [],
     "prompt_number": 26
    },
    {
     "cell_type": "code",
     "collapsed": false,
     "input": [
      "y_pred_gen = partial(data, x=xs, e=True)\n",
      "y_true_gen = partial(data, x=xs)\n",
      "\n",
      "y_pred = y_pred_gen()\n",
      "y_true = y_true_gen()"
     ],
     "language": "python",
     "metadata": {},
     "outputs": [],
     "prompt_number": 27
    },
    {
     "cell_type": "code",
     "collapsed": false,
     "input": [
      "f, ax = plt.subplots(figsize=(7, 5))\n",
      "\n",
      "ax.set_title(\"Plotting the fit vs the underlying process.\")\n",
      "ax.scatter(xs, y_pred, label=r'$\\hat{y}$')\n",
      "ax.plot(xs, y_true, label=r'$y$')\n",
      "\n",
      "ax.legend(loc='best')\n",
      "\n",
      "f.savefig(\"978-1-78398-948-5_06_03.png\")"
     ],
     "language": "python",
     "metadata": {},
     "outputs": [
      {
       "metadata": {},
       "output_type": "display_data",
       "png": "[encoded data removed]",
       "text": [
        "<matplotlib.figure.Figure at 0x1077bb990>"
       ]
      }
     ],
     "prompt_number": 33
    },
    {
     "cell_type": "markdown",
     "metadata": {},
     "source": [
      "Just to confirm we'd be working with the classical residuals."
     ]
    },
    {
     "cell_type": "code",
     "collapsed": false,
     "input": [
      "e_hat = y_pred - y_true"
     ],
     "language": "python",
     "metadata": {},
     "outputs": [],
     "prompt_number": 34
    },
    {
     "cell_type": "code",
     "collapsed": false,
     "input": [
      "f, ax = plt.subplots(figsize=(7, 5))\n",
      "\n",
      "ax.set_title(\"Residuals\")\n",
      "ax.hist(e_hat, color='r', alpha=.5, histtype='stepfilled')\n",
      "\n",
      "f.savefig(\"978-1-78398-948-5_06_04.png\")"
     ],
     "language": "python",
     "metadata": {},
     "outputs": [
      {
       "metadata": {},
       "output_type": "display_data",
       "png": "[encoded data removed]",
       "text": [
        "<matplotlib.figure.Figure at 0x1077ab610>"
       ]
      }
     ],
     "prompt_number": 35
    },
    {
     "cell_type": "markdown",
     "metadata": {},
     "source": [
      "So that looks good."
     ]
    },
    {
     "cell_type": "markdown",
     "metadata": {},
     "source": [
      "#How it works"
     ]
    },
    {
     "cell_type": "markdown",
     "metadata": {},
     "source": [
      "Now to the metrics."
     ]
    },
    {
     "cell_type": "markdown",
     "metadata": {},
     "source": [
      "First up is the mean squared error."
     ]
    },
    {
     "cell_type": "markdown",
     "metadata": {},
     "source": [
      "$$MSE(y_{true}, y_{pred}) = E((y_{true} - y_{pred})^2)$$"
     ]
    },
    {
     "cell_type": "code",
     "collapsed": false,
     "input": [
      "metrics.mean_squared_error(y_true, y_pred)"
     ],
     "language": "python",
     "metadata": {},
     "outputs": [
      {
       "metadata": {},
       "output_type": "pyout",
       "prompt_number": 36,
       "text": [
        "93.342352628475368"
       ]
      }
     ],
     "prompt_number": 36
    },
    {
     "cell_type": "markdown",
     "metadata": {},
     "source": [
      "You'll notice that this will penalize large errors more than small errors.  It's important to remember that all we're doing here is apply what probably was the cost function for the model on the test data."
     ]
    },
    {
     "cell_type": "markdown",
     "metadata": {},
     "source": [
      "Another option is the mean absolute deviation.  We need to take the absolute value of the difference, if we don't our value will probably be fairly close to zero, the mean of the distribution."
     ]
    },
    {
     "cell_type": "markdown",
     "metadata": {},
     "source": [
      "$$MAD(y_{true}, y_{pred}) = E(|y_{true} - y_{pred}|)$$"
     ]
    },
    {
     "cell_type": "markdown",
     "metadata": {},
     "source": [
      "The final option is $R^2$, this is 1 minus the ratio of squared errors for the overall mean and the fit model.  As the ratio tends to 0 the $R^2$ tends to 1."
     ]
    },
    {
     "cell_type": "code",
     "collapsed": false,
     "input": [
      "metrics.r2_score(y_true, y_pred)"
     ],
     "language": "python",
     "metadata": {},
     "outputs": [
      {
       "metadata": {},
       "output_type": "pyout",
       "prompt_number": 37,
       "text": [
        "0.9729312117010761"
       ]
      }
     ],
     "prompt_number": 37
    },
    {
     "cell_type": "markdown",
     "metadata": {},
     "source": [
      "$R^2$ is a deceptive in that it can not give the clearest sense of the accuracy of the model."
     ]
    }
   ],
   "metadata": {}
  }
 ]
}