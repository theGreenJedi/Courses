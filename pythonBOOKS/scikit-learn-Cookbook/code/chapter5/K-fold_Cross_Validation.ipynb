{
 "metadata": {
  "name": "",
  "signature": "sha256:f807c8eb52f1a55402189e2206ee6c3548090ad520c3be0edd3d2259d6e51849"
 },
 "nbformat": 3,
 "nbformat_minor": 0,
 "worksheets": [
  {
   "cells": [
    {
     "cell_type": "markdown",
     "metadata": {},
     "source": [
      "In this recipe we'll do quite possibly the most important post model validation exercise - cross validation.  We'll talk about k-fold cross validation in this recipe.  There are several varities of cross validation each with slightly different randomization schemes.  K-fold is perhaps one of the most well known."
     ]
    },
    {
     "cell_type": "markdown",
     "metadata": {},
     "source": [
      "#Getting Ready"
     ]
    },
    {
     "cell_type": "markdown",
     "metadata": {},
     "source": [
      "So we'll create some data then fit a classifier on the different folds.  It's probably worth mentioning that if you can keep a holdout set the that would be best.  For example, say we have a dataset where N = 1000.  If we hold out 200 datapoints, then use cross validation between the other 800 points to determine the best parameters."
     ]
    },
    {
     "cell_type": "markdown",
     "metadata": {},
     "source": [
      "#How to do it"
     ]
    },
    {
     "cell_type": "markdown",
     "metadata": {},
     "source": [
      "First we'll create some fake data, then we'll examine the parameters, and finally we'll look the size of the resulting dataset."
     ]
    },
    {
     "cell_type": "code",
     "collapsed": false,
     "input": [
      "N = 1000\n",
      "holdout = 200"
     ],
     "language": "python",
     "metadata": {},
     "outputs": [],
     "prompt_number": 2
    },
    {
     "cell_type": "code",
     "collapsed": false,
     "input": [
      "from sklearn.datasets import make_regression\n",
      "X, y = make_regression(1000, shuffle=True)"
     ],
     "language": "python",
     "metadata": {},
     "outputs": [],
     "prompt_number": 5
    },
    {
     "cell_type": "markdown",
     "metadata": {},
     "source": [
      "Now that we have the data, let's hold out 200 points then go through the fold scheme  like we normally would"
     ]
    },
    {
     "cell_type": "code",
     "collapsed": false,
     "input": [
      "X_h, y_h = X[:holdout], y[:holdout]\n",
      "X_t, y_t = X[holdout:], y[holdout:]"
     ],
     "language": "python",
     "metadata": {},
     "outputs": [],
     "prompt_number": 6
    },
    {
     "cell_type": "code",
     "collapsed": false,
     "input": [
      "from sklearn.cross_validation import KFold"
     ],
     "language": "python",
     "metadata": {},
     "outputs": [],
     "prompt_number": 7
    },
    {
     "cell_type": "markdown",
     "metadata": {},
     "source": [
      "K Fold gives us the option of choosing how many folds we want, if we want the values to be indicies or booleans, if want to shuffle the dataset, and finally the random state (this is mainly for reprodability).  `indices` will actually be removed in later versions.  It's assumed to be `True`.\n",
      "\n",
      "Let's create the cross validation object."
     ]
    },
    {
     "cell_type": "code",
     "collapsed": false,
     "input": [
      "kfold = KFold(len(y_t), n_folds=4)"
     ],
     "language": "python",
     "metadata": {},
     "outputs": [],
     "prompt_number": 14
    },
    {
     "cell_type": "markdown",
     "metadata": {},
     "source": [
      "Now we can iterate through the `kfold` object."
     ]
    },
    {
     "cell_type": "code",
     "collapsed": false,
     "input": [
      "output_string = \"Fold: {}, N_train: {}, N_test: {}\"\n",
      "\n",
      "for i, (train, test) in enumerate(kfold):\n",
      "    print output_string.format(i, len(y_t[train]), len(y_t[test]))"
     ],
     "language": "python",
     "metadata": {},
     "outputs": [
      {
       "output_type": "stream",
       "stream": "stdout",
       "text": [
        "Fold: 0, N_train: 600, N_test: 200\n",
        "Fold: 1, N_train: 600, N_test: 200\n",
        "Fold: 2, N_train: 600, N_test: 200\n",
        "Fold: 3, N_train: 600, N_test: 200\n"
       ]
      }
     ],
     "prompt_number": 15
    },
    {
     "cell_type": "markdown",
     "metadata": {},
     "source": [
      "We can see that each iteration could the same split size."
     ]
    },
    {
     "cell_type": "markdown",
     "metadata": {},
     "source": [
      "# How it works"
     ]
    },
    {
     "cell_type": "markdown",
     "metadata": {},
     "source": [
      "It's probably clear, but kfold works by iterating through the folds, and holdouts out `1/n_folds * N`, where `N` for us was `len(y_t)`."
     ]
    },
    {
     "cell_type": "markdown",
     "metadata": {},
     "source": [
      "From a python perspective, the cross valiation objects have an iterator that can be accessed by using the `in` operator.  Often times it's useful to write a wrapper around a cross validation object that will iterator a subset of the data.  For example, we may have a dataset that has repeated measures for datapoints.  For example we may have a dataset with patients, and each patient has measures.\n",
      "\n",
      "  We're going to mix it up an use pandas for this part."
     ]
    },
    {
     "cell_type": "code",
     "collapsed": false,
     "input": [
      "import numpy as np\n",
      "import pandas as pd\n",
      "\n",
      "patients = np.repeat(np.arange(0, 100, dtype=np.int8), 8)\n",
      "\n",
      "measurements = pd.DataFrame({'patient_id': patients, 'ys': np.random.normal(0, 1, 800)})"
     ],
     "language": "python",
     "metadata": {},
     "outputs": [],
     "prompt_number": 46
    },
    {
     "cell_type": "code",
     "collapsed": false,
     "input": [
      "measurements.head()"
     ],
     "language": "python",
     "metadata": {},
     "outputs": [
      {
       "html": [
        "<div style=\"max-height:1000px;max-width:1500px;overflow:auto;\">\n",
        "<table border=\"1\" class=\"dataframe\">\n",
        "  <thead>\n",
        "    <tr style=\"text-align: right;\">\n",
        "      <th></th>\n",
        "      <th>patient_id</th>\n",
        "      <th>ys</th>\n",
        "    </tr>\n",
        "  </thead>\n",
        "  <tbody>\n",
        "    <tr>\n",
        "      <th>0</th>\n",
        "      <td> 0</td>\n",
        "      <td> 0.034959</td>\n",
        "    </tr>\n",
        "    <tr>\n",
        "      <th>1</th>\n",
        "      <td> 0</td>\n",
        "      <td> 0.785966</td>\n",
        "    </tr>\n",
        "    <tr>\n",
        "      <th>2</th>\n",
        "      <td> 0</td>\n",
        "      <td> 0.186453</td>\n",
        "    </tr>\n",
        "    <tr>\n",
        "      <th>3</th>\n",
        "      <td> 0</td>\n",
        "      <td>-1.367978</td>\n",
        "    </tr>\n",
        "    <tr>\n",
        "      <th>4</th>\n",
        "      <td> 0</td>\n",
        "      <td>-0.146931</td>\n",
        "    </tr>\n",
        "  </tbody>\n",
        "</table>\n",
        "</div>"
       ],
       "metadata": {},
       "output_type": "pyout",
       "prompt_number": 47,
       "text": [
        "   patient_id        ys\n",
        "0           0  0.034959\n",
        "1           0  0.785966\n",
        "2           0  0.186453\n",
        "3           0 -1.367978\n",
        "4           0 -0.146931"
       ]
      }
     ],
     "prompt_number": 47
    },
    {
     "cell_type": "markdown",
     "metadata": {},
     "source": [
      "Now that we have the data we only want to hold out certain customers instead of datapoints."
     ]
    },
    {
     "cell_type": "code",
     "collapsed": false,
     "input": [
      "custids = np.unique(measurements.patient_id)\n",
      "customer_kfold = KFold(custids.size, n_folds=4)\n",
      "\n",
      "output_string = \"Fold: {}, N_train: {}, N_test: {}\"\n",
      "\n",
      "for i, (train, test) in enumerate(customer_kfold):\n",
      "    \n",
      "    train_cust_ids = custids[train]\n",
      "    \n",
      "    training = measurements[measurements.patient_id.isin(train_cust_ids)]\n",
      "    testing = measurements[~measurements.patient_id.isin(train_cust_ids)]\n",
      "    \n",
      "    print output_string.format(i, len(training), len(testing))"
     ],
     "language": "python",
     "metadata": {},
     "outputs": [
      {
       "output_type": "stream",
       "stream": "stdout",
       "text": [
        "Fold: 0, N_train: 600, N_test: 200\n",
        "Fold: 1, N_train: 600, N_test: 200\n",
        "Fold: 2, N_train: 600, N_test: 200\n",
        "Fold: 3, N_train: 600, N_test: 200\n"
       ]
      }
     ],
     "prompt_number": 51
    }
   ],
   "metadata": {}
  }
 ]
}