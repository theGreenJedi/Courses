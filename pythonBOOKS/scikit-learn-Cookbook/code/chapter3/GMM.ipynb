{
 "metadata": {
  "name": "",
  "signature": "sha256:9b558a4b709b784fe47375db53327a604d073e9cfcbf5b90c18da07a28837ff5"
 },
 "nbformat": 3,
 "nbformat_minor": 0,
 "worksheets": [
  {
   "cells": [
    {
     "cell_type": "markdown",
     "metadata": {},
     "source": [
      "#Getting Ready\n",
      "\n",
      "There's a more probabilistc way of looking at KMeans clustering.  Hard KMeans clustering is the same as applying a Guassian Mixture Model with a covariance matrix, S, that that can be factored to eI.  That is the same covariance strucutre for each cluster.  This leads to spherical clusters.\n",
      "\n",
      "However, if we allow S to vary a GMM can be estimated and used for prediction.  We'll look at how this works in the univarate sense then expand to more dimenions.\n",
      "\n",
      "#How to do it\n",
      "\n",
      "First we need to create some data.  For example, let's simulate heights of both women and men."
     ]
    },
    {
     "cell_type": "code",
     "collapsed": false,
     "input": [
      "import numpy as np\n",
      "N = 1000\n",
      "\n",
      "in_m = 72\n",
      "in_w = 66\n",
      "\n",
      "s_m = 2\n",
      "s_w = s_m\n",
      "\n",
      "m = np.random.normal(in_m, s_m, N)\n",
      "w = np.random.normal(in_w, s_w, N)"
     ],
     "language": "python",
     "metadata": {},
     "outputs": [],
     "prompt_number": 2
    },
    {
     "cell_type": "code",
     "collapsed": false,
     "input": [
      "%matplotlib inline\n",
      "from matplotlib import pyplot as plt\n",
      "f, ax = plt.subplots(figsize=(7, 5))\n",
      "\n",
      "ax.set_title(\"Histogram of Heights\")\n",
      "ax.hist(m, alpha=.5, label=\"Men\");\n",
      "ax.hist(w, alpha=.5, label=\"Women\");\n",
      "\n",
      "ax.legend()\n",
      "f.savefig(\"978-1-78398-948-5_8.png\")"
     ],
     "language": "python",
     "metadata": {},
     "outputs": [
      {
       "metadata": {},
       "output_type": "display_data",
       "png": "[encoded data removed]",
       "text": [
        "<matplotlib.figure.Figure at 0x10626cc10>"
       ]
      }
     ],
     "prompt_number": 5
    },
    {
     "cell_type": "markdown",
     "metadata": {},
     "source": [
      "Next we might be interested subsampling the group, fitting the distribution, then predicting the remaining groups."
     ]
    },
    {
     "cell_type": "code",
     "collapsed": false,
     "input": [
      "random_sample = np.random.choice([True, False], size=m.size)"
     ],
     "language": "python",
     "metadata": {},
     "outputs": [],
     "prompt_number": 6
    },
    {
     "cell_type": "code",
     "collapsed": false,
     "input": [
      "m_test = m[random_sample]\n",
      "m_train = m[~random_sample]\n",
      "\n",
      "w_test = w[random_sample]\n",
      "w_train = w[~random_sample]"
     ],
     "language": "python",
     "metadata": {},
     "outputs": [],
     "prompt_number": 7
    },
    {
     "cell_type": "markdown",
     "metadata": {},
     "source": [
      "Now we need to get the empirical distribution of the heights of both men and women based on the training set."
     ]
    },
    {
     "cell_type": "code",
     "collapsed": false,
     "input": [
      "from scipy import stats\n",
      "\n",
      "m_pdf = stats.norm(m_train.mean(), m_train.std())\n",
      "w_pdf = stats.norm(w_train.mean(), w_train.std())"
     ],
     "language": "python",
     "metadata": {},
     "outputs": [],
     "prompt_number": 8
    },
    {
     "cell_type": "markdown",
     "metadata": {},
     "source": [
      "For the test set we will calculate the likelihood the data point was generated from either distriubtion, and which ever distrbituion is most likely will get assigned the appropriate label.  We will of course look at how accurate we were."
     ]
    },
    {
     "cell_type": "code",
     "collapsed": false,
     "input": [
      "m_pdf.pdf(m[0])"
     ],
     "language": "python",
     "metadata": {},
     "outputs": [
      {
       "metadata": {},
       "output_type": "pyout",
       "prompt_number": 9,
       "text": [
        "0.090681919819928375"
       ]
      }
     ],
     "prompt_number": 9
    },
    {
     "cell_type": "code",
     "collapsed": false,
     "input": [
      "w_pdf.pdf(m[0])"
     ],
     "language": "python",
     "metadata": {},
     "outputs": [
      {
       "metadata": {},
       "output_type": "pyout",
       "prompt_number": 10,
       "text": [
        "0.041387521156387212"
       ]
      }
     ],
     "prompt_number": 10
    },
    {
     "cell_type": "markdown",
     "metadata": {},
     "source": [
      "Notice the difference in liklihoods.\n",
      "\n",
      "For the guesses assume that we would guess men when the men's probability is higher, but overwrite then if the women's probability is higher."
     ]
    },
    {
     "cell_type": "code",
     "collapsed": false,
     "input": [
      "guesses_m = np.ones_like(m_test)\n",
      "\n",
      "guesses_m[m_pdf.pdf(m_test) < w_pdf.pdf(m_test)] = 0"
     ],
     "language": "python",
     "metadata": {},
     "outputs": [],
     "prompt_number": 11
    },
    {
     "cell_type": "markdown",
     "metadata": {},
     "source": [
      "How accurate."
     ]
    },
    {
     "cell_type": "code",
     "collapsed": false,
     "input": [
      "guesses_m.mean()"
     ],
     "language": "python",
     "metadata": {},
     "outputs": [
      {
       "metadata": {},
       "output_type": "pyout",
       "prompt_number": 12,
       "text": [
        "0.9187620889748549"
       ]
      }
     ],
     "prompt_number": 12
    },
    {
     "cell_type": "markdown",
     "metadata": {},
     "source": [
      "Not great, but not too bad either."
     ]
    },
    {
     "cell_type": "code",
     "collapsed": false,
     "input": [
      "guesses_w = np.ones_like(w_test)\n",
      "\n",
      "guesses_w[m_pdf.pdf(w_test) > w_pdf.pdf(w_test)] = 0"
     ],
     "language": "python",
     "metadata": {},
     "outputs": [],
     "prompt_number": 13
    },
    {
     "cell_type": "code",
     "collapsed": false,
     "input": [
      "guesses_w.mean()"
     ],
     "language": "python",
     "metadata": {},
     "outputs": [
      {
       "metadata": {},
       "output_type": "pyout",
       "prompt_number": 14,
       "text": [
        "0.94390715667311409"
       ]
      }
     ],
     "prompt_number": 14
    },
    {
     "cell_type": "markdown",
     "metadata": {},
     "source": [
      "Now let's allow the variance to differ between groups."
     ]
    },
    {
     "cell_type": "code",
     "collapsed": false,
     "input": [
      "s_m = 1\n",
      "s_w = 4\n",
      "\n",
      "m = np.random.normal(in_m, s_m, N)\n",
      "w = np.random.normal(in_w, s_w, N)"
     ],
     "language": "python",
     "metadata": {},
     "outputs": [],
     "prompt_number": 15
    },
    {
     "cell_type": "code",
     "collapsed": false,
     "input": [
      "m_test = m[random_sample]\n",
      "m_train = m[~random_sample]\n",
      "\n",
      "w_test = w[random_sample]\n",
      "w_train = w[~random_sample]"
     ],
     "language": "python",
     "metadata": {},
     "outputs": [],
     "prompt_number": 16
    },
    {
     "cell_type": "code",
     "collapsed": false,
     "input": [
      "f, ax = plt.subplots(figsize=(7, 5))\n",
      "\n",
      "ax.set_title(\"Hisogram of Heights\")\n",
      "ax.hist(m_train, alpha=.5, label=\"Men\");\n",
      "ax.hist(w_train, alpha=.5, label=\"Women\");\n",
      "\n",
      "ax.legend()\n",
      "f.savefig(\"978-1-78398-948-5_9.jpg\")"
     ],
     "language": "python",
     "metadata": {},
     "outputs": [
      {
       "metadata": {},
       "output_type": "display_data",
       "png": "[encoded data removed]",
       "text": [
        "<matplotlib.figure.Figure at 0x10a4c79d0>"
       ]
      }
     ],
     "prompt_number": 38
    },
    {
     "cell_type": "code",
     "collapsed": false,
     "input": [
      "m_pdf = stats.norm(m_train.mean(), m_train.std())\n",
      "w_pdf = stats.norm(w_train.mean(), w_train.std())"
     ],
     "language": "python",
     "metadata": {},
     "outputs": [],
     "prompt_number": 39
    },
    {
     "cell_type": "code",
     "collapsed": false,
     "input": [
      "f, ax = plt.subplots(figsize=(7, 5))\n",
      "\n",
      "ax.set_title(\"PDF of Heights\")\n",
      "ax.plot(np.linspace(50, 80, 200), m_pdf.pdf(np.linspace(50, 80, 200)), label='Men')\n",
      "ax.plot(np.linspace(50, 80, 200), w_pdf.pdf(np.linspace(50, 80, 200)), label='Women')\n",
      "\n",
      "ax.legend()\n",
      "f.savefig(\"978-1-78398-948-5_10.jpg\")"
     ],
     "language": "python",
     "metadata": {},
     "outputs": [
      {
       "metadata": {},
       "output_type": "display_data",
       "png": "[encoded data removed]",
       "text": [
        "<matplotlib.figure.Figure at 0x10a4d1710>"
       ]
      }
     ],
     "prompt_number": 40
    },
    {
     "cell_type": "markdown",
     "metadata": {},
     "source": [
      "But you can quickly imagine this taken to multidimension space."
     ]
    },
    {
     "cell_type": "code",
     "collapsed": false,
     "input": [
      "class_A = np.random.normal(0, 1, size=(100, 2))\n",
      "class_B = np.random.normal(4, 1.5, size=(100, 2))"
     ],
     "language": "python",
     "metadata": {},
     "outputs": [],
     "prompt_number": 41
    },
    {
     "cell_type": "code",
     "collapsed": false,
     "input": [
      "f, ax = plt.subplots(figsize=(7, 5))\n",
      "\n",
      "ax.scatter(class_A[:,0], class_A[:,1], label='A', c='r')\n",
      "ax.scatter(class_B[:,0], class_B[:,1], label='B')\n",
      "\n",
      "ax.set_title(\"Random 2D Normal Draws\")\n",
      "\n",
      "f.savefig(\"978-1-78398-948-5_11.jpg\")"
     ],
     "language": "python",
     "metadata": {},
     "outputs": [
      {
       "metadata": {},
       "output_type": "display_data",
       "png": "[encoded data removed]",
       "text": [
        "<matplotlib.figure.Figure at 0x10a531810>"
       ]
      }
     ],
     "prompt_number": 43
    },
    {
     "cell_type": "markdown",
     "metadata": {},
     "source": [
      "A two dimensional Gaussian can be used in the same way we used the one dimensional case."
     ]
    },
    {
     "cell_type": "markdown",
     "metadata": {},
     "source": [
      "#How it works"
     ]
    },
    {
     "cell_type": "markdown",
     "metadata": {},
     "source": [
      "Ok, so now that we've looked at how we can classify their points based on distribution let's look at how we can do that in Scikit Learn."
     ]
    },
    {
     "cell_type": "code",
     "collapsed": false,
     "input": [
      "from sklearn.mixture import GMM\n",
      "gmm = GMM(n_components=2)\n",
      "X = np.row_stack((class_A, class_B))\n",
      "y = np.hstack((np.ones(100), np.zeros(100)))"
     ],
     "language": "python",
     "metadata": {},
     "outputs": [],
     "prompt_number": 45
    },
    {
     "cell_type": "code",
     "collapsed": false,
     "input": [
      "train = np.random.choice([True, False], 200)"
     ],
     "language": "python",
     "metadata": {},
     "outputs": [],
     "prompt_number": 46
    },
    {
     "cell_type": "code",
     "collapsed": false,
     "input": [
      "gmm.fit(X[train])"
     ],
     "language": "python",
     "metadata": {},
     "outputs": [
      {
       "metadata": {},
       "output_type": "pyout",
       "prompt_number": 47,
       "text": [
        "GMM(covariance_type='diag', init_params='wmc', min_covar=0.001,\n",
        "  n_components=2, n_init=1, n_iter=100, params='wmc', random_state=None,\n",
        "  thresh=0.01)"
       ]
      }
     ],
     "prompt_number": 47
    },
    {
     "cell_type": "code",
     "collapsed": false,
     "input": [
      "gmm.predict(X[train])[:5]"
     ],
     "language": "python",
     "metadata": {},
     "outputs": [
      {
       "metadata": {},
       "output_type": "pyout",
       "prompt_number": 48,
       "text": [
        "array([0, 0, 0, 0, 0])"
       ]
      }
     ],
     "prompt_number": 48
    },
    {
     "cell_type": "markdown",
     "metadata": {},
     "source": [
      "Now we've just made predictions based on based on Gaussian Mixture Models."
     ]
    },
    {
     "cell_type": "code",
     "collapsed": false,
     "input": [],
     "language": "python",
     "metadata": {},
     "outputs": []
    }
   ],
   "metadata": {}
  }
 ]
}