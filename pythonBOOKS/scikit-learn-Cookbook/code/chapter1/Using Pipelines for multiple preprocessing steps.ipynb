{
 "metadata": {
  "name": "",
  "signature": "sha256:73368677a3c7585b75bc8a57fbb9f96ad8c9671ac88f8acff29a06b05902e803"
 },
 "nbformat": 3,
 "nbformat_minor": 0,
 "worksheets": [
  {
   "cells": [
    {
     "cell_type": "markdown",
     "metadata": {},
     "source": [
      "# Using Pipelines for multiple preprocessing steps"
     ]
    },
    {
     "cell_type": "code",
     "collapsed": false,
     "input": [
      "from sklearn import datasets\n",
      "import numpy as np\n",
      "mat = datasets.make_spd_matrix(10)\n",
      "masking_array = np.random.binomial(1, .1, mat.shape).astype(bool)\n",
      "mat[masking_array] = np.nan\n",
      "mat[:4, :4]"
     ],
     "language": "python",
     "metadata": {},
     "outputs": [
      {
       "metadata": {},
       "output_type": "pyout",
       "prompt_number": 1,
       "text": [
        "array([[ 0.93704353, -0.07562567,  0.72610418, -0.29385126],\n",
        "       [-0.07562567,  0.62603256,  0.04867641,  0.15509402],\n",
        "       [ 0.72610418,  0.04867641,  2.20566939, -0.64238569],\n",
        "       [        nan,  0.15509402, -0.64238569,  0.92383203]])"
       ]
      }
     ],
     "prompt_number": 1
    },
    {
     "cell_type": "code",
     "collapsed": false,
     "input": [
      "from sklearn import preprocessing\n",
      "impute = preprocessing.Imputer()\n",
      "scaler = preprocessing.StandardScaler()\n",
      "mat_imputed = impute.fit_transform(mat)\n",
      "mat_imputed[:4, :4]"
     ],
     "language": "python",
     "metadata": {},
     "outputs": [
      {
       "metadata": {},
       "output_type": "pyout",
       "prompt_number": 3,
       "text": [
        "array([[ 0.93704353, -0.07562567,  0.72610418, -0.29385126],\n",
        "       [-0.07562567,  0.62603256,  0.04867641,  0.15509402],\n",
        "       [ 0.72610418,  0.04867641,  2.20566939, -0.64238569],\n",
        "       [ 0.27518646,  0.15509402, -0.64238569,  0.92383203]])"
       ]
      }
     ],
     "prompt_number": 3
    },
    {
     "cell_type": "code",
     "collapsed": false,
     "input": [
      "mat_imp_and_scaled = scaler.fit_transform(mat_imputed)"
     ],
     "language": "python",
     "metadata": {},
     "outputs": [],
     "prompt_number": 4
    },
    {
     "cell_type": "code",
     "collapsed": false,
     "input": [
      "from sklearn import pipeline\n",
      "pipe = pipeline.Pipeline([('impute', impute), ('scaler', scaler)])"
     ],
     "language": "python",
     "metadata": {},
     "outputs": [],
     "prompt_number": 6
    },
    {
     "cell_type": "code",
     "collapsed": false,
     "input": [
      "pipe"
     ],
     "language": "python",
     "metadata": {},
     "outputs": [
      {
       "metadata": {},
       "output_type": "pyout",
       "prompt_number": 7,
       "text": [
        "Pipeline(steps=[('impute', Imputer(axis=0, copy=True, missing_values='NaN', strategy='mean', verbose=0)), ('scaler', StandardScaler(copy=True, with_mean=True, with_std=True))])"
       ]
      }
     ],
     "prompt_number": 7
    },
    {
     "cell_type": "code",
     "collapsed": false,
     "input": [
      "new_mat = pipe.fit_transform(mat)\n",
      "new_mat[:4, :4]"
     ],
     "language": "python",
     "metadata": {},
     "outputs": [
      {
       "metadata": {},
       "output_type": "pyout",
       "prompt_number": 8,
       "text": [
        "array([[  1.29434021e+00,  -6.01222927e-01,   2.06459074e-01,\n",
        "         -3.81065953e-01],\n",
        "       [ -6.86054860e-01,   2.75333465e+00,  -3.13044977e-01,\n",
        "          3.62232378e-01],\n",
        "       [  8.81823227e-01,  -6.94711820e-03,   1.34110421e+00,\n",
        "         -9.58118591e-01],\n",
        "       [  1.08558658e-16,   5.01824790e-01,  -8.43004890e-01,\n",
        "          1.63499702e+00]])"
       ]
      }
     ],
     "prompt_number": 8
    },
    {
     "cell_type": "code",
     "collapsed": false,
     "input": [
      "np.array_equal(new_mat, mat_imp_and_scaled)"
     ],
     "language": "python",
     "metadata": {},
     "outputs": [
      {
       "metadata": {},
       "output_type": "pyout",
       "prompt_number": 9,
       "text": [
        "True"
       ]
      }
     ],
     "prompt_number": 9
    },
    {
     "cell_type": "code",
     "collapsed": false,
     "input": [
      "pipe.inverse_transform(new_mat)"
     ],
     "language": "python",
     "metadata": {},
     "outputs": [
      {
       "ename": "AttributeError",
       "evalue": "'Imputer' object has no attribute 'inverse_transform'",
       "output_type": "pyerr",
       "traceback": [
        "\u001b[0;31m---------------------------------------------------------------------------\u001b[0m\n\u001b[0;31mAttributeError\u001b[0m                            Traceback (most recent call last)",
        "\u001b[0;32m<ipython-input-10-62edd2667cae>\u001b[0m in \u001b[0;36m<module>\u001b[0;34m()\u001b[0m\n\u001b[0;32m----> 1\u001b[0;31m \u001b[0mpipe\u001b[0m\u001b[0;34m.\u001b[0m\u001b[0minverse_transform\u001b[0m\u001b[0;34m(\u001b[0m\u001b[0mnew_mat\u001b[0m\u001b[0;34m)\u001b[0m\u001b[0;34m\u001b[0m\u001b[0m\n\u001b[0m",
        "\u001b[0;32m/Users/thauck/miniconda/envs/sklearn-book/lib/python2.7/site-packages/sklearn/pipeline.pyc\u001b[0m in \u001b[0;36minverse_transform\u001b[0;34m(self, X)\u001b[0m\n\u001b[1;32m    188\u001b[0m         \u001b[0mXt\u001b[0m \u001b[0;34m=\u001b[0m \u001b[0mX\u001b[0m\u001b[0;34m\u001b[0m\u001b[0m\n\u001b[1;32m    189\u001b[0m         \u001b[0;32mfor\u001b[0m \u001b[0mname\u001b[0m\u001b[0;34m,\u001b[0m \u001b[0mstep\u001b[0m \u001b[0;32min\u001b[0m \u001b[0mself\u001b[0m\u001b[0;34m.\u001b[0m\u001b[0msteps\u001b[0m\u001b[0;34m[\u001b[0m\u001b[0;34m:\u001b[0m\u001b[0;34m:\u001b[0m\u001b[0;34m-\u001b[0m\u001b[0;36m1\u001b[0m\u001b[0;34m]\u001b[0m\u001b[0;34m:\u001b[0m\u001b[0;34m\u001b[0m\u001b[0m\n\u001b[0;32m--> 190\u001b[0;31m             \u001b[0mXt\u001b[0m \u001b[0;34m=\u001b[0m \u001b[0mstep\u001b[0m\u001b[0;34m.\u001b[0m\u001b[0minverse_transform\u001b[0m\u001b[0;34m(\u001b[0m\u001b[0mXt\u001b[0m\u001b[0;34m)\u001b[0m\u001b[0;34m\u001b[0m\u001b[0m\n\u001b[0m\u001b[1;32m    191\u001b[0m         \u001b[0;32mreturn\u001b[0m \u001b[0mXt\u001b[0m\u001b[0;34m\u001b[0m\u001b[0m\n\u001b[1;32m    192\u001b[0m \u001b[0;34m\u001b[0m\u001b[0m\n",
        "\u001b[0;31mAttributeError\u001b[0m: 'Imputer' object has no attribute 'inverse_transform'"
       ]
      }
     ],
     "prompt_number": 10
    },
    {
     "cell_type": "code",
     "collapsed": false,
     "input": [
      "scaler.inverse_transform(new_mat)[:4, :4]"
     ],
     "language": "python",
     "metadata": {},
     "outputs": [
      {
       "metadata": {},
       "output_type": "pyout",
       "prompt_number": 11,
       "text": [
        "array([[ 0.93704353, -0.07562567,  0.72610418, -0.29385126],\n",
        "       [-0.07562567,  0.62603256,  0.04867641,  0.15509402],\n",
        "       [ 0.72610418,  0.04867641,  2.20566939, -0.64238569],\n",
        "       [ 0.27518646,  0.15509402, -0.64238569,  0.92383203]])"
       ]
      }
     ],
     "prompt_number": 11
    }
   ],
   "metadata": {}
  }
 ]
}