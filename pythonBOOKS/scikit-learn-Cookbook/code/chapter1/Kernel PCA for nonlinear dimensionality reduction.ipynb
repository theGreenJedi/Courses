{
 "metadata": {
  "name": "",
  "signature": "sha256:7b2f8b9aada1afef5952e24d7712845c6be045dd651234c491e5da06e8f930c8"
 },
 "nbformat": 3,
 "nbformat_minor": 0,
 "worksheets": [
  {
   "cells": [
    {
     "cell_type": "markdown",
     "metadata": {},
     "source": [
      "# Kernel PCA for nonlinear dimensionality reduction"
     ]
    },
    {
     "cell_type": "code",
     "collapsed": false,
     "input": [
      "import numpy as np"
     ],
     "language": "python",
     "metadata": {},
     "outputs": [],
     "prompt_number": 2
    },
    {
     "cell_type": "code",
     "collapsed": false,
     "input": [
      "A1_mean = [1, 1]\n",
      "A1_cov = [[2, .99], [1, 1]]\n",
      "A1 = np.random.multivariate_normal(A1_mean, A1_cov, 50)\n",
      "\n",
      "A2_mean = [5, 5]\n",
      "A2_cov = [[2, .99], [1, 1]]"
     ],
     "language": "python",
     "metadata": {},
     "outputs": [],
     "prompt_number": 3
    },
    {
     "cell_type": "code",
     "collapsed": false,
     "input": [
      "A2_cov = [[2, .99], [1, 1]]\n",
      "A2 = np.random.multivariate_normal(A2_mean, A2_cov, 50)\n",
      "\n",
      "A = np.vstack((A1, A2))\n",
      "\n",
      "B_mean = [5, 0]\n",
      "B_cov = [[.5, -1], [-.9, .5]]\n",
      "B = np.random.multivariate_normal(B_mean, B_cov, 100)"
     ],
     "language": "python",
     "metadata": {},
     "outputs": [],
     "prompt_number": 4
    },
    {
     "cell_type": "code",
     "collapsed": false,
     "input": [
      "from sklearn import decomposition"
     ],
     "language": "python",
     "metadata": {},
     "outputs": [],
     "prompt_number": 7
    },
    {
     "cell_type": "code",
     "collapsed": false,
     "input": [
      "kpca = decomposition.KernelPCA(kernel='cosine', n_components=1)\n",
      "AB = np.vstack((A, B))\n",
      "AB_transformed = kpca.fit_transform(AB)"
     ],
     "language": "python",
     "metadata": {},
     "outputs": [],
     "prompt_number": 8
    }
   ],
   "metadata": {}
  }
 ]
}