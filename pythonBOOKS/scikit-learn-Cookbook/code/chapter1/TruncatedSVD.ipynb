{
 "metadata": {
  "name": "",
  "signature": "sha256:a013381e9f1ef5039c0a07465e3a5f3ef6d8815c6632ee0840ac44060aec7d6b"
 },
 "nbformat": 3,
 "nbformat_minor": 0,
 "worksheets": [
  {
   "cells": [
    {
     "cell_type": "markdown",
     "metadata": {},
     "source": [
      "#Getting Started\n",
      "\n",
      "Truncated SVD (Singular Value Decomposition) is a matrix factorization technique that factors a matrix $M$ into three matrices $U$, $\\Sigma$, and $V$.  This is very similar to PCA, except the factorization for SVD is done on the data matrix itself, whereas for PCA the factorization is done on the covarience matrix.  Typically SVD is used to find the principle components of the matrix.\n",
      "\n",
      "Truncated SVD is different from regular SVD in that it produces a factorization where the number of columns is equal to the specified truncation.  For example, given an $n$ x $n$ matrix SVD will produce matrices will $n$ columns, whereas Truncated SVD will product matrices with the specified number of columns.  This is how the dimensionality is reduced.\n",
      "\n",
      "Here we'll use the iris dataset to compare again, so that you can compare this outcome against the PCA outcome."
     ]
    },
    {
     "cell_type": "code",
     "collapsed": false,
     "input": [
      "from sklearn.datasets import load_iris\n",
      "import numpy as np\n",
      "\n",
      "iris = load_iris()\n",
      "iris_data = iris.data\n",
      "iris_target = iris.target"
     ],
     "language": "python",
     "metadata": {},
     "outputs": [],
     "prompt_number": 5
    },
    {
     "cell_type": "markdown",
     "metadata": {},
     "source": [
      "#How to do it"
     ]
    },
    {
     "cell_type": "code",
     "collapsed": false,
     "input": [
      "from sklearn.decomposition import TruncatedSVD\n",
      "svd = TruncatedSVD(2)\n",
      "iris_transformed = svd.fit_transform(iris_data)\n",
      "iris_data[:5]"
     ],
     "language": "python",
     "metadata": {},
     "outputs": [
      {
       "metadata": {},
       "output_type": "pyout",
       "prompt_number": 6,
       "text": [
        "array([[ 5.1,  3.5,  1.4,  0.2],\n",
        "       [ 4.9,  3. ,  1.4,  0.2],\n",
        "       [ 4.7,  3.2,  1.3,  0.2],\n",
        "       [ 4.6,  3.1,  1.5,  0.2],\n",
        "       [ 5. ,  3.6,  1.4,  0.2]])"
       ]
      }
     ],
     "prompt_number": 6
    },
    {
     "cell_type": "code",
     "collapsed": false,
     "input": [
      "iris_transformed[:5]"
     ],
     "language": "python",
     "metadata": {},
     "outputs": [
      {
       "metadata": {},
       "output_type": "pyout",
       "prompt_number": 7,
       "text": [
        "array([[ 5.91220352, -2.30344211],\n",
        "       [ 5.57207573, -1.97383104],\n",
        "       [ 5.4464847 , -2.09653267],\n",
        "       [ 5.43601924, -1.87168085],\n",
        "       [ 5.87506555, -2.32934799]])"
       ]
      }
     ],
     "prompt_number": 7
    },
    {
     "cell_type": "code",
     "collapsed": false,
     "input": [
      "# for plotting, don't include\n",
      "%matplotlib inline\n",
      "import matplotlib.pyplot as plt\n",
      "\n",
      "colors = np.array(['r', 'g', 'b'])\n",
      "f = plt.figure(figsize=(5, 5))\n",
      "ax = f.add_subplot(111)\n",
      "\n",
      "ax.scatter(iris_transformed[:, 0], iris_transformed[:, 1], c=colors[iris_target])\n",
      "ax.set_title(\"Truncated SVD, 2 Components\")"
     ],
     "language": "python",
     "metadata": {},
     "outputs": [
      {
       "metadata": {},
       "output_type": "pyout",
       "prompt_number": 8,
       "text": [
        "<matplotlib.text.Text at 0x10776b390>"
       ]
      },
      {
       "metadata": {},
       "output_type": "display_data",
       "png": "[encoded data removed]",
       "text": [
        "<matplotlib.figure.Figure at 0x1076d3210>"
       ]
      }
     ],
     "prompt_number": 8
    },
    {
     "cell_type": "code",
     "collapsed": false,
     "input": [
      "f.savefig(\"TruncatedSVD.png\")"
     ],
     "language": "python",
     "metadata": {},
     "outputs": [],
     "prompt_number": 9
    },
    {
     "cell_type": "markdown",
     "metadata": {},
     "source": [
      "#How it works\n",
      "\n",
      "As was mentioned earlier SVD produces three matrices.  So the question remains, what data are we actually working with?  Clearly there was only one matrix was returned.  So, let's look at SVD at a lower level, with some simpler data."
     ]
    },
    {
     "cell_type": "code",
     "collapsed": false,
     "input": [
      "from scipy.linalg import svd\n",
      "D = np.array([[1, 2], [1, 3], [1, 4]])\n",
      "D"
     ],
     "language": "python",
     "metadata": {},
     "outputs": [
      {
       "metadata": {},
       "output_type": "pyout",
       "prompt_number": 10,
       "text": [
        "array([[1, 2],\n",
        "       [1, 3],\n",
        "       [1, 4]])"
       ]
      }
     ],
     "prompt_number": 10
    },
    {
     "cell_type": "code",
     "collapsed": false,
     "input": [
      "U, S, V = svd(D, full_matrices=False)"
     ],
     "language": "python",
     "metadata": {},
     "outputs": [],
     "prompt_number": 11
    },
    {
     "cell_type": "code",
     "collapsed": false,
     "input": [
      "U.shape, S.shape, V.shape"
     ],
     "language": "python",
     "metadata": {},
     "outputs": [
      {
       "metadata": {},
       "output_type": "pyout",
       "prompt_number": 12,
       "text": [
        "((3, 2), (2,), (2, 2))"
       ]
      }
     ],
     "prompt_number": 12
    },
    {
     "cell_type": "code",
     "collapsed": false,
     "input": [
      "np.dot(U.dot(np.diag(S)), V)"
     ],
     "language": "python",
     "metadata": {},
     "outputs": [
      {
       "metadata": {},
       "output_type": "pyout",
       "prompt_number": 13,
       "text": [
        "array([[ 1.,  2.],\n",
        "       [ 1.,  3.],\n",
        "       [ 1.,  4.]])"
       ]
      }
     ],
     "prompt_number": 13
    },
    {
     "cell_type": "markdown",
     "metadata": {},
     "source": [
      "The matrix that is actual returned by `TruncatedSVD` is the dot product of the $U$ matrix and the $\\Sigma$ matrix."
     ]
    },
    {
     "cell_type": "code",
     "collapsed": false,
     "input": [
      "U.dot(np.diag(S))"
     ],
     "language": "python",
     "metadata": {},
     "outputs": [
      {
       "metadata": {},
       "output_type": "pyout",
       "prompt_number": 14,
       "text": [
        "array([[-2.20719466,  0.35817838],\n",
        "       [-3.16170819,  0.06001081],\n",
        "       [-4.11622173, -0.23815677]])"
       ]
      }
     ],
     "prompt_number": 14
    },
    {
     "cell_type": "markdown",
     "metadata": {},
     "source": [
      "If we wanted to simulate the truncation we would drop the smallest singular values and the corresponding column vectors of U.  So here, if we wanted a single component we'd do:"
     ]
    },
    {
     "cell_type": "code",
     "collapsed": false,
     "input": [
      "new_S = S[0]"
     ],
     "language": "python",
     "metadata": {},
     "outputs": [],
     "prompt_number": 15
    },
    {
     "cell_type": "code",
     "collapsed": false,
     "input": [
      "new_U = U[:, 0]"
     ],
     "language": "python",
     "metadata": {},
     "outputs": [],
     "prompt_number": 16
    },
    {
     "cell_type": "code",
     "collapsed": false,
     "input": [
      "new_U.dot(new_S)"
     ],
     "language": "python",
     "metadata": {},
     "outputs": [
      {
       "metadata": {},
       "output_type": "pyout",
       "prompt_number": 17,
       "text": [
        "array([-2.20719466, -3.16170819, -4.11622173])"
       ]
      }
     ],
     "prompt_number": 17
    },
    {
     "cell_type": "markdown",
     "metadata": {},
     "source": [
      "#There's more\n",
      "\n",
      "There's a \"gotcha\" with truncated SVD: depending the state of the random number generator, successive fittings of TruncatedSVD can flip the signs of the output.  In order to avoid this, it's advisable to fit the TruncatedSVD once, then only use transforms from then on.  Another good reason for Pipelines!"
     ]
    },
    {
     "cell_type": "code",
     "collapsed": false,
     "input": [
      "tsvd = TruncatedSVD(2)"
     ],
     "language": "python",
     "metadata": {},
     "outputs": []
    },
    {
     "cell_type": "code",
     "collapsed": false,
     "input": [
      "tsvd.fit(iris_data)\n",
      "tsvd.transform(iris_data)"
     ],
     "language": "python",
     "metadata": {},
     "outputs": [
      {
       "metadata": {},
       "output_type": "pyout",
       "prompt_number": 20,
       "text": [
        "array([[ 5.91220352, -2.30344211],\n",
        "       [ 5.57207573, -1.97383104],\n",
        "       [ 5.4464847 , -2.09653267],\n",
        "       [ 5.43601924, -1.87168085],\n",
        "       [ 5.87506555, -2.32934799]])"
       ]
      }
     ],
     "prompt_number": 20
    }
   ],
   "metadata": {}
  }
 ]
}