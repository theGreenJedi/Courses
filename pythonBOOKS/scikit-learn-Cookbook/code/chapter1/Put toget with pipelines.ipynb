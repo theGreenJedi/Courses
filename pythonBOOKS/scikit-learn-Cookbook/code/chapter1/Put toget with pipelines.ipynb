{
 "metadata": {
  "name": "",
  "signature": "sha256:2bfced12ebedf0de81bbadbb7ab914b13b150f2b47b3c8cfa6a8399a073b4fbe"
 },
 "nbformat": 3,
 "nbformat_minor": 0,
 "worksheets": [
  {
   "cells": [
    {
     "cell_type": "markdown",
     "metadata": {},
     "source": [
      "##Getting Ready\n",
      "In this section we\u2019ll show off some more of Pipelines power.  When we used for imputing missing values it was only a quick taste, but we\u2019ll chain together multiple preprocessing steps to show how Pipelines can remove extra work.\n",
      "Let\u2019s really briefly load the iris dataset and seed it with some missing values."
     ]
    },
    {
     "cell_type": "code",
     "collapsed": false,
     "input": [
      "from sklearn.datasets import load_iris\n",
      "import numpy as np\n",
      "\n",
      "iris = load_iris()\n",
      "iris_data = iris.data\n",
      "\n",
      "mask = np.random.binomial(1, .25, iris_data.shape).astype(bool)\n",
      "iris_data[mask] = np.nan\n",
      "\n",
      "iris_data[:5]"
     ],
     "language": "python",
     "metadata": {},
     "outputs": [
      {
       "metadata": {},
       "output_type": "pyout",
       "prompt_number": 14,
       "text": [
        "array([[ 5.1,  3.5,  1.4,  nan],\n",
        "       [ nan,  3. ,  1.4,  0.2],\n",
        "       [ 4.7,  3.2,  1.3,  0.2],\n",
        "       [ 4.6,  3.1,  1.5,  0.2],\n",
        "       [ 5. ,  3.6,  nan,  0.2]])"
       ]
      }
     ],
     "prompt_number": 14
    },
    {
     "cell_type": "markdown",
     "metadata": {},
     "source": [
      "##How to do it\n",
      "\n",
      "Our goal of this chapter is to first impute the missing values of `iris_data`, then to perform PCA on the corrected dataset.  You can imagine (and we'll do it later) that this workflow might need to split between a training dataset and a holdout set, Pipelines will make that easier, but first a baby step.\n",
      "\n",
      "Let's load the required libraries."
     ]
    },
    {
     "cell_type": "code",
     "collapsed": false,
     "input": [
      "from sklearn import pipeline, preprocessing, decomposition"
     ],
     "language": "python",
     "metadata": {},
     "outputs": [],
     "prompt_number": 18
    },
    {
     "cell_type": "markdown",
     "metadata": {},
     "source": [
      "Next, create an imputer class and a PCA class."
     ]
    },
    {
     "cell_type": "code",
     "collapsed": false,
     "input": [
      "pca = decomposition.PCA()\n",
      "imputer = preprocessing.Imputer()"
     ],
     "language": "python",
     "metadata": {},
     "outputs": [],
     "prompt_number": 40
    },
    {
     "cell_type": "markdown",
     "metadata": {},
     "source": [
      "Now that we have the classes we need, we can load them into the Pipeline."
     ]
    },
    {
     "cell_type": "code",
     "collapsed": false,
     "input": [
      "pipe = pipeline.Pipeline([('imputer', imputer), ('pca', pca)])"
     ],
     "language": "python",
     "metadata": {},
     "outputs": [],
     "prompt_number": 41
    },
    {
     "cell_type": "code",
     "collapsed": false,
     "input": [
      "np.set_printoptions(2)"
     ],
     "language": "python",
     "metadata": {},
     "outputs": [],
     "prompt_number": 42
    },
    {
     "cell_type": "code",
     "collapsed": false,
     "input": [
      "iris_data_transformed = pipe.fit_transform(iris_data)\n",
      "iris_data_transformed[:5]"
     ],
     "language": "python",
     "metadata": {},
     "outputs": [
      {
       "metadata": {},
       "output_type": "pyout",
       "prompt_number": 43,
       "text": [
        "array([[ -2.42e+00,  -3.59e-01,  -6.88e-01,  -3.49e-01],\n",
        "       [ -2.44e+00,  -6.94e-01,   3.27e-01,   4.87e-01],\n",
        "       [ -2.94e+00,   2.45e-01,  -1.85e-03,   4.37e-02],\n",
        "       [ -2.79e+00,   4.29e-01,  -8.05e-03,   9.65e-02],\n",
        "       [ -6.46e-01,   8.87e-01,   7.54e-01,  -5.19e-01]])"
       ]
      }
     ],
     "prompt_number": 43
    },
    {
     "cell_type": "markdown",
     "metadata": {},
     "source": [
      "This would have taken a lot more management if we would have used seperate steps.  Instead of each step requiring a fit transform, taht step is done only once.  Not to mention we only have to keep track of one object!\n",
      "\n",
      "## How it works\n",
      "\n",
      "Hopefully it was obvious, but each step in the pipeline is passed to Pipeline object via a list of tuples, with the first element getting the name and the second getting the actual object.\n",
      "\n",
      "Under the hood these steps are looped through when a method is called on the Pipeline object, such as `fit_transform`.  \n",
      "\n",
      "That said, there a quick and dirty way to make a pipeline, much in the same way there was a quick way to do scaling, though we could use the StandardScaler if we wanted more power.  There's a pipeline function that will automatically create the names for the pipeline objects."
     ]
    },
    {
     "cell_type": "code",
     "collapsed": false,
     "input": [
      "pipe2 = pipeline.make_pipeline(imputer, pca)\n",
      "pipe2.steps"
     ],
     "language": "python",
     "metadata": {},
     "outputs": [
      {
       "metadata": {},
       "output_type": "pyout",
       "prompt_number": 44,
       "text": [
        "[('imputer',\n",
        "  Imputer(axis=0, copy=True, missing_values='NaN', strategy='mean', verbose=0)),\n",
        " ('pca', PCA(copy=True, n_components=None, whiten=False))]"
       ]
      }
     ],
     "prompt_number": 44
    },
    {
     "cell_type": "markdown",
     "metadata": {},
     "source": [
      "This is the same object that was created in the more verbose method."
     ]
    },
    {
     "cell_type": "code",
     "collapsed": false,
     "input": [
      "iris_data_transformed2 = pipe2.fit_transform(iris_data)\n",
      "iris_data_transformed2[:5]"
     ],
     "language": "python",
     "metadata": {},
     "outputs": [
      {
       "metadata": {},
       "output_type": "pyout",
       "prompt_number": 45,
       "text": [
        "array([[ -2.42e+00,  -3.59e-01,  -6.88e-01,  -3.49e-01],\n",
        "       [ -2.44e+00,  -6.94e-01,   3.27e-01,   4.87e-01],\n",
        "       [ -2.94e+00,   2.45e-01,  -1.85e-03,   4.37e-02],\n",
        "       [ -2.79e+00,   4.29e-01,  -8.05e-03,   9.65e-02],\n",
        "       [ -6.46e-01,   8.87e-01,   7.54e-01,  -5.19e-01]])"
       ]
      }
     ],
     "prompt_number": 45
    },
    {
     "cell_type": "markdown",
     "metadata": {},
     "source": [
      "## There's more\n",
      "\n",
      "We just walked through pipelines at a very high level, but it's unlikely that we'd want to apply the base transformation.  Therefore, the attributes of each object in the pipeline can be accessed from a set_params method where the parameter follows the convention \"<parameter's_name>__<parameter's_parameter>\".  For example, let's change the pca object to use two components.  The \"__\" is often pronounced dunder in the python community."
     ]
    },
    {
     "cell_type": "code",
     "collapsed": false,
     "input": [
      "pipe2.set_params(pca__n_components=2)"
     ],
     "language": "python",
     "metadata": {},
     "outputs": [
      {
       "metadata": {},
       "output_type": "pyout",
       "prompt_number": 47,
       "text": [
        "Pipeline(steps=[('imputer', Imputer(axis=0, copy=True, missing_values='NaN', strategy='mean', verbose=0)), ('pca', PCA(copy=True, n_components=2, whiten=False))])"
       ]
      }
     ],
     "prompt_number": 47
    },
    {
     "cell_type": "code",
     "collapsed": false,
     "input": [
      "iris_data_transformed3 = pipe2.fit_transform(iris_data)\n",
      "iris_data_transformed3[:5]"
     ],
     "language": "python",
     "metadata": {},
     "outputs": [
      {
       "metadata": {},
       "output_type": "pyout",
       "prompt_number": 48,
       "text": [
        "array([[-2.42, -0.36],\n",
        "       [-2.44, -0.69],\n",
        "       [-2.94,  0.24],\n",
        "       [-2.79,  0.43],\n",
        "       [-0.65,  0.89]])"
       ]
      }
     ],
     "prompt_number": 48
    },
    {
     "cell_type": "code",
     "collapsed": false,
     "input": [],
     "language": "python",
     "metadata": {},
     "outputs": []
    }
   ],
   "metadata": {}
  }
 ]
}