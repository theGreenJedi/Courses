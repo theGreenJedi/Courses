{
 "metadata": {
  "name": "",
  "signature": "sha256:4c82e8b6fe586f3a2be8fa88bb19625b39426ad79d138589bfd465948947d602"
 },
 "nbformat": 3,
 "nbformat_minor": 0,
 "worksheets": [
  {
   "cells": [
    {
     "cell_type": "markdown",
     "metadata": {},
     "source": [
      "# Working with categorical variables"
     ]
    },
    {
     "cell_type": "code",
     "collapsed": false,
     "input": [
      "from sklearn import datasets\n",
      "iris = datasets.load_iris()\n",
      "X = iris.data\n",
      "y = iris.target"
     ],
     "language": "python",
     "metadata": {},
     "outputs": [],
     "prompt_number": 3
    },
    {
     "cell_type": "code",
     "collapsed": false,
     "input": [
      "import numpy as np\n",
      "d = np.column_stack((X, y))"
     ],
     "language": "python",
     "metadata": {},
     "outputs": [],
     "prompt_number": 7
    },
    {
     "cell_type": "code",
     "collapsed": false,
     "input": [
      "from sklearn import preprocessing"
     ],
     "language": "python",
     "metadata": {},
     "outputs": [],
     "prompt_number": 8
    },
    {
     "cell_type": "code",
     "collapsed": false,
     "input": [
      "text_encoder = preprocessing.OneHotEncoder()\n",
      "text_encoder.fit_transform(d[:, -1:]).toarray()[:5]"
     ],
     "language": "python",
     "metadata": {},
     "outputs": [
      {
       "metadata": {},
       "output_type": "pyout",
       "prompt_number": 9,
       "text": [
        "array([[ 1.,  0.,  0.],\n",
        "       [ 1.,  0.,  0.],\n",
        "       [ 1.,  0.,  0.],\n",
        "       [ 1.,  0.,  0.],\n",
        "       [ 1.,  0.,  0.]])"
       ]
      }
     ],
     "prompt_number": 9
    },
    {
     "cell_type": "code",
     "collapsed": false,
     "input": [
      "text_encoder.transform(np.ones((3, 1))).toarray()"
     ],
     "language": "python",
     "metadata": {},
     "outputs": [
      {
       "metadata": {},
       "output_type": "pyout",
       "prompt_number": 13,
       "text": [
        "array([[ 0.,  1.,  0.],\n",
        "       [ 0.,  1.,  0.],\n",
        "       [ 0.,  1.,  0.]])"
       ]
      }
     ],
     "prompt_number": 13
    },
    {
     "cell_type": "code",
     "collapsed": false,
     "input": [
      "from sklearn.feature_extraction import DictVectorizer\n",
      "dv = DictVectorizer()\n",
      "my_dict = [{'species': iris.target_names[i]} for i in y]\n",
      "dv.fit_transform(my_dict).toarray()[:5]"
     ],
     "language": "python",
     "metadata": {},
     "outputs": [
      {
       "metadata": {},
       "output_type": "pyout",
       "prompt_number": 14,
       "text": [
        "array([[ 1.,  0.,  0.],\n",
        "       [ 1.,  0.,  0.],\n",
        "       [ 1.,  0.,  0.],\n",
        "       [ 1.,  0.,  0.],\n",
        "       [ 1.,  0.,  0.]])"
       ]
      }
     ],
     "prompt_number": 14
    },
    {
     "cell_type": "code",
     "collapsed": false,
     "input": [
      "import patsy"
     ],
     "language": "python",
     "metadata": {},
     "outputs": [],
     "prompt_number": 17
    },
    {
     "cell_type": "code",
     "collapsed": false,
     "input": [
      "patsy.dmatrix(\"0 + C(species)\", {'species': iris.target})"
     ],
     "language": "python",
     "metadata": {},
     "outputs": [
      {
       "metadata": {},
       "output_type": "pyout",
       "prompt_number": 16,
       "text": [
        "DesignMatrix with shape (150, 3)\n",
        "  C(species)[0]  C(species)[1]  C(species)[2]\n",
        "              1              0              0\n",
        "              1              0              0\n",
        "              1              0              0\n",
        "              1              0              0\n",
        "              1              0              0\n",
        "              1              0              0\n",
        "              1              0              0\n",
        "              1              0              0\n",
        "              1              0              0\n",
        "              1              0              0\n",
        "              1              0              0\n",
        "              1              0              0\n",
        "              1              0              0\n",
        "              1              0              0\n",
        "              1              0              0\n",
        "              1              0              0\n",
        "              1              0              0\n",
        "              1              0              0\n",
        "              1              0              0\n",
        "              1              0              0\n",
        "              1              0              0\n",
        "              1              0              0\n",
        "              1              0              0\n",
        "              1              0              0\n",
        "              1              0              0\n",
        "              1              0              0\n",
        "              1              0              0\n",
        "              1              0              0\n",
        "              1              0              0\n",
        "              1              0              0\n",
        "  [120 rows omitted]\n",
        "  Terms:\n",
        "    'C(species)' (columns 0:3)\n",
        "  (to view full data, use np.asarray(this_obj))"
       ]
      }
     ],
     "prompt_number": 16
    },
    {
     "cell_type": "code",
     "collapsed": false,
     "input": [],
     "language": "python",
     "metadata": {},
     "outputs": []
    }
   ],
   "metadata": {}
  }
 ]
}