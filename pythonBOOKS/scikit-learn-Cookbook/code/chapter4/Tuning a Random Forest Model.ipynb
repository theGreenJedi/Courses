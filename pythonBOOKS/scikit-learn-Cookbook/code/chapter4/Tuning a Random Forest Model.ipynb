{
 "metadata": {
  "name": "",
  "signature": "sha256:7d0dc49999227f3b1785c1a0b5930a5b45caa40fec93cbf7f35c93ef4997c0b3"
 },
 "nbformat": 3,
 "nbformat_minor": 0,
 "worksheets": [
  {
   "cells": [
    {
     "cell_type": "code",
     "collapsed": false,
     "input": [
      "%matplotlib inline"
     ],
     "language": "python",
     "metadata": {},
     "outputs": [],
     "prompt_number": 2
    },
    {
     "cell_type": "markdown",
     "metadata": {},
     "source": [
      "Chapter Notes \n",
      "\n",
      "3 Pages"
     ]
    },
    {
     "cell_type": "markdown",
     "metadata": {},
     "source": [
      "# Getting Ready"
     ]
    },
    {
     "cell_type": "markdown",
     "metadata": {},
     "source": [
      "In the last recipe we reviewed how to use the RandomForestClassifier.  In this recipe we'll walk through how to tune its performance by tuning its parameters.  In order to do that we'll need to first make a dataset that's a little more difficult predict.  Then we'll alter the parameters and do some preprocessing to fit the dataset better.\n",
      "\n",
      "So let's create the dataset first!"
     ]
    },
    {
     "cell_type": "code",
     "collapsed": false,
     "input": [
      "from sklearn import datasets"
     ],
     "language": "python",
     "metadata": {},
     "outputs": [],
     "prompt_number": 3
    },
    {
     "cell_type": "code",
     "collapsed": false,
     "input": [
      "X, y = datasets.make_classification(n_samples=10000, n_features=20, n_informative=15, flip_y=.5, weights=[.2, .8])"
     ],
     "language": "python",
     "metadata": {},
     "outputs": [],
     "prompt_number": 4
    },
    {
     "cell_type": "markdown",
     "metadata": {},
     "source": [
      "# How to do it"
     ]
    },
    {
     "cell_type": "markdown",
     "metadata": {},
     "source": [
      "In this recipe we will\n",
      "\n",
      "1. Create a training and test set.  We won't just sail through that this recipe like last recipe.  It's an empty deed to tune a model without comparing it to a training set.\n",
      "2. Fit a baseline Random forest to evaluate how well we do with a naive algorithm\n",
      "3. We'll alter some parameters in a systematic way then observe what happens to the fit."
     ]
    },
    {
     "cell_type": "code",
     "collapsed": false,
     "input": [
      "import numpy as np\n",
      "training = np.random.choice([True, False], p=[.8, .2], size=y.shape)"
     ],
     "language": "python",
     "metadata": {},
     "outputs": [],
     "prompt_number": 5
    },
    {
     "cell_type": "code",
     "collapsed": false,
     "input": [
      "from sklearn.ensemble import RandomForestClassifier\n",
      "\n",
      "rf = RandomForestClassifier()\n",
      "rf.fit(X[training], y[training])\n",
      "\n",
      "preds = rf.predict(X[~training])\n",
      "\n",
      "print \"Accuracy:\\t\", (preds == y[~training]).mean()"
     ],
     "language": "python",
     "metadata": {},
     "outputs": [
      {
       "output_type": "stream",
       "stream": "stdout",
       "text": [
        "Accuracy:\t0.649227703039\n"
       ]
      }
     ],
     "prompt_number": 6
    },
    {
     "cell_type": "markdown",
     "metadata": {},
     "source": [
      "I'm going to cheat a little bit, and introduce one of the model evaluation metrics we're going to talk about alter in the book.  Accuracy is a good first metric, but using a confusion matrix will help use to understand what's going on.\n",
      "\n",
      "Let's iterate through the recommended choices for `max_features` and see what it does to the fit.  And a couple floats.  The floats are the fraction of the features that will be used."
     ]
    },
    {
     "cell_type": "code",
     "collapsed": false,
     "input": [
      "from sklearn.metrics import confusion_matrix"
     ],
     "language": "python",
     "metadata": {},
     "outputs": [],
     "prompt_number": 7
    },
    {
     "cell_type": "code",
     "collapsed": false,
     "input": [
      "max_feature_params = ['auto', 'sqrt', 'log2', .01, .5, .99]\n",
      "\n",
      "confusion_matrixes = {}\n",
      "\n",
      "for max_feature in max_feature_params:\n",
      "    rf = RandomForestClassifier(max_features=max_feature)\n",
      "    \n",
      "    rf.fit(X[training], y[training])\n",
      "    \n",
      "    confusion_matrixes[max_feature] = confusion_matrix(y[~training], rf.predict(X[~training])).ravel()\n",
      "    "
     ],
     "language": "python",
     "metadata": {},
     "outputs": [],
     "prompt_number": 8
    },
    {
     "cell_type": "markdown",
     "metadata": {},
     "source": [
      "Because I used the `ravel` method our once 2D confusion matrixes are now 1D."
     ]
    },
    {
     "cell_type": "code",
     "collapsed": false,
     "input": [
      "import pandas as pd\n",
      "\n",
      "confusion_df = pd.DataFrame(confusion_matrixes)"
     ],
     "language": "python",
     "metadata": {},
     "outputs": [],
     "prompt_number": 9
    },
    {
     "cell_type": "code",
     "collapsed": false,
     "input": [
      "import itertools\n",
      "from matplotlib import pyplot as plt\n",
      "f, ax = plt.subplots(figsize=(7, 5))\n",
      "\n",
      "confusion_df.plot(kind='bar', ax=ax)\n",
      "\n",
      "ax.legend(loc='best')\n",
      "\n",
      "ax.set_title(\"Guessed vs Correct (i, j) where i is the guess and j is the actual.\")\n",
      "\n",
      "ax.grid()\n",
      "\n",
      "ax.set_xticklabels([str((i, j)) for i, j in list(itertools.product(range(2), range(2)))]);\n",
      "ax.set_xlabel(\"Guessed vs Correct\")\n",
      "ax.set_ylabel(\"Correct\")\n",
      "\n",
      "f.savefig(\"978-1-78398-948-5_05_08.png\")"
     ],
     "language": "python",
     "metadata": {},
     "outputs": [
      {
       "metadata": {},
       "output_type": "display_data",
       "png": "[encoded data removed]",
       "text": [
        "<matplotlib.figure.Figure at 0x105bc9610>"
       ]
      }
     ],
     "prompt_number": 11
    },
    {
     "cell_type": "markdown",
     "metadata": {},
     "source": [
      "While we didn't see any real difference in performance, this is a fairly simple process to go through for your own projects.  Let's try it on the choice of n_estimators.  Except we'll only use raw accuracy.  With more than a few options our graph is going to become very cloudy and difficult to use.\n",
      "\n",
      "Since we're using the confustion matrix we can get the accuracy from the trace of the confustion matrix divided by the overall sum."
     ]
    },
    {
     "cell_type": "code",
     "collapsed": false,
     "input": [
      "n_estimator_params = range(1, 20)\n",
      "\n",
      "confusion_matrixes = {}\n",
      "\n",
      "for n_estimator in n_estimator_params:\n",
      "    rf = RandomForestClassifier(n_estimators=n_estimator)\n",
      "    \n",
      "    rf.fit(X[training], y[training])\n",
      "    \n",
      "    confusion_matrixes[n_estimator] = confusion_matrix(y[~training], rf.predict(X[~training]))\n",
      "    \n",
      "    # here's where we'll update the confustion matric with the opation we talked about\n",
      "    \n",
      "    accuracy = lambda x: np.trace(x) / np.sum(x, dtype=float)\n",
      "    confusion_matrixes[n_estimator] = accuracy(confusion_matrixes[n_estimator])"
     ],
     "language": "python",
     "metadata": {},
     "outputs": [],
     "prompt_number": 13
    },
    {
     "cell_type": "code",
     "collapsed": false,
     "input": [
      "accuracy_series = pd.Series(confusion_matrixes)"
     ],
     "language": "python",
     "metadata": {},
     "outputs": [],
     "prompt_number": 14
    },
    {
     "cell_type": "code",
     "collapsed": false,
     "input": [
      "import itertools\n",
      "from matplotlib import pyplot as plt\n",
      "\n",
      "f, ax = plt.subplots(figsize=(7, 5))\n",
      "\n",
      "accuracy_series.plot(kind='bar', ax=ax, color='k', alpha=.75)\n",
      "ax.grid()\n",
      "\n",
      "ax.set_title(\"Accuracy by Number of Estimators\")\n",
      "ax.set_ylim(0, 1) # we want the full scope\n",
      "ax.set_ylabel(\"Accuracy\")\n",
      "ax.set_xlabel(\"Number of Estimators\")\n",
      "\n",
      "f.savefig(\"978-1-78398-948-5_05_09.png\")"
     ],
     "language": "python",
     "metadata": {},
     "outputs": [
      {
       "metadata": {},
       "output_type": "display_data",
       "png": "[encoded data removed]",
       "text": [
        "<matplotlib.figure.Figure at 0x105cc2a10>"
       ]
      }
     ],
     "prompt_number": 16
    },
    {
     "cell_type": "markdown",
     "metadata": {},
     "source": [
      "Notice how accuracy is going up for the most part.  There certainly is some randomness associated with the accuracy, but the graph is up and to the right.  In the how it works section we'll talk about the association between Random forest and boostrap, and what more is generally better."
     ]
    },
    {
     "cell_type": "markdown",
     "metadata": {},
     "source": [
      "# How it works"
     ]
    },
    {
     "cell_type": "markdown",
     "metadata": {},
     "source": [
      "Bootstrapping is a nice technique to augment the other parts of the modeling.  The case often used to introduce bootstrapping is adding standard errors to a median.  Here we're just estimating the outcome over and over and aggregating those estimates up to probabilities.\n",
      "\n",
      "So by simply increasing the number estimators we're increasing the subsamples which leads to faster convergence overall."
     ]
    },
    {
     "cell_type": "markdown",
     "metadata": {},
     "source": [
      "# There's more\n",
      "\n"
     ]
    },
    {
     "cell_type": "markdown",
     "metadata": {},
     "source": [
      "We might want to speed up the training process.  I alluded to this process earlier but we can set n_jobs to how many trees we want to train at the same time.  This should roughly be the number of cores on the machine."
     ]
    },
    {
     "cell_type": "code",
     "collapsed": false,
     "input": [
      "rf = RandomForestClassifier(n_jobs=4, verbose=True)"
     ],
     "language": "python",
     "metadata": {},
     "outputs": [],
     "prompt_number": 118
    },
    {
     "cell_type": "code",
     "collapsed": false,
     "input": [
      "rf.fit(X, y)"
     ],
     "language": "python",
     "metadata": {},
     "outputs": [
      {
       "output_type": "stream",
       "stream": "stderr",
       "text": [
        "[Parallel(n_jobs=4)]: Done   1 out of   4 | elapsed:    0.3s remaining:    0.9s\n",
        "[Parallel(n_jobs=4)]: Done   4 out of   4 | elapsed:    0.3s finished\n"
       ]
      },
      {
       "metadata": {},
       "output_type": "pyout",
       "prompt_number": 120,
       "text": [
        "RandomForestClassifier(bootstrap=True, compute_importances=None,\n",
        "            criterion='gini', max_depth=None, max_features='auto',\n",
        "            max_leaf_nodes=None, min_density=None, min_samples_leaf=1,\n",
        "            min_samples_split=2, n_estimators=10, n_jobs=4,\n",
        "            oob_score=False, random_state=None, verbose=True)"
       ]
      }
     ],
     "prompt_number": 120
    },
    {
     "cell_type": "markdown",
     "metadata": {},
     "source": [
      "This will also predict in parallel (verbosely)."
     ]
    },
    {
     "cell_type": "code",
     "collapsed": false,
     "input": [
      "rf.predict(X)"
     ],
     "language": "python",
     "metadata": {},
     "outputs": [
      {
       "output_type": "stream",
       "stream": "stderr",
       "text": [
        "[Parallel(n_jobs=4)]: Done   1 out of   4 | elapsed:    0.0s remaining:    0.0s\n",
        "[Parallel(n_jobs=4)]: Done   4 out of   4 | elapsed:    0.0s finished\n"
       ]
      },
      {
       "metadata": {},
       "output_type": "pyout",
       "prompt_number": 121,
       "text": [
        "array([1, 1, 0, ..., 1, 1, 1])"
       ]
      }
     ],
     "prompt_number": 121
    }
   ],
   "metadata": {}
  }
 ]
}