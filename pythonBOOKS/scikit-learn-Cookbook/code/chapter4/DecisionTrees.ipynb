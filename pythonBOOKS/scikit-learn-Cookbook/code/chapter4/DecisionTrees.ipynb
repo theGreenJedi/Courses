{
 "metadata": {
  "name": "",
  "signature": "sha256:7323b6f216c05d9eac1e593679f8d639cdb4a34d27a8666d148a0ec4ea4e40e8"
 },
 "nbformat": 3,
 "nbformat_minor": 0,
 "worksheets": [
  {
   "cells": [
    {
     "cell_type": "code",
     "collapsed": false,
     "input": [
      "%matplotlib inline"
     ],
     "language": "python",
     "metadata": {},
     "outputs": [],
     "prompt_number": 1
    },
    {
     "cell_type": "markdown",
     "metadata": {},
     "source": [
      "#Getting Ready\n",
      "\n",
      "For the first chapter on classification we'll look at Descision Trees.  I like to think of decision trees as the base class from which a large number of other classification methods are derived.  It's a pretty simple idea that works well in a bunch of situations.\n",
      "\n",
      "First let's get some classification data that we can practice on."
     ]
    },
    {
     "cell_type": "code",
     "collapsed": false,
     "input": [
      "from sklearn import datasets"
     ],
     "language": "python",
     "metadata": {},
     "outputs": [],
     "prompt_number": 2
    },
    {
     "cell_type": "code",
     "collapsed": false,
     "input": [
      "    X, y = datasets.make_classification(n_samples=1000, n_features=3, n_redundant=0)"
     ],
     "language": "python",
     "metadata": {},
     "outputs": []
    },
    {
     "cell_type": "markdown",
     "metadata": {},
     "source": [
      "#How to do it"
     ]
    },
    {
     "cell_type": "markdown",
     "metadata": {},
     "source": [
      "Working with decision trees is easy.  First we need to import the object then fit the model."
     ]
    },
    {
     "cell_type": "code",
     "collapsed": false,
     "input": [
      "from sklearn.tree import DecisionTreeClassifier"
     ],
     "language": "python",
     "metadata": {},
     "outputs": [],
     "prompt_number": 4
    },
    {
     "cell_type": "code",
     "collapsed": false,
     "input": [
      "dt = DecisionTreeClassifier()"
     ],
     "language": "python",
     "metadata": {},
     "outputs": [],
     "prompt_number": 5
    },
    {
     "cell_type": "code",
     "collapsed": false,
     "input": [
      "dt.fit(X, y)"
     ],
     "language": "python",
     "metadata": {},
     "outputs": [
      {
       "metadata": {},
       "output_type": "pyout",
       "prompt_number": 6,
       "text": [
        "DecisionTreeClassifier(compute_importances=None, criterion='gini',\n",
        "            max_depth=None, max_features=None, max_leaf_nodes=None,\n",
        "            min_density=None, min_samples_leaf=1, min_samples_split=2,\n",
        "            random_state=None, splitter='best')"
       ]
      }
     ],
     "prompt_number": 6
    },
    {
     "cell_type": "code",
     "collapsed": false,
     "input": [
      "preds = dt.predict(X)"
     ],
     "language": "python",
     "metadata": {},
     "outputs": [],
     "prompt_number": 7
    },
    {
     "cell_type": "code",
     "collapsed": false,
     "input": [
      "(y == preds).mean()"
     ],
     "language": "python",
     "metadata": {},
     "outputs": [
      {
       "metadata": {},
       "output_type": "pyout",
       "prompt_number": 8,
       "text": [
        "1.0"
       ]
      }
     ],
     "prompt_number": 8
    },
    {
     "cell_type": "markdown",
     "metadata": {},
     "source": [
      "As you can see we guessed exactly right on.  Clearly that was just dry run, now let's investigate some of our options.\n",
      "\n",
      "First, if you look at the dt object, it has several keyword arguments that determine how the object will behave.  How we choose these is important so we'll look at their effects in detail.\n",
      "\n",
      "The first one we'll look at is max_depth.  This is an important parameter.  It determines how many branches are allowed.  This is important because a Decision Tree can have a hard time generalizing to data with some sort of regularization.  We'll see later how we can use several shallow decision trees to make a better learner.  Let's create a more complex dataset and see what happens when we allow different max_depths.  We'll use this dataset for the rest of the recipe."
     ]
    },
    {
     "cell_type": "code",
     "collapsed": false,
     "input": [
      "n_features=200\n",
      "X, y = datasets.make_classification(750, n_features, n_informative=5)"
     ],
     "language": "python",
     "metadata": {},
     "outputs": [],
     "prompt_number": 9
    },
    {
     "cell_type": "code",
     "collapsed": false,
     "input": [
      "import numpy as np\n",
      "training = np.random.choice([True, False], p=[.75, .25], size=len(y))"
     ],
     "language": "python",
     "metadata": {},
     "outputs": [],
     "prompt_number": 10
    },
    {
     "cell_type": "code",
     "collapsed": false,
     "input": [
      "accuracies = []\n",
      "\n",
      "for x in np.arange(1, n_features+1):\n",
      "    dt = DecisionTreeClassifier(max_depth=x)\n",
      "    \n",
      "    dt.fit(X[training], y[training])\n",
      "    \n",
      "    preds = dt.predict(X[~training])\n",
      "    \n",
      "    accuracies.append((preds == y[~training]).mean())"
     ],
     "language": "python",
     "metadata": {},
     "outputs": [],
     "prompt_number": 11
    },
    {
     "cell_type": "code",
     "collapsed": false,
     "input": [
      "import matplotlib.pyplot as plt\n",
      "\n",
      "f, ax = plt.subplots(figsize=(7, 5))\n",
      "\n",
      "ax.plot(range(1, n_features+1), accuracies, color='k')\n",
      "\n",
      "ax.set_title(\"Decision Tree Accuracy\")\n",
      "ax.set_ylabel(\"% Correct\")\n",
      "ax.set_xlabel(\"Max Depth\")\n",
      "\n",
      "f.savefig(\"978-1-78398-948-5_05_01.png\")"
     ],
     "language": "python",
     "metadata": {},
     "outputs": [
      {
       "metadata": {},
       "output_type": "display_data",
       "png": "[encoded data removed]",
       "text": [
        "<matplotlib.figure.Figure at 0x1079b7d50>"
       ]
      }
     ],
     "prompt_number": 13
    },
    {
     "cell_type": "markdown",
     "metadata": {},
     "source": [
      "We can see that we actually get pretty good accuracy at a low max depth.  Let's have a closer look at the accuracy at low levels - say the first 15."
     ]
    },
    {
     "cell_type": "code",
     "collapsed": false,
     "input": [
      "N = 15\n",
      "\n",
      "import matplotlib.pyplot as plt\n",
      "\n",
      "f, ax = plt.subplots(figsize=(7, 5))\n",
      "\n",
      "ax.plot(range(1, n_features+1)[:N], accuracies[:N], color='k')\n",
      "\n",
      "ax.set_title(\"Decision Tree Accuracy\")\n",
      "ax.set_ylabel(\"% Correct\")\n",
      "ax.set_xlabel(\"Max Depth\")\n",
      "\n",
      "f.savefig(\"978-1-78398-948-5_05_02.png\")"
     ],
     "language": "python",
     "metadata": {},
     "outputs": [
      {
       "metadata": {},
       "output_type": "display_data",
       "png": "[encoded data removed]",
       "text": [
        "<matplotlib.figure.Figure at 0x107a05090>"
       ]
      }
     ],
     "prompt_number": 14
    },
    {
     "cell_type": "markdown",
     "metadata": {},
     "source": [
      "There's that elbow we saw earlier.  It's quite amazing the quick drop off though.  It's more likely that the max depth of 1 though three are farily equivilent.  Decision Trees are quite good at seperating rules, but they need to be reigned in."
     ]
    },
    {
     "cell_type": "markdown",
     "metadata": {},
     "source": [
      "Compute Importances is another one we'll look at here.  It actually has a bit of a broader meaning for Random Forests, but we'll get aquianted here.  It's also worth noting that if you're using 0.16 or earlier you will be this for free."
     ]
    },
    {
     "cell_type": "code",
     "collapsed": false,
     "input": [
      "dt_ci = DecisionTreeClassifier(compute_importances=True)"
     ],
     "language": "python",
     "metadata": {},
     "outputs": [
      {
       "output_type": "stream",
       "stream": "stderr",
       "text": [
        "/Users/thauck/miniconda/envs/sklearn-book/lib/python2.7/site-packages/sklearn/tree/tree.py:491: DeprecationWarning: Setting compute_importances is no longer required as version 0.14. Variable importances are now computed on the fly when accessing the feature_importances_ attribute. This parameter will be removed in 0.16.\n",
        "  DeprecationWarning)\n"
       ]
      }
     ],
     "prompt_number": 15
    },
    {
     "cell_type": "code",
     "collapsed": false,
     "input": [
      "dt.fit(X, y)"
     ],
     "language": "python",
     "metadata": {},
     "outputs": [
      {
       "metadata": {},
       "output_type": "pyout",
       "prompt_number": 16,
       "text": [
        "DecisionTreeClassifier(compute_importances=None, criterion='gini',\n",
        "            max_depth=200, max_features=None, max_leaf_nodes=None,\n",
        "            min_density=None, min_samples_leaf=1, min_samples_split=2,\n",
        "            random_state=None, splitter='best')"
       ]
      }
     ],
     "prompt_number": 16
    },
    {
     "cell_type": "code",
     "collapsed": false,
     "input": [
      "#plot the importances\n",
      "ne0 = dt.feature_importances_ != 0\n",
      "\n",
      "y_comp = dt.feature_importances_[ne0]\n",
      "x_comp = np.arange(len(dt.feature_importances_))[ne0]\n",
      "\n",
      "import matplotlib.pyplot as plt\n",
      "\n",
      "f, ax = plt.subplots(figsize=(7, 5))\n",
      "ax.bar(x_comp, y_comp)\n",
      "\n",
      "f.savefig(\"978-1-78398-948-5_05_03.png\")"
     ],
     "language": "python",
     "metadata": {},
     "outputs": [
      {
       "metadata": {},
       "output_type": "display_data",
       "png": "[encoded data removed]",
       "text": [
        "<matplotlib.figure.Figure at 0x1073af990>"
       ]
      }
     ],
     "prompt_number": 17
    },
    {
     "cell_type": "markdown",
     "metadata": {},
     "source": [
      "As we can see, one of the features is by far the most important with several other following up."
     ]
    },
    {
     "cell_type": "markdown",
     "metadata": {},
     "source": [
      "#How it works"
     ]
    },
    {
     "cell_type": "markdown",
     "metadata": {},
     "source": [
      "# There's More\n",
      "\n",
      "Multiclass classification is free for decisision trees.  We'll show how to do it here, but also, later be aware that for some types of classifers there is a bit of overhead for working with multiple classes."
     ]
    }
   ],
   "metadata": {}
  }
 ]
}