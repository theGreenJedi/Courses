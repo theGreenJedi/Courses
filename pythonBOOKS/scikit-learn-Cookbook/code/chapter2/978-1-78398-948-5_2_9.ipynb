{
 "metadata": {
  "name": "",
  "signature": "sha256:4ca0503f6bfe248bd51c95442432fa35590166429d9679329ec442a57349739c"
 },
 "nbformat": 3,
 "nbformat_minor": 0,
 "worksheets": [
  {
   "cells": [
    {
     "cell_type": "markdown",
     "metadata": {},
     "source": [
      "#Getting Ready\n",
      "\n",
      "Gradient Boosting regression is a technique that learns from its mistakes.  Essentially it tries to fit a bunch of weak learners.  There are two things to note:\n",
      "\n",
      "* Individually, each learner has poor accuracy, but together they can have very good accuracy.\n",
      "* They're applied sequentially, meaning that each learner becomes an expert in the mistakes of the prior learner.\n",
      "\n",
      "Let's use some basic regression data and see how Gradient Boosting regression (henceforth, GBR) works."
     ]
    },
    {
     "cell_type": "code",
     "collapsed": false,
     "input": [
      "import numpy as np"
     ],
     "language": "python",
     "metadata": {},
     "outputs": [],
     "prompt_number": 9
    },
    {
     "cell_type": "code",
     "collapsed": false,
     "input": [
      "from sklearn.datasets import make_regression\n",
      "X, y = make_regression(1000, 2, noise=10)"
     ],
     "language": "python",
     "metadata": {},
     "outputs": [],
     "prompt_number": 10
    },
    {
     "cell_type": "markdown",
     "metadata": {},
     "source": [
      "#How to do it"
     ]
    },
    {
     "cell_type": "markdown",
     "metadata": {},
     "source": [
      "GBR is part of the ensemble module, because it's an ensemble learner.  This is the name for the idea behind using many weak learners to simulate a strong learner."
     ]
    },
    {
     "cell_type": "code",
     "collapsed": false,
     "input": [
      "from sklearn.ensemble import GradientBoostingRegressor as GBR\n",
      "gbr = GBR()\n",
      "gbr.fit(X, y)\n",
      "gbr_preds = gbr.predict(X)"
     ],
     "language": "python",
     "metadata": {},
     "outputs": [],
     "prompt_number": 11
    },
    {
     "cell_type": "markdown",
     "metadata": {},
     "source": [
      "Let's fit a basic regression as well so we can use it as the baseline."
     ]
    },
    {
     "cell_type": "code",
     "collapsed": false,
     "input": [
      "from sklearn.linear_model import LinearRegression\n",
      "lr = LinearRegression()\n",
      "lr.fit(X, y)\n",
      "lr_preds = lr.predict(X)"
     ],
     "language": "python",
     "metadata": {},
     "outputs": [],
     "prompt_number": 12
    },
    {
     "cell_type": "markdown",
     "metadata": {},
     "source": [
      "Now how well did GBR fit vs the standard Linear Regression."
     ]
    },
    {
     "cell_type": "code",
     "collapsed": false,
     "input": [
      "gbr_residuals = y - gbr_preds\n",
      "lr_residuals = y - lr_preds"
     ],
     "language": "python",
     "metadata": {},
     "outputs": [],
     "prompt_number": 13
    },
    {
     "cell_type": "code",
     "collapsed": false,
     "input": [
      "import matplotlib.pyplot as plt\n",
      "%matplotlib inline"
     ],
     "language": "python",
     "metadata": {},
     "outputs": [],
     "prompt_number": 14
    },
    {
     "cell_type": "code",
     "collapsed": false,
     "input": [
      "f, ax = plt.subplots(figsize=(7, 5))\n",
      "ax.hist(gbr_residuals, bins=25, alpha=.3, label='GBR Residuals', color='r')\n",
      "ax.hist(lr_residuals, bins=25, alpha=.3, label='LR Residuals', color='b')\n",
      "ax.set_title(\"GBR Residuals vs LR Residuals\")\n",
      "ax.legend()\n",
      "f.savefig(\"GBR_vs_LR_residuals.png\")"
     ],
     "language": "python",
     "metadata": {},
     "outputs": [
      {
       "metadata": {},
       "output_type": "display_data",
       "png": "[encoded data removed]",
       "text": [
        "<matplotlib.figure.Figure at 0x107d44690>"
       ]
      }
     ],
     "prompt_number": 15
    },
    {
     "cell_type": "markdown",
     "metadata": {},
     "source": [
      "It looks like GBR has a better fit, but it's a bit hard to tell.  Let's take the 95% CI and compare."
     ]
    },
    {
     "cell_type": "code",
     "collapsed": false,
     "input": [
      "np.percentile(gbr_residuals, [2.5, 97.5])"
     ],
     "language": "python",
     "metadata": {},
     "outputs": [
      {
       "metadata": {},
       "output_type": "pyout",
       "prompt_number": 16,
       "text": [
        "[-15.859131857255228, 16.685797134538674]"
       ]
      }
     ],
     "prompt_number": 16
    },
    {
     "cell_type": "code",
     "collapsed": false,
     "input": [
      "np.percentile(lr_residuals, [2.5, 97.5])"
     ],
     "language": "python",
     "metadata": {},
     "outputs": [
      {
       "metadata": {},
       "output_type": "pyout",
       "prompt_number": 17,
       "text": [
        "[-19.466249169200896, 19.649433561260746]"
       ]
      }
     ],
     "prompt_number": 17
    },
    {
     "cell_type": "markdown",
     "metadata": {},
     "source": [
      "So clearly GBR fits a bit better, we can also make several modifications to the GBR algorithm which may improve performance.  I'll show an example here, then we'll walk through the different options in the the How it works section."
     ]
    },
    {
     "cell_type": "code",
     "collapsed": false,
     "input": [
      "n_estimators = np.arange(100, 1100, 350)\n",
      "gbrs = [GBR(n_estimators=n_estimator) for n_estimator in n_estimators]"
     ],
     "language": "python",
     "metadata": {},
     "outputs": [],
     "prompt_number": 18
    },
    {
     "cell_type": "code",
     "collapsed": false,
     "input": [
      "residuals = {}\n",
      "\n",
      "for i, gbr in enumerate(gbrs):\n",
      "    gbr.fit(X, y)\n",
      "    residuals[gbr.n_estimators] = y - gbr.predict(X)"
     ],
     "language": "python",
     "metadata": {},
     "outputs": [],
     "prompt_number": 19
    },
    {
     "cell_type": "code",
     "collapsed": false,
     "input": [
      "f, ax = plt.subplots(figsize=(7, 5))\n",
      "colors = ['r', 'g', 'b']\n",
      "\n",
      "for i, (k, v) in enumerate(residuals.iteritems()):\n",
      "    ax.hist(v, bins=20, color=colors[i], alpha=.15, label='n_estimators: {}'.format(k))\n",
      "    \n",
      "ax.legend()\n",
      "ax.set_title(\"Residuals at Various Numbers of Estimators\")\n",
      "f.savefig(\"residuals_vs_estimators.png\")"
     ],
     "language": "python",
     "metadata": {},
     "outputs": [
      {
       "metadata": {},
       "output_type": "display_data",
       "png": "[encoded data removed]",
       "text": [
        "<matplotlib.figure.Figure at 0x107c28210>"
       ]
      }
     ],
     "prompt_number": 20
    },
    {
     "cell_type": "markdown",
     "metadata": {},
     "source": [
      "It's bit muddled, but hopefully it's clear that as the number of estimators increases the error goes down.  Sadly this isn't a panacea, first we're not testing against a holdout set, and two, and the number of estimators goes up, the training time will take longer and longer.  This isn't a big deal on the dataset we're using here, but imagine one or two magnitudes higher."
     ]
    },
    {
     "cell_type": "markdown",
     "metadata": {},
     "source": [
      "#How it works"
     ]
    },
    {
     "cell_type": "markdown",
     "metadata": {},
     "source": [
      "The first parameter, and one we've already looked at `n_estimators` - the number of weak learner which are used in GBR.  In general if you can get away with more (i.e. have enough computational power) more is probably better.  There is more nuance to the other parameters.\n",
      "\n",
      "`max_depth` is the parameter you should look to tune before all others.  Since the invidual learners are trees, `max_depth` controls how many nodes are produces for the trees.  There's a subtle line between using the appropriate number of nodes which can fit the data well and useing to many which will cause overfitting in practice.\n",
      "\n",
      "The `loss` parameter controls the loss function which determines the error.  \"ls\" is the default which stands for least squares.  Least absolute deviation, huber loss, and quantile are all also available."
     ]
    }
   ],
   "metadata": {}
  }
 ]
}