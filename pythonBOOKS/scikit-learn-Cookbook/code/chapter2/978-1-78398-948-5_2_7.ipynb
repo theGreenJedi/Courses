{
 "metadata": {
  "name": "",
  "signature": "sha256:718eb3e11e828c103a43b59705c9e7847d3c625f8fd6438aa24b806e82b4e980"
 },
 "nbformat": 3,
 "nbformat_minor": 0,
 "worksheets": [
  {
   "cells": [
    {
     "cell_type": "code",
     "collapsed": false,
     "input": [
      "%matplotlib inline\n",
      "\n",
      "import matplotlib.pyplot as plt\n",
      "import scipy.stats as sps"
     ],
     "language": "python",
     "metadata": {},
     "outputs": [],
     "prompt_number": 1
    },
    {
     "cell_type": "code",
     "collapsed": false,
     "input": [
      "def log_func(x):\n",
      "    return 1 / (1 + np.exp(-x))"
     ],
     "language": "python",
     "metadata": {},
     "outputs": [],
     "prompt_number": 2
    },
    {
     "cell_type": "markdown",
     "metadata": {},
     "source": [
      "#Getting Ready\n",
      "\n",
      "Linear models can actually be used for classification tasks.  This involves fitting a linear model to the probability of a certain class, then using a function to create a threshold at which we specify the outcome one of the classes.\n",
      "\n",
      "The function used here is typically the logistic function (surprise!)  It's a pretty simple function.\n",
      "\n",
      "$$ f(x) = \\frac{1}{1 + e^{-t}} $$\n",
      "\n",
      "Visually it looks like this:"
     ]
    },
    {
     "cell_type": "code",
     "collapsed": false,
     "input": [
      "import numpy as np"
     ],
     "language": "python",
     "metadata": {},
     "outputs": [],
     "prompt_number": 4
    },
    {
     "cell_type": "code",
     "collapsed": false,
     "input": [
      "f, ax = plt.subplots(figsize=(5, 3))\n",
      "rng = np.linspace(-5, 5)\n",
      "log_f = np.apply_along_axis(log_func, 0, rng)\n",
      "ax.set_title(\"Logistic Function between [-5, 5]\")\n",
      "ax.plot(rng, log_f)\n",
      "f.savefig(\"log_regress.png\")"
     ],
     "language": "python",
     "metadata": {},
     "outputs": [
      {
       "metadata": {},
       "output_type": "display_data",
       "png": "[encoded data removed]",
       "text": [
        "<matplotlib.figure.Figure at 0x106fbda50>"
       ]
      }
     ],
     "prompt_number": 5
    },
    {
     "cell_type": "markdown",
     "metadata": {},
     "source": [
      "Let's use the make_classification method and create a dataset and get to classifying!"
     ]
    },
    {
     "cell_type": "code",
     "collapsed": false,
     "input": [
      "make_classification?"
     ],
     "language": "python",
     "metadata": {},
     "outputs": [
      {
       "output_type": "stream",
       "stream": "stdout",
       "text": [
        "Object `make_classification` not found.\n"
       ]
      }
     ],
     "prompt_number": 6
    },
    {
     "cell_type": "code",
     "collapsed": false,
     "input": [
      "from sklearn.datasets import make_classification\n",
      "X, y = make_classification(n_samples=1000, n_features=4)"
     ],
     "language": "python",
     "metadata": {},
     "outputs": [],
     "prompt_number": 7
    },
    {
     "cell_type": "markdown",
     "metadata": {},
     "source": [
      "#How to do it\n",
      "\n",
      "The `LogisticRegression` object work similarily to the other linear models."
     ]
    },
    {
     "cell_type": "code",
     "collapsed": false,
     "input": [
      "from sklearn.linear_model import LogisticRegression\n",
      "lr = LogisticRegression()"
     ],
     "language": "python",
     "metadata": {},
     "outputs": [],
     "prompt_number": 8
    },
    {
     "cell_type": "markdown",
     "metadata": {},
     "source": [
      "Because we're good data scientists, we're going to pull out the last 200 samples to test the trained model on.  Since this is a random dataset it's fine to hold out the last 200, but if you're dealing with structured data don't do this.  For example, if you were dealing with time series data.  More on cross validation later in the book."
     ]
    },
    {
     "cell_type": "code",
     "collapsed": false,
     "input": [
      "X_train = X[:-200]\n",
      "X_test = X[-200:]\n",
      "y_train = y[:-200]\n",
      "y_test = y[-200:]"
     ],
     "language": "python",
     "metadata": {},
     "outputs": [],
     "prompt_number": 9
    },
    {
     "cell_type": "markdown",
     "metadata": {},
     "source": [
      "Now we need to fit the model with the Logistic Regression.  We'll keep around the predictions on the train set, just like the test set.  It's a good idea to see how often you were correct on both sets.  Often you'll be better on the train set, it's a matter of how much worse you are the test set."
     ]
    },
    {
     "cell_type": "code",
     "collapsed": false,
     "input": [
      "lr.fit(X_train, y_train)\n",
      "y_train_predictions = lr.predict(X_train)\n",
      "y_test_predictions = lr.predict(X_test)"
     ],
     "language": "python",
     "metadata": {},
     "outputs": [],
     "prompt_number": 10
    },
    {
     "cell_type": "markdown",
     "metadata": {},
     "source": [
      "Now that we have the predictions let's take a look at how good our predictions were.  Here we'll simply look at the number of time we were correct, later we'll talk about evaluating classification models in more detail.\n",
      "\n",
      "This calcuation is simple: it's the number of times we were correct over the total sample."
     ]
    },
    {
     "cell_type": "code",
     "collapsed": false,
     "input": [
      "(y_train_predictions == y_train).sum().astype(float) / y_train.shape[0]"
     ],
     "language": "python",
     "metadata": {},
     "outputs": [
      {
       "metadata": {},
       "output_type": "pyout",
       "prompt_number": 11,
       "text": [
        "0.93374999999999997"
       ]
      }
     ],
     "prompt_number": 11
    },
    {
     "cell_type": "markdown",
     "metadata": {},
     "source": [
      "And now the the test sample."
     ]
    },
    {
     "cell_type": "code",
     "collapsed": false,
     "input": [
      "(y_test_predictions == y_test).sum().astype(float) / y_test.shape[0]"
     ],
     "language": "python",
     "metadata": {},
     "outputs": [
      {
       "metadata": {},
       "output_type": "pyout",
       "prompt_number": 12,
       "text": [
        "0.93500000000000005"
       ]
      }
     ],
     "prompt_number": 12
    },
    {
     "cell_type": "markdown",
     "metadata": {},
     "source": [
      "So here we were correct about as often in the test set as we were in the train set.  Sadly, in practice, this often isn't the case."
     ]
    },
    {
     "cell_type": "markdown",
     "metadata": {},
     "source": [
      "#How it works\n",
      "\n",
      "The question then becomes, how do we go from the logistic function, $ f(x) = \\frac{1}{1 + e^{-t}} $, to a method by which we can classify groups.\n",
      "\n",
      "First, recall that linear regression hopes fo find the linear function that fits the expected value of $Y$ given the values of $X$.  This is then, $E(Y|X) = \\beta X$.  Here the $Y$s are the probabilities of the classes.  Therefore, the the problem we're trying to solve $E(p|X) = \\beta X$.  Then once the threshold is applied, this becomes: $Logit(p) = \\beta X$.  This idea expanded is how other forms of regression work, e.g. Poisson."
     ]
    },
    {
     "cell_type": "markdown",
     "metadata": {},
     "source": [
      "#There's more"
     ]
    },
    {
     "cell_type": "markdown",
     "metadata": {},
     "source": [
      "### Specifying Class Weights\n",
      "\n",
      "We'll see this again, with other classification problems are situation where one class is weighted differently than other classes.  For example once class may be be 99% of cases.  This situation will pop up all over the place in classification work.  The canonical example is fraud detection where most transactions aren't fraud.\n",
      "\n",
      "Let's create a classification problem with 95% imbalance and see how the basic stock logistic regression handles this case."
     ]
    },
    {
     "cell_type": "code",
     "collapsed": false,
     "input": [
      "X, y = make_classification(n_samples=5000, n_features=4, weights=[.95])"
     ],
     "language": "python",
     "metadata": {},
     "outputs": [],
     "prompt_number": 13
    },
    {
     "cell_type": "code",
     "collapsed": false,
     "input": [
      "sum(y) / (len(y)*1.) #to confirm the class imbalance"
     ],
     "language": "python",
     "metadata": {},
     "outputs": [
      {
       "metadata": {},
       "output_type": "pyout",
       "prompt_number": 14,
       "text": [
        "0.054600000000000003"
       ]
      }
     ],
     "prompt_number": 14
    },
    {
     "cell_type": "code",
     "collapsed": false,
     "input": [
      "X_train = X[:-500]\n",
      "X_test = X[-500:]\n",
      "y_train = y[:-500]\n",
      "y_test = y[-500:]"
     ],
     "language": "python",
     "metadata": {},
     "outputs": [],
     "prompt_number": 15
    },
    {
     "cell_type": "code",
     "collapsed": false,
     "input": [
      "lr.fit(X_train, y_train)\n",
      "y_train_predictions = lr.predict(X_train)\n",
      "y_test_predictions = lr.predict(X_test)"
     ],
     "language": "python",
     "metadata": {},
     "outputs": [],
     "prompt_number": 16
    },
    {
     "cell_type": "code",
     "collapsed": false,
     "input": [
      "(y_train_predictions == y_train).sum().astype(float) / y_train.shape[0]"
     ],
     "language": "python",
     "metadata": {},
     "outputs": [
      {
       "metadata": {},
       "output_type": "pyout",
       "prompt_number": 17,
       "text": [
        "0.97688888888888892"
       ]
      }
     ],
     "prompt_number": 17
    },
    {
     "cell_type": "code",
     "collapsed": false,
     "input": [
      "(y_test_predictions == y_test).sum().astype(float) / y_test.shape[0]"
     ],
     "language": "python",
     "metadata": {},
     "outputs": [
      {
       "metadata": {},
       "output_type": "pyout",
       "prompt_number": 18,
       "text": [
        "0.98599999999999999"
       ]
      }
     ],
     "prompt_number": 18
    },
    {
     "cell_type": "markdown",
     "metadata": {},
     "source": [
      "At first it looks like we did amazing, but it turns out, if we had just always guessed not fraud (or class 0 in general) we'd have been write around 95% of the time.  If we look at how well we did in classifying the 1 class it's not nearly as good."
     ]
    },
    {
     "cell_type": "code",
     "collapsed": false,
     "input": [
      "(y_test[y_test==1] == y_test_predictions[y_test==1]).sum().astype(float) / y_test[y_test==1].shape[0]"
     ],
     "language": "python",
     "metadata": {},
     "outputs": [
      {
       "metadata": {},
       "output_type": "pyout",
       "prompt_number": 19,
       "text": [
        "0.69999999999999996"
       ]
      }
     ],
     "prompt_number": 19
    },
    {
     "cell_type": "markdown",
     "metadata": {},
     "source": [
      "Hypothentically, we may care more about identifying fraud cases and are ok we misclassifying non fraud cases we can change our class weights.\n",
      "\n",
      "By default, the classes are weighted (and thusly resampled) in accordence with the inverse of the class weights of the training set.  But because we care more about fraud cases, let's oversample fraud relative to non fraud.\n",
      "\n",
      "We know our relative weighting right now is 95% non fraud, let's change that to overweight fraud cases."
     ]
    },
    {
     "cell_type": "code",
     "collapsed": false,
     "input": [
      "lr = LogisticRegression(class_weight={0: .15, 1: .85})"
     ],
     "language": "python",
     "metadata": {},
     "outputs": [],
     "prompt_number": 20
    },
    {
     "cell_type": "code",
     "collapsed": false,
     "input": [
      "lr.fit(X_train, y_train)"
     ],
     "language": "python",
     "metadata": {},
     "outputs": [
      {
       "metadata": {},
       "output_type": "pyout",
       "prompt_number": 21,
       "text": [
        "LogisticRegression(C=1.0, class_weight={0: 0.15, 1: 0.85}, dual=False,\n",
        "          fit_intercept=True, intercept_scaling=1, penalty='l2',\n",
        "          random_state=None, tol=0.0001)"
       ]
      }
     ],
     "prompt_number": 21
    },
    {
     "cell_type": "code",
     "collapsed": false,
     "input": [
      "y_train_predictions = lr.predict(X_train)\n",
      "y_test_predictions = lr.predict(X_test)"
     ],
     "language": "python",
     "metadata": {},
     "outputs": [],
     "prompt_number": 22
    },
    {
     "cell_type": "markdown",
     "metadata": {},
     "source": [
      "We can that we did a much better job on classifying fraud cases."
     ]
    },
    {
     "cell_type": "code",
     "collapsed": false,
     "input": [
      "(y_test[y_test==1] == y_test_predictions[y_test==1]).sum().astype(float) / y_test[y_test==1].shape[0]"
     ],
     "language": "python",
     "metadata": {},
     "outputs": [
      {
       "metadata": {},
       "output_type": "pyout",
       "prompt_number": 23,
       "text": [
        "0.80000000000000004"
       ]
      }
     ],
     "prompt_number": 23
    },
    {
     "cell_type": "markdown",
     "metadata": {},
     "source": [
      "But at what expense?"
     ]
    },
    {
     "cell_type": "code",
     "collapsed": false,
     "input": [
      "(y_test_predictions == y_test).sum().astype(float) / y_test.shape[0]"
     ],
     "language": "python",
     "metadata": {},
     "outputs": [
      {
       "metadata": {},
       "output_type": "pyout",
       "prompt_number": 24,
       "text": [
        "0.95799999999999996"
       ]
      }
     ],
     "prompt_number": 24
    },
    {
     "cell_type": "markdown",
     "metadata": {},
     "source": [
      "Here, only about 1% less accuracy.  Whether that's ok, depends on your problem."
     ]
    }
   ],
   "metadata": {}
  }
 ]
}