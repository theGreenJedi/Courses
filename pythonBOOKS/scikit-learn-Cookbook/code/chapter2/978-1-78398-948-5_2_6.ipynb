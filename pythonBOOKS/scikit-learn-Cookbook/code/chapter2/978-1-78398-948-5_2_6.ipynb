{
 "metadata": {
  "name": "",
  "signature": "sha256:6b2d4b2ac549a73841e5c7c8cf6c7c9258ec8f704a2f48d2c7c870582d60a1be"
 },
 "nbformat": 3,
 "nbformat_minor": 0,
 "worksheets": [
  {
   "cells": [
    {
     "cell_type": "markdown",
     "metadata": {},
     "source": [
      "#Getting Ready\n",
      "\n",
      "Least Angle Regression, often appreviated LARS, is a regression technique that is well suited for high dimensional problems.  That is, $p >> n$, where p are the columns or features, and n is the number of samples."
     ]
    },
    {
     "cell_type": "markdown",
     "metadata": {},
     "source": [
      "#How to do it"
     ]
    },
    {
     "cell_type": "markdown",
     "metadata": {},
     "source": [
      "First, import the necessary objects.  The data we use will have 200 data points and 500 and features.  We're also going to choose a low noise and a small number of informative features."
     ]
    },
    {
     "cell_type": "code",
     "collapsed": false,
     "input": [
      "from sklearn.datasets import make_regression\n",
      "reg_data, reg_target = make_regression(n_samples=200, n_features=500, n_informative=10, noise=2)"
     ],
     "language": "python",
     "metadata": {},
     "outputs": [],
     "prompt_number": 1
    },
    {
     "cell_type": "markdown",
     "metadata": {},
     "source": [
      "Because we used specified 10 informative features, let's also specify in LARS that we want 10 nonzero coefficients.  We probably wouldn't know before the exact number of informative features, but it's useful for learning purposes."
     ]
    },
    {
     "cell_type": "code",
     "collapsed": false,
     "input": [
      "from sklearn.linear_model import Lars\n",
      "import numpy as np"
     ],
     "language": "python",
     "metadata": {},
     "outputs": [],
     "prompt_number": 6
    },
    {
     "cell_type": "code",
     "collapsed": false,
     "input": [
      "lars = Lars(n_nonzero_coefs=10)\n",
      "lars.fit(reg_data, reg_target)"
     ],
     "language": "python",
     "metadata": {},
     "outputs": [
      {
       "metadata": {},
       "output_type": "pyout",
       "prompt_number": 7,
       "text": [
        "Lars(copy_X=True, eps=2.2204460492503131e-16, fit_intercept=True,\n",
        "   fit_path=True, n_nonzero_coefs=10, normalize=True, precompute='auto',\n",
        "   verbose=False)"
       ]
      }
     ],
     "prompt_number": 7
    },
    {
     "cell_type": "markdown",
     "metadata": {},
     "source": [
      "We can then varify that `Lars` returned the correct number of nonzero coefficients."
     ]
    },
    {
     "cell_type": "code",
     "collapsed": false,
     "input": [
      "np.sum(lars.coef_ != 0)"
     ],
     "language": "python",
     "metadata": {},
     "outputs": [
      {
       "metadata": {},
       "output_type": "pyout",
       "prompt_number": 8,
       "text": [
        "10"
       ]
      }
     ],
     "prompt_number": 8
    },
    {
     "cell_type": "markdown",
     "metadata": {},
     "source": [
      "The question, then, is why is it more useful to use a smaller number features.  To illustrate this, let's hold out half of the data and train two LARS models, one with 12 non-zero coefficients and one with no predetermined amount.  Using 12 here, because we may have an idea the number of important features, but we're not sure the exact number."
     ]
    },
    {
     "cell_type": "code",
     "collapsed": false,
     "input": [
      "train_n = 100\n",
      "lars_12 = Lars(n_nonzero_coefs=12)\n",
      "lars_12.fit(reg_data[:train_n], reg_target[:train_n])\n",
      "\n",
      "lars_500 = Lars() # it's 500 by default\n",
      "lars_500.fit(reg_data[:train_n], reg_target[:train_n]);"
     ],
     "language": "python",
     "metadata": {},
     "outputs": [],
     "prompt_number": 9
    },
    {
     "cell_type": "markdown",
     "metadata": {},
     "source": [
      "Now to see how well each fit the unknown data."
     ]
    },
    {
     "cell_type": "code",
     "collapsed": false,
     "input": [
      "np.mean(np.power(reg_target[train_n:] - lars_12.predict(reg_data[train_n:]), 2))"
     ],
     "language": "python",
     "metadata": {},
     "outputs": [
      {
       "metadata": {},
       "output_type": "pyout",
       "prompt_number": 10,
       "text": [
        "351.38559178339653"
       ]
      }
     ],
     "prompt_number": 10
    },
    {
     "cell_type": "code",
     "collapsed": false,
     "input": [
      "np.mean(np.power(reg_target[train_n:] - lars_500.predict(reg_data[train_n:]), 2))"
     ],
     "language": "python",
     "metadata": {},
     "outputs": [
      {
       "metadata": {},
       "output_type": "pyout",
       "prompt_number": 11,
       "text": [
        "1.5485087802960807e+29"
       ]
      }
     ],
     "prompt_number": 11
    },
    {
     "cell_type": "markdown",
     "metadata": {},
     "source": [
      "Look again if you missed it, the error on the test set was clearly it was very high.  Herein lies the problem with high dimensional datasets.  Given a large number of features it's typically not to difficult to get a model to have good fit on the train sample, but overfitting becomes a huge problem."
     ]
    },
    {
     "cell_type": "markdown",
     "metadata": {},
     "source": [
      "#How it works\n",
      "\n",
      "LARS works be interively choosing features which are correlated with the residuals.  Geometically correlation is effectively the least angle between the feature and the residuals, this is how LARs gets its name.\n",
      "\n",
      "After choosing the first feature, LARS will continue to move in the least angle direction until a different feature has the same amount of correlation with the residuals.  Then LARS will begin to move in the combined direction of both features.  To visualize this, consider the following graph."
     ]
    },
    {
     "cell_type": "code",
     "collapsed": false,
     "input": [
      "## don't show\n",
      "%matplotlib inline\n",
      "import matplotlib.pyplot as plt"
     ],
     "language": "python",
     "metadata": {},
     "outputs": [],
     "prompt_number": 12
    },
    {
     "cell_type": "code",
     "collapsed": false,
     "input": [
      "def unit(*args):\n",
      "    squared = map(lambda x: x**2, args)\n",
      "    distance = sum(squared) ** (.5)\n",
      "    return map(lambda x: x / distance, args)"
     ],
     "language": "python",
     "metadata": {},
     "outputs": [],
     "prompt_number": 15
    },
    {
     "cell_type": "code",
     "collapsed": false,
     "input": [
      "f, ax = plt.subplots(nrows=3, figsize=(5, 10))\n",
      "#ax[0].axis('off')\n",
      "plt.tight_layout()\n",
      "ax[0].set_ylim(0, 1.1)\n",
      "ax[0].set_xlim(0, 1.1)\n",
      "\n",
      "x, y = unit(1, 0.02)\n",
      "ax[0].arrow(0, 0, x, y, edgecolor='black', facecolor='black')\n",
      "ax[0].text(x + .05, y + .05, r\"$x_1$\")\n",
      "\n",
      "x, y = unit(.5, 1)\n",
      "ax[0].arrow(0, 0, x, y, edgecolor='black', facecolor='black')\n",
      "ax[0].text(x + .05, y + .05, r\"$x_2$\")\n",
      "\n",
      "x, y = unit(1, .45)\n",
      "ax[0].arrow(0, 0, x, y, edgecolor='black', facecolor='black')\n",
      "ax[0].text(x + .05, y + .05, r\"$y$\")\n",
      "\n",
      "ax[0].set_title(\"No steps\")\n",
      "\n",
      "#step 1\n",
      "ax[1].set_title(\"Step 1\")\n",
      "ax[1].set_ylim(0, 1.1)\n",
      "ax[1].set_xlim(0, 1.1)\n",
      "\n",
      "x, y = unit(1, 0.02)\n",
      "ax[1].arrow(0, 0, x, y, edgecolor='black', facecolor='black')\n",
      "ax[1].text(x + .05, y + .05, r\"$x_1$\")\n",
      "\n",
      "x, y = unit(.5, 1)\n",
      "ax[1].arrow(0, 0, x, y, edgecolor='black', facecolor='black')\n",
      "ax[1].text(x + .05, y + .05, r\"$x_2$\")\n",
      "\n",
      "x, y = unit(.5, 1)\n",
      "ax[1].arrow(.5, 0.01, x, y, ls='dashed', edgecolor='black', facecolor='black')\n",
      "ax[1].text(x + .5 + .05, y + .01 + .05, r\"$x_2$\")\n",
      "\n",
      "ax[1].arrow(0, 0, .47, .01, width=.0015, edgecolor='black', facecolor='black')\n",
      "ax[1].text(.47-.15, .01 + .03, \"Step 1\")\n",
      "\n",
      "x, y = unit(1, .45)\n",
      "ax[1].arrow(0, 0, x, y, edgecolor='black', facecolor='black')\n",
      "ax[1].text(x + .05, y + .05, r\"$y$\")\n",
      "\n",
      "#step 2\n",
      "ax[2].set_title(\"Step 2\")\n",
      "ax[2].set_ylim(0, 1.1)\n",
      "ax[2].set_xlim(0, 1.1)\n",
      "\n",
      "x, y = unit(1, 0.02)\n",
      "ax[2].arrow(0, 0, x, y, edgecolor='black', facecolor='black')\n",
      "ax[2].text(x + .05, y + .05, r\"$x_1$\")\n",
      "\n",
      "x, y = unit(.5, 1)\n",
      "ax[2].arrow(0, 0, x, y, edgecolor='black', facecolor='black')\n",
      "ax[2].text(x + .05, y + .05, r\"$x_2$\")\n",
      "\n",
      "x, y = unit(.5, 1)\n",
      "ax[2].arrow(.5, 0.01, x, y, ls='dashed', edgecolor='black', facecolor='black')\n",
      "ax[2].text(x + .5 + .05, y + .01 + .05, r\"$x_2$\")\n",
      "\n",
      "ax[2].arrow(0, 0, .47, .01, width=.0015, edgecolor='black', facecolor='black')\n",
      "ax[2].text(.47-.15, .01 + .03, \"Step 1\")\n",
      "\n",
      "## step 2\n",
      "x, y = unit(1, .45)\n",
      "ax[2].arrow(.5, .02, .4, .35, width=.0015, edgecolor='black', facecolor='black')\n",
      "ax[2].text(x, y - .1, \"Step 2\")\n",
      "\n",
      "x, y = unit(1, .45)\n",
      "ax[2].arrow(0, 0, x, y, edgecolor='black', facecolor='black')\n",
      "ax[2].text(x + .05, y + .05, r\"$y$\")\n",
      "f.savefig(\"LARS.png\")"
     ],
     "language": "python",
     "metadata": {},
     "outputs": [
      {
       "metadata": {},
       "output_type": "display_data",
       "png": "[encoded data removed]",
       "text": [
        "<matplotlib.figure.Figure at 0x10929e610>"
       ]
      }
     ],
     "prompt_number": 16
    },
    {
     "cell_type": "markdown",
     "metadata": {},
     "source": [
      "So we're moving along $x_1$ until we get to the point where the \"pull\" on $x_1$ by $y$ is the same as the \"pull\" on $x_2$ by $y$.  When this occurs we'll move along the path which is equal to the angle between $x_1$ and $x_2$ divided by 2."
     ]
    },
    {
     "cell_type": "markdown",
     "metadata": {},
     "source": [
      "#There's More\n",
      "\n",
      "Much in the same way we used cross validation to tune Ridge Regression we can do the same with LARS."
     ]
    },
    {
     "cell_type": "code",
     "collapsed": false,
     "input": [
      "from sklearn.linear_model import LarsCV\n",
      "lcv = LarsCV()\n",
      "lcv.fit(reg_data, reg_target)"
     ],
     "language": "python",
     "metadata": {},
     "outputs": [
      {
       "metadata": {},
       "output_type": "pyout",
       "prompt_number": 17,
       "text": [
        "LarsCV(copy_X=True, cv=None, eps=2.2204460492503131e-16, fit_intercept=True,\n",
        "    max_iter=500, max_n_alphas=1000, n_jobs=1, normalize=True,\n",
        "    precompute='auto', verbose=False)"
       ]
      }
     ],
     "prompt_number": 17
    },
    {
     "cell_type": "markdown",
     "metadata": {},
     "source": [
      "Using cross validation it will help use determine the best number of non zero coefficients to use.  Here it turns out to be:"
     ]
    },
    {
     "cell_type": "code",
     "collapsed": false,
     "input": [
      "np.sum(lcv.coef_ != 0)"
     ],
     "language": "python",
     "metadata": {},
     "outputs": [
      {
       "metadata": {},
       "output_type": "pyout",
       "prompt_number": 18,
       "text": [
        "33"
       ]
      }
     ],
     "prompt_number": 18
    }
   ],
   "metadata": {}
  }
 ]
}