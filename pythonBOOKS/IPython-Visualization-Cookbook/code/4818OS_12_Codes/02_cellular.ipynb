{
 "metadata": {
  "name": "",
  "signature": "sha256:421e3554d86e59aa983d04ba26bc8f23411a521a95e56dc7ec37bd1b3d4c8165"
 },
 "nbformat": 3,
 "nbformat_minor": 0,
 "worksheets": [
  {
   "cells": [
    {
     "cell_type": "markdown",
     "metadata": [],
     "source": [
      "> This is one of the 100 recipes of the [IPython Cookbook](http://ipython-books.github.io/), the definitive guide to high-performance scientific computing and data science in Python.\n"
     ]
    },
    {
     "cell_type": "markdown",
     "metadata": {},
     "source": [
      "# 12.2. Simulating an elementary cellular automaton"
     ]
    },
    {
     "cell_type": "markdown",
     "metadata": {},
     "source": [
      "1. We import NumPy and matplotlib."
     ]
    },
    {
     "cell_type": "code",
     "collapsed": false,
     "input": [
      "import numpy as np\n",
      "import matplotlib.pyplot as plt\n",
      "%matplotlib inline"
     ],
     "language": "python",
     "metadata": {},
     "outputs": []
    },
    {
     "cell_type": "markdown",
     "metadata": {},
     "source": [
      "2. We will use the following vector to obtain numbers written in binary representation."
     ]
    },
    {
     "cell_type": "code",
     "collapsed": false,
     "input": [
      "u = np.array([[4], [2], [1]])"
     ],
     "language": "python",
     "metadata": {},
     "outputs": []
    },
    {
     "cell_type": "markdown",
     "metadata": {},
     "source": [
      "3. We write a function that performs one iteration on the grid, updating all cells at once according to the given rule in binary representation. The first step consists in stacking circularly shifted versions of the grid to get the LCR triplets of each cell (`y`). Then, we convert these triplets in 3-bit numbers (`z`). Finally, we compute the next state of every cell using the specified rule."
     ]
    },
    {
     "cell_type": "code",
     "collapsed": false,
     "input": [
      "def step(x, rule_binary):\n",
      "    \"\"\"Compute a single stet of an elementary cellular\n",
      "    automaton.\"\"\"\n",
      "    # The columns contains the L, C, R values\n",
      "    # of all cells.\n",
      "    y = np.vstack((np.roll(x, 1), x,\n",
      "                   np.roll(x, -1))).astype(np.int8)\n",
      "    # We get the LCR pattern numbers between 0 and 7.\n",
      "    z = np.sum(y * u, axis=0).astype(np.int8)\n",
      "    # We get the patterns given by the rule.\n",
      "    return rule_binary[7-z]"
     ],
     "language": "python",
     "metadata": {},
     "outputs": []
    },
    {
     "cell_type": "markdown",
     "metadata": {},
     "source": [
      "4. We now write a function that simulates any elementary cellular automaton. First, we compute the binary representation of the rule (**Wolfram's code**). Then, we initialize the first row of the grid to random values. Finally, we apply the function `step` iteratively on the grid."
     ]
    },
    {
     "cell_type": "code",
     "collapsed": false,
     "input": [
      "def generate(rule, size=80, steps=80):\n",
      "    \"\"\"Simulate an elementary cellular automaton given its rule\n",
      "    (number between 0 and 255).\"\"\"\n",
      "    # Compute the binary representation of the rule.\n",
      "    rule_binary = np.array([int(_) \n",
      "                            for _ in np.binary_repr(rule, 8)],\n",
      "                            dtype=np.int8)\n",
      "    x = np.zeros((steps, size), dtype=np.int8)\n",
      "    # Random initial state.\n",
      "    x[0,:] = np.random.rand(size) < .5\n",
      "    # Apply the step function iteratively.\n",
      "    for i in range(steps-1):\n",
      "        x[i+1,:] = step(x[i,:], rule_binary)\n",
      "    return x"
     ],
     "language": "python",
     "metadata": {},
     "outputs": []
    },
    {
     "cell_type": "markdown",
     "metadata": {},
     "source": [
      "5. Now, we simulate and display 9 different automata."
     ]
    },
    {
     "cell_type": "code",
     "collapsed": false,
     "input": [
      "plt.figure(figsize=(6, 6));\n",
      "rules = [3, 18, 30, \n",
      "         90, 106, 110, \n",
      "         158, 154, 184]\n",
      "for i, rule in enumerate(rules):\n",
      "    x = generate(rule)\n",
      "    plt.subplot(331+i)\n",
      "    plt.imshow(x, interpolation='none', cmap=plt.cm.binary);\n",
      "    plt.xticks([]); plt.yticks([]);\n",
      "    plt.title(str(rule))"
     ],
     "language": "python",
     "metadata": {},
     "outputs": []
    },
    {
     "cell_type": "markdown",
     "metadata": {},
     "source": [
      "It has been shown that Rule 110 is **Turing complete** (or **universal**): in principle, this automaton can simulate any computer program."
     ]
    },
    {
     "cell_type": "markdown",
     "metadata": {},
     "source": [
      "> You'll find all the explanations, figures, references, and much more in the book (to be released later this summer).\n",
      "\n",
      "> [IPython Cookbook](http://ipython-books.github.io/), by [Cyrille Rossant](http://cyrille.rossant.net), Packt Publishing, 2014 (400 pages). [Get a 50% discount by pre-ordering now](http://www.packtpub.com/ipython-interactive-computing-and-visualization-cookbook/book) with the code `PICVCEB` (time-limited offer)!\n"
     ]
    }
   ],
   "metadata": {}
  }
 ]
}