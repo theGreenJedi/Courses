{
 "metadata": {
  "name": "",
  "signature": "sha256:777507e061a5a6b38bcb93a0a7a91cc1bf0ac7c02c425ffcad10c3e6cc70c7d7"
 },
 "nbformat": 3,
 "nbformat_minor": 0,
 "worksheets": [
  {
   "cells": [
    {
     "cell_type": "markdown",
     "metadata": [],
     "source": [
      "> This is one of the 100 recipes of the [IPython Cookbook](http://ipython-books.github.io/), the definitive guide to high-performance scientific computing and data science in Python.\n"
     ]
    },
    {
     "cell_type": "markdown",
     "metadata": {},
     "source": [
      "# 5.9. Distributing Python code across multiple cores with IPython"
     ]
    },
    {
     "cell_type": "markdown",
     "metadata": {},
     "source": [
      "First, we launch 4 IPython engines with `ipcluster start -n 4` in a console."
     ]
    },
    {
     "cell_type": "markdown",
     "metadata": {},
     "source": [
      "Then, we create a client that will act as a proxy to the IPython engines. The client automatically detects the running engines."
     ]
    },
    {
     "cell_type": "code",
     "collapsed": false,
     "input": [
      "from IPython.parallel import Client\n",
      "rc = Client()"
     ],
     "language": "python",
     "metadata": {},
     "outputs": []
    },
    {
     "cell_type": "markdown",
     "metadata": {},
     "source": [
      "Let's check the number of running engines."
     ]
    },
    {
     "cell_type": "code",
     "collapsed": false,
     "input": [
      "rc.ids"
     ],
     "language": "python",
     "metadata": {},
     "outputs": []
    },
    {
     "cell_type": "markdown",
     "metadata": {},
     "source": [
      "To run commands in parallel over the engines, we can use the %px magic or the %%px cell magic."
     ]
    },
    {
     "cell_type": "code",
     "collapsed": false,
     "input": [
      "%%px\n",
      "import os\n",
      "print(\"Process {0:d}.\".format(os.getpid()))"
     ],
     "language": "python",
     "metadata": {},
     "outputs": []
    },
    {
     "cell_type": "markdown",
     "metadata": {},
     "source": [
      "We can specify which engines to run the commands on using the --targets or -t option."
     ]
    },
    {
     "cell_type": "code",
     "collapsed": false,
     "input": [
      "%%px -t 1,2\n",
      "# The os module has already been imported in the previous cell.\n",
      "print(\"Process {0:d}.\".format(os.getpid()))"
     ],
     "language": "python",
     "metadata": {},
     "outputs": []
    },
    {
     "cell_type": "markdown",
     "metadata": {},
     "source": [
      "By default, the %px magic executes commands in blocking mode: the cell returns when the commands have completed on all engines. It is possible to run non-blocking commands with the --noblock or -a option. In this case, the cell returns immediately, and the task's status and the results can be polled asynchronously from the IPython interactive session."
     ]
    },
    {
     "cell_type": "code",
     "collapsed": false,
     "input": [
      "%%px -a\n",
      "import time\n",
      "time.sleep(5)"
     ],
     "language": "python",
     "metadata": {},
     "outputs": []
    },
    {
     "cell_type": "markdown",
     "metadata": {},
     "source": [
      "The previous command returned an ASyncResult instance that we can use to poll the task's status."
     ]
    },
    {
     "cell_type": "code",
     "collapsed": false,
     "input": [
      "print(_.elapsed, _.ready())"
     ],
     "language": "python",
     "metadata": {},
     "outputs": []
    },
    {
     "cell_type": "markdown",
     "metadata": {},
     "source": [
      "The %pxresult blocks until the task finishes."
     ]
    },
    {
     "cell_type": "code",
     "collapsed": false,
     "input": [
      "%pxresult"
     ],
     "language": "python",
     "metadata": {},
     "outputs": []
    },
    {
     "cell_type": "code",
     "collapsed": false,
     "input": [
      "print(_.elapsed, _.ready())"
     ],
     "language": "python",
     "metadata": {},
     "outputs": []
    },
    {
     "cell_type": "markdown",
     "metadata": {},
     "source": [
      "IPython provides convenient functions for most common use-cases, like a parallel map function."
     ]
    },
    {
     "cell_type": "code",
     "collapsed": false,
     "input": [
      "v = rc[:]\n",
      "res = v.map(lambda x: x*x, range(10))"
     ],
     "language": "python",
     "metadata": {},
     "outputs": []
    },
    {
     "cell_type": "code",
     "collapsed": false,
     "input": [
      "print(res.get())"
     ],
     "language": "python",
     "metadata": {},
     "outputs": []
    },
    {
     "cell_type": "markdown",
     "metadata": {},
     "source": [
      "> You'll find all the explanations, figures, references, and much more in the book (to be released later this summer).\n",
      "\n",
      "> [IPython Cookbook](http://ipython-books.github.io/), by [Cyrille Rossant](http://cyrille.rossant.net), Packt Publishing, 2014 (400 pages). [Get a 50% discount by pre-ordering now](http://www.packtpub.com/ipython-interactive-computing-and-visualization-cookbook/book) with the code `PICVCEB` (time-limited offer)!"
     ]
    }
   ],
   "metadata": {}
  }
 ]
}