{
 "nbformat": 3, 
 "nbformat_minor": 0, 
 "worksheets": [
  {
   "cells": [
    {
     "source": [
      "> This is one of the 100 recipes of the [IPython Cookbook](http://ipython-books.github.io/), the definitive guide to high-performance scientific computing and data science in Python.\n"
     ], 
     "cell_type": "markdown", 
     "metadata": []
    }, 
    {
     "source": [
      "# 5.8. Writing massively parallel code for heterogeneous platforms with OpenCL"
     ], 
     "cell_type": "markdown", 
     "metadata": {}
    }, 
    {
     "source": [
      "Let's import PyOpenCL."
     ], 
     "cell_type": "markdown", 
     "metadata": {}
    }, 
    {
     "cell_type": "code", 
     "language": "python", 
     "outputs": [], 
     "collapsed": false, 
     "input": [
      "import pyopencl as cl\n", 
      "import numpy as np"
     ], 
     "metadata": {}
    }, 
    {
     "source": [
      "This object defines some flags related to memory management on the device."
     ], 
     "cell_type": "markdown", 
     "metadata": {}
    }, 
    {
     "cell_type": "code", 
     "language": "python", 
     "outputs": [], 
     "collapsed": false, 
     "input": [
      "mf = cl.mem_flags"
     ], 
     "metadata": {}
    }, 
    {
     "source": [
      "We create an OpenCL context and a command queue."
     ], 
     "cell_type": "markdown", 
     "metadata": {}
    }, 
    {
     "cell_type": "code", 
     "language": "python", 
     "outputs": [], 
     "collapsed": false, 
     "input": [
      "ctx = cl.create_some_context()\n", 
      "queue = cl.CommandQueue(ctx)"
     ], 
     "metadata": {}
    }, 
    {
     "source": [
      "Now, we initialize the NumPy array that will contain the fractal."
     ], 
     "cell_type": "markdown", 
     "metadata": {}
    }, 
    {
     "cell_type": "code", 
     "language": "python", 
     "outputs": [], 
     "collapsed": false, 
     "input": [
      "size = 200\n", 
      "iterations = 100\n", 
      "col = np.empty((size, size), dtype=np.int32)"
     ], 
     "metadata": {}
    }, 
    {
     "source": [
      "We allocate memory for this array on the GPU."
     ], 
     "cell_type": "markdown", 
     "metadata": {}
    }, 
    {
     "cell_type": "code", 
     "language": "python", 
     "outputs": [], 
     "collapsed": false, 
     "input": [
      "col_buf = cl.Buffer(ctx, \n", 
      "                    mf.WRITE_ONLY,\n", 
      "                    col.nbytes)"
     ], 
     "metadata": {}
    }, 
    {
     "source": [
      "We write the OpenCL kernel in a string. The mandelbrot function accepts pointers to the buffers as arguments, as well as the figure size. It updates the col buffer with the escape value in the fractal for each pixel."
     ], 
     "cell_type": "markdown", 
     "metadata": {}
    }, 
    {
     "cell_type": "code", 
     "language": "python", 
     "outputs": [], 
     "collapsed": false, 
     "input": [
      "code = \"\"\"\n", 
      "__kernel void mandelbrot(int size,\n", 
      "                         int iterations,\n", 
      "                         global int *col)\n", 
      "{\n", 
      "    // Get the row and column index of the current thread.\n", 
      "    int i = get_global_id(1);\n", 
      "    int j = get_global_id(0);\n", 
      "    int index = i * size + j;\n", 
      "    \n", 
      "    // Declare and initialize the variables.\n", 
      "    double cx, cy;\n", 
      "    double z0, z1, z0_tmp, z0_2, z1_2;\n", 
      "    cx = -2.0 + (double)j / size * 3;\n", 
      "    cy = -1.5 + (double)i / size * 3;\n", 
      "\n", 
      "    // Main loop.\n", 
      "    z0 = z1 = 0.0;\n", 
      "    for (int n = 0; n < iterations; n++)\n", 
      "    {\n", 
      "        z0_2 = z0 * z0;\n", 
      "        z1_2 = z1 * z1;\n", 
      "        if (z0_2 + z1_2 <= 100)\n", 
      "        {\n", 
      "            // Need to update z0 and z1 in parallel.\n", 
      "            z0_tmp = z0_2 - z1_2 + cx;\n", 
      "            z1 = 2 * z0 * z1 + cy;\n", 
      "            z0 = z0_tmp;\n", 
      "            col[index] = n;\n", 
      "        }\n", 
      "        else break;\n", 
      "    }\n", 
      "}\n", 
      "\"\"\""
     ], 
     "metadata": {}
    }, 
    {
     "source": [
      "Now, we compile the OpenCL program."
     ], 
     "cell_type": "markdown", 
     "metadata": {}
    }, 
    {
     "cell_type": "code", 
     "language": "python", 
     "outputs": [], 
     "collapsed": false, 
     "input": [
      "prg = cl.Program(ctx, code).build()"
     ], 
     "metadata": {}
    }, 
    {
     "source": [
      "We call the compiled function, passing the command queue, the grid size, the number of iterations, and the buffer as arguments."
     ], 
     "cell_type": "markdown", 
     "metadata": {}
    }, 
    {
     "cell_type": "code", 
     "language": "python", 
     "outputs": [], 
     "collapsed": false, 
     "input": [
      "prg.mandelbrot(queue, col.shape, None, np.int32(size), np.int32(iterations), col_buf).wait()"
     ], 
     "metadata": {}
    }, 
    {
     "source": [
      "Once the function has completed, we copy the contents of the OpenCL buffer back to the NumPy array col."
     ], 
     "cell_type": "markdown", 
     "metadata": {}
    }, 
    {
     "cell_type": "code", 
     "language": "python", 
     "outputs": [], 
     "collapsed": false, 
     "input": [
      "cl.enqueue_copy(queue, col, col_buf);"
     ], 
     "metadata": {}
    }, 
    {
     "source": [
      "Let's display the fractal."
     ], 
     "cell_type": "markdown", 
     "metadata": {}
    }, 
    {
     "cell_type": "code", 
     "language": "python", 
     "outputs": [], 
     "collapsed": false, 
     "input": [
      "import matplotlib.pyplot as plt\n", 
      "%matplotlib inline\n", 
      "plt.imshow(np.log(col), cmap=plt.cm.hot,);\n", 
      "plt.xticks([]);\n", 
      "plt.yticks([]);"
     ], 
     "metadata": {}
    }, 
    {
     "source": [
      "Let's evaluate the time taken by this function."
     ], 
     "cell_type": "markdown", 
     "metadata": {}
    }, 
    {
     "cell_type": "code", 
     "language": "python", 
     "outputs": [], 
     "collapsed": false, 
     "input": [
      "%%timeit\n", 
      "prg.mandelbrot(queue, col.shape, None, np.int32(size), np.int32(iterations), col_buf).wait()\n", 
      "cl.enqueue_copy(queue, col, col_buf);"
     ], 
     "metadata": {}
    }, 
    {
     "source": [
      "> You'll find all the explanations, figures, references, and much more in the book (to be released later this summer).\n\n> [IPython Cookbook](http://ipython-books.github.io/), by [Cyrille Rossant](http://cyrille.rossant.net), Packt Publishing, 2014 (400 pages). [Get a 50% discount by pre-ordering now](http://www.packtpub.com/ipython-interactive-computing-and-visualization-cookbook/book) with the code `PICVCEB` (time-limited offer)!\n"
     ], 
     "cell_type": "markdown", 
     "metadata": {}
    }
   ], 
   "metadata": {}
  }
 ], 
 "metadata": {
  "name": "", 
  "signature": "sha256:b7ef4446b7c21df0f0b4d76cb45f076e40435e1e75780169996ef4e7bfc5c743"
 }
}