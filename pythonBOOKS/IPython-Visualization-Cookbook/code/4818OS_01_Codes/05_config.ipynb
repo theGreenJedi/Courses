{
 "metadata": {
  "name": "",
  "signature": "sha256:fd07a2d70ee549a87eb91a194f7125937d2a461d48ac49035a6f0ac707dc7f6c"
 },
 "nbformat": 3,
 "nbformat_minor": 0,
 "worksheets": [
  {
   "cells": [
    {
     "cell_type": "markdown",
     "metadata": {},
     "source": [
      "> This is one of the 100 recipes of the [IPython Cookbook](http://ipython-books.github.io/), the definitive guide to high-performance scientific computing and data science in Python."
     ]
    },
    {
     "cell_type": "markdown",
     "metadata": {},
     "source": [
      "# 1.5. Mastering IPython's configuration system"
     ]
    },
    {
     "cell_type": "markdown",
     "metadata": {},
     "source": [
      "1. We create an IPython extension in a file `random_magics.py`. Let's start by importing a few objects:"
     ]
    },
    {
     "cell_type": "code",
     "collapsed": false,
     "input": [
      "from IPython.utils.traitlets import Int, Float, Unicode, Bool\n",
      "from IPython.core.magic import (Magics, magics_class, line_magic)\n",
      "import numpy as np"
     ],
     "language": "python",
     "metadata": {},
     "outputs": []
    },
    {
     "cell_type": "markdown",
     "metadata": {},
     "source": [
      "2. We create a `RandomMagics` class deriving from `Magics`. This class contains a few configurable parameters."
     ]
    },
    {
     "cell_type": "code",
     "collapsed": false,
     "input": [
      "@magics_class\n",
      "class RandomMagics(Magics):\n",
      "    text = Unicode(u'{n}', config=True)\n",
      "    max = Int(1000, config=True)\n",
      "    seed = Int(0, config=True)"
     ],
     "language": "python",
     "metadata": {},
     "outputs": []
    },
    {
     "cell_type": "markdown",
     "metadata": {},
     "source": [
      "3. We need to call the parent's constructor. Then, we initialize a random number generator with a seed."
     ]
    },
    {
     "cell_type": "code",
     "collapsed": false,
     "input": [
      "    def __init__(self, shell):\n",
      "        super(RandomMagics, self).__init__(shell)\n",
      "        self._rng = np.random.RandomState(self.seed or None)"
     ],
     "language": "python",
     "metadata": {},
     "outputs": []
    },
    {
     "cell_type": "markdown",
     "metadata": {},
     "source": [
      "4. Then, we create a line magic `%random` that displays a random number."
     ]
    },
    {
     "cell_type": "code",
     "collapsed": false,
     "input": [
      "    @line_magic\n",
      "    def random(self, line):\n",
      "        return self.text.format(n=self._rng.randint(self.max))"
     ],
     "language": "python",
     "metadata": {},
     "outputs": []
    },
    {
     "cell_type": "markdown",
     "metadata": {},
     "source": [
      "5. Finally, we register that magics when the extension is loaded."
     ]
    },
    {
     "cell_type": "code",
     "collapsed": false,
     "input": [
      "def load_ipython_extension(ipython):\n",
      "    ipython.register_magics(RandomMagics)"
     ],
     "language": "python",
     "metadata": {},
     "outputs": []
    },
    {
     "cell_type": "markdown",
     "metadata": {},
     "source": [
      "6. Let's test our extension!"
     ]
    },
    {
     "cell_type": "code",
     "collapsed": false,
     "input": [
      "%load_ext random_magics"
     ],
     "language": "python",
     "metadata": {},
     "outputs": []
    },
    {
     "cell_type": "code",
     "collapsed": false,
     "input": [
      "%random"
     ],
     "language": "python",
     "metadata": {},
     "outputs": []
    },
    {
     "cell_type": "code",
     "collapsed": false,
     "input": [
      "%random"
     ],
     "language": "python",
     "metadata": {},
     "outputs": []
    },
    {
     "cell_type": "markdown",
     "metadata": {},
     "source": [
      "7. Our magics command has a few configurable parameters. These variables are meant to be configured by the user in the IPython configuration file, or in the console when starting IPython. To configure these variables in the terminal, we can type in a system shell the following command:"
     ]
    },
    {
     "cell_type": "code",
     "collapsed": false,
     "input": [
      "ipython --profile=cookbook3 --RandomMagics.text='Your number is {n}.' --RandomMagics.max=10 --RandomMagics.seed=1\n"
     ],
     "language": "python",
     "metadata": {},
     "outputs": []
    },
    {
     "cell_type": "markdown",
     "metadata": {},
     "source": [
      "In that session, we get the following behavior:"
     ]
    },
    {
     "cell_type": "code",
     "collapsed": false,
     "input": [
      "In [1]: %load_ext random_magics\n",
      "\n",
      "In [2]: %random\n",
      "Out[2]: u'Your number is 5.'\n",
      "\n",
      "In [3]: %random\n",
      "Out[3]: u'Your number is 8.'"
     ],
     "language": "python",
     "metadata": {},
     "outputs": []
    },
    {
     "cell_type": "markdown",
     "metadata": {},
     "source": [
      "8. To configure the variables in the IPython configuration file, we have to open the file `~/.ipython/profile_default/ipython_config.py` and add the following line:"
     ]
    },
    {
     "cell_type": "code",
     "collapsed": false,
     "input": [
      "c.RandomMagics.text = 'random {n}'"
     ],
     "language": "python",
     "metadata": {},
     "outputs": []
    },
    {
     "cell_type": "markdown",
     "metadata": {},
     "source": [
      "After launching IPython, we get the following behavior:"
     ]
    },
    {
     "cell_type": "code",
     "collapsed": false,
     "input": [
      "%random"
     ],
     "language": "python",
     "metadata": {},
     "outputs": []
    },
    {
     "cell_type": "markdown",
     "metadata": {},
     "source": [
      "> You'll find all the explanations, figures, references, and much more in the book (to be released later this summer).\n",
      "\n",
      "> [IPython Cookbook](http://ipython-books.github.io/), by [Cyrille Rossant](http://cyrille.rossant.net), Packt Publishing, 2014 (400 pages). [Get a 50% discount by pre-ordering now](http://www.packtpub.com/ipython-interactive-computing-and-visualization-cookbook/book) with the code `PICVCEB` (time-limited offer)!\n"
     ]
    }
   ],
   "metadata": {}
  }
 ]
}