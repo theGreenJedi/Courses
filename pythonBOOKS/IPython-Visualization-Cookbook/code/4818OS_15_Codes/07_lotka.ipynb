{
 "nbformat": 3, 
 "nbformat_minor": 0, 
 "worksheets": [
  {
   "cells": [
    {
     "source": [
      "> This is one of the 100 recipes of the [IPython Cookbook](http://ipython-books.github.io/), the definitive guide to high-performance scientific computing and data science in Python.\n"
     ], 
     "cell_type": "markdown", 
     "metadata": []
    }, 
    {
     "source": [
      "# 15.7. Analyzing a nonlinear differential system: Lotka-Volterra (predator-prey) equations"
     ], 
     "cell_type": "markdown", 
     "metadata": {}
    }, 
    {
     "source": [
      "Here, we conduct a brief analytical study of a famous nonlinear differential system: the Lotka-Volterra equations, also known as predator-prey equations. This simple model describes the evolution of two interacting populations (e.g. sharks and sardines), where the predators eat the preys. This example illustrates how we can use SymPy to obtain exact expressions and results for fixed points and their stability."
     ], 
     "cell_type": "markdown", 
     "metadata": {}
    }, 
    {
     "cell_type": "code", 
     "language": "python", 
     "outputs": [], 
     "collapsed": false, 
     "input": [
      "from sympy import *\n", 
      "init_printing(pretty_print=True)"
     ], 
     "metadata": {}
    }, 
    {
     "cell_type": "code", 
     "language": "python", 
     "outputs": [], 
     "collapsed": false, 
     "input": [
      "var('x y')\n", 
      "var('a b c d', positive=True)"
     ], 
     "metadata": {}
    }, 
    {
     "source": [
      "The variables x and y represent the populations of the preys and predators, respectively. The parameters a, b, c and d are positive parameters (described more precisely in \"How it works...\"). The equations are:\n", 
      "\n", 
      "$$\\begin{align}\n", 
      "\\frac{dx}{dt} &= f(x) = x(a-by)\\\\\n", 
      "\\frac{dy}{dt} &= g(x) = -y(c-dx)\n", 
      "\\end{align}$$"
     ], 
     "cell_type": "markdown", 
     "metadata": {}
    }, 
    {
     "cell_type": "code", 
     "language": "python", 
     "outputs": [], 
     "collapsed": false, 
     "input": [
      "f = x * (a - b*y)\n", 
      "g = -y * (c - d*x)"
     ], 
     "metadata": {}
    }, 
    {
     "source": [
      "Let's find the fixed points of the system (solving f(x,y) = g(x,y) = 0)."
     ], 
     "cell_type": "markdown", 
     "metadata": {}
    }, 
    {
     "cell_type": "code", 
     "language": "python", 
     "outputs": [], 
     "collapsed": false, 
     "input": [
      "solve([f, g], (x, y))"
     ], 
     "metadata": {}
    }, 
    {
     "cell_type": "code", 
     "language": "python", 
     "outputs": [], 
     "collapsed": false, 
     "input": [
      "(x0, y0), (x1, y1) = _"
     ], 
     "metadata": {}
    }, 
    {
     "source": [
      "Let's write the 2D vector with the two equations."
     ], 
     "cell_type": "markdown", 
     "metadata": {}
    }, 
    {
     "cell_type": "code", 
     "language": "python", 
     "outputs": [], 
     "collapsed": false, 
     "input": [
      "M = Matrix((f, g)); M"
     ], 
     "metadata": {}
    }, 
    {
     "source": [
      "Now we can compute the Jacobian of the system, as a function of (x, y)."
     ], 
     "cell_type": "markdown", 
     "metadata": {}
    }, 
    {
     "cell_type": "code", 
     "language": "python", 
     "outputs": [], 
     "collapsed": false, 
     "input": [
      "J = M.jacobian((x, y)); J"
     ], 
     "metadata": {}
    }, 
    {
     "source": [
      "Let's study the stability of the two fixed points by looking at the eigenvalues of the Jacobian at these points."
     ], 
     "cell_type": "markdown", 
     "metadata": {}
    }, 
    {
     "cell_type": "code", 
     "language": "python", 
     "outputs": [], 
     "collapsed": false, 
     "input": [
      "M0 = J.subs(x, x0).subs(y, y0); M0"
     ], 
     "metadata": {}
    }, 
    {
     "cell_type": "code", 
     "language": "python", 
     "outputs": [], 
     "collapsed": false, 
     "input": [
      "M0.eigenvals()"
     ], 
     "metadata": {}
    }, 
    {
     "source": [
      "The parameters a and c are strictly positive, so the eigenvalues are real and of opposite signs, and this fixed point is a saddle point. Since this point is unstable, the extinction of both populations is unlikely in this model."
     ], 
     "cell_type": "markdown", 
     "metadata": {}
    }, 
    {
     "cell_type": "code", 
     "language": "python", 
     "outputs": [], 
     "collapsed": false, 
     "input": [
      "M1 = J.subs(x, x1).subs(y, y1); M1"
     ], 
     "metadata": {}
    }, 
    {
     "cell_type": "code", 
     "language": "python", 
     "outputs": [], 
     "collapsed": false, 
     "input": [
      "M1.eigenvals()"
     ], 
     "metadata": {}
    }, 
    {
     "source": [
      "The eigenvalues are purely imaginary so this fixed point is not hyperbolic, and we cannot draw conclusions about the qualitative behavior of the system around this fixed point from this linear analysis. However, one can show with other methods that oscillations occur around this point."
     ], 
     "cell_type": "markdown", 
     "metadata": {}
    }, 
    {
     "source": [
      "> You'll find all the explanations, figures, references, and much more in the book (to be released later this summer).\n\n> [IPython Cookbook](http://ipython-books.github.io/), by [Cyrille Rossant](http://cyrille.rossant.net), Packt Publishing, 2014 (400 pages). [Get a 50% discount by pre-ordering now](http://www.packtpub.com/ipython-interactive-computing-and-visualization-cookbook/book) with the code `PICVCEB` (time-limited offer)!\n"
     ], 
     "cell_type": "markdown", 
     "metadata": {}
    }
   ], 
   "metadata": {}
  }
 ], 
 "metadata": {
  "name": "", 
  "signature": "sha256:8b38440b23c8ab15c0c13561c738f5366606ce8093018dab20ca9be773c1a8ae"
 }
}