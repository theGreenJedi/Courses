{
 "metadata": {
  "name": "",
  "signature": "sha256:0c3f0ebbc468e29c5bacce33af5901c197b3338248921c5584d7478a0d3bd5a3"
 },
 "nbformat": 3,
 "nbformat_minor": 0,
 "worksheets": [
  {
   "cells": [
    {
     "cell_type": "markdown",
     "metadata": [],
     "source": [
      "> This is one of the 100 recipes of the [IPython Cookbook](http://ipython-books.github.io/), the definitive guide to high-performance scientific computing and data science in Python.\n"
     ]
    },
    {
     "cell_type": "markdown",
     "metadata": {},
     "source": [
      "# 3.2. Converting an IPython notebook to other formats with nbconvert"
     ]
    },
    {
     "cell_type": "markdown",
     "metadata": {},
     "source": [
      "1. Let's open the test notebook in the `data` folder. A notebook is just a plain text file (JSON), so we open it in text mode (`r` mode)."
     ]
    },
    {
     "cell_type": "code",
     "collapsed": false,
     "input": [
      "with open('data/test.ipynb', 'r') as f:\n",
      "    contents = f.read()\n",
      "print(len(contents))"
     ],
     "language": "python",
     "metadata": {},
     "outputs": []
    },
    {
     "cell_type": "code",
     "collapsed": false,
     "input": [
      "print(contents[:345] + '...' + contents[-33:])"
     ],
     "language": "python",
     "metadata": {
      "strip_output": [
       10,
       10
      ]
     },
     "outputs": []
    },
    {
     "cell_type": "markdown",
     "metadata": {},
     "source": [
      "2. Now that we have loaded the notebook as a string, let's parse it with the `json` module."
     ]
    },
    {
     "cell_type": "code",
     "collapsed": false,
     "input": [
      "import json\n",
      "nb = json.loads(contents)"
     ],
     "language": "python",
     "metadata": {},
     "outputs": []
    },
    {
     "cell_type": "markdown",
     "metadata": {},
     "source": [
      "3. Let's have a look at the keys in the notebook dictionary."
     ]
    },
    {
     "cell_type": "code",
     "collapsed": false,
     "input": [
      "print(nb.keys())\n",
      "print('nbformat ' + str(nb['nbformat']) + \n",
      "      '.' + str(nb['nbformat_minor']))"
     ],
     "language": "python",
     "metadata": {},
     "outputs": []
    },
    {
     "cell_type": "markdown",
     "metadata": {},
     "source": [
      "The version of the notebook format is indicated in `nbformat` and `nbformat_minor`."
     ]
    },
    {
     "cell_type": "markdown",
     "metadata": {},
     "source": [
      "3. The main field is `worksheets`: there is only one by default. A worksheet contains a list of cells, and some metadata."
     ]
    },
    {
     "cell_type": "code",
     "collapsed": false,
     "input": [
      "nb['worksheets'][0].keys()"
     ],
     "language": "python",
     "metadata": {},
     "outputs": []
    },
    {
     "cell_type": "markdown",
     "metadata": {},
     "source": [
      "4. Each cell has a type, optional metadata, some contents (text or code), possibly one or several outputs, and other information. Let's look at a Markdown cell and a code cell."
     ]
    },
    {
     "cell_type": "code",
     "collapsed": false,
     "input": [
      "nb['worksheets'][0]['cells'][1]"
     ],
     "language": "python",
     "metadata": {},
     "outputs": []
    },
    {
     "cell_type": "code",
     "collapsed": false,
     "input": [
      "nb['worksheets'][0]['cells'][2]"
     ],
     "language": "python",
     "metadata": {},
     "outputs": []
    },
    {
     "cell_type": "markdown",
     "metadata": {},
     "source": [
      "5. Once parsed, the notebook is represented as a Python dictionary. Manipulating it is therefore quite convenient in Python. Here, we count the number of Markdown and code cells."
     ]
    },
    {
     "cell_type": "code",
     "collapsed": false,
     "input": [
      "cells = nb['worksheets'][0]['cells']\n",
      "nm = len([cell for cell in cells\n",
      "          if cell['cell_type'] == 'markdown'])\n",
      "nc = len([cell for cell in cells\n",
      "          if cell['cell_type'] == 'code'])\n",
      "print((\"There are {nm} Markdown cells and \"\n",
      "       \"{nc} code cells.\").format(\n",
      "        nm=nm, nc=nc))"
     ],
     "language": "python",
     "metadata": {},
     "outputs": []
    },
    {
     "cell_type": "markdown",
     "metadata": {},
     "source": [
      "6. Let's have a closer look at the image output of the cell with the matplotlib figure."
     ]
    },
    {
     "cell_type": "code",
     "collapsed": false,
     "input": [
      "png = cells[2]['outputs'][0]['png']\n",
      "cells[2]['outputs'][0]['png'] = png[:20] + '...' + png[-20:]\n",
      "cells[2]['outputs'][0]"
     ],
     "language": "python",
     "metadata": {},
     "outputs": []
    },
    {
     "cell_type": "markdown",
     "metadata": {},
     "source": [
      "In general, there can be zero, one, or multiple outputs. Besides, each output can have multiple representations. Here, the matplotlib figure has a PNG representation (the base64-encoded image) and a text representation (the internal representation of the figure)."
     ]
    },
    {
     "cell_type": "markdown",
     "metadata": {},
     "source": [
      "7. Now, we are going to use nbconvert to convert our text notebook to other formats. This tool can be used from the command-line. Note that the API of nbconvert may change in future versions. Here, we convert the notebook to an HTML document."
     ]
    },
    {
     "cell_type": "code",
     "collapsed": false,
     "input": [
      "!ipython nbconvert --to html data/test.ipynb"
     ],
     "language": "python",
     "metadata": {},
     "outputs": []
    },
    {
     "cell_type": "markdown",
     "metadata": {},
     "source": [
      "8. Let's display this document in an `<iframe>` (a small window showing an external HTML document within the notebook)."
     ]
    },
    {
     "cell_type": "code",
     "collapsed": false,
     "input": [
      "from IPython.display import IFrame\n",
      "IFrame('test.html', 600, 200)"
     ],
     "language": "python",
     "metadata": {},
     "outputs": []
    },
    {
     "cell_type": "markdown",
     "metadata": {},
     "source": [
      "9. We can also convert the notebook to LaTeX and PDF. In order to specify the title and author of the document, we need to *extend* the default LaTeX template. First, we create a file `mytemplate.tplx` that extends the default `article.tplx` template provided by nbconvert. We precise the contents of the author and title blocks here."
     ]
    },
    {
     "cell_type": "code",
     "collapsed": false,
     "input": [
      "%%writefile mytemplate.tplx\n",
      "((*- extends 'article.tplx' -*))\n",
      "\n",
      "((* block author *))\n",
      "\\author{Cyrille Rossant}\n",
      "((* endblock author *))\n",
      "\n",
      "((* block title *))\n",
      "\\title{My document}\n",
      "((* endblock title *))"
     ],
     "language": "python",
     "metadata": {},
     "outputs": []
    },
    {
     "cell_type": "markdown",
     "metadata": {},
     "source": [
      "10. Then, we can run nbconvert by specifying our custom template."
     ]
    },
    {
     "cell_type": "code",
     "collapsed": false,
     "input": [
      "!ipython nbconvert --to pdf --template mytemplate data/test.ipynb"
     ],
     "language": "python",
     "metadata": {},
     "outputs": []
    },
    {
     "cell_type": "markdown",
     "metadata": {},
     "source": [
      "> You'll find all the explanations, figures, references, and much more in the book (to be released later this summer).\n",
      "\n",
      "> [IPython Cookbook](http://ipython-books.github.io/), by [Cyrille Rossant](http://cyrille.rossant.net), Packt Publishing, 2014 (400 pages). [Get a 50% discount by pre-ordering now](http://www.packtpub.com/ipython-interactive-computing-and-visualization-cookbook/book) with the code `PICVCEB` (time-limited offer)!\n"
     ]
    }
   ],
   "metadata": {}
  }
 ]
}