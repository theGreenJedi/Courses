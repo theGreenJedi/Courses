{
 "metadata": {
  "name": "",
  "signature": "sha256:4ab9d9c97e202fb4c0f637d0ac51d2b05258de5c36746eaa36caf7a6df448ebd"
 },
 "nbformat": 3,
 "nbformat_minor": 0,
 "worksheets": [
  {
   "cells": [
    {
     "cell_type": "heading",
     "level": 1,
     "metadata": {},
     "source": [
      "Importing pandas into your application"
     ]
    },
    {
     "cell_type": "code",
     "collapsed": false,
     "input": [
      "# import numpy and pandas, and DataFrame / Series\n",
      "import numpy as np\n",
      "import pandas as pd\n",
      "from pandas import DataFrame, Series\n",
      "\n",
      "# Set some pandas options\n",
      "pd.set_option('display.notebook_repr_html', False)\n",
      "pd.set_option('display.max_columns', 10)\n",
      "pd.set_option('display.max_rows', 10)\n",
      "\n",
      "# And some items for matplotlib\n",
      "%matplotlib inline \n",
      "import matplotlib.pyplot as plt\n",
      "pd.options.display.mpl_style = 'default'"
     ],
     "language": "python",
     "metadata": {},
     "outputs": [],
     "prompt_number": 1
    },
    {
     "cell_type": "heading",
     "level": 1,
     "metadata": {},
     "source": [
      "Primary pandas objects"
     ]
    },
    {
     "cell_type": "heading",
     "level": 2,
     "metadata": {},
     "source": [
      "The pandas Series"
     ]
    },
    {
     "cell_type": "code",
     "collapsed": false,
     "input": [
      "# create a four item Series\n",
      "s = Series([1, 2, 3, 4])\n",
      "s"
     ],
     "language": "python",
     "metadata": {},
     "outputs": [
      {
       "metadata": {},
       "output_type": "pyout",
       "prompt_number": 2,
       "text": [
        "0    1\n",
        "1    2\n",
        "2    3\n",
        "3    4\n",
        "dtype: int64"
       ]
      }
     ],
     "prompt_number": 2
    },
    {
     "cell_type": "code",
     "collapsed": false,
     "input": [
      "# return a Series with the row with labels 1 and 3\n",
      "s[[1, 3]]"
     ],
     "language": "python",
     "metadata": {},
     "outputs": [
      {
       "metadata": {},
       "output_type": "pyout",
       "prompt_number": 3,
       "text": [
        "1    2\n",
        "3    4\n",
        "dtype: int64"
       ]
      }
     ],
     "prompt_number": 3
    },
    {
     "cell_type": "code",
     "collapsed": false,
     "input": [
      "# create a series using an explicit index\n",
      "s = Series([1, 2, 3, 4], \n",
      "           index = ['a', 'b', 'c', 'd'])\n",
      "s"
     ],
     "language": "python",
     "metadata": {},
     "outputs": [
      {
       "metadata": {},
       "output_type": "pyout",
       "prompt_number": 4,
       "text": [
        "a    1\n",
        "b    2\n",
        "c    3\n",
        "d    4\n",
        "dtype: int64"
       ]
      }
     ],
     "prompt_number": 4
    },
    {
     "cell_type": "code",
     "collapsed": false,
     "input": [
      "# look up items the series having index 'a' and 'd'\n",
      "s[['a', 'd']]"
     ],
     "language": "python",
     "metadata": {},
     "outputs": [
      {
       "metadata": {},
       "output_type": "pyout",
       "prompt_number": 5,
       "text": [
        "a    1\n",
        "d    4\n",
        "dtype: int64"
       ]
      }
     ],
     "prompt_number": 5
    },
    {
     "cell_type": "code",
     "collapsed": false,
     "input": [
      "# passing a list of integers to a Series that has\n",
      "# non-integer index labels will look up based upon\n",
      "# 0-based index like an array\n",
      "s[[1, 2]]"
     ],
     "language": "python",
     "metadata": {},
     "outputs": [
      {
       "metadata": {},
       "output_type": "pyout",
       "prompt_number": 6,
       "text": [
        "b    2\n",
        "c    3\n",
        "dtype: int64"
       ]
      }
     ],
     "prompt_number": 6
    },
    {
     "cell_type": "code",
     "collapsed": false,
     "input": [
      "# get only the index of the Series\n",
      "s.index"
     ],
     "language": "python",
     "metadata": {},
     "outputs": [
      {
       "metadata": {},
       "output_type": "pyout",
       "prompt_number": 7,
       "text": [
        "Index([u'a', u'b', u'c', u'd'], dtype='object')"
       ]
      }
     ],
     "prompt_number": 7
    },
    {
     "cell_type": "code",
     "collapsed": false,
     "input": [
      "# create a Series who's index is a series of dates\n",
      "# between the two specified dates (inclusive)\n",
      "dates = pd.date_range('2014-07-01', '2014-07-06')\n",
      "dates"
     ],
     "language": "python",
     "metadata": {},
     "outputs": [
      {
       "metadata": {},
       "output_type": "pyout",
       "prompt_number": 8,
       "text": [
        "<class 'pandas.tseries.index.DatetimeIndex'>\n",
        "[2014-07-01, ..., 2014-07-06]\n",
        "Length: 6, Freq: D, Timezone: None"
       ]
      }
     ],
     "prompt_number": 8
    },
    {
     "cell_type": "code",
     "collapsed": false,
     "input": [
      "# create a Series with values (representing temperatures)\n",
      "# for each date in the index\n",
      "temps1 = Series([80, 82, 85, 90, 83, 87], \n",
      "                index = dates)\n",
      "temps1"
     ],
     "language": "python",
     "metadata": {},
     "outputs": [
      {
       "metadata": {},
       "output_type": "pyout",
       "prompt_number": 9,
       "text": [
        "2014-07-01    80\n",
        "2014-07-02    82\n",
        "2014-07-03    85\n",
        "2014-07-04    90\n",
        "2014-07-05    83\n",
        "2014-07-06    87\n",
        "Freq: D, dtype: int64"
       ]
      }
     ],
     "prompt_number": 9
    },
    {
     "cell_type": "code",
     "collapsed": false,
     "input": [
      "# calculate the mean of the values in the Series\n",
      "temps1.mean()"
     ],
     "language": "python",
     "metadata": {},
     "outputs": [
      {
       "metadata": {},
       "output_type": "pyout",
       "prompt_number": 10,
       "text": [
        "84.5"
       ]
      }
     ],
     "prompt_number": 10
    },
    {
     "cell_type": "code",
     "collapsed": false,
     "input": [
      "# create a second series of values using the same index\n",
      "temps2 = Series([70, 75, 69, 83, 79, 77], \n",
      "                index = dates)\n",
      "# the following aligns the two by their index values\n",
      "# and calculates the difference at those matching labels\n",
      "temp_diffs = temps1 - temps2\n",
      "temp_diffs"
     ],
     "language": "python",
     "metadata": {},
     "outputs": [
      {
       "metadata": {},
       "output_type": "pyout",
       "prompt_number": 11,
       "text": [
        "2014-07-01    10\n",
        "2014-07-02     7\n",
        "2014-07-03    16\n",
        "2014-07-04     7\n",
        "2014-07-05     4\n",
        "2014-07-06    10\n",
        "Freq: D, dtype: int64"
       ]
      }
     ],
     "prompt_number": 11
    },
    {
     "cell_type": "code",
     "collapsed": false,
     "input": [
      "# lookup a value by date using the index\n",
      "temp_diffs['2014-07-03']"
     ],
     "language": "python",
     "metadata": {},
     "outputs": [
      {
       "metadata": {},
       "output_type": "pyout",
       "prompt_number": 12,
       "text": [
        "16"
       ]
      }
     ],
     "prompt_number": 12
    },
    {
     "cell_type": "code",
     "collapsed": false,
     "input": [
      "# and also possible by integer position as if the \n",
      "# series was an array\n",
      "temp_diffs[2]"
     ],
     "language": "python",
     "metadata": {},
     "outputs": [
      {
       "metadata": {},
       "output_type": "pyout",
       "prompt_number": 13,
       "text": [
        "16"
       ]
      }
     ],
     "prompt_number": 13
    },
    {
     "cell_type": "heading",
     "level": 2,
     "metadata": {},
     "source": [
      "The pandas DataFrame"
     ]
    },
    {
     "cell_type": "code",
     "collapsed": false,
     "input": [
      "# create a DataFrame from the two series objects temp1 and temp2\n",
      "# and give them column names\n",
      "temps_df = DataFrame(\n",
      "            {'Missoula': temps1, \n",
      "             'Philadelphia': temps2})\n",
      "temps_df"
     ],
     "language": "python",
     "metadata": {},
     "outputs": [
      {
       "metadata": {},
       "output_type": "pyout",
       "prompt_number": 14,
       "text": [
        "            Missoula  Philadelphia\n",
        "2014-07-01        80            70\n",
        "2014-07-02        82            75\n",
        "2014-07-03        85            69\n",
        "2014-07-04        90            83\n",
        "2014-07-05        83            79\n",
        "2014-07-06        87            77"
       ]
      }
     ],
     "prompt_number": 14
    },
    {
     "cell_type": "code",
     "collapsed": false,
     "input": [
      "# get the column with the name Missoula\n",
      "temps_df['Missoula']"
     ],
     "language": "python",
     "metadata": {},
     "outputs": [
      {
       "metadata": {},
       "output_type": "pyout",
       "prompt_number": 15,
       "text": [
        "2014-07-01    80\n",
        "2014-07-02    82\n",
        "2014-07-03    85\n",
        "2014-07-04    90\n",
        "2014-07-05    83\n",
        "2014-07-06    87\n",
        "Freq: D, Name: Missoula, dtype: int64"
       ]
      }
     ],
     "prompt_number": 15
    },
    {
     "cell_type": "code",
     "collapsed": false,
     "input": [
      "# likewise we can get just the Philadelphia column\n",
      "temps_df['Philadelphia']"
     ],
     "language": "python",
     "metadata": {},
     "outputs": [
      {
       "metadata": {},
       "output_type": "pyout",
       "prompt_number": 16,
       "text": [
        "2014-07-01    70\n",
        "2014-07-02    75\n",
        "2014-07-03    69\n",
        "2014-07-04    83\n",
        "2014-07-05    79\n",
        "2014-07-06    77\n",
        "Freq: D, Name: Philadelphia, dtype: int64"
       ]
      }
     ],
     "prompt_number": 16
    },
    {
     "cell_type": "code",
     "collapsed": false,
     "input": [
      "# return both columns in a different order\n",
      "temps_df[['Philadelphia', 'Missoula']]"
     ],
     "language": "python",
     "metadata": {},
     "outputs": [
      {
       "metadata": {},
       "output_type": "pyout",
       "prompt_number": 17,
       "text": [
        "            Philadelphia  Missoula\n",
        "2014-07-01            70        80\n",
        "2014-07-02            75        82\n",
        "2014-07-03            69        85\n",
        "2014-07-04            83        90\n",
        "2014-07-05            79        83\n",
        "2014-07-06            77        87"
       ]
      }
     ],
     "prompt_number": 17
    },
    {
     "cell_type": "code",
     "collapsed": false,
     "input": [
      "# retrieve the Missoula column through property syntax\n",
      "temps_df.Missoula"
     ],
     "language": "python",
     "metadata": {},
     "outputs": [
      {
       "metadata": {},
       "output_type": "pyout",
       "prompt_number": 18,
       "text": [
        "2014-07-01    80\n",
        "2014-07-02    82\n",
        "2014-07-03    85\n",
        "2014-07-04    90\n",
        "2014-07-05    83\n",
        "2014-07-06    87\n",
        "Freq: D, Name: Missoula, dtype: int64"
       ]
      }
     ],
     "prompt_number": 18
    },
    {
     "cell_type": "code",
     "collapsed": false,
     "input": [
      "# calculate the temperature difference between the two cities\n",
      "temps_df.Missoula - temps_df.Philadelphia"
     ],
     "language": "python",
     "metadata": {},
     "outputs": [
      {
       "metadata": {},
       "output_type": "pyout",
       "prompt_number": 19,
       "text": [
        "2014-07-01    10\n",
        "2014-07-02     7\n",
        "2014-07-03    16\n",
        "2014-07-04     7\n",
        "2014-07-05     4\n",
        "2014-07-06    10\n",
        "Freq: D, dtype: int64"
       ]
      }
     ],
     "prompt_number": 19
    },
    {
     "cell_type": "code",
     "collapsed": false,
     "input": [
      "# add a column to temp_df which contains the difference in temps\n",
      "temps_df['Difference'] = temp_diffs\n",
      "temps_df"
     ],
     "language": "python",
     "metadata": {},
     "outputs": [
      {
       "metadata": {},
       "output_type": "pyout",
       "prompt_number": 20,
       "text": [
        "            Missoula  Philadelphia  Difference\n",
        "2014-07-01        80            70          10\n",
        "2014-07-02        82            75           7\n",
        "2014-07-03        85            69          16\n",
        "2014-07-04        90            83           7\n",
        "2014-07-05        83            79           4\n",
        "2014-07-06        87            77          10"
       ]
      }
     ],
     "prompt_number": 20
    },
    {
     "cell_type": "code",
     "collapsed": false,
     "input": [
      "# get the columns, which is also an Index object\n",
      "temps_df.columns"
     ],
     "language": "python",
     "metadata": {},
     "outputs": [
      {
       "metadata": {},
       "output_type": "pyout",
       "prompt_number": 21,
       "text": [
        "Index([u'Missoula', u'Philadelphia', u'Difference'], dtype='object')"
       ]
      }
     ],
     "prompt_number": 21
    },
    {
     "cell_type": "code",
     "collapsed": false,
     "input": [
      "# slice the temp differences column for the rows at \n",
      "# location 1 through 4 (as though it is an array)\n",
      "temps_df.Difference[1:4]"
     ],
     "language": "python",
     "metadata": {},
     "outputs": [
      {
       "metadata": {},
       "output_type": "pyout",
       "prompt_number": 22,
       "text": [
        "2014-07-02     7\n",
        "2014-07-03    16\n",
        "2014-07-04     7\n",
        "Freq: D, Name: Difference, dtype: int64"
       ]
      }
     ],
     "prompt_number": 22
    },
    {
     "cell_type": "code",
     "collapsed": false,
     "input": [
      "# get the row at array position 1\n",
      "temps_df.iloc[1]"
     ],
     "language": "python",
     "metadata": {},
     "outputs": [
      {
       "metadata": {},
       "output_type": "pyout",
       "prompt_number": 23,
       "text": [
        "Missoula        82\n",
        "Philadelphia    75\n",
        "Difference       7\n",
        "Name: 2014-07-02 00:00:00, dtype: int64"
       ]
      }
     ],
     "prompt_number": 23
    },
    {
     "cell_type": "code",
     "collapsed": false,
     "input": [
      "# the names of the columns have become the index\n",
      "# they have been 'pivoted'\n",
      "temps_df.ix[1].index"
     ],
     "language": "python",
     "metadata": {},
     "outputs": [
      {
       "metadata": {},
       "output_type": "pyout",
       "prompt_number": 24,
       "text": [
        "Index([u'Missoula', u'Philadelphia', u'Difference'], dtype='object')"
       ]
      }
     ],
     "prompt_number": 24
    },
    {
     "cell_type": "code",
     "collapsed": false,
     "input": [
      "# retrieve row by index label using .loc\n",
      "temps_df.loc['2014-07-03']"
     ],
     "language": "python",
     "metadata": {},
     "outputs": [
      {
       "metadata": {},
       "output_type": "pyout",
       "prompt_number": 25,
       "text": [
        "Missoula        85\n",
        "Philadelphia    69\n",
        "Difference      16\n",
        "Name: 2014-07-03 00:00:00, dtype: int64"
       ]
      }
     ],
     "prompt_number": 25
    },
    {
     "cell_type": "code",
     "collapsed": false,
     "input": [
      "# get the values in the Differences column in tows 1, 3 and 5\n",
      "# using 0-based location\n",
      "temps_df.iloc[[1, 3, 5]].Difference"
     ],
     "language": "python",
     "metadata": {},
     "outputs": [
      {
       "metadata": {},
       "output_type": "pyout",
       "prompt_number": 26,
       "text": [
        "2014-07-02     7\n",
        "2014-07-04     7\n",
        "2014-07-06    10\n",
        "Name: Difference, dtype: int64"
       ]
      }
     ],
     "prompt_number": 26
    },
    {
     "cell_type": "code",
     "collapsed": false,
     "input": [
      "# which values in the Missoula column are > 82?\n",
      "temps_df.Missoula > 82"
     ],
     "language": "python",
     "metadata": {},
     "outputs": [
      {
       "metadata": {},
       "output_type": "pyout",
       "prompt_number": 27,
       "text": [
        "2014-07-01    False\n",
        "2014-07-02    False\n",
        "2014-07-03     True\n",
        "2014-07-04     True\n",
        "2014-07-05     True\n",
        "2014-07-06     True\n",
        "Freq: D, Name: Missoula, dtype: bool"
       ]
      }
     ],
     "prompt_number": 27
    },
    {
     "cell_type": "code",
     "collapsed": false,
     "input": [
      "# return the rows where the temps for Missoula > 82\n",
      "temps_df[temps_df.Missoula > 82]"
     ],
     "language": "python",
     "metadata": {},
     "outputs": [
      {
       "metadata": {},
       "output_type": "pyout",
       "prompt_number": 28,
       "text": [
        "            Missoula  Philadelphia  Difference\n",
        "2014-07-03        85            69          16\n",
        "2014-07-04        90            83           7\n",
        "2014-07-05        83            79           4\n",
        "2014-07-06        87            77          10"
       ]
      }
     ],
     "prompt_number": 28
    },
    {
     "cell_type": "heading",
     "level": 1,
     "metadata": {},
     "source": [
      "Loading data from files and the web into a DataFrame"
     ]
    },
    {
     "cell_type": "code",
     "collapsed": false,
     "input": [
      "# display the contents of test1.csv\n",
      "# which command to use depends on your OS\n",
      "!cat data/test1.csv # on non-windows systems\n",
      "#!type data/test1.csv # on windows systems"
     ],
     "language": "python",
     "metadata": {},
     "outputs": [
      {
       "output_type": "stream",
       "stream": "stdout",
       "text": [
        "date,0,1,2\r\n",
        "2000-01-01 00:00:00,1.10376250134,-1.90997889703,-0.808955536115\r\n",
        "2000-01-02 00:00:00,1.18891664768,0.581119740849,0.86159734949\r\n",
        "2000-01-03 00:00:00,-0.964200042412,0.779764393246,1.82906224532\r\n",
        "2000-01-04 00:00:00,0.782130444001,-1.72066965573,-1.10824167327\r\n",
        "2000-01-05 00:00:00,-1.86701699823,-0.528368292754,-2.48830894087\r\n",
        "2000-01-06 00:00:00,2.56928022646,-0.471901478927,-0.835033249865\r\n",
        "2000-01-07 00:00:00,-0.39932258251,-0.676426550985,-0.0112559158931\r\n",
        "2000-01-08 00:00:00,1.64299299394,1.01341997845,1.43566709724\r\n",
        "2000-01-09 00:00:00,1.14730764657,2.13799951538,0.554171306191\r\n",
        "2000-01-10 00:00:00,0.933765825769,1.38715526486,-0.560142729978\r\n"
       ]
      }
     ],
     "prompt_number": 29
    },
    {
     "cell_type": "code",
     "collapsed": false,
     "input": [
      "# read the contents of the file into a DataFrame\n",
      "df = pd.read_csv('data/test1.csv')\n",
      "df"
     ],
     "language": "python",
     "metadata": {},
     "outputs": [
      {
       "metadata": {},
       "output_type": "pyout",
       "prompt_number": 30,
       "text": [
        "                  date         0         1         2\n",
        "0  2000-01-01 00:00:00  1.103763 -1.909979 -0.808956\n",
        "1  2000-01-02 00:00:00  1.188917  0.581120  0.861597\n",
        "2  2000-01-03 00:00:00 -0.964200  0.779764  1.829062\n",
        "3  2000-01-04 00:00:00  0.782130 -1.720670 -1.108242\n",
        "4  2000-01-05 00:00:00 -1.867017 -0.528368 -2.488309\n",
        "5  2000-01-06 00:00:00  2.569280 -0.471901 -0.835033\n",
        "6  2000-01-07 00:00:00 -0.399323 -0.676427 -0.011256\n",
        "7  2000-01-08 00:00:00  1.642993  1.013420  1.435667\n",
        "8  2000-01-09 00:00:00  1.147308  2.138000  0.554171\n",
        "9  2000-01-10 00:00:00  0.933766  1.387155 -0.560143"
       ]
      }
     ],
     "prompt_number": 30
    },
    {
     "cell_type": "code",
     "collapsed": false,
     "input": [
      "# the contents of the date column\n",
      "df.date"
     ],
     "language": "python",
     "metadata": {},
     "outputs": [
      {
       "metadata": {},
       "output_type": "pyout",
       "prompt_number": 31,
       "text": [
        "0    2000-01-01 00:00:00\n",
        "1    2000-01-02 00:00:00\n",
        "2    2000-01-03 00:00:00\n",
        "3    2000-01-04 00:00:00\n",
        "4    2000-01-05 00:00:00\n",
        "5    2000-01-06 00:00:00\n",
        "6    2000-01-07 00:00:00\n",
        "7    2000-01-08 00:00:00\n",
        "8    2000-01-09 00:00:00\n",
        "9    2000-01-10 00:00:00\n",
        "Name: date, dtype: object"
       ]
      }
     ],
     "prompt_number": 31
    },
    {
     "cell_type": "code",
     "collapsed": false,
     "input": [
      "# we can get the first value in the date column\n",
      "df.date[0]"
     ],
     "language": "python",
     "metadata": {},
     "outputs": [
      {
       "metadata": {},
       "output_type": "pyout",
       "prompt_number": 32,
       "text": [
        "'2000-01-01 00:00:00'"
       ]
      }
     ],
     "prompt_number": 32
    },
    {
     "cell_type": "code",
     "collapsed": false,
     "input": [
      "# it is a string\n",
      "type(df.date[0])"
     ],
     "language": "python",
     "metadata": {},
     "outputs": [
      {
       "metadata": {},
       "output_type": "pyout",
       "prompt_number": 33,
       "text": [
        "str"
       ]
      }
     ],
     "prompt_number": 33
    },
    {
     "cell_type": "code",
     "collapsed": false,
     "input": [
      "# read the data and tell pandas the date column should be \n",
      "# a date in the resulting DataFrame\n",
      "df = pd.read_csv('data/test1.csv', parse_dates=['date'])\n",
      "df"
     ],
     "language": "python",
     "metadata": {},
     "outputs": [
      {
       "metadata": {},
       "output_type": "pyout",
       "prompt_number": 34,
       "text": [
        "        date         0         1         2\n",
        "0 2000-01-01  1.103763 -1.909979 -0.808956\n",
        "1 2000-01-02  1.188917  0.581120  0.861597\n",
        "2 2000-01-03 -0.964200  0.779764  1.829062\n",
        "3 2000-01-04  0.782130 -1.720670 -1.108242\n",
        "4 2000-01-05 -1.867017 -0.528368 -2.488309\n",
        "5 2000-01-06  2.569280 -0.471901 -0.835033\n",
        "6 2000-01-07 -0.399323 -0.676427 -0.011256\n",
        "7 2000-01-08  1.642993  1.013420  1.435667\n",
        "8 2000-01-09  1.147308  2.138000  0.554171\n",
        "9 2000-01-10  0.933766  1.387155 -0.560143"
       ]
      }
     ],
     "prompt_number": 34
    },
    {
     "cell_type": "code",
     "collapsed": false,
     "input": [
      "# verify the type now is date\n",
      "# in pandas, this is actually a Timestamp\n",
      "type(df.date[0])"
     ],
     "language": "python",
     "metadata": {},
     "outputs": [
      {
       "metadata": {},
       "output_type": "pyout",
       "prompt_number": 35,
       "text": [
        "pandas.tslib.Timestamp"
       ]
      }
     ],
     "prompt_number": 35
    },
    {
     "cell_type": "code",
     "collapsed": false,
     "input": [
      "# unfortunately the index is numeric which makes\n",
      "# accessing data by date more complicated\n",
      "df.index"
     ],
     "language": "python",
     "metadata": {},
     "outputs": [
      {
       "metadata": {},
       "output_type": "pyout",
       "prompt_number": 36,
       "text": [
        "Int64Index([0, 1, 2, 3, 4, 5, 6, 7, 8, 9], dtype='int64')"
       ]
      }
     ],
     "prompt_number": 36
    },
    {
     "cell_type": "code",
     "collapsed": false,
     "input": [
      "# read in again, now specity the data column as being the \n",
      "# index of the resulting DataFrame\n",
      "df = pd.read_csv('data/test1.csv', \n",
      "                 parse_dates=['date'], \n",
      "                 index_col='date')\n",
      "df"
     ],
     "language": "python",
     "metadata": {},
     "outputs": [
      {
       "metadata": {},
       "output_type": "pyout",
       "prompt_number": 37,
       "text": [
        "                   0         1         2\n",
        "date                                    \n",
        "2000-01-01  1.103763 -1.909979 -0.808956\n",
        "2000-01-02  1.188917  0.581120  0.861597\n",
        "2000-01-03 -0.964200  0.779764  1.829062\n",
        "2000-01-04  0.782130 -1.720670 -1.108242\n",
        "2000-01-05 -1.867017 -0.528368 -2.488309\n",
        "2000-01-06  2.569280 -0.471901 -0.835033\n",
        "2000-01-07 -0.399323 -0.676427 -0.011256\n",
        "2000-01-08  1.642993  1.013420  1.435667\n",
        "2000-01-09  1.147308  2.138000  0.554171\n",
        "2000-01-10  0.933766  1.387155 -0.560143"
       ]
      }
     ],
     "prompt_number": 37
    },
    {
     "cell_type": "code",
     "collapsed": false,
     "input": [
      "# and the index is now a DatetimeIndex\n",
      "df.index"
     ],
     "language": "python",
     "metadata": {},
     "outputs": [
      {
       "metadata": {},
       "output_type": "pyout",
       "prompt_number": 38,
       "text": [
        "<class 'pandas.tseries.index.DatetimeIndex'>\n",
        "[2000-01-01, ..., 2000-01-10]\n",
        "Length: 10, Freq: None, Timezone: None"
       ]
      }
     ],
     "prompt_number": 38
    },
    {
     "cell_type": "code",
     "collapsed": false,
     "input": [
      "# imports for reading data from Yahoo!\n",
      "from pandas.io.data import DataReader\n",
      "from datetime import date\n",
      "from dateutil.relativedelta import relativedelta\n",
      "\n",
      "# read the last three months of data for GOOG\n",
      "goog = DataReader(\"GOOG\",  \"yahoo\", \n",
      "                  date.today() + \n",
      "                  relativedelta(months=-3))\n",
      "\n",
      "# the result is a DataFrame\n",
      "#and this gives us the 5 most recent prices\n",
      "goog.tail()"
     ],
     "language": "python",
     "metadata": {},
     "outputs": [
      {
       "metadata": {},
       "output_type": "pyout",
       "prompt_number": 39,
       "text": [
        "              Open    High     Low   Close   Volume  Adj Close\n",
        "Date                                                          \n",
        "2015-04-07  538.08  542.69  536.00  537.02  1298000     537.02\n",
        "2015-04-08  538.38  543.85  538.38  541.61  1170400     541.61\n",
        "2015-04-09  541.03  541.95  535.49  540.78  1549700     540.78\n",
        "2015-04-10  542.29  542.29  537.31  540.01  1400800     540.01\n",
        "2015-04-13  538.41  544.06  537.31  539.17  1628900     539.17"
       ]
      }
     ],
     "prompt_number": 39
    },
    {
     "cell_type": "heading",
     "level": 1,
     "metadata": {},
     "source": [
      "Visualizing Data"
     ]
    },
    {
     "cell_type": "code",
     "collapsed": false,
     "input": [
      "# plot the Adj Close values we just read in\n",
      "goog.plot(y='Adj Close', figsize=(12,8));\n",
      "plt.savefig('5128OS_01_02.png', bbox_inches='tight', dpi=300)"
     ],
     "language": "python",
     "metadata": {},
     "outputs": [
      {
       "metadata": {},
       "output_type": "display_data",
       "png": "[encoded data removed]",
       "text": [
        "<matplotlib.figure.Figure at 0x10a080790>"
       ]
      }
     ],
     "prompt_number": 40
    }
   ],
   "metadata": {}
  }
 ]
}