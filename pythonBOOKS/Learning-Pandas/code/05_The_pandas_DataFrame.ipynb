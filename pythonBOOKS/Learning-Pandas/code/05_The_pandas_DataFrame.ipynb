{
 "metadata": {
  "name": "",
  "signature": "sha256:f8c0705ca6611a7aea1f2617302f0df18c0e12cfe9e9c35b5db6280ea237164b"
 },
 "nbformat": 3,
 "nbformat_minor": 0,
 "worksheets": [
  {
   "cells": [
    {
     "cell_type": "raw",
     "metadata": {},
     "source": [
      "Creating a DataFrame from scratch"
     ]
    },
    {
     "cell_type": "code",
     "collapsed": true,
     "input": [
      "# reference NumPy and pandas\n",
      "import numpy as np\n",
      "import pandas as pd\n",
      "\n",
      "# Set some pandas options\n",
      "pd.set_option('display.notebook_repr_html', False)\n",
      "pd.set_option('display.max_columns', 10)\n",
      "pd.set_option('display.max_rows', 10) "
     ],
     "language": "python",
     "metadata": {},
     "outputs": [],
     "prompt_number": 1
    },
    {
     "cell_type": "code",
     "collapsed": true,
     "input": [
      "# create a DataFrame from a 2-d ndarray\n",
      "pd.DataFrame(np.array([[10, 11], [20, 21]]))"
     ],
     "language": "python",
     "metadata": {},
     "outputs": [
      {
       "metadata": {},
       "output_type": "pyout",
       "prompt_number": 2,
       "text": [
        "    0   1\n",
        "0  10  11\n",
        "1  20  21"
       ]
      }
     ],
     "prompt_number": 2
    },
    {
     "cell_type": "code",
     "collapsed": true,
     "input": [
      "# create a DataFrame for a list of Series objects\n",
      "df1 = pd.DataFrame([pd.Series(np.arange(10, 15)), \n",
      "                    pd.Series(np.arange(15, 20))])\n",
      "df1"
     ],
     "language": "python",
     "metadata": {},
     "outputs": [
      {
       "metadata": {},
       "output_type": "pyout",
       "prompt_number": 3,
       "text": [
        "    0   1   2   3   4\n",
        "0  10  11  12  13  14\n",
        "1  15  16  17  18  19"
       ]
      }
     ],
     "prompt_number": 3
    },
    {
     "cell_type": "code",
     "collapsed": true,
     "input": [
      "# what's the shape of this DataFrame\n",
      "df1.shape  # it is two rows by 5 columns"
     ],
     "language": "python",
     "metadata": {},
     "outputs": [
      {
       "metadata": {},
       "output_type": "pyout",
       "prompt_number": 4,
       "text": [
        "(2, 5)"
       ]
      }
     ],
     "prompt_number": 4
    },
    {
     "cell_type": "code",
     "collapsed": true,
     "input": [
      "# specify column names\n",
      "df = pd.DataFrame(np.array([[10, 11], [20, 21]]), \n",
      "                  columns=['a', 'b'])\n",
      "df"
     ],
     "language": "python",
     "metadata": {},
     "outputs": [
      {
       "metadata": {},
       "output_type": "pyout",
       "prompt_number": 5,
       "text": [
        "    a   b\n",
        "0  10  11\n",
        "1  20  21"
       ]
      }
     ],
     "prompt_number": 5
    },
    {
     "cell_type": "code",
     "collapsed": true,
     "input": [
      "# what are names of the columns?\n",
      "df.columns"
     ],
     "language": "python",
     "metadata": {},
     "outputs": [
      {
       "metadata": {},
       "output_type": "pyout",
       "prompt_number": 6,
       "text": [
        "Index([u'a', u'b'], dtype='object')"
       ]
      }
     ],
     "prompt_number": 6
    },
    {
     "cell_type": "code",
     "collapsed": true,
     "input": [
      "# retrieve just the names of the columns by position\n",
      "\"{0}, {1}\".format(df.columns[0], df.columns[1])"
     ],
     "language": "python",
     "metadata": {},
     "outputs": [
      {
       "metadata": {},
       "output_type": "pyout",
       "prompt_number": 7,
       "text": [
        "'a, b'"
       ]
      }
     ],
     "prompt_number": 7
    },
    {
     "cell_type": "code",
     "collapsed": true,
     "input": [
      "# rename the columns\n",
      "df.columns = ['c1', 'c2']\n",
      "df"
     ],
     "language": "python",
     "metadata": {},
     "outputs": [
      {
       "metadata": {},
       "output_type": "pyout",
       "prompt_number": 8,
       "text": [
        "   c1  c2\n",
        "0  10  11\n",
        "1  20  21"
       ]
      }
     ],
     "prompt_number": 8
    },
    {
     "cell_type": "code",
     "collapsed": true,
     "input": [
      "# create a DataFrame with named columns and rows\n",
      "df = pd.DataFrame(np.array([[0, 1], [2, 3]]), \n",
      "                  columns=['c1', 'c2'], \n",
      "                  index=['r1', 'r2'])\n",
      "df"
     ],
     "language": "python",
     "metadata": {},
     "outputs": [
      {
       "metadata": {},
       "output_type": "pyout",
       "prompt_number": 9,
       "text": [
        "    c1  c2\n",
        "r1   0   1\n",
        "r2   2   3"
       ]
      }
     ],
     "prompt_number": 9
    },
    {
     "cell_type": "code",
     "collapsed": true,
     "input": [
      "# retrieve the index of the DataFrame\n",
      "df.index"
     ],
     "language": "python",
     "metadata": {},
     "outputs": [
      {
       "metadata": {},
       "output_type": "pyout",
       "prompt_number": 10,
       "text": [
        "Index([u'r1', u'r2'], dtype='object')"
       ]
      }
     ],
     "prompt_number": 10
    },
    {
     "cell_type": "code",
     "collapsed": true,
     "input": [
      "# create a DataFrame with two Series objects\n",
      "# and a dictionary\n",
      "s1 = pd.Series(np.arange(1, 6, 1))\n",
      "s2 = pd.Series(np.arange(6, 11, 1))\n",
      "pd.DataFrame({'c1': s1, 'c2': s2})"
     ],
     "language": "python",
     "metadata": {},
     "outputs": [
      {
       "metadata": {},
       "output_type": "pyout",
       "prompt_number": 11,
       "text": [
        "   c1  c2\n",
        "0   1   6\n",
        "1   2   7\n",
        "2   3   8\n",
        "3   4   9\n",
        "4   5  10"
       ]
      }
     ],
     "prompt_number": 11
    },
    {
     "cell_type": "code",
     "collapsed": true,
     "input": [
      "# demonstrate alignment during creation\n",
      "s3 = pd.Series(np.arange(12, 14), index=[1, 2])\n",
      "df = pd.DataFrame({'c1': s1, 'c2': s2, 'c3': s3})\n",
      "df"
     ],
     "language": "python",
     "metadata": {},
     "outputs": [
      {
       "metadata": {},
       "output_type": "pyout",
       "prompt_number": 12,
       "text": [
        "   c1  c2  c3\n",
        "0   1   6 NaN\n",
        "1   2   7  12\n",
        "2   3   8  13\n",
        "3   4   9 NaN\n",
        "4   5  10 NaN"
       ]
      }
     ],
     "prompt_number": 12
    },
    {
     "cell_type": "heading",
     "level": 1,
     "metadata": {},
     "source": [
      "Loading sample data for demonstrate DataFrame capabilities"
     ]
    },
    {
     "cell_type": "heading",
     "level": 2,
     "metadata": {},
     "source": [
      "S&P 500"
     ]
    },
    {
     "cell_type": "code",
     "collapsed": false,
     "input": [
      "# show the first three lines of the file\n",
      "!head -n 3 data/sp500.csv # on mac or Linux\n",
      "# type data/sp500.csv # on windows, but will show the entire file"
     ],
     "language": "python",
     "metadata": {},
     "outputs": [
      {
       "output_type": "stream",
       "stream": "stdout",
       "text": [
        "Symbol,Name,Sector,Price,Dividend Yield,Price/Earnings,Earnings/Share,Book Value,52 week low,52 week high,Market Cap,EBITDA,Price/Sales,Price/Book,SEC Filings\r",
        "\r\n",
        "MMM,3M Co.,Industrials,141.14,2.12,20.33,6.90,26.668,107.15,143.37,92.345,8.121,2.95,5.26,http://www.sec.gov/cgi-bin/browse-edgar?action=getcompany&CIK=MMM\r",
        "\r\n",
        "ABT,Abbott Laboratories,Health Care,39.60,1.82,25.93,1.529,15.573,32.70,40.49,59.477,4.359,2.74,2.55,http://www.sec.gov/cgi-bin/browse-edgar?action=getcompany&CIK=ABT\r",
        "\r\n"
       ]
      }
     ],
     "prompt_number": 13
    },
    {
     "cell_type": "code",
     "collapsed": true,
     "input": [
      "# read in the data and print the first five rows\n",
      "# use the Symbol column as the index, and \n",
      "# only read in columns in positions 0, 2, 3, 7\n",
      "sp500 = pd.read_csv(\"data/sp500.csv\", \n",
      "                    index_col='Symbol', \n",
      "                    usecols=[0, 2, 3, 7])"
     ],
     "language": "python",
     "metadata": {},
     "outputs": [],
     "prompt_number": 14
    },
    {
     "cell_type": "code",
     "collapsed": false,
     "input": [
      "# peek at the first 5 rows of the data using .head()\n",
      "sp500.head()"
     ],
     "language": "python",
     "metadata": {},
     "outputs": [
      {
       "metadata": {},
       "output_type": "pyout",
       "prompt_number": 15,
       "text": [
        "                        Sector   Price  Book Value\n",
        "Symbol                                            \n",
        "MMM                Industrials  141.14      26.668\n",
        "ABT                Health Care   39.60      15.573\n",
        "ABBV               Health Care   53.95       2.954\n",
        "ACN     Information Technology   79.79       8.326\n",
        "ACE                 Financials  102.91      86.897"
       ]
      }
     ],
     "prompt_number": 15
    },
    {
     "cell_type": "code",
     "collapsed": false,
     "input": [
      "# peek at the first 5 rows of the data using .head()\n",
      "sp500.tail()"
     ],
     "language": "python",
     "metadata": {},
     "outputs": [
      {
       "metadata": {},
       "output_type": "pyout",
       "prompt_number": 16,
       "text": [
        "                        Sector   Price  Book Value\n",
        "Symbol                                            \n",
        "YHOO    Information Technology   35.02      12.768\n",
        "YUM     Consumer Discretionary   74.77       5.147\n",
        "ZMH                Health Care  101.84      37.181\n",
        "ZION                Financials   28.43      30.191\n",
        "ZTS                Health Care   30.53       2.150"
       ]
      }
     ],
     "prompt_number": 16
    },
    {
     "cell_type": "code",
     "collapsed": false,
     "input": [
      "# how many rows of data?\n",
      "len(sp500)"
     ],
     "language": "python",
     "metadata": {},
     "outputs": [
      {
       "metadata": {},
       "output_type": "pyout",
       "prompt_number": 17,
       "text": [
        "500"
       ]
      }
     ],
     "prompt_number": 17
    },
    {
     "cell_type": "code",
     "collapsed": true,
     "input": [
      "# examine the index\n",
      "sp500.index"
     ],
     "language": "python",
     "metadata": {},
     "outputs": [
      {
       "metadata": {},
       "output_type": "pyout",
       "prompt_number": 18,
       "text": [
        "Index([u'MMM', u'ABT', u'ABBV', u'ACN', u'ACE', u'ACT', u'ADBE', u'AES', u'AET', u'AFL', u'A', u'GAS', u'APD', u'ARG', u'AKAM', u'AA', u'ALXN', u'ATI', u'ALLE', u'AGN', u'ADS', u'ALL', u'ALTR', u'MO', u'AMZN', u'AEE', u'AEP', u'AXP', u'AIG', u'AMT', u'AMP', u'ABC', u'AME', u'AMGN', u'APH', u'APC', u'ADI', u'AON', u'APA', u'AIV', u'AAPL', u'AMAT', u'ADM', u'AIZ', u'T', u'ADSK', u'ADP', u'AN', u'AZO', u'AVB', u'AVY', u'AVP', u'BHI', u'BLL', u'BAC', u'BCR', u'BAX', u'BBT', u'BEAM', u'BDX', u'BBBY', u'BMS', u'BRK-B', u'BBY', u'BIIB', u'BLK', u'HRB', u'BA', u'BWA', u'BXP', u'BSX', u'BMY', u'BRCM', u'BF-B', u'CA', u'CVC', u'COG', u'CAM', u'CPB', u'COF', u'CAH', u'CFN', u'KMX', u'CCL', u'CAT', u'CBG', u'CBS', u'CELG', u'CNP', u'CTL', u'CERN', u'CF', u'CHRW', u'CHK', u'CVX', u'CMG', u'CB', u'CI', u'CINF', u'CTAS', ...], dtype='object')"
       ]
      }
     ],
     "prompt_number": 18
    },
    {
     "cell_type": "code",
     "collapsed": true,
     "input": [
      "# get the columns\n",
      "sp500.columns"
     ],
     "language": "python",
     "metadata": {},
     "outputs": [
      {
       "metadata": {},
       "output_type": "pyout",
       "prompt_number": 19,
       "text": [
        "Index([u'Sector', u'Price', u'Book Value'], dtype='object')"
       ]
      }
     ],
     "prompt_number": 19
    },
    {
     "cell_type": "heading",
     "level": 2,
     "metadata": {},
     "source": [
      "Monthly stock historical prices"
     ]
    },
    {
     "cell_type": "code",
     "collapsed": false,
     "input": [
      "# first three lines of the file\n",
      "!head -n 3 data/omh.csv # max or Linux\n",
      "# type data/omh.csv # on windows, but prints the entire file"
     ],
     "language": "python",
     "metadata": {},
     "outputs": [
      {
       "output_type": "stream",
       "stream": "stdout",
       "text": [
        "Date,MSFT,AAPL\r\n",
        "2014-12-01,48.62,115.07\r\n",
        "2014-12-02,48.46,114.63\r\n"
       ]
      }
     ],
     "prompt_number": 20
    },
    {
     "cell_type": "code",
     "collapsed": false,
     "input": [
      "# read in the data\n",
      "one_mon_hist = pd.read_csv(\"data/omh.csv\")\n",
      "# examine the first three rows\n",
      "one_mon_hist[:3]"
     ],
     "language": "python",
     "metadata": {},
     "outputs": [
      {
       "metadata": {},
       "output_type": "pyout",
       "prompt_number": 21,
       "text": [
        "         Date   MSFT    AAPL\n",
        "0  2014-12-01  48.62  115.07\n",
        "1  2014-12-02  48.46  114.63\n",
        "2  2014-12-03  48.08  115.93"
       ]
      }
     ],
     "prompt_number": 21
    },
    {
     "cell_type": "heading",
     "level": 1,
     "metadata": {},
     "source": [
      "Selecting columns of a DataFrame"
     ]
    },
    {
     "cell_type": "code",
     "collapsed": true,
     "input": [
      "# get first and second columns (1 and 2) by location\n",
      "sp500[[1, 2]].head()"
     ],
     "language": "python",
     "metadata": {},
     "outputs": [
      {
       "metadata": {},
       "output_type": "pyout",
       "prompt_number": 22,
       "text": [
        "         Price  Book Value\n",
        "Symbol                    \n",
        "MMM     141.14      26.668\n",
        "ABT      39.60      15.573\n",
        "ABBV     53.95       2.954\n",
        "ACN      79.79       8.326\n",
        "ACE     102.91      86.897"
       ]
      }
     ],
     "prompt_number": 22
    },
    {
     "cell_type": "code",
     "collapsed": true,
     "input": [
      "# just the price column\n",
      "sp500[[1]].head()"
     ],
     "language": "python",
     "metadata": {},
     "outputs": [
      {
       "metadata": {},
       "output_type": "pyout",
       "prompt_number": 23,
       "text": [
        "         Price\n",
        "Symbol        \n",
        "MMM     141.14\n",
        "ABT      39.60\n",
        "ABBV     53.95\n",
        "ACN      79.79\n",
        "ACE     102.91"
       ]
      }
     ],
     "prompt_number": 23
    },
    {
     "cell_type": "code",
     "collapsed": false,
     "input": [
      "# it's a DataFrame, not a Series\n",
      "type(sp500[[1]].head())"
     ],
     "language": "python",
     "metadata": {},
     "outputs": [
      {
       "metadata": {},
       "output_type": "pyout",
       "prompt_number": 24,
       "text": [
        "pandas.core.frame.DataFrame"
       ]
      }
     ],
     "prompt_number": 24
    },
    {
     "cell_type": "code",
     "collapsed": false,
     "input": [
      "# this is an exception, hence it is commented\n",
      "# this tries to find a column named '1'\n",
      "# not the row at position 1\n",
      "# df = sp500[1]"
     ],
     "language": "python",
     "metadata": {},
     "outputs": [],
     "prompt_number": 25
    },
    {
     "cell_type": "code",
     "collapsed": false,
     "input": [
      "# create a new DataFrame with integers as the column names\n",
      "# make sure to use .copy() or change will be in-place\n",
      "df = sp500.copy()\n",
      "df.columns=[0, 1, 2]\n",
      "df.head()"
     ],
     "language": "python",
     "metadata": {},
     "outputs": [
      {
       "metadata": {},
       "output_type": "pyout",
       "prompt_number": 26,
       "text": [
        "                             0       1       2\n",
        "Symbol                                        \n",
        "MMM                Industrials  141.14  26.668\n",
        "ABT                Health Care   39.60  15.573\n",
        "ABBV               Health Care   53.95   2.954\n",
        "ACN     Information Technology   79.79   8.326\n",
        "ACE                 Financials  102.91  86.897"
       ]
      }
     ],
     "prompt_number": 26
    },
    {
     "cell_type": "code",
     "collapsed": false,
     "input": [
      "# this is not an exception\n",
      "df[1]"
     ],
     "language": "python",
     "metadata": {},
     "outputs": [
      {
       "metadata": {},
       "output_type": "pyout",
       "prompt_number": 27,
       "text": [
        "Symbol\n",
        "MMM       141.14\n",
        "ABT        39.60\n",
        "ABBV       53.95\n",
        "...\n",
        "ZMH       101.84\n",
        "ZION       28.43\n",
        "ZTS        30.53\n",
        "Name: 1, Length: 500, dtype: float64"
       ]
      }
     ],
     "prompt_number": 27
    },
    {
     "cell_type": "code",
     "collapsed": false,
     "input": [
      "# because the column names are actually integers\n",
      "# and therefore [1] is found as a column\n",
      "df.columns"
     ],
     "language": "python",
     "metadata": {},
     "outputs": [
      {
       "metadata": {},
       "output_type": "pyout",
       "prompt_number": 28,
       "text": [
        "Int64Index([0, 1, 2], dtype='int64')"
       ]
      }
     ],
     "prompt_number": 28
    },
    {
     "cell_type": "code",
     "collapsed": false,
     "input": [
      "# this is a Series not a DataFrame\n",
      "type(df[1])"
     ],
     "language": "python",
     "metadata": {},
     "outputs": [
      {
       "metadata": {},
       "output_type": "pyout",
       "prompt_number": 29,
       "text": [
        "pandas.core.series.Series"
       ]
      }
     ],
     "prompt_number": 29
    },
    {
     "cell_type": "code",
     "collapsed": false,
     "input": [
      "# get price column by name\n",
      "# result is a Series\n",
      "sp500['Price']"
     ],
     "language": "python",
     "metadata": {},
     "outputs": [
      {
       "metadata": {},
       "output_type": "pyout",
       "prompt_number": 30,
       "text": [
        "Symbol\n",
        "MMM       141.14\n",
        "ABT        39.60\n",
        "ABBV       53.95\n",
        "...\n",
        "ZMH       101.84\n",
        "ZION       28.43\n",
        "ZTS        30.53\n",
        "Name: Price, Length: 500, dtype: float64"
       ]
      }
     ],
     "prompt_number": 30
    },
    {
     "cell_type": "code",
     "collapsed": false,
     "input": [
      "# get Price and Sector columns\n",
      "# since a list is passed, result is a DataFrame\n",
      "sp500[['Price', 'Sector']]"
     ],
     "language": "python",
     "metadata": {},
     "outputs": [
      {
       "metadata": {},
       "output_type": "pyout",
       "prompt_number": 31,
       "text": [
        "         Price                  Sector\n",
        "Symbol                                \n",
        "MMM     141.14             Industrials\n",
        "ABT      39.60             Health Care\n",
        "ABBV     53.95             Health Care\n",
        "ACN      79.79  Information Technology\n",
        "ACE     102.91              Financials\n",
        "...        ...                     ...\n",
        "YHOO     35.02  Information Technology\n",
        "YUM      74.77  Consumer Discretionary\n",
        "ZMH     101.84             Health Care\n",
        "ZION     28.43              Financials\n",
        "ZTS      30.53             Health Care\n",
        "\n",
        "[500 rows x 2 columns]"
       ]
      }
     ],
     "prompt_number": 31
    },
    {
     "cell_type": "code",
     "collapsed": false,
     "input": [
      "# attribute access of column by name\n",
      "sp500.Price"
     ],
     "language": "python",
     "metadata": {},
     "outputs": [
      {
       "metadata": {},
       "output_type": "pyout",
       "prompt_number": 32,
       "text": [
        "Symbol\n",
        "MMM       141.14\n",
        "ABT        39.60\n",
        "ABBV       53.95\n",
        "...\n",
        "ZMH       101.84\n",
        "ZION       28.43\n",
        "ZTS        30.53\n",
        "Name: Price, Length: 500, dtype: float64"
       ]
      }
     ],
     "prompt_number": 32
    },
    {
     "cell_type": "code",
     "collapsed": true,
     "input": [
      "# get the position of the column with value of Price\n",
      "loc = sp500.columns.get_loc('Price')\n",
      "loc"
     ],
     "language": "python",
     "metadata": {},
     "outputs": [
      {
       "metadata": {},
       "output_type": "pyout",
       "prompt_number": 33,
       "text": [
        "1"
       ]
      }
     ],
     "prompt_number": 33
    },
    {
     "cell_type": "heading",
     "level": 1,
     "metadata": {},
     "source": [
      "Selecting rows of a DataFrame"
     ]
    },
    {
     "cell_type": "heading",
     "level": 2,
     "metadata": {},
     "source": [
      "Slicing using the [] operator"
     ]
    },
    {
     "cell_type": "code",
     "collapsed": false,
     "input": [
      "# first five rows\n",
      "sp500[:5]"
     ],
     "language": "python",
     "metadata": {},
     "outputs": [
      {
       "metadata": {},
       "output_type": "pyout",
       "prompt_number": 34,
       "text": [
        "                        Sector   Price  Book Value\n",
        "Symbol                                            \n",
        "MMM                Industrials  141.14      26.668\n",
        "ABT                Health Care   39.60      15.573\n",
        "ABBV               Health Care   53.95       2.954\n",
        "ACN     Information Technology   79.79       8.326\n",
        "ACE                 Financials  102.91      86.897"
       ]
      }
     ],
     "prompt_number": 34
    },
    {
     "cell_type": "code",
     "collapsed": false,
     "input": [
      "# ABT through ACN labels\n",
      "sp500['ABT':'ACN']"
     ],
     "language": "python",
     "metadata": {},
     "outputs": [
      {
       "metadata": {},
       "output_type": "pyout",
       "prompt_number": 35,
       "text": [
        "                        Sector  Price  Book Value\n",
        "Symbol                                           \n",
        "ABT                Health Care  39.60      15.573\n",
        "ABBV               Health Care  53.95       2.954\n",
        "ACN     Information Technology  79.79       8.326"
       ]
      }
     ],
     "prompt_number": 35
    },
    {
     "cell_type": "heading",
     "level": 2,
     "metadata": {},
     "source": [
      "Selecting rows by index label and location: .loc[] and .iloc[]"
     ]
    },
    {
     "cell_type": "code",
     "collapsed": true,
     "input": [
      "# get row with label MMM\n",
      "# returned as a Series\n",
      "sp500.loc['MMM']"
     ],
     "language": "python",
     "metadata": {},
     "outputs": [
      {
       "metadata": {},
       "output_type": "pyout",
       "prompt_number": 36,
       "text": [
        "Sector        Industrials\n",
        "Price              141.14\n",
        "Book Value         26.668\n",
        "Name: MMM, dtype: object"
       ]
      }
     ],
     "prompt_number": 36
    },
    {
     "cell_type": "code",
     "collapsed": false,
     "input": [
      "# rows with label MMM and MSFT\n",
      "# this is a DataFrame result\n",
      "sp500.loc[['MMM', 'MSFT']]"
     ],
     "language": "python",
     "metadata": {},
     "outputs": [
      {
       "metadata": {},
       "output_type": "pyout",
       "prompt_number": 37,
       "text": [
        "                        Sector   Price  Book Value\n",
        "Symbol                                            \n",
        "MMM                Industrials  141.14      26.668\n",
        "MSFT    Information Technology   40.12      10.584"
       ]
      }
     ],
     "prompt_number": 37
    },
    {
     "cell_type": "code",
     "collapsed": true,
     "input": [
      "# get rows in location 0 and 2\n",
      "sp500.iloc[[0, 2]]"
     ],
     "language": "python",
     "metadata": {},
     "outputs": [
      {
       "metadata": {},
       "output_type": "pyout",
       "prompt_number": 38,
       "text": [
        "             Sector   Price  Book Value\n",
        "Symbol                                 \n",
        "MMM     Industrials  141.14      26.668\n",
        "ABBV    Health Care   53.95       2.954"
       ]
      }
     ],
     "prompt_number": 38
    },
    {
     "cell_type": "code",
     "collapsed": false,
     "input": [
      "# get the location of MMM and A in the index\n",
      "i1 = sp500.index.get_loc('MMM')\n",
      "i2 = sp500.index.get_loc('A')\n",
      "\"{0} {1}\".format(i1, i2)"
     ],
     "language": "python",
     "metadata": {},
     "outputs": [
      {
       "metadata": {},
       "output_type": "pyout",
       "prompt_number": 39,
       "text": [
        "'0 10'"
       ]
      }
     ],
     "prompt_number": 39
    },
    {
     "cell_type": "code",
     "collapsed": false,
     "input": [
      "# and get the rows\n",
      "sp500.iloc[[i1, i2]]"
     ],
     "language": "python",
     "metadata": {},
     "outputs": [
      {
       "metadata": {},
       "output_type": "pyout",
       "prompt_number": 40,
       "text": [
        "             Sector   Price  Book Value\n",
        "Symbol                                 \n",
        "MMM     Industrials  141.14      26.668\n",
        "A       Health Care   56.18      16.928"
       ]
      }
     ],
     "prompt_number": 40
    },
    {
     "cell_type": "heading",
     "level": 2,
     "metadata": {},
     "source": [
      "Selecting rows by index label and/or location: .ix[]"
     ]
    },
    {
     "cell_type": "code",
     "collapsed": false,
     "input": [
      "# by label\n",
      "sp500.ix[['MSFT', 'ZTS']]"
     ],
     "language": "python",
     "metadata": {},
     "outputs": [
      {
       "metadata": {},
       "output_type": "pyout",
       "prompt_number": 41,
       "text": [
        "                        Sector  Price  Book Value\n",
        "Symbol                                           \n",
        "MSFT    Information Technology  40.12      10.584\n",
        "ZTS                Health Care  30.53       2.150"
       ]
      }
     ],
     "prompt_number": 41
    },
    {
     "cell_type": "code",
     "collapsed": false,
     "input": [
      "# by location\n",
      "sp500.ix[[10, 200, 450]]"
     ],
     "language": "python",
     "metadata": {},
     "outputs": [
      {
       "metadata": {},
       "output_type": "pyout",
       "prompt_number": 42,
       "text": [
        "                  Sector  Price  Book Value\n",
        "Symbol                                     \n",
        "A            Health Care  56.18      16.928\n",
        "GIS     Consumer Staples  53.81      10.236\n",
        "TRV           Financials  92.86      73.056"
       ]
      }
     ],
     "prompt_number": 42
    },
    {
     "cell_type": "heading",
     "level": 2,
     "metadata": {},
     "source": [
      "Scalar lookup by label or location using .at[] and .iat[] "
     ]
    },
    {
     "cell_type": "code",
     "collapsed": false,
     "input": [
      "# by label in both the index and column\n",
      "sp500.at['MMM', 'Price']"
     ],
     "language": "python",
     "metadata": {},
     "outputs": [
      {
       "metadata": {},
       "output_type": "pyout",
       "prompt_number": 43,
       "text": [
        "141.13999999999999"
       ]
      }
     ],
     "prompt_number": 43
    },
    {
     "cell_type": "code",
     "collapsed": false,
     "input": [
      "# by location.  Row 0, column 1\n",
      "sp500.iat[0, 1]"
     ],
     "language": "python",
     "metadata": {},
     "outputs": [
      {
       "metadata": {},
       "output_type": "pyout",
       "prompt_number": 44,
       "text": [
        "141.13999999999999"
       ]
      }
     ],
     "prompt_number": 44
    },
    {
     "cell_type": "heading",
     "level": 2,
     "metadata": {},
     "source": [
      "Selecting rows by Boolean selection"
     ]
    },
    {
     "cell_type": "code",
     "collapsed": true,
     "input": [
      "# what rows have a price < 100?\n",
      "sp500.Price < 100"
     ],
     "language": "python",
     "metadata": {},
     "outputs": [
      {
       "metadata": {},
       "output_type": "pyout",
       "prompt_number": 45,
       "text": [
        "Symbol\n",
        "MMM       False\n",
        "ABT        True\n",
        "ABBV       True\n",
        "...\n",
        "ZMH       False\n",
        "ZION       True\n",
        "ZTS        True\n",
        "Name: Price, Length: 500, dtype: bool"
       ]
      }
     ],
     "prompt_number": 45
    },
    {
     "cell_type": "code",
     "collapsed": true,
     "input": [
      "# now get the rows with Price < 100\n",
      "sp500[sp500.Price < 100]"
     ],
     "language": "python",
     "metadata": {},
     "outputs": [
      {
       "metadata": {},
       "output_type": "pyout",
       "prompt_number": 46,
       "text": [
        "                        Sector  Price  Book Value\n",
        "Symbol                                           \n",
        "ABT                Health Care  39.60      15.573\n",
        "ABBV               Health Care  53.95       2.954\n",
        "ACN     Information Technology  79.79       8.326\n",
        "ADBE    Information Technology  64.30      13.262\n",
        "AES                  Utilities  13.61       5.781\n",
        "...                        ...    ...         ...\n",
        "XYL                Industrials  38.42      12.127\n",
        "YHOO    Information Technology  35.02      12.768\n",
        "YUM     Consumer Discretionary  74.77       5.147\n",
        "ZION                Financials  28.43      30.191\n",
        "ZTS                Health Care  30.53       2.150\n",
        "\n",
        "[407 rows x 3 columns]"
       ]
      }
     ],
     "prompt_number": 46
    },
    {
     "cell_type": "code",
     "collapsed": true,
     "input": [
      "# get only the Price where Price is < 10 and > 0\n",
      "r = sp500[(sp500.Price < 10) & \n",
      "          (sp500.Price > 0)] [['Price']]\n",
      "r"
     ],
     "language": "python",
     "metadata": {},
     "outputs": [
      {
       "metadata": {},
       "output_type": "pyout",
       "prompt_number": 47,
       "text": [
        "        Price\n",
        "Symbol       \n",
        "FTR      5.81\n",
        "HCBK     9.80\n",
        "HBAN     9.10\n",
        "SLM      8.82\n",
        "WIN      9.38"
       ]
      }
     ],
     "prompt_number": 47
    },
    {
     "cell_type": "heading",
     "level": 1,
     "metadata": {},
     "source": [
      "Modifying the structure and contents of a DataFrame"
     ]
    },
    {
     "cell_type": "heading",
     "level": 2,
     "metadata": {},
     "source": [
      "Renaming Columns"
     ]
    },
    {
     "cell_type": "code",
     "collapsed": false,
     "input": [
      "# rename the Book Value column to not have a space\n",
      "# this returns a copy with the column renamed\n",
      "df = sp500.rename(columns=\n",
      "                  {'Book Value': 'BookValue'})\n",
      "# print first 2 rows\n",
      "df[:2]"
     ],
     "language": "python",
     "metadata": {},
     "outputs": [
      {
       "metadata": {},
       "output_type": "pyout",
       "prompt_number": 48,
       "text": [
        "             Sector   Price  BookValue\n",
        "Symbol                                \n",
        "MMM     Industrials  141.14     26.668\n",
        "ABT     Health Care   39.60     15.573"
       ]
      }
     ],
     "prompt_number": 48
    },
    {
     "cell_type": "code",
     "collapsed": false,
     "input": [
      "# verify the columns in the original did not change\n",
      "sp500.columns"
     ],
     "language": "python",
     "metadata": {},
     "outputs": [
      {
       "metadata": {},
       "output_type": "pyout",
       "prompt_number": 49,
       "text": [
        "Index([u'Sector', u'Price', u'Book Value'], dtype='object')"
       ]
      }
     ],
     "prompt_number": 49
    },
    {
     "cell_type": "code",
     "collapsed": true,
     "input": [
      "# this changes the column in-place\n",
      "sp500.rename(columns=                  \n",
      "             {'Book Value': 'BookValue'},                   \n",
      "             inplace=True)\n",
      "# we can see the column is changed\n",
      "sp500.columns"
     ],
     "language": "python",
     "metadata": {},
     "outputs": [
      {
       "metadata": {},
       "output_type": "pyout",
       "prompt_number": 50,
       "text": [
        "Index([u'Sector', u'Price', u'BookValue'], dtype='object')"
       ]
      }
     ],
     "prompt_number": 50
    },
    {
     "cell_type": "code",
     "collapsed": false,
     "input": [
      "# and now we can use .BookValue\n",
      "sp500.BookValue[:5]"
     ],
     "language": "python",
     "metadata": {},
     "outputs": [
      {
       "metadata": {},
       "output_type": "pyout",
       "prompt_number": 51,
       "text": [
        "Symbol\n",
        "MMM       26.668\n",
        "ABT       15.573\n",
        "ABBV       2.954\n",
        "ACN        8.326\n",
        "ACE       86.897\n",
        "Name: BookValue, dtype: float64"
       ]
      }
     ],
     "prompt_number": 51
    },
    {
     "cell_type": "heading",
     "level": 2,
     "metadata": {},
     "source": [
      "Adding and inserting columns\t"
     ]
    },
    {
     "cell_type": "code",
     "collapsed": true,
     "input": [
      "# make a copy\n",
      "copy = sp500.copy()\n",
      "# add a new column to the copy\n",
      "copy['TwicePrice'] = sp500.Price * 2\n",
      "copy[:2]"
     ],
     "language": "python",
     "metadata": {},
     "outputs": [
      {
       "metadata": {},
       "output_type": "pyout",
       "prompt_number": 52,
       "text": [
        "             Sector   Price  BookValue  TwicePrice\n",
        "Symbol                                            \n",
        "MMM     Industrials  141.14     26.668      282.28\n",
        "ABT     Health Care   39.60     15.573       79.20"
       ]
      }
     ],
     "prompt_number": 52
    },
    {
     "cell_type": "code",
     "collapsed": true,
     "input": [
      "copy = sp500.copy()\n",
      "# insert sp500.Price * 2 as the \n",
      "# second column in the DataFrame\n",
      "copy.insert(1, 'TwicePrice', sp500.Price * 2)\n",
      "copy[:2]"
     ],
     "language": "python",
     "metadata": {},
     "outputs": [
      {
       "metadata": {},
       "output_type": "pyout",
       "prompt_number": 53,
       "text": [
        "             Sector  TwicePrice   Price  BookValue\n",
        "Symbol                                            \n",
        "MMM     Industrials      282.28  141.14     26.668\n",
        "ABT     Health Care       79.20   39.60     15.573"
       ]
      }
     ],
     "prompt_number": 53
    },
    {
     "cell_type": "code",
     "collapsed": true,
     "input": [
      "# extract the first four rows and just the Price column\n",
      "rcopy = sp500[0:3][['Price']].copy()\n",
      "rcopy"
     ],
     "language": "python",
     "metadata": {},
     "outputs": [
      {
       "metadata": {},
       "output_type": "pyout",
       "prompt_number": 54,
       "text": [
        "         Price\n",
        "Symbol        \n",
        "MMM     141.14\n",
        "ABT      39.60\n",
        "ABBV     53.95"
       ]
      }
     ],
     "prompt_number": 54
    },
    {
     "cell_type": "code",
     "collapsed": false,
     "input": [
      "# new create a new Series to merge as a column\n",
      "# one label exists in rcopy (MSFT), and MMM does not\n",
      "s = pd.Series(\n",
      "              {'MMM': 'Is in the DataFrame', \n",
      "               'MSFT': 'Not in the DataFrame'} )\n",
      "s"
     ],
     "language": "python",
     "metadata": {},
     "outputs": [
      {
       "metadata": {},
       "output_type": "pyout",
       "prompt_number": 55,
       "text": [
        "MMM      Is in the DataFrame\n",
        "MSFT    Not in the DataFrame\n",
        "dtype: object"
       ]
      }
     ],
     "prompt_number": 55
    },
    {
     "cell_type": "code",
     "collapsed": false,
     "input": [
      "# add rcopy into a column named 'Comment'\n",
      "rcopy['Comment'] = s\n",
      "rcopy"
     ],
     "language": "python",
     "metadata": {},
     "outputs": [
      {
       "metadata": {},
       "output_type": "pyout",
       "prompt_number": 56,
       "text": [
        "         Price              Comment\n",
        "Symbol                             \n",
        "MMM     141.14  Is in the DataFrame\n",
        "ABT      39.60                  NaN\n",
        "ABBV     53.95                  NaN"
       ]
      }
     ],
     "prompt_number": 56
    },
    {
     "cell_type": "heading",
     "level": 2,
     "metadata": {},
     "source": [
      "Replacing the contents of a column"
     ]
    },
    {
     "cell_type": "code",
     "collapsed": true,
     "input": [
      "copy = sp500.copy()\n",
      "# replace the Price column data with the new values\n",
      "# instead of adding a new column\n",
      "copy.Price = sp500.Price * 2\n",
      "copy[:5]"
     ],
     "language": "python",
     "metadata": {},
     "outputs": [
      {
       "metadata": {},
       "output_type": "pyout",
       "prompt_number": 57,
       "text": [
        "                        Sector   Price  BookValue\n",
        "Symbol                                           \n",
        "MMM                Industrials  282.28     26.668\n",
        "ABT                Health Care   79.20     15.573\n",
        "ABBV               Health Care  107.90      2.954\n",
        "ACN     Information Technology  159.58      8.326\n",
        "ACE                 Financials  205.82     86.897"
       ]
      }
     ],
     "prompt_number": 57
    },
    {
     "cell_type": "code",
     "collapsed": false,
     "input": [
      "# copy all 500 rows\n",
      "copy = sp500.copy()\n",
      "# this just copies the first 2 rows of prices\n",
      "prices = sp500.iloc[[3, 1, 0]].Price.copy()\n",
      "# examine the extracted prices\n",
      "prices"
     ],
     "language": "python",
     "metadata": {},
     "outputs": [
      {
       "metadata": {},
       "output_type": "pyout",
       "prompt_number": 58,
       "text": [
        "Symbol\n",
        "ACN        79.79\n",
        "ABT        39.60\n",
        "MMM       141.14\n",
        "Name: Price, dtype: float64"
       ]
      }
     ],
     "prompt_number": 58
    },
    {
     "cell_type": "code",
     "collapsed": false,
     "input": [
      "# now replace the Prices column with prices\n",
      "copy.Price = prices\n",
      "# it's not really simple insertion, it is alignment\n",
      "# values are put in the correct place according to labels\n",
      "copy"
     ],
     "language": "python",
     "metadata": {},
     "outputs": [
      {
       "metadata": {},
       "output_type": "pyout",
       "prompt_number": 59,
       "text": [
        "                        Sector   Price  BookValue\n",
        "Symbol                                           \n",
        "MMM                Industrials  141.14     26.668\n",
        "ABT                Health Care   39.60     15.573\n",
        "ABBV               Health Care     NaN      2.954\n",
        "ACN     Information Technology   79.79      8.326\n",
        "ACE                 Financials     NaN     86.897\n",
        "...                        ...     ...        ...\n",
        "YHOO    Information Technology     NaN     12.768\n",
        "YUM     Consumer Discretionary     NaN      5.147\n",
        "ZMH                Health Care     NaN     37.181\n",
        "ZION                Financials     NaN     30.191\n",
        "ZTS                Health Care     NaN      2.150\n",
        "\n",
        "[500 rows x 3 columns]"
       ]
      }
     ],
     "prompt_number": 59
    },
    {
     "cell_type": "heading",
     "level": 2,
     "metadata": {},
     "source": [
      "Deleting columns in a DataFrame"
     ]
    },
    {
     "cell_type": "code",
     "collapsed": true,
     "input": [
      "# Example of using del to delete a column\n",
      "# make a copy of a subset of the data frame\n",
      "copy = sp500[:2].copy()\n",
      "copy"
     ],
     "language": "python",
     "metadata": {},
     "outputs": [
      {
       "metadata": {},
       "output_type": "pyout",
       "prompt_number": 60,
       "text": [
        "             Sector   Price  BookValue\n",
        "Symbol                                \n",
        "MMM     Industrials  141.14     26.668\n",
        "ABT     Health Care   39.60     15.573"
       ]
      }
     ],
     "prompt_number": 60
    },
    {
     "cell_type": "code",
     "collapsed": false,
     "input": [
      "# delete the BookValue column\n",
      "# deletion is in-place\n",
      "del copy['BookValue']\n",
      "copy"
     ],
     "language": "python",
     "metadata": {},
     "outputs": [
      {
       "metadata": {},
       "output_type": "pyout",
       "prompt_number": 61,
       "text": [
        "             Sector   Price\n",
        "Symbol                     \n",
        "MMM     Industrials  141.14\n",
        "ABT     Health Care   39.60"
       ]
      }
     ],
     "prompt_number": 61
    },
    {
     "cell_type": "code",
     "collapsed": true,
     "input": [
      "# Example of using pop to remove a column from a DataFrame\n",
      "# first make a copy of a subset of the data frame\n",
      "# pop works in place\n",
      "copy = sp500[:2].copy()\n",
      "# this will remove Sector and return it as a series\n",
      "popped = copy.pop('Sector')\n",
      "# Sector column removed in-place\n",
      "copy"
     ],
     "language": "python",
     "metadata": {},
     "outputs": [
      {
       "metadata": {},
       "output_type": "pyout",
       "prompt_number": 62,
       "text": [
        "         Price  BookValue\n",
        "Symbol                   \n",
        "MMM     141.14     26.668\n",
        "ABT      39.60     15.573"
       ]
      }
     ],
     "prompt_number": 62
    },
    {
     "cell_type": "code",
     "collapsed": false,
     "input": [
      "# and we have the Sector column as the result of the pop\n",
      "popped"
     ],
     "language": "python",
     "metadata": {},
     "outputs": [
      {
       "metadata": {},
       "output_type": "pyout",
       "prompt_number": 63,
       "text": [
        "Symbol\n",
        "MMM       Industrials\n",
        "ABT       Health Care\n",
        "Name: Sector, dtype: object"
       ]
      }
     ],
     "prompt_number": 63
    },
    {
     "cell_type": "code",
     "collapsed": true,
     "input": [
      "# Example of using drop to remove a column \n",
      "# make a copy of a subset of the data frame\n",
      "copy = sp500[:2].copy()\n",
      "# this will return a new DataFrame with 'Sector\u2019 removed\n",
      "# the copy DataFrame is not modified\n",
      "afterdrop = copy.drop(['Sector'], axis = 1)\n",
      "afterdrop"
     ],
     "language": "python",
     "metadata": {},
     "outputs": [
      {
       "metadata": {},
       "output_type": "pyout",
       "prompt_number": 64,
       "text": [
        "         Price  BookValue\n",
        "Symbol                   \n",
        "MMM     141.14     26.668\n",
        "ABT      39.60     15.573"
       ]
      }
     ],
     "prompt_number": 64
    },
    {
     "cell_type": "heading",
     "level": 2,
     "metadata": {},
     "source": [
      "Adding rows to a DataFrame"
     ]
    },
    {
     "cell_type": "heading",
     "level": 3,
     "metadata": {},
     "source": [
      "Appending rows with .append()"
     ]
    },
    {
     "cell_type": "code",
     "collapsed": true,
     "input": [
      "# copy the first three rows of sp500\n",
      "df1 = sp500.iloc[0:3].copy()\n",
      "# copy 10th and 11th rows\n",
      "df2 = sp500.iloc[[10, 11, 2]]\n",
      "# append df1 and df2\n",
      "appended = df1.append(df2)\n",
      "# the result is the rows of the first followed by \n",
      "# those of the second\n",
      "appended"
     ],
     "language": "python",
     "metadata": {},
     "outputs": [
      {
       "metadata": {},
       "output_type": "pyout",
       "prompt_number": 65,
       "text": [
        "             Sector   Price  BookValue\n",
        "Symbol                                \n",
        "MMM     Industrials  141.14     26.668\n",
        "ABT     Health Care   39.60     15.573\n",
        "ABBV    Health Care   53.95      2.954\n",
        "A       Health Care   56.18     16.928\n",
        "GAS       Utilities   52.98     32.462\n",
        "ABBV    Health Care   53.95      2.954"
       ]
      }
     ],
     "prompt_number": 65
    },
    {
     "cell_type": "code",
     "collapsed": true,
     "input": [
      "# data frame using df1.index and just a PER column\n",
      "# also a good example of using a scalar value\n",
      "# to initialize multiple rows\n",
      "df3 = pd.DataFrame(0.0, \n",
      "                   index=df1.index,\n",
      "                   columns=['PER'])\n",
      "df3"
     ],
     "language": "python",
     "metadata": {},
     "outputs": [
      {
       "metadata": {},
       "output_type": "pyout",
       "prompt_number": 66,
       "text": [
        "        PER\n",
        "Symbol     \n",
        "MMM       0\n",
        "ABT       0\n",
        "ABBV      0"
       ]
      }
     ],
     "prompt_number": 66
    },
    {
     "cell_type": "code",
     "collapsed": false,
     "input": [
      "# append df1 and df3\n",
      "# each has three rows, so 6 rows is the result\n",
      "# df1 had no PER column, so NaN from for those rows\n",
      "# df3 had no BookValue, Price or Sector, so NaN's\n",
      "df1.append(df3)"
     ],
     "language": "python",
     "metadata": {},
     "outputs": [
      {
       "metadata": {},
       "output_type": "pyout",
       "prompt_number": 67,
       "text": [
        "        BookValue  PER   Price       Sector\n",
        "Symbol                                     \n",
        "MMM        26.668  NaN  141.14  Industrials\n",
        "ABT        15.573  NaN   39.60  Health Care\n",
        "ABBV        2.954  NaN   53.95  Health Care\n",
        "MMM           NaN    0     NaN          NaN\n",
        "ABT           NaN    0     NaN          NaN\n",
        "ABBV          NaN    0     NaN          NaN"
       ]
      }
     ],
     "prompt_number": 67
    },
    {
     "cell_type": "code",
     "collapsed": true,
     "input": [
      "# ignore index labels, create default index\n",
      "df1.append(df3, ignore_index=True)"
     ],
     "language": "python",
     "metadata": {},
     "outputs": [
      {
       "metadata": {},
       "output_type": "pyout",
       "prompt_number": 68,
       "text": [
        "   BookValue  PER   Price       Sector\n",
        "0     26.668  NaN  141.14  Industrials\n",
        "1     15.573  NaN   39.60  Health Care\n",
        "2      2.954  NaN   53.95  Health Care\n",
        "3        NaN    0     NaN          NaN\n",
        "4        NaN    0     NaN          NaN\n",
        "5        NaN    0     NaN          NaN"
       ]
      }
     ],
     "prompt_number": 68
    },
    {
     "cell_type": "heading",
     "level": 3,
     "metadata": {},
     "source": [
      "Concatenating DataFrame objects with pd.concat()"
     ]
    },
    {
     "cell_type": "code",
     "collapsed": false,
     "input": [
      "# copy the first three rows of sp500\n",
      "df1 = sp500.iloc[0:3].copy()\n",
      "# copy 10th and 11th rows\n",
      "df2 = sp500.iloc[[10, 11, 2]]\n",
      "# pass them as a list\n",
      "pd.concat([df1, df2])"
     ],
     "language": "python",
     "metadata": {},
     "outputs": [
      {
       "metadata": {},
       "output_type": "pyout",
       "prompt_number": 69,
       "text": [
        "             Sector   Price  BookValue\n",
        "Symbol                                \n",
        "MMM     Industrials  141.14     26.668\n",
        "ABT     Health Care   39.60     15.573\n",
        "ABBV    Health Care   53.95      2.954\n",
        "A       Health Care   56.18     16.928\n",
        "GAS       Utilities   52.98     32.462\n",
        "ABBV    Health Care   53.95      2.954"
       ]
      }
     ],
     "prompt_number": 69
    },
    {
     "cell_type": "code",
     "collapsed": false,
     "input": [
      "# copy df2\n",
      "df2_2 = df2.copy()\n",
      "# add a column to df2_2 that is not in df1\n",
      "df2_2.insert(3, 'Foo', pd.Series(0, index=df2.index))\n",
      "# see what it looks like\n",
      "df2_2"
     ],
     "language": "python",
     "metadata": {},
     "outputs": [
      {
       "metadata": {},
       "output_type": "pyout",
       "prompt_number": 70,
       "text": [
        "             Sector  Price  BookValue  Foo\n",
        "Symbol                                    \n",
        "A       Health Care  56.18     16.928    0\n",
        "GAS       Utilities  52.98     32.462    0\n",
        "ABBV    Health Care  53.95      2.954    0"
       ]
      }
     ],
     "prompt_number": 70
    },
    {
     "cell_type": "code",
     "collapsed": false,
     "input": [
      "# now concatenate\n",
      "pd.concat([df1, df2_2])"
     ],
     "language": "python",
     "metadata": {},
     "outputs": [
      {
       "metadata": {},
       "output_type": "pyout",
       "prompt_number": 71,
       "text": [
        "        BookValue  Foo   Price       Sector\n",
        "Symbol                                     \n",
        "MMM        26.668  NaN  141.14  Industrials\n",
        "ABT        15.573  NaN   39.60  Health Care\n",
        "ABBV        2.954  NaN   53.95  Health Care\n",
        "A          16.928    0   56.18  Health Care\n",
        "GAS        32.462    0   52.98    Utilities\n",
        "ABBV        2.954    0   53.95  Health Care"
       ]
      }
     ],
     "prompt_number": 71
    },
    {
     "cell_type": "code",
     "collapsed": false,
     "input": [
      "# specify keys\n",
      "r = pd.concat([df1, df2_2], keys=['df1', 'df2'])\n",
      "r"
     ],
     "language": "python",
     "metadata": {},
     "outputs": [
      {
       "metadata": {},
       "output_type": "pyout",
       "prompt_number": 72,
       "text": [
        "            BookValue  Foo   Price       Sector\n",
        "    Symbol                                     \n",
        "df1 MMM        26.668  NaN  141.14  Industrials\n",
        "    ABT        15.573  NaN   39.60  Health Care\n",
        "    ABBV        2.954  NaN   53.95  Health Care\n",
        "df2 A          16.928    0   56.18  Health Care\n",
        "    GAS        32.462    0   52.98    Utilities\n",
        "    ABBV        2.954    0   53.95  Health Care"
       ]
      }
     ],
     "prompt_number": 72
    },
    {
     "cell_type": "code",
     "collapsed": false,
     "input": [
      "# first three rows, columns 0 and 1\n",
      "df3 = sp500[:3][[0, 1]]\n",
      "df3"
     ],
     "language": "python",
     "metadata": {},
     "outputs": [
      {
       "metadata": {},
       "output_type": "pyout",
       "prompt_number": 73,
       "text": [
        "             Sector   Price\n",
        "Symbol                     \n",
        "MMM     Industrials  141.14\n",
        "ABT     Health Care   39.60\n",
        "ABBV    Health Care   53.95"
       ]
      }
     ],
     "prompt_number": 73
    },
    {
     "cell_type": "code",
     "collapsed": false,
     "input": [
      "# first three rows, column 2\n",
      "df4 = sp500[:3][[2]]\n",
      "df4"
     ],
     "language": "python",
     "metadata": {},
     "outputs": [
      {
       "metadata": {},
       "output_type": "pyout",
       "prompt_number": 74,
       "text": [
        "        BookValue\n",
        "Symbol           \n",
        "MMM        26.668\n",
        "ABT        15.573\n",
        "ABBV        2.954"
       ]
      }
     ],
     "prompt_number": 74
    },
    {
     "cell_type": "code",
     "collapsed": false,
     "input": [
      "# put them back together\n",
      "pd.concat([df3, df4], axis=1)"
     ],
     "language": "python",
     "metadata": {},
     "outputs": [
      {
       "metadata": {},
       "output_type": "pyout",
       "prompt_number": 75,
       "text": [
        "             Sector   Price  BookValue\n",
        "Symbol                                \n",
        "MMM     Industrials  141.14     26.668\n",
        "ABT     Health Care   39.60     15.573\n",
        "ABBV    Health Care   53.95      2.954"
       ]
      }
     ],
     "prompt_number": 75
    },
    {
     "cell_type": "code",
     "collapsed": false,
     "input": [
      "# make a copy of df4\n",
      "df4_2 = df4.copy()\n",
      "# add a column to df4_2, that is also in df3\n",
      "df4_2.insert(1, 'Sector', pd.Series(1, index=df4_2.index))\n",
      "df4_2"
     ],
     "language": "python",
     "metadata": {},
     "outputs": [
      {
       "metadata": {},
       "output_type": "pyout",
       "prompt_number": 76,
       "text": [
        "        BookValue  Sector\n",
        "Symbol                   \n",
        "MMM        26.668       1\n",
        "ABT        15.573       1\n",
        "ABBV        2.954       1"
       ]
      }
     ],
     "prompt_number": 76
    },
    {
     "cell_type": "code",
     "collapsed": false,
     "input": [
      "# demonstrate duplicate columns\n",
      "pd.concat([df3, df4_2], axis=1)"
     ],
     "language": "python",
     "metadata": {},
     "outputs": [
      {
       "metadata": {},
       "output_type": "pyout",
       "prompt_number": 77,
       "text": [
        "             Sector   Price  BookValue  Sector\n",
        "Symbol                                        \n",
        "MMM     Industrials  141.14     26.668       1\n",
        "ABT     Health Care   39.60     15.573       1\n",
        "ABBV    Health Care   53.95      2.954       1"
       ]
      }
     ],
     "prompt_number": 77
    },
    {
     "cell_type": "code",
     "collapsed": false,
     "input": [
      "# first three rows and first two columns\n",
      "df5 = sp500[:3][[0, 1]]\n",
      "df5"
     ],
     "language": "python",
     "metadata": {},
     "outputs": [
      {
       "metadata": {},
       "output_type": "pyout",
       "prompt_number": 78,
       "text": [
        "             Sector   Price\n",
        "Symbol                     \n",
        "MMM     Industrials  141.14\n",
        "ABT     Health Care   39.60\n",
        "ABBV    Health Care   53.95"
       ]
      }
     ],
     "prompt_number": 78
    },
    {
     "cell_type": "code",
     "collapsed": false,
     "input": [
      "# row 2 through 4 and first two columns\n",
      "df6 = sp500[2:5][[0,1]]\n",
      "df6"
     ],
     "language": "python",
     "metadata": {},
     "outputs": [
      {
       "metadata": {},
       "output_type": "pyout",
       "prompt_number": 79,
       "text": [
        "                        Sector   Price\n",
        "Symbol                                \n",
        "ABBV               Health Care   53.95\n",
        "ACN     Information Technology   79.79\n",
        "ACE                 Financials  102.91"
       ]
      }
     ],
     "prompt_number": 79
    },
    {
     "cell_type": "code",
     "collapsed": false,
     "input": [
      "# inner join on index labels will return in only one row\n",
      "pd.concat([df5, df6], join='inner', axis=1)"
     ],
     "language": "python",
     "metadata": {},
     "outputs": [
      {
       "metadata": {},
       "output_type": "pyout",
       "prompt_number": 80,
       "text": [
        "             Sector  Price       Sector  Price\n",
        "Symbol                                        \n",
        "ABBV    Health Care  53.95  Health Care  53.95"
       ]
      }
     ],
     "prompt_number": 80
    },
    {
     "cell_type": "heading",
     "level": 3,
     "metadata": {},
     "source": [
      "Adding rows via setting with enlargement"
     ]
    },
    {
     "cell_type": "code",
     "collapsed": false,
     "input": [
      "# get a small subset of the sp500 \n",
      "# make sure to copy the slice to make a copy\n",
      "ss = sp500[:3].copy()\n",
      "# create a new row with index label FOO\n",
      "# and assign some values to the columns via a list\n",
      "ss.loc['FOO'] = ['the sector', 100, 110]\n",
      "ss"
     ],
     "language": "python",
     "metadata": {},
     "outputs": [
      {
       "metadata": {},
       "output_type": "pyout",
       "prompt_number": 81,
       "text": [
        "           Sector   Price  BookValue\n",
        "MMM   Industrials  141.14     26.668\n",
        "ABT   Health Care   39.60     15.573\n",
        "ABBV  Health Care   53.95      2.954\n",
        "FOO    the sector  100.00    110.000"
       ]
      }
     ],
     "prompt_number": 81
    },
    {
     "cell_type": "code",
     "collapsed": false,
     "input": [
      "# copy of subset / slice\n",
      "ss = sp500[:3].copy()\n",
      "# add the new column initialized to 0\n",
      "ss.loc[:,'PER'] = 0\n",
      "# take a look at the results\n",
      "ss"
     ],
     "language": "python",
     "metadata": {},
     "outputs": [
      {
       "metadata": {},
       "output_type": "pyout",
       "prompt_number": 82,
       "text": [
        "             Sector   Price  BookValue  PER\n",
        "Symbol                                     \n",
        "MMM     Industrials  141.14     26.668    0\n",
        "ABT     Health Care   39.60     15.573    0\n",
        "ABBV    Health Care   53.95      2.954    0"
       ]
      }
     ],
     "prompt_number": 82
    },
    {
     "cell_type": "heading",
     "level": 2,
     "metadata": {},
     "source": [
      "Removing rows from a DataFrame"
     ]
    },
    {
     "cell_type": "code",
     "collapsed": true,
     "input": [
      "# get a copy of the first 5 rows of sp500\n",
      "ss = sp500[:5].copy()\n",
      "ss"
     ],
     "language": "python",
     "metadata": {},
     "outputs": [
      {
       "metadata": {},
       "output_type": "pyout",
       "prompt_number": 83,
       "text": [
        "                        Sector   Price  BookValue\n",
        "Symbol                                           \n",
        "MMM                Industrials  141.14     26.668\n",
        "ABT                Health Care   39.60     15.573\n",
        "ABBV               Health Care   53.95      2.954\n",
        "ACN     Information Technology   79.79      8.326\n",
        "ACE                 Financials  102.91     86.897"
       ]
      }
     ],
     "prompt_number": 83
    },
    {
     "cell_type": "code",
     "collapsed": false,
     "input": [
      "# drop rows with labels ABT and ACN\n",
      "afterdrop = ss.drop(['ABT', 'ACN'])\n",
      "afterdrop"
     ],
     "language": "python",
     "metadata": {},
     "outputs": [
      {
       "metadata": {},
       "output_type": "pyout",
       "prompt_number": 84,
       "text": [
        "             Sector   Price  BookValue\n",
        "Symbol                                \n",
        "MMM     Industrials  141.14     26.668\n",
        "ABBV    Health Care   53.95      2.954\n",
        "ACE      Financials  102.91     86.897"
       ]
      }
     ],
     "prompt_number": 84
    },
    {
     "cell_type": "code",
     "collapsed": false,
     "input": [
      "# note that ss is not modified\n",
      "ss"
     ],
     "language": "python",
     "metadata": {},
     "outputs": [
      {
       "metadata": {},
       "output_type": "pyout",
       "prompt_number": 85,
       "text": [
        "                        Sector   Price  BookValue\n",
        "Symbol                                           \n",
        "MMM                Industrials  141.14     26.668\n",
        "ABT                Health Care   39.60     15.573\n",
        "ABBV               Health Care   53.95      2.954\n",
        "ACN     Information Technology   79.79      8.326\n",
        "ACE                 Financials  102.91     86.897"
       ]
      }
     ],
     "prompt_number": 85
    },
    {
     "cell_type": "heading",
     "level": 3,
     "metadata": {},
     "source": [
      "Removing rows using Boolean selection"
     ]
    },
    {
     "cell_type": "code",
     "collapsed": true,
     "input": [
      "# determine the rows where Price > 300\n",
      "selection = sp500.Price > 300\n",
      "# to make output shorter, report the # of rows returned (500), \n",
      "# and the sum of those where Price > 300 (which is 10)\n",
      "\"{0} {1}\".format(len(selection), selection.sum())"
     ],
     "language": "python",
     "metadata": {},
     "outputs": [
      {
       "metadata": {},
       "output_type": "pyout",
       "prompt_number": 86,
       "text": [
        "'500 10'"
       ]
      }
     ],
     "prompt_number": 86
    },
    {
     "cell_type": "code",
     "collapsed": true,
     "input": [
      "# select the complement\n",
      "withPriceLessThan300 = sp500[~selection]\n",
      "withPriceLessThan300"
     ],
     "language": "python",
     "metadata": {},
     "outputs": [
      {
       "metadata": {},
       "output_type": "pyout",
       "prompt_number": 87,
       "text": [
        "                        Sector   Price  BookValue\n",
        "Symbol                                           \n",
        "MMM                Industrials  141.14     26.668\n",
        "ABT                Health Care   39.60     15.573\n",
        "ABBV               Health Care   53.95      2.954\n",
        "ACN     Information Technology   79.79      8.326\n",
        "ACE                 Financials  102.91     86.897\n",
        "...                        ...     ...        ...\n",
        "YHOO    Information Technology   35.02     12.768\n",
        "YUM     Consumer Discretionary   74.77      5.147\n",
        "ZMH                Health Care  101.84     37.181\n",
        "ZION                Financials   28.43     30.191\n",
        "ZTS                Health Care   30.53      2.150\n",
        "\n",
        "[490 rows x 3 columns]"
       ]
      }
     ],
     "prompt_number": 87
    },
    {
     "cell_type": "heading",
     "level": 3,
     "metadata": {},
     "source": [
      "Removing rows using a slice"
     ]
    },
    {
     "cell_type": "code",
     "collapsed": true,
     "input": [
      "# get only the first three rows\n",
      "onlyFirstThree = sp500[:3]\n",
      "onlyFirstThree"
     ],
     "language": "python",
     "metadata": {},
     "outputs": [
      {
       "metadata": {},
       "output_type": "pyout",
       "prompt_number": 88,
       "text": [
        "             Sector   Price  BookValue\n",
        "Symbol                                \n",
        "MMM     Industrials  141.14     26.668\n",
        "ABT     Health Care   39.60     15.573\n",
        "ABBV    Health Care   53.95      2.954"
       ]
      }
     ],
     "prompt_number": 88
    },
    {
     "cell_type": "code",
     "collapsed": false,
     "input": [
      "# first three, but a copy of them\n",
      "onlyFirstThree = sp500[:3].copy()\n",
      "onlyFirstThree"
     ],
     "language": "python",
     "metadata": {},
     "outputs": [
      {
       "metadata": {},
       "output_type": "pyout",
       "prompt_number": 89,
       "text": [
        "             Sector   Price  BookValue\n",
        "Symbol                                \n",
        "MMM     Industrials  141.14     26.668\n",
        "ABT     Health Care   39.60     15.573\n",
        "ABBV    Health Care   53.95      2.954"
       ]
      }
     ],
     "prompt_number": 89
    },
    {
     "cell_type": "heading",
     "level": 2,
     "metadata": {},
     "source": [
      "Changing scalar values in a DataFrame"
     ]
    },
    {
     "cell_type": "code",
     "collapsed": false,
     "input": [
      "# get a subset / copy of the data\n",
      "subset = sp500[:3].copy()\n",
      "subset"
     ],
     "language": "python",
     "metadata": {},
     "outputs": [
      {
       "metadata": {},
       "output_type": "pyout",
       "prompt_number": 90,
       "text": [
        "             Sector   Price  BookValue\n",
        "Symbol                                \n",
        "MMM     Industrials  141.14     26.668\n",
        "ABT     Health Care   39.60     15.573\n",
        "ABBV    Health Care   53.95      2.954"
       ]
      }
     ],
     "prompt_number": 90
    },
    {
     "cell_type": "code",
     "collapsed": false,
     "input": [
      "# change scalar by label on row and column\n",
      "subset.ix['MMM', 'Price'] = 0\n",
      "subset"
     ],
     "language": "python",
     "metadata": {},
     "outputs": [
      {
       "metadata": {},
       "output_type": "pyout",
       "prompt_number": 91,
       "text": [
        "             Sector  Price  BookValue\n",
        "Symbol                               \n",
        "MMM     Industrials   0.00     26.668\n",
        "ABT     Health Care  39.60     15.573\n",
        "ABBV    Health Care  53.95      2.954"
       ]
      }
     ],
     "prompt_number": 91
    },
    {
     "cell_type": "code",
     "collapsed": false,
     "input": [
      "subset = sp500[:3].copy()\n",
      "subset.loc['MMM', 'Price'] = 10\n",
      "subset.loc['ABBV', 'Price'] = 20\n",
      "subset"
     ],
     "language": "python",
     "metadata": {},
     "outputs": [
      {
       "metadata": {},
       "output_type": "pyout",
       "prompt_number": 92,
       "text": [
        "             Sector  Price  BookValue\n",
        "Symbol                               \n",
        "MMM     Industrials   10.0     26.668\n",
        "ABT     Health Care   39.6     15.573\n",
        "ABBV    Health Care   20.0      2.954"
       ]
      }
     ],
     "prompt_number": 92
    },
    {
     "cell_type": "code",
     "collapsed": false,
     "input": [
      "# subset of the first three rows\n",
      "subset = sp500[:3].copy()\n",
      "# get the location of the Price column\n",
      "price_loc = sp500.columns.get_loc('Price')\n",
      "# get the location of the MMM row\n",
      "abt_row_loc = sp500.index.get_loc('ABT')\n",
      "# change the price\n",
      "subset.iloc[abt_row_loc, price_loc] = 1000\n",
      "subset"
     ],
     "language": "python",
     "metadata": {},
     "outputs": [
      {
       "metadata": {},
       "output_type": "pyout",
       "prompt_number": 93,
       "text": [
        "             Sector    Price  BookValue\n",
        "Symbol                                 \n",
        "MMM     Industrials   141.14     26.668\n",
        "ABT     Health Care  1000.00     15.573\n",
        "ABBV    Health Care    53.95      2.954"
       ]
      }
     ],
     "prompt_number": 93
    },
    {
     "cell_type": "heading",
     "level": 1,
     "metadata": {},
     "source": [
      "Arithmetic on a DataFrame"
     ]
    },
    {
     "cell_type": "code",
     "collapsed": true,
     "input": [
      "# set the seed to allow replicatable results\n",
      "np.random.seed(123456)\n",
      "# create the DataFrame\n",
      "df = pd.DataFrame(np.random.randn(5, 4), \n",
      "                  columns=['A', 'B', 'C', 'D'])\n",
      "df"
     ],
     "language": "python",
     "metadata": {},
     "outputs": [
      {
       "metadata": {},
       "output_type": "pyout",
       "prompt_number": 94,
       "text": [
        "          A         B         C         D\n",
        "0  0.469112 -0.282863 -1.509059 -1.135632\n",
        "1  1.212112 -0.173215  0.119209 -1.044236\n",
        "2 -0.861849 -2.104569 -0.494929  1.071804\n",
        "3  0.721555 -0.706771 -1.039575  0.271860\n",
        "4 -0.424972  0.567020  0.276232 -1.087401"
       ]
      }
     ],
     "prompt_number": 94
    },
    {
     "cell_type": "code",
     "collapsed": true,
     "input": [
      "# multiply everything by 2\n",
      "df * 2"
     ],
     "language": "python",
     "metadata": {},
     "outputs": [
      {
       "metadata": {},
       "output_type": "pyout",
       "prompt_number": 95,
       "text": [
        "          A         B         C         D\n",
        "0  0.938225 -0.565727 -3.018117 -2.271265\n",
        "1  2.424224 -0.346429  0.238417 -2.088472\n",
        "2 -1.723698 -4.209138 -0.989859  2.143608\n",
        "3  1.443110 -1.413542 -2.079150  0.543720\n",
        "4 -0.849945  1.134041  0.552464 -2.174801"
       ]
      }
     ],
     "prompt_number": 95
    },
    {
     "cell_type": "code",
     "collapsed": true,
     "input": [
      "# get first row \n",
      "s = df.iloc[0] \n",
      "# subtract first row from every row of the DataFrame\n",
      "diff = df - s \n",
      "diff"
     ],
     "language": "python",
     "metadata": {},
     "outputs": [
      {
       "metadata": {},
       "output_type": "pyout",
       "prompt_number": 96,
       "text": [
        "          A         B         C         D\n",
        "0  0.000000  0.000000  0.000000  0.000000\n",
        "1  0.743000  0.109649  1.628267  0.091396\n",
        "2 -1.330961 -1.821706  1.014129  2.207436\n",
        "3  0.252443 -0.423908  0.469484  1.407492\n",
        "4 -0.894085  0.849884  1.785291  0.048232"
       ]
      }
     ],
     "prompt_number": 96
    },
    {
     "cell_type": "code",
     "collapsed": true,
     "input": [
      "# subtract DataFrame from Series\n",
      "diff2 = s - df\n",
      "diff2"
     ],
     "language": "python",
     "metadata": {},
     "outputs": [
      {
       "metadata": {},
       "output_type": "pyout",
       "prompt_number": 97,
       "text": [
        "          A         B         C         D\n",
        "0  0.000000  0.000000  0.000000  0.000000\n",
        "1 -0.743000 -0.109649 -1.628267 -0.091396\n",
        "2  1.330961  1.821706 -1.014129 -2.207436\n",
        "3 -0.252443  0.423908 -0.469484 -1.407492\n",
        "4  0.894085 -0.849884 -1.785291 -0.048232"
       ]
      }
     ],
     "prompt_number": 97
    },
    {
     "cell_type": "code",
     "collapsed": true,
     "input": [
      "# B, C\n",
      "s2 = s[1:3]\n",
      "# add E\n",
      "s2['E'] = 0\n",
      "# see how alignment is applied in math\n",
      "df + s2"
     ],
     "language": "python",
     "metadata": {},
     "outputs": [
      {
       "metadata": {},
       "output_type": "pyout",
       "prompt_number": 98,
       "text": [
        "    A         B         C   D   E\n",
        "0 NaN -0.565727 -3.018117 NaN NaN\n",
        "1 NaN -0.456078 -1.389850 NaN NaN\n",
        "2 NaN -2.387433 -2.003988 NaN NaN\n",
        "3 NaN -0.989634 -2.548633 NaN NaN\n",
        "4 NaN  0.284157 -1.232826 NaN NaN"
       ]
      }
     ],
     "prompt_number": 98
    },
    {
     "cell_type": "code",
     "collapsed": true,
     "input": [
      "# get rows 1 through three, and only B, C columns\n",
      "subframe = df[1:4][['B', 'C']]\n",
      "# we have extracted a little square in the middle of df\n",
      "subframe"
     ],
     "language": "python",
     "metadata": {},
     "outputs": [
      {
       "metadata": {},
       "output_type": "pyout",
       "prompt_number": 99,
       "text": [
        "          B         C\n",
        "1 -0.173215  0.119209\n",
        "2 -2.104569 -0.494929\n",
        "3 -0.706771 -1.039575"
       ]
      }
     ],
     "prompt_number": 99
    },
    {
     "cell_type": "code",
     "collapsed": false,
     "input": [
      "# demonstrate the alignment of the subtraction\n",
      "df - subframe"
     ],
     "language": "python",
     "metadata": {},
     "outputs": [
      {
       "metadata": {},
       "output_type": "pyout",
       "prompt_number": 100,
       "text": [
        "    A   B   C   D\n",
        "0 NaN NaN NaN NaN\n",
        "1 NaN   0   0 NaN\n",
        "2 NaN   0   0 NaN\n",
        "3 NaN   0   0 NaN\n",
        "4 NaN NaN NaN NaN"
       ]
      }
     ],
     "prompt_number": 100
    },
    {
     "cell_type": "code",
     "collapsed": true,
     "input": [
      "# get the A column\n",
      "a_col = df['A']\n",
      "df.sub(a_col, axis=0)"
     ],
     "language": "python",
     "metadata": {},
     "outputs": [
      {
       "metadata": {},
       "output_type": "pyout",
       "prompt_number": 101,
       "text": [
        "   A         B         C         D\n",
        "0  0 -0.751976 -1.978171 -1.604745\n",
        "1  0 -1.385327 -1.092903 -2.256348\n",
        "2  0 -1.242720  0.366920  1.933653\n",
        "3  0 -1.428326 -1.761130 -0.449695\n",
        "4  0  0.991993  0.701204 -0.662428"
       ]
      }
     ],
     "prompt_number": 101
    },
    {
     "cell_type": "heading",
     "level": 1,
     "metadata": {},
     "source": [
      "Resetting and reindexing"
     ]
    },
    {
     "cell_type": "code",
     "collapsed": true,
     "input": [
      "# reset the index, moving it into a column\n",
      "reset_sp500 = sp500.reset_index()\n",
      "reset_sp500"
     ],
     "language": "python",
     "metadata": {},
     "outputs": [
      {
       "metadata": {},
       "output_type": "pyout",
       "prompt_number": 102,
       "text": [
        "    Symbol                  Sector   Price  BookValue\n",
        "0      MMM             Industrials  141.14     26.668\n",
        "1      ABT             Health Care   39.60     15.573\n",
        "2     ABBV             Health Care   53.95      2.954\n",
        "3      ACN  Information Technology   79.79      8.326\n",
        "4      ACE              Financials  102.91     86.897\n",
        "..     ...                     ...     ...        ...\n",
        "495   YHOO  Information Technology   35.02     12.768\n",
        "496    YUM  Consumer Discretionary   74.77      5.147\n",
        "497    ZMH             Health Care  101.84     37.181\n",
        "498   ZION              Financials   28.43     30.191\n",
        "499    ZTS             Health Care   30.53      2.150\n",
        "\n",
        "[500 rows x 4 columns]"
       ]
      }
     ],
     "prompt_number": 102
    },
    {
     "cell_type": "code",
     "collapsed": false,
     "input": [
      "# move the Symbol column into the index\n",
      "reset_sp500.set_index('Symbol')"
     ],
     "language": "python",
     "metadata": {},
     "outputs": [
      {
       "metadata": {},
       "output_type": "pyout",
       "prompt_number": 103,
       "text": [
        "                        Sector   Price  BookValue\n",
        "Symbol                                           \n",
        "MMM                Industrials  141.14     26.668\n",
        "ABT                Health Care   39.60     15.573\n",
        "ABBV               Health Care   53.95      2.954\n",
        "ACN     Information Technology   79.79      8.326\n",
        "ACE                 Financials  102.91     86.897\n",
        "...                        ...     ...        ...\n",
        "YHOO    Information Technology   35.02     12.768\n",
        "YUM     Consumer Discretionary   74.77      5.147\n",
        "ZMH                Health Care  101.84     37.181\n",
        "ZION                Financials   28.43     30.191\n",
        "ZTS                Health Care   30.53      2.150\n",
        "\n",
        "[500 rows x 3 columns]"
       ]
      }
     ],
     "prompt_number": 103
    },
    {
     "cell_type": "code",
     "collapsed": false,
     "input": [
      "# get first four rows\n",
      "subset = sp500[:4].copy()\n",
      "subset"
     ],
     "language": "python",
     "metadata": {},
     "outputs": [
      {
       "metadata": {},
       "output_type": "pyout",
       "prompt_number": 104,
       "text": [
        "                        Sector   Price  BookValue\n",
        "Symbol                                           \n",
        "MMM                Industrials  141.14     26.668\n",
        "ABT                Health Care   39.60     15.573\n",
        "ABBV               Health Care   53.95      2.954\n",
        "ACN     Information Technology   79.79      8.326"
       ]
      }
     ],
     "prompt_number": 104
    },
    {
     "cell_type": "code",
     "collapsed": false,
     "input": [
      "# reindex to have MMM, ABBV, and FOO index labels\n",
      "reindexed = subset.reindex(index=['MMM', 'ABBV', 'FOO'])\n",
      "# note that ABT and ACN are dropped and FOO has NaN values\n",
      "reindexed"
     ],
     "language": "python",
     "metadata": {},
     "outputs": [
      {
       "metadata": {},
       "output_type": "pyout",
       "prompt_number": 105,
       "text": [
        "             Sector   Price  BookValue\n",
        "Symbol                                \n",
        "MMM     Industrials  141.14     26.668\n",
        "ABBV    Health Care   53.95      2.954\n",
        "FOO             NaN     NaN        NaN"
       ]
      }
     ],
     "prompt_number": 105
    },
    {
     "cell_type": "code",
     "collapsed": false,
     "input": [
      "# reindex columns\n",
      "subset.reindex(columns=['Price', \n",
      "                        'Book Value', \n",
      "                        'NewCol'])"
     ],
     "language": "python",
     "metadata": {},
     "outputs": [
      {
       "metadata": {},
       "output_type": "pyout",
       "prompt_number": 106,
       "text": [
        "         Price  Book Value  NewCol\n",
        "Symbol                            \n",
        "MMM     141.14         NaN     NaN\n",
        "ABT      39.60         NaN     NaN\n",
        "ABBV     53.95         NaN     NaN\n",
        "ACN      79.79         NaN     NaN"
       ]
      }
     ],
     "prompt_number": 106
    },
    {
     "cell_type": "heading",
     "level": 1,
     "metadata": {},
     "source": [
      "Hierarchical indexing"
     ]
    },
    {
     "cell_type": "code",
     "collapsed": false,
     "input": [
      "# first, push symbol into a column\n",
      "reindexed = sp500.reset_index()\n",
      "# and now index sp500 by sector and symbol\n",
      "multi_fi = reindexed.set_index(['Sector', 'Symbol'])\n",
      "multi_fi"
     ],
     "language": "python",
     "metadata": {},
     "outputs": [
      {
       "metadata": {},
       "output_type": "pyout",
       "prompt_number": 107,
       "text": [
        "                                Price  BookValue\n",
        "Sector                 Symbol                   \n",
        "Industrials            MMM     141.14     26.668\n",
        "Health Care            ABT      39.60     15.573\n",
        "                       ABBV     53.95      2.954\n",
        "Information Technology ACN      79.79      8.326\n",
        "Financials             ACE     102.91     86.897\n",
        "...                               ...        ...\n",
        "Information Technology YHOO     35.02     12.768\n",
        "Consumer Discretionary YUM      74.77      5.147\n",
        "Health Care            ZMH     101.84     37.181\n",
        "Financials             ZION     28.43     30.191\n",
        "Health Care            ZTS      30.53      2.150\n",
        "\n",
        "[500 rows x 2 columns]"
       ]
      }
     ],
     "prompt_number": 107
    },
    {
     "cell_type": "code",
     "collapsed": false,
     "input": [
      "# the index is a MultiIndex\n",
      "type(multi_fi.index)"
     ],
     "language": "python",
     "metadata": {},
     "outputs": [
      {
       "metadata": {},
       "output_type": "pyout",
       "prompt_number": 108,
       "text": [
        "pandas.core.index.MultiIndex"
       ]
      }
     ],
     "prompt_number": 108
    },
    {
     "cell_type": "code",
     "collapsed": false,
     "input": [
      "# examine the index\n",
      "print (multi_fi.index)"
     ],
     "language": "python",
     "metadata": {},
     "outputs": [
      {
       "output_type": "stream",
       "stream": "stdout",
       "text": [
        "Sector                       Symbol\n",
        "Industrials                  MMM   \n",
        "Health Care                  ABT   \n",
        "                             ABBV  \n",
        "Information Technology       ACN   \n",
        "                ...                \n",
        "Information Technology       YHOO  \n",
        "Consumer Discretionary       YUM   \n",
        "Health Care                  ZMH   \n",
        "Financials                   ZION  \n",
        "Health Care                  ZTS   \n"
       ]
      }
     ],
     "prompt_number": 109
    },
    {
     "cell_type": "code",
     "collapsed": false,
     "input": [
      "# this has two levels\n",
      "len(multi_fi.index.levels)"
     ],
     "language": "python",
     "metadata": {},
     "outputs": [
      {
       "metadata": {},
       "output_type": "pyout",
       "prompt_number": 110,
       "text": [
        "2"
       ]
      }
     ],
     "prompt_number": 110
    },
    {
     "cell_type": "code",
     "collapsed": false,
     "input": [
      "# each index level is an index\n",
      "multi_fi.index.levels[0]"
     ],
     "language": "python",
     "metadata": {},
     "outputs": [
      {
       "metadata": {},
       "output_type": "pyout",
       "prompt_number": 111,
       "text": [
        "Index([u'Consumer Discretionary', u'Consumer Discretionary ', u'Consumer Staples', u'Consumer Staples ', u'Energy', u'Financials', u'Health Care', u'Industrials', u'Industries', u'Information Technology', u'Materials', u'Telecommunications Services', u'Utilities'], dtype='object')"
       ]
      }
     ],
     "prompt_number": 111
    },
    {
     "cell_type": "code",
     "collapsed": false,
     "input": [
      "# each index level is an index\n",
      "multi_fi.index.levels[1]"
     ],
     "language": "python",
     "metadata": {},
     "outputs": [
      {
       "metadata": {},
       "output_type": "pyout",
       "prompt_number": 112,
       "text": [
        "Index([u'A', u'AA', u'AAPL', u'ABBV', u'ABC', u'ABT', u'ACE', u'ACN', u'ACT', u'ADBE', u'ADI', u'ADM', u'ADP', u'ADS', u'ADSK', u'ADT', u'AEE', u'AEP', u'AES', u'AET', u'AFL', u'AGN', u'AIG', u'AIV', u'AIZ', u'AKAM', u'ALL', u'ALLE', u'ALTR', u'ALXN', u'AMAT', u'AME', u'AMGN', u'AMP', u'AMT', u'AMZN', u'AN', u'AON', u'APA', u'APC', u'APD', u'APH', u'ARG', u'ATI', u'AVB', u'AVP', u'AVY', u'AXP', u'AZO', u'BA', u'BAC', u'BAX', u'BBBY', u'BBT', u'BBY', u'BCR', u'BDX', u'BEAM', u'BEN', u'BF-B', u'BHI', u'BIIB', u'BK', u'BLK', u'BLL', u'BMS', u'BMY', u'BRCM', u'BRK-B', u'BSX', u'BTU', u'BWA', u'BXP', u'C', u'CA', u'CAG', u'CAH', u'CAM', u'CAT', u'CB', u'CBG', u'CBS', u'CCE', u'CCI', u'CCL', u'CELG', u'CERN', u'CF', u'CFN', u'CHK', u'CHRW', u'CI', u'CINF', u'CL', u'CLF', u'CLX', u'CMA', u'CMCSA', u'CME', u'CMG', ...], dtype='object')"
       ]
      }
     ],
     "prompt_number": 112
    },
    {
     "cell_type": "code",
     "collapsed": true,
     "input": [
      "# values of index level 0\n",
      "multi_fi.index.get_level_values(0)"
     ],
     "language": "python",
     "metadata": {},
     "outputs": [
      {
       "metadata": {},
       "output_type": "pyout",
       "prompt_number": 113,
       "text": [
        "Index([u'Industrials', u'Health Care', u'Health Care', u'Information Technology', u'Financials', u'Health Care', u'Information Technology', u'Utilities', u'Health Care', u'Financials', u'Health Care', u'Utilities', u'Materials', u'Materials', u'Information Technology', u'Materials', u'Health Care', u'Materials', u'Industrials', u'Health Care', u'Information Technology', u'Financials', u'Information Technology', u'Consumer Staples', u'Consumer Discretionary', u'Utilities', u'Utilities', u'Financials', u'Financials', u'Financials', u'Financials', u'Health Care', u'Information Technology', u'Health Care', u'Industrials', u'Energy', u'Information Technology', u'Financials', u'Energy', u'Financials', u'Information Technology', u'Information Technology', u'Consumer Staples', u'Financials', u'Telecommunications Services', u'Information Technology', u'Information Technology', u'Consumer Discretionary', u'Consumer Discretionary', u'Financials', u'Industrials', u'Consumer Staples', u'Energy', u'Materials', u'Financials', u'Health Care', u'Health Care', u'Financials', u'Consumer Discretionary', u'Health Care', u'Consumer Discretionary', u'Materials', u'Financials', u'Consumer Discretionary', u'Health Care', u'Financials', u'Consumer Discretionary', u'Industrials', u'Consumer Discretionary', u'Financials', u'Health Care', u'Health Care', u'Information Technology', u'Consumer Staples', u'Information Technology', u'Consumer Discretionary', u'Energy', u'Energy', u'Consumer Staples', u'Financials', u'Health Care', u'Health Care', u'Consumer Discretionary', u'Consumer Discretionary', u'Industrials', u'Financials', u'Consumer Discretionary', u'Health Care', u'Utilities', u'Telecommunications Services', u'Health Care', u'Materials', u'Industrials', u'Energy', u'Energy', u'Consumer Discretionary', u'Financials', u'Health Care', u'Financials', u'Industrials', ...], dtype='object')"
       ]
      }
     ],
     "prompt_number": 113
    },
    {
     "cell_type": "code",
     "collapsed": true,
     "input": [
      "# get all stocks that are Industrials\n",
      "# note the result drops level 0 of the index\n",
      "multi_fi.xs('Industrials')"
     ],
     "language": "python",
     "metadata": {},
     "outputs": [
      {
       "metadata": {},
       "output_type": "pyout",
       "prompt_number": 114,
       "text": [
        "         Price  BookValue\n",
        "Symbol                   \n",
        "MMM     141.14     26.668\n",
        "ALLE     52.46      0.000\n",
        "APH      95.71     18.315\n",
        "AVY      48.20     15.616\n",
        "BA      132.41     19.870\n",
        "...        ...        ...\n",
        "UNP     196.26     46.957\n",
        "UPS     102.73      6.790\n",
        "UTX     115.54     35.252\n",
        "WM       43.37     12.330\n",
        "XYL      38.42     12.127\n",
        "\n",
        "[64 rows x 2 columns]"
       ]
      }
     ],
     "prompt_number": 114
    },
    {
     "cell_type": "code",
     "collapsed": true,
     "input": [
      "# select rows where level 1 (Symbol) is ALLE\n",
      "# note that the Sector level is dropped from the result\n",
      "multi_fi.xs('ALLE', level=1)"
     ],
     "language": "python",
     "metadata": {},
     "outputs": [
      {
       "metadata": {},
       "output_type": "pyout",
       "prompt_number": 115,
       "text": [
        "             Price  BookValue\n",
        "Sector                       \n",
        "Industrials  52.46          0"
       ]
      }
     ],
     "prompt_number": 115
    },
    {
     "cell_type": "code",
     "collapsed": true,
     "input": [
      "# Industrials, without dropping the level\n",
      "multi_fi.xs('Industrials', drop_level=False)"
     ],
     "language": "python",
     "metadata": {},
     "outputs": [
      {
       "metadata": {},
       "output_type": "pyout",
       "prompt_number": 116,
       "text": [
        "                     Price  BookValue\n",
        "Sector      Symbol                   \n",
        "Industrials MMM     141.14     26.668\n",
        "            ALLE     52.46      0.000\n",
        "            APH      95.71     18.315\n",
        "            AVY      48.20     15.616\n",
        "            BA      132.41     19.870\n",
        "...                    ...        ...\n",
        "            UNP     196.26     46.957\n",
        "            UPS     102.73      6.790\n",
        "            UTX     115.54     35.252\n",
        "            WM       43.37     12.330\n",
        "            XYL      38.42     12.127\n",
        "\n",
        "[64 rows x 2 columns]"
       ]
      }
     ],
     "prompt_number": 116
    },
    {
     "cell_type": "code",
     "collapsed": true,
     "input": [
      "# drill through the levels\n",
      "multi_fi.xs('Industrials').xs('UPS')"
     ],
     "language": "python",
     "metadata": {},
     "outputs": [
      {
       "metadata": {},
       "output_type": "pyout",
       "prompt_number": 117,
       "text": [
        "Price        102.73\n",
        "BookValue      6.79\n",
        "Name: UPS, dtype: float64"
       ]
      }
     ],
     "prompt_number": 117
    },
    {
     "cell_type": "code",
     "collapsed": true,
     "input": [
      "# drill through using tuples\n",
      "multi_fi.xs(('Industrials', 'UPS'))"
     ],
     "language": "python",
     "metadata": {},
     "outputs": [
      {
       "metadata": {},
       "output_type": "pyout",
       "prompt_number": 118,
       "text": [
        "Price        102.73\n",
        "BookValue      6.79\n",
        "Name: (Industrials, UPS), dtype: float64"
       ]
      }
     ],
     "prompt_number": 118
    },
    {
     "cell_type": "heading",
     "level": 1,
     "metadata": {},
     "source": [
      "Summarized data and descriptive statistics"
     ]
    },
    {
     "cell_type": "code",
     "collapsed": false,
     "input": [
      "# calc the mean of the values in each column\n",
      "one_mon_hist.mean()"
     ],
     "language": "python",
     "metadata": {},
     "outputs": [
      {
       "metadata": {},
       "output_type": "pyout",
       "prompt_number": 119,
       "text": [
        "MSFT     47.493182\n",
        "AAPL    112.411364\n",
        "dtype: float64"
       ]
      }
     ],
     "prompt_number": 119
    },
    {
     "cell_type": "code",
     "collapsed": false,
     "input": [
      "# calc the mean of the values in each row\n",
      "one_mon_hist.mean(axis=1)"
     ],
     "language": "python",
     "metadata": {},
     "outputs": [
      {
       "metadata": {},
       "output_type": "pyout",
       "prompt_number": 120,
       "text": [
        "0    81.845\n",
        "1    81.545\n",
        "2    82.005\n",
        "...\n",
        "19    80.680\n",
        "20    79.770\n",
        "21    78.415\n",
        "Length: 22, dtype: float64"
       ]
      }
     ],
     "prompt_number": 120
    },
    {
     "cell_type": "code",
     "collapsed": true,
     "input": [
      "# calc the variance of the values in each column\n",
      "one_mon_hist.var()"
     ],
     "language": "python",
     "metadata": {},
     "outputs": [
      {
       "metadata": {},
       "output_type": "pyout",
       "prompt_number": 121,
       "text": [
        "MSFT    0.870632\n",
        "AAPL    5.706231\n",
        "dtype: float64"
       ]
      }
     ],
     "prompt_number": 121
    },
    {
     "cell_type": "code",
     "collapsed": true,
     "input": [
      "# calc the median of the values in each column\n",
      "one_mon_hist.median()"
     ],
     "language": "python",
     "metadata": {},
     "outputs": [
      {
       "metadata": {},
       "output_type": "pyout",
       "prompt_number": 122,
       "text": [
        "MSFT     47.625\n",
        "AAPL    112.530\n",
        "dtype: float64"
       ]
      }
     ],
     "prompt_number": 122
    },
    {
     "cell_type": "code",
     "collapsed": false,
     "input": [
      "# location of min price for both stocks\n",
      "one_mon_hist[['MSFT', 'AAPL']].min()"
     ],
     "language": "python",
     "metadata": {},
     "outputs": [
      {
       "metadata": {},
       "output_type": "pyout",
       "prompt_number": 123,
       "text": [
        "MSFT     45.16\n",
        "AAPL    106.75\n",
        "dtype: float64"
       ]
      }
     ],
     "prompt_number": 123
    },
    {
     "cell_type": "code",
     "collapsed": false,
     "input": [
      "# and location of the max\n",
      "one_mon_hist[['MSFT', 'AAPL']].max()"
     ],
     "language": "python",
     "metadata": {},
     "outputs": [
      {
       "metadata": {},
       "output_type": "pyout",
       "prompt_number": 124,
       "text": [
        "MSFT     48.84\n",
        "AAPL    115.93\n",
        "dtype: float64"
       ]
      }
     ],
     "prompt_number": 124
    },
    {
     "cell_type": "code",
     "collapsed": true,
     "input": [
      "# location of min price for both stocks\n",
      "one_mon_hist[['MSFT', 'AAPL']].idxmin()"
     ],
     "language": "python",
     "metadata": {},
     "outputs": [
      {
       "metadata": {},
       "output_type": "pyout",
       "prompt_number": 125,
       "text": [
        "MSFT    11\n",
        "AAPL    11\n",
        "dtype: int64"
       ]
      }
     ],
     "prompt_number": 125
    },
    {
     "cell_type": "code",
     "collapsed": false,
     "input": [
      "# and location of the max\n",
      "one_mon_hist[['MSFT', 'AAPL']].idxmax()"
     ],
     "language": "python",
     "metadata": {},
     "outputs": [
      {
       "metadata": {},
       "output_type": "pyout",
       "prompt_number": 126,
       "text": [
        "MSFT    3\n",
        "AAPL    2\n",
        "dtype: int64"
       ]
      }
     ],
     "prompt_number": 126
    },
    {
     "cell_type": "code",
     "collapsed": false,
     "input": [
      "# find the mode of this Series\n",
      "s = pd.Series([1, 2, 3, 3, 5])\n",
      "s.mode()"
     ],
     "language": "python",
     "metadata": {},
     "outputs": [
      {
       "metadata": {},
       "output_type": "pyout",
       "prompt_number": 127,
       "text": [
        "0    3\n",
        "dtype: int64"
       ]
      }
     ],
     "prompt_number": 127
    },
    {
     "cell_type": "code",
     "collapsed": false,
     "input": [
      "# there can be more than one mode\n",
      "s = pd.Series([1, 2, 3, 3, 5, 1])\n",
      "s.mode()"
     ],
     "language": "python",
     "metadata": {},
     "outputs": [
      {
       "metadata": {},
       "output_type": "pyout",
       "prompt_number": 128,
       "text": [
        "0    1\n",
        "1    3\n",
        "dtype: int64"
       ]
      }
     ],
     "prompt_number": 128
    },
    {
     "cell_type": "code",
     "collapsed": false,
     "input": [
      "# calculate a cumulative product\n",
      "pd.Series([1, 2, 3, 4]).cumprod()"
     ],
     "language": "python",
     "metadata": {},
     "outputs": [
      {
       "metadata": {},
       "output_type": "pyout",
       "prompt_number": 129,
       "text": [
        "0     1\n",
        "1     2\n",
        "2     6\n",
        "3    24\n",
        "dtype: int64"
       ]
      }
     ],
     "prompt_number": 129
    },
    {
     "cell_type": "code",
     "collapsed": true,
     "input": [
      "# calculate a cumulative sum\n",
      "pd.Series([1, 2, 3, 4]).cumsum()"
     ],
     "language": "python",
     "metadata": {},
     "outputs": [
      {
       "metadata": {},
       "output_type": "pyout",
       "prompt_number": 130,
       "text": [
        "0     1\n",
        "1     3\n",
        "2     6\n",
        "3    10\n",
        "dtype: int64"
       ]
      }
     ],
     "prompt_number": 130
    },
    {
     "cell_type": "code",
     "collapsed": false,
     "input": [
      "# summary statistics\n",
      "one_mon_hist.describe()"
     ],
     "language": "python",
     "metadata": {},
     "outputs": [
      {
       "metadata": {},
       "output_type": "pyout",
       "prompt_number": 131,
       "text": [
        "            MSFT        AAPL\n",
        "count  22.000000   22.000000\n",
        "mean   47.493182  112.411364\n",
        "std     0.933077    2.388772\n",
        "min    45.160000  106.750000\n",
        "25%    46.967500  111.660000\n",
        "50%    47.625000  112.530000\n",
        "75%    48.125000  114.087500\n",
        "max    48.840000  115.930000"
       ]
      }
     ],
     "prompt_number": 131
    },
    {
     "cell_type": "code",
     "collapsed": false,
     "input": [
      "# get summary stats on non-numeric data\n",
      "s = pd.Series(['a', 'a', 'b', 'c', np.NaN])\n",
      "s.describe()"
     ],
     "language": "python",
     "metadata": {},
     "outputs": [
      {
       "metadata": {},
       "output_type": "pyout",
       "prompt_number": 132,
       "text": [
        "count     4\n",
        "unique    3\n",
        "top       a\n",
        "freq      2\n",
        "dtype: object"
       ]
      }
     ],
     "prompt_number": 132
    },
    {
     "cell_type": "code",
     "collapsed": false,
     "input": [
      "# get summary stats on non-numeric data\n",
      "s.count()"
     ],
     "language": "python",
     "metadata": {},
     "outputs": [
      {
       "metadata": {},
       "output_type": "pyout",
       "prompt_number": 133,
       "text": [
        "4"
       ]
      }
     ],
     "prompt_number": 133
    },
    {
     "cell_type": "code",
     "collapsed": false,
     "input": [
      "# return a list of unique items\n",
      "s.unique()"
     ],
     "language": "python",
     "metadata": {},
     "outputs": [
      {
       "metadata": {},
       "output_type": "pyout",
       "prompt_number": 134,
       "text": [
        "array(['a', 'b', 'c', nan], dtype=object)"
       ]
      }
     ],
     "prompt_number": 134
    },
    {
     "cell_type": "code",
     "collapsed": false,
     "input": [
      "# number of occurrences of each unique value\n",
      "s.value_counts()"
     ],
     "language": "python",
     "metadata": {},
     "outputs": [
      {
       "metadata": {},
       "output_type": "pyout",
       "prompt_number": 135,
       "text": [
        "a    2\n",
        "b    1\n",
        "c    1\n",
        "dtype: int64"
       ]
      }
     ],
     "prompt_number": 135
    }
   ],
   "metadata": {}
  }
 ]
}