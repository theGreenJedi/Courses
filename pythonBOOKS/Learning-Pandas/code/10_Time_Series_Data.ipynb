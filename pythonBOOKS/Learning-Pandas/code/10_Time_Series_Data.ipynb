{
 "metadata": {
  "name": "",
  "signature": "sha256:d3e14fd9a4fdbb43143abbaebc1de8c7ba5951588296f5a9b1a0641046a75d68"
 },
 "nbformat": 3,
 "nbformat_minor": 0,
 "worksheets": [
  {
   "cells": [
    {
     "cell_type": "heading",
     "level": 1,
     "metadata": {},
     "source": [
      "Setting up the notebook"
     ]
    },
    {
     "cell_type": "code",
     "collapsed": false,
     "input": [
      "# import pandas, numpy and datetime\n",
      "import numpy as np\n",
      "import pandas as pd\n",
      "\n",
      "# needed for representing dates and times\n",
      "import datetime \n",
      "from datetime import datetime\n",
      "\n",
      "# Set some pandas options for controlling output\n",
      "pd.set_option('display.notebook_repr_html', False)\n",
      "pd.set_option('display.max_columns', 10)\n",
      "pd.set_option('display.max_rows', 10)\n",
      "\n",
      "# matplotlib and inline graphics\n",
      "import matplotlib.pyplot as plt\n",
      "%matplotlib inline"
     ],
     "language": "python",
     "metadata": {},
     "outputs": [],
     "prompt_number": 1
    },
    {
     "cell_type": "heading",
     "level": 1,
     "metadata": {},
     "source": [
      "Representation of dates, time, and intervals"
     ]
    },
    {
     "cell_type": "heading",
     "level": 2,
     "metadata": {},
     "source": [
      "Datetime, date and time objects"
     ]
    },
    {
     "cell_type": "code",
     "collapsed": false,
     "input": [
      "# datetime object for Dec 15 2014\n",
      "datetime(2014, 12, 15)"
     ],
     "language": "python",
     "metadata": {},
     "outputs": [
      {
       "metadata": {},
       "output_type": "pyout",
       "prompt_number": 2,
       "text": [
        "datetime.datetime(2014, 12, 15, 0, 0)"
       ]
      }
     ],
     "prompt_number": 2
    },
    {
     "cell_type": "code",
     "collapsed": false,
     "input": [
      "# specific date and also with a time of 5:30 pm\n",
      "datetime(2014, 12, 15, 17, 30)"
     ],
     "language": "python",
     "metadata": {},
     "outputs": [
      {
       "metadata": {},
       "output_type": "pyout",
       "prompt_number": 3,
       "text": [
        "datetime.datetime(2014, 12, 15, 17, 30)"
       ]
      }
     ],
     "prompt_number": 3
    },
    {
     "cell_type": "code",
     "collapsed": false,
     "input": [
      "# get the local \"now\" (date and time)\n",
      "# can take a timezone, but that's not demonstrated here\n",
      "datetime.now()"
     ],
     "language": "python",
     "metadata": {},
     "outputs": [
      {
       "metadata": {},
       "output_type": "pyout",
       "prompt_number": 4,
       "text": [
        "datetime.datetime(2015, 4, 14, 0, 27, 53, 373896)"
       ]
      }
     ],
     "prompt_number": 4
    },
    {
     "cell_type": "code",
     "collapsed": false,
     "input": [
      "# a date without time can be represented\n",
      "# by creating a date using a datetime object\n",
      "datetime.date(datetime(2014, 12, 15))"
     ],
     "language": "python",
     "metadata": {},
     "outputs": [
      {
       "metadata": {},
       "output_type": "pyout",
       "prompt_number": 5,
       "text": [
        "datetime.date(2014, 12, 15)"
       ]
      }
     ],
     "prompt_number": 5
    },
    {
     "cell_type": "code",
     "collapsed": false,
     "input": [
      "# get just the current date\n",
      "datetime.now().date()"
     ],
     "language": "python",
     "metadata": {},
     "outputs": [
      {
       "metadata": {},
       "output_type": "pyout",
       "prompt_number": 6,
       "text": [
        "datetime.date(2015, 4, 14)"
       ]
      }
     ],
     "prompt_number": 6
    },
    {
     "cell_type": "code",
     "collapsed": false,
     "input": [
      "# get just a time from a datetime\n",
      "datetime.time(datetime(2014, 12, 15, 17, 30))"
     ],
     "language": "python",
     "metadata": {},
     "outputs": [
      {
       "metadata": {},
       "output_type": "pyout",
       "prompt_number": 7,
       "text": [
        "datetime.time(17, 30)"
       ]
      }
     ],
     "prompt_number": 7
    },
    {
     "cell_type": "code",
     "collapsed": false,
     "input": [
      "# get the current local time\n",
      "datetime.now().time()"
     ],
     "language": "python",
     "metadata": {},
     "outputs": [
      {
       "metadata": {},
       "output_type": "pyout",
       "prompt_number": 8,
       "text": [
        "datetime.time(0, 27, 53, 388752)"
       ]
      }
     ],
     "prompt_number": 8
    },
    {
     "cell_type": "heading",
     "level": 2,
     "metadata": {},
     "source": [
      "Timestamps"
     ]
    },
    {
     "cell_type": "code",
     "collapsed": false,
     "input": [
      "# a timestamp representing a specific date\n",
      "pd.Timestamp('2014-12-15')"
     ],
     "language": "python",
     "metadata": {},
     "outputs": [
      {
       "metadata": {},
       "output_type": "pyout",
       "prompt_number": 9,
       "text": [
        "Timestamp('2014-12-15 00:00:00')"
       ]
      }
     ],
     "prompt_number": 9
    },
    {
     "cell_type": "code",
     "collapsed": false,
     "input": [
      "# a timestamp with both date and time\n",
      "pd.Timestamp('2014-12-15 17:30')"
     ],
     "language": "python",
     "metadata": {},
     "outputs": [
      {
       "metadata": {},
       "output_type": "pyout",
       "prompt_number": 10,
       "text": [
        "Timestamp('2014-12-15 17:30:00')"
       ]
      }
     ],
     "prompt_number": 10
    },
    {
     "cell_type": "code",
     "collapsed": false,
     "input": [
      "# timestamp with just a time\n",
      "# which adds in the current local date\n",
      "pd.Timestamp('17:30')"
     ],
     "language": "python",
     "metadata": {},
     "outputs": [
      {
       "metadata": {},
       "output_type": "pyout",
       "prompt_number": 11,
       "text": [
        "Timestamp('2015-04-14 17:30:00')"
       ]
      }
     ],
     "prompt_number": 11
    },
    {
     "cell_type": "code",
     "collapsed": false,
     "input": [
      "# get the current date and time (now)\n",
      "pd.Timestamp(\"now\")"
     ],
     "language": "python",
     "metadata": {},
     "outputs": [
      {
       "metadata": {},
       "output_type": "pyout",
       "prompt_number": 12,
       "text": [
        "Timestamp('2015-04-14 00:27:53.402828')"
       ]
      }
     ],
     "prompt_number": 12
    },
    {
     "cell_type": "heading",
     "level": 2,
     "metadata": {},
     "source": [
      "Timedelta"
     ]
    },
    {
     "cell_type": "code",
     "collapsed": false,
     "input": [
      "# what is one day from 2014-11-30?\n",
      "today = datetime(2014, 11, 30)\n",
      "tomorrow = today + pd.Timedelta(days=1)\n",
      "tomorrow"
     ],
     "language": "python",
     "metadata": {},
     "outputs": [
      {
       "metadata": {},
       "output_type": "pyout",
       "prompt_number": 13,
       "text": [
        "datetime.datetime(2014, 12, 1, 0, 0)"
       ]
      }
     ],
     "prompt_number": 13
    },
    {
     "cell_type": "code",
     "collapsed": false,
     "input": [
      "# how many days between these two dates?\n",
      "date1 = datetime(2014, 12, 2)\n",
      "date2 = datetime(2014, 11, 28)\n",
      "date1 - date2"
     ],
     "language": "python",
     "metadata": {},
     "outputs": [
      {
       "metadata": {},
       "output_type": "pyout",
       "prompt_number": 14,
       "text": [
        "datetime.timedelta(4)"
       ]
      }
     ],
     "prompt_number": 14
    },
    {
     "cell_type": "heading",
     "level": 1,
     "metadata": {},
     "source": [
      "Time-series data"
     ]
    },
    {
     "cell_type": "heading",
     "level": 2,
     "metadata": {},
     "source": [
      "The DatetimeIndex"
     ]
    },
    {
     "cell_type": "code",
     "collapsed": false,
     "input": [
      "# create a very simple time-series with two index labels\n",
      "# and random values\n",
      "dates = [datetime(2014, 8, 1), datetime(2014, 8, 2)]\n",
      "ts = pd.Series(np.random.randn(2), dates)\n",
      "ts"
     ],
     "language": "python",
     "metadata": {},
     "outputs": [
      {
       "metadata": {},
       "output_type": "pyout",
       "prompt_number": 15,
       "text": [
        "2014-08-01   -0.107208\n",
        "2014-08-02   -1.054658\n",
        "dtype: float64"
       ]
      }
     ],
     "prompt_number": 15
    },
    {
     "cell_type": "code",
     "collapsed": false,
     "input": [
      "# what is the type of the index?\n",
      "type(ts.index)"
     ],
     "language": "python",
     "metadata": {},
     "outputs": [
      {
       "metadata": {},
       "output_type": "pyout",
       "prompt_number": 16,
       "text": [
        "pandas.tseries.index.DatetimeIndex"
       ]
      }
     ],
     "prompt_number": 16
    },
    {
     "cell_type": "code",
     "collapsed": false,
     "input": [
      "# and we can see it is a collection of timestamps\n",
      "type(ts.index[0])"
     ],
     "language": "python",
     "metadata": {},
     "outputs": [
      {
       "metadata": {},
       "output_type": "pyout",
       "prompt_number": 17,
       "text": [
        "pandas.tslib.Timestamp"
       ]
      }
     ],
     "prompt_number": 17
    },
    {
     "cell_type": "code",
     "collapsed": false,
     "input": [
      "# create from just a list of dates as strings!\n",
      "np.random.seed(123456)\n",
      "dates = ['2014-08-01', '2014-08-02']\n",
      "ts = pd.Series(np.random.randn(2), dates)\n",
      "ts"
     ],
     "language": "python",
     "metadata": {},
     "outputs": [
      {
       "metadata": {},
       "output_type": "pyout",
       "prompt_number": 18,
       "text": [
        "2014-08-01    0.469112\n",
        "2014-08-02   -0.282863\n",
        "dtype: float64"
       ]
      }
     ],
     "prompt_number": 18
    },
    {
     "cell_type": "code",
     "collapsed": false,
     "input": [
      "# convert a sequence of objects to a DatetimeIndex\n",
      "dti = pd.to_datetime(['Aug 1, 2014', \n",
      "                      '2014-08-02', \n",
      "                      '2014.8.3', \n",
      "                      None])\n",
      "for l in dti: print (l)"
     ],
     "language": "python",
     "metadata": {},
     "outputs": [
      {
       "output_type": "stream",
       "stream": "stdout",
       "text": [
        "2014-08-01 00:00:00\n",
        "2014-08-02 00:00:00\n",
        "2014-08-03 00:00:00\n",
        "NaT\n"
       ]
      }
     ],
     "prompt_number": 19
    },
    {
     "cell_type": "code",
     "collapsed": false,
     "input": [
      "# this is a list of objects, not timestamps...\n",
      "pd.to_datetime(['Aug 1, 2014', 'foo'])"
     ],
     "language": "python",
     "metadata": {},
     "outputs": [
      {
       "metadata": {},
       "output_type": "pyout",
       "prompt_number": 20,
       "text": [
        "array(['Aug 1, 2014', 'foo'], dtype=object)"
       ]
      }
     ],
     "prompt_number": 20
    },
    {
     "cell_type": "code",
     "collapsed": false,
     "input": [
      "# force the conversion, NaT for items that dont work\n",
      "pd.to_datetime(['Aug 1, 2014', 'foo'], coerce=True)"
     ],
     "language": "python",
     "metadata": {},
     "outputs": [
      {
       "metadata": {},
       "output_type": "pyout",
       "prompt_number": 21,
       "text": [
        "<class 'pandas.tseries.index.DatetimeIndex'>\n",
        "[2014-08-01, NaT]\n",
        "Length: 2, Freq: None, Timezone: None"
       ]
      }
     ],
     "prompt_number": 21
    },
    {
     "cell_type": "code",
     "collapsed": false,
     "input": [
      "# create a range of dates starting at a specific date\n",
      "# and for a specific number of days, creating a Series\n",
      "np.random.seed(123456)\n",
      "periods = pd.date_range('8/1/2014', periods=10)\n",
      "date_series = pd.Series(np.random.randn(10), index=periods)\n",
      "date_series"
     ],
     "language": "python",
     "metadata": {},
     "outputs": [
      {
       "metadata": {},
       "output_type": "pyout",
       "prompt_number": 22,
       "text": [
        "2014-08-01    0.469112\n",
        "2014-08-02   -0.282863\n",
        "2014-08-03   -1.509059\n",
        "2014-08-04   -1.135632\n",
        "2014-08-05    1.212112\n",
        "2014-08-06   -0.173215\n",
        "2014-08-07    0.119209\n",
        "2014-08-08   -1.044236\n",
        "2014-08-09   -0.861849\n",
        "2014-08-10   -2.104569\n",
        "Freq: D, dtype: float64"
       ]
      }
     ],
     "prompt_number": 22
    },
    {
     "cell_type": "code",
     "collapsed": false,
     "input": [
      "# slice by location\n",
      "subset = date_series[3:7]\n",
      "subset"
     ],
     "language": "python",
     "metadata": {},
     "outputs": [
      {
       "metadata": {},
       "output_type": "pyout",
       "prompt_number": 23,
       "text": [
        "2014-08-04   -1.135632\n",
        "2014-08-05    1.212112\n",
        "2014-08-06   -0.173215\n",
        "2014-08-07    0.119209\n",
        "Freq: D, dtype: float64"
       ]
      }
     ],
     "prompt_number": 23
    },
    {
     "cell_type": "code",
     "collapsed": false,
     "input": [
      "# a Series to demonstrate alignment\n",
      "s2 = pd.Series([10, 100, 1000, 10000], subset.index)\n",
      "s2"
     ],
     "language": "python",
     "metadata": {},
     "outputs": [
      {
       "metadata": {},
       "output_type": "pyout",
       "prompt_number": 24,
       "text": [
        "2014-08-04       10\n",
        "2014-08-05      100\n",
        "2014-08-06     1000\n",
        "2014-08-07    10000\n",
        "Freq: D, dtype: int64"
       ]
      }
     ],
     "prompt_number": 24
    },
    {
     "cell_type": "code",
     "collapsed": false,
     "input": [
      "# demonstrate alignment by date on a subset of items\n",
      "date_series + s2"
     ],
     "language": "python",
     "metadata": {},
     "outputs": [
      {
       "metadata": {},
       "output_type": "pyout",
       "prompt_number": 25,
       "text": [
        "2014-08-01             NaN\n",
        "2014-08-02             NaN\n",
        "2014-08-03             NaN\n",
        "2014-08-04        8.864368\n",
        "2014-08-05      101.212112\n",
        "2014-08-06      999.826785\n",
        "2014-08-07    10000.119209\n",
        "2014-08-08             NaN\n",
        "2014-08-09             NaN\n",
        "2014-08-10             NaN\n",
        "Freq: D, dtype: float64"
       ]
      }
     ],
     "prompt_number": 25
    },
    {
     "cell_type": "code",
     "collapsed": false,
     "input": [
      "# lookup item by a string representing a date\n",
      "date_series['2014-08-05']"
     ],
     "language": "python",
     "metadata": {},
     "outputs": [
      {
       "metadata": {},
       "output_type": "pyout",
       "prompt_number": 26,
       "text": [
        "1.2121120250208506"
       ]
      }
     ],
     "prompt_number": 26
    },
    {
     "cell_type": "code",
     "collapsed": false,
     "input": [
      "# slice between two dates specified by string representing dates\n",
      "date_series['2014-08-05':'2014-08-07']"
     ],
     "language": "python",
     "metadata": {},
     "outputs": [
      {
       "metadata": {},
       "output_type": "pyout",
       "prompt_number": 27,
       "text": [
        "2014-08-05    1.212112\n",
        "2014-08-06   -0.173215\n",
        "2014-08-07    0.119209\n",
        "Freq: D, dtype: float64"
       ]
      }
     ],
     "prompt_number": 27
    },
    {
     "cell_type": "code",
     "collapsed": false,
     "input": [
      "# a two year range of daily data in a Series\n",
      "# only select those in 2013\n",
      "s3 = pd.Series(0, pd.date_range('2013-01-01', '2014-12-31'))\n",
      "s3['2013']"
     ],
     "language": "python",
     "metadata": {},
     "outputs": [
      {
       "metadata": {},
       "output_type": "pyout",
       "prompt_number": 28,
       "text": [
        "2013-01-01    0\n",
        "2013-01-02    0\n",
        "2013-01-03    0\n",
        "...\n",
        "2013-12-29    0\n",
        "2013-12-30    0\n",
        "2013-12-31    0\n",
        "Freq: D, Length: 365"
       ]
      }
     ],
     "prompt_number": 28
    },
    {
     "cell_type": "code",
     "collapsed": false,
     "input": [
      "# 31 items for May 2014\n",
      "s3['2014-05'] "
     ],
     "language": "python",
     "metadata": {},
     "outputs": [
      {
       "metadata": {},
       "output_type": "pyout",
       "prompt_number": 29,
       "text": [
        "2014-05-01    0\n",
        "2014-05-02    0\n",
        "2014-05-03    0\n",
        "...\n",
        "2014-05-29    0\n",
        "2014-05-30    0\n",
        "2014-05-31    0\n",
        "Freq: D, Length: 31"
       ]
      }
     ],
     "prompt_number": 29
    },
    {
     "cell_type": "code",
     "collapsed": false,
     "input": [
      "# items between two months\n",
      "s3['2014-08':'2014-09']"
     ],
     "language": "python",
     "metadata": {},
     "outputs": [
      {
       "metadata": {},
       "output_type": "pyout",
       "prompt_number": 30,
       "text": [
        "2014-08-01    0\n",
        "2014-08-02    0\n",
        "2014-08-03    0\n",
        "...\n",
        "2014-09-28    0\n",
        "2014-09-29    0\n",
        "2014-09-30    0\n",
        "Freq: D, Length: 61"
       ]
      }
     ],
     "prompt_number": 30
    },
    {
     "cell_type": "heading",
     "level": 2,
     "metadata": {},
     "source": [
      "Creating time-series data with specific frequencies"
     ]
    },
    {
     "cell_type": "code",
     "collapsed": false,
     "input": [
      "# generate a Series at one minute intervals\n",
      "np.random.seed(123456)\n",
      "bymin = pd.Series(np.random.randn(24*60*90), \n",
      "                  pd.date_range('2014-08-01', \n",
      "                                '2014-10-29 23:59',\n",
      "                                freq='T'))\n",
      "bymin"
     ],
     "language": "python",
     "metadata": {},
     "outputs": [
      {
       "metadata": {},
       "output_type": "pyout",
       "prompt_number": 31,
       "text": [
        "2014-08-01 00:00:00    0.469112\n",
        "2014-08-01 00:01:00   -0.282863\n",
        "2014-08-01 00:02:00   -1.509059\n",
        "...\n",
        "2014-10-29 23:57:00    1.850604\n",
        "2014-10-29 23:58:00   -1.589660\n",
        "2014-10-29 23:59:00    0.266429\n",
        "Freq: T, Length: 129600"
       ]
      }
     ],
     "prompt_number": 31
    },
    {
     "cell_type": "code",
     "collapsed": false,
     "input": [
      "# slice down to the minute\n",
      "bymin['2014-08-01 00:02':'2014-08-01 00:10']"
     ],
     "language": "python",
     "metadata": {},
     "outputs": [
      {
       "metadata": {},
       "output_type": "pyout",
       "prompt_number": 32,
       "text": [
        "2014-08-01 00:02:00   -1.509059\n",
        "2014-08-01 00:03:00   -1.135632\n",
        "2014-08-01 00:04:00    1.212112\n",
        "2014-08-01 00:05:00   -0.173215\n",
        "2014-08-01 00:06:00    0.119209\n",
        "2014-08-01 00:07:00   -1.044236\n",
        "2014-08-01 00:08:00   -0.861849\n",
        "2014-08-01 00:09:00   -2.104569\n",
        "2014-08-01 00:10:00   -0.494929\n",
        "Freq: T, dtype: float64"
       ]
      }
     ],
     "prompt_number": 32
    },
    {
     "cell_type": "code",
     "collapsed": false,
     "input": [
      "# generate a series based upon business days\n",
      "days = pd.date_range('2014-08-29', '2014-09-05', freq='B')\n",
      "for d in days : print (d)"
     ],
     "language": "python",
     "metadata": {},
     "outputs": [
      {
       "output_type": "stream",
       "stream": "stdout",
       "text": [
        "2014-08-29 00:00:00\n",
        "2014-09-01 00:00:00\n",
        "2014-09-02 00:00:00\n",
        "2014-09-03 00:00:00\n",
        "2014-09-04 00:00:00\n",
        "2014-09-05 00:00:00\n"
       ]
      }
     ],
     "prompt_number": 33
    },
    {
     "cell_type": "code",
     "collapsed": false,
     "input": [
      "# periods will use the frequency as the increment\n",
      "pd.date_range('2014-08-01 12:10:01', freq='S', periods=10)"
     ],
     "language": "python",
     "metadata": {},
     "outputs": [
      {
       "metadata": {},
       "output_type": "pyout",
       "prompt_number": 34,
       "text": [
        "<class 'pandas.tseries.index.DatetimeIndex'>\n",
        "[2014-08-01 12:10:01, ..., 2014-08-01 12:10:10]\n",
        "Length: 10, Freq: S, Timezone: None"
       ]
      }
     ],
     "prompt_number": 34
    },
    {
     "cell_type": "heading",
     "level": 1,
     "metadata": {},
     "source": [
      "Calculating new dates using offsets"
     ]
    },
    {
     "cell_type": "heading",
     "level": 2,
     "metadata": {},
     "source": [
      "Date offsets"
     ]
    },
    {
     "cell_type": "code",
     "collapsed": false,
     "input": [
      "# get all business days between and inclusive of these two dates\n",
      "dti = pd.date_range('2014-08-29', '2014-09-05', freq='B')\n",
      "dti.values"
     ],
     "language": "python",
     "metadata": {},
     "outputs": [
      {
       "metadata": {},
       "output_type": "pyout",
       "prompt_number": 35,
       "text": [
        "array(['2014-08-28T18:00:00.000000000-0600',\n",
        "       '2014-08-31T18:00:00.000000000-0600',\n",
        "       '2014-09-01T18:00:00.000000000-0600',\n",
        "       '2014-09-02T18:00:00.000000000-0600',\n",
        "       '2014-09-03T18:00:00.000000000-0600',\n",
        "       '2014-09-04T18:00:00.000000000-0600'], dtype='datetime64[ns]')"
       ]
      }
     ],
     "prompt_number": 35
    },
    {
     "cell_type": "code",
     "collapsed": false,
     "input": [
      "# check the frequency is BusinessDay\n",
      "dti.freq"
     ],
     "language": "python",
     "metadata": {},
     "outputs": [
      {
       "metadata": {},
       "output_type": "pyout",
       "prompt_number": 36,
       "text": [
        "<BusinessDay>"
       ]
      }
     ],
     "prompt_number": 36
    },
    {
     "cell_type": "code",
     "collapsed": false,
     "input": [
      "# calculate a one day offset from 2014-8-29\n",
      "d = datetime(2014, 8, 29)\n",
      "do = pd.DateOffset(days = 1) \n",
      "d + do"
     ],
     "language": "python",
     "metadata": {},
     "outputs": [
      {
       "metadata": {},
       "output_type": "pyout",
       "prompt_number": 37,
       "text": [
        "Timestamp('2014-08-30 00:00:00')"
       ]
      }
     ],
     "prompt_number": 37
    },
    {
     "cell_type": "code",
     "collapsed": false,
     "input": [
      "# import the data offset types\n",
      "from pandas.tseries.offsets import *\n",
      "# calculate one business day from 2014-8-31\n",
      "d + BusinessDay()"
     ],
     "language": "python",
     "metadata": {},
     "outputs": [
      {
       "metadata": {},
       "output_type": "pyout",
       "prompt_number": 38,
       "text": [
        "Timestamp('2014-09-01 00:00:00')"
       ]
      }
     ],
     "prompt_number": 38
    },
    {
     "cell_type": "code",
     "collapsed": false,
     "input": [
      "# determine 2 business days from 2014-8-29\n",
      "d + 2 * BusinessDay()"
     ],
     "language": "python",
     "metadata": {},
     "outputs": [
      {
       "metadata": {},
       "output_type": "pyout",
       "prompt_number": 39,
       "text": [
        "Timestamp('2014-09-02 00:00:00')"
       ]
      }
     ],
     "prompt_number": 39
    },
    {
     "cell_type": "code",
     "collapsed": false,
     "input": [
      "# what is the next business month end\n",
      "# from a specific date?\n",
      "d + BMonthEnd()"
     ],
     "language": "python",
     "metadata": {},
     "outputs": [
      {
       "metadata": {},
       "output_type": "pyout",
       "prompt_number": 40,
       "text": [
        "Timestamp('2014-09-30 00:00:00')"
       ]
      }
     ],
     "prompt_number": 40
    },
    {
     "cell_type": "code",
     "collapsed": false,
     "input": [
      "# calculate the next month end by\n",
      "# rolling forward from a specific date\n",
      "BMonthEnd().rollforward(datetime(2014, 9, 15))"
     ],
     "language": "python",
     "metadata": {},
     "outputs": [
      {
       "metadata": {},
       "output_type": "pyout",
       "prompt_number": 41,
       "text": [
        "Timestamp('2014-09-30 00:00:00')"
       ]
      }
     ],
     "prompt_number": 41
    },
    {
     "cell_type": "code",
     "collapsed": false,
     "input": [
      "# calculate the date of the Tuesday previous\n",
      "# to a specified date \n",
      "d - Week(weekday = 1)"
     ],
     "language": "python",
     "metadata": {},
     "outputs": [
      {
       "metadata": {},
       "output_type": "pyout",
       "prompt_number": 42,
       "text": [
        "Timestamp('2014-08-26 00:00:00')"
       ]
      }
     ],
     "prompt_number": 42
    },
    {
     "cell_type": "heading",
     "level": 2,
     "metadata": {},
     "source": [
      "Anchored Offsets"
     ]
    },
    {
     "cell_type": "code",
     "collapsed": false,
     "input": [
      "# calculate all Wednesdays between 2014-06-01\n",
      "# and 2014-08-31\n",
      "wednesdays = pd.date_range('2014-06-01', \n",
      "                           '2014-08-31', freq=\"W-WED\")\n",
      "wednesdays.values"
     ],
     "language": "python",
     "metadata": {},
     "outputs": [
      {
       "metadata": {},
       "output_type": "pyout",
       "prompt_number": 43,
       "text": [
        "array(['2014-06-03T18:00:00.000000000-0600',\n",
        "       '2014-06-10T18:00:00.000000000-0600',\n",
        "       '2014-06-17T18:00:00.000000000-0600',\n",
        "       '2014-06-24T18:00:00.000000000-0600',\n",
        "       '2014-07-01T18:00:00.000000000-0600',\n",
        "       '2014-07-08T18:00:00.000000000-0600',\n",
        "       '2014-07-15T18:00:00.000000000-0600',\n",
        "       '2014-07-22T18:00:00.000000000-0600',\n",
        "       '2014-07-29T18:00:00.000000000-0600',\n",
        "       '2014-08-05T18:00:00.000000000-0600',\n",
        "       '2014-08-12T18:00:00.000000000-0600',\n",
        "       '2014-08-19T18:00:00.000000000-0600',\n",
        "       '2014-08-26T18:00:00.000000000-0600'], dtype='datetime64[ns]')"
       ]
      }
     ],
     "prompt_number": 43
    },
    {
     "cell_type": "code",
     "collapsed": false,
     "input": [
      "# what are all of the business quarterly end\n",
      "# dates in 2014?\n",
      "qends = pd.date_range('2014-01-01', '2014-12-31', \n",
      "                      freq='BQS-JUN')\n",
      "qends.values"
     ],
     "language": "python",
     "metadata": {},
     "outputs": [
      {
       "metadata": {},
       "output_type": "pyout",
       "prompt_number": 44,
       "text": [
        "array(['2014-03-02T17:00:00.000000000-0700',\n",
        "       '2014-06-01T18:00:00.000000000-0600',\n",
        "       '2014-08-31T18:00:00.000000000-0600',\n",
        "       '2014-11-30T17:00:00.000000000-0700'], dtype='datetime64[ns]')"
       ]
      }
     ],
     "prompt_number": 44
    },
    {
     "cell_type": "heading",
     "level": 1,
     "metadata": {},
     "source": [
      "Durations of time using Period objects"
     ]
    },
    {
     "cell_type": "heading",
     "level": 2,
     "metadata": {},
     "source": [
      "The Period"
     ]
    },
    {
     "cell_type": "code",
     "collapsed": false,
     "input": [
      "# create a period representing a month of time\n",
      "# starting in August 2014\n",
      "aug2014 = pd.Period('2014-08', freq='M')\n",
      "aug2014"
     ],
     "language": "python",
     "metadata": {},
     "outputs": [
      {
       "metadata": {},
       "output_type": "pyout",
       "prompt_number": 45,
       "text": [
        "Period('2014-08', 'M')"
       ]
      }
     ],
     "prompt_number": 45
    },
    {
     "cell_type": "code",
     "collapsed": false,
     "input": [
      "# examine the start and end times of this period\n",
      "aug2014.start_time, aug2014.end_time"
     ],
     "language": "python",
     "metadata": {},
     "outputs": [
      {
       "metadata": {},
       "output_type": "pyout",
       "prompt_number": 46,
       "text": [
        "(Timestamp('2014-08-01 00:00:00'), Timestamp('2014-08-31 23:59:59.999999999'))"
       ]
      }
     ],
     "prompt_number": 46
    },
    {
     "cell_type": "code",
     "collapsed": false,
     "input": [
      "# calculate the period that is one frequency\n",
      "# unit of the aug2014 period further along in time\n",
      "# This happens to be September 2014\n",
      "sep2014 = aug2014 + 1\n",
      "sep2014"
     ],
     "language": "python",
     "metadata": {},
     "outputs": [
      {
       "metadata": {},
       "output_type": "pyout",
       "prompt_number": 47,
       "text": [
        "Period('2014-09', 'M')"
       ]
      }
     ],
     "prompt_number": 47
    },
    {
     "cell_type": "code",
     "collapsed": false,
     "input": [
      "sep2014.start_time, sep2014.end_time"
     ],
     "language": "python",
     "metadata": {},
     "outputs": [
      {
       "metadata": {},
       "output_type": "pyout",
       "prompt_number": 48,
       "text": [
        "(Timestamp('2014-09-01 00:00:00'), Timestamp('2014-09-30 23:59:59.999999999'))"
       ]
      }
     ],
     "prompt_number": 48
    },
    {
     "cell_type": "heading",
     "level": 2,
     "metadata": {},
     "source": [
      "The PeriodIndex"
     ]
    },
    {
     "cell_type": "code",
     "collapsed": false,
     "input": [
      "# create a period index representing all monthly boundaries in 2013\n",
      "mp2013 = pd.period_range('1/1/2013', '12/31/2013', freq='M')\n",
      "mp2013"
     ],
     "language": "python",
     "metadata": {},
     "outputs": [
      {
       "metadata": {},
       "output_type": "pyout",
       "prompt_number": 49,
       "text": [
        "<class 'pandas.tseries.period.PeriodIndex'>\n",
        "[2013-01, ..., 2013-12]\n",
        "Length: 12, Freq: M"
       ]
      }
     ],
     "prompt_number": 49
    },
    {
     "cell_type": "code",
     "collapsed": false,
     "input": [
      "# loop through all period objects in the index\n",
      "# printing start and end time for each\n",
      "for p in mp2013: \n",
      "    print (\"{0} {1}\".format(p.start_time, p.end_time))"
     ],
     "language": "python",
     "metadata": {},
     "outputs": [
      {
       "output_type": "stream",
       "stream": "stdout",
       "text": [
        "2013-01-01 00:00:00 2013-01-31 23:59:59.999999999\n",
        "2013-02-01 00:00:00 2013-02-28 23:59:59.999999999\n",
        "2013-03-01 00:00:00 2013-03-31 23:59:59.999999999\n",
        "2013-04-01 00:00:00 2013-04-30 23:59:59.999999999\n",
        "2013-05-01 00:00:00 2013-05-31 23:59:59.999999999\n",
        "2013-06-01 00:00:00 2013-06-30 23:59:59.999999999\n",
        "2013-07-01 00:00:00 2013-07-31 23:59:59.999999999\n",
        "2013-08-01 00:00:00 2013-08-31 23:59:59.999999999\n",
        "2013-09-01 00:00:00 2013-09-30 23:59:59.999999999\n",
        "2013-10-01 00:00:00 2013-10-31 23:59:59.999999999\n",
        "2013-11-01 00:00:00 2013-11-30 23:59:59.999999999\n",
        "2013-12-01 00:00:00 2013-12-31 23:59:59.999999999\n"
       ]
      }
     ],
     "prompt_number": 50
    },
    {
     "cell_type": "code",
     "collapsed": false,
     "input": [
      "# create a Series with a PeriodIndex\n",
      "np.random.seed(123456)\n",
      "ps = pd.Series(np.random.randn(12), mp2013)\n",
      "ps"
     ],
     "language": "python",
     "metadata": {},
     "outputs": [
      {
       "metadata": {},
       "output_type": "pyout",
       "prompt_number": 51,
       "text": [
        "2013-01    0.469112\n",
        "2013-02   -0.282863\n",
        "2013-03   -1.509059\n",
        "...\n",
        "2013-10   -2.104569\n",
        "2013-11   -0.494929\n",
        "2013-12    1.071804\n",
        "Freq: M, Length: 12"
       ]
      }
     ],
     "prompt_number": 51
    },
    {
     "cell_type": "code",
     "collapsed": false,
     "input": [
      "# create a Series with a PeriodIndex and which\n",
      "# represents all calendar month periods in 2013 and 2014\n",
      "np.random.seed(123456)\n",
      "ps = pd.Series(np.random.randn(24), \n",
      "               pd.period_range('1/1/2013', \n",
      "                               '12/31/2014', freq='M'))\n",
      "ps"
     ],
     "language": "python",
     "metadata": {},
     "outputs": [
      {
       "metadata": {},
       "output_type": "pyout",
       "prompt_number": 52,
       "text": [
        "2013-01    0.469112\n",
        "2013-02   -0.282863\n",
        "2013-03   -1.509059\n",
        "...\n",
        "2014-10    0.113648\n",
        "2014-11   -1.478427\n",
        "2014-12    0.524988\n",
        "Freq: M, Length: 24"
       ]
      }
     ],
     "prompt_number": 52
    },
    {
     "cell_type": "code",
     "collapsed": false,
     "input": [
      "# get value for period represented with 2014-06\n",
      "ps['2014-06']"
     ],
     "language": "python",
     "metadata": {},
     "outputs": [
      {
       "metadata": {},
       "output_type": "pyout",
       "prompt_number": 53,
       "text": [
        "0.567020349793672"
       ]
      }
     ],
     "prompt_number": 53
    },
    {
     "cell_type": "code",
     "collapsed": false,
     "input": [
      "# get values for all periods in 2014\n",
      "ps['2014']"
     ],
     "language": "python",
     "metadata": {},
     "outputs": [
      {
       "metadata": {},
       "output_type": "pyout",
       "prompt_number": 54,
       "text": [
        "2014-01    0.721555\n",
        "2014-02   -0.706771\n",
        "2014-03   -1.039575\n",
        "...\n",
        "2014-10    0.113648\n",
        "2014-11   -1.478427\n",
        "2014-12    0.524988\n",
        "Freq: M, Length: 12"
       ]
      }
     ],
     "prompt_number": 54
    },
    {
     "cell_type": "code",
     "collapsed": false,
     "input": [
      "# all values between (and including) March and June 2014\n",
      "ps['2014-03':'2014-06']"
     ],
     "language": "python",
     "metadata": {},
     "outputs": [
      {
       "metadata": {},
       "output_type": "pyout",
       "prompt_number": 55,
       "text": [
        "2014-03   -1.039575\n",
        "2014-04    0.271860\n",
        "2014-05   -0.424972\n",
        "2014-06    0.567020\n",
        "Freq: M, dtype: float64"
       ]
      }
     ],
     "prompt_number": 55
    },
    {
     "cell_type": "heading",
     "level": 1,
     "metadata": {},
     "source": [
      "Handling holidays using calendars"
     ]
    },
    {
     "cell_type": "code",
     "collapsed": false,
     "input": [
      "# demonstrate using the US federal holiday calendar\n",
      "# first need to import it\n",
      "from pandas.tseries.holiday import *\n",
      "# create it and show what it considers holidays\n",
      "cal = USFederalHolidayCalendar()\n",
      "for d in cal.holidays(start='2014-01-01', end='2014-12-31'):\n",
      "    print (d)"
     ],
     "language": "python",
     "metadata": {},
     "outputs": [
      {
       "output_type": "stream",
       "stream": "stdout",
       "text": [
        "2014-01-01 00:00:00\n",
        "2014-01-20 00:00:00\n",
        "2014-02-17 00:00:00\n",
        "2014-05-26 00:00:00\n",
        "2014-07-04 00:00:00\n",
        "2014-09-01 00:00:00\n",
        "2014-10-13 00:00:00\n",
        "2014-11-11 00:00:00\n",
        "2014-11-27 00:00:00\n",
        "2014-12-25 00:00:00\n"
       ]
      }
     ],
     "prompt_number": 56
    },
    {
     "cell_type": "code",
     "collapsed": false,
     "input": [
      "# create CustomBusinessDay object based on the federal calendar\n",
      "cbd = CustomBusinessDay(holidays=cal.holidays())\n",
      "\n",
      "# now calc next business day from 2014-8-29\n",
      "datetime(2014, 8, 29) + cbd"
     ],
     "language": "python",
     "metadata": {},
     "outputs": [
      {
       "metadata": {},
       "output_type": "pyout",
       "prompt_number": 57,
       "text": [
        "Timestamp('2014-09-02 00:00:00')"
       ]
      }
     ],
     "prompt_number": 57
    },
    {
     "cell_type": "heading",
     "level": 1,
     "metadata": {},
     "source": [
      "Normalizing timestamps using time zones"
     ]
    },
    {
     "cell_type": "code",
     "collapsed": false,
     "input": [
      "# get the current local time and demonstrate there is no\n",
      "# timezone info by default\n",
      "now = pd.Timestamp('now')\n",
      "now, now.tz is None"
     ],
     "language": "python",
     "metadata": {},
     "outputs": [
      {
       "metadata": {},
       "output_type": "pyout",
       "prompt_number": 58,
       "text": [
        "(Timestamp('2015-04-14 00:27:53.777574'), True)"
       ]
      }
     ],
     "prompt_number": 58
    },
    {
     "cell_type": "code",
     "collapsed": false,
     "input": [
      "# default DatetimeIndex and its Timestamps do not have\n",
      "# time zone information\n",
      "rng = pd.date_range('3/6/2012 00:00', periods=15, freq='D')\n",
      "rng.tz is None, rng[0].tz is None"
     ],
     "language": "python",
     "metadata": {},
     "outputs": [
      {
       "metadata": {},
       "output_type": "pyout",
       "prompt_number": 59,
       "text": [
        "(True, True)"
       ]
      }
     ],
     "prompt_number": 59
    },
    {
     "cell_type": "code",
     "collapsed": false,
     "input": [
      "# import common timezones from pytz\n",
      "from pytz import common_timezones\n",
      "# report the first 5\n",
      "common_timezones[:5]"
     ],
     "language": "python",
     "metadata": {},
     "outputs": [
      {
       "metadata": {},
       "output_type": "pyout",
       "prompt_number": 60,
       "text": [
        "['Africa/Abidjan',\n",
        " 'Africa/Accra',\n",
        " 'Africa/Addis_Ababa',\n",
        " 'Africa/Algiers',\n",
        " 'Africa/Asmara']"
       ]
      }
     ],
     "prompt_number": 60
    },
    {
     "cell_type": "code",
     "collapsed": false,
     "input": [
      "# get now, and now localized to UTC\n",
      "now = Timestamp(\"now\")\n",
      "local_now = now.tz_localize('UTC')\n",
      "now, local_now"
     ],
     "language": "python",
     "metadata": {},
     "outputs": [
      {
       "metadata": {},
       "output_type": "pyout",
       "prompt_number": 61,
       "text": [
        "(Timestamp('2015-04-14 00:27:53.833231'),\n",
        " Timestamp('2015-04-14 00:27:53.833231+0000', tz='UTC'))"
       ]
      }
     ],
     "prompt_number": 61
    },
    {
     "cell_type": "code",
     "collapsed": false,
     "input": [
      "# localize a timestamp to US/Mountain time zone\n",
      "tstamp = Timestamp('2014-08-01 12:00:00', tz='US/Mountain')\n",
      "tstamp"
     ],
     "language": "python",
     "metadata": {},
     "outputs": [
      {
       "metadata": {},
       "output_type": "pyout",
       "prompt_number": 62,
       "text": [
        "Timestamp('2014-08-01 12:00:00-0600', tz='US/Mountain')"
       ]
      }
     ],
     "prompt_number": 62
    },
    {
     "cell_type": "code",
     "collapsed": false,
     "input": [
      "# create a DatetimeIndex using a timezone\n",
      "rng = pd.date_range('3/6/2012 00:00:00', \n",
      "                    periods=10, freq='D', tz='US/Mountain')\n",
      "rng.tz, rng[0].tz"
     ],
     "language": "python",
     "metadata": {},
     "outputs": [
      {
       "metadata": {},
       "output_type": "pyout",
       "prompt_number": 63,
       "text": [
        "(<DstTzInfo 'US/Mountain' LMT-1 day, 17:00:00 STD>,\n",
        " <DstTzInfo 'US/Mountain' MST-1 day, 17:00:00 STD>)"
       ]
      }
     ],
     "prompt_number": 63
    },
    {
     "cell_type": "code",
     "collapsed": false,
     "input": [
      "# show use of timezone objects\n",
      "# need to reference pytz\n",
      "import pytz\n",
      "# create an object for two different timezones\n",
      "mountain_tz = pytz.timezone(\"US/Mountain\")\n",
      "eastern_tz = pytz.timezone(\"US/Eastern\")\n",
      "# apply each to 'now'\n",
      "mountain_tz.localize(now), eastern_tz.localize(now)"
     ],
     "language": "python",
     "metadata": {},
     "outputs": [
      {
       "metadata": {},
       "output_type": "pyout",
       "prompt_number": 64,
       "text": [
        "(Timestamp('2015-04-14 00:27:53.833231-0600', tz='US/Mountain'),\n",
        " Timestamp('2015-04-14 00:27:53.833231-0400', tz='US/Eastern'))"
       ]
      }
     ],
     "prompt_number": 64
    },
    {
     "cell_type": "code",
     "collapsed": false,
     "input": [
      "# create two Series, same start, same periods, same frequencies,\n",
      "# each with a different timezone\n",
      "s_mountain = Series(np.arange(0, 5),\n",
      "                    index=pd.date_range('2014-08-01', \n",
      "                                        periods=5, freq=\"H\", \n",
      "                                        tz='US/Mountain'))\n",
      "s_eastern = Series(np.arange(0, 5), \n",
      "                   index=pd.date_range('2014-08-01', \n",
      "                                       periods=5, freq=\"H\", \n",
      "                                       tz='US/Eastern'))\n",
      "s_mountain"
     ],
     "language": "python",
     "metadata": {},
     "outputs": [
      {
       "metadata": {},
       "output_type": "pyout",
       "prompt_number": 65,
       "text": [
        "2014-08-01 00:00:00-06:00    0\n",
        "2014-08-01 01:00:00-06:00    1\n",
        "2014-08-01 02:00:00-06:00    2\n",
        "2014-08-01 03:00:00-06:00    3\n",
        "2014-08-01 04:00:00-06:00    4\n",
        "Freq: H, dtype: int64"
       ]
      }
     ],
     "prompt_number": 65
    },
    {
     "cell_type": "code",
     "collapsed": false,
     "input": [
      "s_eastern"
     ],
     "language": "python",
     "metadata": {},
     "outputs": [
      {
       "metadata": {},
       "output_type": "pyout",
       "prompt_number": 66,
       "text": [
        "2014-08-01 00:00:00-04:00    0\n",
        "2014-08-01 01:00:00-04:00    1\n",
        "2014-08-01 02:00:00-04:00    2\n",
        "2014-08-01 03:00:00-04:00    3\n",
        "2014-08-01 04:00:00-04:00    4\n",
        "Freq: H, dtype: int64"
       ]
      }
     ],
     "prompt_number": 66
    },
    {
     "cell_type": "code",
     "collapsed": false,
     "input": [
      "# add the two Series. This only results in three items being aligned\n",
      "s_eastern + s_mountain"
     ],
     "language": "python",
     "metadata": {},
     "outputs": [
      {
       "metadata": {},
       "output_type": "pyout",
       "prompt_number": 67,
       "text": [
        "2014-08-01 04:00:00+00:00   NaN\n",
        "2014-08-01 05:00:00+00:00   NaN\n",
        "2014-08-01 06:00:00+00:00     2\n",
        "2014-08-01 07:00:00+00:00     4\n",
        "2014-08-01 08:00:00+00:00     6\n",
        "2014-08-01 09:00:00+00:00   NaN\n",
        "2014-08-01 10:00:00+00:00   NaN\n",
        "Freq: H, dtype: float64"
       ]
      }
     ],
     "prompt_number": 67
    },
    {
     "cell_type": "code",
     "collapsed": false,
     "input": [
      "# convert s1 from US/Eastern to US/Pacific\n",
      "s_pacific = s_eastern.tz_convert(\"US/Pacific\")\n",
      "s_pacific"
     ],
     "language": "python",
     "metadata": {},
     "outputs": [
      {
       "metadata": {},
       "output_type": "pyout",
       "prompt_number": 68,
       "text": [
        "2014-07-31 21:00:00-07:00    0\n",
        "2014-07-31 22:00:00-07:00    1\n",
        "2014-07-31 23:00:00-07:00    2\n",
        "2014-08-01 00:00:00-07:00    3\n",
        "2014-08-01 01:00:00-07:00    4\n",
        "Freq: H, dtype: int64"
       ]
      }
     ],
     "prompt_number": 68
    },
    {
     "cell_type": "code",
     "collapsed": false,
     "input": [
      "# this will be the same result as s_eastern + s_mountain\n",
      "# as the timezones still get aligned to be the same\n",
      "s_mountain + s_pacific"
     ],
     "language": "python",
     "metadata": {},
     "outputs": [
      {
       "metadata": {},
       "output_type": "pyout",
       "prompt_number": 69,
       "text": [
        "2014-08-01 04:00:00+00:00   NaN\n",
        "2014-08-01 05:00:00+00:00   NaN\n",
        "2014-08-01 06:00:00+00:00     2\n",
        "2014-08-01 07:00:00+00:00     4\n",
        "2014-08-01 08:00:00+00:00     6\n",
        "2014-08-01 09:00:00+00:00   NaN\n",
        "2014-08-01 10:00:00+00:00   NaN\n",
        "Freq: H, dtype: float64"
       ]
      }
     ],
     "prompt_number": 69
    },
    {
     "cell_type": "heading",
     "level": 1,
     "metadata": {},
     "source": [
      "Manipulating time-series data"
     ]
    },
    {
     "cell_type": "heading",
     "level": 2,
     "metadata": {},
     "source": [
      "Shifting and lagging "
     ]
    },
    {
     "cell_type": "code",
     "collapsed": false,
     "input": [
      "# create a Series to work with\n",
      "np.random.seed(123456)\n",
      "ts = Series([1, 2, 2.5, 1.5, 0.5],\n",
      "            pd.date_range('2014-08-01', periods=5))\n",
      "ts"
     ],
     "language": "python",
     "metadata": {},
     "outputs": [
      {
       "metadata": {},
       "output_type": "pyout",
       "prompt_number": 70,
       "text": [
        "2014-08-01    1.0\n",
        "2014-08-02    2.0\n",
        "2014-08-03    2.5\n",
        "2014-08-04    1.5\n",
        "2014-08-05    0.5\n",
        "Freq: D, dtype: float64"
       ]
      }
     ],
     "prompt_number": 70
    },
    {
     "cell_type": "code",
     "collapsed": false,
     "input": [
      "# shift forward one day\n",
      "ts.shift(1)"
     ],
     "language": "python",
     "metadata": {},
     "outputs": [
      {
       "metadata": {},
       "output_type": "pyout",
       "prompt_number": 71,
       "text": [
        "2014-08-01    NaN\n",
        "2014-08-02    1.0\n",
        "2014-08-03    2.0\n",
        "2014-08-04    2.5\n",
        "2014-08-05    1.5\n",
        "Freq: D, dtype: float64"
       ]
      }
     ],
     "prompt_number": 71
    },
    {
     "cell_type": "code",
     "collapsed": false,
     "input": [
      "# lag two days\n",
      "ts.shift(-2)"
     ],
     "language": "python",
     "metadata": {},
     "outputs": [
      {
       "metadata": {},
       "output_type": "pyout",
       "prompt_number": 72,
       "text": [
        "2014-08-01    2.5\n",
        "2014-08-02    1.5\n",
        "2014-08-03    0.5\n",
        "2014-08-04    NaN\n",
        "2014-08-05    NaN\n",
        "Freq: D, dtype: float64"
       ]
      }
     ],
     "prompt_number": 72
    },
    {
     "cell_type": "code",
     "collapsed": false,
     "input": [
      "# calculate daily percentage change\n",
      "ts / ts.shift(1)"
     ],
     "language": "python",
     "metadata": {},
     "outputs": [
      {
       "metadata": {},
       "output_type": "pyout",
       "prompt_number": 73,
       "text": [
        "2014-08-01         NaN\n",
        "2014-08-02    2.000000\n",
        "2014-08-03    1.250000\n",
        "2014-08-04    0.600000\n",
        "2014-08-05    0.333333\n",
        "Freq: D, dtype: float64"
       ]
      }
     ],
     "prompt_number": 73
    },
    {
     "cell_type": "code",
     "collapsed": false,
     "input": [
      "# shift forward one business day\n",
      "ts.shift(1, freq=\"B\")"
     ],
     "language": "python",
     "metadata": {},
     "outputs": [
      {
       "metadata": {},
       "output_type": "pyout",
       "prompt_number": 74,
       "text": [
        "2014-08-04    1.0\n",
        "2014-08-04    2.0\n",
        "2014-08-04    2.5\n",
        "2014-08-05    1.5\n",
        "2014-08-06    0.5\n",
        "dtype: float64"
       ]
      }
     ],
     "prompt_number": 74
    },
    {
     "cell_type": "code",
     "collapsed": false,
     "input": [
      "# shift forward five hours\n",
      "ts.tshift(5, freq=\"H\")"
     ],
     "language": "python",
     "metadata": {},
     "outputs": [
      {
       "metadata": {},
       "output_type": "pyout",
       "prompt_number": 75,
       "text": [
        "2014-08-01 05:00:00    1.0\n",
        "2014-08-02 05:00:00    2.0\n",
        "2014-08-03 05:00:00    2.5\n",
        "2014-08-04 05:00:00    1.5\n",
        "2014-08-05 05:00:00    0.5\n",
        "dtype: float64"
       ]
      }
     ],
     "prompt_number": 75
    },
    {
     "cell_type": "code",
     "collapsed": false,
     "input": [
      "# shift using a DateOffset\n",
      "ts.shift(1, DateOffset(minutes=0.5))"
     ],
     "language": "python",
     "metadata": {},
     "outputs": [
      {
       "metadata": {},
       "output_type": "pyout",
       "prompt_number": 76,
       "text": [
        "2014-08-01 00:00:30    1.0\n",
        "2014-08-02 00:00:30    2.0\n",
        "2014-08-03 00:00:30    2.5\n",
        "2014-08-04 00:00:30    1.5\n",
        "2014-08-05 00:00:30    0.5\n",
        "dtype: float64"
       ]
      }
     ],
     "prompt_number": 76
    },
    {
     "cell_type": "code",
     "collapsed": false,
     "input": [
      "# shift just the index values\n",
      "ts.tshift(-1, freq='H')"
     ],
     "language": "python",
     "metadata": {},
     "outputs": [
      {
       "metadata": {},
       "output_type": "pyout",
       "prompt_number": 77,
       "text": [
        "2014-07-31 23:00:00    1.0\n",
        "2014-08-01 23:00:00    2.0\n",
        "2014-08-02 23:00:00    2.5\n",
        "2014-08-03 23:00:00    1.5\n",
        "2014-08-04 23:00:00    0.5\n",
        "dtype: float64"
       ]
      }
     ],
     "prompt_number": 77
    },
    {
     "cell_type": "heading",
     "level": 2,
     "metadata": {},
     "source": [
      "Frequency Conversion"
     ]
    },
    {
     "cell_type": "code",
     "collapsed": false,
     "input": [
      "# create a Series of incremental values\n",
      "# index by hour through all of August 2014\n",
      "periods = 31 * 24\n",
      "hourly = Series(np.arange(0, periods),\n",
      "               pd.date_range('08-01-2014', freq=\"2H\", \n",
      "                             periods = periods))\n",
      "hourly"
     ],
     "language": "python",
     "metadata": {},
     "outputs": [
      {
       "metadata": {},
       "output_type": "pyout",
       "prompt_number": 78,
       "text": [
        "2014-08-01 00:00:00    0\n",
        "2014-08-01 02:00:00    1\n",
        "2014-08-01 04:00:00    2\n",
        "...\n",
        "2014-10-01 18:00:00    741\n",
        "2014-10-01 20:00:00    742\n",
        "2014-10-01 22:00:00    743\n",
        "Freq: 2H, Length: 744"
       ]
      }
     ],
     "prompt_number": 78
    },
    {
     "cell_type": "code",
     "collapsed": false,
     "input": [
      "# convert to daily frequency\n",
      "# many items will be dropped due to alignment\n",
      "daily = hourly.asfreq('D')\n",
      "daily"
     ],
     "language": "python",
     "metadata": {},
     "outputs": [
      {
       "metadata": {},
       "output_type": "pyout",
       "prompt_number": 79,
       "text": [
        "2014-08-01     0\n",
        "2014-08-02    12\n",
        "2014-08-03    24\n",
        "...\n",
        "2014-09-29    708\n",
        "2014-09-30    720\n",
        "2014-10-01    732\n",
        "Freq: D, Length: 62"
       ]
      }
     ],
     "prompt_number": 79
    },
    {
     "cell_type": "code",
     "collapsed": false,
     "input": [
      "# convert back to hourly.  Results in many NaNs\n",
      "# as the new index has many labels that do not\n",
      "# align from the source\n",
      "daily.asfreq('H')"
     ],
     "language": "python",
     "metadata": {},
     "outputs": [
      {
       "metadata": {},
       "output_type": "pyout",
       "prompt_number": 80,
       "text": [
        "2014-08-01 00:00:00     0\n",
        "2014-08-01 01:00:00   NaN\n",
        "2014-08-01 02:00:00   NaN\n",
        "...\n",
        "2014-09-30 22:00:00    NaN\n",
        "2014-09-30 23:00:00    NaN\n",
        "2014-10-01 00:00:00    732\n",
        "Freq: H, Length: 1465"
       ]
      }
     ],
     "prompt_number": 80
    },
    {
     "cell_type": "code",
     "collapsed": false,
     "input": [
      "# forward fill values\n",
      "daily.asfreq('H', method='ffill')"
     ],
     "language": "python",
     "metadata": {},
     "outputs": [
      {
       "metadata": {},
       "output_type": "pyout",
       "prompt_number": 81,
       "text": [
        "2014-08-01 00:00:00    0\n",
        "2014-08-01 01:00:00    0\n",
        "2014-08-01 02:00:00    0\n",
        "...\n",
        "2014-09-30 22:00:00    720\n",
        "2014-09-30 23:00:00    720\n",
        "2014-10-01 00:00:00    732\n",
        "Freq: H, Length: 1465"
       ]
      }
     ],
     "prompt_number": 81
    },
    {
     "cell_type": "code",
     "collapsed": false,
     "input": [
      "daily.asfreq('H', method='bfill')"
     ],
     "language": "python",
     "metadata": {},
     "outputs": [
      {
       "metadata": {},
       "output_type": "pyout",
       "prompt_number": 82,
       "text": [
        "2014-08-01 00:00:00     0\n",
        "2014-08-01 01:00:00    12\n",
        "2014-08-01 02:00:00    12\n",
        "...\n",
        "2014-09-30 22:00:00    732\n",
        "2014-09-30 23:00:00    732\n",
        "2014-10-01 00:00:00    732\n",
        "Freq: H, Length: 1465"
       ]
      }
     ],
     "prompt_number": 82
    },
    {
     "cell_type": "heading",
     "level": 2,
     "metadata": {},
     "source": [
      "Up and down resampling"
     ]
    },
    {
     "cell_type": "code",
     "collapsed": false,
     "input": [
      "# calculate a random walk five days long at one second intervals\n",
      "# this many items will be needed\n",
      "count = 24 * 60 * 60 * 5\n",
      "# create a series of values\n",
      "np.random.seed(123456)\n",
      "values = np.random.randn(count)\n",
      "ws = pd.Series(values)\n",
      "# calculate the walk\n",
      "walk = ws.cumsum()\n",
      "# patch the index\n",
      "walk.index = pd.date_range('2014-08-01', periods=count, freq=\"S\")\n",
      "walk"
     ],
     "language": "python",
     "metadata": {},
     "outputs": [
      {
       "metadata": {},
       "output_type": "pyout",
       "prompt_number": 83,
       "text": [
        "2014-08-01 00:00:00    0.469112\n",
        "2014-08-01 00:00:01    0.186249\n",
        "2014-08-01 00:00:02   -1.322810\n",
        "...\n",
        "2014-08-05 23:59:57    455.202981\n",
        "2014-08-05 23:59:58    454.947362\n",
        "2014-08-05 23:59:59    456.191430\n",
        "Freq: S, Length: 432000"
       ]
      }
     ],
     "prompt_number": 83
    },
    {
     "cell_type": "code",
     "collapsed": false,
     "input": [
      "# resample to minute intervals\n",
      "walk.resample(\"1Min\")"
     ],
     "language": "python",
     "metadata": {},
     "outputs": [
      {
       "metadata": {},
       "output_type": "pyout",
       "prompt_number": 84,
       "text": [
        "2014-08-01 00:00:00    -8.718220\n",
        "2014-08-01 00:01:00   -15.239213\n",
        "2014-08-01 00:02:00    -9.179315\n",
        "...\n",
        "2014-08-05 23:57:00    450.078149\n",
        "2014-08-05 23:58:00    444.637806\n",
        "2014-08-05 23:59:00    453.837417\n",
        "Freq: T, Length: 7200"
       ]
      }
     ],
     "prompt_number": 84
    },
    {
     "cell_type": "code",
     "collapsed": false,
     "input": [
      "# calculate the mean of the first minute of the walk\n",
      "walk['2014-08-01 00:00'].mean()"
     ],
     "language": "python",
     "metadata": {},
     "outputs": [
      {
       "metadata": {},
       "output_type": "pyout",
       "prompt_number": 85,
       "text": [
        "-8.7182200528326437"
       ]
      }
     ],
     "prompt_number": 85
    },
    {
     "cell_type": "code",
     "collapsed": false,
     "input": [
      "# use a right close\n",
      "walk.resample(\"1Min\", closed='right')"
     ],
     "language": "python",
     "metadata": {},
     "outputs": [
      {
       "metadata": {},
       "output_type": "pyout",
       "prompt_number": 86,
       "text": [
        "2014-07-31 23:59:00     0.469112\n",
        "2014-08-01 00:00:00    -8.907477\n",
        "2014-08-01 00:01:00   -15.280685\n",
        "...\n",
        "2014-08-05 23:57:00    450.039159\n",
        "2014-08-05 23:58:00    444.631719\n",
        "2014-08-05 23:59:00    453.955377\n",
        "Freq: T, Length: 7201"
       ]
      }
     ],
     "prompt_number": 86
    },
    {
     "cell_type": "code",
     "collapsed": false,
     "input": [
      "# take the first value of each bucket\n",
      "walk.resample(\"1Min\", how='first')"
     ],
     "language": "python",
     "metadata": {},
     "outputs": [
      {
       "metadata": {},
       "output_type": "pyout",
       "prompt_number": 87,
       "text": [
        "2014-08-01 00:00:00     0.469112\n",
        "2014-08-01 00:01:00   -10.886314\n",
        "2014-08-01 00:02:00   -13.374656\n",
        "...\n",
        "2014-08-05 23:57:00    449.582419\n",
        "2014-08-05 23:58:00    447.243014\n",
        "2014-08-05 23:59:00    446.877810\n",
        "Freq: T, Length: 7200"
       ]
      }
     ],
     "prompt_number": 87
    },
    {
     "cell_type": "code",
     "collapsed": false,
     "input": [
      "# resample to 1 minute intervales, then back to 1 sec\n",
      "bymin = walk.resample(\"1Min\")\n",
      "bymin.resample('S')"
     ],
     "language": "python",
     "metadata": {},
     "outputs": [
      {
       "metadata": {},
       "output_type": "pyout",
       "prompt_number": 88,
       "text": [
        "2014-08-01 00:00:00   -8.71822\n",
        "2014-08-01 00:00:01        NaN\n",
        "2014-08-01 00:00:02        NaN\n",
        "...\n",
        "2014-08-05 23:58:58           NaN\n",
        "2014-08-05 23:58:59           NaN\n",
        "2014-08-05 23:59:00    453.837417\n",
        "Freq: S, Length: 431941"
       ]
      }
     ],
     "prompt_number": 88
    },
    {
     "cell_type": "code",
     "collapsed": false,
     "input": [
      "# resample to 1 second intervales using forward fill\n",
      "bymin.resample(\"S\", fill_method=\"bfill\")"
     ],
     "language": "python",
     "metadata": {},
     "outputs": [
      {
       "metadata": {},
       "output_type": "pyout",
       "prompt_number": 89,
       "text": [
        "2014-08-01 00:00:00    -8.718220\n",
        "2014-08-01 00:00:01   -15.239213\n",
        "2014-08-01 00:00:02   -15.239213\n",
        "...\n",
        "2014-08-05 23:58:58    453.837417\n",
        "2014-08-05 23:58:59    453.837417\n",
        "2014-08-05 23:59:00    453.837417\n",
        "Freq: S, Length: 431941"
       ]
      }
     ],
     "prompt_number": 89
    },
    {
     "cell_type": "code",
     "collapsed": false,
     "input": [
      "# demonstate interoplating the NaN values\n",
      "interpolated = bymin.resample(\"S\").interpolate()\n",
      "interpolated"
     ],
     "language": "python",
     "metadata": {},
     "outputs": [
      {
       "metadata": {},
       "output_type": "pyout",
       "prompt_number": 90,
       "text": [
        "2014-08-01 00:00:00   -8.718220\n",
        "2014-08-01 00:00:01   -8.826903\n",
        "2014-08-01 00:00:02   -8.935586\n",
        "...\n",
        "2014-08-05 23:58:58    453.530764\n",
        "2014-08-05 23:58:59    453.684090\n",
        "2014-08-05 23:59:00    453.837417\n",
        "Freq: S, Length: 431941"
       ]
      }
     ],
     "prompt_number": 90
    },
    {
     "cell_type": "code",
     "collapsed": false,
     "input": [
      "# show ohlc resampling\n",
      "ohlc = walk.resample(\"H\", how=\"ohlc\")\n",
      "ohlc"
     ],
     "language": "python",
     "metadata": {},
     "outputs": [
      {
       "metadata": {},
       "output_type": "pyout",
       "prompt_number": 91,
       "text": [
        "                           open        high         low       close\n",
        "2014-08-01 00:00:00    0.469112    0.469112  -67.873166   -2.922520\n",
        "2014-08-01 01:00:00   -3.374321   23.793007  -56.585154  -55.101543\n",
        "2014-08-01 02:00:00  -54.276885    5.232441  -87.809456    1.913276\n",
        "2014-08-01 03:00:00    0.260576   17.124638  -65.820652  -38.530620\n",
        "2014-08-01 04:00:00  -38.436581    3.537231 -109.805294  -61.014553\n",
        "...                         ...         ...         ...         ...\n",
        "2014-08-05 19:00:00  437.652077  550.408942  430.549178  494.471788\n",
        "2014-08-05 20:00:00  496.539759  510.371745  456.365565  476.505765\n",
        "2014-08-05 21:00:00  476.025498  506.952877  425.472410  498.547578\n",
        "2014-08-05 22:00:00  497.941355  506.599652  411.119919  443.925832\n",
        "2014-08-05 23:00:00  443.017962  489.083657  426.062444  456.191430\n",
        "\n",
        "[120 rows x 4 columns]"
       ]
      }
     ],
     "prompt_number": 91
    },
    {
     "cell_type": "heading",
     "level": 1,
     "metadata": {},
     "source": [
      "Time series moving window operations"
     ]
    },
    {
     "cell_type": "code",
     "collapsed": false,
     "input": [
      "first_minute = walk['2014-08-01 00:00']\n",
      "# calculate a rol1ing mean window of 5 periods\n",
      "pd.rolling_mean(first_minute, 5).plot()\n",
      "# plot it against the raw data\n",
      "first_minute.plot()\n",
      "# add a legend\n",
      "plt.legend(labels=['Rolling Mean', 'Raw']);"
     ],
     "language": "python",
     "metadata": {},
     "outputs": [
      {
       "metadata": {},
       "output_type": "display_data",
       "png": "[encoded data removed]",
       "text": [
        "<matplotlib.figure.Figure at 0x10a75af10>"
       ]
      }
     ],
     "prompt_number": 92
    },
    {
     "cell_type": "code",
     "collapsed": false,
     "input": [
      "# demonstrate the difference between 2, 5 and\n",
      "# 10 interval rolling windows\n",
      "h1w = walk['2014-08-01 00:00']\n",
      "h1w.plot()\n",
      "pd.rolling_mean(h1w, 2).plot()\n",
      "pd.rolling_mean(h1w, 5).plot()\n",
      "pd.rolling_mean(h1w, 10).plot()\n",
      "plt.legend(labels=['Raw', '2-interval RM',\n",
      "                   '5-interval RM',\n",
      "                   '10-interval RM']);"
     ],
     "language": "python",
     "metadata": {},
     "outputs": [
      {
       "metadata": {},
       "output_type": "display_data",
       "png": "[encoded data removed]",
       "text": [
        "<matplotlib.figure.Figure at 0x10a75ae90>"
       ]
      }
     ],
     "prompt_number": 93
    },
    {
     "cell_type": "code",
     "collapsed": false,
     "input": [
      "# calculate mean average deviation with window of 5 intervals\n",
      "mean_abs_dev = lambda x: np.fabs(x - x.mean()).mean()\n",
      "pd.rolling_apply(h1w, 5, mean_abs_dev).plot();"
     ],
     "language": "python",
     "metadata": {},
     "outputs": [
      {
       "metadata": {},
       "output_type": "display_data",
       "png": "[encoded data removed]",
       "text": [
        "<matplotlib.figure.Figure at 0x10a7615d0>"
       ]
      }
     ],
     "prompt_number": 94
    },
    {
     "cell_type": "code",
     "collapsed": false,
     "input": [
      "# calculate an expanding rolling mean\n",
      "expanding_mean = lambda x: pd.rolling_mean(x, len(x), \n",
      "                                           min_periods=1)\n",
      "h1w.plot()\n",
      "pd.expanding_mean(h1w).plot()\n",
      "plt.legend(labels=['Expanding mean', 'Raw']);"
     ],
     "language": "python",
     "metadata": {},
     "outputs": [
      {
       "metadata": {},
       "output_type": "display_data",
       "png": "[encoded data removed]",
       "text": [
        "<matplotlib.figure.Figure at 0x10a02d310>"
       ]
      }
     ],
     "prompt_number": 95
    }
   ],
   "metadata": {}
  }
 ]
}