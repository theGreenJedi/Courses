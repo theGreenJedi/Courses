{
 "metadata": {
  "name": "",
  "signature": "sha256:9b29e093f3b52212797782a85e431779bf9690502d9a02a06c53b6e77cf8e11a"
 },
 "nbformat": 3,
 "nbformat_minor": 0,
 "worksheets": [
  {
   "cells": [
    {
     "cell_type": "heading",
     "level": 1,
     "metadata": {},
     "source": [
      "Installing and importing NumPy"
     ]
    },
    {
     "cell_type": "code",
     "collapsed": false,
     "input": [
      "# this allows us to access numpy using the \n",
      "# np. prefix\n",
      "import numpy as np"
     ],
     "language": "python",
     "metadata": {},
     "outputs": [],
     "prompt_number": 1
    },
    {
     "cell_type": "heading",
     "level": 1,
     "metadata": {},
     "source": [
      "Benefits and characteristics of NumPy arrays"
     ]
    },
    {
     "cell_type": "code",
     "collapsed": false,
     "input": [
      "# a function that squares all the values\n",
      "# in a sequence\n",
      "def squares(values):\n",
      "    result = []\n",
      "    for v in values:\n",
      "        result.append(v * v)\n",
      "    return result\n",
      "\n",
      "# create 100,000 numbers using python range\n",
      "to_square = range(100000)\n",
      "# time how long it takes to repeatedly square them all\n",
      "%timeit squares(to_square)"
     ],
     "language": "python",
     "metadata": {},
     "outputs": [
      {
       "output_type": "stream",
       "stream": "stdout",
       "text": [
        "100 loops, best of 3: 14.5 ms per loop\n"
       ]
      }
     ],
     "prompt_number": 2
    },
    {
     "cell_type": "code",
     "collapsed": false,
     "input": [
      "# now lets do this with a numpy array\n",
      "array_to_square = np.arange(0, 100000)\n",
      "# and time using a vectorized operation\n",
      "%timeit array_to_square ** 2"
     ],
     "language": "python",
     "metadata": {},
     "outputs": [
      {
       "output_type": "stream",
       "stream": "stdout",
       "text": [
        "10000 loops, best of 3: 77.6 \u00b5s per loop\n"
       ]
      }
     ],
     "prompt_number": 3
    },
    {
     "cell_type": "heading",
     "level": 1,
     "metadata": {},
     "source": [
      "Creating NumPy arrays and performing basic operations"
     ]
    },
    {
     "cell_type": "code",
     "collapsed": false,
     "input": [
      "# a simple array\n",
      "a1 = np.array([1, 2, 3, 4, 5])\n",
      "a1"
     ],
     "language": "python",
     "metadata": {},
     "outputs": [
      {
       "metadata": {},
       "output_type": "pyout",
       "prompt_number": 4,
       "text": [
        "array([1, 2, 3, 4, 5])"
       ]
      }
     ],
     "prompt_number": 4
    },
    {
     "cell_type": "code",
     "collapsed": false,
     "input": [
      "# what is its type?\n",
      "type(a1)"
     ],
     "language": "python",
     "metadata": {},
     "outputs": [
      {
       "metadata": {},
       "output_type": "pyout",
       "prompt_number": 5,
       "text": [
        "numpy.ndarray"
       ]
      }
     ],
     "prompt_number": 5
    },
    {
     "cell_type": "code",
     "collapsed": false,
     "input": [
      "# how many elements?\n",
      "np.size(a1)"
     ],
     "language": "python",
     "metadata": {},
     "outputs": [
      {
       "metadata": {},
       "output_type": "pyout",
       "prompt_number": 6,
       "text": [
        "5"
       ]
      }
     ],
     "prompt_number": 6
    },
    {
     "cell_type": "code",
     "collapsed": false,
     "input": [
      "# any floats in the sequences makes \n",
      "# it an array of floats\n",
      "a2 = np.array([1, 2, 3, 4.0, 5.0])\n",
      "a2"
     ],
     "language": "python",
     "metadata": {},
     "outputs": [
      {
       "metadata": {},
       "output_type": "pyout",
       "prompt_number": 7,
       "text": [
        "array([ 1.,  2.,  3.,  4.,  5.])"
       ]
      }
     ],
     "prompt_number": 7
    },
    {
     "cell_type": "code",
     "collapsed": false,
     "input": [
      "# array is all of one type (float64 in this case)\n",
      "a2.dtype"
     ],
     "language": "python",
     "metadata": {},
     "outputs": [
      {
       "metadata": {},
       "output_type": "pyout",
       "prompt_number": 8,
       "text": [
        "dtype('float64')"
       ]
      }
     ],
     "prompt_number": 8
    },
    {
     "cell_type": "code",
     "collapsed": false,
     "input": [
      "# shorthand to repeat a sequence 10 times\n",
      "a3 = np.array([0]*10)\n",
      "a3"
     ],
     "language": "python",
     "metadata": {},
     "outputs": [
      {
       "metadata": {},
       "output_type": "pyout",
       "prompt_number": 9,
       "text": [
        "array([0, 0, 0, 0, 0, 0, 0, 0, 0, 0])"
       ]
      }
     ],
     "prompt_number": 9
    },
    {
     "cell_type": "code",
     "collapsed": false,
     "input": [
      "# convert a python range to numpy array\n",
      "np.array(range(10))"
     ],
     "language": "python",
     "metadata": {},
     "outputs": [
      {
       "metadata": {},
       "output_type": "pyout",
       "prompt_number": 10,
       "text": [
        "array([0, 1, 2, 3, 4, 5, 6, 7, 8, 9])"
       ]
      }
     ],
     "prompt_number": 10
    },
    {
     "cell_type": "code",
     "collapsed": false,
     "input": [
      "# create a numpy array of 10 0.0's\n",
      "np.zeros(10)"
     ],
     "language": "python",
     "metadata": {},
     "outputs": [
      {
       "metadata": {},
       "output_type": "pyout",
       "prompt_number": 11,
       "text": [
        "array([ 0.,  0.,  0.,  0.,  0.,  0.,  0.,  0.,  0.,  0.])"
       ]
      }
     ],
     "prompt_number": 11
    },
    {
     "cell_type": "code",
     "collapsed": false,
     "input": [
      "# force it to be of int instead of float64\n",
      "np.zeros(10, dtype=int)"
     ],
     "language": "python",
     "metadata": {},
     "outputs": [
      {
       "metadata": {},
       "output_type": "pyout",
       "prompt_number": 12,
       "text": [
        "array([0, 0, 0, 0, 0, 0, 0, 0, 0, 0])"
       ]
      }
     ],
     "prompt_number": 12
    },
    {
     "cell_type": "code",
     "collapsed": false,
     "input": [
      "# make \"a range\" starting at 0 and with 10 values\n",
      "np.arange(0, 10)"
     ],
     "language": "python",
     "metadata": {},
     "outputs": [
      {
       "metadata": {},
       "output_type": "pyout",
       "prompt_number": 13,
       "text": [
        "array([0, 1, 2, 3, 4, 5, 6, 7, 8, 9])"
       ]
      }
     ],
     "prompt_number": 13
    },
    {
     "cell_type": "code",
     "collapsed": false,
     "input": [
      "# 0 <= x < 10 increment by two\n",
      "np.arange(0, 10, 2)"
     ],
     "language": "python",
     "metadata": {},
     "outputs": [
      {
       "metadata": {},
       "output_type": "pyout",
       "prompt_number": 14,
       "text": [
        "array([0, 2, 4, 6, 8])"
       ]
      }
     ],
     "prompt_number": 14
    },
    {
     "cell_type": "code",
     "collapsed": false,
     "input": [
      "# 10 >= x > 0, counting down\n",
      "np.arange(10, 0, -1)"
     ],
     "language": "python",
     "metadata": {},
     "outputs": [
      {
       "metadata": {},
       "output_type": "pyout",
       "prompt_number": 15,
       "text": [
        "array([10,  9,  8,  7,  6,  5,  4,  3,  2,  1])"
       ]
      }
     ],
     "prompt_number": 15
    },
    {
     "cell_type": "code",
     "collapsed": false,
     "input": [
      "# evenly spaced #'s between two intervals\n",
      "np.linspace(0, 10, 11)"
     ],
     "language": "python",
     "metadata": {},
     "outputs": [
      {
       "metadata": {},
       "output_type": "pyout",
       "prompt_number": 16,
       "text": [
        "array([  0.,   1.,   2.,   3.,   4.,   5.,   6.,   7.,   8.,   9.,  10.])"
       ]
      }
     ],
     "prompt_number": 16
    },
    {
     "cell_type": "code",
     "collapsed": false,
     "input": [
      "# multiply numpy array by 2\n",
      "a1 = np.arange(0, 10) \n",
      "a1 * 2"
     ],
     "language": "python",
     "metadata": {},
     "outputs": [
      {
       "metadata": {},
       "output_type": "pyout",
       "prompt_number": 17,
       "text": [
        "array([ 0,  2,  4,  6,  8, 10, 12, 14, 16, 18])"
       ]
      }
     ],
     "prompt_number": 17
    },
    {
     "cell_type": "code",
     "collapsed": false,
     "input": [
      "# add two numpy arrays\n",
      "a2 = np.arange(10, 20) \n",
      "a1 + a2"
     ],
     "language": "python",
     "metadata": {},
     "outputs": [
      {
       "metadata": {},
       "output_type": "pyout",
       "prompt_number": 18,
       "text": [
        "array([10, 12, 14, 16, 18, 20, 22, 24, 26, 28])"
       ]
      }
     ],
     "prompt_number": 18
    },
    {
     "cell_type": "code",
     "collapsed": false,
     "input": [
      "# create a 2- array (2x2)\n",
      "np.array([[1,2], [3,4]])"
     ],
     "language": "python",
     "metadata": {},
     "outputs": [
      {
       "metadata": {},
       "output_type": "pyout",
       "prompt_number": 19,
       "text": [
        "array([[1, 2],\n",
        "       [3, 4]])"
       ]
      }
     ],
     "prompt_number": 19
    },
    {
     "cell_type": "code",
     "collapsed": false,
     "input": [
      "# create a 1x20 array, and reshape to a 5x4 2d-array\n",
      "m = np.arange(0, 20).reshape(5, 4)\n",
      "m "
     ],
     "language": "python",
     "metadata": {},
     "outputs": [
      {
       "metadata": {},
       "output_type": "pyout",
       "prompt_number": 20,
       "text": [
        "array([[ 0,  1,  2,  3],\n",
        "       [ 4,  5,  6,  7],\n",
        "       [ 8,  9, 10, 11],\n",
        "       [12, 13, 14, 15],\n",
        "       [16, 17, 18, 19]])"
       ]
      }
     ],
     "prompt_number": 20
    },
    {
     "cell_type": "code",
     "collapsed": false,
     "input": [
      "# size of any dimensional array is the # of elements\n",
      "np.size(m)"
     ],
     "language": "python",
     "metadata": {},
     "outputs": [
      {
       "metadata": {},
       "output_type": "pyout",
       "prompt_number": 21,
       "text": [
        "20"
       ]
      }
     ],
     "prompt_number": 21
    },
    {
     "cell_type": "code",
     "collapsed": false,
     "input": [
      "# can ask the size along a given axis (0 is rows)\n",
      "np.size(m, 0)"
     ],
     "language": "python",
     "metadata": {},
     "outputs": [
      {
       "metadata": {},
       "output_type": "pyout",
       "prompt_number": 22,
       "text": [
        "5"
       ]
      }
     ],
     "prompt_number": 22
    },
    {
     "cell_type": "code",
     "collapsed": false,
     "input": [
      "# and 1 is the columns\n",
      "np.size(m, 1)"
     ],
     "language": "python",
     "metadata": {},
     "outputs": [
      {
       "metadata": {},
       "output_type": "pyout",
       "prompt_number": 23,
       "text": [
        "4"
       ]
      }
     ],
     "prompt_number": 23
    },
    {
     "cell_type": "heading",
     "level": 1,
     "metadata": {},
     "source": [
      "Selecting array elements"
     ]
    },
    {
     "cell_type": "code",
     "collapsed": false,
     "input": [
      "# select 0-based elements 0 and 2\n",
      "a1[0], a1[2]"
     ],
     "language": "python",
     "metadata": {},
     "outputs": [
      {
       "metadata": {},
       "output_type": "pyout",
       "prompt_number": 24,
       "text": [
        "(0, 2)"
       ]
      }
     ],
     "prompt_number": 24
    },
    {
     "cell_type": "code",
     "collapsed": false,
     "input": [
      "# select an element in 2d array at row 1 column 2\n",
      "m[1, 2]"
     ],
     "language": "python",
     "metadata": {},
     "outputs": [
      {
       "metadata": {},
       "output_type": "pyout",
       "prompt_number": 25,
       "text": [
        "6"
       ]
      }
     ],
     "prompt_number": 25
    },
    {
     "cell_type": "code",
     "collapsed": false,
     "input": [
      "# all items in row 1\n",
      "m[1,]"
     ],
     "language": "python",
     "metadata": {},
     "outputs": [
      {
       "metadata": {},
       "output_type": "pyout",
       "prompt_number": 26,
       "text": [
        "array([4, 5, 6, 7])"
       ]
      }
     ],
     "prompt_number": 26
    },
    {
     "cell_type": "code",
     "collapsed": false,
     "input": [
      "# all items in column 2\n",
      "m[:,2]"
     ],
     "language": "python",
     "metadata": {},
     "outputs": [
      {
       "metadata": {},
       "output_type": "pyout",
       "prompt_number": 27,
       "text": [
        "array([ 2,  6, 10, 14, 18])"
       ]
      }
     ],
     "prompt_number": 27
    },
    {
     "cell_type": "heading",
     "level": 1,
     "metadata": {},
     "source": [
      "Logical operation on arrays"
     ]
    },
    {
     "cell_type": "code",
     "collapsed": false,
     "input": [
      "# which items are less than 2?\n",
      "a = np.arange(5)\n",
      "a < 2"
     ],
     "language": "python",
     "metadata": {},
     "outputs": [
      {
       "metadata": {},
       "output_type": "pyout",
       "prompt_number": 28,
       "text": [
        "array([ True,  True, False, False, False], dtype=bool)"
       ]
      }
     ],
     "prompt_number": 28
    },
    {
     "cell_type": "code",
     "collapsed": false,
     "input": [
      "# this is commented as it will cause an exception\n",
      "# print (a<2 or a>3)"
     ],
     "language": "python",
     "metadata": {},
     "outputs": [],
     "prompt_number": 29
    },
    {
     "cell_type": "code",
     "collapsed": false,
     "input": [
      "# less than 2 or greater than 3?\n",
      "(a<2) | (a>3)"
     ],
     "language": "python",
     "metadata": {},
     "outputs": [
      {
       "metadata": {},
       "output_type": "pyout",
       "prompt_number": 30,
       "text": [
        "array([ True,  True, False, False,  True], dtype=bool)"
       ]
      }
     ],
     "prompt_number": 30
    },
    {
     "cell_type": "code",
     "collapsed": false,
     "input": [
      "# create a function that is applied to all array elements\n",
      "def exp (x):\n",
      "    return x<3 or x>3\n",
      "# np.vectorize applies the method to all items in an array\n",
      "np.vectorize(exp)(a)"
     ],
     "language": "python",
     "metadata": {},
     "outputs": [
      {
       "metadata": {},
       "output_type": "pyout",
       "prompt_number": 31,
       "text": [
        "array([ True,  True,  True, False,  True], dtype=bool)"
       ]
      }
     ],
     "prompt_number": 31
    },
    {
     "cell_type": "code",
     "collapsed": false,
     "input": [
      "# boolean select items < 3\n",
      "r = a<3\n",
      "# applying the result of the expression to the [] operate\n",
      "# selects just the array elements where there is a matching True\n",
      "a[r]"
     ],
     "language": "python",
     "metadata": {},
     "outputs": [
      {
       "metadata": {},
       "output_type": "pyout",
       "prompt_number": 32,
       "text": [
        "array([0, 1, 2])"
       ]
      }
     ],
     "prompt_number": 32
    },
    {
     "cell_type": "code",
     "collapsed": false,
     "input": [
      "# np.sum treats True as 1 and False as 0\n",
      "# so this is how many items are less than 3\n",
      "np.sum(a < 3)"
     ],
     "language": "python",
     "metadata": {},
     "outputs": [
      {
       "metadata": {},
       "output_type": "pyout",
       "prompt_number": 33,
       "text": [
        "3"
       ]
      }
     ],
     "prompt_number": 33
    },
    {
     "cell_type": "code",
     "collapsed": false,
     "input": [
      "# This can be applied across two arrays\n",
      "a1 = np.arange(0, 5)\n",
      "a2 = np.arange(5, 0, -1)\n",
      "a1 < a2"
     ],
     "language": "python",
     "metadata": {},
     "outputs": [
      {
       "metadata": {},
       "output_type": "pyout",
       "prompt_number": 34,
       "text": [
        "array([ True,  True,  True, False, False], dtype=bool)"
       ]
      }
     ],
     "prompt_number": 34
    },
    {
     "cell_type": "code",
     "collapsed": false,
     "input": [
      "# and even multi dimensional arrays\n",
      "a1 = np.arange(9).reshape(3, 3)\n",
      "a2 = np.arange(9, 0 , -1).reshape(3, 3)\n",
      "a1 < a2"
     ],
     "language": "python",
     "metadata": {},
     "outputs": [
      {
       "metadata": {},
       "output_type": "pyout",
       "prompt_number": 35,
       "text": [
        "array([[ True,  True,  True],\n",
        "       [ True,  True, False],\n",
        "       [False, False, False]], dtype=bool)"
       ]
      }
     ],
     "prompt_number": 35
    },
    {
     "cell_type": "heading",
     "level": 1,
     "metadata": {},
     "source": [
      "Slicing arrays"
     ]
    },
    {
     "cell_type": "code",
     "collapsed": false,
     "input": [
      "# get all items in the array from position 3 \n",
      "# up to position 8 (but not inclusive)\n",
      "a1 = np.arange(1, 10)\n",
      "a1[3:8]"
     ],
     "language": "python",
     "metadata": {},
     "outputs": [
      {
       "metadata": {},
       "output_type": "pyout",
       "prompt_number": 36,
       "text": [
        "array([4, 5, 6, 7, 8])"
       ]
      }
     ],
     "prompt_number": 36
    },
    {
     "cell_type": "code",
     "collapsed": false,
     "input": [
      "# every other item\n",
      "a1[::2]"
     ],
     "language": "python",
     "metadata": {},
     "outputs": [
      {
       "metadata": {},
       "output_type": "pyout",
       "prompt_number": 37,
       "text": [
        "array([1, 3, 5, 7, 9])"
       ]
      }
     ],
     "prompt_number": 37
    },
    {
     "cell_type": "code",
     "collapsed": false,
     "input": [
      "# in reverse order\n",
      "a1[::-1]"
     ],
     "language": "python",
     "metadata": {},
     "outputs": [
      {
       "metadata": {},
       "output_type": "pyout",
       "prompt_number": 38,
       "text": [
        "array([9, 8, 7, 6, 5, 4, 3, 2, 1])"
       ]
      }
     ],
     "prompt_number": 38
    },
    {
     "cell_type": "code",
     "collapsed": false,
     "input": [
      "# note that when in reverse, this does not include\n",
      "# the element specified in the second component of the slice\n",
      "# ie: there is no 1 printed in this\n",
      "a1[9:0:-1]"
     ],
     "language": "python",
     "metadata": {},
     "outputs": [
      {
       "metadata": {},
       "output_type": "pyout",
       "prompt_number": 39,
       "text": [
        "array([9, 8, 7, 6, 5, 4, 3, 2])"
       ]
      }
     ],
     "prompt_number": 39
    },
    {
     "cell_type": "code",
     "collapsed": false,
     "input": [
      "# all items from position 5 onwards\n",
      "a1[5:]"
     ],
     "language": "python",
     "metadata": {},
     "outputs": [
      {
       "metadata": {},
       "output_type": "pyout",
       "prompt_number": 40,
       "text": [
        "array([6, 7, 8, 9])"
       ]
      }
     ],
     "prompt_number": 40
    },
    {
     "cell_type": "code",
     "collapsed": false,
     "input": [
      "# the items in the first 5 positions\n",
      "a1[:5]"
     ],
     "language": "python",
     "metadata": {},
     "outputs": [
      {
       "metadata": {},
       "output_type": "pyout",
       "prompt_number": 41,
       "text": [
        "array([1, 2, 3, 4, 5])"
       ]
      }
     ],
     "prompt_number": 41
    },
    {
     "cell_type": "code",
     "collapsed": false,
     "input": [
      "# we saw this earlier\n",
      "# : in rows specifier means all rows\n",
      "# so this gets items in column position 1, all rows\n",
      "m[:,1]"
     ],
     "language": "python",
     "metadata": {},
     "outputs": [
      {
       "metadata": {},
       "output_type": "pyout",
       "prompt_number": 42,
       "text": [
        "array([ 1,  5,  9, 13, 17])"
       ]
      }
     ],
     "prompt_number": 42
    },
    {
     "cell_type": "code",
     "collapsed": false,
     "input": [
      "# in all rows, but for all columns in positions \n",
      "# 1 up to but not including 3\n",
      "m[:,1:3]"
     ],
     "language": "python",
     "metadata": {},
     "outputs": [
      {
       "metadata": {},
       "output_type": "pyout",
       "prompt_number": 43,
       "text": [
        "array([[ 1,  2],\n",
        "       [ 5,  6],\n",
        "       [ 9, 10],\n",
        "       [13, 14],\n",
        "       [17, 18]])"
       ]
      }
     ],
     "prompt_number": 43
    },
    {
     "cell_type": "code",
     "collapsed": false,
     "input": [
      "# in row positions 3 up to but not including 5, all columns\n",
      "m[3:5,:]"
     ],
     "language": "python",
     "metadata": {},
     "outputs": [
      {
       "metadata": {},
       "output_type": "pyout",
       "prompt_number": 44,
       "text": [
        "array([[12, 13, 14, 15],\n",
        "       [16, 17, 18, 19]])"
       ]
      }
     ],
     "prompt_number": 44
    },
    {
     "cell_type": "code",
     "collapsed": false,
     "input": [
      "# combined to pull out a sub matrix of the matrix\n",
      "m[3:5,1:3]"
     ],
     "language": "python",
     "metadata": {},
     "outputs": [
      {
       "metadata": {},
       "output_type": "pyout",
       "prompt_number": 45,
       "text": [
        "array([[13, 14],\n",
        "       [17, 18]])"
       ]
      }
     ],
     "prompt_number": 45
    },
    {
     "cell_type": "code",
     "collapsed": false,
     "input": [
      "# using a python array, we can select \n",
      "# non-contiguous rows or columns\n",
      "m[[1,3,4],:]"
     ],
     "language": "python",
     "metadata": {},
     "outputs": [
      {
       "metadata": {},
       "output_type": "pyout",
       "prompt_number": 46,
       "text": [
        "array([[ 4,  5,  6,  7],\n",
        "       [12, 13, 14, 15],\n",
        "       [16, 17, 18, 19]])"
       ]
      }
     ],
     "prompt_number": 46
    },
    {
     "cell_type": "heading",
     "level": 1,
     "metadata": {},
     "source": [
      "Reshaping arrays"
     ]
    },
    {
     "cell_type": "code",
     "collapsed": false,
     "input": [
      "# create a 9 element array (1x9)\n",
      "a = np.arange(0, 9)\n",
      "# and reshape to a 3x3 2-d array\n",
      "m = a.reshape(3, 3)\n",
      "m"
     ],
     "language": "python",
     "metadata": {},
     "outputs": [
      {
       "metadata": {},
       "output_type": "pyout",
       "prompt_number": 47,
       "text": [
        "array([[0, 1, 2],\n",
        "       [3, 4, 5],\n",
        "       [6, 7, 8]])"
       ]
      }
     ],
     "prompt_number": 47
    },
    {
     "cell_type": "code",
     "collapsed": false,
     "input": [
      "# and we can reshape downward in dimensions too\n",
      "reshaped = m.reshape(9)\n",
      "reshaped"
     ],
     "language": "python",
     "metadata": {},
     "outputs": [
      {
       "metadata": {},
       "output_type": "pyout",
       "prompt_number": 48,
       "text": [
        "array([0, 1, 2, 3, 4, 5, 6, 7, 8])"
       ]
      }
     ],
     "prompt_number": 48
    },
    {
     "cell_type": "code",
     "collapsed": false,
     "input": [
      "# .ravel will array representing a flattened 2-d array\n",
      "raveled = m.ravel()\n",
      "raveled"
     ],
     "language": "python",
     "metadata": {},
     "outputs": [
      {
       "metadata": {},
       "output_type": "pyout",
       "prompt_number": 49,
       "text": [
        "array([0, 1, 2, 3, 4, 5, 6, 7, 8])"
       ]
      }
     ],
     "prompt_number": 49
    },
    {
     "cell_type": "code",
     "collapsed": false,
     "input": [
      "# it does not alter the shape of the source\n",
      "m"
     ],
     "language": "python",
     "metadata": {},
     "outputs": [
      {
       "metadata": {},
       "output_type": "pyout",
       "prompt_number": 50,
       "text": [
        "array([[0, 1, 2],\n",
        "       [3, 4, 5],\n",
        "       [6, 7, 8]])"
       ]
      }
     ],
     "prompt_number": 50
    },
    {
     "cell_type": "code",
     "collapsed": false,
     "input": [
      "# but it will be a view into the source\n",
      "# so items changed in the result of the ravel\n",
      "# are changed in the original object\n",
      "# reshape m to an array\n",
      "reshaped = m.reshape(np.size(m))\n",
      "# ravel into an array\n",
      "raveled = m.ravel()\n",
      "# change values in either\n",
      "reshaped[2] = 1000\n",
      "raveled[5] = 2000\n",
      "# and they show as changed in the original\n",
      "m"
     ],
     "language": "python",
     "metadata": {},
     "outputs": [
      {
       "metadata": {},
       "output_type": "pyout",
       "prompt_number": 51,
       "text": [
        "array([[   0,    1, 1000],\n",
        "       [   3,    4, 2000],\n",
        "       [   6,    7,    8]])"
       ]
      }
     ],
     "prompt_number": 51
    },
    {
     "cell_type": "code",
     "collapsed": false,
     "input": [
      "# flattened is like ravel, but a copy of the data, \n",
      "# not a view into the source\n",
      "m2 = np.arange(0, 9).reshape(3,3)\n",
      "flattened = m2.flatten()\n",
      "# change in the flattened object\n",
      "flattened[0] = 1000\n",
      "flattened"
     ],
     "language": "python",
     "metadata": {},
     "outputs": [
      {
       "metadata": {},
       "output_type": "pyout",
       "prompt_number": 52,
       "text": [
        "array([1000,    1,    2,    3,    4,    5,    6,    7,    8])"
       ]
      }
     ],
     "prompt_number": 52
    },
    {
     "cell_type": "code",
     "collapsed": false,
     "input": [
      "# but not in the original\n",
      "m2"
     ],
     "language": "python",
     "metadata": {},
     "outputs": [
      {
       "metadata": {},
       "output_type": "pyout",
       "prompt_number": 53,
       "text": [
        "array([[0, 1, 2],\n",
        "       [3, 4, 5],\n",
        "       [6, 7, 8]])"
       ]
      }
     ],
     "prompt_number": 53
    },
    {
     "cell_type": "code",
     "collapsed": false,
     "input": [
      "# we can reshape by assigning  a tuple to the .shape property\n",
      "# we start with this, which has one dimension\n",
      "flattened.shape"
     ],
     "language": "python",
     "metadata": {},
     "outputs": [
      {
       "metadata": {},
       "output_type": "pyout",
       "prompt_number": 54,
       "text": [
        "(9,)"
       ]
      }
     ],
     "prompt_number": 54
    },
    {
     "cell_type": "code",
     "collapsed": false,
     "input": [
      "# and make it 3x3\n",
      "flattened.shape = (3, 3)\n",
      "# it is no longer flattened\n",
      "flattened"
     ],
     "language": "python",
     "metadata": {},
     "outputs": [
      {
       "metadata": {},
       "output_type": "pyout",
       "prompt_number": 55,
       "text": [
        "array([[1000,    1,    2],\n",
        "       [   3,    4,    5],\n",
        "       [   6,    7,    8]])"
       ]
      }
     ],
     "prompt_number": 55
    },
    {
     "cell_type": "code",
     "collapsed": false,
     "input": [
      "# transpose a matrix\n",
      "flattened.transpose()"
     ],
     "language": "python",
     "metadata": {},
     "outputs": [
      {
       "metadata": {},
       "output_type": "pyout",
       "prompt_number": 56,
       "text": [
        "array([[1000,    3,    6],\n",
        "       [   1,    4,    7],\n",
        "       [   2,    5,    8]])"
       ]
      }
     ],
     "prompt_number": 56
    },
    {
     "cell_type": "code",
     "collapsed": false,
     "input": [
      "# can also use .T property to transpose\n",
      "flattened.T"
     ],
     "language": "python",
     "metadata": {},
     "outputs": [
      {
       "metadata": {},
       "output_type": "pyout",
       "prompt_number": 57,
       "text": [
        "array([[1000,    3,    6],\n",
        "       [   1,    4,    7],\n",
        "       [   2,    5,    8]])"
       ]
      }
     ],
     "prompt_number": 57
    },
    {
     "cell_type": "code",
     "collapsed": false,
     "input": [
      "# we can also use .resize, which changes shape of\n",
      "# and object in-place\n",
      "m = np.arange(0, 9).reshape(3,3)\n",
      "m.resize(1, 9)\n",
      "m # my shape has changed"
     ],
     "language": "python",
     "metadata": {},
     "outputs": [
      {
       "metadata": {},
       "output_type": "pyout",
       "prompt_number": 58,
       "text": [
        "array([[0, 1, 2, 3, 4, 5, 6, 7, 8]])"
       ]
      }
     ],
     "prompt_number": 58
    },
    {
     "cell_type": "heading",
     "level": 1,
     "metadata": {},
     "source": [
      "Combining arrays"
     ]
    },
    {
     "cell_type": "code",
     "collapsed": false,
     "input": [
      "# creating two arrays for examples\n",
      "a = np.arange(9).reshape(3, 3)\n",
      "b = (a + 1) * 10\n",
      "a"
     ],
     "language": "python",
     "metadata": {},
     "outputs": [
      {
       "metadata": {},
       "output_type": "pyout",
       "prompt_number": 59,
       "text": [
        "array([[0, 1, 2],\n",
        "       [3, 4, 5],\n",
        "       [6, 7, 8]])"
       ]
      }
     ],
     "prompt_number": 59
    },
    {
     "cell_type": "code",
     "collapsed": false,
     "input": [
      "b"
     ],
     "language": "python",
     "metadata": {},
     "outputs": [
      {
       "metadata": {},
       "output_type": "pyout",
       "prompt_number": 60,
       "text": [
        "array([[10, 20, 30],\n",
        "       [40, 50, 60],\n",
        "       [70, 80, 90]])"
       ]
      }
     ],
     "prompt_number": 60
    },
    {
     "cell_type": "code",
     "collapsed": false,
     "input": [
      "# horizontally stack the two arrays\n",
      "# b becomes columns of a to the right of a's columns\n",
      "np.hstack((a, b))"
     ],
     "language": "python",
     "metadata": {},
     "outputs": [
      {
       "metadata": {},
       "output_type": "pyout",
       "prompt_number": 61,
       "text": [
        "array([[ 0,  1,  2, 10, 20, 30],\n",
        "       [ 3,  4,  5, 40, 50, 60],\n",
        "       [ 6,  7,  8, 70, 80, 90]])"
       ]
      }
     ],
     "prompt_number": 61
    },
    {
     "cell_type": "code",
     "collapsed": false,
     "input": [
      "# identical to concatenate along axis = 1\n",
      "np.concatenate((a, b), axis = 1)"
     ],
     "language": "python",
     "metadata": {},
     "outputs": [
      {
       "metadata": {},
       "output_type": "pyout",
       "prompt_number": 62,
       "text": [
        "array([[ 0,  1,  2, 10, 20, 30],\n",
        "       [ 3,  4,  5, 40, 50, 60],\n",
        "       [ 6,  7,  8, 70, 80, 90]])"
       ]
      }
     ],
     "prompt_number": 62
    },
    {
     "cell_type": "code",
     "collapsed": false,
     "input": [
      "# vertical stack, adding b as rows after a's rows\n",
      "np.vstack((a, b))"
     ],
     "language": "python",
     "metadata": {},
     "outputs": [
      {
       "metadata": {},
       "output_type": "pyout",
       "prompt_number": 63,
       "text": [
        "array([[ 0,  1,  2],\n",
        "       [ 3,  4,  5],\n",
        "       [ 6,  7,  8],\n",
        "       [10, 20, 30],\n",
        "       [40, 50, 60],\n",
        "       [70, 80, 90]])"
       ]
      }
     ],
     "prompt_number": 63
    },
    {
     "cell_type": "code",
     "collapsed": false,
     "input": [
      "# concatenate along axis=0 is the same as vstack\n",
      "np.concatenate((a, b), axis = 0)"
     ],
     "language": "python",
     "metadata": {},
     "outputs": [
      {
       "metadata": {},
       "output_type": "pyout",
       "prompt_number": 64,
       "text": [
        "array([[ 0,  1,  2],\n",
        "       [ 3,  4,  5],\n",
        "       [ 6,  7,  8],\n",
        "       [10, 20, 30],\n",
        "       [40, 50, 60],\n",
        "       [70, 80, 90]])"
       ]
      }
     ],
     "prompt_number": 64
    },
    {
     "cell_type": "code",
     "collapsed": false,
     "input": [
      "# dstack stacks each independent column of a and b \n",
      "np.dstack((a, b))"
     ],
     "language": "python",
     "metadata": {},
     "outputs": [
      {
       "metadata": {},
       "output_type": "pyout",
       "prompt_number": 65,
       "text": [
        "array([[[ 0, 10],\n",
        "        [ 1, 20],\n",
        "        [ 2, 30]],\n",
        "\n",
        "       [[ 3, 40],\n",
        "        [ 4, 50],\n",
        "        [ 5, 60]],\n",
        "\n",
        "       [[ 6, 70],\n",
        "        [ 7, 80],\n",
        "        [ 8, 90]]])"
       ]
      }
     ],
     "prompt_number": 65
    },
    {
     "cell_type": "code",
     "collapsed": false,
     "input": [
      "# set up 1-d array \n",
      "one_d_a = np.arange(5)\n",
      "one_d_a"
     ],
     "language": "python",
     "metadata": {},
     "outputs": [
      {
       "metadata": {},
       "output_type": "pyout",
       "prompt_number": 66,
       "text": [
        "array([0, 1, 2, 3, 4])"
       ]
      }
     ],
     "prompt_number": 66
    },
    {
     "cell_type": "code",
     "collapsed": false,
     "input": [
      "# another 1-d array\n",
      "one_d_b = (one_d_a + 1) * 10\n",
      "one_d_b"
     ],
     "language": "python",
     "metadata": {},
     "outputs": [
      {
       "metadata": {},
       "output_type": "pyout",
       "prompt_number": 67,
       "text": [
        "array([10, 20, 30, 40, 50])"
       ]
      }
     ],
     "prompt_number": 67
    },
    {
     "cell_type": "code",
     "collapsed": false,
     "input": [
      "# stack the two columns\n",
      "np.column_stack((one_d_a, one_d_b))"
     ],
     "language": "python",
     "metadata": {},
     "outputs": [
      {
       "metadata": {},
       "output_type": "pyout",
       "prompt_number": 68,
       "text": [
        "array([[ 0, 10],\n",
        "       [ 1, 20],\n",
        "       [ 2, 30],\n",
        "       [ 3, 40],\n",
        "       [ 4, 50]])"
       ]
      }
     ],
     "prompt_number": 68
    },
    {
     "cell_type": "code",
     "collapsed": false,
     "input": [
      "# stack along rows\n",
      "np.row_stack((one_d_a, one_d_b))"
     ],
     "language": "python",
     "metadata": {},
     "outputs": [
      {
       "metadata": {},
       "output_type": "pyout",
       "prompt_number": 69,
       "text": [
        "array([[ 0,  1,  2,  3,  4],\n",
        "       [10, 20, 30, 40, 50]])"
       ]
      }
     ],
     "prompt_number": 69
    },
    {
     "cell_type": "heading",
     "level": 1,
     "metadata": {},
     "source": [
      "Splitting arrays"
     ]
    },
    {
     "cell_type": "code",
     "collapsed": false,
     "input": [
      "# sample array\n",
      "a = np.arange(12).reshape(3, 4)\n",
      "a"
     ],
     "language": "python",
     "metadata": {},
     "outputs": [
      {
       "metadata": {},
       "output_type": "pyout",
       "prompt_number": 70,
       "text": [
        "array([[ 0,  1,  2,  3],\n",
        "       [ 4,  5,  6,  7],\n",
        "       [ 8,  9, 10, 11]])"
       ]
      }
     ],
     "prompt_number": 70
    },
    {
     "cell_type": "code",
     "collapsed": false,
     "input": [
      "# horiz split the 2-d array into 4 array columns\n",
      "np.hsplit(a, 4)"
     ],
     "language": "python",
     "metadata": {},
     "outputs": [
      {
       "metadata": {},
       "output_type": "pyout",
       "prompt_number": 71,
       "text": [
        "[array([[0],\n",
        "        [4],\n",
        "        [8]]), array([[1],\n",
        "        [5],\n",
        "        [9]]), array([[ 2],\n",
        "        [ 6],\n",
        "        [10]]), array([[ 3],\n",
        "        [ 7],\n",
        "        [11]])]"
       ]
      }
     ],
     "prompt_number": 71
    },
    {
     "cell_type": "code",
     "collapsed": false,
     "input": [
      "# horiz split into two array columns\n",
      "np.hsplit(a, 2)"
     ],
     "language": "python",
     "metadata": {},
     "outputs": [
      {
       "metadata": {},
       "output_type": "pyout",
       "prompt_number": 72,
       "text": [
        "[array([[0, 1],\n",
        "        [4, 5],\n",
        "        [8, 9]]), array([[ 2,  3],\n",
        "        [ 6,  7],\n",
        "        [10, 11]])]"
       ]
      }
     ],
     "prompt_number": 72
    },
    {
     "cell_type": "code",
     "collapsed": false,
     "input": [
      "# split at columns 1 and 3\n",
      "np.hsplit(a, [1, 3])"
     ],
     "language": "python",
     "metadata": {},
     "outputs": [
      {
       "metadata": {},
       "output_type": "pyout",
       "prompt_number": 73,
       "text": [
        "[array([[0],\n",
        "        [4],\n",
        "        [8]]), array([[ 1,  2],\n",
        "        [ 5,  6],\n",
        "        [ 9, 10]]), array([[ 3],\n",
        "        [ 7],\n",
        "        [11]])]"
       ]
      }
     ],
     "prompt_number": 73
    },
    {
     "cell_type": "code",
     "collapsed": false,
     "input": [
      "# along the rows\n",
      "np.split(a, 2, axis = 1)"
     ],
     "language": "python",
     "metadata": {},
     "outputs": [
      {
       "metadata": {},
       "output_type": "pyout",
       "prompt_number": 74,
       "text": [
        "[array([[0, 1],\n",
        "        [4, 5],\n",
        "        [8, 9]]), array([[ 2,  3],\n",
        "        [ 6,  7],\n",
        "        [10, 11]])]"
       ]
      }
     ],
     "prompt_number": 74
    },
    {
     "cell_type": "code",
     "collapsed": false,
     "input": [
      "# new array for examples\n",
      "a = np.arange(12).reshape(4, 3)\n",
      "a"
     ],
     "language": "python",
     "metadata": {},
     "outputs": [
      {
       "metadata": {},
       "output_type": "pyout",
       "prompt_number": 75,
       "text": [
        "array([[ 0,  1,  2],\n",
        "       [ 3,  4,  5],\n",
        "       [ 6,  7,  8],\n",
        "       [ 9, 10, 11]])"
       ]
      }
     ],
     "prompt_number": 75
    },
    {
     "cell_type": "code",
     "collapsed": false,
     "input": [
      "# split into four rows of arrays\n",
      "np.vsplit(a, 4)"
     ],
     "language": "python",
     "metadata": {},
     "outputs": [
      {
       "metadata": {},
       "output_type": "pyout",
       "prompt_number": 76,
       "text": [
        "[array([[0, 1, 2]]),\n",
        " array([[3, 4, 5]]),\n",
        " array([[6, 7, 8]]),\n",
        " array([[ 9, 10, 11]])]"
       ]
      }
     ],
     "prompt_number": 76
    },
    {
     "cell_type": "code",
     "collapsed": false,
     "input": [
      "# into two rows of arrays\n",
      "np.vsplit(a, 2)"
     ],
     "language": "python",
     "metadata": {},
     "outputs": [
      {
       "metadata": {},
       "output_type": "pyout",
       "prompt_number": 77,
       "text": [
        "[array([[0, 1, 2],\n",
        "        [3, 4, 5]]), array([[ 6,  7,  8],\n",
        "        [ 9, 10, 11]])]"
       ]
      }
     ],
     "prompt_number": 77
    },
    {
     "cell_type": "code",
     "collapsed": false,
     "input": [
      "# split along axis=0\n",
      "# row 0 of original is row 0 of new array\n",
      "# rows 1 and 2 of original are row 1\n",
      "np.vsplit(a, [1, 3])"
     ],
     "language": "python",
     "metadata": {},
     "outputs": [
      {
       "metadata": {},
       "output_type": "pyout",
       "prompt_number": 78,
       "text": [
        "[array([[0, 1, 2]]), array([[3, 4, 5],\n",
        "        [6, 7, 8]]), array([[ 9, 10, 11]])]"
       ]
      }
     ],
     "prompt_number": 78
    },
    {
     "cell_type": "code",
     "collapsed": false,
     "input": [
      "# split can specify axis\n",
      "np.split(a, 2, axis = 0)"
     ],
     "language": "python",
     "metadata": {},
     "outputs": [
      {
       "metadata": {},
       "output_type": "pyout",
       "prompt_number": 79,
       "text": [
        "[array([[0, 1, 2],\n",
        "        [3, 4, 5]]), array([[ 6,  7,  8],\n",
        "        [ 9, 10, 11]])]"
       ]
      }
     ],
     "prompt_number": 79
    },
    {
     "cell_type": "code",
     "collapsed": false,
     "input": [
      "# 3-d array\n",
      "c = np.arange(27).reshape(3, 3, 3)\n",
      "c"
     ],
     "language": "python",
     "metadata": {},
     "outputs": [
      {
       "metadata": {},
       "output_type": "pyout",
       "prompt_number": 80,
       "text": [
        "array([[[ 0,  1,  2],\n",
        "        [ 3,  4,  5],\n",
        "        [ 6,  7,  8]],\n",
        "\n",
        "       [[ 9, 10, 11],\n",
        "        [12, 13, 14],\n",
        "        [15, 16, 17]],\n",
        "\n",
        "       [[18, 19, 20],\n",
        "        [21, 22, 23],\n",
        "        [24, 25, 26]]])"
       ]
      }
     ],
     "prompt_number": 80
    },
    {
     "cell_type": "code",
     "collapsed": false,
     "input": [
      "# split into 3 \n",
      "np.dsplit(c, 3)"
     ],
     "language": "python",
     "metadata": {},
     "outputs": [
      {
       "metadata": {},
       "output_type": "pyout",
       "prompt_number": 81,
       "text": [
        "[array([[[ 0],\n",
        "         [ 3],\n",
        "         [ 6]],\n",
        " \n",
        "        [[ 9],\n",
        "         [12],\n",
        "         [15]],\n",
        " \n",
        "        [[18],\n",
        "         [21],\n",
        "         [24]]]), array([[[ 1],\n",
        "         [ 4],\n",
        "         [ 7]],\n",
        " \n",
        "        [[10],\n",
        "         [13],\n",
        "         [16]],\n",
        " \n",
        "        [[19],\n",
        "         [22],\n",
        "         [25]]]), array([[[ 2],\n",
        "         [ 5],\n",
        "         [ 8]],\n",
        " \n",
        "        [[11],\n",
        "         [14],\n",
        "         [17]],\n",
        " \n",
        "        [[20],\n",
        "         [23],\n",
        "         [26]]])]"
       ]
      }
     ],
     "prompt_number": 81
    },
    {
     "cell_type": "heading",
     "level": 1,
     "metadata": {},
     "source": [
      "Useful numerical methods of NumPy arrays"
     ]
    },
    {
     "cell_type": "code",
     "collapsed": false,
     "input": [
      "# demonstrate some of the properties of NumPy arrays\n",
      "m = np.arange(10, 19).reshape(3, 3)\n",
      "print (a)\n",
      "print (\"{0} min of the entire matrix\".format(m.min()))\n",
      "print (\"{0} max of entire matrix\".format(m.max()))\n",
      "print (\"{0} position of the min value\".format(m.argmin()))\n",
      "print (\"{0} position of the max value\".format(m.argmax()))\n",
      "print (\"{0} mins down each column\".format(m.min(axis = 0)))\n",
      "print (\"{0} mins across each row\".format(m.min(axis = 1)))\n",
      "print (\"{0} maxs down each column\".format(m.max(axis = 0)))\n",
      "print (\"{0} maxs across each row\".format(m.max(axis = 1)))"
     ],
     "language": "python",
     "metadata": {},
     "outputs": [
      {
       "output_type": "stream",
       "stream": "stdout",
       "text": [
        "[[ 0  1  2]\n",
        " [ 3  4  5]\n",
        " [ 6  7  8]\n",
        " [ 9 10 11]]\n",
        "10 min of the entire matrix\n",
        "18 max of entire matrix\n",
        "0 position of the min value\n",
        "8 position of the max value\n",
        "[10 11 12] mins down each column\n",
        "[10 13 16] mins across each row\n",
        "[16 17 18] maxs down each column\n",
        "[12 15 18] maxs across each row\n"
       ]
      }
     ],
     "prompt_number": 82
    },
    {
     "cell_type": "code",
     "collapsed": false,
     "input": [
      "# demonstrate included statistical methods\n",
      "a = np.arange(10)\n",
      "a"
     ],
     "language": "python",
     "metadata": {},
     "outputs": [
      {
       "metadata": {},
       "output_type": "pyout",
       "prompt_number": 83,
       "text": [
        "array([0, 1, 2, 3, 4, 5, 6, 7, 8, 9])"
       ]
      }
     ],
     "prompt_number": 83
    },
    {
     "cell_type": "code",
     "collapsed": false,
     "input": [
      "a.mean(), a.std(), a.var()"
     ],
     "language": "python",
     "metadata": {},
     "outputs": [
      {
       "metadata": {},
       "output_type": "pyout",
       "prompt_number": 84,
       "text": [
        "(4.5, 2.8722813232690143, 8.25)"
       ]
      }
     ],
     "prompt_number": 84
    },
    {
     "cell_type": "code",
     "collapsed": false,
     "input": [
      "# demonstrate sum and prod\n",
      "a = np.arange(1, 6)\n",
      "a"
     ],
     "language": "python",
     "metadata": {},
     "outputs": [
      {
       "metadata": {},
       "output_type": "pyout",
       "prompt_number": 85,
       "text": [
        "array([1, 2, 3, 4, 5])"
       ]
      }
     ],
     "prompt_number": 85
    },
    {
     "cell_type": "code",
     "collapsed": false,
     "input": [
      "a.sum(), a.prod()"
     ],
     "language": "python",
     "metadata": {},
     "outputs": [
      {
       "metadata": {},
       "output_type": "pyout",
       "prompt_number": 86,
       "text": [
        "(15, 120)"
       ]
      }
     ],
     "prompt_number": 86
    },
    {
     "cell_type": "code",
     "collapsed": false,
     "input": [
      "# and cumulative sum and prod\n",
      "a.cumsum(), a.cumprod()"
     ],
     "language": "python",
     "metadata": {},
     "outputs": [
      {
       "metadata": {},
       "output_type": "pyout",
       "prompt_number": 87,
       "text": [
        "(array([ 1,  3,  6, 10, 15]), array([  1,   2,   6,  24, 120]))"
       ]
      }
     ],
     "prompt_number": 87
    },
    {
     "cell_type": "code",
     "collapsed": false,
     "input": [
      "# applying logical operators\n",
      "a = np.arange(10)\n",
      "(a < 5).any() # any < 5?"
     ],
     "language": "python",
     "metadata": {},
     "outputs": [
      {
       "metadata": {},
       "output_type": "pyout",
       "prompt_number": 88,
       "text": [
        "True"
       ]
      }
     ],
     "prompt_number": 88
    },
    {
     "cell_type": "code",
     "collapsed": false,
     "input": [
      "(a < 5).all() # all < 5?"
     ],
     "language": "python",
     "metadata": {},
     "outputs": [
      {
       "metadata": {},
       "output_type": "pyout",
       "prompt_number": 89,
       "text": [
        "False"
       ]
      }
     ],
     "prompt_number": 89
    },
    {
     "cell_type": "code",
     "collapsed": false,
     "input": [
      "# size is always the total number of elements\n",
      "np.arange(10).reshape(2, 5).size"
     ],
     "language": "python",
     "metadata": {},
     "outputs": [
      {
       "metadata": {},
       "output_type": "pyout",
       "prompt_number": 90,
       "text": [
        "10"
       ]
      }
     ],
     "prompt_number": 90
    },
    {
     "cell_type": "code",
     "collapsed": false,
     "input": [
      "# .ndim will with you the total # of dimensions\n",
      "np.arange(10).reshape(2,5).ndim"
     ],
     "language": "python",
     "metadata": {},
     "outputs": [
      {
       "metadata": {},
       "output_type": "pyout",
       "prompt_number": 91,
       "text": [
        "2"
       ]
      }
     ],
     "prompt_number": 91
    }
   ],
   "metadata": {}
  }
 ]
}