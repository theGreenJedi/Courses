{
 "metadata": {
  "name": "",
  "signature": "sha256:fce4924418196f8e996c770c73c5a742af3d27eab93613ae913b065918461423"
 },
 "nbformat": 3,
 "nbformat_minor": 0,
 "worksheets": [
  {
   "cells": [
    {
     "cell_type": "heading",
     "level": 1,
     "metadata": {},
     "source": [
      "Setting up the notebook"
     ]
    },
    {
     "cell_type": "code",
     "collapsed": false,
     "input": [
      "# import pandas, numpy and datetime\n",
      "import numpy as np\n",
      "import pandas as pd\n",
      "import datetime\n",
      "\n",
      "# Set some pandas options for controlling output\n",
      "pd.set_option('display.notebook_repr_html', False)\n",
      "pd.set_option('display.max_columns', 10)\n",
      "pd.set_option('display.max_rows', 10)"
     ],
     "language": "python",
     "metadata": {},
     "outputs": [],
     "prompt_number": 1
    },
    {
     "cell_type": "heading",
     "level": 1,
     "metadata": {},
     "source": [
      "Working with missing data"
     ]
    },
    {
     "cell_type": "heading",
     "level": 2,
     "metadata": {},
     "source": [
      "Setup"
     ]
    },
    {
     "cell_type": "code",
     "collapsed": false,
     "input": [
      "# create a DataFrame with 5 rows and 3 columns\n",
      "df = pd.DataFrame(np.arange(0, 15).reshape(5, 3), \n",
      "               index=['a', 'b', 'c', 'd', 'e'], \n",
      "               columns=['c1', 'c2', 'c3'])\n",
      "df"
     ],
     "language": "python",
     "metadata": {},
     "outputs": [
      {
       "metadata": {},
       "output_type": "pyout",
       "prompt_number": 2,
       "text": [
        "   c1  c2  c3\n",
        "a   0   1   2\n",
        "b   3   4   5\n",
        "c   6   7   8\n",
        "d   9  10  11\n",
        "e  12  13  14"
       ]
      }
     ],
     "prompt_number": 2
    },
    {
     "cell_type": "code",
     "collapsed": false,
     "input": [
      "# add some columns and rows to the DataFrame\n",
      "# column c4 with NaN values\n",
      "df['c4'] = np.nan\n",
      "# row 'f' with 15 through 18 \n",
      "df.loc['f'] = np.arange(15, 19) \n",
      "# row 'g' will all NaN\n",
      "df.loc['g'] = np.nan\n",
      "# column 'C5' with NaN's\n",
      "df['c5'] = np.nan\n",
      "# change value in col 'c4' row 'a'\n",
      "df['c4']['a'] = 20\n",
      "df"
     ],
     "language": "python",
     "metadata": {},
     "outputs": [
      {
       "metadata": {},
       "output_type": "pyout",
       "prompt_number": 3,
       "text": [
        "   c1  c2  c3  c4  c5\n",
        "a   0   1   2  20 NaN\n",
        "b   3   4   5 NaN NaN\n",
        "c   6   7   8 NaN NaN\n",
        "d   9  10  11 NaN NaN\n",
        "e  12  13  14 NaN NaN\n",
        "f  15  16  17  18 NaN\n",
        "g NaN NaN NaN NaN NaN"
       ]
      }
     ],
     "prompt_number": 3
    },
    {
     "cell_type": "heading",
     "level": 2,
     "metadata": {},
     "source": [
      "Determining NaN values in Series and DataFrame objects"
     ]
    },
    {
     "cell_type": "code",
     "collapsed": false,
     "input": [
      "# which items are NaN?\n",
      "df.isnull()"
     ],
     "language": "python",
     "metadata": {},
     "outputs": [
      {
       "metadata": {},
       "output_type": "pyout",
       "prompt_number": 4,
       "text": [
        "      c1     c2     c3     c4    c5\n",
        "a  False  False  False  False  True\n",
        "b  False  False  False   True  True\n",
        "c  False  False  False   True  True\n",
        "d  False  False  False   True  True\n",
        "e  False  False  False   True  True\n",
        "f  False  False  False  False  True\n",
        "g   True   True   True   True  True"
       ]
      }
     ],
     "prompt_number": 4
    },
    {
     "cell_type": "code",
     "collapsed": false,
     "input": [
      "# count the number of NaN's in each column\n",
      "df.isnull().sum()"
     ],
     "language": "python",
     "metadata": {},
     "outputs": [
      {
       "metadata": {},
       "output_type": "pyout",
       "prompt_number": 5,
       "text": [
        "c1    1\n",
        "c2    1\n",
        "c3    1\n",
        "c4    5\n",
        "c5    7\n",
        "dtype: int64"
       ]
      }
     ],
     "prompt_number": 5
    },
    {
     "cell_type": "code",
     "collapsed": false,
     "input": [
      "# total count of NaN values\n",
      "df.isnull().sum().sum()"
     ],
     "language": "python",
     "metadata": {},
     "outputs": [
      {
       "metadata": {},
       "output_type": "pyout",
       "prompt_number": 6,
       "text": [
        "15"
       ]
      }
     ],
     "prompt_number": 6
    },
    {
     "cell_type": "code",
     "collapsed": false,
     "input": [
      "# number of non-NaN values in each column\n",
      "df.count()"
     ],
     "language": "python",
     "metadata": {},
     "outputs": [
      {
       "metadata": {},
       "output_type": "pyout",
       "prompt_number": 7,
       "text": [
        "c1    6\n",
        "c2    6\n",
        "c3    6\n",
        "c4    2\n",
        "c5    0\n",
        "dtype: int64"
       ]
      }
     ],
     "prompt_number": 7
    },
    {
     "cell_type": "code",
     "collapsed": false,
     "input": [
      "# and this counts the number of NaN's too\n",
      "(len(df) - df.count()).sum()"
     ],
     "language": "python",
     "metadata": {},
     "outputs": [
      {
       "metadata": {},
       "output_type": "pyout",
       "prompt_number": 8,
       "text": [
        "15"
       ]
      }
     ],
     "prompt_number": 8
    },
    {
     "cell_type": "code",
     "collapsed": false,
     "input": [
      "# which items are not null?\n",
      "df.notnull()"
     ],
     "language": "python",
     "metadata": {},
     "outputs": [
      {
       "metadata": {},
       "output_type": "pyout",
       "prompt_number": 9,
       "text": [
        "      c1     c2     c3     c4     c5\n",
        "a   True   True   True   True  False\n",
        "b   True   True   True  False  False\n",
        "c   True   True   True  False  False\n",
        "d   True   True   True  False  False\n",
        "e   True   True   True  False  False\n",
        "f   True   True   True   True  False\n",
        "g  False  False  False  False  False"
       ]
      }
     ],
     "prompt_number": 9
    },
    {
     "cell_type": "heading",
     "level": 1,
     "metadata": {},
     "source": [
      "Selecting out (dropping) missing data"
     ]
    },
    {
     "cell_type": "code",
     "collapsed": false,
     "input": [
      "# select the non-NaN items in column c4\n",
      "df.c4[df.c4.notnull()]"
     ],
     "language": "python",
     "metadata": {},
     "outputs": [
      {
       "metadata": {},
       "output_type": "pyout",
       "prompt_number": 10,
       "text": [
        "a    20\n",
        "f    18\n",
        "Name: c4, dtype: float64"
       ]
      }
     ],
     "prompt_number": 10
    },
    {
     "cell_type": "code",
     "collapsed": false,
     "input": [
      "# .dropna will also return non NaN values\n",
      "# this gets all non NaN items in column c4\n",
      "df.c4.dropna()"
     ],
     "language": "python",
     "metadata": {},
     "outputs": [
      {
       "metadata": {},
       "output_type": "pyout",
       "prompt_number": 11,
       "text": [
        "a    20\n",
        "f    18\n",
        "Name: c4, dtype: float64"
       ]
      }
     ],
     "prompt_number": 11
    },
    {
     "cell_type": "code",
     "collapsed": false,
     "input": [
      "# dropna returns a copy with the values dropped\n",
      "# the source DataFrame / column is not changed\n",
      "df.c4"
     ],
     "language": "python",
     "metadata": {},
     "outputs": [
      {
       "metadata": {},
       "output_type": "pyout",
       "prompt_number": 12,
       "text": [
        "a    20\n",
        "b   NaN\n",
        "c   NaN\n",
        "d   NaN\n",
        "e   NaN\n",
        "f    18\n",
        "g   NaN\n",
        "Name: c4, dtype: float64"
       ]
      }
     ],
     "prompt_number": 12
    },
    {
     "cell_type": "code",
     "collapsed": false,
     "input": [
      "# on a DataFrame this will drop entire rows\n",
      "# where there is at least one NaN\n",
      "# in this case, that is all rows\n",
      "df.dropna()"
     ],
     "language": "python",
     "metadata": {},
     "outputs": [
      {
       "metadata": {},
       "output_type": "pyout",
       "prompt_number": 13,
       "text": [
        "Empty DataFrame\n",
        "Columns: [c1, c2, c3, c4, c5]\n",
        "Index: []"
       ]
      }
     ],
     "prompt_number": 13
    },
    {
     "cell_type": "code",
     "collapsed": false,
     "input": [
      "# using how='all', only rows that have all values\n",
      "# as NaN will be dropped\n",
      "df.dropna(how = 'all')"
     ],
     "language": "python",
     "metadata": {},
     "outputs": [
      {
       "metadata": {},
       "output_type": "pyout",
       "prompt_number": 14,
       "text": [
        "   c1  c2  c3  c4  c5\n",
        "a   0   1   2  20 NaN\n",
        "b   3   4   5 NaN NaN\n",
        "c   6   7   8 NaN NaN\n",
        "d   9  10  11 NaN NaN\n",
        "e  12  13  14 NaN NaN\n",
        "f  15  16  17  18 NaN"
       ]
      }
     ],
     "prompt_number": 14
    },
    {
     "cell_type": "code",
     "collapsed": false,
     "input": [
      "# flip to drop columns instead of rows\n",
      "df.dropna(how='all', axis=1) # say goodbye to c5"
     ],
     "language": "python",
     "metadata": {},
     "outputs": [
      {
       "metadata": {},
       "output_type": "pyout",
       "prompt_number": 15,
       "text": [
        "   c1  c2  c3  c4\n",
        "a   0   1   2  20\n",
        "b   3   4   5 NaN\n",
        "c   6   7   8 NaN\n",
        "d   9  10  11 NaN\n",
        "e  12  13  14 NaN\n",
        "f  15  16  17  18\n",
        "g NaN NaN NaN NaN"
       ]
      }
     ],
     "prompt_number": 15
    },
    {
     "cell_type": "code",
     "collapsed": false,
     "input": [
      "# make a copy of df\n",
      "df2 = df.copy()\n",
      "\n",
      "# replace two NaN cells with values\n",
      "df2.ix['g'].c1 = 0\n",
      "df2.ix['g'].c3 = 0\n",
      "\n",
      "df2"
     ],
     "language": "python",
     "metadata": {},
     "outputs": [
      {
       "metadata": {},
       "output_type": "pyout",
       "prompt_number": 16,
       "text": [
        "   c1  c2  c3  c4  c5\n",
        "a   0   1   2  20 NaN\n",
        "b   3   4   5 NaN NaN\n",
        "c   6   7   8 NaN NaN\n",
        "d   9  10  11 NaN NaN\n",
        "e  12  13  14 NaN NaN\n",
        "f  15  16  17  18 NaN\n",
        "g   0 NaN   0 NaN NaN"
       ]
      }
     ],
     "prompt_number": 16
    },
    {
     "cell_type": "code",
     "collapsed": false,
     "input": [
      "# now drop columns with any NaN values\n",
      "df2.dropna(how='any', axis=1) "
     ],
     "language": "python",
     "metadata": {},
     "outputs": [
      {
       "metadata": {},
       "output_type": "pyout",
       "prompt_number": 17,
       "text": [
        "   c1  c3\n",
        "a   0   2\n",
        "b   3   5\n",
        "c   6   8\n",
        "d   9  11\n",
        "e  12  14\n",
        "f  15  17\n",
        "g   0   0"
       ]
      }
     ],
     "prompt_number": 17
    },
    {
     "cell_type": "code",
     "collapsed": false,
     "input": [
      "# only drop columns with at least 5 NaN values\n",
      "df.dropna(thresh=5, axis=1)"
     ],
     "language": "python",
     "metadata": {},
     "outputs": [
      {
       "metadata": {},
       "output_type": "pyout",
       "prompt_number": 18,
       "text": [
        "   c1  c2  c3\n",
        "a   0   1   2\n",
        "b   3   4   5\n",
        "c   6   7   8\n",
        "d   9  10  11\n",
        "e  12  13  14\n",
        "f  15  16  17\n",
        "g NaN NaN NaN"
       ]
      }
     ],
     "prompt_number": 18
    },
    {
     "cell_type": "heading",
     "level": 2,
     "metadata": {},
     "source": [
      "How pandas handles NaN\u2019s in mathematical operations"
     ]
    },
    {
     "cell_type": "code",
     "collapsed": false,
     "input": [
      "# create a NumPy array with one NaN value\n",
      "a = np.array([1, 2, np.nan, 3])\n",
      "# create a Series from the array\n",
      "s = pd.Series(a)\n",
      "# the mean of each is different\n",
      "a.mean(), s.mean()"
     ],
     "language": "python",
     "metadata": {},
     "outputs": [
      {
       "metadata": {},
       "output_type": "pyout",
       "prompt_number": 19,
       "text": [
        "(nan, 2.0)"
       ]
      }
     ],
     "prompt_number": 19
    },
    {
     "cell_type": "code",
     "collapsed": false,
     "input": [
      "# demonstrate sum, mean and cumsum handling of NaN\n",
      "# get one column\n",
      "s = df.c4\n",
      "s.sum(), # NaN's treated as 0"
     ],
     "language": "python",
     "metadata": {},
     "outputs": [
      {
       "metadata": {},
       "output_type": "pyout",
       "prompt_number": 20,
       "text": [
        "(38.0,)"
       ]
      }
     ],
     "prompt_number": 20
    },
    {
     "cell_type": "code",
     "collapsed": false,
     "input": [
      "s.mean() # NaN also treated as 0"
     ],
     "language": "python",
     "metadata": {},
     "outputs": [
      {
       "metadata": {},
       "output_type": "pyout",
       "prompt_number": 21,
       "text": [
        "19.0"
       ]
      }
     ],
     "prompt_number": 21
    },
    {
     "cell_type": "code",
     "collapsed": false,
     "input": [
      "# as 0 in the cumsum, but NaN's preserved in result Series\n",
      "s.cumsum()"
     ],
     "language": "python",
     "metadata": {},
     "outputs": [
      {
       "metadata": {},
       "output_type": "pyout",
       "prompt_number": 22,
       "text": [
        "a    20\n",
        "b   NaN\n",
        "c   NaN\n",
        "d   NaN\n",
        "e   NaN\n",
        "f    38\n",
        "g   NaN\n",
        "Name: c4, dtype: float64"
       ]
      }
     ],
     "prompt_number": 22
    },
    {
     "cell_type": "code",
     "collapsed": false,
     "input": [
      "# in arithmetic, a NaN value will result in NaN\n",
      "df.c4 + 1"
     ],
     "language": "python",
     "metadata": {},
     "outputs": [
      {
       "metadata": {},
       "output_type": "pyout",
       "prompt_number": 23,
       "text": [
        "a    21\n",
        "b   NaN\n",
        "c   NaN\n",
        "d   NaN\n",
        "e   NaN\n",
        "f    19\n",
        "g   NaN\n",
        "Name: c4, dtype: float64"
       ]
      }
     ],
     "prompt_number": 23
    },
    {
     "cell_type": "heading",
     "level": 2,
     "metadata": {},
     "source": [
      "Filling in missing data"
     ]
    },
    {
     "cell_type": "code",
     "collapsed": false,
     "input": [
      "# return a new DataFrame with NaN's filled with 0\n",
      "filled = df.fillna(0)\n",
      "filled"
     ],
     "language": "python",
     "metadata": {},
     "outputs": [
      {
       "metadata": {},
       "output_type": "pyout",
       "prompt_number": 24,
       "text": [
        "   c1  c2  c3  c4  c5\n",
        "a   0   1   2  20   0\n",
        "b   3   4   5   0   0\n",
        "c   6   7   8   0   0\n",
        "d   9  10  11   0   0\n",
        "e  12  13  14   0   0\n",
        "f  15  16  17  18   0\n",
        "g   0   0   0   0   0"
       ]
      }
     ],
     "prompt_number": 24
    },
    {
     "cell_type": "code",
     "collapsed": false,
     "input": [
      "# NaN's don't count as an item in calculating\n",
      "# the means\n",
      "df.mean()"
     ],
     "language": "python",
     "metadata": {},
     "outputs": [
      {
       "metadata": {},
       "output_type": "pyout",
       "prompt_number": 25,
       "text": [
        "c1     7.5\n",
        "c2     8.5\n",
        "c3     9.5\n",
        "c4    19.0\n",
        "c5     NaN\n",
        "dtype: float64"
       ]
      }
     ],
     "prompt_number": 25
    },
    {
     "cell_type": "code",
     "collapsed": false,
     "input": [
      "# having replaced NaN with 0 can make\n",
      "# operations such as mean have different results\n",
      "filled.mean()"
     ],
     "language": "python",
     "metadata": {},
     "outputs": [
      {
       "metadata": {},
       "output_type": "pyout",
       "prompt_number": 26,
       "text": [
        "c1    6.428571\n",
        "c2    7.285714\n",
        "c3    8.142857\n",
        "c4    5.428571\n",
        "c5    0.000000\n",
        "dtype: float64"
       ]
      }
     ],
     "prompt_number": 26
    },
    {
     "cell_type": "code",
     "collapsed": false,
     "input": [
      "# only fills the first two NaN's in each row with 0\n",
      "df.fillna(0, limit=2)"
     ],
     "language": "python",
     "metadata": {},
     "outputs": [
      {
       "metadata": {},
       "output_type": "pyout",
       "prompt_number": 27,
       "text": [
        "   c1  c2  c3  c4  c5\n",
        "a   0   1   2  20   0\n",
        "b   3   4   5   0   0\n",
        "c   6   7   8   0 NaN\n",
        "d   9  10  11 NaN NaN\n",
        "e  12  13  14 NaN NaN\n",
        "f  15  16  17  18 NaN\n",
        "g   0   0   0 NaN NaN"
       ]
      }
     ],
     "prompt_number": 27
    },
    {
     "cell_type": "heading",
     "level": 2,
     "metadata": {},
     "source": [
      "Forward and backwards filling of missing values"
     ]
    },
    {
     "cell_type": "code",
     "collapsed": false,
     "input": [
      "# extract the c4 column and fill NaNs forward\n",
      "df.c4.fillna(method=\"ffill\")"
     ],
     "language": "python",
     "metadata": {},
     "outputs": [
      {
       "metadata": {},
       "output_type": "pyout",
       "prompt_number": 28,
       "text": [
        "a    20\n",
        "b    20\n",
        "c    20\n",
        "d    20\n",
        "e    20\n",
        "f    18\n",
        "g    18\n",
        "Name: c4, dtype: float64"
       ]
      }
     ],
     "prompt_number": 28
    },
    {
     "cell_type": "code",
     "collapsed": false,
     "input": [
      "# perform a backwards fill\n",
      "df.c4.fillna(method=\"bfill\")"
     ],
     "language": "python",
     "metadata": {},
     "outputs": [
      {
       "metadata": {},
       "output_type": "pyout",
       "prompt_number": 29,
       "text": [
        "a    20\n",
        "b    18\n",
        "c    18\n",
        "d    18\n",
        "e    18\n",
        "f    18\n",
        "g   NaN\n",
        "Name: c4, dtype: float64"
       ]
      }
     ],
     "prompt_number": 29
    },
    {
     "cell_type": "heading",
     "level": 2,
     "metadata": {},
     "source": [
      "Filling using index labels"
     ]
    },
    {
     "cell_type": "code",
     "collapsed": false,
     "input": [
      "# create a new Series of values to be \n",
      "# used to fill NaN's where index label matches\n",
      "fill_values = pd.Series([100, 101, 102], index=['a', 'e', 'g'])\n",
      "fill_values"
     ],
     "language": "python",
     "metadata": {},
     "outputs": [
      {
       "metadata": {},
       "output_type": "pyout",
       "prompt_number": 30,
       "text": [
        "a    100\n",
        "e    101\n",
        "g    102\n",
        "dtype: int64"
       ]
      }
     ],
     "prompt_number": 30
    },
    {
     "cell_type": "code",
     "collapsed": false,
     "input": [
      "# using c4, fill using fill_values\n",
      "# a, e and g will be filled with matching values\n",
      "df.c4.fillna(fill_values)"
     ],
     "language": "python",
     "metadata": {},
     "outputs": [
      {
       "metadata": {},
       "output_type": "pyout",
       "prompt_number": 31,
       "text": [
        "a     20\n",
        "b    NaN\n",
        "c    NaN\n",
        "d    NaN\n",
        "e    101\n",
        "f     18\n",
        "g    102\n",
        "Name: c4, dtype: float64"
       ]
      }
     ],
     "prompt_number": 31
    },
    {
     "cell_type": "code",
     "collapsed": false,
     "input": [
      "# fill NaN values in each column with the \n",
      "# mean of the values in that column\n",
      "df.fillna(df.mean())"
     ],
     "language": "python",
     "metadata": {},
     "outputs": [
      {
       "metadata": {},
       "output_type": "pyout",
       "prompt_number": 32,
       "text": [
        "     c1    c2    c3  c4  c5\n",
        "a   0.0   1.0   2.0  20 NaN\n",
        "b   3.0   4.0   5.0  19 NaN\n",
        "c   6.0   7.0   8.0  19 NaN\n",
        "d   9.0  10.0  11.0  19 NaN\n",
        "e  12.0  13.0  14.0  19 NaN\n",
        "f  15.0  16.0  17.0  18 NaN\n",
        "g   7.5   8.5   9.5  19 NaN"
       ]
      }
     ],
     "prompt_number": 32
    },
    {
     "cell_type": "heading",
     "level": 2,
     "metadata": {},
     "source": [
      "Interpolation of missing values"
     ]
    },
    {
     "cell_type": "code",
     "collapsed": false,
     "input": [
      "# linear interpolate the NaN values from 1 through 2\n",
      "s = pd.Series([1, np.nan, np.nan, np.nan, 2])\n",
      "s.interpolate()"
     ],
     "language": "python",
     "metadata": {},
     "outputs": [
      {
       "metadata": {},
       "output_type": "pyout",
       "prompt_number": 33,
       "text": [
        "0    1.00\n",
        "1    1.25\n",
        "2    1.50\n",
        "3    1.75\n",
        "4    2.00\n",
        "dtype: float64"
       ]
      }
     ],
     "prompt_number": 33
    },
    {
     "cell_type": "code",
     "collapsed": false,
     "input": [
      "# create a time series, but missing one date in the Series\n",
      "ts = pd.Series([1, np.nan, 2], \n",
      "            index=[datetime.datetime(2014, 1, 1), \n",
      "                   datetime.datetime(2014, 2, 1),                   \n",
      "                   datetime.datetime(2014, 4, 1)])\n",
      "ts"
     ],
     "language": "python",
     "metadata": {},
     "outputs": [
      {
       "metadata": {},
       "output_type": "pyout",
       "prompt_number": 34,
       "text": [
        "2014-01-01     1\n",
        "2014-02-01   NaN\n",
        "2014-04-01     2\n",
        "dtype: float64"
       ]
      }
     ],
     "prompt_number": 34
    },
    {
     "cell_type": "code",
     "collapsed": false,
     "input": [
      "# linear interpolate based on number of items in the Series\n",
      "ts.interpolate()"
     ],
     "language": "python",
     "metadata": {},
     "outputs": [
      {
       "metadata": {},
       "output_type": "pyout",
       "prompt_number": 35,
       "text": [
        "2014-01-01    1.0\n",
        "2014-02-01    1.5\n",
        "2014-04-01    2.0\n",
        "dtype: float64"
       ]
      }
     ],
     "prompt_number": 35
    },
    {
     "cell_type": "code",
     "collapsed": false,
     "input": [
      "# this accounts for the fact that we don't have\n",
      "# an entry for 2014-03-01\n",
      "ts.interpolate(method=\"time\")"
     ],
     "language": "python",
     "metadata": {},
     "outputs": [
      {
       "metadata": {},
       "output_type": "pyout",
       "prompt_number": 36,
       "text": [
        "2014-01-01    1.000000\n",
        "2014-02-01    1.344444\n",
        "2014-04-01    2.000000\n",
        "dtype: float64"
       ]
      }
     ],
     "prompt_number": 36
    },
    {
     "cell_type": "code",
     "collapsed": false,
     "input": [
      "# a Series to demonstrate index label based interpolation\n",
      "s = pd.Series([0, np.nan, 100], index=[0, 1, 10])\n",
      "s"
     ],
     "language": "python",
     "metadata": {},
     "outputs": [
      {
       "metadata": {},
       "output_type": "pyout",
       "prompt_number": 37,
       "text": [
        "0       0\n",
        "1     NaN\n",
        "10    100\n",
        "dtype: float64"
       ]
      }
     ],
     "prompt_number": 37
    },
    {
     "cell_type": "code",
     "collapsed": false,
     "input": [
      "# linear interpolate\n",
      "s.interpolate()"
     ],
     "language": "python",
     "metadata": {},
     "outputs": [
      {
       "metadata": {},
       "output_type": "pyout",
       "prompt_number": 38,
       "text": [
        "0       0\n",
        "1      50\n",
        "10    100\n",
        "dtype: float64"
       ]
      }
     ],
     "prompt_number": 38
    },
    {
     "cell_type": "code",
     "collapsed": false,
     "input": [
      "# interpolate based upon the values in the index\n",
      "s.interpolate(method=\"values\")"
     ],
     "language": "python",
     "metadata": {},
     "outputs": [
      {
       "metadata": {},
       "output_type": "pyout",
       "prompt_number": 39,
       "text": [
        "0       0\n",
        "1      10\n",
        "10    100\n",
        "dtype: float64"
       ]
      }
     ],
     "prompt_number": 39
    },
    {
     "cell_type": "heading",
     "level": 1,
     "metadata": {},
     "source": [
      "Handling Duplicate Data"
     ]
    },
    {
     "cell_type": "code",
     "collapsed": false,
     "input": [
      "# a DataFrame with lots of duplicate data\n",
      "data = pd.DataFrame({'a': ['x'] * 3 + ['y'] * 4, \n",
      "                     'b': [1, 1, 2, 3, 3, 4, 4]})\n",
      "data"
     ],
     "language": "python",
     "metadata": {},
     "outputs": [
      {
       "metadata": {},
       "output_type": "pyout",
       "prompt_number": 40,
       "text": [
        "   a  b\n",
        "0  x  1\n",
        "1  x  1\n",
        "2  x  2\n",
        "3  y  3\n",
        "4  y  3\n",
        "5  y  4\n",
        "6  y  4"
       ]
      }
     ],
     "prompt_number": 40
    },
    {
     "cell_type": "code",
     "collapsed": false,
     "input": [
      "# reports which rows are duplicates based upon\n",
      "# if the data in all columns was seen before\n",
      "data.duplicated()"
     ],
     "language": "python",
     "metadata": {},
     "outputs": [
      {
       "metadata": {},
       "output_type": "pyout",
       "prompt_number": 41,
       "text": [
        "0    False\n",
        "1     True\n",
        "2    False\n",
        "3    False\n",
        "4     True\n",
        "5    False\n",
        "6     True\n",
        "dtype: bool"
       ]
      }
     ],
     "prompt_number": 41
    },
    {
     "cell_type": "code",
     "collapsed": false,
     "input": [
      "# drop duplicate rows retaining first row of the duplicates\n",
      "data.drop_duplicates()"
     ],
     "language": "python",
     "metadata": {},
     "outputs": [
      {
       "metadata": {},
       "output_type": "pyout",
       "prompt_number": 42,
       "text": [
        "   a  b\n",
        "0  x  1\n",
        "2  x  2\n",
        "3  y  3\n",
        "5  y  4"
       ]
      }
     ],
     "prompt_number": 42
    },
    {
     "cell_type": "code",
     "collapsed": false,
     "input": [
      "# drop duplicate rows, only keeping the first \n",
      "# instance of any data\n",
      "data.drop_duplicates(take_last=True)"
     ],
     "language": "python",
     "metadata": {},
     "outputs": [
      {
       "metadata": {},
       "output_type": "pyout",
       "prompt_number": 43,
       "text": [
        "   a  b\n",
        "1  x  1\n",
        "2  x  2\n",
        "4  y  3\n",
        "6  y  4"
       ]
      }
     ],
     "prompt_number": 43
    },
    {
     "cell_type": "code",
     "collapsed": false,
     "input": [
      "# add a column c with values 0..6\n",
      "# this makes .duplicated() report no duplicate rows\n",
      "data['c'] = range(7)\n",
      "data.duplicated()"
     ],
     "language": "python",
     "metadata": {},
     "outputs": [
      {
       "metadata": {},
       "output_type": "pyout",
       "prompt_number": 44,
       "text": [
        "0    False\n",
        "1    False\n",
        "2    False\n",
        "3    False\n",
        "4    False\n",
        "5    False\n",
        "6    False\n",
        "dtype: bool"
       ]
      }
     ],
     "prompt_number": 44
    },
    {
     "cell_type": "code",
     "collapsed": false,
     "input": [
      "# but if we specify duplicates to be dropped only in columns a & b\n",
      "# they will be dropped\n",
      "data.drop_duplicates(['a', 'b'])"
     ],
     "language": "python",
     "metadata": {},
     "outputs": [
      {
       "metadata": {},
       "output_type": "pyout",
       "prompt_number": 45,
       "text": [
        "   a  b  c\n",
        "0  x  1  0\n",
        "2  x  2  2\n",
        "3  y  3  3\n",
        "5  y  4  5"
       ]
      }
     ],
     "prompt_number": 45
    },
    {
     "cell_type": "heading",
     "level": 1,
     "metadata": {},
     "source": [
      "Transforming Data"
     ]
    },
    {
     "cell_type": "heading",
     "level": 2,
     "metadata": {},
     "source": [
      "Mapping"
     ]
    },
    {
     "cell_type": "code",
     "collapsed": false,
     "input": [
      "# create two Series objects to demonstrate mapping\n",
      "x = pd.Series({\"one\": 1, \"two\": 2, \"three\": 3})\n",
      "y = pd.Series({1: \"a\", 2: \"b\", 3: \"c\"})\n",
      "x"
     ],
     "language": "python",
     "metadata": {},
     "outputs": [
      {
       "metadata": {},
       "output_type": "pyout",
       "prompt_number": 46,
       "text": [
        "one      1\n",
        "three    3\n",
        "two      2\n",
        "dtype: int64"
       ]
      }
     ],
     "prompt_number": 46
    },
    {
     "cell_type": "code",
     "collapsed": false,
     "input": [
      "y"
     ],
     "language": "python",
     "metadata": {},
     "outputs": [
      {
       "metadata": {},
       "output_type": "pyout",
       "prompt_number": 47,
       "text": [
        "1    a\n",
        "2    b\n",
        "3    c\n",
        "dtype: object"
       ]
      }
     ],
     "prompt_number": 47
    },
    {
     "cell_type": "code",
     "collapsed": false,
     "input": [
      "# map values in x to values in y \n",
      "x.map(y)"
     ],
     "language": "python",
     "metadata": {},
     "outputs": [
      {
       "metadata": {},
       "output_type": "pyout",
       "prompt_number": 48,
       "text": [
        "one      a\n",
        "three    c\n",
        "two      b\n",
        "dtype: object"
       ]
      }
     ],
     "prompt_number": 48
    },
    {
     "cell_type": "code",
     "collapsed": false,
     "input": [
      "# three in x will not align / map to a value in y\n",
      "x = pd.Series({\"one\": 1, \"two\": 2, \"three\": 3})\n",
      "y = pd.Series({1: \"a\", 2: \"b\"})\n",
      "x.map(y)"
     ],
     "language": "python",
     "metadata": {},
     "outputs": [
      {
       "metadata": {},
       "output_type": "pyout",
       "prompt_number": 49,
       "text": [
        "one        a\n",
        "three    NaN\n",
        "two        b\n",
        "dtype: object"
       ]
      }
     ],
     "prompt_number": 49
    },
    {
     "cell_type": "heading",
     "level": 2,
     "metadata": {},
     "source": [
      "Replacing values"
     ]
    },
    {
     "cell_type": "code",
     "collapsed": false,
     "input": [
      "# create a Series to demonstrate replace\n",
      "s = pd.Series([0., 1., 2., 3., 2., 4.])\n",
      "s"
     ],
     "language": "python",
     "metadata": {},
     "outputs": [
      {
       "metadata": {},
       "output_type": "pyout",
       "prompt_number": 50,
       "text": [
        "0    0\n",
        "1    1\n",
        "2    2\n",
        "3    3\n",
        "4    2\n",
        "5    4\n",
        "dtype: float64"
       ]
      }
     ],
     "prompt_number": 50
    },
    {
     "cell_type": "code",
     "collapsed": false,
     "input": [
      "# replace all items with index label 2 with value 5\n",
      "s.replace(2, 5)"
     ],
     "language": "python",
     "metadata": {},
     "outputs": [
      {
       "metadata": {},
       "output_type": "pyout",
       "prompt_number": 51,
       "text": [
        "0    0\n",
        "1    1\n",
        "2    5\n",
        "3    3\n",
        "4    5\n",
        "5    4\n",
        "dtype: float64"
       ]
      }
     ],
     "prompt_number": 51
    },
    {
     "cell_type": "code",
     "collapsed": false,
     "input": [
      "# replace all items with new values\n",
      "s.replace([0, 1, 2, 3, 4], [4, 3, 2, 1, 0])"
     ],
     "language": "python",
     "metadata": {},
     "outputs": [
      {
       "metadata": {},
       "output_type": "pyout",
       "prompt_number": 52,
       "text": [
        "0    4\n",
        "1    3\n",
        "2    2\n",
        "3    1\n",
        "4    2\n",
        "5    0\n",
        "dtype: float64"
       ]
      }
     ],
     "prompt_number": 52
    },
    {
     "cell_type": "code",
     "collapsed": false,
     "input": [
      "# replace using entries in a dictionary\n",
      "s.replace({0: 10, 1: 100})"
     ],
     "language": "python",
     "metadata": {},
     "outputs": [
      {
       "metadata": {},
       "output_type": "pyout",
       "prompt_number": 53,
       "text": [
        "0     10\n",
        "1    100\n",
        "2      2\n",
        "3      3\n",
        "4      2\n",
        "5      4\n",
        "dtype: float64"
       ]
      }
     ],
     "prompt_number": 53
    },
    {
     "cell_type": "code",
     "collapsed": false,
     "input": [
      "# DataFrame with two columns\n",
      "df = pd.DataFrame({'a': [0, 1, 2, 3, 4], 'b': [5, 6, 7, 8, 9]})\n",
      "df"
     ],
     "language": "python",
     "metadata": {},
     "outputs": [
      {
       "metadata": {},
       "output_type": "pyout",
       "prompt_number": 54,
       "text": [
        "   a  b\n",
        "0  0  5\n",
        "1  1  6\n",
        "2  2  7\n",
        "3  3  8\n",
        "4  4  9"
       ]
      }
     ],
     "prompt_number": 54
    },
    {
     "cell_type": "code",
     "collapsed": false,
     "input": [
      "# specify different replacement values for each column\n",
      "df.replace({'a': 1, 'b': 8}, 100)"
     ],
     "language": "python",
     "metadata": {},
     "outputs": [
      {
       "metadata": {},
       "output_type": "pyout",
       "prompt_number": 55,
       "text": [
        "     a    b\n",
        "0    0    5\n",
        "1  100    6\n",
        "2    2    7\n",
        "3    3  100\n",
        "4    4    9"
       ]
      }
     ],
     "prompt_number": 55
    },
    {
     "cell_type": "code",
     "collapsed": false,
     "input": [
      "# demonstrate replacement with pad method\n",
      "# set first item to 10, to have a distinct replacement value\n",
      "s[0] = 10\n",
      "s"
     ],
     "language": "python",
     "metadata": {},
     "outputs": [
      {
       "metadata": {},
       "output_type": "pyout",
       "prompt_number": 56,
       "text": [
        "0    10\n",
        "1     1\n",
        "2     2\n",
        "3     3\n",
        "4     2\n",
        "5     4\n",
        "dtype: float64"
       ]
      }
     ],
     "prompt_number": 56
    },
    {
     "cell_type": "code",
     "collapsed": false,
     "input": [
      "# replace items with index label 1, 2, 3, using fill from the\n",
      "# most recent value prior to the specified labels (10)\n",
      "s.replace([1, 2, 3], method='pad')"
     ],
     "language": "python",
     "metadata": {},
     "outputs": [
      {
       "metadata": {},
       "output_type": "pyout",
       "prompt_number": 57,
       "text": [
        "0    10\n",
        "1    10\n",
        "2    10\n",
        "3    10\n",
        "4    10\n",
        "5     4\n",
        "dtype: float64"
       ]
      }
     ],
     "prompt_number": 57
    },
    {
     "cell_type": "heading",
     "level": 2,
     "metadata": {},
     "source": [
      "Applying functions to transform data"
     ]
    },
    {
     "cell_type": "code",
     "collapsed": false,
     "input": [
      "# demonstrate applying a function to every item of a Series\n",
      "s = pd.Series(np.arange(0, 5))\n",
      "s.apply(lambda v: v * 2)"
     ],
     "language": "python",
     "metadata": {},
     "outputs": [
      {
       "metadata": {},
       "output_type": "pyout",
       "prompt_number": 58,
       "text": [
        "0    0\n",
        "1    2\n",
        "2    4\n",
        "3    6\n",
        "4    8\n",
        "dtype: int64"
       ]
      }
     ],
     "prompt_number": 58
    },
    {
     "cell_type": "code",
     "collapsed": false,
     "input": [
      "# demonstrate applying a sum on each column\n",
      "df = pd.DataFrame(np.arange(12).reshape(4, 3), \n",
      "                  columns=['a', 'b', 'c'])\n",
      "df"
     ],
     "language": "python",
     "metadata": {},
     "outputs": [
      {
       "metadata": {},
       "output_type": "pyout",
       "prompt_number": 59,
       "text": [
        "   a   b   c\n",
        "0  0   1   2\n",
        "1  3   4   5\n",
        "2  6   7   8\n",
        "3  9  10  11"
       ]
      }
     ],
     "prompt_number": 59
    },
    {
     "cell_type": "code",
     "collapsed": false,
     "input": [
      "# calculate cumulative sum of items in each column\n",
      "df.apply(lambda col: col.sum())"
     ],
     "language": "python",
     "metadata": {},
     "outputs": [
      {
       "metadata": {},
       "output_type": "pyout",
       "prompt_number": 60,
       "text": [
        "a    18\n",
        "b    22\n",
        "c    26\n",
        "dtype: int64"
       ]
      }
     ],
     "prompt_number": 60
    },
    {
     "cell_type": "code",
     "collapsed": false,
     "input": [
      "# calculate sum of items in each row\n",
      "df.apply(lambda row: row.sum(), axis=1)"
     ],
     "language": "python",
     "metadata": {},
     "outputs": [
      {
       "metadata": {},
       "output_type": "pyout",
       "prompt_number": 61,
       "text": [
        "0     3\n",
        "1    12\n",
        "2    21\n",
        "3    30\n",
        "dtype: int64"
       ]
      }
     ],
     "prompt_number": 61
    },
    {
     "cell_type": "code",
     "collapsed": false,
     "input": [
      "# create a new column 'interim' with a * b\n",
      "df['interim'] = df.apply(lambda r: r.a * r.b, axis=1)\n",
      "df"
     ],
     "language": "python",
     "metadata": {},
     "outputs": [
      {
       "metadata": {},
       "output_type": "pyout",
       "prompt_number": 62,
       "text": [
        "   a   b   c  interim\n",
        "0  0   1   2        0\n",
        "1  3   4   5       12\n",
        "2  6   7   8       42\n",
        "3  9  10  11       90"
       ]
      }
     ],
     "prompt_number": 62
    },
    {
     "cell_type": "code",
     "collapsed": false,
     "input": [
      "# and now a 'result' column with 'interim' + 'c'\n",
      "df['result'] = df.apply(lambda r: r.interim + r.c, axis=1)\n",
      "df"
     ],
     "language": "python",
     "metadata": {},
     "outputs": [
      {
       "metadata": {},
       "output_type": "pyout",
       "prompt_number": 63,
       "text": [
        "   a   b   c  interim  result\n",
        "0  0   1   2        0       2\n",
        "1  3   4   5       12      17\n",
        "2  6   7   8       42      50\n",
        "3  9  10  11       90     101"
       ]
      }
     ],
     "prompt_number": 63
    },
    {
     "cell_type": "code",
     "collapsed": false,
     "input": [
      "# replace column a with the sum of columns a, b and c\n",
      "df.a = df.a + df.b + df.c\n",
      "df"
     ],
     "language": "python",
     "metadata": {},
     "outputs": [
      {
       "metadata": {},
       "output_type": "pyout",
       "prompt_number": 64,
       "text": [
        "    a   b   c  interim  result\n",
        "0   3   1   2        0       2\n",
        "1  12   4   5       12      17\n",
        "2  21   7   8       42      50\n",
        "3  30  10  11       90     101"
       ]
      }
     ],
     "prompt_number": 64
    },
    {
     "cell_type": "code",
     "collapsed": false,
     "input": [
      "# create a 3x5 DataFrame\n",
      "# only second row has a NaN\n",
      "df = pd.DataFrame(np.arange(0, 15).reshape(3,5))\n",
      "df.loc[1, 2] = np.nan\n",
      "df"
     ],
     "language": "python",
     "metadata": {},
     "outputs": [
      {
       "metadata": {},
       "output_type": "pyout",
       "prompt_number": 65,
       "text": [
        "    0   1   2   3   4\n",
        "0   0   1   2   3   4\n",
        "1   5   6 NaN   8   9\n",
        "2  10  11  12  13  14"
       ]
      }
     ],
     "prompt_number": 65
    },
    {
     "cell_type": "code",
     "collapsed": false,
     "input": [
      "# demonstrate applying a function to only rows having\n",
      "# a count of 0 NaN values\n",
      "df.dropna().apply(lambda x: x.sum(), axis=1)"
     ],
     "language": "python",
     "metadata": {},
     "outputs": [
      {
       "metadata": {},
       "output_type": "pyout",
       "prompt_number": 66,
       "text": [
        "0    10\n",
        "2    60\n",
        "dtype: float64"
       ]
      }
     ],
     "prompt_number": 66
    },
    {
     "cell_type": "code",
     "collapsed": false,
     "input": [
      "# use applymap to format all items of the DataFrame\n",
      "df.applymap(lambda x: '%.2f' % x)"
     ],
     "language": "python",
     "metadata": {},
     "outputs": [
      {
       "metadata": {},
       "output_type": "pyout",
       "prompt_number": 67,
       "text": [
        "       0      1      2      3      4\n",
        "0   0.00   1.00   2.00   3.00   4.00\n",
        "1   5.00   6.00    nan   8.00   9.00\n",
        "2  10.00  11.00  12.00  13.00  14.00"
       ]
      }
     ],
     "prompt_number": 67
    }
   ],
   "metadata": {}
  }
 ]
}