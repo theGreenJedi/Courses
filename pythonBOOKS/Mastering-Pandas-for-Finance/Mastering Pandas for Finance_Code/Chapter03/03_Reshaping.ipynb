{
 "metadata": {
  "name": "",
  "signature": "sha256:3dac662f74692b4c0696d0df1d44b31f8c710a0a1f023bbde4b0f4a48cc67770"
 },
 "nbformat": 3,
 "nbformat_minor": 0,
 "worksheets": [
  {
   "cells": [
    {
     "cell_type": "heading",
     "level": 1,
     "metadata": {},
     "source": [
      "Reshaping, Reorganizing and Aggregation"
     ]
    },
    {
     "cell_type": "code",
     "collapsed": false,
     "input": [
      "# import pandas and NumPy\n",
      "import pandas as pd\n",
      "import numpy as np\n",
      "\n",
      "# date and time functions\n",
      "import datetime\n",
      "\n",
      "# bring in matplotlib and draw inline\n",
      "import matplotlib.pyplot as plt\n",
      "%matplotlib inline\n",
      "\n",
      "# Set some Pandas options\n",
      "pd.set_option('display.notebook_repr_html', False)\n",
      "pd.set_option('display.max_columns', 15)\n",
      "pd.set_option('display.max_rows', 8)\n",
      "pd.set_option('precision', 3)"
     ],
     "language": "python",
     "metadata": {},
     "outputs": [],
     "prompt_number": 1
    },
    {
     "cell_type": "heading",
     "level": 2,
     "metadata": {},
     "source": [
      "Loading historical stock data from the web or from files"
     ]
    },
    {
     "cell_type": "heading",
     "level": 3,
     "metadata": {},
     "source": [
      "From Web"
     ]
    },
    {
     "cell_type": "code",
     "collapsed": false,
     "input": [
      "# for the DataReader\n",
      "import pandas.io.data as web\n",
      "\n",
      "# start end end dates\n",
      "start = datetime.datetime(2012, 1, 1)\n",
      "end = datetime.datetime(2012, 12, 30)\n",
      "\n",
      "# load the data\n",
      "msft = web.DataReader(\"MSFT\", 'yahoo', start, end)\n",
      "aapl = web.DataReader(\"AAPL\", 'yahoo', start, end)\n",
      "\n",
      "# these save the data to file - optional for the examples\n",
      "#msft.to_csv(\"msft.csv\")\n",
      "#aapl.to_csv(\"aapl.csv\")"
     ],
     "language": "python",
     "metadata": {},
     "outputs": [],
     "prompt_number": 2
    },
    {
     "cell_type": "heading",
     "level": 3,
     "metadata": {},
     "source": [
      "From file"
     ]
    },
    {
     "cell_type": "code",
     "collapsed": false,
     "input": [
      "# read the Microsoft and Apple data from file\n",
      "msft = pd.read_csv(\"msft.csv\", index_col=0, parse_dates=True)\n",
      "aapl = pd.read_csv(\"aapl.csv\", index_col=0, parse_dates=True)"
     ],
     "language": "python",
     "metadata": {},
     "outputs": [],
     "prompt_number": 3
    },
    {
     "cell_type": "heading",
     "level": 3,
     "metadata": {},
     "source": [
      "Organizing the data for the examples"
     ]
    },
    {
     "cell_type": "code",
     "collapsed": false,
     "input": [
      "msft[:3]"
     ],
     "language": "python",
     "metadata": {},
     "outputs": [
      {
       "metadata": {},
       "output_type": "pyout",
       "prompt_number": 4,
       "text": [
        "             Open   High    Low  Close    Volume  Adj Close\n",
        "Date                                                       \n",
        "2012-01-03  26.55  26.96  26.39  26.77  64731500      24.42\n",
        "2012-01-04  26.82  27.47  26.78  27.40  80516100      25.00\n",
        "2012-01-05  27.38  27.73  27.29  27.68  56081400      25.25"
       ]
      }
     ],
     "prompt_number": 4
    },
    {
     "cell_type": "code",
     "collapsed": false,
     "input": [
      "aapl[:3]"
     ],
     "language": "python",
     "metadata": {},
     "outputs": [
      {
       "metadata": {},
       "output_type": "pyout",
       "prompt_number": 5,
       "text": [
        "              Open    High     Low   Close    Volume  Adj Close\n",
        "Date                                                           \n",
        "2012-01-03  409.40  412.50  409.00  411.23  75555200      55.41\n",
        "2012-01-04  410.00  414.68  409.28  413.44  65005500      55.71\n",
        "2012-01-05  414.95  418.55  412.67  418.03  67817400      56.33"
       ]
      }
     ],
     "prompt_number": 5
    },
    {
     "cell_type": "heading",
     "level": 1,
     "metadata": {},
     "source": [
      "Reorganizing and reshaping data"
     ]
    },
    {
     "cell_type": "heading",
     "level": 2,
     "metadata": {},
     "source": [
      "Concatenating data in Multiple DataFrame objects"
     ]
    },
    {
     "cell_type": "code",
     "collapsed": false,
     "input": [
      "# get MSFT adjusted close data for Jan and Feb 2012\n",
      "msftA01 = msft['2012-01'][['Adj Close']]\n",
      "msftA02 = msft['2012-02'][['Adj Close']]\n",
      "msftA01[:3]"
     ],
     "language": "python",
     "metadata": {},
     "outputs": [
      {
       "metadata": {},
       "output_type": "pyout",
       "prompt_number": 6,
       "text": [
        "            Adj Close\n",
        "Date                 \n",
        "2012-01-03      24.42\n",
        "2012-01-04      25.00\n",
        "2012-01-05      25.25"
       ]
      }
     ],
     "prompt_number": 6
    },
    {
     "cell_type": "code",
     "collapsed": false,
     "input": [
      "msftA02[:3]"
     ],
     "language": "python",
     "metadata": {},
     "outputs": [
      {
       "metadata": {},
       "output_type": "pyout",
       "prompt_number": 7,
       "text": [
        "            Adj Close\n",
        "Date                 \n",
        "2012-02-01      27.27\n",
        "2012-02-02      27.32\n",
        "2012-02-03      27.59"
       ]
      }
     ],
     "prompt_number": 7
    },
    {
     "cell_type": "code",
     "collapsed": false,
     "input": [
      "# combine the first three rows of each of msftA01 and msftA02\n",
      "pd.concat([msftA01.head(3), msftA02.head(3)])"
     ],
     "language": "python",
     "metadata": {},
     "outputs": [
      {
       "metadata": {},
       "output_type": "pyout",
       "prompt_number": 8,
       "text": [
        "            Adj Close\n",
        "Date                 \n",
        "2012-01-03      24.42\n",
        "2012-01-04      25.00\n",
        "2012-01-05      25.25\n",
        "2012-02-01      27.27\n",
        "2012-02-02      27.32\n",
        "2012-02-03      27.59"
       ]
      }
     ],
     "prompt_number": 8
    },
    {
     "cell_type": "code",
     "collapsed": false,
     "input": [
      "# Extract only the Jan 2012 AAPL values.  \n",
      "aaplA01 = aapl['2012-01'][['Adj Close']]\n",
      "# now concat the AAPL and MSFT Jan 2012 data\n",
      "# there will be duplicate index labels\n",
      "withDups = pd.concat([msftA01[:3], aaplA01[:3]])\n",
      "withDups"
     ],
     "language": "python",
     "metadata": {},
     "outputs": [
      {
       "metadata": {},
       "output_type": "pyout",
       "prompt_number": 9,
       "text": [
        "            Adj Close\n",
        "Date                 \n",
        "2012-01-03      24.42\n",
        "2012-01-04      25.00\n",
        "2012-01-05      25.25\n",
        "2012-01-03      55.41\n",
        "2012-01-04      55.71\n",
        "2012-01-05      56.33"
       ]
      }
     ],
     "prompt_number": 9
    },
    {
     "cell_type": "code",
     "collapsed": false,
     "input": [
      "# show the two records for data of 2012-01-03\n",
      "withDups.ix['2012-01-03']"
     ],
     "language": "python",
     "metadata": {},
     "outputs": [
      {
       "metadata": {},
       "output_type": "pyout",
       "prompt_number": 10,
       "text": [
        "            Adj Close\n",
        "Date                 \n",
        "2012-01-03      24.42\n",
        "2012-01-03      55.41"
       ]
      }
     ],
     "prompt_number": 10
    },
    {
     "cell_type": "code",
     "collapsed": false,
     "input": [
      "# demonstrate concat with a specification of the \n",
      "# stock tickets being part of the index\n",
      "# this help disambiguate the duplicate dates using\n",
      "# a hierarchal index\n",
      "closes = pd.concat([msftA01[:3], aaplA01[:3]], \n",
      "                    keys=['MSFT', 'AAPL'])\n",
      "closes"
     ],
     "language": "python",
     "metadata": {},
     "outputs": [
      {
       "metadata": {},
       "output_type": "pyout",
       "prompt_number": 11,
       "text": [
        "                 Adj Close\n",
        "     Date                 \n",
        "MSFT 2012-01-03      24.42\n",
        "     2012-01-04      25.00\n",
        "     2012-01-05      25.25\n",
        "AAPL 2012-01-03      55.41\n",
        "     2012-01-04      55.71\n",
        "     2012-01-05      56.33"
       ]
      }
     ],
     "prompt_number": 11
    },
    {
     "cell_type": "code",
     "collapsed": false,
     "input": [
      "# extract just MSFT values using .ix\n",
      "closes.ix['MSFT'][:3]"
     ],
     "language": "python",
     "metadata": {},
     "outputs": [
      {
       "metadata": {},
       "output_type": "pyout",
       "prompt_number": 12,
       "text": [
        "            Adj Close\n",
        "Date                 \n",
        "2012-01-03      24.42\n",
        "2012-01-04      25.00\n",
        "2012-01-05      25.25"
       ]
      }
     ],
     "prompt_number": 12
    },
    {
     "cell_type": "code",
     "collapsed": false,
     "input": [
      "# demonstrate concatenation using two DataFrame's\n",
      "# that each have two columns.  pandas will align the\n",
      "# data in columns by the column names (labels)\n",
      "msftAV = msft[['Adj Close', 'Volume']]\n",
      "aaplAV = aapl[['Adj Close', 'Volume']]\n",
      "pd.concat([msftAV, aaplAV])"
     ],
     "language": "python",
     "metadata": {},
     "outputs": [
      {
       "metadata": {},
       "output_type": "pyout",
       "prompt_number": 13,
       "text": [
        "            Adj Close     Volume\n",
        "Date                            \n",
        "2012-01-03      24.42   64731500\n",
        "2012-01-04      25.00   80516100\n",
        "2012-01-05      25.25   56081400\n",
        "2012-01-06      25.64   99455500\n",
        "...               ...        ...\n",
        "2012-12-24      70.72   43938300\n",
        "2012-12-26      69.74   75609100\n",
        "2012-12-27      70.02  113780100\n",
        "2012-12-28      69.28   88569600\n",
        "\n",
        "[498 rows x 2 columns]"
       ]
      }
     ],
     "prompt_number": 13
    },
    {
     "cell_type": "code",
     "collapsed": false,
     "input": [
      "# demonstrate concatenation with DataFrame objects\n",
      "# that do not have the same set of columns\n",
      "# this demonstrates pandas filling in NaN values\n",
      "aaplA = aapl[['Adj Close']]\n",
      "pd.concat([msftAV, aaplA])"
     ],
     "language": "python",
     "metadata": {},
     "outputs": [
      {
       "metadata": {},
       "output_type": "pyout",
       "prompt_number": 14,
       "text": [
        "            Adj Close    Volume\n",
        "Date                           \n",
        "2012-01-03      24.42  64731500\n",
        "2012-01-04      25.00  80516100\n",
        "2012-01-05      25.25  56081400\n",
        "2012-01-06      25.64  99455500\n",
        "...               ...       ...\n",
        "2012-12-24      70.72       NaN\n",
        "2012-12-26      69.74       NaN\n",
        "2012-12-27      70.02       NaN\n",
        "2012-12-28      69.28       NaN\n",
        "\n",
        "[498 rows x 2 columns]"
       ]
      }
     ],
     "prompt_number": 14
    },
    {
     "cell_type": "code",
     "collapsed": false,
     "input": [
      "# perform an inner join on the DataFrame's\n",
      "# since aaplA does not have a Volume column, pandas\n",
      "# will not include that column in the result\n",
      "pd.concat([msftAV, aaplA], join='inner')"
     ],
     "language": "python",
     "metadata": {},
     "outputs": [
      {
       "metadata": {},
       "output_type": "pyout",
       "prompt_number": 15,
       "text": [
        "            Adj Close\n",
        "Date                 \n",
        "2012-01-03      24.42\n",
        "2012-01-04      25.00\n",
        "2012-01-05      25.25\n",
        "2012-01-06      25.64\n",
        "...               ...\n",
        "2012-12-24      70.72\n",
        "2012-12-26      69.74\n",
        "2012-12-27      70.02\n",
        "2012-12-28      69.28\n",
        "\n",
        "[498 rows x 1 columns]"
       ]
      }
     ],
     "prompt_number": 15
    },
    {
     "cell_type": "code",
     "collapsed": false,
     "input": [
      "# concat along the rows, causing duplicate columns to\n",
      "# be created in the result\n",
      "msftA = msft[['Adj Close']]\n",
      "closes = pd.concat([msftA, aaplA], axis=1)\n",
      "closes[:3]"
     ],
     "language": "python",
     "metadata": {},
     "outputs": [
      {
       "metadata": {},
       "output_type": "pyout",
       "prompt_number": 16,
       "text": [
        "            Adj Close  Adj Close\n",
        "Date                            \n",
        "2012-01-03      24.42      55.41\n",
        "2012-01-04      25.00      55.71\n",
        "2012-01-05      25.25      56.33"
       ]
      }
     ],
     "prompt_number": 16
    },
    {
     "cell_type": "code",
     "collapsed": false,
     "input": [
      "# concat along rows using two DataFrame objects with\n",
      "# different number of rows. This demonstrates how\n",
      "# NaN values will be filled in those rows for AAPL\n",
      "# which only hase three rows as compared to 5 for MSFT\n",
      "pd.concat([msftAV[:5], aaplAV[:3]], axis=1,\n",
      "          keys=['MSFT', 'AAPL'])"
     ],
     "language": "python",
     "metadata": {},
     "outputs": [
      {
       "metadata": {},
       "output_type": "pyout",
       "prompt_number": 17,
       "text": [
        "                MSFT                AAPL          \n",
        "           Adj Close    Volume Adj Close    Volume\n",
        "Date                                              \n",
        "2012-01-03     24.42  64731500     55.41  75555200\n",
        "2012-01-04     25.00  80516100     55.71  65005500\n",
        "2012-01-05     25.25  56081400     56.33  67817400\n",
        "2012-01-06     25.64  99455500       NaN       NaN\n",
        "2012-01-09     25.31  59706800       NaN       NaN"
       ]
      }
     ],
     "prompt_number": 17
    },
    {
     "cell_type": "code",
     "collapsed": false,
     "input": [
      "# inner join can also be used along this axis\n",
      "# this will not include rows with index labels that do\n",
      "# not exist in both DataFrame objects\n",
      "pd.concat([msftA[:5], aaplA[:3]], axis=1,\n",
      "          join='inner', keys=['MSFT', 'AAPL'])"
     ],
     "language": "python",
     "metadata": {},
     "outputs": [
      {
       "metadata": {},
       "output_type": "pyout",
       "prompt_number": 18,
       "text": [
        "                MSFT      AAPL\n",
        "           Adj Close Adj Close\n",
        "Date                          \n",
        "2012-01-03     24.42     55.41\n",
        "2012-01-04     25.00     55.71\n",
        "2012-01-05     25.25     56.33"
       ]
      }
     ],
     "prompt_number": 18
    },
    {
     "cell_type": "code",
     "collapsed": false,
     "input": [
      "# ignore indexes and just concatenate the data and\n",
      "# have the result have a default integer index\n",
      "pd.concat([msftA[:3], aaplA[:3]], ignore_index=True)"
     ],
     "language": "python",
     "metadata": {},
     "outputs": [
      {
       "metadata": {},
       "output_type": "pyout",
       "prompt_number": 19,
       "text": [
        "   Adj Close\n",
        "0      24.42\n",
        "1      25.00\n",
        "2      25.25\n",
        "3      55.41\n",
        "4      55.71\n",
        "5      56.33"
       ]
      }
     ],
     "prompt_number": 19
    },
    {
     "cell_type": "heading",
     "level": 2,
     "metadata": {},
     "source": [
      "Merging DataFrame objects"
     ]
    },
    {
     "cell_type": "code",
     "collapsed": false,
     "input": [
      "# we will merge these two DataFrame objects, \n",
      "# so lets peek at the data to remind ourselves\n",
      "# of what they contain\n",
      "msftAR = msftA.reset_index()\n",
      "msftVR = msft[['Volume']].reset_index()\n",
      "msftAR[:3]"
     ],
     "language": "python",
     "metadata": {},
     "outputs": [
      {
       "metadata": {},
       "output_type": "pyout",
       "prompt_number": 20,
       "text": [
        "        Date  Adj Close\n",
        "0 2012-01-03      24.42\n",
        "1 2012-01-04      25.00\n",
        "2 2012-01-05      25.25"
       ]
      }
     ],
     "prompt_number": 20
    },
    {
     "cell_type": "code",
     "collapsed": false,
     "input": [
      "msftVR[:3]"
     ],
     "language": "python",
     "metadata": {},
     "outputs": [
      {
       "metadata": {},
       "output_type": "pyout",
       "prompt_number": 21,
       "text": [
        "        Date    Volume\n",
        "0 2012-01-03  64731500\n",
        "1 2012-01-04  80516100\n",
        "2 2012-01-05  56081400"
       ]
      }
     ],
     "prompt_number": 21
    },
    {
     "cell_type": "code",
     "collapsed": false,
     "input": [
      "# merge the two.  pandas finds the columns in common,\n",
      "# in this case Date, and merges on that column and adds\n",
      "# a column for all the other columns in both DataFrame's\n",
      "msftCVR = pd.merge(msftAR, msftVR)\n",
      "msftCVR[:5]"
     ],
     "language": "python",
     "metadata": {},
     "outputs": [
      {
       "metadata": {},
       "output_type": "pyout",
       "prompt_number": 22,
       "text": [
        "        Date  Adj Close    Volume\n",
        "0 2012-01-03      24.42  64731500\n",
        "1 2012-01-04      25.00  80516100\n",
        "2 2012-01-05      25.25  56081400\n",
        "3 2012-01-06      25.64  99455500\n",
        "4 2012-01-09      25.31  59706800"
       ]
      }
     ],
     "prompt_number": 22
    },
    {
     "cell_type": "code",
     "collapsed": false,
     "input": [
      "# we will demonstrate join semantics using this DataFrame\n",
      "msftAR0_5 = msftAR[0:5]\n",
      "msftAR0_5"
     ],
     "language": "python",
     "metadata": {},
     "outputs": [
      {
       "metadata": {},
       "output_type": "pyout",
       "prompt_number": 23,
       "text": [
        "        Date  Adj Close\n",
        "0 2012-01-03      24.42\n",
        "1 2012-01-04      25.00\n",
        "2 2012-01-05      25.25\n",
        "3 2012-01-06      25.64\n",
        "4 2012-01-09      25.31"
       ]
      }
     ],
     "prompt_number": 23
    },
    {
     "cell_type": "code",
     "collapsed": false,
     "input": [
      "# and also this one\n",
      "msftVR2_4 = msftVR[2:4]\n",
      "msftVR2_4"
     ],
     "language": "python",
     "metadata": {},
     "outputs": [
      {
       "metadata": {},
       "output_type": "pyout",
       "prompt_number": 24,
       "text": [
        "        Date    Volume\n",
        "2 2012-01-05  56081400\n",
        "3 2012-01-06  99455500"
       ]
      }
     ],
     "prompt_number": 24
    },
    {
     "cell_type": "code",
     "collapsed": false,
     "input": [
      "# merge semantics using default inner join\n",
      "pd.merge(msftAR0_5, msftVR2_4)"
     ],
     "language": "python",
     "metadata": {},
     "outputs": [
      {
       "metadata": {},
       "output_type": "pyout",
       "prompt_number": 25,
       "text": [
        "        Date  Adj Close    Volume\n",
        "0 2012-01-05      25.25  56081400\n",
        "1 2012-01-06      25.64  99455500"
       ]
      }
     ],
     "prompt_number": 25
    },
    {
     "cell_type": "code",
     "collapsed": false,
     "input": [
      "# same joing but using\n",
      "pd.merge(msftAR0_5, msftVR2_4, how='outer')"
     ],
     "language": "python",
     "metadata": {},
     "outputs": [
      {
       "metadata": {},
       "output_type": "pyout",
       "prompt_number": 26,
       "text": [
        "        Date  Adj Close    Volume\n",
        "0 2012-01-03      24.42       NaN\n",
        "1 2012-01-04      25.00       NaN\n",
        "2 2012-01-05      25.25  56081400\n",
        "3 2012-01-06      25.64  99455500\n",
        "4 2012-01-09      25.31       NaN"
       ]
      }
     ],
     "prompt_number": 26
    },
    {
     "cell_type": "heading",
     "level": 2,
     "metadata": {},
     "source": [
      "Pivoting"
     ]
    },
    {
     "cell_type": "code",
     "collapsed": false,
     "input": [
      "# need to insert Symbol column before combining\n",
      "msft.insert(0, 'Symbol', 'MSFT')\n",
      "aapl.insert(0, 'Symbol', 'AAPL')\n",
      "\n",
      "# concatenate the MSFT and AAPL data\n",
      "# index will consist of the Date column, which we will sort\n",
      "combined = pd.concat([msft, aapl]).sort_index()\n",
      "\n",
      "# this pushes the index into a column and resets to a \n",
      "# default integer index\n",
      "s4p = combined.reset_index();\n",
      "s4p[:5]"
     ],
     "language": "python",
     "metadata": {},
     "outputs": [
      {
       "metadata": {},
       "output_type": "pyout",
       "prompt_number": 27,
       "text": [
        "        Date Symbol    Open    High     Low   Close    Volume  Adj Close\n",
        "0 2012-01-03   MSFT   26.55   26.96   26.39   26.77  64731500      24.42\n",
        "1 2012-01-03   AAPL  409.40  412.50  409.00  411.23  75555200      55.41\n",
        "2 2012-01-04   MSFT   26.82   27.47   26.78   27.40  80516100      25.00\n",
        "3 2012-01-04   AAPL  410.00  414.68  409.28  413.44  65005500      55.71\n",
        "4 2012-01-05   MSFT   27.38   27.73   27.29   27.68  56081400      25.25"
       ]
      }
     ],
     "prompt_number": 27
    },
    {
     "cell_type": "code",
     "collapsed": false,
     "input": [
      "# pivot Date into the Index, make the columns match the\n",
      "# unique values in the Symbol column, and the values \n",
      "# will be the AdjClose values\n",
      "closes = s4p.pivot(index='Date', columns='Symbol', \n",
      "                   values='Adj Close')\n",
      "closes[:3]"
     ],
     "language": "python",
     "metadata": {},
     "outputs": [
      {
       "metadata": {},
       "output_type": "pyout",
       "prompt_number": 28,
       "text": [
        "Symbol       AAPL   MSFT\n",
        "Date                    \n",
        "2012-01-03  55.41  24.42\n",
        "2012-01-04  55.71  25.00\n",
        "2012-01-05  56.33  25.25"
       ]
      }
     ],
     "prompt_number": 28
    },
    {
     "cell_type": "heading",
     "level": 2,
     "metadata": {},
     "source": [
      "Stacking and Unstacking"
     ]
    },
    {
     "cell_type": "code",
     "collapsed": false,
     "input": [
      "# stack the first level of columns into the index\n",
      "# essentially, moves AAPL and MSFT into the index\n",
      "# leaving a single colum which is the AdjClose values\n",
      "stackedCloses = closes.stack()\n",
      "stackedCloses"
     ],
     "language": "python",
     "metadata": {},
     "outputs": [
      {
       "metadata": {},
       "output_type": "pyout",
       "prompt_number": 29,
       "text": [
        "Date        Symbol\n",
        "2012-01-03  AAPL      55.41\n",
        "            MSFT      24.42\n",
        "2012-01-04  AAPL      55.71\n",
        "            MSFT      25.00\n",
        "                      ...  \n",
        "2012-12-27  AAPL      70.02\n",
        "            MSFT      25.29\n",
        "2012-12-28  AAPL      69.28\n",
        "            MSFT      24.91\n",
        "dtype: float64"
       ]
      }
     ],
     "prompt_number": 29
    },
    {
     "cell_type": "code",
     "collapsed": false,
     "input": [
      "# using .ix we can retrieve close values by\n",
      "# specifying both the date and ticker\n",
      "stackedCloses.ix['2012-01-03', 'AAPL']"
     ],
     "language": "python",
     "metadata": {},
     "outputs": [
      {
       "metadata": {},
       "output_type": "pyout",
       "prompt_number": 30,
       "text": [
        "55.413620000000002"
       ]
      }
     ],
     "prompt_number": 30
    },
    {
     "cell_type": "code",
     "collapsed": false,
     "input": [
      "# lookup on just the date, which will give us two values\n",
      "# one each for AAPL and MSFT.  \n",
      "stackedCloses.ix['2012-01-03']"
     ],
     "language": "python",
     "metadata": {},
     "outputs": [
      {
       "metadata": {},
       "output_type": "pyout",
       "prompt_number": 31,
       "text": [
        "Symbol\n",
        "AAPL    55.41\n",
        "MSFT    24.42\n",
        "dtype: float64"
       ]
      }
     ],
     "prompt_number": 31
    },
    {
     "cell_type": "code",
     "collapsed": false,
     "input": [
      "# this looks up all values for the MSFT symbol\n",
      "stackedCloses.ix[:, 'MSFT']"
     ],
     "language": "python",
     "metadata": {},
     "outputs": [
      {
       "metadata": {},
       "output_type": "pyout",
       "prompt_number": 32,
       "text": [
        "Date\n",
        "2012-01-03    24.42\n",
        "2012-01-04    25.00\n",
        "2012-01-05    25.25\n",
        "2012-01-06    25.64\n",
        "              ...  \n",
        "2012-12-24    25.38\n",
        "2012-12-26    25.20\n",
        "2012-12-27    25.29\n",
        "2012-12-28    24.91\n",
        "dtype: float64"
       ]
      }
     ],
     "prompt_number": 32
    },
    {
     "cell_type": "code",
     "collapsed": false,
     "input": [
      "# pivots the last level of the index back into a column\n",
      "unstackedCloses = stackedCloses.unstack()\n",
      "unstackedCloses[:3]"
     ],
     "language": "python",
     "metadata": {},
     "outputs": [
      {
       "metadata": {},
       "output_type": "pyout",
       "prompt_number": 33,
       "text": [
        "Symbol       AAPL   MSFT\n",
        "Date                    \n",
        "2012-01-03  55.41  24.42\n",
        "2012-01-04  55.71  25.00\n",
        "2012-01-05  56.33  25.25"
       ]
      }
     ],
     "prompt_number": 33
    },
    {
     "cell_type": "heading",
     "level": 2,
     "metadata": {},
     "source": [
      "Melting"
     ]
    },
    {
     "cell_type": "code",
     "collapsed": false,
     "input": [
      "# melt making id_vars of Date and Symbol, making the \n",
      "# column names the variable and the for each the value\n",
      "melted = pd.melt(s4p, id_vars=['Date', 'Symbol'])\n",
      "melted[:5]"
     ],
     "language": "python",
     "metadata": {},
     "outputs": [
      {
       "metadata": {},
       "output_type": "pyout",
       "prompt_number": 34,
       "text": [
        "        Date Symbol variable   value\n",
        "0 2012-01-03   MSFT     Open   26.55\n",
        "1 2012-01-03   AAPL     Open  409.40\n",
        "2 2012-01-04   MSFT     Open   26.82\n",
        "3 2012-01-04   AAPL     Open  410.00\n",
        "4 2012-01-05   MSFT     Open   27.38"
       ]
      }
     ],
     "prompt_number": 34
    },
    {
     "cell_type": "code",
     "collapsed": false,
     "input": [
      "# extract the values for the data for MSFT on 2012-01-03\n",
      "melted[(melted.Date=='2012-01-03') & (melted.Symbol=='MSFT')]"
     ],
     "language": "python",
     "metadata": {},
     "outputs": [
      {
       "metadata": {},
       "output_type": "pyout",
       "prompt_number": 35,
       "text": [
        "           Date Symbol   variable        value\n",
        "0    2012-01-03   MSFT       Open        26.55\n",
        "498  2012-01-03   MSFT       High        26.96\n",
        "996  2012-01-03   MSFT        Low        26.39\n",
        "1494 2012-01-03   MSFT      Close        26.77\n",
        "1992 2012-01-03   MSFT     Volume  64731500.00\n",
        "2490 2012-01-03   MSFT  Adj Close        24.42"
       ]
      }
     ],
     "prompt_number": 35
    },
    {
     "cell_type": "heading",
     "level": 1,
     "metadata": {},
     "source": [
      "Grouping and aggregation"
     ]
    },
    {
     "cell_type": "heading",
     "level": 2,
     "metadata": {},
     "source": [
      "Splitting"
     ]
    },
    {
     "cell_type": "code",
     "collapsed": false,
     "input": [
      "# construct a DataFrame to demonstrate splitting\n",
      "# extract from combined the Symbol and AdjClose, and reset the index\n",
      "s4g = combined[['Symbol', 'Adj Close']].reset_index()\n",
      "# now, add two columns, year and month, using the year and month\n",
      "# portions of the data as integers\n",
      "s4g.insert(1, 'Year', pd.DatetimeIndex(s4g['Date']).year)\n",
      "s4g.insert(2, 'Month',pd.DatetimeIndex(s4g['Date']).month)\n",
      "s4g[:5]"
     ],
     "language": "python",
     "metadata": {},
     "outputs": [
      {
       "metadata": {},
       "output_type": "pyout",
       "prompt_number": 36,
       "text": [
        "        Date  Year  Month Symbol  Adj Close\n",
        "0 2012-01-03  2012      1   MSFT      24.42\n",
        "1 2012-01-03  2012      1   AAPL      55.41\n",
        "2 2012-01-04  2012      1   MSFT      25.00\n",
        "3 2012-01-04  2012      1   AAPL      55.71\n",
        "4 2012-01-05  2012      1   MSFT      25.25"
       ]
      }
     ],
     "prompt_number": 36
    },
    {
     "cell_type": "code",
     "collapsed": false,
     "input": [
      "# group by the Symbol column\n",
      "s4g.groupby('Symbol')"
     ],
     "language": "python",
     "metadata": {},
     "outputs": [
      {
       "metadata": {},
       "output_type": "pyout",
       "prompt_number": 37,
       "text": [
        "<pandas.core.groupby.DataFrameGroupBy object at 0x7ffaeeb49a10>"
       ]
      }
     ],
     "prompt_number": 37
    },
    {
     "cell_type": "code",
     "collapsed": false,
     "input": [
      "# group again, but save the result this time\n",
      "grouped = s4g.groupby('Symbol')\n",
      "# the groupby object has a property groups, which shows how\n",
      "# all rows will in mapped into the groups.   \n",
      "# the type of this object is a python dict\n",
      "type(grouped.groups)"
     ],
     "language": "python",
     "metadata": {},
     "outputs": [
      {
       "metadata": {},
       "output_type": "pyout",
       "prompt_number": 38,
       "text": [
        "dict"
       ]
      }
     ],
     "prompt_number": 38
    },
    {
     "cell_type": "code",
     "collapsed": false,
     "input": [
      "# show the mappings of rows to groups\n",
      "grouped.groups"
     ],
     "language": "python",
     "metadata": {},
     "outputs": [
      {
       "metadata": {},
       "output_type": "pyout",
       "prompt_number": 39,
       "text": [
        "{'AAPL': [1,\n",
        "  3,\n",
        "  5,\n",
        "  7,\n",
        "  9,\n",
        "  11,\n",
        "  13,\n",
        "  14,\n",
        "  16,\n",
        "  18,\n",
        "  20,\n",
        "  23,\n",
        "  25,\n",
        "  27,\n",
        "  29,\n",
        "  30,\n",
        "  33,\n",
        "  34,\n",
        "  37,\n",
        "  38,\n",
        "  41,\n",
        "  43,\n",
        "  45,\n",
        "  46,\n",
        "  48,\n",
        "  50,\n",
        "  53,\n",
        "  54,\n",
        "  56,\n",
        "  58,\n",
        "  61,\n",
        "  63,\n",
        "  64,\n",
        "  67,\n",
        "  69,\n",
        "  71,\n",
        "  72,\n",
        "  75,\n",
        "  77,\n",
        "  79,\n",
        "  81,\n",
        "  82,\n",
        "  84,\n",
        "  86,\n",
        "  89,\n",
        "  91,\n",
        "  92,\n",
        "  94,\n",
        "  97,\n",
        "  99,\n",
        "  100,\n",
        "  102,\n",
        "  104,\n",
        "  107,\n",
        "  109,\n",
        "  111,\n",
        "  112,\n",
        "  114,\n",
        "  116,\n",
        "  118,\n",
        "  120,\n",
        "  123,\n",
        "  125,\n",
        "  126,\n",
        "  128,\n",
        "  130,\n",
        "  132,\n",
        "  134,\n",
        "  137,\n",
        "  138,\n",
        "  140,\n",
        "  143,\n",
        "  145,\n",
        "  146,\n",
        "  148,\n",
        "  150,\n",
        "  153,\n",
        "  155,\n",
        "  156,\n",
        "  159,\n",
        "  161,\n",
        "  162,\n",
        "  165,\n",
        "  166,\n",
        "  169,\n",
        "  171,\n",
        "  173,\n",
        "  175,\n",
        "  176,\n",
        "  179,\n",
        "  181,\n",
        "  183,\n",
        "  184,\n",
        "  186,\n",
        "  189,\n",
        "  190,\n",
        "  193,\n",
        "  195,\n",
        "  197,\n",
        "  199,\n",
        "  200,\n",
        "  203,\n",
        "  205,\n",
        "  207,\n",
        "  209,\n",
        "  211,\n",
        "  212,\n",
        "  214,\n",
        "  216,\n",
        "  219,\n",
        "  221,\n",
        "  223,\n",
        "  224,\n",
        "  227,\n",
        "  228,\n",
        "  230,\n",
        "  232,\n",
        "  234,\n",
        "  237,\n",
        "  238,\n",
        "  240,\n",
        "  242,\n",
        "  244,\n",
        "  247,\n",
        "  248,\n",
        "  250,\n",
        "  252,\n",
        "  254,\n",
        "  257,\n",
        "  259,\n",
        "  261,\n",
        "  263,\n",
        "  265,\n",
        "  267,\n",
        "  269,\n",
        "  271,\n",
        "  273,\n",
        "  275,\n",
        "  277,\n",
        "  278,\n",
        "  280,\n",
        "  282,\n",
        "  285,\n",
        "  287,\n",
        "  289,\n",
        "  290,\n",
        "  293,\n",
        "  295,\n",
        "  296,\n",
        "  298,\n",
        "  301,\n",
        "  302,\n",
        "  305,\n",
        "  307,\n",
        "  308,\n",
        "  310,\n",
        "  312,\n",
        "  314,\n",
        "  316,\n",
        "  318,\n",
        "  321,\n",
        "  322,\n",
        "  324,\n",
        "  327,\n",
        "  328,\n",
        "  331,\n",
        "  333,\n",
        "  335,\n",
        "  337,\n",
        "  338,\n",
        "  340,\n",
        "  343,\n",
        "  344,\n",
        "  347,\n",
        "  348,\n",
        "  350,\n",
        "  353,\n",
        "  354,\n",
        "  357,\n",
        "  359,\n",
        "  361,\n",
        "  363,\n",
        "  364,\n",
        "  367,\n",
        "  368,\n",
        "  370,\n",
        "  372,\n",
        "  375,\n",
        "  377,\n",
        "  379,\n",
        "  380,\n",
        "  382,\n",
        "  385,\n",
        "  386,\n",
        "  389,\n",
        "  391,\n",
        "  393,\n",
        "  395,\n",
        "  396,\n",
        "  398,\n",
        "  401,\n",
        "  402,\n",
        "  405,\n",
        "  407,\n",
        "  409,\n",
        "  410,\n",
        "  412,\n",
        "  414,\n",
        "  417,\n",
        "  419,\n",
        "  420,\n",
        "  423,\n",
        "  425,\n",
        "  427,\n",
        "  428,\n",
        "  431,\n",
        "  432,\n",
        "  434,\n",
        "  436,\n",
        "  439,\n",
        "  441,\n",
        "  443,\n",
        "  444,\n",
        "  447,\n",
        "  448,\n",
        "  451,\n",
        "  452,\n",
        "  455,\n",
        "  456,\n",
        "  458,\n",
        "  460,\n",
        "  463,\n",
        "  464,\n",
        "  466,\n",
        "  468,\n",
        "  471,\n",
        "  472,\n",
        "  474,\n",
        "  476,\n",
        "  478,\n",
        "  480,\n",
        "  482,\n",
        "  484,\n",
        "  487,\n",
        "  488,\n",
        "  490,\n",
        "  492,\n",
        "  494,\n",
        "  497],\n",
        " 'MSFT': [0,\n",
        "  2,\n",
        "  4,\n",
        "  6,\n",
        "  8,\n",
        "  10,\n",
        "  12,\n",
        "  15,\n",
        "  17,\n",
        "  19,\n",
        "  21,\n",
        "  22,\n",
        "  24,\n",
        "  26,\n",
        "  28,\n",
        "  31,\n",
        "  32,\n",
        "  35,\n",
        "  36,\n",
        "  39,\n",
        "  40,\n",
        "  42,\n",
        "  44,\n",
        "  47,\n",
        "  49,\n",
        "  51,\n",
        "  52,\n",
        "  55,\n",
        "  57,\n",
        "  59,\n",
        "  60,\n",
        "  62,\n",
        "  65,\n",
        "  66,\n",
        "  68,\n",
        "  70,\n",
        "  73,\n",
        "  74,\n",
        "  76,\n",
        "  78,\n",
        "  80,\n",
        "  83,\n",
        "  85,\n",
        "  87,\n",
        "  88,\n",
        "  90,\n",
        "  93,\n",
        "  95,\n",
        "  96,\n",
        "  98,\n",
        "  101,\n",
        "  103,\n",
        "  105,\n",
        "  106,\n",
        "  108,\n",
        "  110,\n",
        "  113,\n",
        "  115,\n",
        "  117,\n",
        "  119,\n",
        "  121,\n",
        "  122,\n",
        "  124,\n",
        "  127,\n",
        "  129,\n",
        "  131,\n",
        "  133,\n",
        "  135,\n",
        "  136,\n",
        "  139,\n",
        "  141,\n",
        "  142,\n",
        "  144,\n",
        "  147,\n",
        "  149,\n",
        "  151,\n",
        "  152,\n",
        "  154,\n",
        "  157,\n",
        "  158,\n",
        "  160,\n",
        "  163,\n",
        "  164,\n",
        "  167,\n",
        "  168,\n",
        "  170,\n",
        "  172,\n",
        "  174,\n",
        "  177,\n",
        "  178,\n",
        "  180,\n",
        "  182,\n",
        "  185,\n",
        "  187,\n",
        "  188,\n",
        "  191,\n",
        "  192,\n",
        "  194,\n",
        "  196,\n",
        "  198,\n",
        "  201,\n",
        "  202,\n",
        "  204,\n",
        "  206,\n",
        "  208,\n",
        "  210,\n",
        "  213,\n",
        "  215,\n",
        "  217,\n",
        "  218,\n",
        "  220,\n",
        "  222,\n",
        "  225,\n",
        "  226,\n",
        "  229,\n",
        "  231,\n",
        "  233,\n",
        "  235,\n",
        "  236,\n",
        "  239,\n",
        "  241,\n",
        "  243,\n",
        "  245,\n",
        "  246,\n",
        "  249,\n",
        "  251,\n",
        "  253,\n",
        "  255,\n",
        "  256,\n",
        "  258,\n",
        "  260,\n",
        "  262,\n",
        "  264,\n",
        "  266,\n",
        "  268,\n",
        "  270,\n",
        "  272,\n",
        "  274,\n",
        "  276,\n",
        "  279,\n",
        "  281,\n",
        "  283,\n",
        "  284,\n",
        "  286,\n",
        "  288,\n",
        "  291,\n",
        "  292,\n",
        "  294,\n",
        "  297,\n",
        "  299,\n",
        "  300,\n",
        "  303,\n",
        "  304,\n",
        "  306,\n",
        "  309,\n",
        "  311,\n",
        "  313,\n",
        "  315,\n",
        "  317,\n",
        "  319,\n",
        "  320,\n",
        "  323,\n",
        "  325,\n",
        "  326,\n",
        "  329,\n",
        "  330,\n",
        "  332,\n",
        "  334,\n",
        "  336,\n",
        "  339,\n",
        "  341,\n",
        "  342,\n",
        "  345,\n",
        "  346,\n",
        "  349,\n",
        "  351,\n",
        "  352,\n",
        "  355,\n",
        "  356,\n",
        "  358,\n",
        "  360,\n",
        "  362,\n",
        "  365,\n",
        "  366,\n",
        "  369,\n",
        "  371,\n",
        "  373,\n",
        "  374,\n",
        "  376,\n",
        "  378,\n",
        "  381,\n",
        "  383,\n",
        "  384,\n",
        "  387,\n",
        "  388,\n",
        "  390,\n",
        "  392,\n",
        "  394,\n",
        "  397,\n",
        "  399,\n",
        "  400,\n",
        "  403,\n",
        "  404,\n",
        "  406,\n",
        "  408,\n",
        "  411,\n",
        "  413,\n",
        "  415,\n",
        "  416,\n",
        "  418,\n",
        "  421,\n",
        "  422,\n",
        "  424,\n",
        "  426,\n",
        "  429,\n",
        "  430,\n",
        "  433,\n",
        "  435,\n",
        "  437,\n",
        "  438,\n",
        "  440,\n",
        "  442,\n",
        "  445,\n",
        "  446,\n",
        "  449,\n",
        "  450,\n",
        "  453,\n",
        "  454,\n",
        "  457,\n",
        "  459,\n",
        "  461,\n",
        "  462,\n",
        "  465,\n",
        "  467,\n",
        "  469,\n",
        "  470,\n",
        "  473,\n",
        "  475,\n",
        "  477,\n",
        "  479,\n",
        "  481,\n",
        "  483,\n",
        "  485,\n",
        "  486,\n",
        "  489,\n",
        "  491,\n",
        "  493,\n",
        "  495,\n",
        "  496]}"
       ]
      }
     ],
     "prompt_number": 39
    },
    {
     "cell_type": "code",
     "collapsed": false,
     "input": [
      "# these report the number of groups that resulted from\n",
      "# the grouping\n",
      "len(grouped), grouped.ngroups"
     ],
     "language": "python",
     "metadata": {},
     "outputs": [
      {
       "metadata": {},
       "output_type": "pyout",
       "prompt_number": 40,
       "text": [
        "(2, 2)"
       ]
      }
     ],
     "prompt_number": 40
    },
    {
     "cell_type": "code",
     "collapsed": false,
     "input": [
      "# this function will print the contents of a group\n",
      "def print_groups (groupobject):\n",
      "    for name, group in groupobject:\n",
      "        print name\n",
      "        print group.head()"
     ],
     "language": "python",
     "metadata": {},
     "outputs": [],
     "prompt_number": 41
    },
    {
     "cell_type": "code",
     "collapsed": false,
     "input": [
      "# examine our resulting groups\n",
      "print_groups(grouped)"
     ],
     "language": "python",
     "metadata": {},
     "outputs": [
      {
       "output_type": "stream",
       "stream": "stdout",
       "text": [
        "AAPL\n",
        "        Date  Year  Month Symbol  Adj Close\n",
        "1 2012-01-03  2012      1   AAPL      55.41\n",
        "3 2012-01-04  2012      1   AAPL      55.71\n",
        "5 2012-01-05  2012      1   AAPL      56.33\n",
        "7 2012-01-06  2012      1   AAPL      56.92\n",
        "9 2012-01-09  2012      1   AAPL      56.83\n",
        "MSFT\n",
        "        Date  Year  Month Symbol  Adj Close\n",
        "0 2012-01-03  2012      1   MSFT      24.42\n",
        "2 2012-01-04  2012      1   MSFT      25.00\n",
        "4 2012-01-05  2012      1   MSFT      25.25\n",
        "6 2012-01-06  2012      1   MSFT      25.64\n",
        "8 2012-01-09  2012      1   MSFT      25.31\n"
       ]
      }
     ],
     "prompt_number": 42
    },
    {
     "cell_type": "code",
     "collapsed": false,
     "input": [
      "# .size will tell us the count of items in each group\n",
      "grouped.size()"
     ],
     "language": "python",
     "metadata": {},
     "outputs": [
      {
       "metadata": {},
       "output_type": "pyout",
       "prompt_number": 43,
       "text": [
        "Symbol\n",
        "AAPL    249\n",
        "MSFT    249\n",
        "dtype: int64"
       ]
      }
     ],
     "prompt_number": 43
    },
    {
     "cell_type": "code",
     "collapsed": false,
     "input": [
      "# a specific group can be retrieved using .get_group()\n",
      "# which returns a DataFrame representing the specified group\n",
      "grouped.get_group('MSFT')"
     ],
     "language": "python",
     "metadata": {},
     "outputs": [
      {
       "metadata": {},
       "output_type": "pyout",
       "prompt_number": 44,
       "text": [
        "          Date  Year  Month Symbol  Adj Close\n",
        "0   2012-01-03  2012      1   MSFT      24.42\n",
        "2   2012-01-04  2012      1   MSFT      25.00\n",
        "4   2012-01-05  2012      1   MSFT      25.25\n",
        "6   2012-01-06  2012      1   MSFT      25.64\n",
        "..         ...   ...    ...    ...        ...\n",
        "491 2012-12-24  2012     12   MSFT      25.38\n",
        "493 2012-12-26  2012     12   MSFT      25.20\n",
        "495 2012-12-27  2012     12   MSFT      25.29\n",
        "496 2012-12-28  2012     12   MSFT      24.91\n",
        "\n",
        "[249 rows x 5 columns]"
       ]
      }
     ],
     "prompt_number": 44
    },
    {
     "cell_type": "code",
     "collapsed": false,
     "input": [
      "# group by three different fields and print the result\n",
      "mcg = s4g.groupby(['Symbol', 'Year', 'Month'])\n",
      "print_groups(mcg)"
     ],
     "language": "python",
     "metadata": {},
     "outputs": [
      {
       "output_type": "stream",
       "stream": "stdout",
       "text": [
        "('AAPL', 2012, 1)\n",
        "        Date  Year  Month Symbol  Adj Close\n",
        "1 2012-01-03  2012      1   AAPL      55.41\n",
        "3 2012-01-04  2012      1   AAPL      55.71\n",
        "5 2012-01-05  2012      1   AAPL      56.33\n",
        "7 2012-01-06  2012      1   AAPL      56.92\n",
        "9 2012-01-09  2012      1   AAPL      56.83\n",
        "('AAPL', 2012, 2)\n",
        "         Date  Year  Month Symbol  Adj Close\n",
        "41 2012-02-01  2012      2   AAPL      61.47\n",
        "43 2012-02-02  2012      2   AAPL      61.33\n",
        "45 2012-02-03  2012      2   AAPL      61.94\n",
        "46 2012-02-06  2012      2   AAPL      62.52\n",
        "48 2012-02-07  2012      2   AAPL      63.18\n",
        "('AAPL', 2012, 3)\n",
        "         Date  Year  Month Symbol  Adj Close\n",
        "81 2012-03-01  2012      3   AAPL      73.37\n",
        "82 2012-03-02  2012      3   AAPL      73.46\n",
        "84 2012-03-05  2012      3   AAPL      71.84\n",
        "86 2012-03-06  2012      3   AAPL      71.45\n",
        "89 2012-03-07  2012      3   AAPL      71.51\n",
        "('AAPL', 2012, 4)\n",
        "          Date  Year  Month Symbol  Adj Close\n",
        "125 2012-04-02  2012      4   AAPL      83.36\n",
        "126 2012-04-03  2012      4   AAPL      84.80\n",
        "128 2012-04-04  2012      4   AAPL      84.13\n",
        "130 2012-04-05  2012      4   AAPL      85.39\n",
        "132 2012-04-09  2012      4   AAPL      85.73\n",
        "('AAPL', 2012, 5)\n",
        "          Date  Year  Month Symbol  Adj Close\n",
        "165 2012-05-01  2012      5   AAPL      78.44\n",
        "166 2012-05-02  2012      5   AAPL      78.96\n",
        "169 2012-05-03  2012      5   AAPL      78.40\n",
        "171 2012-05-04  2012      5   AAPL      76.17\n",
        "173 2012-05-07  2012      5   AAPL      76.74\n",
        "('AAPL', 2012, 6)\n",
        "          Date  Year  Month Symbol  Adj Close\n",
        "209 2012-06-01  2012      6   AAPL      75.59\n",
        "211 2012-06-04  2012      6   AAPL      76.04\n",
        "212 2012-06-05  2012      6   AAPL      75.84\n",
        "214 2012-06-06  2012      6   AAPL      77.00\n",
        "216 2012-06-07  2012      6   AAPL      77.04\n",
        "('AAPL', 2012, 7)\n",
        "          Date  Year  Month Symbol  Adj Close\n",
        "250 2012-07-02  2012      7   AAPL      79.84\n",
        "252 2012-07-03  2012      7   AAPL      80.77\n",
        "254 2012-07-05  2012      7   AAPL      82.19\n",
        "257 2012-07-06  2012      7   AAPL      81.64\n",
        "259 2012-07-09  2012      7   AAPL      82.72\n",
        "('AAPL', 2012, 8)\n",
        "          Date  Year  Month Symbol  Adj Close\n",
        "293 2012-08-01  2012      8   AAPL      81.77\n",
        "295 2012-08-02  2012      8   AAPL      81.90\n",
        "296 2012-08-03  2012      8   AAPL      82.97\n",
        "298 2012-08-06  2012      8   AAPL      83.89\n",
        "301 2012-08-07  2012      8   AAPL      83.67\n",
        "('AAPL', 2012, 9)\n",
        "          Date  Year  Month Symbol  Adj Close\n",
        "338 2012-09-04  2012      9   AAPL      91.34\n",
        "340 2012-09-05  2012      9   AAPL      90.70\n",
        "343 2012-09-06  2012      9   AAPL      91.52\n",
        "344 2012-09-07  2012      9   AAPL      92.08\n",
        "347 2012-09-10  2012      9   AAPL      89.69\n",
        "('AAPL', 2012, 10)\n",
        "          Date  Year  Month Symbol  Adj Close\n",
        "377 2012-10-01  2012     10   AAPL      89.23\n",
        "379 2012-10-02  2012     10   AAPL      89.49\n",
        "380 2012-10-03  2012     10   AAPL      90.87\n",
        "382 2012-10-04  2012     10   AAPL      90.24\n",
        "385 2012-10-05  2012     10   AAPL      88.31"
       ]
      },
      {
       "output_type": "stream",
       "stream": "stdout",
       "text": [
        "\n",
        "('AAPL', 2012, 11)\n",
        "          Date  Year  Month Symbol  Adj Close\n",
        "419 2012-11-01  2012     11   AAPL      80.73\n",
        "420 2012-11-02  2012     11   AAPL      78.06\n",
        "423 2012-11-05  2012     11   AAPL      79.12\n",
        "425 2012-11-06  2012     11   AAPL      78.88\n",
        "427 2012-11-07  2012     11   AAPL      75.86\n",
        "('AAPL', 2012, 12)\n",
        "          Date  Year  Month Symbol  Adj Close\n",
        "460 2012-12-03  2012     12   AAPL      79.69\n",
        "463 2012-12-04  2012     12   AAPL      78.29\n",
        "464 2012-12-05  2012     12   AAPL      73.25\n",
        "466 2012-12-06  2012     12   AAPL      74.40\n",
        "468 2012-12-07  2012     12   AAPL      72.49\n",
        "('MSFT', 2012, 1)\n",
        "        Date  Year  Month Symbol  Adj Close\n",
        "0 2012-01-03  2012      1   MSFT      24.42\n",
        "2 2012-01-04  2012      1   MSFT      25.00\n",
        "4 2012-01-05  2012      1   MSFT      25.25\n",
        "6 2012-01-06  2012      1   MSFT      25.64\n",
        "8 2012-01-09  2012      1   MSFT      25.31\n",
        "('MSFT', 2012, 2)\n",
        "         Date  Year  Month Symbol  Adj Close\n",
        "40 2012-02-01  2012      2   MSFT      27.27\n",
        "42 2012-02-02  2012      2   MSFT      27.32\n",
        "44 2012-02-03  2012      2   MSFT      27.59\n",
        "47 2012-02-06  2012      2   MSFT      27.55\n",
        "49 2012-02-07  2012      2   MSFT      27.69\n",
        "('MSFT', 2012, 3)\n",
        "         Date  Year  Month Symbol  Adj Close\n",
        "80 2012-03-01  2012      3   MSFT      29.65\n",
        "83 2012-03-02  2012      3   MSFT      29.46\n",
        "85 2012-03-05  2012      3   MSFT      29.20\n",
        "87 2012-03-06  2012      3   MSFT      28.98\n",
        "88 2012-03-07  2012      3   MSFT      29.24\n",
        "('MSFT', 2012, 4)\n",
        "          Date  Year  Month Symbol  Adj Close\n",
        "124 2012-04-02  2012      4   MSFT      29.65\n",
        "127 2012-04-03  2012      4   MSFT      29.33\n",
        "129 2012-04-04  2012      4   MSFT      28.66\n",
        "131 2012-04-05  2012      4   MSFT      28.94\n",
        "133 2012-04-09  2012      4   MSFT      28.56\n",
        "('MSFT', 2012, 5)\n",
        "          Date  Year  Month Symbol  Adj Close\n",
        "164 2012-05-01  2012      5   MSFT      29.39\n",
        "167 2012-05-02  2012      5   MSFT      29.20\n",
        "168 2012-05-03  2012      5   MSFT      29.16\n",
        "170 2012-05-04  2012      5   MSFT      28.45\n",
        "172 2012-05-07  2012      5   MSFT      28.15\n",
        "('MSFT', 2012, 6)\n",
        "          Date  Year  Month Symbol  Adj Close\n",
        "208 2012-06-01  2012      6   MSFT      26.30\n",
        "210 2012-06-04  2012      6   MSFT      26.39\n",
        "213 2012-06-05  2012      6   MSFT      26.35\n",
        "215 2012-06-06  2012      6   MSFT      27.13\n",
        "217 2012-06-07  2012      6   MSFT      27.02\n",
        "('MSFT', 2012, 7)\n",
        "          Date  Year  Month Symbol  Adj Close\n",
        "251 2012-07-02  2012      7   MSFT      28.25\n",
        "253 2012-07-03  2012      7   MSFT      28.43\n",
        "255 2012-07-05  2012      7   MSFT      28.38\n",
        "256 2012-07-06  2012      7   MSFT      27.91\n",
        "258 2012-07-09  2012      7   MSFT      27.73\n",
        "('MSFT', 2012, 8)\n",
        "          Date  Year  Month Symbol  Adj Close\n",
        "292 2012-08-01  2012      8   MSFT      27.18\n",
        "294 2012-08-02  2012      8   MSFT      26.98\n",
        "297 2012-08-03  2012      8   MSFT      27.50\n",
        "299 2012-08-06  2012      8   MSFT      27.68\n",
        "300 2012-08-07  2012      8   MSFT      27.97\n",
        "('MSFT', 2012, 9)\n",
        "          Date  Year  Month Symbol  Adj Close\n",
        "339 2012-09-04  2012      9   MSFT      28.28\n",
        "341 2012-09-05  2012      9   MSFT      28.28\n",
        "342 2012-09-06  2012      9   MSFT      29.17\n",
        "345 2012-09-07  2012      9   MSFT      28.80\n",
        "346 2012-09-10  2012      9   MSFT      28.58"
       ]
      },
      {
       "output_type": "stream",
       "stream": "stdout",
       "text": [
        "\n",
        "('MSFT', 2012, 10)\n",
        "          Date  Year  Month Symbol  Adj Close\n",
        "376 2012-10-01  2012     10   MSFT      27.44\n",
        "378 2012-10-02  2012     10   MSFT      27.60\n",
        "381 2012-10-03  2012     10   MSFT      27.78\n",
        "383 2012-10-04  2012     10   MSFT      27.94\n",
        "384 2012-10-05  2012     10   MSFT      27.77\n",
        "('MSFT', 2012, 11)\n",
        "          Date  Year  Month Symbol  Adj Close\n",
        "418 2012-11-01  2012     11   MSFT      27.47\n",
        "421 2012-11-02  2012     11   MSFT      27.45\n",
        "422 2012-11-05  2012     11   MSFT      27.57\n",
        "424 2012-11-06  2012     11   MSFT      27.78\n",
        "426 2012-11-07  2012     11   MSFT      27.06\n",
        "('MSFT', 2012, 12)\n",
        "          Date  Year  Month Symbol  Adj Close\n",
        "461 2012-12-03  2012     12   MSFT      24.79\n",
        "462 2012-12-04  2012     12   MSFT      24.74\n",
        "465 2012-12-05  2012     12   MSFT      25.02\n",
        "467 2012-12-06  2012     12   MSFT      25.07\n",
        "469 2012-12-07  2012     12   MSFT      24.82\n"
       ]
      }
     ],
     "prompt_number": 45
    },
    {
     "cell_type": "code",
     "collapsed": false,
     "input": [
      "# set the index of the data to be the following three fields\n",
      "# we are creating a multiindex\n",
      "mi = s4g.set_index(['Symbol', 'Year', 'Month'])\n",
      "mi"
     ],
     "language": "python",
     "metadata": {},
     "outputs": [
      {
       "metadata": {},
       "output_type": "pyout",
       "prompt_number": 46,
       "text": [
        "                        Date  Adj Close\n",
        "Symbol Year Month                      \n",
        "MSFT   2012 1     2012-01-03      24.42\n",
        "AAPL   2012 1     2012-01-03      55.41\n",
        "MSFT   2012 1     2012-01-04      25.00\n",
        "AAPL   2012 1     2012-01-04      55.71\n",
        "...                      ...        ...\n",
        "            12    2012-12-27      70.02\n",
        "MSFT   2012 12    2012-12-27      25.29\n",
        "            12    2012-12-28      24.91\n",
        "AAPL   2012 12    2012-12-28      69.28\n",
        "\n",
        "[498 rows x 2 columns]"
       ]
      }
     ],
     "prompt_number": 46
    },
    {
     "cell_type": "code",
     "collapsed": false,
     "input": [
      "# now we can group based upon values in the actual index\n",
      "# the following groups by level 0 of the index (Month)\n",
      "mig_l1 = mi.groupby(level=0)\n",
      "print_groups(mig_l1)"
     ],
     "language": "python",
     "metadata": {},
     "outputs": [
      {
       "output_type": "stream",
       "stream": "stdout",
       "text": [
        "AAPL\n",
        "                        Date  Adj Close\n",
        "Symbol Year Month                      \n",
        "AAPL   2012 1     2012-01-03      55.41\n",
        "            1     2012-01-04      55.71\n",
        "            1     2012-01-05      56.33\n",
        "            1     2012-01-06      56.92\n",
        "            1     2012-01-09      56.83\n",
        "MSFT\n",
        "                        Date  Adj Close\n",
        "Symbol Year Month                      \n",
        "MSFT   2012 1     2012-01-03      24.42\n",
        "            1     2012-01-04      25.00\n",
        "            1     2012-01-05      25.25\n",
        "            1     2012-01-06      25.64\n",
        "            1     2012-01-09      25.31\n"
       ]
      }
     ],
     "prompt_number": 47
    },
    {
     "cell_type": "code",
     "collapsed": false,
     "input": [
      "# group by three levels in the index using their names\n",
      "mig_l12 = mi.groupby(level=['Symbol', 'Year', 'Month'])\n",
      "print_groups(mig_l12)"
     ],
     "language": "python",
     "metadata": {},
     "outputs": [
      {
       "output_type": "stream",
       "stream": "stdout",
       "text": [
        "('AAPL', 2012, 1)\n",
        "                        Date  Adj Close\n",
        "Symbol Year Month                      \n",
        "AAPL   2012 1     2012-01-03      55.41\n",
        "            1     2012-01-04      55.71\n",
        "            1     2012-01-05      56.33\n",
        "            1     2012-01-06      56.92\n",
        "            1     2012-01-09      56.83\n",
        "('AAPL', 2012, 2)\n",
        "                        Date  Adj Close\n",
        "Symbol Year Month                      \n",
        "AAPL   2012 2     2012-02-01      61.47\n",
        "            2     2012-02-02      61.33\n",
        "            2     2012-02-03      61.94\n",
        "            2     2012-02-06      62.52\n",
        "            2     2012-02-07      63.18\n",
        "('AAPL', 2012, 3)\n",
        "                        Date  Adj Close\n",
        "Symbol Year Month                      \n",
        "AAPL   2012 3     2012-03-01      73.37\n",
        "            3     2012-03-02      73.46\n",
        "            3     2012-03-05      71.84\n",
        "            3     2012-03-06      71.45\n",
        "            3     2012-03-07      71.51\n",
        "('AAPL', 2012, 4)\n",
        "                        Date  Adj Close\n",
        "Symbol Year Month                      \n",
        "AAPL   2012 4     2012-04-02      83.36\n",
        "            4     2012-04-03      84.80\n",
        "            4     2012-04-04      84.13\n",
        "            4     2012-04-05      85.39\n",
        "            4     2012-04-09      85.73\n",
        "('AAPL', 2012, 5)\n",
        "                        Date  Adj Close\n",
        "Symbol Year Month                      \n",
        "AAPL   2012 5     2012-05-01      78.44\n",
        "            5     2012-05-02      78.96\n",
        "            5     2012-05-03      78.40\n",
        "            5     2012-05-04      76.17\n",
        "            5     2012-05-07      76.74\n",
        "('AAPL', 2012, 6)\n",
        "                        Date  Adj Close\n",
        "Symbol Year Month                      \n",
        "AAPL   2012 6     2012-06-01      75.59\n",
        "            6     2012-06-04      76.04\n",
        "            6     2012-06-05      75.84\n",
        "            6     2012-06-06      77.00\n",
        "            6     2012-06-07      77.04\n",
        "('AAPL', 2012, 7)\n",
        "                        Date  Adj Close\n",
        "Symbol Year Month                      \n",
        "AAPL   2012 7     2012-07-02      79.84\n",
        "            7     2012-07-03      80.77\n",
        "            7     2012-07-05      82.19\n",
        "            7     2012-07-06      81.64\n",
        "            7     2012-07-09      82.72\n",
        "('AAPL', 2012, 8)\n",
        "                        Date  Adj Close\n",
        "Symbol Year Month                      \n",
        "AAPL   2012 8     2012-08-01      81.77\n",
        "            8     2012-08-02      81.90\n",
        "            8     2012-08-03      82.97\n",
        "            8     2012-08-06      83.89\n",
        "            8     2012-08-07      83.67\n",
        "('AAPL', 2012, 9)\n",
        "                        Date  Adj Close\n",
        "Symbol Year Month                      \n",
        "AAPL   2012 9     2012-09-04      91.34\n",
        "            9     2012-09-05      90.70\n",
        "            9     2012-09-06      91.52\n",
        "            9     2012-09-07      92.08\n",
        "            9     2012-09-10      89.69\n",
        "('AAPL', 2012, 10)\n",
        "                        Date  Adj Close\n",
        "Symbol Year Month                      \n",
        "AAPL   2012 10    2012-10-01      89.23\n",
        "            10    2012-10-02      89.49\n",
        "            10    2012-10-03      90.87\n",
        "            10    2012-10-04      90.24\n",
        "            10    2012-10-05      88.31\n",
        "('AAPL', 2012, 11)\n",
        "                        Date  Adj Close\n",
        "Symbol Year Month                      \n",
        "AAPL   2012 11    2012-11-01      80.73\n",
        "            11    2012-11-02      78.06\n",
        "            11    2012-11-05      79.12\n",
        "            11    2012-11-06      78.88\n",
        "            11    2012-11-07      75.86\n",
        "('AAPL', 2012, 12)\n",
        "                        Date  Adj Close\n",
        "Symbol Year Month                      \n",
        "AAPL   2012 12    2012-12-03      79.69\n",
        "            12    2012-12-04      78.29\n",
        "            12    2012-12-05      73.25\n",
        "            12    2012-12-06      74.40\n",
        "            12    2012-12-07      72.49"
       ]
      },
      {
       "output_type": "stream",
       "stream": "stdout",
       "text": [
        "\n",
        "('MSFT', 2012, 1)\n",
        "                        Date  Adj Close\n",
        "Symbol Year Month                      \n",
        "MSFT   2012 1     2012-01-03      24.42\n",
        "            1     2012-01-04      25.00\n",
        "            1     2012-01-05      25.25\n",
        "            1     2012-01-06      25.64\n",
        "            1     2012-01-09      25.31\n",
        "('MSFT', 2012, 2)\n",
        "                        Date  Adj Close\n",
        "Symbol Year Month                      \n",
        "MSFT   2012 2     2012-02-01      27.27\n",
        "            2     2012-02-02      27.32\n",
        "            2     2012-02-03      27.59\n",
        "            2     2012-02-06      27.55\n",
        "            2     2012-02-07      27.69\n",
        "('MSFT', 2012, 3)\n",
        "                        Date  Adj Close\n",
        "Symbol Year Month                      \n",
        "MSFT   2012 3     2012-03-01      29.65\n",
        "            3     2012-03-02      29.46\n",
        "            3     2012-03-05      29.20\n",
        "            3     2012-03-06      28.98\n",
        "            3     2012-03-07      29.24\n",
        "('MSFT', 2012, 4)\n",
        "                        Date  Adj Close\n",
        "Symbol Year Month                      \n",
        "MSFT   2012 4     2012-04-02      29.65\n",
        "            4     2012-04-03      29.33\n",
        "            4     2012-04-04      28.66\n",
        "            4     2012-04-05      28.94\n",
        "            4     2012-04-09      28.56\n",
        "('MSFT', 2012, 5)\n",
        "                        Date  Adj Close\n",
        "Symbol Year Month                      \n",
        "MSFT   2012 5     2012-05-01      29.39\n",
        "            5     2012-05-02      29.20\n",
        "            5     2012-05-03      29.16\n",
        "            5     2012-05-04      28.45\n",
        "            5     2012-05-07      28.15\n",
        "('MSFT', 2012, 6)\n",
        "                        Date  Adj Close\n",
        "Symbol Year Month                      \n",
        "MSFT   2012 6     2012-06-01      26.30\n",
        "            6     2012-06-04      26.39\n",
        "            6     2012-06-05      26.35\n",
        "            6     2012-06-06      27.13\n",
        "            6     2012-06-07      27.02\n",
        "('MSFT', 2012, 7)\n",
        "                        Date  Adj Close\n",
        "Symbol Year Month                      \n",
        "MSFT   2012 7     2012-07-02      28.25\n",
        "            7     2012-07-03      28.43\n",
        "            7     2012-07-05      28.38\n",
        "            7     2012-07-06      27.91\n",
        "            7     2012-07-09      27.73\n",
        "('MSFT', 2012, 8)\n",
        "                        Date  Adj Close\n",
        "Symbol Year Month                      \n",
        "MSFT   2012 8     2012-08-01      27.18\n",
        "            8     2012-08-02      26.98\n",
        "            8     2012-08-03      27.50\n",
        "            8     2012-08-06      27.68\n",
        "            8     2012-08-07      27.97\n",
        "('MSFT', 2012, 9)\n",
        "                        Date  Adj Close\n",
        "Symbol Year Month                      \n",
        "MSFT   2012 9     2012-09-04      28.28\n",
        "            9     2012-09-05      28.28\n",
        "            9     2012-09-06      29.17\n",
        "            9     2012-09-07      28.80\n",
        "            9     2012-09-10      28.58\n",
        "('MSFT', 2012, 10)\n",
        "                        Date  Adj Close\n",
        "Symbol Year Month                      \n",
        "MSFT   2012 10    2012-10-01      27.44\n",
        "            10    2012-10-02      27.60\n",
        "            10    2012-10-03      27.78\n",
        "            10    2012-10-04      27.94\n",
        "            10    2012-10-05      27.77\n",
        "('MSFT', 2012, 11)\n",
        "                        Date  Adj Close\n",
        "Symbol Year Month                      \n",
        "MSFT   2012 11    2012-11-01      27.47\n",
        "            11    2012-11-02      27.45\n",
        "            11    2012-11-05      27.57\n",
        "            11    2012-11-06      27.78\n",
        "            11    2012-11-07      27.06\n",
        "('MSFT', 2012, 12)\n",
        "                        Date  Adj Close\n",
        "Symbol Year Month                      \n",
        "MSFT   2012 12    2012-12-03      24.79\n",
        "            12    2012-12-04      24.74\n",
        "            12    2012-12-05      25.02\n",
        "            12    2012-12-06      25.07\n",
        "            12    2012-12-07      24.82\n"
       ]
      }
     ],
     "prompt_number": 48
    },
    {
     "cell_type": "heading",
     "level": 1,
     "metadata": {},
     "source": [
      "Aggregation"
     ]
    },
    {
     "cell_type": "code",
     "collapsed": false,
     "input": [
      "# this will apply the mean function to each group\n",
      "mig_l12.agg(np.mean)"
     ],
     "language": "python",
     "metadata": {},
     "outputs": [
      {
       "metadata": {},
       "output_type": "pyout",
       "prompt_number": 49,
       "text": [
        "                   Adj Close\n",
        "Symbol Year Month           \n",
        "AAPL   2012 1          57.75\n",
        "            2          67.05\n",
        "            3          77.82\n",
        "            4          81.66\n",
        "...                      ...\n",
        "MSFT   2012 9          28.64\n",
        "            10         27.04\n",
        "            11         26.00\n",
        "            12         25.31\n",
        "\n",
        "[24 rows x 1 columns]"
       ]
      }
     ],
     "prompt_number": 49
    },
    {
     "cell_type": "code",
     "collapsed": false,
     "input": [
      "# example of groupby that also ignores the index\n",
      "# resulting in a default integer index\n",
      "# this also has the mean function applied\n",
      "s4g.groupby(['Symbol', 'Year', 'Month'], \n",
      "            as_index=False).agg(np.mean)[:5]"
     ],
     "language": "python",
     "metadata": {},
     "outputs": [
      {
       "metadata": {},
       "output_type": "pyout",
       "prompt_number": 50,
       "text": [
        "  Symbol  Year  Month  Adj Close\n",
        "0   AAPL  2012      1      57.75\n",
        "1   AAPL  2012      2      67.05\n",
        "2   AAPL  2012      3      77.82\n",
        "3   AAPL  2012      4      81.66\n",
        "4   AAPL  2012      5      76.09"
       ]
      }
     ],
     "prompt_number": 50
    },
    {
     "cell_type": "code",
     "collapsed": false,
     "input": [
      "# apply multiple functions to each group in one call\n",
      "mig_l12.agg([np.mean, np.std])"
     ],
     "language": "python",
     "metadata": {},
     "outputs": [
      {
       "metadata": {},
       "output_type": "pyout",
       "prompt_number": 51,
       "text": [
        "                  Adj Close      \n",
        "                       mean   std\n",
        "Symbol Year Month                \n",
        "AAPL   2012 1         57.75  1.80\n",
        "            2         67.05  3.57\n",
        "            3         77.82  4.16\n",
        "            4         81.66  3.06\n",
        "...                     ...   ...\n",
        "MSFT   2012 9         28.64  0.43\n",
        "            10        27.04  0.67\n",
        "            11        26.00  1.00\n",
        "            12        25.31  0.36\n",
        "\n",
        "[24 rows x 2 columns]"
       ]
      }
     ],
     "prompt_number": 51
    }
   ],
   "metadata": {}
  }
 ]
}