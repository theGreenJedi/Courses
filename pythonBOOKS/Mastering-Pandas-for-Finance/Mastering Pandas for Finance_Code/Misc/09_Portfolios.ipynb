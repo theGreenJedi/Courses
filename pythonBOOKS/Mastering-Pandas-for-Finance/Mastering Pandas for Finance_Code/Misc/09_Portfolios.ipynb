{
 "metadata": {
  "name": "",
  "signature": "sha256:1f96fffe3bd0f3c63442a4e83cfb0119514679164b3819f9abfd90abad187139"
 },
 "nbformat": 3,
 "nbformat_minor": 0,
 "worksheets": [
  {
   "cells": [
    {
     "cell_type": "heading",
     "level": 1,
     "metadata": {},
     "source": [
      "Notebook setup"
     ]
    },
    {
     "cell_type": "code",
     "collapsed": false,
     "input": [
      "# various pandas, numpy\n",
      "import pandas as pd\n",
      "import numpy as np\n",
      "import pandas.io.data as web\n",
      "from datetime import datetime\n",
      "import scipy as sp\n",
      "import scipy.optimize as scopt\n",
      "import scipy.stats as spstats\n",
      "import matplotlib.mlab as mlab\n",
      "# plotting\n",
      "\n",
      "import matplotlib.pyplot as plt\n",
      "\n",
      "# make plots inline\n",
      "%matplotlib inline\n",
      "\n",
      "# formatting options\n",
      "pd.set_option('display.notebook_repr_html', False)\n",
      "pd.set_option('display.max_columns', 7)\n",
      "pd.set_option('display.max_rows', 10) \n",
      "pd.set_option('display.width', 82) \n",
      "pd.set_option('precision', 7)"
     ],
     "language": "python",
     "metadata": {},
     "outputs": [],
     "prompt_number": 1
    },
    {
     "cell_type": "heading",
     "level": 1,
     "metadata": {},
     "source": [
      "Modelling of a portfolio with Python and pandas"
     ]
    },
    {
     "cell_type": "code",
     "collapsed": false,
     "input": [
      "def create_portfolio(tickers, weights=None):\n",
      "    if weights is None: \n",
      "        shares = np.ones(len(tickers))/len(tickers)\n",
      "    portfolio = pd.DataFrame({'Tickers': tickers, \n",
      "                              'Weights': weights}, \n",
      "                             index=tickers)\n",
      "    return portfolio"
     ],
     "language": "python",
     "metadata": {},
     "outputs": [],
     "prompt_number": 2
    },
    {
     "cell_type": "code",
     "collapsed": false,
     "input": [
      "portfolio = create_portfolio(['Stock A', 'Stock B'], [1, 1])\n",
      "portfolio"
     ],
     "language": "python",
     "metadata": {},
     "outputs": [
      {
       "metadata": {},
       "output_type": "pyout",
       "prompt_number": 3,
       "text": [
        "         Tickers  Weights\n",
        "Stock A  Stock A        1\n",
        "Stock B  Stock B        1"
       ]
      }
     ],
     "prompt_number": 3
    },
    {
     "cell_type": "code",
     "collapsed": false,
     "input": [
      "returns = pd.DataFrame(\n",
      "        {'Stock A': [0.1, 0.24, 0.05, -0.02, 0.2],\n",
      "         'Stock B': [-0.15, -0.2, -0.01, 0.04, -0.15]})\n",
      "returns"
     ],
     "language": "python",
     "metadata": {},
     "outputs": [
      {
       "metadata": {},
       "output_type": "pyout",
       "prompt_number": 4,
       "text": [
        "   Stock A  Stock B\n",
        "0     0.10    -0.15\n",
        "1     0.24    -0.20\n",
        "2     0.05    -0.01\n",
        "3    -0.02     0.04\n",
        "4     0.20    -0.15"
       ]
      }
     ],
     "prompt_number": 4
    },
    {
     "cell_type": "code",
     "collapsed": false,
     "input": [
      "def calculate_weighted_portfolio_value(portfolio, \n",
      "                                       returns, \n",
      "                                       name='Value'):\n",
      "    total_weights = portfolio.Weights.sum()\n",
      "    weighted_returns = returns * (portfolio.Weights / \n",
      "                                  total_weights)\n",
      "    return pd.DataFrame({name: weighted_returns.sum(axis=1)})"
     ],
     "language": "python",
     "metadata": {},
     "outputs": [],
     "prompt_number": 5
    },
    {
     "cell_type": "code",
     "collapsed": false,
     "input": [
      "wr = calculate_weighted_portfolio_value(portfolio, \n",
      "                                        returns, \n",
      "                                        \"Value\")\n",
      "with_value = pd.concat([returns, wr], axis=1)\n",
      "with_value"
     ],
     "language": "python",
     "metadata": {},
     "outputs": [
      {
       "metadata": {},
       "output_type": "pyout",
       "prompt_number": 6,
       "text": [
        "   Stock A  Stock B  Value\n",
        "0     0.10    -0.15 -0.025\n",
        "1     0.24    -0.20  0.020\n",
        "2     0.05    -0.01  0.020\n",
        "3    -0.02     0.04  0.010\n",
        "4     0.20    -0.15  0.025"
       ]
      }
     ],
     "prompt_number": 6
    },
    {
     "cell_type": "code",
     "collapsed": false,
     "input": [
      "with_value.std()"
     ],
     "language": "python",
     "metadata": {},
     "outputs": [
      {
       "metadata": {},
       "output_type": "pyout",
       "prompt_number": 7,
       "text": [
        "Stock A    0.106677\n",
        "Stock B    0.103102\n",
        "Value      0.020310\n",
        "dtype: float64"
       ]
      }
     ],
     "prompt_number": 7
    },
    {
     "cell_type": "code",
     "collapsed": false,
     "input": [
      "def plot_portfolio_returns(returns, title=None):\n",
      "    returns.plot(figsize=(12,8))\n",
      "    plt.xlabel('Year')\n",
      "    plt.ylabel('Returns')\n",
      "    if title is not None: plt.title(title)\n",
      "    plt.show()\n",
      "    plt.savefig('5104OS_09_02.png', dpi=300)"
     ],
     "language": "python",
     "metadata": {},
     "outputs": [],
     "prompt_number": 8
    },
    {
     "cell_type": "code",
     "collapsed": true,
     "input": [
      "plot_portfolio_returns(with_value)"
     ],
     "language": "python",
     "metadata": {},
     "outputs": [
      {
       "metadata": {},
       "output_type": "display_data",
       "png": "[encoded data removed]",
       "text": [
        "<matplotlib.figure.Figure at 0x7fcc08cfab50>"
       ]
      },
      {
       "metadata": {},
       "output_type": "display_data",
       "text": [
        "<matplotlib.figure.Figure at 0x7fcc08cfaa90>"
       ]
      }
     ],
     "prompt_number": 9
    },
    {
     "cell_type": "code",
     "collapsed": false,
     "input": [
      "returns.corr()"
     ],
     "language": "python",
     "metadata": {},
     "outputs": [
      {
       "metadata": {},
       "output_type": "pyout",
       "prompt_number": 10,
       "text": [
        "          Stock A   Stock B\n",
        "Stock A  1.000000 -0.925572\n",
        "Stock B -0.925572  1.000000"
       ]
      }
     ],
     "prompt_number": 10
    },
    {
     "cell_type": "heading",
     "level": 1,
     "metadata": {},
     "source": [
      "Computing an Efficient Portfolio"
     ]
    },
    {
     "cell_type": "heading",
     "level": 2,
     "metadata": {},
     "source": [
      "Gathering historical returns from Yahoo! Finance"
     ]
    },
    {
     "cell_type": "code",
     "collapsed": false,
     "input": [
      "def get_historical_closes(ticker, start_date, end_date):\n",
      "    # get the data for the tickers.  This will be a panel\n",
      "    p = web.DataReader(ticker, \"yahoo\", start_date, end_date)    \n",
      "    # convert the panel to a DataFrame and selection only Adj Close\n",
      "    # while making all index levels columns\n",
      "    d = p.to_frame()['Adj Close'].reset_index()\n",
      "    # rename the columns\n",
      "    d.rename(columns={'minor': 'Ticker', \n",
      "                      'Adj Close': 'Close'}, inplace=True)\n",
      "    # pivot each ticker to a column\n",
      "    pivoted = d.pivot(index='Date', columns='Ticker')\n",
      "    # and drop the one level on the columns\n",
      "    pivoted.columns = pivoted.columns.droplevel(0)\n",
      "    return pivoted"
     ],
     "language": "python",
     "metadata": {},
     "outputs": [],
     "prompt_number": 11
    },
    {
     "cell_type": "code",
     "collapsed": false,
     "input": [
      "closes = get_historical_closes(['MSFT', 'AAPL', 'KO'], '2010-01-01', '2014-12-31')"
     ],
     "language": "python",
     "metadata": {},
     "outputs": [],
     "prompt_number": 12
    },
    {
     "cell_type": "code",
     "collapsed": false,
     "input": [
      "closes[:5]"
     ],
     "language": "python",
     "metadata": {},
     "outputs": [
      {
       "metadata": {},
       "output_type": "pyout",
       "prompt_number": 13,
       "text": [
        "Ticker          AAPL        KO      MSFT\n",
        "Date                                    \n",
        "2010-01-04  28.83805  24.46602  26.94331\n",
        "2010-01-05  28.88790  24.17006  26.95201\n",
        "2010-01-06  28.42840  24.16148  26.78661\n",
        "2010-01-07  28.37585  24.10143  26.50804\n",
        "2010-01-08  28.56450  23.65535  26.69085"
       ]
      }
     ],
     "prompt_number": 13
    },
    {
     "cell_type": "code",
     "collapsed": false,
     "input": [
      "def calc_daily_returns(closes):\n",
      "    return np.log(closes/closes.shift(1))"
     ],
     "language": "python",
     "metadata": {},
     "outputs": [],
     "prompt_number": 14
    },
    {
     "cell_type": "code",
     "collapsed": false,
     "input": [
      "# calculate daily returns\n",
      "daily_returns = calc_daily_returns(closes)\n",
      "daily_returns[:5]"
     ],
     "language": "python",
     "metadata": {},
     "outputs": [
      {
       "metadata": {},
       "output_type": "pyout",
       "prompt_number": 15,
       "text": [
        "Ticker          AAPL        KO      MSFT\n",
        "Date                                    \n",
        "2010-01-04       NaN       NaN       NaN\n",
        "2010-01-05  0.001727 -0.012171  0.000323\n",
        "2010-01-06 -0.016034 -0.000355 -0.006156\n",
        "2010-01-07 -0.001850 -0.002488 -0.010454\n",
        "2010-01-08  0.006626 -0.018682  0.006873"
       ]
      }
     ],
     "prompt_number": 15
    },
    {
     "cell_type": "code",
     "collapsed": false,
     "input": [
      "# calculate annual returns\n",
      "def calc_annual_returns(daily_returns):\n",
      "    grouped = np.exp(daily_returns.groupby(\n",
      "        lambda date: date.year).sum())-1\n",
      "    return grouped"
     ],
     "language": "python",
     "metadata": {},
     "outputs": [],
     "prompt_number": 16
    },
    {
     "cell_type": "code",
     "collapsed": false,
     "input": [
      "annual_returns = calc_annual_returns(daily_returns)\n",
      "annual_returns"
     ],
     "language": "python",
     "metadata": {},
     "outputs": [
      {
       "metadata": {},
       "output_type": "pyout",
       "prompt_number": 17,
       "text": [
        "Ticker      AAPL        KO      MSFT\n",
        "2010    0.507219  0.189366 -0.079442\n",
        "2011    0.255580  0.094586 -0.045156\n",
        "2012    0.325669  0.065276  0.057989\n",
        "2013    0.080695  0.172330  0.442979\n",
        "2014    0.406225  0.052661  0.275646"
       ]
      }
     ],
     "prompt_number": 17
    },
    {
     "cell_type": "heading",
     "level": 2,
     "metadata": {},
     "source": [
      "Weighted variance co-variance calculation"
     ]
    },
    {
     "cell_type": "code",
     "collapsed": false,
     "input": [
      "def calc_portfolio_var(returns, weights=None):\n",
      "    if weights is None: \n",
      "        weights = np.ones(returns.columns.size) / \\\n",
      "        returns.columns.size\n",
      "    sigma = np.cov(returns.T,ddof=0)\n",
      "    var = (weights * sigma * weights.T).sum()\n",
      "    return var"
     ],
     "language": "python",
     "metadata": {},
     "outputs": [],
     "prompt_number": 18
    },
    {
     "cell_type": "code",
     "collapsed": false,
     "input": [
      "# calculate our portfolio variance (equal weighted)\n",
      "calc_portfolio_var(annual_returns)"
     ],
     "language": "python",
     "metadata": {},
     "outputs": [
      {
       "metadata": {},
       "output_type": "pyout",
       "prompt_number": 19,
       "text": [
        "0.0028795357274894696"
       ]
      }
     ],
     "prompt_number": 19
    },
    {
     "cell_type": "heading",
     "level": 2,
     "metadata": {},
     "source": [
      "The Sharpe Ratio"
     ]
    },
    {
     "cell_type": "code",
     "collapsed": false,
     "input": [
      "def sharpe_ratio(returns, weights = None, risk_free_rate = 0.015):\n",
      "    n = returns.columns.size\n",
      "    if weights is None: weights = np.ones(n)/n\n",
      "    # get the portfolio variance\n",
      "    var = calc_portfolio_var(returns, weights)\n",
      "    # and the means of the stocks in the portfolio\n",
      "    means = returns.mean()\n",
      "    # and return the sharpe ratio\n",
      "    return (means.dot(weights) - risk_free_rate)/np.sqrt(var)"
     ],
     "language": "python",
     "metadata": {},
     "outputs": [],
     "prompt_number": 20
    },
    {
     "cell_type": "code",
     "collapsed": false,
     "input": [
      "# calculate equal weighted sharpe ratio\n",
      "sharpe_ratio(annual_returns)"
     ],
     "language": "python",
     "metadata": {},
     "outputs": [
      {
       "metadata": {},
       "output_type": "pyout",
       "prompt_number": 21,
       "text": [
        "3.2010949029381952"
       ]
      }
     ],
     "prompt_number": 21
    },
    {
     "cell_type": "heading",
     "level": 2,
     "metadata": {},
     "source": [
      "Optimization and minimization"
     ]
    },
    {
     "cell_type": "code",
     "collapsed": false,
     "input": [
      "# function to minimize\n",
      "def y_f(x): return 2+x**2"
     ],
     "language": "python",
     "metadata": {},
     "outputs": [],
     "prompt_number": 22
    },
    {
     "cell_type": "code",
     "collapsed": false,
     "input": [
      "scopt.fmin(y_f, 1000)"
     ],
     "language": "python",
     "metadata": {},
     "outputs": [
      {
       "output_type": "stream",
       "stream": "stdout",
       "text": [
        "Optimization terminated successfully.\n",
        "         Current function value: 2.000000\n",
        "         Iterations: 27\n",
        "         Function evaluations: 54\n"
       ]
      },
      {
       "metadata": {},
       "output_type": "pyout",
       "prompt_number": 23,
       "text": [
        "array([ 0.])"
       ]
      }
     ],
     "prompt_number": 23
    },
    {
     "cell_type": "heading",
     "level": 2,
     "metadata": {},
     "source": [
      "Constructing an optimal portfolio "
     ]
    },
    {
     "cell_type": "code",
     "collapsed": false,
     "input": [
      "def negative_sharpe_ratio_n_minus_1_stock(weights, \n",
      "                                          returns, \n",
      "                                          risk_free_rate):\n",
      "    \"\"\"\n",
      "    Given n-1 weights, return a negative sharpe ratio\n",
      "    \"\"\"\n",
      "    weights2 = sp.append(weights, 1-np.sum(weights))\n",
      "    return -sharpe_ratio(returns, weights2, risk_free_rate)"
     ],
     "language": "python",
     "metadata": {},
     "outputs": [],
     "prompt_number": 24
    },
    {
     "cell_type": "code",
     "collapsed": false,
     "input": [
      "def optimize_portfolio(returns, risk_free_rate):\n",
      "    \"\"\" \n",
      "    Performs the optimization\n",
      "    \"\"\"\n",
      "    # start with equal weights\n",
      "    w0 = np.ones(returns.columns.size-1, \n",
      "                 dtype=float) * 1.0 / returns.columns.size\n",
      "    # minimize the negative sharpe value\n",
      "    w1 = scopt.fmin(negative_sharpe_ratio_n_minus_1_stock, \n",
      "                    w0, args=(returns, risk_free_rate))\n",
      "    # build final set of weights\n",
      "    final_w = sp.append(w1, 1 - np.sum(w1))\n",
      "    # and calculate the final, optimized, sharpe ratio\n",
      "    final_sharpe = sharpe_ratio(returns, final_w, risk_free_rate)\n",
      "    return (final_w, final_sharpe)"
     ],
     "language": "python",
     "metadata": {},
     "outputs": [],
     "prompt_number": 25
    },
    {
     "cell_type": "code",
     "collapsed": false,
     "input": [
      "# optimize our portfolio\n",
      "optimize_portfolio(annual_returns, 0.0003)"
     ],
     "language": "python",
     "metadata": {},
     "outputs": [
      {
       "output_type": "stream",
       "stream": "stdout",
       "text": [
        "Optimization terminated successfully.\n",
        "         Current function value: -7.829864\n",
        "         Iterations: 46\n",
        "         Function evaluations: 89\n"
       ]
      },
      {
       "metadata": {},
       "output_type": "pyout",
       "prompt_number": 26,
       "text": [
        "(array([ 0.76353353,  0.2103234 ,  0.02614307]), 7.8298640872716048)"
       ]
      }
     ],
     "prompt_number": 26
    },
    {
     "cell_type": "heading",
     "level": 1,
     "metadata": {},
     "source": [
      "Visualizing the Efficient Frontier"
     ]
    },
    {
     "cell_type": "code",
     "collapsed": false,
     "input": [
      "def objfun(W, R, target_ret):\n",
      "    stock_mean = np.mean(R,axis=0)\n",
      "    port_mean = np.dot(W,stock_mean) # portfolio mean\n",
      "    cov=np.cov(R.T) # var-cov matrix\n",
      "    port_var = np.dot(np.dot(W,cov),W.T) # portfolio variance\n",
      "    penalty = 2000*abs(port_mean-target_ret)# penalty 4 deviation\n",
      "    return np.sqrt(port_var) + penalty # objective function"
     ],
     "language": "python",
     "metadata": {},
     "outputs": [],
     "prompt_number": 27
    },
    {
     "cell_type": "code",
     "collapsed": false,
     "input": [
      "def calc_efficient_frontier(returns):\n",
      "    result_means = []\n",
      "    result_stds = []\n",
      "    result_weights = []\n",
      "    \n",
      "    means = returns.mean()\n",
      "    min_mean, max_mean = means.min(), means.max()\n",
      "    \n",
      "    nstocks = returns.columns.size\n",
      "    \n",
      "    for r in np.linspace(min_mean, max_mean, 100):\n",
      "        weights = np.ones(nstocks)/nstocks\n",
      "        bounds = [(0,1) for i in np.arange(nstocks)]\n",
      "        constraints = ({'type': 'eq', \n",
      "                        'fun': lambda W: np.sum(W) - 1})\n",
      "        results = scopt.minimize(objfun, weights, (returns, r), \n",
      "                                 method='SLSQP', \n",
      "                                 constraints = constraints,\n",
      "                                 bounds = bounds)\n",
      "        if not results.success: # handle error\n",
      "            raise Exception(result.message)\n",
      "        result_means.append(np.round(r,4)) # 4 decimal places\n",
      "        std_=np.round(np.std(np.sum(returns*results.x,axis=1)),6)\n",
      "        result_stds.append(std_)\n",
      "        \n",
      "        result_weights.append(np.round(results.x, 5))\n",
      "    return {'Means': result_means, \n",
      "            'Stds': result_stds, \n",
      "            'Weights': result_weights}"
     ],
     "language": "python",
     "metadata": {},
     "outputs": [],
     "prompt_number": 28
    },
    {
     "cell_type": "code",
     "collapsed": false,
     "input": [
      "# calculate our frontier\n",
      "frontier_data = calc_efficient_frontier(annual_returns)"
     ],
     "language": "python",
     "metadata": {},
     "outputs": [],
     "prompt_number": 29
    },
    {
     "cell_type": "code",
     "collapsed": false,
     "input": [
      "# first five risk levels\n",
      "frontier_data['Stds'][:5]"
     ],
     "language": "python",
     "metadata": {},
     "outputs": [
      {
       "metadata": {},
       "output_type": "pyout",
       "prompt_number": 30,
       "text": [
        "[0.055842999999999997, 0.053446, 0.052564, 0.051706000000000002, 0.050871]"
       ]
      }
     ],
     "prompt_number": 30
    },
    {
     "cell_type": "code",
     "collapsed": false,
     "input": [
      "# first five mean returns\n",
      "frontier_data['Means'][:5]"
     ],
     "language": "python",
     "metadata": {},
     "outputs": [
      {
       "metadata": {},
       "output_type": "pyout",
       "prompt_number": 31,
       "text": [
        "[0.1148, 0.1169, 0.11890000000000001, 0.12089999999999999, 0.1229]"
       ]
      }
     ],
     "prompt_number": 31
    },
    {
     "cell_type": "code",
     "collapsed": false,
     "input": [
      "# first five sets of optimal weights\n",
      "frontier_data['Weights'][:5]"
     ],
     "language": "python",
     "metadata": {},
     "outputs": [
      {
       "metadata": {},
       "output_type": "pyout",
       "prompt_number": 32,
       "text": [
        "[array([-0.,  1.,  0.]),\n",
        " array([ 0.00512,  0.9308 ,  0.06408]),\n",
        " array([ 0.01497,  0.9177 ,  0.06733]),\n",
        " array([ 0.02469,  0.90303,  0.07228]),\n",
        " array([ 0.03458,  0.89049,  0.07493])]"
       ]
      }
     ],
     "prompt_number": 32
    },
    {
     "cell_type": "code",
     "collapsed": false,
     "input": [
      "def plot_efficient_frontier(frontier_data):\n",
      "    plt.figure(figsize=(12,8))\n",
      "    plt.title('Efficient Frontier')\n",
      "    plt.xlabel('Standard Deviation of the porfolio (Risk))')\n",
      "    plt.ylabel('Return of the portfolio')\n",
      "    plt.plot(frontier_data['Stds'], frontier_data['Means'], '--'); \n",
      "    plt.savefig('5104OS_09_20.png', bbox_inches='tight', dpi=300)"
     ],
     "language": "python",
     "metadata": {},
     "outputs": [],
     "prompt_number": 33
    },
    {
     "cell_type": "code",
     "collapsed": false,
     "input": [
      "plot_efficient_frontier(frontier_data)"
     ],
     "language": "python",
     "metadata": {},
     "outputs": [
      {
       "metadata": {},
       "output_type": "display_data",
       "png": "[encoded data removed]",
       "text": [
        "<matplotlib.figure.Figure at 0x7fcbf89b2a50>"
       ]
      }
     ],
     "prompt_number": 34
    },
    {
     "cell_type": "heading",
     "level": 1,
     "metadata": {},
     "source": [
      "Value At Risk"
     ]
    },
    {
     "cell_type": "code",
     "collapsed": false,
     "input": [
      "# get adjusted close values for AAPL in 2014\n",
      "aapl_closes = get_historical_closes(['AAPL'], \n",
      "                                    datetime(2014, 1, 1),\n",
      "                                    datetime(2014, 12, 31))\n",
      "aapl_closes[:5]"
     ],
     "language": "python",
     "metadata": {},
     "outputs": [
      {
       "metadata": {},
       "output_type": "pyout",
       "prompt_number": 35,
       "text": [
        "Ticker          AAPL\n",
        "Date                \n",
        "2014-01-02  77.08570\n",
        "2014-01-03  75.39245\n",
        "2014-01-06  75.80357\n",
        "2014-01-07  75.26144\n",
        "2014-01-08  75.73806"
       ]
      }
     ],
     "prompt_number": 35
    },
    {
     "cell_type": "code",
     "collapsed": false,
     "input": [
      "# now convert the daily prices to returns\n",
      "returns = calc_daily_returns(aapl_closes)\n",
      "returns[:5]"
     ],
     "language": "python",
     "metadata": {},
     "outputs": [
      {
       "metadata": {},
       "output_type": "pyout",
       "prompt_number": 36,
       "text": [
        "Ticker          AAPL\n",
        "Date                \n",
        "2014-01-02       NaN\n",
        "2014-01-03 -0.022211\n",
        "2014-01-06  0.005438\n",
        "2014-01-07 -0.007177\n",
        "2014-01-08  0.006313"
       ]
      }
     ],
     "prompt_number": 36
    },
    {
     "cell_type": "code",
     "collapsed": false,
     "input": [
      "# plot the histogram of returns\n",
      "plt.figure(figsize=(12,8))\n",
      "plt.hist(returns.values[1:], bins=100);\n",
      "plt.savefig('5104OS_09_23.png', bbox_inches='tight', dpi=300)"
     ],
     "language": "python",
     "metadata": {},
     "outputs": [
      {
       "metadata": {},
       "output_type": "display_data",
       "png": "[encoded data removed]",
       "text": [
        "<matplotlib.figure.Figure at 0x7fcbf9069dd0>"
       ]
      }
     ],
     "prompt_number": 37
    },
    {
     "cell_type": "code",
     "collapsed": false,
     "input": [
      "# get the z-score for 95%\n",
      "z = spstats.norm.ppf(0.95)\n",
      "z"
     ],
     "language": "python",
     "metadata": {},
     "outputs": [
      {
       "metadata": {},
       "output_type": "pyout",
       "prompt_number": 38,
       "text": [
        "1.6448536269514722"
       ]
      }
     ],
     "prompt_number": 38
    },
    {
     "cell_type": "code",
     "collapsed": false,
     "input": [
      "# our position is 1000 shares of AAPL at the price\n",
      "# on 2014-22-31\n",
      "position = 1000 * aapl_closes.ix['2014-12-31'].AAPL\n",
      "position"
     ],
     "language": "python",
     "metadata": {},
     "outputs": [
      {
       "metadata": {},
       "output_type": "pyout",
       "prompt_number": 39,
       "text": [
        "109946.08000000002"
       ]
      }
     ],
     "prompt_number": 39
    },
    {
     "cell_type": "code",
     "collapsed": false,
     "input": [
      "# what is our VaR\n",
      "VaR = position * (z * returns.AAPL.std())\n",
      "VaR"
     ],
     "language": "python",
     "metadata": {},
     "outputs": [
      {
       "metadata": {},
       "output_type": "pyout",
       "prompt_number": 40,
       "text": [
        "2467.0080579439564"
       ]
      }
     ],
     "prompt_number": 40
    },
    {
     "cell_type": "heading",
     "level": 1,
     "metadata": {},
     "source": [
      "Misc"
     ]
    },
    {
     "cell_type": "code",
     "collapsed": false,
     "input": [
      "# draw a 99% one-tail confidence interval\n",
      "x = np.linspace(-4,4,101)\n",
      "y = np.exp(-x**2/2) / np.sqrt(2*np.pi)\n",
      "x2 = np.linspace(-4,-2.33,101)\n",
      "y2 = np.exp(-x2**2/2) / np.sqrt(2*np.pi)\n",
      "f = plt.figure(figsize=(12,8))\n",
      "plt.plot(x,y*100, linewidth=2)\n",
      "xf, yf = mlab.poly_between(x2, 0*x2, y2*100)\n",
      "plt.fill(xf, yf, facecolor='g', alpha=0.5)\n",
      "plt.gca().set_xlabel('z-score')\n",
      "plt.gca().set_ylabel('Frequency %')\n",
      "plt.title(\"VaR based on the standard normal distribution\")\n",
      "bbox_props = dict(boxstyle=\"rarrow,pad=0.3\", fc=\"w\", ec=\"b\", lw=2)\n",
      "t = f.text(0.25, 0.35, \"99% VaR confidence level\", ha=\"center\", va=\"center\", \n",
      "           rotation=270,\n",
      "            size=15,\n",
      "            bbox=bbox_props)\n",
      "plt.savefig('5104OS_09_21.png', bbox_inches='tight', dpi=300)"
     ],
     "language": "python",
     "metadata": {},
     "outputs": [
      {
       "metadata": {},
       "output_type": "display_data",
       "png": "[encoded data removed]",
       "text": [
        "<matplotlib.figure.Figure at 0x7fcbf8036c10>"
       ]
      }
     ],
     "prompt_number": 41
    }
   ],
   "metadata": {}
  }
 ]
}