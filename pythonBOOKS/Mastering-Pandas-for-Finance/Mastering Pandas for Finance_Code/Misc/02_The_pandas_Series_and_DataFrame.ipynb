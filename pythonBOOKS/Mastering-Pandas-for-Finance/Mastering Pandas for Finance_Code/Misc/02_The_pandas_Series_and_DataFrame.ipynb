{
 "metadata": {
  "name": "",
  "signature": "sha256:af85937eaca9aeb1fd744ae05c77f8d30c2d293d29b6a3b45f018729058fff7d"
 },
 "nbformat": 3,
 "nbformat_minor": 0,
 "worksheets": [
  {
   "cells": [
    {
     "cell_type": "heading",
     "level": 1,
     "metadata": {},
     "source": [
      "The pandas Series and DataFrame"
     ]
    },
    {
     "cell_type": "code",
     "collapsed": false,
     "input": [
      "# import pandas\n",
      "import pandas as pd\n",
      "# and NumPy\n",
      "import numpy as np\n",
      "\n",
      "# Set some Pandas options\n",
      "pd.set_option('display.notebook_repr_html', False)\n",
      "pd.set_option('display.max_columns', 8)\n",
      "pd.set_option('display.max_rows', 8)"
     ],
     "language": "python",
     "metadata": {},
     "outputs": [],
     "prompt_number": 1
    },
    {
     "cell_type": "heading",
     "level": 2,
     "metadata": {},
     "source": [
      "Creating a Series and accessing elements"
     ]
    },
    {
     "cell_type": "code",
     "collapsed": false,
     "input": [
      "# create a Series from a NumPy array of random values\n",
      "np.random.seed(1)\n",
      "s = pd.Series(np.random.randn(100))\n",
      "s"
     ],
     "language": "python",
     "metadata": {},
     "outputs": [
      {
       "metadata": {},
       "output_type": "pyout",
       "prompt_number": 2,
       "text": [
        "0     1.624345\n",
        "1    -0.611756\n",
        "2    -0.528172\n",
        "3    -1.072969\n",
        "        ...   \n",
        "96   -0.343854\n",
        "97    0.043597\n",
        "98   -0.620001\n",
        "99    0.698032\n",
        "dtype: float64"
       ]
      }
     ],
     "prompt_number": 2
    },
    {
     "cell_type": "code",
     "collapsed": false,
     "input": [
      "# select item with matching label of 2\n",
      "s[2]"
     ],
     "language": "python",
     "metadata": {},
     "outputs": [
      {
       "metadata": {},
       "output_type": "pyout",
       "prompt_number": 3,
       "text": [
        "-0.5281717522634557"
       ]
      }
     ],
     "prompt_number": 3
    },
    {
     "cell_type": "code",
     "collapsed": false,
     "input": [
      "# selected elements at positions 2, 5, and 20\n",
      "s[[2, 5, 20]]"
     ],
     "language": "python",
     "metadata": {},
     "outputs": [
      {
       "metadata": {},
       "output_type": "pyout",
       "prompt_number": 4,
       "text": [
        "2    -0.528172\n",
        "5    -2.301539\n",
        "20   -1.100619\n",
        "dtype: float64"
       ]
      }
     ],
     "prompt_number": 4
    },
    {
     "cell_type": "code",
     "collapsed": false,
     "input": [
      "# slice the Series\n",
      "s[3:8]"
     ],
     "language": "python",
     "metadata": {},
     "outputs": [
      {
       "metadata": {},
       "output_type": "pyout",
       "prompt_number": 5,
       "text": [
        "3   -1.072969\n",
        "4    0.865408\n",
        "5   -2.301539\n",
        "6    1.744812\n",
        "7   -0.761207\n",
        "dtype: float64"
       ]
      }
     ],
     "prompt_number": 5
    },
    {
     "cell_type": "code",
     "collapsed": false,
     "input": [
      "s.head()"
     ],
     "language": "python",
     "metadata": {},
     "outputs": [
      {
       "metadata": {},
       "output_type": "pyout",
       "prompt_number": 6,
       "text": [
        "0    1.624345\n",
        "1   -0.611756\n",
        "2   -0.528172\n",
        "3   -1.072969\n",
        "4    0.865408\n",
        "dtype: float64"
       ]
      }
     ],
     "prompt_number": 6
    },
    {
     "cell_type": "code",
     "collapsed": false,
     "input": [
      "s.tail()"
     ],
     "language": "python",
     "metadata": {},
     "outputs": [
      {
       "metadata": {},
       "output_type": "pyout",
       "prompt_number": 7,
       "text": [
        "95    0.077340\n",
        "96   -0.343854\n",
        "97    0.043597\n",
        "98   -0.620001\n",
        "99    0.698032\n",
        "dtype: float64"
       ]
      }
     ],
     "prompt_number": 7
    },
    {
     "cell_type": "code",
     "collapsed": false,
     "input": [
      "s.index"
     ],
     "language": "python",
     "metadata": {},
     "outputs": [
      {
       "metadata": {},
       "output_type": "pyout",
       "prompt_number": 8,
       "text": [
        "Int64Index([0, 1, 2, 3, 4, 5, 6, 7, 8, 9, 10, 11, 12, 13, 14, 15, 16, 17, 18, 19, 20, 21, 22, 23, 24, 25, 26, 27, 28, 29, 30, 31, 32, 33, 34, 35, 36, 37, 38, 39, 40, 41, 42, 43, 44, 45, 46, 47, 48, 49, 50, 51, 52, 53, 54, 55, 56, 57, 58, 59, 60, 61, 62, 63, 64, 65, 66, 67, 68, 69, 70, 71, 72, 73, 74, 75, 76, 77, 78, 79, 80, 81, 82, 83, 84, 85, 86, 87, 88, 89, 90, 91, 92, 93, 94, 95, 96, 97, 98, 99], dtype='int64')"
       ]
      }
     ],
     "prompt_number": 8
    },
    {
     "cell_type": "code",
     "collapsed": false,
     "input": [
      "s.values"
     ],
     "language": "python",
     "metadata": {},
     "outputs": [
      {
       "metadata": {},
       "output_type": "pyout",
       "prompt_number": 9,
       "text": [
        "array([ 1.62434536, -0.61175641, -0.52817175, -1.07296862,  0.86540763,\n",
        "       -2.3015387 ,  1.74481176, -0.7612069 ,  0.3190391 , -0.24937038,\n",
        "        1.46210794, -2.06014071, -0.3224172 , -0.38405435,  1.13376944,\n",
        "       -1.09989127, -0.17242821, -0.87785842,  0.04221375,  0.58281521,\n",
        "       -1.10061918,  1.14472371,  0.90159072,  0.50249434,  0.90085595,\n",
        "       -0.68372786, -0.12289023, -0.93576943, -0.26788808,  0.53035547,\n",
        "       -0.69166075, -0.39675353, -0.6871727 , -0.84520564, -0.67124613,\n",
        "       -0.0126646 , -1.11731035,  0.2344157 ,  1.65980218,  0.74204416,\n",
        "       -0.19183555, -0.88762896, -0.74715829,  1.6924546 ,  0.05080775,\n",
        "       -0.63699565,  0.19091548,  2.10025514,  0.12015895,  0.61720311,\n",
        "        0.30017032, -0.35224985, -1.1425182 , -0.34934272, -0.20889423,\n",
        "        0.58662319,  0.83898341,  0.93110208,  0.28558733,  0.88514116,\n",
        "       -0.75439794,  1.25286816,  0.51292982, -0.29809284,  0.48851815,\n",
        "       -0.07557171,  1.13162939,  1.51981682,  2.18557541, -1.39649634,\n",
        "       -1.44411381, -0.50446586,  0.16003707,  0.87616892,  0.31563495,\n",
        "       -2.02220122, -0.30620401,  0.82797464,  0.23009474,  0.76201118,\n",
        "       -0.22232814, -0.20075807,  0.18656139,  0.41005165,  0.19829972,\n",
        "        0.11900865, -0.67066229,  0.37756379,  0.12182127,  1.12948391,\n",
        "        1.19891788,  0.18515642, -0.37528495, -0.63873041,  0.42349435,\n",
        "        0.07734007, -0.34385368,  0.04359686, -0.62000084,  0.69803203])"
       ]
      }
     ],
     "prompt_number": 9
    },
    {
     "cell_type": "code",
     "collapsed": false,
     "input": [
      "# specify an index at creation time\n",
      "s2 = pd.Series([1, 2, 3, 4], index=['a', 'b', 'c', 'd'])\n",
      "s2"
     ],
     "language": "python",
     "metadata": {},
     "outputs": [
      {
       "metadata": {},
       "output_type": "pyout",
       "prompt_number": 10,
       "text": [
        "a    1\n",
        "b    2\n",
        "c    3\n",
        "d    4\n",
        "dtype: int64"
       ]
      }
     ],
     "prompt_number": 10
    },
    {
     "cell_type": "code",
     "collapsed": false,
     "input": [
      "# create a Sereis from a Python dict\n",
      "s2 = pd.Series({'a': 1, 'b': 2, 'c': 3, 'd': 4, 'e': 5})\n",
      "s2"
     ],
     "language": "python",
     "metadata": {},
     "outputs": [
      {
       "metadata": {},
       "output_type": "pyout",
       "prompt_number": 11,
       "text": [
        "a    1\n",
        "b    2\n",
        "c    3\n",
        "d    4\n",
        "e    5\n",
        "dtype: int64"
       ]
      }
     ],
     "prompt_number": 11
    },
    {
     "cell_type": "heading",
     "level": 2,
     "metadata": {},
     "source": [
      "Size, shape, uniqueness and counts of values"
     ]
    },
    {
     "cell_type": "code",
     "collapsed": false,
     "input": [
      "# create a series\n",
      "s = pd.Series([5, 0, 1, 1, 2, 3, 4, 5, 6, np.nan])\n",
      "len(s)"
     ],
     "language": "python",
     "metadata": {},
     "outputs": [
      {
       "metadata": {},
       "output_type": "pyout",
       "prompt_number": 12,
       "text": [
        "10"
       ]
      }
     ],
     "prompt_number": 12
    },
    {
     "cell_type": "code",
     "collapsed": false,
     "input": [
      "# reports the shape, which is a tuple with len in the first value\n",
      "s.shape"
     ],
     "language": "python",
     "metadata": {},
     "outputs": [
      {
       "metadata": {},
       "output_type": "pyout",
       "prompt_number": 13,
       "text": [
        "(10,)"
       ]
      }
     ],
     "prompt_number": 13
    },
    {
     "cell_type": "code",
     "collapsed": false,
     "input": [
      "# .count() is the number of non NaN values\n",
      "s.count()"
     ],
     "language": "python",
     "metadata": {},
     "outputs": [
      {
       "metadata": {},
       "output_type": "pyout",
       "prompt_number": 14,
       "text": [
        "9"
       ]
      }
     ],
     "prompt_number": 14
    },
    {
     "cell_type": "code",
     "collapsed": false,
     "input": [
      "# all unique values\n",
      "s.unique()"
     ],
     "language": "python",
     "metadata": {},
     "outputs": [
      {
       "metadata": {},
       "output_type": "pyout",
       "prompt_number": 15,
       "text": [
        "array([  5.,   0.,   1.,   2.,   3.,   4.,   6.,  nan])"
       ]
      }
     ],
     "prompt_number": 15
    },
    {
     "cell_type": "code",
     "collapsed": false,
     "input": [
      "# all unique values and their counts\n",
      "s.value_counts()"
     ],
     "language": "python",
     "metadata": {},
     "outputs": [
      {
       "metadata": {},
       "output_type": "pyout",
       "prompt_number": 16,
       "text": [
        "5    2\n",
        "1    2\n",
        "6    1\n",
        "4    1\n",
        "3    1\n",
        "2    1\n",
        "0    1\n",
        "dtype: int64"
       ]
      }
     ],
     "prompt_number": 16
    },
    {
     "cell_type": "heading",
     "level": 2,
     "metadata": {},
     "source": [
      "Alignment via index labels"
     ]
    },
    {
     "cell_type": "code",
     "collapsed": false,
     "input": [
      "s3 = pd.Series([1, 2, 3, 4], index=['a', 'b', 'c', 'd'])\n",
      "s3"
     ],
     "language": "python",
     "metadata": {},
     "outputs": [
      {
       "metadata": {},
       "output_type": "pyout",
       "prompt_number": 17,
       "text": [
        "a    1\n",
        "b    2\n",
        "c    3\n",
        "d    4\n",
        "dtype: int64"
       ]
      }
     ],
     "prompt_number": 17
    },
    {
     "cell_type": "code",
     "collapsed": false,
     "input": [
      "s4 = pd.Series([4, 3, 2, 1], index=['d', 'c', 'b', 'a'])\n",
      "s4"
     ],
     "language": "python",
     "metadata": {},
     "outputs": [
      {
       "metadata": {},
       "output_type": "pyout",
       "prompt_number": 18,
       "text": [
        "d    4\n",
        "c    3\n",
        "b    2\n",
        "a    1\n",
        "dtype: int64"
       ]
      }
     ],
     "prompt_number": 18
    },
    {
     "cell_type": "code",
     "collapsed": false,
     "input": [
      "# add s3 and s4\n",
      "s3 + s4"
     ],
     "language": "python",
     "metadata": {},
     "outputs": [
      {
       "metadata": {},
       "output_type": "pyout",
       "prompt_number": 19,
       "text": [
        "a    2\n",
        "b    4\n",
        "c    6\n",
        "d    8\n",
        "dtype: int64"
       ]
      }
     ],
     "prompt_number": 19
    },
    {
     "cell_type": "code",
     "collapsed": false,
     "input": [
      "# see how different from adding numpy arrays\n",
      "a1 = np.array([1, 2, 3, 4])\n",
      "a2 = np.array([4, 3, 2, 1])\n",
      "a1 + a2"
     ],
     "language": "python",
     "metadata": {},
     "outputs": [
      {
       "metadata": {},
       "output_type": "pyout",
       "prompt_number": 20,
       "text": [
        "array([5, 5, 5, 5])"
       ]
      }
     ],
     "prompt_number": 20
    },
    {
     "cell_type": "heading",
     "level": 1,
     "metadata": {},
     "source": [
      "Creating a DataFrame"
     ]
    },
    {
     "cell_type": "code",
     "collapsed": false,
     "input": [
      "# create a DataFrame from a 2-d ndarray\n",
      "pd.DataFrame(np.array([[10, 11], [20, 21]]))"
     ],
     "language": "python",
     "metadata": {},
     "outputs": [
      {
       "metadata": {},
       "output_type": "pyout",
       "prompt_number": 21,
       "text": [
        "    0   1\n",
        "0  10  11\n",
        "1  20  21"
       ]
      }
     ],
     "prompt_number": 21
    },
    {
     "cell_type": "code",
     "collapsed": false,
     "input": [
      "# create a DataFrame for a list of Series objects\n",
      "df1 = pd.DataFrame([pd.Series(np.arange(10, 15)), \n",
      "                    pd.Series(np.arange(15, 20))])\n",
      "df1"
     ],
     "language": "python",
     "metadata": {},
     "outputs": [
      {
       "metadata": {},
       "output_type": "pyout",
       "prompt_number": 22,
       "text": [
        "    0   1   2   3   4\n",
        "0  10  11  12  13  14\n",
        "1  15  16  17  18  19"
       ]
      }
     ],
     "prompt_number": 22
    },
    {
     "cell_type": "code",
     "collapsed": false,
     "input": [
      "# what's the shape of this DataFrame\n",
      "df1.shape  # it is two rows by 5 columns"
     ],
     "language": "python",
     "metadata": {},
     "outputs": [
      {
       "metadata": {},
       "output_type": "pyout",
       "prompt_number": 23,
       "text": [
        "(2, 5)"
       ]
      }
     ],
     "prompt_number": 23
    },
    {
     "cell_type": "code",
     "collapsed": false,
     "input": [
      "# specify column names\n",
      "df = pd.DataFrame(np.array([[10, 11], [20, 21]]), \n",
      "                  columns=['a', 'b'])\n",
      "df"
     ],
     "language": "python",
     "metadata": {},
     "outputs": [
      {
       "metadata": {},
       "output_type": "pyout",
       "prompt_number": 24,
       "text": [
        "    a   b\n",
        "0  10  11\n",
        "1  20  21"
       ]
      }
     ],
     "prompt_number": 24
    },
    {
     "cell_type": "code",
     "collapsed": false,
     "input": [
      "# what are names of the columns?\n",
      "df.columns"
     ],
     "language": "python",
     "metadata": {},
     "outputs": [
      {
       "metadata": {},
       "output_type": "pyout",
       "prompt_number": 25,
       "text": [
        "Index([u'a', u'b'], dtype='object')"
       ]
      }
     ],
     "prompt_number": 25
    },
    {
     "cell_type": "code",
     "collapsed": false,
     "input": [
      "df.columns = ['c1', 'c2']\n",
      "df"
     ],
     "language": "python",
     "metadata": {},
     "outputs": [
      {
       "metadata": {},
       "output_type": "pyout",
       "prompt_number": 26,
       "text": [
        "   c1  c2\n",
        "0  10  11\n",
        "1  20  21"
       ]
      }
     ],
     "prompt_number": 26
    },
    {
     "cell_type": "code",
     "collapsed": false,
     "input": [
      "# create a DataFrame with named columns and rows\n",
      "df = pd.DataFrame(np.array([[0, 1], [2, 3]]), \n",
      "                  columns=['c1', 'c2'], \n",
      "                  index=['r1', 'r2'])\n",
      "df"
     ],
     "language": "python",
     "metadata": {},
     "outputs": [
      {
       "metadata": {},
       "output_type": "pyout",
       "prompt_number": 27,
       "text": [
        "    c1  c2\n",
        "r1   0   1\n",
        "r2   2   3"
       ]
      }
     ],
     "prompt_number": 27
    },
    {
     "cell_type": "code",
     "collapsed": false,
     "input": [
      "# retrieve the index of the DataFrame\n",
      "df.index"
     ],
     "language": "python",
     "metadata": {},
     "outputs": [
      {
       "metadata": {},
       "output_type": "pyout",
       "prompt_number": 28,
       "text": [
        "Index([u'r1', u'r2'], dtype='object')"
       ]
      }
     ],
     "prompt_number": 28
    },
    {
     "cell_type": "code",
     "collapsed": false,
     "input": [
      "df.values"
     ],
     "language": "python",
     "metadata": {},
     "outputs": [
      {
       "metadata": {},
       "output_type": "pyout",
       "prompt_number": 29,
       "text": [
        "array([[0, 1],\n",
        "       [2, 3]])"
       ]
      }
     ],
     "prompt_number": 29
    },
    {
     "cell_type": "code",
     "collapsed": false,
     "input": [
      "# create a DataFrame with two Series objects\n",
      "# and a dictionary\n",
      "s1 = pd.Series(np.arange(1, 6, 1))\n",
      "s2 = pd.Series(np.arange(6, 11, 1))\n",
      "pd.DataFrame({'c1': s1, 'c2': s2})"
     ],
     "language": "python",
     "metadata": {},
     "outputs": [
      {
       "metadata": {},
       "output_type": "pyout",
       "prompt_number": 30,
       "text": [
        "   c1  c2\n",
        "0   1   6\n",
        "1   2   7\n",
        "2   3   8\n",
        "3   4   9\n",
        "4   5  10"
       ]
      }
     ],
     "prompt_number": 30
    },
    {
     "cell_type": "code",
     "collapsed": false,
     "input": [
      "# demonstrate alignment during creation\n",
      "s3 = pd.Series(np.arange(12, 14), index=[1, 2])\n",
      "pd.DataFrame({'c1': s1, 'c2': s2, 'c3': s3})"
     ],
     "language": "python",
     "metadata": {},
     "outputs": [
      {
       "metadata": {},
       "output_type": "pyout",
       "prompt_number": 31,
       "text": [
        "   c1  c2  c3\n",
        "0   1   6 NaN\n",
        "1   2   7  12\n",
        "2   3   8  13\n",
        "3   4   9 NaN\n",
        "4   5  10 NaN"
       ]
      }
     ],
     "prompt_number": 31
    },
    {
     "cell_type": "heading",
     "level": 2,
     "metadata": {},
     "source": [
      "Example data"
     ]
    },
    {
     "cell_type": "code",
     "collapsed": false,
     "input": [
      "# read in the data and print the first five rows\n",
      "# use the Symbol column as the index, and \n",
      "# only read in columns in positions 0, 2, 3, 7\n",
      "sp500 = pd.read_csv(\"sp500.csv\", \n",
      "                    index_col='Symbol', \n",
      "                    usecols=[0, 2, 3, 7])"
     ],
     "language": "python",
     "metadata": {},
     "outputs": [],
     "prompt_number": 32
    },
    {
     "cell_type": "code",
     "collapsed": false,
     "input": [
      "# peek at the first 5 rows of the data using .head()\n",
      "sp500.head()"
     ],
     "language": "python",
     "metadata": {},
     "outputs": [
      {
       "metadata": {},
       "output_type": "pyout",
       "prompt_number": 33,
       "text": [
        "                        Sector   Price  Book Value\n",
        "Symbol                                            \n",
        "MMM                Industrials  141.14      26.668\n",
        "ABT                Health Care   39.60      15.573\n",
        "ABBV               Health Care   53.95       2.954\n",
        "ACN     Information Technology   79.79       8.326\n",
        "ACE                 Financials  102.91      86.897"
       ]
      }
     ],
     "prompt_number": 33
    },
    {
     "cell_type": "code",
     "collapsed": false,
     "input": [
      "# examine the index\n",
      "sp500.index"
     ],
     "language": "python",
     "metadata": {},
     "outputs": [
      {
       "metadata": {},
       "output_type": "pyout",
       "prompt_number": 34,
       "text": [
        "Index([u'MMM', u'ABT', u'ABBV', u'ACN', u'ACE', u'ACT', u'ADBE', u'AES', u'AET', u'AFL', u'A', u'GAS', u'APD', u'ARG', u'AKAM', u'AA', u'ALXN', u'ATI', u'ALLE', u'AGN', u'ADS', u'ALL', u'ALTR', u'MO', u'AMZN', u'AEE', u'AEP', u'AXP', u'AIG', u'AMT', u'AMP', u'ABC', u'AME', u'AMGN', u'APH', u'APC', u'ADI', u'AON', u'APA', u'AIV', u'AAPL', u'AMAT', u'ADM', u'AIZ', u'T', u'ADSK', u'ADP', u'AN', u'AZO', u'AVB', u'AVY', u'AVP', u'BHI', u'BLL', u'BAC', u'BCR', u'BAX', u'BBT', u'BEAM', u'BDX', u'BBBY', u'BMS', u'BRK-B', u'BBY', u'BIIB', u'BLK', u'HRB', u'BA', u'BWA', u'BXP', u'BSX', u'BMY', u'BRCM', u'BF-B', u'CA', u'CVC', u'COG', u'CAM', u'CPB', u'COF', u'CAH', u'CFN', u'KMX', u'CCL', u'CAT', u'CBG', u'CBS', u'CELG', u'CNP', u'CTL', u'CERN', u'CF', u'CHRW', u'CHK', u'CVX', u'CMG', u'CB', u'CI', u'CINF', u'CTAS', ...], dtype='object')"
       ]
      }
     ],
     "prompt_number": 34
    },
    {
     "cell_type": "heading",
     "level": 3,
     "metadata": {},
     "source": [
      "Selecting columns of a DataFrame"
     ]
    },
    {
     "cell_type": "code",
     "collapsed": false,
     "input": [
      "# get first and second columns (1 and 2) by location\n",
      "sp500[[1, 2]].head(3)"
     ],
     "language": "python",
     "metadata": {},
     "outputs": [
      {
       "metadata": {},
       "output_type": "pyout",
       "prompt_number": 35,
       "text": [
        "         Price  Book Value\n",
        "Symbol                    \n",
        "MMM     141.14      26.668\n",
        "ABT      39.60      15.573\n",
        "ABBV     53.95       2.954"
       ]
      }
     ],
     "prompt_number": 35
    },
    {
     "cell_type": "code",
     "collapsed": false,
     "input": [
      "# just the price column\n",
      "sp500[[1]].head(3)"
     ],
     "language": "python",
     "metadata": {},
     "outputs": [
      {
       "metadata": {},
       "output_type": "pyout",
       "prompt_number": 36,
       "text": [
        "         Price\n",
        "Symbol        \n",
        "MMM     141.14\n",
        "ABT      39.60\n",
        "ABBV     53.95"
       ]
      }
     ],
     "prompt_number": 36
    },
    {
     "cell_type": "code",
     "collapsed": false,
     "input": [
      "# get price column by name\n",
      "# result is a Series\n",
      "sp500['Price']"
     ],
     "language": "python",
     "metadata": {},
     "outputs": [
      {
       "metadata": {},
       "output_type": "pyout",
       "prompt_number": 37,
       "text": [
        "Symbol\n",
        "MMM     141.14\n",
        "ABT      39.60\n",
        "ABBV     53.95\n",
        "ACN      79.79\n",
        "         ...  \n",
        "YUM      74.77\n",
        "ZMH     101.84\n",
        "ZION     28.43\n",
        "ZTS      30.53\n",
        "Name: Price, dtype: float64"
       ]
      }
     ],
     "prompt_number": 37
    },
    {
     "cell_type": "code",
     "collapsed": false,
     "input": [
      "# get Price and Sector columns\n",
      "# since a list is passed, result is a DataFrame\n",
      "sp500[['Price', 'Sector']]"
     ],
     "language": "python",
     "metadata": {},
     "outputs": [
      {
       "metadata": {},
       "output_type": "pyout",
       "prompt_number": 38,
       "text": [
        "         Price                  Sector\n",
        "Symbol                                \n",
        "MMM     141.14             Industrials\n",
        "ABT      39.60             Health Care\n",
        "ABBV     53.95             Health Care\n",
        "ACN      79.79  Information Technology\n",
        "...        ...                     ...\n",
        "YUM      74.77  Consumer Discretionary\n",
        "ZMH     101.84             Health Care\n",
        "ZION     28.43              Financials\n",
        "ZTS      30.53             Health Care\n",
        "\n",
        "[500 rows x 2 columns]"
       ]
      }
     ],
     "prompt_number": 38
    },
    {
     "cell_type": "code",
     "collapsed": false,
     "input": [
      "# attribute access of column by name\n",
      "sp500.Price"
     ],
     "language": "python",
     "metadata": {},
     "outputs": [
      {
       "metadata": {},
       "output_type": "pyout",
       "prompt_number": 39,
       "text": [
        "Symbol\n",
        "MMM     141.14\n",
        "ABT      39.60\n",
        "ABBV     53.95\n",
        "ACN      79.79\n",
        "         ...  \n",
        "YUM      74.77\n",
        "ZMH     101.84\n",
        "ZION     28.43\n",
        "ZTS      30.53\n",
        "Name: Price, dtype: float64"
       ]
      }
     ],
     "prompt_number": 39
    },
    {
     "cell_type": "heading",
     "level": 2,
     "metadata": {},
     "source": [
      "Selecting rows of a DataFrame "
     ]
    },
    {
     "cell_type": "heading",
     "level": 3,
     "metadata": {},
     "source": [
      "Slicing using the [] operator"
     ]
    },
    {
     "cell_type": "code",
     "collapsed": false,
     "input": [
      "# first five rows\n",
      "sp500[:3]"
     ],
     "language": "python",
     "metadata": {},
     "outputs": [
      {
       "metadata": {},
       "output_type": "pyout",
       "prompt_number": 40,
       "text": [
        "             Sector   Price  Book Value\n",
        "Symbol                                 \n",
        "MMM     Industrials  141.14      26.668\n",
        "ABT     Health Care   39.60      15.573\n",
        "ABBV    Health Care   53.95       2.954"
       ]
      }
     ],
     "prompt_number": 40
    },
    {
     "cell_type": "code",
     "collapsed": false,
     "input": [
      "# XYL through YUM labels\n",
      "sp500['XYL':'YUM']"
     ],
     "language": "python",
     "metadata": {},
     "outputs": [
      {
       "metadata": {},
       "output_type": "pyout",
       "prompt_number": 41,
       "text": [
        "                        Sector  Price  Book Value\n",
        "Symbol                                           \n",
        "XYL                Industrials  38.42      12.127\n",
        "YHOO    Information Technology  35.02      12.768\n",
        "YUM     Consumer Discretionary  74.77       5.147"
       ]
      }
     ],
     "prompt_number": 41
    },
    {
     "cell_type": "heading",
     "level": 3,
     "metadata": {},
     "source": [
      "Selecting rows by index label and location: .loc[] and .iloc[]"
     ]
    },
    {
     "cell_type": "code",
     "collapsed": false,
     "input": [
      "# get row with label MMM\n",
      "# returned as a Series\n",
      "sp500.loc['MMM']"
     ],
     "language": "python",
     "metadata": {},
     "outputs": [
      {
       "metadata": {},
       "output_type": "pyout",
       "prompt_number": 42,
       "text": [
        "Sector        Industrials\n",
        "Price              141.14\n",
        "Book Value         26.668\n",
        "Name: MMM, dtype: object"
       ]
      }
     ],
     "prompt_number": 42
    },
    {
     "cell_type": "code",
     "collapsed": false,
     "input": [
      "# rows with label MMM and MSFT\n",
      "# this is a DataFrame result\n",
      "sp500.loc[['MMM', 'MSFT']]"
     ],
     "language": "python",
     "metadata": {},
     "outputs": [
      {
       "metadata": {},
       "output_type": "pyout",
       "prompt_number": 43,
       "text": [
        "                        Sector   Price  Book Value\n",
        "Symbol                                            \n",
        "MMM                Industrials  141.14      26.668\n",
        "MSFT    Information Technology   40.12      10.584"
       ]
      }
     ],
     "prompt_number": 43
    },
    {
     "cell_type": "code",
     "collapsed": false,
     "input": [
      "# get rows in location 0 and 2\n",
      "sp500.iloc[[0, 2]]"
     ],
     "language": "python",
     "metadata": {},
     "outputs": [
      {
       "metadata": {},
       "output_type": "pyout",
       "prompt_number": 44,
       "text": [
        "             Sector   Price  Book Value\n",
        "Symbol                                 \n",
        "MMM     Industrials  141.14      26.668\n",
        "ABBV    Health Care   53.95       2.954"
       ]
      }
     ],
     "prompt_number": 44
    },
    {
     "cell_type": "code",
     "collapsed": false,
     "input": [
      "# get the location of MMM and A in the index\n",
      "i1 = sp500.index.get_loc('MMM')\n",
      "i2 = sp500.index.get_loc('A')\n",
      "i1, i2"
     ],
     "language": "python",
     "metadata": {},
     "outputs": [
      {
       "metadata": {},
       "output_type": "pyout",
       "prompt_number": 45,
       "text": [
        "(0, 10)"
       ]
      }
     ],
     "prompt_number": 45
    },
    {
     "cell_type": "code",
     "collapsed": false,
     "input": [
      "# and get the rows\n",
      "sp500.iloc[[i1, i2]]"
     ],
     "language": "python",
     "metadata": {},
     "outputs": [
      {
       "metadata": {},
       "output_type": "pyout",
       "prompt_number": 46,
       "text": [
        "             Sector   Price  Book Value\n",
        "Symbol                                 \n",
        "MMM     Industrials  141.14      26.668\n",
        "A       Health Care   56.18      16.928"
       ]
      }
     ],
     "prompt_number": 46
    },
    {
     "cell_type": "heading",
     "level": 3,
     "metadata": {},
     "source": [
      "Selecting rows by index label and/or location: .ix[]"
     ]
    },
    {
     "cell_type": "code",
     "collapsed": false,
     "input": [
      "# by label\n",
      "sp500.ix[['MSFT', 'ZTS']]"
     ],
     "language": "python",
     "metadata": {},
     "outputs": [
      {
       "metadata": {},
       "output_type": "pyout",
       "prompt_number": 47,
       "text": [
        "                        Sector  Price  Book Value\n",
        "Symbol                                           \n",
        "MSFT    Information Technology  40.12      10.584\n",
        "ZTS                Health Care  30.53       2.150"
       ]
      }
     ],
     "prompt_number": 47
    },
    {
     "cell_type": "code",
     "collapsed": false,
     "input": [
      "# by location\n",
      "sp500.ix[[10, 200, 450]]"
     ],
     "language": "python",
     "metadata": {},
     "outputs": [
      {
       "metadata": {},
       "output_type": "pyout",
       "prompt_number": 48,
       "text": [
        "                  Sector  Price  Book Value\n",
        "Symbol                                     \n",
        "A            Health Care  56.18      16.928\n",
        "GIS     Consumer Staples  53.81      10.236\n",
        "TRV           Financials  92.86      73.056"
       ]
      }
     ],
     "prompt_number": 48
    },
    {
     "cell_type": "heading",
     "level": 3,
     "metadata": {},
     "source": [
      "Scalar lookup by label or location using .at[] and .iat[] "
     ]
    },
    {
     "cell_type": "code",
     "collapsed": false,
     "input": [
      "# by label in both the index and column\n",
      "sp500.at['MMM', 'Price']"
     ],
     "language": "python",
     "metadata": {},
     "outputs": [
      {
       "metadata": {},
       "output_type": "pyout",
       "prompt_number": 49,
       "text": [
        "141.13999999999999"
       ]
      }
     ],
     "prompt_number": 49
    },
    {
     "cell_type": "code",
     "collapsed": false,
     "input": [
      "# by location.  Row 0, column 1\n",
      "sp500.iat[0, 1]"
     ],
     "language": "python",
     "metadata": {},
     "outputs": [
      {
       "metadata": {},
       "output_type": "pyout",
       "prompt_number": 50,
       "text": [
        "141.13999999999999"
       ]
      }
     ],
     "prompt_number": 50
    },
    {
     "cell_type": "heading",
     "level": 2,
     "metadata": {},
     "source": [
      "Selecting rows using Boolean selection"
     ]
    },
    {
     "cell_type": "code",
     "collapsed": false,
     "input": [
      "# what rows have a price < 100?\n",
      "sp500.Price < 100"
     ],
     "language": "python",
     "metadata": {},
     "outputs": [
      {
       "metadata": {},
       "output_type": "pyout",
       "prompt_number": 51,
       "text": [
        "Symbol\n",
        "MMM     False\n",
        "ABT      True\n",
        "ABBV     True\n",
        "ACN      True\n",
        "        ...  \n",
        "YUM      True\n",
        "ZMH     False\n",
        "ZION     True\n",
        "ZTS      True\n",
        "Name: Price, dtype: bool"
       ]
      }
     ],
     "prompt_number": 51
    },
    {
     "cell_type": "code",
     "collapsed": false,
     "input": [
      "# now get the rows with Price < 100\n",
      "sp500[sp500.Price < 100]"
     ],
     "language": "python",
     "metadata": {},
     "outputs": [
      {
       "metadata": {},
       "output_type": "pyout",
       "prompt_number": 52,
       "text": [
        "                        Sector  Price  Book Value\n",
        "Symbol                                           \n",
        "ABT                Health Care  39.60      15.573\n",
        "ABBV               Health Care  53.95       2.954\n",
        "ACN     Information Technology  79.79       8.326\n",
        "ADBE    Information Technology  64.30      13.262\n",
        "...                        ...    ...         ...\n",
        "YHOO    Information Technology  35.02      12.768\n",
        "YUM     Consumer Discretionary  74.77       5.147\n",
        "ZION                Financials  28.43      30.191\n",
        "ZTS                Health Care  30.53       2.150\n",
        "\n",
        "[407 rows x 3 columns]"
       ]
      }
     ],
     "prompt_number": 52
    },
    {
     "cell_type": "code",
     "collapsed": false,
     "input": [
      "# get only the Price where Price is < 10 and > 0\n",
      "sp500[(sp500.Price < 10) & (sp500.Price > 0)] [['Price']]"
     ],
     "language": "python",
     "metadata": {},
     "outputs": [
      {
       "metadata": {},
       "output_type": "pyout",
       "prompt_number": 53,
       "text": [
        "        Price\n",
        "Symbol       \n",
        "FTR      5.81\n",
        "HCBK     9.80\n",
        "HBAN     9.10\n",
        "SLM      8.82\n",
        "WIN      9.38"
       ]
      }
     ],
     "prompt_number": 53
    },
    {
     "cell_type": "heading",
     "level": 2,
     "metadata": {},
     "source": [
      "Arithmetic on a DataFrame"
     ]
    },
    {
     "cell_type": "code",
     "collapsed": false,
     "input": [
      "# set the seed to allow replicatable results\n",
      "np.random.seed(123456)\n",
      "# create the DataFrame\n",
      "df = pd.DataFrame(np.random.randn(5, 4), \n",
      "                  columns=['A', 'B', 'C', 'D'])\n",
      "df"
     ],
     "language": "python",
     "metadata": {},
     "outputs": [
      {
       "metadata": {},
       "output_type": "pyout",
       "prompt_number": 54,
       "text": [
        "          A         B         C         D\n",
        "0  0.469112 -0.282863 -1.509059 -1.135632\n",
        "1  1.212112 -0.173215  0.119209 -1.044236\n",
        "2 -0.861849 -2.104569 -0.494929  1.071804\n",
        "3  0.721555 -0.706771 -1.039575  0.271860\n",
        "4 -0.424972  0.567020  0.276232 -1.087401"
       ]
      }
     ],
     "prompt_number": 54
    },
    {
     "cell_type": "code",
     "collapsed": false,
     "input": [
      "# multiply everything by 2\n",
      "df * 2"
     ],
     "language": "python",
     "metadata": {},
     "outputs": [
      {
       "metadata": {},
       "output_type": "pyout",
       "prompt_number": 55,
       "text": [
        "          A         B         C         D\n",
        "0  0.938225 -0.565727 -3.018117 -2.271265\n",
        "1  2.424224 -0.346429  0.238417 -2.088472\n",
        "2 -1.723698 -4.209138 -0.989859  2.143608\n",
        "3  1.443110 -1.413542 -2.079150  0.543720\n",
        "4 -0.849945  1.134041  0.552464 -2.174801"
       ]
      }
     ],
     "prompt_number": 55
    },
    {
     "cell_type": "code",
     "collapsed": false,
     "input": [
      "df - df.iloc[0]"
     ],
     "language": "python",
     "metadata": {},
     "outputs": [
      {
       "metadata": {},
       "output_type": "pyout",
       "prompt_number": 56,
       "text": [
        "          A         B         C         D\n",
        "0  0.000000  0.000000  0.000000  0.000000\n",
        "1  0.743000  0.109649  1.628267  0.091396\n",
        "2 -1.330961 -1.821706  1.014129  2.207436\n",
        "3  0.252443 -0.423908  0.469484  1.407492\n",
        "4 -0.894085  0.849884  1.785291  0.048232"
       ]
      }
     ],
     "prompt_number": 56
    },
    {
     "cell_type": "code",
     "collapsed": false,
     "input": [
      "# get rows 1 through three, and only B, C columns\n",
      "subframe = df[1:4][['B', 'C']]\n",
      "# we have extracted a little square in the middle of df\n",
      "subframe"
     ],
     "language": "python",
     "metadata": {},
     "outputs": [
      {
       "metadata": {},
       "output_type": "pyout",
       "prompt_number": 57,
       "text": [
        "          B         C\n",
        "1 -0.173215  0.119209\n",
        "2 -2.104569 -0.494929\n",
        "3 -0.706771 -1.039575"
       ]
      }
     ],
     "prompt_number": 57
    },
    {
     "cell_type": "code",
     "collapsed": false,
     "input": [
      "# demonstrate the alignment of the subtraction\n",
      "df - subframe"
     ],
     "language": "python",
     "metadata": {},
     "outputs": [
      {
       "metadata": {},
       "output_type": "pyout",
       "prompt_number": 58,
       "text": [
        "    A   B   C   D\n",
        "0 NaN NaN NaN NaN\n",
        "1 NaN   0   0 NaN\n",
        "2 NaN   0   0 NaN\n",
        "3 NaN   0   0 NaN\n",
        "4 NaN NaN NaN NaN"
       ]
      }
     ],
     "prompt_number": 58
    },
    {
     "cell_type": "code",
     "collapsed": false,
     "input": [
      "# get the A column\n",
      "a_col = df['A']\n",
      "df.sub(a_col, axis=0)"
     ],
     "language": "python",
     "metadata": {},
     "outputs": [
      {
       "metadata": {},
       "output_type": "pyout",
       "prompt_number": 59,
       "text": [
        "   A         B         C         D\n",
        "0  0 -0.751976 -1.978171 -1.604745\n",
        "1  0 -1.385327 -1.092903 -2.256348\n",
        "2  0 -1.242720  0.366920  1.933653\n",
        "3  0 -1.428326 -1.761130 -0.449695\n",
        "4  0  0.991993  0.701204 -0.662428"
       ]
      }
     ],
     "prompt_number": 59
    },
    {
     "cell_type": "heading",
     "level": 1,
     "metadata": {},
     "source": [
      "Reindexing Series and DataFrame objects"
     ]
    },
    {
     "cell_type": "code",
     "collapsed": false,
     "input": [
      "# create a series of five random numbers\n",
      "np.random.seed(1)\n",
      "s = pd.Series(np.random.randn(5))\n",
      "s"
     ],
     "language": "python",
     "metadata": {},
     "outputs": [
      {
       "metadata": {},
       "output_type": "pyout",
       "prompt_number": 60,
       "text": [
        "0    1.624345\n",
        "1   -0.611756\n",
        "2   -0.528172\n",
        "3   -1.072969\n",
        "4    0.865408\n",
        "dtype: float64"
       ]
      }
     ],
     "prompt_number": 60
    },
    {
     "cell_type": "code",
     "collapsed": false,
     "input": [
      "# now set the index to alpha values\n",
      "s.index = ['a', 'b', 'c', 'd', 'e']\n",
      "s"
     ],
     "language": "python",
     "metadata": {},
     "outputs": [
      {
       "metadata": {},
       "output_type": "pyout",
       "prompt_number": 61,
       "text": [
        "a    1.624345\n",
        "b   -0.611756\n",
        "c   -0.528172\n",
        "d   -1.072969\n",
        "e    0.865408\n",
        "dtype: float64"
       ]
      }
     ],
     "prompt_number": 61
    },
    {
     "cell_type": "code",
     "collapsed": false,
     "input": [
      "# reindex the copy\n",
      "s2 = s.reindex(['a', 'c', 'e', 'g'])\n",
      "# change the value at 'a'\n",
      "s2['a'] = 0\n",
      "s2"
     ],
     "language": "python",
     "metadata": {},
     "outputs": [
      {
       "metadata": {},
       "output_type": "pyout",
       "prompt_number": 62,
       "text": [
        "a    0.000000\n",
        "c   -0.528172\n",
        "e    0.865408\n",
        "g         NaN\n",
        "dtype: float64"
       ]
      }
     ],
     "prompt_number": 62
    },
    {
     "cell_type": "code",
     "collapsed": false,
     "input": [
      "s['a']"
     ],
     "language": "python",
     "metadata": {},
     "outputs": [
      {
       "metadata": {},
       "output_type": "pyout",
       "prompt_number": 63,
       "text": [
        "1.6243453636632417"
       ]
      }
     ],
     "prompt_number": 63
    },
    {
     "cell_type": "code",
     "collapsed": false,
     "input": [
      "# Series objects with string and integer index types\n",
      "# with the \"same\" values will not align\n",
      "s1 = pd.Series([0, 1, 2], index=[0, 1, 2])\n",
      "s2 = pd.Series([3, 4, 5], index=['0', '1', '2'])\n",
      "s1 + s2"
     ],
     "language": "python",
     "metadata": {},
     "outputs": [
      {
       "metadata": {},
       "output_type": "pyout",
       "prompt_number": 64,
       "text": [
        "0   NaN\n",
        "1   NaN\n",
        "2   NaN\n",
        "0   NaN\n",
        "1   NaN\n",
        "2   NaN\n",
        "dtype: float64"
       ]
      }
     ],
     "prompt_number": 64
    },
    {
     "cell_type": "code",
     "collapsed": false,
     "input": [
      "# demonstrate treating values at a specific type\n",
      "s2.index = s2.index.values.astype(int)\n",
      "s1 + s2"
     ],
     "language": "python",
     "metadata": {},
     "outputs": [
      {
       "metadata": {},
       "output_type": "pyout",
       "prompt_number": 65,
       "text": [
        "0    3\n",
        "1    5\n",
        "2    7\n",
        "dtype: int64"
       ]
      }
     ],
     "prompt_number": 65
    },
    {
     "cell_type": "code",
     "collapsed": false,
     "input": [
      "# show reindexing with filling of NaN with a specified value\n",
      "s2 = s.copy()\n",
      "s2.reindex(['a', 'f'], fill_value=0)"
     ],
     "language": "python",
     "metadata": {},
     "outputs": [
      {
       "metadata": {},
       "output_type": "pyout",
       "prompt_number": 66,
       "text": [
        "a    1.624345\n",
        "f    0.000000\n",
        "dtype: float64"
       ]
      }
     ],
     "prompt_number": 66
    },
    {
     "cell_type": "code",
     "collapsed": false,
     "input": [
      "# a Series to demonstrate reindexing\n",
      "s3 = pd.Series(['red', 'green', 'blue'], index=[0, 3, 5])\n",
      "s3"
     ],
     "language": "python",
     "metadata": {},
     "outputs": [
      {
       "metadata": {},
       "output_type": "pyout",
       "prompt_number": 67,
       "text": [
        "0      red\n",
        "3    green\n",
        "5     blue\n",
        "dtype: object"
       ]
      }
     ],
     "prompt_number": 67
    },
    {
     "cell_type": "code",
     "collapsed": false,
     "input": [
      "# forward fill (last known value technique)\n",
      "s3.reindex(np.arange(0,7), method='ffill')"
     ],
     "language": "python",
     "metadata": {},
     "outputs": [
      {
       "metadata": {},
       "output_type": "pyout",
       "prompt_number": 68,
       "text": [
        "0      red\n",
        "1      red\n",
        "2      red\n",
        "3    green\n",
        "4    green\n",
        "5     blue\n",
        "6     blue\n",
        "dtype: object"
       ]
      }
     ],
     "prompt_number": 68
    },
    {
     "cell_type": "code",
     "collapsed": false,
     "input": [
      "# demonstrate how backwards fill differs\n",
      "s3.reindex(np.arange(0,7), method='bfill')"
     ],
     "language": "python",
     "metadata": {},
     "outputs": [
      {
       "metadata": {},
       "output_type": "pyout",
       "prompt_number": 69,
       "text": [
        "0      red\n",
        "1    green\n",
        "2    green\n",
        "3    green\n",
        "4     blue\n",
        "5     blue\n",
        "6      NaN\n",
        "dtype: object"
       ]
      }
     ],
     "prompt_number": 69
    }
   ],
   "metadata": {}
  }
 ]
}