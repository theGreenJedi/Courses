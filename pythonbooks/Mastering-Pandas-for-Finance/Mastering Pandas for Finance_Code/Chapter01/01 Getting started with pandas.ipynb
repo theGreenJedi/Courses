{
 "metadata": {
  "name": "",
  "signature": "sha256:c4f1cd11c28f02e77e362548c1f5db95b8429961e7c486f1f6a54ad4479df761"
 },
 "nbformat": 3,
 "nbformat_minor": 0,
 "worksheets": [
  {
   "cells": [
    {
     "cell_type": "code",
     "collapsed": false,
     "input": [
      "# import pandas\n",
      "import pandas as pd\n",
      "\n",
      "# Set some Pandas options for output\n",
      "pd.set_option('display.notebook_repr_html', False)\n",
      "pd.set_option('display.max_columns', 10)\n",
      "pd.set_option('display.max_rows', 10)"
     ],
     "language": "python",
     "metadata": {},
     "outputs": [],
     "prompt_number": 1
    },
    {
     "cell_type": "code",
     "collapsed": false,
     "input": [
      "# create a DataFrame from a list\n",
      "df = pd.DataFrame([1, 2, 3])\n",
      "df"
     ],
     "language": "python",
     "metadata": {},
     "outputs": [
      {
       "metadata": {},
       "output_type": "pyout",
       "prompt_number": 2,
       "text": [
        "   0\n",
        "0  1\n",
        "1  2\n",
        "2  3"
       ]
      }
     ],
     "prompt_number": 2
    }
   ],
   "metadata": {}
  }
 ]
}