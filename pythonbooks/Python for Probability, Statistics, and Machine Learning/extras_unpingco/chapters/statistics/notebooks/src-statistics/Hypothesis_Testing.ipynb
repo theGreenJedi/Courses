{
 "cells": [
  {
   "cell_type": "markdown",
   "metadata": {},
   "source": [
    "## Neyman-Pearson Test"
   ]
  },
  {
   "cell_type": "code",
   "execution_count": 1,
   "metadata": {
    "collapsed": false
   },
   "outputs": [
    {
     "name": "stdout",
     "output_type": "stream",
     "text": [
      "Populating the interactive namespace from numpy and matplotlib\n"
     ]
    }
   ],
   "source": [
    "%pylab inline"
   ]
  },
  {
   "cell_type": "code",
   "execution_count": 2,
   "metadata": {
    "collapsed": true
   },
   "outputs": [],
   "source": [
    "import scipy.stats\n",
    "import pandas as pd\n",
    "import sympy as S\n",
    "from sympy import stats\n",
    "s = stats.Normal('s',1,1)\n",
    "n = stats.Normal('n',0,1)\n",
    "x = S.symbols('x',real=True)\n",
    "\n",
    "L = stats.density(s)(x)/stats.density(n)(x)\n",
    "L = S.simplify(L)"
   ]
  },
  {
   "cell_type": "code",
   "execution_count": 3,
   "metadata": {
    "collapsed": true
   },
   "outputs": [],
   "source": [
    "from IPython.display import Math"
   ]
  },
  {
   "cell_type": "code",
   "execution_count": 4,
   "metadata": {
    "collapsed": false
   },
   "outputs": [
    {
     "data": {
      "text/latex": [
       "$$e^{x - \\frac{1}{2}}$$"
      ],
      "text/plain": [
       "<IPython.core.display.Math object>"
      ]
     },
     "execution_count": 4,
     "metadata": {},
     "output_type": "execute_result"
    }
   ],
   "source": [
    "Math(S.latex(L))"
   ]
  },
  {
   "cell_type": "code",
   "execution_count": 5,
   "metadata": {
    "collapsed": false
   },
   "outputs": [],
   "source": [
    "g = S.symbols('g',positive=True)\n",
    "v=S.integrate(stats.density(n)(x),(x,S.Rational(1,2)+S.log(g),S.oo))\n",
    "v=S.simplify(v)"
   ]
  },
  {
   "cell_type": "code",
   "execution_count": 6,
   "metadata": {
    "collapsed": false
   },
   "outputs": [
    {
     "data": {
      "text/latex": [
       "$$- \\frac{1}{2} \\operatorname{erf}{\\left (\\frac{\\sqrt{2}}{4} \\left(2 \\log{\\left (g \\right )} + 1\\right) \\right )} + \\frac{1}{2}$$"
      ],
      "text/plain": [
       "<IPython.core.display.Math object>"
      ]
     },
     "execution_count": 6,
     "metadata": {},
     "output_type": "execute_result"
    }
   ],
   "source": [
    "Math(S.latex(v))"
   ]
  },
  {
   "cell_type": "code",
   "execution_count": 7,
   "metadata": {
    "collapsed": true
   },
   "outputs": [],
   "source": [
    "from scipy.special import erf\n",
    "fv=S.lambdify(g,v-0.01,[numpy,{'erf':erf}])"
   ]
  },
  {
   "cell_type": "code",
   "execution_count": 8,
   "metadata": {
    "collapsed": false
   },
   "outputs": [],
   "source": [
    "from scipy.optimize import fsolve\n",
    "sol,=fsolve(fv,.1)"
   ]
  },
  {
   "cell_type": "code",
   "execution_count": 9,
   "metadata": {
    "collapsed": false
   },
   "outputs": [
    {
     "data": {
      "text/plain": [
       "6.2111612425328078"
      ]
     },
     "execution_count": 9,
     "metadata": {},
     "output_type": "execute_result"
    }
   ],
   "source": [
    "sol"
   ]
  },
  {
   "cell_type": "code",
   "execution_count": 10,
   "metadata": {
    "collapsed": false
   },
   "outputs": [
    {
     "data": {
      "text/plain": [
       "mpf('6.2111612425328408')"
      ]
     },
     "execution_count": 10,
     "metadata": {},
     "output_type": "execute_result"
    }
   ],
   "source": [
    "S.nsolve(v-0.01,3)"
   ]
  },
  {
   "cell_type": "code",
   "execution_count": 11,
   "metadata": {
    "collapsed": false
   },
   "outputs": [
    {
     "data": {
      "text/plain": [
       "<matplotlib.collections.LineCollection at 0x18bb6240>"
      ]
     },
     "execution_count": 11,
     "metadata": {},
     "output_type": "execute_result"
    },
    {
     "data": {
      "image/png": "[encoded data removed]",
      "text/plain": [
       "<matplotlib.figure.Figure at 0xa8f7860>"
      ]
     },
     "metadata": {},
     "output_type": "display_data"
    }
   ],
   "source": [
    "xi = np.linspace(0,10,50)\n",
    "plot(xi,fv(xi),'k-')\n",
    "plot(6.211,fv(6.211),'o',ms=13,color='k')\n",
    "hlines(0,0,10,linestyles='--')"
   ]
  },
  {
   "cell_type": "markdown",
   "metadata": {
    "collapsed": true
   },
   "source": [
    "##  Generalized Likelihood Ratio test"
   ]
  },
  {
   "cell_type": "markdown",
   "metadata": {},
   "source": [
    "$$ \\Lambda = \\frac{\\sup_{\\theta\\in\\Theta_0}L(\\theta)}{\\sup_\\theta L(\\theta)}$$"
   ]
  },
  {
   "cell_type": "code",
   "execution_count": 12,
   "metadata": {
    "collapsed": false
   },
   "outputs": [],
   "source": [
    "p = S.symbols('p',positive=True)\n",
    "k = S.symbols('k',integer=True,positive=True)\n",
    "n = 12\n",
    "\n",
    "b=stats.Binomial('b',n,p)"
   ]
  },
  {
   "cell_type": "code",
   "execution_count": 13,
   "metadata": {
    "collapsed": true
   },
   "outputs": [],
   "source": [
    "from IPython.display import Math"
   ]
  },
  {
   "cell_type": "code",
   "execution_count": 14,
   "metadata": {
    "collapsed": true
   },
   "outputs": [],
   "source": [
    "v = stats.density(b)(k)"
   ]
  },
  {
   "cell_type": "code",
   "execution_count": 15,
   "metadata": {
    "collapsed": false
   },
   "outputs": [
    {
     "data": {
      "text/plain": [
       "(k0, k1, k2)"
      ]
     },
     "execution_count": 15,
     "metadata": {},
     "output_type": "execute_result"
    }
   ],
   "source": [
    "n0,n1,n2=5,6,7\n",
    "S.var('k:3')"
   ]
  },
  {
   "cell_type": "code",
   "execution_count": 16,
   "metadata": {
    "collapsed": true
   },
   "outputs": [],
   "source": [
    "numer=1\n",
    "for ni,ki in zip((n0,n1,n2),(k0,k1,k2)):\n",
    "    numer*=stats.density(b.subs(n,ni))(ki)\n",
    "numer=numer.subs(p,(k0+k1+k2)/(n0+n1+n2))\n",
    "\n",
    "denom=1\n",
    "for ni,ki in zip((n0,n1,n2),(k0,k1,k2)):\n",
    "    denom*=stats.density(b.subs(n,ni))(ki).subs(p,ki/ni)\n"
   ]
  },
  {
   "cell_type": "code",
   "execution_count": 17,
   "metadata": {
    "collapsed": false
   },
   "outputs": [
    {
     "data": {
      "text/latex": [
       "$$\\left(\\begin{cases} \\left(- \\frac{k_{0}}{18} - \\frac{k_{1}}{18} - \\frac{k_{2}}{18} + 1\\right)^{5} & \\text{for}\\: 0 = k_{0} \\\\5 \\left(\\frac{k_{0}}{18} + \\frac{k_{1}}{18} + \\frac{k_{2}}{18}\\right) \\left(- \\frac{k_{0}}{18} - \\frac{k_{1}}{18} - \\frac{k_{2}}{18} + 1\\right)^{4} & \\text{for}\\: 1 = k_{0} \\\\10 \\left(\\frac{k_{0}}{18} + \\frac{k_{1}}{18} + \\frac{k_{2}}{18}\\right)^{2} \\left(- \\frac{k_{0}}{18} - \\frac{k_{1}}{18} - \\frac{k_{2}}{18} + 1\\right)^{3} & \\text{for}\\: 2 = k_{0} \\\\10 \\left(\\frac{k_{0}}{18} + \\frac{k_{1}}{18} + \\frac{k_{2}}{18}\\right)^{3} \\left(- \\frac{k_{0}}{18} - \\frac{k_{1}}{18} - \\frac{k_{2}}{18} + 1\\right)^{2} & \\text{for}\\: 3 = k_{0} \\\\5 \\left(\\frac{k_{0}}{18} + \\frac{k_{1}}{18} + \\frac{k_{2}}{18}\\right)^{4} \\left(- \\frac{k_{0}}{18} - \\frac{k_{1}}{18} - \\frac{k_{2}}{18} + 1\\right) & \\text{for}\\: 4 = k_{0} \\\\\\left(\\frac{k_{0}}{18} + \\frac{k_{1}}{18} + \\frac{k_{2}}{18}\\right)^{5} & \\text{for}\\: 5 = k_{0} \\\\0 & \\text{otherwise} \\end{cases}\\right) \\left(\\begin{cases} \\left(- \\frac{k_{0}}{18} - \\frac{k_{1}}{18} - \\frac{k_{2}}{18} + 1\\right)^{6} & \\text{for}\\: 0 = k_{1} \\\\6 \\left(\\frac{k_{0}}{18} + \\frac{k_{1}}{18} + \\frac{k_{2}}{18}\\right) \\left(- \\frac{k_{0}}{18} - \\frac{k_{1}}{18} - \\frac{k_{2}}{18} + 1\\right)^{5} & \\text{for}\\: 1 = k_{1} \\\\15 \\left(\\frac{k_{0}}{18} + \\frac{k_{1}}{18} + \\frac{k_{2}}{18}\\right)^{2} \\left(- \\frac{k_{0}}{18} - \\frac{k_{1}}{18} - \\frac{k_{2}}{18} + 1\\right)^{4} & \\text{for}\\: 2 = k_{1} \\\\20 \\left(\\frac{k_{0}}{18} + \\frac{k_{1}}{18} + \\frac{k_{2}}{18}\\right)^{3} \\left(- \\frac{k_{0}}{18} - \\frac{k_{1}}{18} - \\frac{k_{2}}{18} + 1\\right)^{3} & \\text{for}\\: 3 = k_{1} \\\\15 \\left(\\frac{k_{0}}{18} + \\frac{k_{1}}{18} + \\frac{k_{2}}{18}\\right)^{4} \\left(- \\frac{k_{0}}{18} - \\frac{k_{1}}{18} - \\frac{k_{2}}{18} + 1\\right)^{2} & \\text{for}\\: 4 = k_{1} \\\\6 \\left(\\frac{k_{0}}{18} + \\frac{k_{1}}{18} + \\frac{k_{2}}{18}\\right)^{5} \\left(- \\frac{k_{0}}{18} - \\frac{k_{1}}{18} - \\frac{k_{2}}{18} + 1\\right) & \\text{for}\\: 5 = k_{1} \\\\\\left(\\frac{k_{0}}{18} + \\frac{k_{1}}{18} + \\frac{k_{2}}{18}\\right)^{6} & \\text{for}\\: 6 = k_{1} \\\\0 & \\text{otherwise} \\end{cases}\\right) \\begin{cases} \\left(- \\frac{k_{0}}{18} - \\frac{k_{1}}{18} - \\frac{k_{2}}{18} + 1\\right)^{7} & \\text{for}\\: 0 = k_{2} \\\\7 \\left(\\frac{k_{0}}{18} + \\frac{k_{1}}{18} + \\frac{k_{2}}{18}\\right) \\left(- \\frac{k_{0}}{18} - \\frac{k_{1}}{18} - \\frac{k_{2}}{18} + 1\\right)^{6} & \\text{for}\\: 1 = k_{2} \\\\21 \\left(\\frac{k_{0}}{18} + \\frac{k_{1}}{18} + \\frac{k_{2}}{18}\\right)^{2} \\left(- \\frac{k_{0}}{18} - \\frac{k_{1}}{18} - \\frac{k_{2}}{18} + 1\\right)^{5} & \\text{for}\\: 2 = k_{2} \\\\35 \\left(\\frac{k_{0}}{18} + \\frac{k_{1}}{18} + \\frac{k_{2}}{18}\\right)^{3} \\left(- \\frac{k_{0}}{18} - \\frac{k_{1}}{18} - \\frac{k_{2}}{18} + 1\\right)^{4} & \\text{for}\\: 3 = k_{2} \\\\35 \\left(\\frac{k_{0}}{18} + \\frac{k_{1}}{18} + \\frac{k_{2}}{18}\\right)^{4} \\left(- \\frac{k_{0}}{18} - \\frac{k_{1}}{18} - \\frac{k_{2}}{18} + 1\\right)^{3} & \\text{for}\\: 4 = k_{2} \\\\21 \\left(\\frac{k_{0}}{18} + \\frac{k_{1}}{18} + \\frac{k_{2}}{18}\\right)^{5} \\left(- \\frac{k_{0}}{18} - \\frac{k_{1}}{18} - \\frac{k_{2}}{18} + 1\\right)^{2} & \\text{for}\\: 5 = k_{2} \\\\7 \\left(\\frac{k_{0}}{18} + \\frac{k_{1}}{18} + \\frac{k_{2}}{18}\\right)^{6} \\left(- \\frac{k_{0}}{18} - \\frac{k_{1}}{18} - \\frac{k_{2}}{18} + 1\\right) & \\text{for}\\: 6 = k_{2} \\\\\\left(\\frac{k_{0}}{18} + \\frac{k_{1}}{18} + \\frac{k_{2}}{18}\\right)^{7} & \\text{for}\\: 7 = k_{2} \\\\0 & \\text{otherwise} \\end{cases}$$"
      ],
      "text/plain": [
       "<IPython.core.display.Math object>"
      ]
     },
     "execution_count": 17,
     "metadata": {},
     "output_type": "execute_result"
    }
   ],
   "source": [
    "Math(S.latex(numer))"
   ]
  },
  {
   "cell_type": "code",
   "execution_count": 18,
   "metadata": {
    "collapsed": false
   },
   "outputs": [
    {
     "data": {
      "text/latex": [
       "$$\\left(\\begin{cases} \\left(- \\frac{k_{0}}{5} + 1\\right)^{5} & \\text{for}\\: 0 = k_{0} \\\\k_{0} \\left(- \\frac{k_{0}}{5} + 1\\right)^{4} & \\text{for}\\: 1 = k_{0} \\\\\\frac{2 k_{0}^{2}}{5} \\left(- \\frac{k_{0}}{5} + 1\\right)^{3} & \\text{for}\\: 2 = k_{0} \\\\\\frac{2 k_{0}^{3}}{25} \\left(- \\frac{k_{0}}{5} + 1\\right)^{2} & \\text{for}\\: 3 = k_{0} \\\\\\frac{k_{0}^{4}}{125} \\left(- \\frac{k_{0}}{5} + 1\\right) & \\text{for}\\: 4 = k_{0} \\\\\\frac{k_{0}^{5}}{3125} & \\text{for}\\: 5 = k_{0} \\\\0 & \\text{otherwise} \\end{cases}\\right) \\left(\\begin{cases} \\left(- \\frac{k_{1}}{6} + 1\\right)^{6} & \\text{for}\\: 0 = k_{1} \\\\k_{1} \\left(- \\frac{k_{1}}{6} + 1\\right)^{5} & \\text{for}\\: 1 = k_{1} \\\\\\frac{5 k_{1}^{2}}{12} \\left(- \\frac{k_{1}}{6} + 1\\right)^{4} & \\text{for}\\: 2 = k_{1} \\\\\\frac{5 k_{1}^{3}}{54} \\left(- \\frac{k_{1}}{6} + 1\\right)^{3} & \\text{for}\\: 3 = k_{1} \\\\\\frac{5 k_{1}^{4}}{432} \\left(- \\frac{k_{1}}{6} + 1\\right)^{2} & \\text{for}\\: 4 = k_{1} \\\\\\frac{k_{1}^{5}}{1296} \\left(- \\frac{k_{1}}{6} + 1\\right) & \\text{for}\\: 5 = k_{1} \\\\\\frac{k_{1}^{6}}{46656} & \\text{for}\\: 6 = k_{1} \\\\0 & \\text{otherwise} \\end{cases}\\right) \\begin{cases} \\left(- \\frac{k_{2}}{7} + 1\\right)^{7} & \\text{for}\\: 0 = k_{2} \\\\k_{2} \\left(- \\frac{k_{2}}{7} + 1\\right)^{6} & \\text{for}\\: 1 = k_{2} \\\\\\frac{3 k_{2}^{2}}{7} \\left(- \\frac{k_{2}}{7} + 1\\right)^{5} & \\text{for}\\: 2 = k_{2} \\\\\\frac{5 k_{2}^{3}}{49} \\left(- \\frac{k_{2}}{7} + 1\\right)^{4} & \\text{for}\\: 3 = k_{2} \\\\\\frac{5 k_{2}^{4}}{343} \\left(- \\frac{k_{2}}{7} + 1\\right)^{3} & \\text{for}\\: 4 = k_{2} \\\\\\frac{3 k_{2}^{5}}{2401} \\left(- \\frac{k_{2}}{7} + 1\\right)^{2} & \\text{for}\\: 5 = k_{2} \\\\\\frac{k_{2}^{6}}{16807} \\left(- \\frac{k_{2}}{7} + 1\\right) & \\text{for}\\: 6 = k_{2} \\\\\\frac{k_{2}^{7}}{823543} & \\text{for}\\: 7 = k_{2} \\\\0 & \\text{otherwise} \\end{cases}$$"
      ],
      "text/plain": [
       "<IPython.core.display.Math object>"
      ]
     },
     "execution_count": 18,
     "metadata": {},
     "output_type": "execute_result"
    }
   ],
   "source": [
    "Math(S.latex(denom))"
   ]
  },
  {
   "cell_type": "code",
   "execution_count": 19,
   "metadata": {
    "collapsed": true
   },
   "outputs": [],
   "source": [
    "foo=S.lambdify((k0,k1,k2),numer/denom) # Lambda function"
   ]
  },
  {
   "cell_type": "code",
   "execution_count": 20,
   "metadata": {
    "collapsed": false
   },
   "outputs": [],
   "source": [
    "p0,p1,p2 = 0.3,.4,.5\n",
    "\n",
    "brvs= [ scipy.stats.binom(i,j) for i,j in zip((n0,n1,n2),(p0,p1,p2))]\n",
    "def gen_sample(n=1):\n",
    "    if n==1:\n",
    "        return [i.rvs() for i in brvs]\n",
    "    else:\n",
    "        out = [gen_sample() for k in range(n)]\n",
    "        return out"
   ]
  },
  {
   "cell_type": "code",
   "execution_count": 21,
   "metadata": {
    "collapsed": false
   },
   "outputs": [],
   "source": [
    "import itertools as it\n",
    "out=[]\n",
    "for i,j,k in it.product(range(n0+1),range(n1+1),range(n2+1)):\n",
    "    out.append( ('{:2.8f}'.format(foo(i,j,k)),(i,j,k)))"
   ]
  },
  {
   "cell_type": "code",
   "execution_count": 22,
   "metadata": {
    "collapsed": true
   },
   "outputs": [],
   "source": [
    "from collections import defaultdict\n",
    "\n",
    "d= defaultdict(list)\n",
    "for i,j in out:\n",
    "    d[i].append(j)\n",
    "d=dict(d)"
   ]
  },
  {
   "cell_type": "code",
   "execution_count": 23,
   "metadata": {
    "collapsed": true
   },
   "outputs": [],
   "source": [
    "# rebuild numer for symbolic p\n",
    "numer=1\n",
    "for ni,ki in zip((n0,n1,n2),(k0,k1,k2)):\n",
    "    numer*=stats.density(b.subs(n,ni))(ki)\n",
    "    \n",
    "nfoo=S.lambdify((k0,k1,k2),numer)"
   ]
  },
  {
   "cell_type": "code",
   "execution_count": 24,
   "metadata": {
    "collapsed": true
   },
   "outputs": [],
   "source": [
    "# rebuild denom for symbolic p\n",
    "\n",
    "denom=1\n",
    "for pi,ni,ki in zip(S.symbols('p:3'),(n0,n1,n2),(k0,k1,k2)):\n",
    "    denom*=stats.density(b.subs([(n,ni),(p,pi)]))(ki)\n",
    "    \n",
    "dfoo=S.lambdify((k0,k1,k2),denom)"
   ]
  },
  {
   "cell_type": "code",
   "execution_count": 25,
   "metadata": {
    "collapsed": false
   },
   "outputs": [],
   "source": [
    "# Lambda density equivalence class\n",
    "ds=pd.Series({float(i):j for i,j in d.iteritems()})\n"
   ]
  },
  {
   "cell_type": "code",
   "execution_count": 26,
   "metadata": {
    "collapsed": false
   },
   "outputs": [],
   "source": [
    "# accept H1 on these\n",
    "accept_H1=set(sum((ds[ds.index < .05].tolist())))"
   ]
  },
  {
   "cell_type": "code",
   "execution_count": 27,
   "metadata": {
    "collapsed": true
   },
   "outputs": [],
   "source": [
    "ds.name='sets'\n",
    "df=ds.reset_index('sets') # reconstruct  ds as DataFrame\n",
    "df.set_index('index',inplace=True)"
   ]
  },
  {
   "cell_type": "code",
   "execution_count": 28,
   "metadata": {
    "collapsed": false
   },
   "outputs": [],
   "source": [
    "df['p']=df.sets.map(lambda i:sum([nfoo(*k) for k in i]))\n",
    "df['pk']=df.sets.map(lambda i:sum([dfoo(*k) for k in i]))"
   ]
  },
  {
   "cell_type": "code",
   "execution_count": 29,
   "metadata": {
    "collapsed": false
   },
   "outputs": [
    {
     "data": {
      "image/png": "[encoded data removed]",
      "text/plain": [
       "<matplotlib.figure.Figure at 0x18e2ddd8>"
      ]
     },
     "metadata": {},
     "output_type": "display_data"
    },
    {
     "data": {
      "text/plain": [
       "<sympy.plotting.plot.Plot at 0x18e2d438>"
      ]
     },
     "execution_count": 29,
     "metadata": {},
     "output_type": "execute_result"
    }
   ],
   "source": [
    "S.plot(df[df.index < .3].p.sum(),(p,0,1),title='false alarm rate',ylim=(0,1))"
   ]
  },
  {
   "cell_type": "code",
   "execution_count": 30,
   "metadata": {
    "collapsed": false
   },
   "outputs": [
    {
     "data": {
      "text/plain": [
       "0.45700000000000002"
      ]
     },
     "execution_count": 30,
     "metadata": {},
     "output_type": "execute_result"
    }
   ],
   "source": [
    "mean([foo(*i)<0.3 for i in gen_sample(1000)])"
   ]
  },
  {
   "cell_type": "code",
   "execution_count": 31,
   "metadata": {
    "collapsed": false
   },
   "outputs": [
    {
     "data": {
      "text/plain": [
       "<matplotlib.text.Text at 0x19189eb8>"
      ]
     },
     "execution_count": 31,
     "metadata": {},
     "output_type": "execute_result"
    },
    {
     "data": {
      "image/png": "[encoded data removed]",
      "text/plain": [
       "<matplotlib.figure.Figure at 0x1939ebe0>"
      ]
     },
     "metadata": {},
     "output_type": "display_data"
    }
   ],
   "source": [
    "fig,ax=subplots()\n",
    "tmp=df.pk.map(lambda i:i.subs([('p0',p0),('p1',p1),('p2',p2)])).astype(float).cumsum()\n",
    "tmp.plot(ax=ax)\n",
    "ax.axis(xmin=0,xmax=1,ymax=1)\n",
    "ax.set_title('probability of detection/false-alarm')\n",
    "ax.set_xlabel('threshold')\n",
    "\n",
    "\n",
    "tmpfa=df.p.map(lambda i:i.subs(p,0.5)).astype(float).cumsum()\n",
    "tmpfa.plot(ax=ax)\n",
    "ax.axis(xmin=0,xmax=1,ymax=1)\n",
    "ax.set_xlabel('threshold')"
   ]
  },
  {
   "cell_type": "code",
   "execution_count": 32,
   "metadata": {
    "collapsed": false
   },
   "outputs": [
    {
     "data": {
      "text/plain": [
       "[<matplotlib.lines.Line2D at 0x196e9da0>]"
      ]
     },
     "execution_count": 32,
     "metadata": {},
     "output_type": "execute_result"
    },
    {
     "data": {
      "image/png": "[encoded data removed]",
      "text/plain": [
       "<matplotlib.figure.Figure at 0x1939eb38>"
      ]
     },
     "metadata": {},
     "output_type": "display_data"
    }
   ],
   "source": [
    "fig,ax=subplots()\n",
    "ax.plot(tmpfa.values,tmp.values)\n",
    "ax.set_aspect(1)\n",
    "ax.axis(xmax=1,ymax=1)\n",
    "ax.plot(linspace(0,1,10),linspace(0,1,10))"
   ]
  },
  {
   "cell_type": "markdown",
   "metadata": {
    "collapsed": true
   },
   "source": [
    "## Sample-based example"
   ]
  },
  {
   "cell_type": "code",
   "execution_count": 76,
   "metadata": {
    "collapsed": false
   },
   "outputs": [],
   "source": [
    "p0,p1,p2 = 0.3,.4,.5\n",
    "n0,n1,n2 = 50,180,200\n",
    "\n",
    "brvs= [ scipy.stats.binom(i,j) for i,j in zip((n0,n1,n2),(p0,p1,p2))]\n",
    "def gen_sample(n=1):\n",
    "    if n==1:\n",
    "        return [i.rvs() for i in brvs]\n",
    "    else:\n",
    "        out = [gen_sample() for k in range(n)]\n",
    "        return out"
   ]
  },
  {
   "cell_type": "code",
   "execution_count": 77,
   "metadata": {
    "collapsed": false
   },
   "outputs": [
    {
     "data": {
      "text/plain": [
       "[14, 68, 107]"
      ]
     },
     "execution_count": 77,
     "metadata": {},
     "output_type": "execute_result"
    }
   ],
   "source": [
    "gen_sample()"
   ]
  },
  {
   "cell_type": "code",
   "execution_count": 85,
   "metadata": {
    "collapsed": true
   },
   "outputs": [],
   "source": [
    "k0,k1,k2 = gen_sample()\n",
    "# k0,k1,k2,k3 = 41,26,13,17\n",
    "# n0,n1,n2,n3 = 219,102,95,49\n",
    "# Mathematica_Laboratories_for_Mathematical_Statistics_Baglivo.pdf, p.127\n",
    "\n",
    "numer=1\n",
    "for ni,ki in zip((n0,n1,n2),(k0,k1,k2)):\n",
    "    numer*=stats.density(b.subs(n,ni))(ki)\n",
    "numer=numer.subs(p,(k0+k1+k2)/(n0+n1+n2))\n",
    "\n",
    "denom=1\n",
    "for ni,ki in zip((n0,n1,n2),(k0,k1,k2)):\n",
    "    denom*=stats.density(b.subs(n,ni))(ki).subs(p,ki/ni)"
   ]
  },
  {
   "cell_type": "code",
   "execution_count": 86,
   "metadata": {
    "collapsed": false
   },
   "outputs": [
    {
     "name": "stdout",
     "output_type": "stream",
     "text": [
      "8.05450847975\n",
      "0.0178232010635\n",
      "5.99146454711\n"
     ]
    }
   ],
   "source": [
    "chsq=scipy.stats.chi2(2)\n",
    "Lambda =-2*np.log(float(numer/denom))\n",
    "print Lambda\n",
    "print 1- chsq.cdf(Lambda)\n",
    "print chsq.isf(.05)"
   ]
  },
  {
   "cell_type": "code",
   "execution_count": null,
   "metadata": {
    "collapsed": true
   },
   "outputs": [],
   "source": []
  }
 ],
 "metadata": {
  "kernelspec": {
   "display_name": "Python 2",
   "language": "python",
   "name": "python2"
  },
  "language_info": {
   "codemirror_mode": {
    "name": "ipython",
    "version": 2
   },
   "file_extension": ".py",
   "mimetype": "text/x-python",
   "name": "python",
   "nbconvert_exporter": "python",
   "pygments_lexer": "ipython2",
   "version": "2.7.10"
  }
 },
 "nbformat": 4,
 "nbformat_minor": 0
}
