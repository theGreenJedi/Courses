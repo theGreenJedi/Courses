{
 "cells": [
  {
   "cell_type": "code",
   "execution_count": 1,
   "metadata": {
    "collapsed": false
   },
   "outputs": [
    {
     "name": "stdout",
     "output_type": "stream",
     "text": [
      "Populating the interactive namespace from numpy and matplotlib\n"
     ]
    }
   ],
   "source": [
    "%pylab inline\n",
    "rcParams['font.family']='serif'"
   ]
  },
  {
   "cell_type": "markdown",
   "metadata": {},
   "source": [
    "### Almost Sure Convergence example "
   ]
  },
  {
   "cell_type": "code",
   "execution_count": 2,
   "metadata": {
    "collapsed": false
   },
   "outputs": [],
   "source": [
    "from scipy import stats\n",
    "np.random.seed(123456)\n",
    "u=stats.uniform()\n",
    "xn = lambda i: u.rvs(i).max()"
   ]
  },
  {
   "cell_type": "code",
   "execution_count": 3,
   "metadata": {
    "collapsed": false
   },
   "outputs": [
    {
     "data": {
      "text/plain": [
       "0.96671783848200299"
      ]
     },
     "execution_count": 3,
     "metadata": {},
     "output_type": "execute_result"
    }
   ],
   "source": [
    "xn(3)"
   ]
  },
  {
   "cell_type": "code",
   "execution_count": 4,
   "metadata": {
    "collapsed": false
   },
   "outputs": [
    {
     "data": {
      "image/png": "[encoded data removed]",
      "text/plain": [
       "<matplotlib.figure.Figure at 0x733ad50>"
      ]
     },
     "metadata": {},
     "output_type": "display_data"
    }
   ],
   "source": [
    "fig,ax = subplots()\n",
    "for i in range(50):\n",
    "    ax.plot(map(xn,range(1,100)),color='gray',alpha=.3)\n",
    "ax.axis(xmin=0,ymax=1.1)\n",
    "ax.hlines(.95,0,100,lw=3.)\n",
    "ax.set_xlabel(r'$n$',fontsize=18,fontdict={'family':'serif'})\n",
    "ax.set_ylabel(r'$\\max \\lbrace X_1,X_2,\\ldots,X_n\\rbrace$',fontsize=18)\n",
    "\n",
    "# from matplotlib.font_manager import FontProperties\n",
    "# ticks_font=FontProperties(family='serif',style='normal',size=12,weight='normal',stretch='normal')\n",
    "# for label in ax.get_xticklabels():\n",
    "#     label.set_fontproperties(ticks_font)\n",
    "# for label in ax.get_yticklabels():\n",
    "#     label.set_fontproperties(ticks_font)\n",
    "    \n",
    "fig.savefig('../fig-statistics/Convergence_001.png',dpi=120)\n"
   ]
  },
  {
   "cell_type": "code",
   "execution_count": 5,
   "metadata": {
    "collapsed": false
   },
   "outputs": [
    {
     "data": {
      "text/plain": [
       "0.98899999999999999"
      ]
     },
     "execution_count": 5,
     "metadata": {},
     "output_type": "execute_result"
    }
   ],
   "source": [
    "mean([xn(90) > 0.95 for i in range(1000)])"
   ]
  },
  {
   "cell_type": "code",
   "execution_count": 6,
   "metadata": {
    "collapsed": false
   },
   "outputs": [
    {
     "data": {
      "text/plain": [
       "89.781134960709679"
      ]
     },
     "execution_count": 6,
     "metadata": {},
     "output_type": "execute_result"
    }
   ],
   "source": [
    "np.log(1-.99)/np.log(.95)"
   ]
  },
  {
   "cell_type": "markdown",
   "metadata": {},
   "source": [
    "## Convergence in Probability Example "
   ]
  },
  {
   "cell_type": "code",
   "execution_count": 7,
   "metadata": {
    "collapsed": false
   },
   "outputs": [],
   "source": [
    "def make_interval(n):\n",
    "    return np.array(zip(range(n+1),range(1,n+1)))/n"
   ]
  },
  {
   "cell_type": "code",
   "execution_count": 8,
   "metadata": {
    "collapsed": false
   },
   "outputs": [
    {
     "data": {
      "text/plain": [
       "array([ 0.71124094])"
      ]
     },
     "execution_count": 8,
     "metadata": {},
     "output_type": "execute_result"
    }
   ],
   "source": [
    "u.rvs(1)"
   ]
  },
  {
   "cell_type": "code",
   "execution_count": 9,
   "metadata": {
    "collapsed": false
   },
   "outputs": [
    {
     "data": {
      "text/plain": [
       "array([[ 0.        ,  1.        ],\n",
       "       [ 0.        ,  0.5       ],\n",
       "       [ 0.5       ,  1.        ],\n",
       "       [ 0.        ,  0.33333333],\n",
       "       [ 0.33333333,  0.66666667],\n",
       "       [ 0.66666667,  1.        ],\n",
       "       [ 0.        ,  0.25      ],\n",
       "       [ 0.25      ,  0.5       ],\n",
       "       [ 0.5       ,  0.75      ],\n",
       "       [ 0.75      ,  1.        ]])"
      ]
     },
     "execution_count": 9,
     "metadata": {},
     "output_type": "execute_result"
    }
   ],
   "source": [
    "intervals= np.vstack([make_interval(i) for i in range(1,5)])\n",
    "intervals"
   ]
  },
  {
   "cell_type": "code",
   "execution_count": 10,
   "metadata": {
    "collapsed": false
   },
   "outputs": [],
   "source": [
    "bits= lambda u:((intervals[:,0] < u) & (u<=intervals[:,1])).astype(int)"
   ]
  },
  {
   "cell_type": "code",
   "execution_count": 11,
   "metadata": {
    "collapsed": false
   },
   "outputs": [
    {
     "data": {
      "text/plain": [
       "array([[1, 1, 0, 1, 0, 0, 1, 0, 0, 0],\n",
       "       [1, 0, 1, 0, 1, 0, 0, 0, 1, 0],\n",
       "       [1, 1, 0, 1, 0, 0, 1, 0, 0, 0],\n",
       "       [1, 1, 0, 0, 1, 0, 0, 1, 0, 0],\n",
       "       [1, 1, 0, 1, 0, 0, 0, 1, 0, 0],\n",
       "       [1, 1, 0, 1, 0, 0, 0, 1, 0, 0],\n",
       "       [1, 0, 1, 0, 1, 0, 0, 0, 1, 0],\n",
       "       [1, 0, 1, 0, 1, 0, 0, 0, 1, 0],\n",
       "       [1, 0, 1, 0, 1, 0, 0, 0, 1, 0],\n",
       "       [1, 1, 0, 1, 0, 0, 0, 1, 0, 0]])"
      ]
     },
     "execution_count": 11,
     "metadata": {},
     "output_type": "execute_result"
    }
   ],
   "source": [
    "np.vstack([bits(u.rvs()) for i in range(10)])"
   ]
  },
  {
   "cell_type": "code",
   "execution_count": 12,
   "metadata": {
    "collapsed": false
   },
   "outputs": [
    {
     "data": {
      "image/png": "[encoded data removed]",
      "text/plain": [
       "<matplotlib.figure.Figure at 0xe204a90>"
      ]
     },
     "metadata": {},
     "output_type": "display_data"
    }
   ],
   "source": [
    "fig,ax=subplots()\n",
    "intervals= np.vstack([make_interval(i) for i in range(1,10)])\n",
    "v=vstack([bits(u.rvs()) for i in range(1000)]).mean(axis=0)\n",
    "# bar(range(1,v.shape[0]+1),v,align='center',color='gray')\n",
    "ax.plot(range(1,len(v)+1),v,color='k',marker='o')\n",
    "ax.axis(ymin=0,ymax=1.05)\n",
    "ax.set_xlabel(r'$n$',fontsize=18,fontdict={'family':'serif'})\n",
    "ax.set_ylabel('Probability',fontsize=18)\n",
    "fig.savefig('../fig-statistics/Convergence_002.png',dpi=120)\n"
   ]
  },
  {
   "cell_type": "code",
   "execution_count": 13,
   "metadata": {
    "collapsed": false
   },
   "outputs": [
    {
     "data": {
      "text/plain": [
       "array([1, 0, 1, 0, 0, 1, 0, 0, 0, 1, 0, 0, 0, 0, 1, 0, 0, 0, 0, 0, 1, 0, 0,\n",
       "       0, 0, 0, 0, 1, 0, 0, 0, 0, 0, 0, 0, 1, 0, 0, 0, 0, 0, 0, 0, 1, 0])"
      ]
     },
     "execution_count": 13,
     "metadata": {},
     "output_type": "execute_result"
    }
   ],
   "source": [
    "bits(u.rvs())"
   ]
  },
  {
   "cell_type": "code",
   "execution_count": null,
   "metadata": {
    "collapsed": false
   },
   "outputs": [],
   "source": []
  }
 ],
 "metadata": {
  "kernelspec": {
   "display_name": "Python 2",
   "language": "python",
   "name": "python2"
  },
  "language_info": {
   "codemirror_mode": {
    "name": "ipython",
    "version": 2
   },
   "file_extension": ".py",
   "mimetype": "text/x-python",
   "name": "python",
   "nbconvert_exporter": "python",
   "pygments_lexer": "ipython2",
   "version": "2.7.8"
  }
 },
 "nbformat": 4,
 "nbformat_minor": 0
}
