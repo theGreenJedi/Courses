{
 "cells": [
  {
   "cell_type": "code",
   "execution_count": 1,
   "metadata": {
    "collapsed": false
   },
   "outputs": [
    {
     "name": "stdout",
     "output_type": "stream",
     "text": [
      "Populating the interactive namespace from numpy and matplotlib\n"
     ]
    }
   ],
   "source": [
    "from __future__ import division\n",
    "%pylab inline"
   ]
  },
  {
   "cell_type": "markdown",
   "metadata": {},
   "source": [
    "The Bernoulli distribution we studied earlier answers the question of which of\n",
    "two outcomes ($Y \\in \\lbrace 0,1 \\rbrace$) would be selected with probability, $p$."
   ]
  },
  {
   "cell_type": "markdown",
   "metadata": {},
   "source": [
    "$$\n",
    "\\mathbb{P}(Y) = p^Y (1-p)^{ 1-Y }\n",
    "$$"
   ]
  },
  {
   "cell_type": "markdown",
   "metadata": {},
   "source": [
    " We also know how to solve the corresponding likelihood function for\n",
    "the maximum likelihood estimate of $p$ given observations of the output,\n",
    "$\\lbrace Y_i \\rbrace_{i=1}^n$. However, now we want to include other factors in\n",
    "our estimate of $p$. For example, suppose we observe not just the outcomes, but\n",
    "a corresponding continuous variable, $x$. That is, the observed data is now\n",
    "$\\lbrace (x_i,Y_i) \\rbrace_{i=1}^n$  How can we incorporate $x$ into our\n",
    "estimation of $p$?\n",
    "\n",
    "The most straightforward idea is to model $p= a x + b$ where $a,b$ are\n",
    "parameters of a fitted line. However, because $p$ is a probability with value\n",
    "bounded between zero and one, we need to wrap this estimate in another function\n",
    "that can map the entire real line into the $[0,1]$ interval. The logistic\n",
    "(a.k.a. sigmoid) function has this property,"
   ]
  },
  {
   "cell_type": "markdown",
   "metadata": {},
   "source": [
    "$$\n",
    "\\theta(s) = \\frac{e^s}{1+e^s}\n",
    "$$"
   ]
  },
  {
   "cell_type": "markdown",
   "metadata": {},
   "source": [
    " Thus, the new parameterized estimate for $p$ is the following,"
   ]
  },
  {
   "cell_type": "markdown",
   "metadata": {},
   "source": [
    "<!-- Equation labels as ordinary links -->\n",
    "<div id=\"eq:prob\"></div>\n",
    "\n",
    "$$\n",
    "\\begin{equation}\n",
    "\\hat{p} = \\theta(a x+b)= \\frac{e^{a x + b}}{1+e^{a x + b}} \n",
    "\\label{eq:prob} \\tag{1}\n",
    "\\end{equation}\n",
    "$$"
   ]
  },
  {
   "cell_type": "markdown",
   "metadata": {},
   "source": [
    " This is usually expressed using the *logit* function,"
   ]
  },
  {
   "cell_type": "markdown",
   "metadata": {},
   "source": [
    "$$\n",
    "\\texttt{logit}(t)= \\log \\frac{t}{1-t}\n",
    "$$"
   ]
  },
  {
   "cell_type": "markdown",
   "metadata": {},
   "source": [
    " as,"
   ]
  },
  {
   "cell_type": "markdown",
   "metadata": {},
   "source": [
    "$$\n",
    "\\texttt{logit}(p) = b + a x\n",
    "$$"
   ]
  },
  {
   "cell_type": "markdown",
   "metadata": {},
   "source": [
    " More continuous variables can be accommodated easily as"
   ]
  },
  {
   "cell_type": "markdown",
   "metadata": {},
   "source": [
    "$$\n",
    "\\texttt{logit}(p) = b + \\sum_k a_k x_k\n",
    "$$"
   ]
  },
  {
   "cell_type": "markdown",
   "metadata": {},
   "source": [
    " This can be further extended beyond the binary case to multiple\n",
    "target labels. The maximum likelihood estimate of this uses\n",
    "numerical optimization methods that are implemented in Scikit-learn.\n",
    "\n",
    "Let's construct some data to see how this works. In the following, we assign\n",
    "class labels to a set of randomly scattered points in the two-dimensional\n",
    "plane,"
   ]
  },
  {
   "cell_type": "code",
   "execution_count": 2,
   "metadata": {
    "collapsed": false
   },
   "outputs": [],
   "source": [
    "import numpy as np\n",
    "from matplotlib.pylab import subplots\n",
    "v = 0.9\n",
    "@np.vectorize\n",
    "def gen_y(x):\n",
    "    if x<5: return np.random.choice([0,1],p=[v,1-v]) \n",
    "    else:   return np.random.choice([0,1],p=[1-v,v])\n",
    "\n",
    "xi = np.sort(np.random.rand(500)*10)\n",
    "yi = gen_y(xi)"
   ]
  },
  {
   "cell_type": "markdown",
   "metadata": {},
   "source": [
    "**Programming Tip.**\n",
    "\n",
    "The `np.vectorize` decorator used in the code above makes it easy to avoid\n",
    "looping in code that uses Numpy arrays by embedding the looping semantics\n",
    "inside of the so-decorated function. Note, however, that this does not\n",
    "necessarily accelerate the wrapped function. It's mainly for convenience.\n",
    "\n",
    "\n",
    "\n",
    "[Figure](#fig:logreg_001) shows a scatter plot of the data we constructed in\n",
    "the above code, $\\lbrace (x_i,Y_i) \\rbrace$. As constructed, it is more\n",
    "likely that large values of $x$ correspond to $Y=1$. On the other hand, values\n",
    "of $x \\in [4,6]$ of either category are heavily overlapped. This means that $x$\n",
    "is not a particularly strong indicator of $Y$ in this region.  [Figure](#fig:logreg_002) shows the fitted logistic regression curve against the same\n",
    "data. The points along the curve are the probabilities that each point lies in\n",
    "either of the two categories. For large values of $x$ the curve is near one,\n",
    "meaning that the probability that the associated $Y$ value is equal to one. On\n",
    "the other extreme, small values of $x$ mean that this probability is close to\n",
    "zero.  Because there are only two possible categories, this means that the\n",
    "probability of $Y=0$ is thereby higher. The region in the middle corresponding\n",
    "to the middle probabilities reflect the ambiguity between the two catagories\n",
    "because of the overlap in the data for this region. Thus, logistic regression\n",
    "cannot make a strong case for one category here.\n",
    "The following code fits the logistic regression model,"
   ]
  },
  {
   "cell_type": "code",
   "execution_count": 3,
   "metadata": {
    "collapsed": false
   },
   "outputs": [
    {
     "data": {
      "image/png": "[encoded data removed]",
      "text/plain": [
       "<matplotlib.figure.Figure at 0x68e46a0>"
      ]
     },
     "metadata": {},
     "output_type": "display_data"
    }
   ],
   "source": [
    "fig,ax=subplots()\n",
    "_=ax.plot(xi,yi,'o',color='gray',alpha=.3)\n",
    "_=ax.axis(ymax=1.1,ymin=-0.1)\n",
    "_=ax.set_xlabel(r'$X$',fontsize=22)\n",
    "_=ax.set_ylabel(r'$Y$',fontsize=22)\n",
    "#fig.savefig('fig-machine_learning/logreg_001.png')"
   ]
  },
  {
   "cell_type": "code",
   "execution_count": 4,
   "metadata": {
    "collapsed": false
   },
   "outputs": [
    {
     "data": {
      "text/plain": [
       "LogisticRegression(C=1.0, class_weight=None, dual=False, fit_intercept=True,\n",
       "          intercept_scaling=1, max_iter=100, multi_class='ovr', n_jobs=1,\n",
       "          penalty='l2', random_state=None, solver='liblinear', tol=0.0001,\n",
       "          verbose=0, warm_start=False)"
      ]
     },
     "execution_count": 4,
     "metadata": {},
     "output_type": "execute_result"
    }
   ],
   "source": [
    "from sklearn.linear_model import LogisticRegression\n",
    "lr = LogisticRegression()\n",
    "lr.fit(np.c_[xi],yi)"
   ]
  },
  {
   "cell_type": "code",
   "execution_count": 5,
   "metadata": {
    "collapsed": false
   },
   "outputs": [
    {
     "data": {
      "image/png": "[encoded data removed]",
      "text/plain": [
       "<matplotlib.figure.Figure at 0x8567780>"
      ]
     },
     "metadata": {},
     "output_type": "display_data"
    }
   ],
   "source": [
    "fig,ax=subplots()\n",
    "xii=np.linspace(0,10,20)\n",
    "_=ax.plot(xii,lr.predict_proba(np.c_[xii])[:,1],'k-',lw=3)\n",
    "_=ax.plot(xi,yi,'o',color='gray',alpha=.3)\n",
    "_=ax.axis(ymax=1.1,ymin=-0.1)\n",
    "_=ax.set_xlabel(r'$x$',fontsize=20)\n",
    "_=ax.set_ylabel(r'$\\mathbb{P}(Y)$',fontsize=20)\n",
    "#fig.savefig('fig-machine_learning/logreg_002.png')"
   ]
  },
  {
   "cell_type": "markdown",
   "metadata": {},
   "source": [
    "<!-- dom:FIGURE: [fig-machine_learning/logreg_001.png, width=500 frac=0.75]  This scatterplot shows the binary $Y$ variables and the corresponding $x$ data for each category. <div id=\"fig:logreg_001\"></div> -->\n",
    "<!-- begin figure -->\n",
    "<div id=\"fig:logreg_001\"></div>\n",
    "\n",
    "<p>This scatterplot shows the binary $Y$ variables and the corresponding $x$ data for each category.</p>\n",
    "<img src=\"fig-machine_learning/logreg_001.png\" width=500>\n",
    "\n",
    "<!-- end figure -->\n",
    "\n",
    "\n",
    "<!-- dom:FIGURE: [fig-machine_learning/logreg_002.png, width=500 frac=0.75]  This shows the fitted logistic regression on the data shown in [Figure](#fig:logreg_001). The points along the curve are the probabilities that each point lies in either of the two categories.  <div id=\"fig:logreg_002\"></div> -->\n",
    "<!-- begin figure -->\n",
    "<div id=\"fig:logreg_002\"></div>\n",
    "\n",
    "<p>This shows the fitted logistic regression on the data shown in [Figure](#fig:logreg_001). The points along the curve are the probabilities that each point lies in either of the two categories.</p>\n",
    "<img src=\"fig-machine_learning/logreg_002.png\" width=500>\n",
    "\n",
    "<!-- end figure -->\n",
    "\n",
    "\n",
    "For a deeper understanding of logistic regression, we need to alter our\n",
    "notation slightly and once again use our projection methods. More generally we\n",
    "can rewrite Equation ref{eq:prob} as the following,"
   ]
  },
  {
   "cell_type": "markdown",
   "metadata": {},
   "source": [
    "<!-- Equation labels as ordinary links -->\n",
    "<div id=\"eq:probbeta\"></div>\n",
    "\n",
    "$$\n",
    "\\begin{equation}\n",
    "p(\\mathbf{x}) = \\frac{1}{1+\\exp(-\\boldsymbol{\\beta}^T \\mathbf{x})}\n",
    "\\label{eq:probbeta} \\tag{2}\n",
    "\\end{equation}\n",
    "$$"
   ]
  },
  {
   "cell_type": "markdown",
   "metadata": {},
   "source": [
    " where $\\boldsymbol{\\beta}, \\mathbf{x}\\in \\mathbb{R}^n$.  From our\n",
    "prior work on projection we know that the signed perpendicular distance between\n",
    "$\\mathbf{x}$ and the linear boundary described by $\\boldsymbol{\\beta}$ is\n",
    "$\\boldsymbol{\\beta}^T \\mathbf{x}/\\Vert\\boldsymbol{\\beta}\\Vert$.  This means\n",
    "that the probability that is assigned to any point in $\\mathbb{R}^n$ is a\n",
    "function of how close that point is to the linear boundary described by the\n",
    "following equation,"
   ]
  },
  {
   "cell_type": "markdown",
   "metadata": {},
   "source": [
    "$$\n",
    "\\boldsymbol{\\beta}^T \\mathbf{x} = 0\n",
    "$$"
   ]
  },
  {
   "cell_type": "markdown",
   "metadata": {},
   "source": [
    " But there is something subtle hiding here. Note that \n",
    "for any $\\alpha\\in\\mathbb{R}$,"
   ]
  },
  {
   "cell_type": "markdown",
   "metadata": {},
   "source": [
    "$$\n",
    "\\alpha\\boldsymbol{\\beta}^T \\mathbf{x} = 0\n",
    "$$"
   ]
  },
  {
   "cell_type": "markdown",
   "metadata": {},
   "source": [
    " describes the *same* hyperplane. This means that we can multiply\n",
    "$\\boldsymbol{\\beta}$ by an arbitrary scalar and still get the same geometry.\n",
    "However, because of $\\exp(-\\alpha\\boldsymbol{\\beta}^T \\mathbf{x})$ in Equation\n",
    "ref{eq:probbeta}, this scaling determines the intensity of the probability\n",
    "attributed to $\\mathbf{x}$. This is illustrated in [Figure](#fig:logreg_003).\n",
    "The panel on the left shows two categories (squares/circles) split by the\n",
    "dotted line that is determined by $\\boldsymbol{\\beta}^T\\mathbf{x}=0$. The\n",
    "background colors shows the probabilities assigned to points in the plane.  The\n",
    "right panel shows that by scaling with $\\alpha$, we can increase the\n",
    "probabilities of class membership for the given points, given the exact same\n",
    "geometry. The points near the boundary have lower probabilities because they\n",
    "could easily be on the opposite side.  However, by scaling by $\\alpha$, we can\n",
    "raise those probabilities to any desired level at the cost of driving the\n",
    "points further from the boundary closer to one. Why is this a problem? By\n",
    "driving the probabilities arbitrarily using $\\alpha$, we can overemphasize the\n",
    "training set at the cost of out-of-sample data. That is, we may wind up\n",
    "insisting on emphatic class membership of yet unseen points that are close to\n",
    "the boundary that otherwise would have more equivocal probabilities (say, near\n",
    "$1/2$).  Once again, this is another manifestation of bias/variance trade-off.\n",
    "\n",
    "<!-- dom:FIGURE: [fig-machine_learning/logreg_003.png, width=500 frac=1.25] Scaling can arbitrarily increase the probabilities of points near the decision boundary.   <div id=\"fig:logreg_003\"></div> -->\n",
    "<!-- begin figure -->\n",
    "<div id=\"fig:logreg_003\"></div>\n",
    "\n",
    "<p>Scaling can arbitrarily increase the probabilities of points near the decision boundary.</p>\n",
    "<img src=\"fig-machine_learning/logreg_003.png\" width=500>\n",
    "\n",
    "<!-- end figure -->\n",
    "\n",
    "\n",
    "Regularization is a method that controls this effect by penalizing the size of\n",
    "$\\beta$ as part of its solution. Algorithmically, logistic regression works by\n",
    "iteratively solving a sequence of weighted least squares problems. Regression\n",
    "adds a $\\Vert\\boldsymbol{\\beta}\\Vert/C$ term to the least squares error. To see\n",
    "this in action, let's create some data from a logistic regression and see if we\n",
    "can recover it using Scikit-learn. Let's start with a scatter of points in the\n",
    "two-dimensional  plane,"
   ]
  },
  {
   "cell_type": "code",
   "execution_count": 6,
   "metadata": {
    "collapsed": false
   },
   "outputs": [],
   "source": [
    "x0,x1=np.random.rand(2,20)*6-3\n",
    "X = np.c_[x0,x1,x1*0+1] # stack as columns"
   ]
  },
  {
   "cell_type": "markdown",
   "metadata": {},
   "source": [
    " Note that `X` has a third column of all ones. This is a\n",
    "trick to allow the corresponding line to be offset from the origin\n",
    "in the two-dimensional plane. Next, we create a linear boundary\n",
    "and assign the class probabilities according to proximity to the\n",
    "boundary."
   ]
  },
  {
   "cell_type": "code",
   "execution_count": 7,
   "metadata": {
    "collapsed": false
   },
   "outputs": [],
   "source": [
    "beta = np.array([1,-1,1]) # last coordinate for affine offset\n",
    "prd = X.dot(beta)\n",
    "probs = 1/(1+np.exp(-prd/np.linalg.norm(beta)))\n",
    "c = (prd>0) # boolean array class labels"
   ]
  },
  {
   "cell_type": "markdown",
   "metadata": {},
   "source": [
    "  This establishes the training data.  The next block\n",
    "creates the logistic regression object and fits the data."
   ]
  },
  {
   "cell_type": "code",
   "execution_count": 8,
   "metadata": {
    "collapsed": false
   },
   "outputs": [],
   "source": [
    "lr = LogisticRegression()\n",
    "_=lr.fit(X[:,:-1],c)"
   ]
  },
  {
   "cell_type": "markdown",
   "metadata": {},
   "source": [
    " Note that we have to omit the third dimension because of\n",
    "how Scikit-learn internally breaks down the components of the\n",
    "boundary. The resulting code extracts the corresponding\n",
    "$\\boldsymbol{\\beta}$ from the `LogisticRegression` object."
   ]
  },
  {
   "cell_type": "code",
   "execution_count": 9,
   "metadata": {
    "collapsed": false
   },
   "outputs": [],
   "source": [
    "betah = np.r_[lr.coef_.flat,lr.intercept_]"
   ]
  },
  {
   "cell_type": "markdown",
   "metadata": {},
   "source": [
    "**Programming Tip.**\n",
    "\n",
    "The Numpy `np.r_`  object provides a quick way to stack Numpy\n",
    "arrays horizontally instead of using `np.hstack`.\n",
    "\n",
    "\n",
    "\n",
    " The resulting boundary is shown in the left panel in [Figure](#fig:logreg_004). The crosses and triangles represent the two classes we\n",
    "created above, along with the separating gray line.  The logistic regression\n",
    "fit produces the dotted black line. The dark circle is the point that logistic\n",
    "regression categorizes incorrectly. The regularization parameter is $C=1$ by\n",
    "default. Next, we can change the strength of the regularization parameter as in\n",
    "the following,"
   ]
  },
  {
   "cell_type": "code",
   "execution_count": 10,
   "metadata": {
    "collapsed": false
   },
   "outputs": [],
   "source": [
    "lr = LogisticRegression(C=1000)"
   ]
  },
  {
   "cell_type": "markdown",
   "metadata": {},
   "source": [
    " and the re-fit the data to produce the right panel in\n",
    "[Figure](#fig:logreg_004). By increasing the regularization\n",
    "parameter, we essentially nudged the fitting algorithm to\n",
    "*believe* the data more than the general model. That is, by doing\n",
    "this we accepted more variance in exchange for better bias.\n",
    "\n",
    "<!-- dom:FIGURE: [fig-machine_learning/logreg_004.png, width=500 frac=1.25]  The left panel shows the resulting boundary (dashed line) with $C=1$ as the regularization parameter. The right panel is for $C=1000$. The gray line is the boundary used to assign the class membership for the synthetic data. The dark circle is the point that logistic regression categorizes incorrectly. <div id=\"fig:logreg_004\"></div> -->\n",
    "<!-- begin figure -->\n",
    "<div id=\"fig:logreg_004\"></div>\n",
    "\n",
    "<p>The left panel shows the resulting boundary (dashed line) with $C=1$ as the regularization parameter. The right panel is for $C=1000$. The gray line is the boundary used to assign the class membership for the synthetic data. The dark circle is the point that logistic regression categorizes incorrectly.</p>\n",
    "<img src=\"fig-machine_learning/logreg_004.png\" width=500>\n",
    "\n",
    "<!-- end figure -->\n",
    "\n",
    "\n",
    "## Generalized Linear Models\n",
    "\n",
    "Logistic regression is one example of a wider class of generalized linear\n",
    "models that embed non-linear transformations in the fitting process. Let's back\n",
    "up and break down logistic regression into smaller parts. As usual, we want to\n",
    "estimate the conditional expectation $\\mathbb{E}(Y\\vert X=\\mathbf{x})$.  For\n",
    "plain linear regression, we have the following approximation,"
   ]
  },
  {
   "cell_type": "markdown",
   "metadata": {},
   "source": [
    "$$\n",
    "\\mathbb{E}(Y\\vert X=\\mathbf{x})\\approx\\boldsymbol{\\beta}^T\\mathbf{x}\n",
    "$$"
   ]
  },
  {
   "cell_type": "markdown",
   "metadata": {},
   "source": [
    " For notation sake, we call $r(x):=\\mathbb{E}(Y\\vert X=\\mathbf{x})$\n",
    "the response. For logistic regression, because $Y\\in\\left\\{0,1\\right\\}$, we\n",
    "have $\\mathbb{E}(Y\\vert X=\\mathbf{x})=\\mathbb{P}(Y\\vert X=\\mathbf{x})$ and the\n",
    "transformation makes $r(\\mathbf{x})$ linear."
   ]
  },
  {
   "cell_type": "markdown",
   "metadata": {},
   "source": [
    "$$\n",
    "\\begin{align*}\n",
    "\\eta(\\mathbf{x}) &= \\boldsymbol{\\beta}^T\\mathbf{x}     \\\\\\\n",
    "        &= \\log \\frac{r(\\mathbf{x})}{1-r(\\mathbf{x})}  \\\\\\\n",
    "        &= g(r(\\mathbf{x}))  \n",
    "\\end{align*}\n",
    "$$"
   ]
  },
  {
   "cell_type": "markdown",
   "metadata": {},
   "source": [
    " where $g$ is defined as the logistic *link* function.\n",
    "The $\\eta(x)$ function is the linear predictor. Now that we have\n",
    "transformed the original data space using the logistic function to\n",
    "create the setting for the linear predictor, why don't we just do\n",
    "the same thing for the $Y_i$ data? That is, for plain linear\n",
    "regression, we usually take data, $\\left\\{X_i,Y_i\\right\\}$ and\n",
    "then use it to fit an approximation to $\\mathbb{E}(Y\\vert X=x)$.\n",
    "If we are transforming the conditional expectation using the\n",
    "logarithm, which we are approximating using $Y_i$, then why don't\n",
    "we correspondingly transform the binary $Y_i$ data? The answer is\n",
    "that if we did so then we would get the logarithm of zero (i.e.,\n",
    "infinity) or one (i.e., zero), which is not workable. The\n",
    "alternative is to use a linear Taylor approximation, like we did\n",
    "earlier with the delta method, to expand the $g$ function around\n",
    "$r(x)$, as in the following,"
   ]
  },
  {
   "cell_type": "markdown",
   "metadata": {},
   "source": [
    "$$\n",
    "\\begin{align*}\n",
    "g(Y) &\\approx \\log\\frac{r(x)}{1-r(x)} + \\frac{Y-r(x)}{r(x)-r(x)^2} \\\\\\\n",
    "     &= \\eta(x)+ \\frac{Y-r(x)}{r(x)-r(x)^2} \n",
    "\\end{align*}\n",
    "$$"
   ]
  },
  {
   "cell_type": "markdown",
   "metadata": {},
   "source": [
    " The interesting part is the $Y-r(x)$ term, because this is where the\n",
    "class label data enters the problem. The expectation $\\mathbb{E}(Y-r(x)\\vert\n",
    "X)=0$ so we can think of this differential as additive noise that dithers\n",
    "$\\eta(x)$. The variance of $g(Y)$ is the following,"
   ]
  },
  {
   "cell_type": "markdown",
   "metadata": {},
   "source": [
    "$$\n",
    "\\begin{align*}\n",
    "\\mathbb{V}(g(Y)\\vert X)&= \\mathbb{V}(\\eta(x)\\vert X)+\\frac{1}{(r(x)(1-r(x)))^2} \\mathbb{V}(Y-r(x)\\vert X) \\\\\\\n",
    "                       &=\\frac{1}{(r(x)(1-r(x)))^2} \\mathbb{V}(Y-r(x)\\vert X) \n",
    "\\end{align*}\n",
    "$$"
   ]
  },
  {
   "cell_type": "markdown",
   "metadata": {},
   "source": [
    " Note that $\\mathbb{V}(Y\\vert X)=r(x)(1-r(x))$ because $Y$ is\n",
    "a binary variable. Ultimately, this boils down to the following,"
   ]
  },
  {
   "cell_type": "markdown",
   "metadata": {},
   "source": [
    "$$\n",
    "\\mathbb{V}(g(Y)\\vert X)=\\frac{1}{r(x)(1-r(x))}\n",
    "$$"
   ]
  },
  {
   "cell_type": "markdown",
   "metadata": {},
   "source": [
    " Note that the variance is a function of $x$, which means it is\n",
    "*heteroskedastic*, meaning that the iterative minimum-variance-finding\n",
    "algorithm that computes $\\boldsymbol{\\beta}$ downplays $x$ where $r(x)\\approx\n",
    "0$ and $r(x)\\approx 1$ because the peak of the variance occurs where\n",
    "$r(x)\\approx 0.5$, which are those equivocal points are close to the boundary.  \n",
    "\n",
    "\n",
    "For generalized linear models, the above sequence is the same and consists of\n",
    "three primary ingredients: the linear predictor ($\\eta(x)$), the link function\n",
    "($g(x)$), and the *dispersion scale function*, $V_{ds}$ such that\n",
    "$\\mathbb{V}(Y\\vert X)=\\sigma^2 V_{ds}(r(x))$. For logistic regression, we have\n",
    "$V_{ds}(r(x))=r(x)(1-r(x))$ and $\\sigma^2=1$. Note that absolute knowledge of\n",
    "$\\sigma^2$ is not important because the iterative algorithm needs only a\n",
    "relative proportional scale. To sum up, the iterative algorithm takes a linear\n",
    "prediction for $\\eta(x_i)$, computes the transformed responses, $g(Y_i)$,\n",
    "calculates the weights $w_i=\\left[(g^\\prime(r(x_i))V_{ds}(r(x_i)))\n",
    "\\right]^{-1}$, and then does a weighted linear regression of $g(y_i)$ onto\n",
    "$x_i$ with the weights $w_i$ to compute the next $\\boldsymbol{\\beta}$.\n",
    "More details can be found in the following [[fox2015applied]](#fox2015applied),\n",
    "[[lindsey1997applying]](#lindsey1997applying), [[campbell2009generalized]](#campbell2009generalized).\n",
    "\n",
    "\n",
    "<!-- # *Applied Predictive Modeling by Kuhn*, p. 283, -->\n",
    "<!-- # Logit function, odds ratio -->\n",
    "<!-- # *generalized linear models by Rodriguez*, p.72 -->\n",
    "<!-- # *Scikit-learn cookbook*, p.78 -->"
   ]
  }
 ],
 "metadata": {
  "kernelspec": {
   "display_name": "Python 2",
   "language": "python",
   "name": "python2"
  },
  "language_info": {
   "codemirror_mode": {
    "name": "ipython",
    "version": 2
   },
   "file_extension": ".py",
   "mimetype": "text/x-python",
   "name": "python",
   "nbconvert_exporter": "python",
   "pygments_lexer": "ipython2",
   "version": "2.7.11"
  }
 },
 "nbformat": 4,
 "nbformat_minor": 0
}
