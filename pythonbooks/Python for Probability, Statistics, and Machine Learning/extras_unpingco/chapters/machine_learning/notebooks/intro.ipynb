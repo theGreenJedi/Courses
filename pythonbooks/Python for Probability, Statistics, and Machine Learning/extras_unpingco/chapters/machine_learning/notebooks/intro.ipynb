{
 "cells": [
  {
   "cell_type": "markdown",
   "metadata": {},
   "source": [
    "Machine Learning is a huge and growing area. In this chapter, we cannot\n",
    "possibly even survey this area, but we can provide some context and some\n",
    "connections to probability and statistics that should make it easier to think\n",
    "about machine learning and how to apply these methods to real-world problems.\n",
    "The fundamental problem of statistics is basically the same as machine\n",
    "learning: given some data, how to make it actionable?  For statistics, the\n",
    "answer is to construct analytic estimators using powerful theory. For machine\n",
    "learning, the answer is algorithmic prediction. Given a data set, what\n",
    "forward-looking inferences can we draw? There is a subtle bit in this\n",
    "description: how can we know the future if all we have is data about the past?\n",
    "This is the crux of the matter for machine learning, as we will explore in the\n",
    "chapter."
   ]
  }
 ],
 "metadata": {
  "kernelspec": {
   "display_name": "Python 2",
   "language": "python",
   "name": "python2"
  },
  "language_info": {
   "codemirror_mode": {
    "name": "ipython",
    "version": 2
   },
   "file_extension": ".py",
   "mimetype": "text/x-python",
   "name": "python",
   "nbconvert_exporter": "python",
   "pygments_lexer": "ipython2",
   "version": "2.7.11"
  }
 },
 "nbformat": 4,
 "nbformat_minor": 0
}
