{
 "cells": [
  {
   "cell_type": "code",
   "execution_count": 168,
   "metadata": {
    "collapsed": false
   },
   "outputs": [
    {
     "name": "stdout",
     "output_type": "stream",
     "text": [
      "Populating the interactive namespace from numpy and matplotlib\n"
     ]
    }
   ],
   "source": [
    "%pylab inline"
   ]
  },
  {
   "cell_type": "code",
   "execution_count": 169,
   "metadata": {
    "collapsed": true
   },
   "outputs": [],
   "source": [
    "from scipy import stats"
   ]
  },
  {
   "cell_type": "code",
   "execution_count": 170,
   "metadata": {
    "collapsed": true
   },
   "outputs": [],
   "source": [
    "rv = stats.norm(0,1)"
   ]
  },
  {
   "cell_type": "code",
   "execution_count": 171,
   "metadata": {
    "collapsed": false
   },
   "outputs": [
    {
     "data": {
      "image/png": "[encoded data removed]",
      "text/plain": [
       "<matplotlib.figure.Figure at 0xdac2230>"
      ]
     },
     "metadata": {},
     "output_type": "display_data"
    }
   ],
   "source": [
    "fig,ax=subplots()\n",
    "xi = np.arange(-3,3,.1)\n",
    "ax.plot(xi,rv.pdf(xi),'k',lw=3.,label='$f(x)$')\n",
    "xi = linspace(-3,3,20)\n",
    "xi = np.arange(-3,3,.3)\n",
    "xb = xi.reshape(-1,2)\n",
    "xl = xb[:,0] # left edge points\n",
    "ax.plot(xl,rv.pdf(xl),'ko')\n",
    "width = np.diff(xl)[0]\n",
    "ax.bar(xl-width/2,rv.pdf(xl),width=width,alpha=.3,color='gray')\n",
    "ax.bar(-width/2,0.4,width=width,hatch='/',color='gray')\n",
    "ax.set_xlabel(r'$x$',fontsize=20)\n",
    "ax.set_ylabel(r'$f(x)$',fontsize=20)\n",
    "ax.axis(xmin=-3,xmax=3)\n",
    "ax.spines['right'].set_visible(False)\n",
    "ax.spines['top'].set_visible(False)\n",
    "ax.spines['top'].axis.set_ticks_position('none')\n",
    "# ax.spines['right'].axis.set_ticks_position('none')\n",
    "ax.legend(fontsize=24,frameon=False)\n",
    "ax.yaxis.set_visible(False)\n",
    "ax.spines['left'].set_visible(False)"
   ]
  },
  {
   "cell_type": "code",
   "execution_count": 172,
   "metadata": {
    "collapsed": false
   },
   "outputs": [],
   "source": [
    "# fig.savefig('../fig-probability/Sampling_Monte_Carlo_000.png')"
   ]
  },
  {
   "cell_type": "code",
   "execution_count": 186,
   "metadata": {
    "collapsed": false
   },
   "outputs": [
    {
     "data": {
      "image/png": "[encoded data removed]",
      "text/plain": [
       "<matplotlib.figure.Figure at 0x1037c250>"
      ]
     },
     "metadata": {},
     "output_type": "display_data"
    }
   ],
   "source": [
    "fig, ax= subplots()\n",
    "fig.set_size_inches((8,8))\n",
    "ax.axis((0,1,0,1))\n",
    "ax.yaxis.set_visible(False)\n",
    "ax.set_xlabel('$u$',fontsize=24)\n",
    "ax.set_xticks(arange(0,1+1/12,1/6))\n",
    "ax.spines['right'].set_color('none')\n",
    "ax.spines['top'].set_color('none')\n",
    "ax.spines['left'].set_color('none')\n",
    "ax.xaxis.set_ticks_position('bottom')\n",
    "ax.yaxis.set_ticks_position('none')\n",
    "\n",
    "for i in range(6):\n",
    "    ax.text(1/6/2.+i/6,0.1/2,'%d'%(i+1),fontsize=20)\n",
    "        \n",
    "ax.set_xticklabels(['$0$']+[r'$\\frac{%d}{6}$'%(i) for i in range(1,6)]+['$1$'],fontsize=20);\n",
    "fig.savefig('../fig-probability/Sampling_Monte_Carlo_0001.png',bbox_inches=Bbox([[0,0],[8,3]]))"
   ]
  },
  {
   "cell_type": "code",
   "execution_count": 174,
   "metadata": {
    "collapsed": false
   },
   "outputs": [
    {
     "data": {
      "image/png": "[encoded data removed]",
      "text/plain": [
       "<matplotlib.figure.Figure at 0x10a8c1f0>"
      ]
     },
     "execution_count": 174,
     "metadata": {},
     "output_type": "execute_result"
    }
   ],
   "source": [
    "fig"
   ]
  },
  {
   "cell_type": "code",
   "execution_count": null,
   "metadata": {
    "collapsed": true
   },
   "outputs": [],
   "source": []
  },
  {
   "cell_type": "code",
   "execution_count": null,
   "metadata": {
    "collapsed": true
   },
   "outputs": [],
   "source": []
  }
 ],
 "metadata": {
  "kernelspec": {
   "display_name": "Python 2",
   "language": "python",
   "name": "python2"
  },
  "language_info": {
   "codemirror_mode": {
    "name": "ipython",
    "version": 2
   },
   "file_extension": ".py",
   "mimetype": "text/x-python",
   "name": "python",
   "nbconvert_exporter": "python",
   "pygments_lexer": "ipython2",
   "version": "2.7.6"
  }
 },
 "nbformat": 4,
 "nbformat_minor": 0
}
