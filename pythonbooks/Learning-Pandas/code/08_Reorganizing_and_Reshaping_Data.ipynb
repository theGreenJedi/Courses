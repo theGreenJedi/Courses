{
 "metadata": {
  "name": "",
  "signature": "sha256:a12f484f67ce82cf4724a114ce45fa85bf51b6d66aa5ca8311f0bd89d41548fd"
 },
 "nbformat": 3,
 "nbformat_minor": 0,
 "worksheets": [
  {
   "cells": [
    {
     "cell_type": "heading",
     "level": 1,
     "metadata": {},
     "source": [
      "Setting up the notebook"
     ]
    },
    {
     "cell_type": "code",
     "collapsed": false,
     "input": [
      "# import pandas, numpy and datetime\n",
      "import numpy as np\n",
      "import pandas as pd\n",
      "import datetime\n",
      "\n",
      "# Set some pandas options for controlling output\n",
      "pd.set_option('display.notebook_repr_html', False)\n",
      "pd.set_option('display.max_columns', 10)\n",
      "pd.set_option('display.max_rows', 10)"
     ],
     "language": "python",
     "metadata": {},
     "outputs": [],
     "prompt_number": 1
    },
    {
     "cell_type": "heading",
     "level": 1,
     "metadata": {},
     "source": [
      "Concatenating data"
     ]
    },
    {
     "cell_type": "code",
     "collapsed": false,
     "input": [
      "# two Series objects to concatenate\n",
      "s1 = pd.Series(np.arange(0, 3))\n",
      "s2 = pd.Series(np.arange(5, 8))\n",
      "s1"
     ],
     "language": "python",
     "metadata": {},
     "outputs": [
      {
       "metadata": {},
       "output_type": "pyout",
       "prompt_number": 2,
       "text": [
        "0    0\n",
        "1    1\n",
        "2    2\n",
        "dtype: int64"
       ]
      }
     ],
     "prompt_number": 2
    },
    {
     "cell_type": "code",
     "collapsed": false,
     "input": [
      "s2"
     ],
     "language": "python",
     "metadata": {},
     "outputs": [
      {
       "metadata": {},
       "output_type": "pyout",
       "prompt_number": 3,
       "text": [
        "0    5\n",
        "1    6\n",
        "2    7\n",
        "dtype: int64"
       ]
      }
     ],
     "prompt_number": 3
    },
    {
     "cell_type": "code",
     "collapsed": false,
     "input": [
      "# concatenate them\n",
      "pd.concat([s1, s2])"
     ],
     "language": "python",
     "metadata": {},
     "outputs": [
      {
       "metadata": {},
       "output_type": "pyout",
       "prompt_number": 4,
       "text": [
        "0    0\n",
        "1    1\n",
        "2    2\n",
        "0    5\n",
        "1    6\n",
        "2    7\n",
        "dtype: int64"
       ]
      }
     ],
     "prompt_number": 4
    },
    {
     "cell_type": "code",
     "collapsed": false,
     "input": [
      "# create two DataFrame objects to concatenate\n",
      "# using the same index labels and column names, \n",
      "# but different values\n",
      "df1 = pd.DataFrame(np.arange(9).reshape(3, 3), \n",
      "                   columns=['a', 'b', 'c'])\n",
      "#df2 has 9 .. 18\n",
      "df2 = pd.DataFrame(np.arange(9, 18).reshape(3, 3), \n",
      "                   columns=['a', 'b', 'c'])\n",
      "df1"
     ],
     "language": "python",
     "metadata": {},
     "outputs": [
      {
       "metadata": {},
       "output_type": "pyout",
       "prompt_number": 5,
       "text": [
        "   a  b  c\n",
        "0  0  1  2\n",
        "1  3  4  5\n",
        "2  6  7  8"
       ]
      }
     ],
     "prompt_number": 5
    },
    {
     "cell_type": "code",
     "collapsed": false,
     "input": [
      "df2"
     ],
     "language": "python",
     "metadata": {},
     "outputs": [
      {
       "metadata": {},
       "output_type": "pyout",
       "prompt_number": 6,
       "text": [
        "    a   b   c\n",
        "0   9  10  11\n",
        "1  12  13  14\n",
        "2  15  16  17"
       ]
      }
     ],
     "prompt_number": 6
    },
    {
     "cell_type": "code",
     "collapsed": false,
     "input": [
      "# do the concat\n",
      "pd.concat([df1, df2])"
     ],
     "language": "python",
     "metadata": {},
     "outputs": [
      {
       "metadata": {},
       "output_type": "pyout",
       "prompt_number": 7,
       "text": [
        "    a   b   c\n",
        "0   0   1   2\n",
        "1   3   4   5\n",
        "2   6   7   8\n",
        "0   9  10  11\n",
        "1  12  13  14\n",
        "2  15  16  17"
       ]
      }
     ],
     "prompt_number": 7
    },
    {
     "cell_type": "code",
     "collapsed": false,
     "input": [
      "# demonstrate concatenating two DataFrame objects with\n",
      "# different columns\n",
      "df1 = pd.DataFrame(np.arange(9).reshape(3, 3), \n",
      "                   columns=['a', 'b', 'c'])\n",
      "df2 = pd.DataFrame(np.arange(9, 18).reshape(3, 3), \n",
      "                   columns=['a', 'c', 'd'])\n",
      "df1"
     ],
     "language": "python",
     "metadata": {},
     "outputs": [
      {
       "metadata": {},
       "output_type": "pyout",
       "prompt_number": 8,
       "text": [
        "   a  b  c\n",
        "0  0  1  2\n",
        "1  3  4  5\n",
        "2  6  7  8"
       ]
      }
     ],
     "prompt_number": 8
    },
    {
     "cell_type": "code",
     "collapsed": false,
     "input": [
      "df2"
     ],
     "language": "python",
     "metadata": {},
     "outputs": [
      {
       "metadata": {},
       "output_type": "pyout",
       "prompt_number": 9,
       "text": [
        "    a   c   d\n",
        "0   9  10  11\n",
        "1  12  13  14\n",
        "2  15  16  17"
       ]
      }
     ],
     "prompt_number": 9
    },
    {
     "cell_type": "code",
     "collapsed": false,
     "input": [
      "# do the concat, NaN's will be filled in for\n",
      "# the d column for df1 and b column for df2\n",
      "pd.concat([df1, df2])"
     ],
     "language": "python",
     "metadata": {},
     "outputs": [
      {
       "metadata": {},
       "output_type": "pyout",
       "prompt_number": 10,
       "text": [
        "    a   b   c   d\n",
        "0   0   1   2 NaN\n",
        "1   3   4   5 NaN\n",
        "2   6   7   8 NaN\n",
        "0   9 NaN  10  11\n",
        "1  12 NaN  13  14\n",
        "2  15 NaN  16  17"
       ]
      }
     ],
     "prompt_number": 10
    },
    {
     "cell_type": "code",
     "collapsed": false,
     "input": [
      "# concat the two objects, but create an index using the\n",
      "# given keys \n",
      "c = pd.concat([df1, df2], keys=['df1', 'df2'])\n",
      "# note in the labeling of the rows in the output\n",
      "c"
     ],
     "language": "python",
     "metadata": {},
     "outputs": [
      {
       "metadata": {},
       "output_type": "pyout",
       "prompt_number": 11,
       "text": [
        "        a   b   c   d\n",
        "df1 0   0   1   2 NaN\n",
        "    1   3   4   5 NaN\n",
        "    2   6   7   8 NaN\n",
        "df2 0   9 NaN  10  11\n",
        "    1  12 NaN  13  14\n",
        "    2  15 NaN  16  17"
       ]
      }
     ],
     "prompt_number": 11
    },
    {
     "cell_type": "code",
     "collapsed": false,
     "input": [
      "# we can extract the data originating from\n",
      "# the first or second source DataFrame\n",
      "c.ix['df2']"
     ],
     "language": "python",
     "metadata": {},
     "outputs": [
      {
       "metadata": {},
       "output_type": "pyout",
       "prompt_number": 12,
       "text": [
        "    a   b   c   d\n",
        "0   9 NaN  10  11\n",
        "1  12 NaN  13  14\n",
        "2  15 NaN  16  17"
       ]
      }
     ],
     "prompt_number": 12
    },
    {
     "cell_type": "code",
     "collapsed": false,
     "input": [
      "# concat df1 and df2 along columns\n",
      "# aligns on row labels, has duplicate columns\n",
      "pd.concat([df1, df2], axis=1)"
     ],
     "language": "python",
     "metadata": {},
     "outputs": [
      {
       "metadata": {},
       "output_type": "pyout",
       "prompt_number": 13,
       "text": [
        "   a  b  c   a   c   d\n",
        "0  0  1  2   9  10  11\n",
        "1  3  4  5  12  13  14\n",
        "2  6  7  8  15  16  17"
       ]
      }
     ],
     "prompt_number": 13
    },
    {
     "cell_type": "code",
     "collapsed": false,
     "input": [
      "# a new DataFrame to merge with df1\n",
      "# this has two common row labels (2, 3) \n",
      "# common columns (a) and one disjoint column\n",
      "# in each (b in df1 and d in df2)\n",
      "df3 = pd.DataFrame(np.arange(20, 26).reshape(3, 2), \n",
      "                   columns=['a', 'd'], \n",
      "                   index=[2, 3, 4])\n",
      "df3"
     ],
     "language": "python",
     "metadata": {},
     "outputs": [
      {
       "metadata": {},
       "output_type": "pyout",
       "prompt_number": 14,
       "text": [
        "    a   d\n",
        "2  20  21\n",
        "3  22  23\n",
        "4  24  25"
       ]
      }
     ],
     "prompt_number": 14
    },
    {
     "cell_type": "code",
     "collapsed": false,
     "input": [
      "# concat them. Alignment is along row labels\n",
      "# columns first from df1 and then df3, with duplicates.\n",
      "# NaN filled in where those columns do not exist in the source\n",
      "pd.concat([df1, df3], axis=1)"
     ],
     "language": "python",
     "metadata": {},
     "outputs": [
      {
       "metadata": {},
       "output_type": "pyout",
       "prompt_number": 15,
       "text": [
        "    a   b   c   a   d\n",
        "0   0   1   2 NaN NaN\n",
        "1   3   4   5 NaN NaN\n",
        "2   6   7   8  20  21\n",
        "3 NaN NaN NaN  22  23\n",
        "4 NaN NaN NaN  24  25"
       ]
      }
     ],
     "prompt_number": 15
    },
    {
     "cell_type": "code",
     "collapsed": false,
     "input": [
      "# do an inner join instead of outer\n",
      "# results in one row\n",
      "pd.concat([df1, df3], axis=1, join='inner')"
     ],
     "language": "python",
     "metadata": {},
     "outputs": [
      {
       "metadata": {},
       "output_type": "pyout",
       "prompt_number": 16,
       "text": [
        "   a  b  c   a   d\n",
        "2  6  7  8  20  21"
       ]
      }
     ],
     "prompt_number": 16
    },
    {
     "cell_type": "code",
     "collapsed": false,
     "input": [
      "# add keys to the columns\n",
      "df = pd.concat([df1, df2], \n",
      "               axis=1,\n",
      "               keys=['df1', 'df2'])\n",
      "df"
     ],
     "language": "python",
     "metadata": {},
     "outputs": [
      {
       "metadata": {},
       "output_type": "pyout",
       "prompt_number": 17,
       "text": [
        "  df1       df2        \n",
        "    a  b  c   a   c   d\n",
        "0   0  1  2   9  10  11\n",
        "1   3  4  5  12  13  14\n",
        "2   6  7  8  15  16  17"
       ]
      }
     ],
     "prompt_number": 17
    },
    {
     "cell_type": "code",
     "collapsed": false,
     "input": [
      "# retrieve the data that originated from the \n",
      "# DataFrame with key 'df2'\n",
      "df.ix[:, 'df2']"
     ],
     "language": "python",
     "metadata": {},
     "outputs": [
      {
       "metadata": {},
       "output_type": "pyout",
       "prompt_number": 18,
       "text": [
        "    a   c   d\n",
        "0   9  10  11\n",
        "1  12  13  14\n",
        "2  15  16  17"
       ]
      }
     ],
     "prompt_number": 18
    },
    {
     "cell_type": "code",
     "collapsed": false,
     "input": [
      "# append does a concatenate along axis=0 \n",
      "# duplicate row index labels can result\n",
      "df1.append(df2)"
     ],
     "language": "python",
     "metadata": {},
     "outputs": [
      {
       "metadata": {},
       "output_type": "pyout",
       "prompt_number": 19,
       "text": [
        "    a   b   c   d\n",
        "0   0   1   2 NaN\n",
        "1   3   4   5 NaN\n",
        "2   6   7   8 NaN\n",
        "0   9 NaN  10  11\n",
        "1  12 NaN  13  14\n",
        "2  15 NaN  16  17"
       ]
      }
     ],
     "prompt_number": 19
    },
    {
     "cell_type": "code",
     "collapsed": false,
     "input": [
      "# remove duplicates in the result index by ignoring the \n",
      "# index labels in the source DataFrame objects\n",
      "df1.append(df2, ignore_index=True)"
     ],
     "language": "python",
     "metadata": {},
     "outputs": [
      {
       "metadata": {},
       "output_type": "pyout",
       "prompt_number": 20,
       "text": [
        "    a   b   c   d\n",
        "0   0   1   2 NaN\n",
        "1   3   4   5 NaN\n",
        "2   6   7   8 NaN\n",
        "3   9 NaN  10  11\n",
        "4  12 NaN  13  14\n",
        "5  15 NaN  16  17"
       ]
      }
     ],
     "prompt_number": 20
    },
    {
     "cell_type": "heading",
     "level": 1,
     "metadata": {},
     "source": [
      "Merging and Joining Data"
     ]
    },
    {
     "cell_type": "heading",
     "level": 2,
     "metadata": {},
     "source": [
      "Overview of merges"
     ]
    },
    {
     "cell_type": "code",
     "collapsed": false,
     "input": [
      "# these are our customers\n",
      "customers = {'CustomerID': [10, 11],\n",
      "             'Name': ['Mike', 'Marcia'],\n",
      "             'Address': ['Address for Mike',\n",
      "                         'Address for Marcia']}\n",
      "customers = pd.DataFrame(customers)\n",
      "customers"
     ],
     "language": "python",
     "metadata": {},
     "outputs": [
      {
       "metadata": {},
       "output_type": "pyout",
       "prompt_number": 21,
       "text": [
        "              Address  CustomerID    Name\n",
        "0    Address for Mike          10    Mike\n",
        "1  Address for Marcia          11  Marcia"
       ]
      }
     ],
     "prompt_number": 21
    },
    {
     "cell_type": "code",
     "collapsed": false,
     "input": [
      "# and these are the orders made by our customers\n",
      "# they are related to customers by CustomerID\n",
      "orders = {'CustomerID': [10, 11, 10],\n",
      "          'OrderDate': [datetime.date(2014, 12, 1),\n",
      "                        datetime.date(2014, 12, 1),\n",
      "                        datetime.date(2014, 12, 1)]}\n",
      "orders = pd.DataFrame(orders)\n",
      "orders"
     ],
     "language": "python",
     "metadata": {},
     "outputs": [
      {
       "metadata": {},
       "output_type": "pyout",
       "prompt_number": 22,
       "text": [
        "   CustomerID   OrderDate\n",
        "0          10  2014-12-01\n",
        "1          11  2014-12-01\n",
        "2          10  2014-12-01"
       ]
      }
     ],
     "prompt_number": 22
    },
    {
     "cell_type": "code",
     "collapsed": false,
     "input": [
      "# merge customers and orders so we can ship the items\n",
      "customers.merge(orders)"
     ],
     "language": "python",
     "metadata": {},
     "outputs": [
      {
       "metadata": {},
       "output_type": "pyout",
       "prompt_number": 23,
       "text": [
        "              Address  CustomerID    Name   OrderDate\n",
        "0    Address for Mike          10    Mike  2014-12-01\n",
        "1    Address for Mike          10    Mike  2014-12-01\n",
        "2  Address for Marcia          11  Marcia  2014-12-01"
       ]
      }
     ],
     "prompt_number": 23
    },
    {
     "cell_type": "code",
     "collapsed": false,
     "input": [
      "# data to be used in the remainder of this section's examples\n",
      "left_data = {'key1': ['a', 'b', 'c'], \n",
      "            'key2': ['x', 'y', 'z'],\n",
      "            'lval1': [ 0, 1, 2]}\n",
      "right_data = {'key1': ['a', 'b', 'c'],\n",
      "              'key2': ['x', 'a', 'z'], \n",
      "              'rval1': [ 6, 7, 8 ]}\n",
      "left = pd.DataFrame(left_data, index=[0, 1, 2])\n",
      "right = pd.DataFrame(right_data, index=[1, 2, 3])\n",
      "left"
     ],
     "language": "python",
     "metadata": {},
     "outputs": [
      {
       "metadata": {},
       "output_type": "pyout",
       "prompt_number": 24,
       "text": [
        "  key1 key2  lval1\n",
        "0    a    x      0\n",
        "1    b    y      1\n",
        "2    c    z      2"
       ]
      }
     ],
     "prompt_number": 24
    },
    {
     "cell_type": "code",
     "collapsed": false,
     "input": [
      "right"
     ],
     "language": "python",
     "metadata": {},
     "outputs": [
      {
       "metadata": {},
       "output_type": "pyout",
       "prompt_number": 25,
       "text": [
        "  key1 key2  rval1\n",
        "1    a    x      6\n",
        "2    b    a      7\n",
        "3    c    z      8"
       ]
      }
     ],
     "prompt_number": 25
    },
    {
     "cell_type": "code",
     "collapsed": false,
     "input": [
      "# demonstrate merge without specifying columns to merge\n",
      "# this will implicitly merge on all common columns\n",
      "left.merge(right)"
     ],
     "language": "python",
     "metadata": {},
     "outputs": [
      {
       "metadata": {},
       "output_type": "pyout",
       "prompt_number": 26,
       "text": [
        "  key1 key2  lval1  rval1\n",
        "0    a    x      0      6\n",
        "1    c    z      2      8"
       ]
      }
     ],
     "prompt_number": 26
    },
    {
     "cell_type": "code",
     "collapsed": false,
     "input": [
      "# demonstrate merge using an explicit column\n",
      "# on needs the value to be in both DataFrame objects\n",
      "left.merge(right, on='key1')"
     ],
     "language": "python",
     "metadata": {},
     "outputs": [
      {
       "metadata": {},
       "output_type": "pyout",
       "prompt_number": 27,
       "text": [
        "  key1 key2_x  lval1 key2_y  rval1\n",
        "0    a      x      0      x      6\n",
        "1    b      y      1      a      7\n",
        "2    c      z      2      z      8"
       ]
      }
     ],
     "prompt_number": 27
    },
    {
     "cell_type": "code",
     "collapsed": false,
     "input": [
      "# merge explicitly using two columns\n",
      "left.merge(right, on=['key1', 'key2'])"
     ],
     "language": "python",
     "metadata": {},
     "outputs": [
      {
       "metadata": {},
       "output_type": "pyout",
       "prompt_number": 28,
       "text": [
        "  key1 key2  lval1  rval1\n",
        "0    a    x      0      6\n",
        "1    c    z      2      8"
       ]
      }
     ],
     "prompt_number": 28
    },
    {
     "cell_type": "code",
     "collapsed": false,
     "input": [
      "# join on the row indices of both matrices\n",
      "pd.merge(left, right, left_index=True, right_index=True)"
     ],
     "language": "python",
     "metadata": {},
     "outputs": [
      {
       "metadata": {},
       "output_type": "pyout",
       "prompt_number": 29,
       "text": [
        "  key1_x key2_x  lval1 key1_y key2_y  rval1\n",
        "1      b      y      1      a      x      6\n",
        "2      c      z      2      b      a      7"
       ]
      }
     ],
     "prompt_number": 29
    },
    {
     "cell_type": "heading",
     "level": 2,
     "metadata": {},
     "source": [
      "Specifying the join semantics of a merge operation"
     ]
    },
    {
     "cell_type": "code",
     "collapsed": false,
     "input": [
      "# outer join, merges all matched data, \n",
      "# and fills unmatched items with NaN\n",
      "left.merge(right, how='outer')"
     ],
     "language": "python",
     "metadata": {},
     "outputs": [
      {
       "metadata": {},
       "output_type": "pyout",
       "prompt_number": 30,
       "text": [
        "  key1 key2  lval1  rval1\n",
        "0    a    x      0      6\n",
        "1    b    y      1    NaN\n",
        "2    c    z      2      8\n",
        "3    b    a    NaN      7"
       ]
      }
     ],
     "prompt_number": 30
    },
    {
     "cell_type": "code",
     "collapsed": false,
     "input": [
      "# left join, merges all matched data, and only fills unmatched \n",
      "# items from the left dataframe with NaN filled for the \n",
      "# unmatched items in the result \n",
      "# rows with labels 0 and 2 \n",
      "# match on key1 and key2 the row with label 1 is from left\n",
      "\n",
      "left.merge(right, how='left')"
     ],
     "language": "python",
     "metadata": {},
     "outputs": [
      {
       "metadata": {},
       "output_type": "pyout",
       "prompt_number": 31,
       "text": [
        "  key1 key2  lval1  rval1\n",
        "0    a    x      0      6\n",
        "1    b    y      1    NaN\n",
        "2    c    z      2      8"
       ]
      }
     ],
     "prompt_number": 31
    },
    {
     "cell_type": "code",
     "collapsed": false,
     "input": [
      "# right join, merges all matched data, and only fills unmatched\n",
      "# item from the right with NaN filled for the unmatched items\n",
      "# in the result \n",
      "# rows with labels 0 and 2 match on key1 and key2\n",
      "# the row with label 1 is from right\n",
      "left.merge(right, how='right')"
     ],
     "language": "python",
     "metadata": {},
     "outputs": [
      {
       "metadata": {},
       "output_type": "pyout",
       "prompt_number": 32,
       "text": [
        "  key1 key2  lval1  rval1\n",
        "0    a    x      0      6\n",
        "1    c    z      2      8\n",
        "2    b    a    NaN      7"
       ]
      }
     ],
     "prompt_number": 32
    },
    {
     "cell_type": "code",
     "collapsed": false,
     "input": [
      "# join left with right (default method is outer)\n",
      "# and since these DataFrame objects have duplicate column names\n",
      "# we just specify lsuffix and rsuffix\n",
      "left.join(right, lsuffix='_left', rsuffix='_right')"
     ],
     "language": "python",
     "metadata": {},
     "outputs": [
      {
       "metadata": {},
       "output_type": "pyout",
       "prompt_number": 33,
       "text": [
        "  key1_left key2_left  lval1 key1_right key2_right  rval1\n",
        "0         a         x      0        NaN        NaN    NaN\n",
        "1         b         y      1          a          x      6\n",
        "2         c         z      2          b          a      7"
       ]
      }
     ],
     "prompt_number": 33
    },
    {
     "cell_type": "code",
     "collapsed": false,
     "input": [
      "# join left with right with an inner join\n",
      "left.join(right, lsuffix='_left', rsuffix='_right', how='inner')"
     ],
     "language": "python",
     "metadata": {},
     "outputs": [
      {
       "metadata": {},
       "output_type": "pyout",
       "prompt_number": 34,
       "text": [
        "  key1_left key2_left  lval1 key1_right key2_right  rval1\n",
        "1         b         y      1          a          x      6\n",
        "2         c         z      2          b          a      7"
       ]
      }
     ],
     "prompt_number": 34
    },
    {
     "cell_type": "heading",
     "level": 1,
     "metadata": {},
     "source": [
      "Pivoting"
     ]
    },
    {
     "cell_type": "code",
     "collapsed": false,
     "input": [
      "# read in accellerometer data\n",
      "sensor_readings = pd.read_csv(\"data/accel.csv\")\n",
      "sensor_readings"
     ],
     "language": "python",
     "metadata": {},
     "outputs": [
      {
       "metadata": {},
       "output_type": "pyout",
       "prompt_number": 35,
       "text": [
        "    interval axis  reading\n",
        "0          0    X      0.0\n",
        "1          0    Y      0.5\n",
        "2          0    Z      1.0\n",
        "3          1    X      0.1\n",
        "4          1    Y      0.4\n",
        "..       ...  ...      ...\n",
        "7          2    Y      0.3\n",
        "8          2    Z      0.8\n",
        "9          3    X      0.3\n",
        "10         3    Y      0.2\n",
        "11         3    Z      0.7\n",
        "\n",
        "[12 rows x 3 columns]"
       ]
      }
     ],
     "prompt_number": 35
    },
    {
     "cell_type": "code",
     "collapsed": false,
     "input": [
      "# extract X-axis readings\n",
      "sensor_readings[sensor_readings['axis'] == 'X']"
     ],
     "language": "python",
     "metadata": {},
     "outputs": [
      {
       "metadata": {},
       "output_type": "pyout",
       "prompt_number": 36,
       "text": [
        "   interval axis  reading\n",
        "0         0    X      0.0\n",
        "3         1    X      0.1\n",
        "6         2    X      0.2\n",
        "9         3    X      0.3"
       ]
      }
     ],
     "prompt_number": 36
    },
    {
     "cell_type": "code",
     "collapsed": false,
     "input": [
      "# pivot the data.  Interval becomes the index, the columns are\n",
      "# the current axes values, and use the readings as values\n",
      "sensor_readings.pivot(index='interval', \n",
      "                     columns='axis', \n",
      "                     values='reading')"
     ],
     "language": "python",
     "metadata": {},
     "outputs": [
      {
       "metadata": {},
       "output_type": "pyout",
       "prompt_number": 37,
       "text": [
        "axis        X    Y    Z\n",
        "interval               \n",
        "0         0.0  0.5  1.0\n",
        "1         0.1  0.4  0.9\n",
        "2         0.2  0.3  0.8\n",
        "3         0.3  0.2  0.7"
       ]
      }
     ],
     "prompt_number": 37
    },
    {
     "cell_type": "heading",
     "level": 1,
     "metadata": {},
     "source": [
      "Stacking and Unstacking"
     ]
    },
    {
     "cell_type": "heading",
     "level": 2,
     "metadata": {},
     "source": [
      "Stacking using non-hierarchical indexes"
     ]
    },
    {
     "cell_type": "code",
     "collapsed": false,
     "input": [
      "# simple DataFrame with one column\n",
      "df = pd.DataFrame({'a': [1, 2]}, index={'one', 'two'})\n",
      "df"
     ],
     "language": "python",
     "metadata": {},
     "outputs": [
      {
       "metadata": {},
       "output_type": "pyout",
       "prompt_number": 38,
       "text": [
        "     a\n",
        "two  1\n",
        "one  2"
       ]
      }
     ],
     "prompt_number": 38
    },
    {
     "cell_type": "code",
     "collapsed": false,
     "input": [
      "# push the column to another level of the index\n",
      "# the result is a Series where values are looked up through\n",
      "# a multi-index\n",
      "stacked1 = df.stack()\n",
      "stacked1"
     ],
     "language": "python",
     "metadata": {},
     "outputs": [
      {
       "metadata": {},
       "output_type": "pyout",
       "prompt_number": 39,
       "text": [
        "two  a    1\n",
        "one  a    2\n",
        "dtype: int64"
       ]
      }
     ],
     "prompt_number": 39
    },
    {
     "cell_type": "code",
     "collapsed": false,
     "input": [
      "# lookup one / a using just the index via a tuple\n",
      "stacked1[('one', 'a')]"
     ],
     "language": "python",
     "metadata": {},
     "outputs": [
      {
       "metadata": {},
       "output_type": "pyout",
       "prompt_number": 40,
       "text": [
        "2"
       ]
      }
     ],
     "prompt_number": 40
    },
    {
     "cell_type": "code",
     "collapsed": false,
     "input": [
      "# DataFrame with two columns\n",
      "df = pd.DataFrame({'a': [1, 2],\n",
      "                   'b': [3, 4]}, \n",
      "                  index={'one', 'two'})\n",
      "df"
     ],
     "language": "python",
     "metadata": {},
     "outputs": [
      {
       "metadata": {},
       "output_type": "pyout",
       "prompt_number": 41,
       "text": [
        "     a  b\n",
        "two  1  3\n",
        "one  2  4"
       ]
      }
     ],
     "prompt_number": 41
    },
    {
     "cell_type": "code",
     "collapsed": false,
     "input": [
      "# push the two columns into a single level of the index\n",
      "stacked2 = df.stack()\n",
      "stacked2"
     ],
     "language": "python",
     "metadata": {},
     "outputs": [
      {
       "metadata": {},
       "output_type": "pyout",
       "prompt_number": 42,
       "text": [
        "two  a    1\n",
        "     b    3\n",
        "one  a    2\n",
        "     b    4\n",
        "dtype: int64"
       ]
      }
     ],
     "prompt_number": 42
    },
    {
     "cell_type": "code",
     "collapsed": false,
     "input": [
      "# lookup value with index of one / b\n",
      "stacked2[('one', 'b')]"
     ],
     "language": "python",
     "metadata": {},
     "outputs": [
      {
       "metadata": {},
       "output_type": "pyout",
       "prompt_number": 43,
       "text": [
        "4"
       ]
      }
     ],
     "prompt_number": 43
    },
    {
     "cell_type": "heading",
     "level": 2,
     "metadata": {},
     "source": [
      "Unstacking using hierarchical indexes"
     ]
    },
    {
     "cell_type": "code",
     "collapsed": false,
     "input": [
      "# make two copies of the sensor data, one for each user\n",
      "user1 = sensor_readings.copy()\n",
      "user2 = sensor_readings.copy()\n",
      "# add names to the two copies\n",
      "user1['who'] = 'Mike'\n",
      "user2['who'] = 'Mikael'\n",
      "# for demonstration, lets scale user2's readings\n",
      "user2['reading'] *= 100\n",
      "# and reorganize this to have a hierarchical row index\n",
      "multi_user_sensor_data = pd.concat([user1, user2]) \\\n",
      "            .set_index(['who', 'interval', 'axis'])\n",
      "multi_user_sensor_data"
     ],
     "language": "python",
     "metadata": {},
     "outputs": [
      {
       "metadata": {},
       "output_type": "pyout",
       "prompt_number": 44,
       "text": [
        "                      reading\n",
        "who    interval axis         \n",
        "Mike   0        X         0.0\n",
        "                Y         0.5\n",
        "                Z         1.0\n",
        "       1        X         0.1\n",
        "                Y         0.4\n",
        "...                       ...\n",
        "Mikael 2        Y        30.0\n",
        "                Z        80.0\n",
        "       3        X        30.0\n",
        "                Y        20.0\n",
        "                Z        70.0\n",
        "\n",
        "[24 rows x 1 columns]"
       ]
      }
     ],
     "prompt_number": 44
    },
    {
     "cell_type": "code",
     "collapsed": false,
     "input": [
      "# lookup user data for Mike using just the index\n",
      "multi_user_sensor_data.ix['Mike']"
     ],
     "language": "python",
     "metadata": {},
     "outputs": [
      {
       "metadata": {},
       "output_type": "pyout",
       "prompt_number": 45,
       "text": [
        "               reading\n",
        "interval axis         \n",
        "0        X         0.0\n",
        "         Y         0.5\n",
        "         Z         1.0\n",
        "1        X         0.1\n",
        "         Y         0.4\n",
        "...                ...\n",
        "2        Y         0.3\n",
        "         Z         0.8\n",
        "3        X         0.3\n",
        "         Y         0.2\n",
        "         Z         0.7\n",
        "\n",
        "[12 rows x 1 columns]"
       ]
      }
     ],
     "prompt_number": 45
    },
    {
     "cell_type": "code",
     "collapsed": false,
     "input": [
      "# readings for all users and axes at interval 1\n",
      "multi_user_sensor_data.xs(1, level='interval')"
     ],
     "language": "python",
     "metadata": {},
     "outputs": [
      {
       "metadata": {},
       "output_type": "pyout",
       "prompt_number": 46,
       "text": [
        "             reading\n",
        "who    axis         \n",
        "Mike   X         0.1\n",
        "       Y         0.4\n",
        "       Z         0.9\n",
        "Mikael X        10.0\n",
        "       Y        40.0\n",
        "       Z        90.0"
       ]
      }
     ],
     "prompt_number": 46
    },
    {
     "cell_type": "code",
     "collapsed": false,
     "input": [
      "# unstack the who level\n",
      "multi_user_sensor_data.unstack()"
     ],
     "language": "python",
     "metadata": {},
     "outputs": [
      {
       "metadata": {},
       "output_type": "pyout",
       "prompt_number": 47,
       "text": [
        "                reading             \n",
        "axis                  X     Y      Z\n",
        "who    interval                     \n",
        "Mikael 0            0.0  50.0  100.0\n",
        "       1           10.0  40.0   90.0\n",
        "       2           20.0  30.0   80.0\n",
        "       3           30.0  20.0   70.0\n",
        "Mike   0            0.0   0.5    1.0\n",
        "       1            0.1   0.4    0.9\n",
        "       2            0.2   0.3    0.8\n",
        "       3            0.3   0.2    0.7"
       ]
      }
     ],
     "prompt_number": 47
    },
    {
     "cell_type": "code",
     "collapsed": false,
     "input": [
      "# unstack at level=0\n",
      "multi_user_sensor_data.unstack(level=0)"
     ],
     "language": "python",
     "metadata": {},
     "outputs": [
      {
       "metadata": {},
       "output_type": "pyout",
       "prompt_number": 48,
       "text": [
        "              reading     \n",
        "who            Mikael Mike\n",
        "interval axis             \n",
        "0        X          0  0.0\n",
        "         Y         50  0.5\n",
        "         Z        100  1.0\n",
        "1        X         10  0.1\n",
        "         Y         40  0.4\n",
        "...               ...  ...\n",
        "2        Y         30  0.3\n",
        "         Z         80  0.8\n",
        "3        X         30  0.3\n",
        "         Y         20  0.2\n",
        "         Z         70  0.7\n",
        "\n",
        "[12 rows x 2 columns]"
       ]
      }
     ],
     "prompt_number": 48
    },
    {
     "cell_type": "code",
     "collapsed": false,
     "input": [
      "# unstack who and axis levels\n",
      "unstacked = multi_user_sensor_data.unstack(['who', 'axis'])\n",
      "unstacked"
     ],
     "language": "python",
     "metadata": {},
     "outputs": [
      {
       "metadata": {},
       "output_type": "pyout",
       "prompt_number": 49,
       "text": [
        "         reading                          \n",
        "who         Mike           Mikael         \n",
        "axis           X    Y    Z      X   Y    Z\n",
        "interval                                  \n",
        "0            0.0  0.5  1.0      0  50  100\n",
        "1            0.1  0.4  0.9     10  40   90\n",
        "2            0.2  0.3  0.8     20  30   80\n",
        "3            0.3  0.2  0.7     30  20   70"
       ]
      }
     ],
     "prompt_number": 49
    },
    {
     "cell_type": "code",
     "collapsed": false,
     "input": [
      "# and we can of course stack what we have unstacked\n",
      "# this re-stacks who\n",
      "unstacked.stack(level='who')"
     ],
     "language": "python",
     "metadata": {},
     "outputs": [
      {
       "metadata": {},
       "output_type": "pyout",
       "prompt_number": 50,
       "text": [
        "                reading             \n",
        "axis                  X     Y      Z\n",
        "interval who                        \n",
        "0        Mikael     0.0  50.0  100.0\n",
        "         Mike       0.0   0.5    1.0\n",
        "1        Mikael    10.0  40.0   90.0\n",
        "         Mike       0.1   0.4    0.9\n",
        "2        Mikael    20.0  30.0   80.0\n",
        "         Mike       0.2   0.3    0.8\n",
        "3        Mikael    30.0  20.0   70.0\n",
        "         Mike       0.3   0.2    0.7"
       ]
      }
     ],
     "prompt_number": 50
    },
    {
     "cell_type": "heading",
     "level": 1,
     "metadata": {},
     "source": [
      "Melting"
     ]
    },
    {
     "cell_type": "code",
     "collapsed": false,
     "input": [
      "# we will demonstrate melting with this DataFrame\n",
      "data = pd.DataFrame({'Name' : ['Mike', 'Mikael'],\n",
      "                     'Height' : [6.1, 6.0],\n",
      "                     'Weight' : [220, 185]})\n",
      "data"
     ],
     "language": "python",
     "metadata": {},
     "outputs": [
      {
       "metadata": {},
       "output_type": "pyout",
       "prompt_number": 51,
       "text": [
        "   Height    Name  Weight\n",
        "0     6.1    Mike     220\n",
        "1     6.0  Mikael     185"
       ]
      }
     ],
     "prompt_number": 51
    },
    {
     "cell_type": "code",
     "collapsed": false,
     "input": [
      "# melt it, use Name as the id's, \n",
      "# Height and Weight columns as the variables\n",
      "pd.melt(data, \n",
      "        id_vars=['Name'],\n",
      "        value_vars=['Height', 'Weight'])"
     ],
     "language": "python",
     "metadata": {},
     "outputs": [
      {
       "metadata": {},
       "output_type": "pyout",
       "prompt_number": 52,
       "text": [
        "     Name variable  value\n",
        "0    Mike   Height    6.1\n",
        "1  Mikael   Height    6.0\n",
        "2    Mike   Weight  220.0\n",
        "3  Mikael   Weight  185.0"
       ]
      }
     ],
     "prompt_number": 52
    },
    {
     "cell_type": "heading",
     "level": 1,
     "metadata": {},
     "source": [
      "A note on the performance benefits of stacked data"
     ]
    },
    {
     "cell_type": "code",
     "collapsed": false,
     "input": [
      "# stacked scalar access can be a lot faster than\n",
      "# column access\n",
      "\n",
      "# time the different methods\n",
      "import timeit\n",
      "t = timeit.Timer(\"stacked1[('one', 'a')]\", \n",
      "                 \"from __main__ import stacked1, df\")\n",
      "r1 = timeit.timeit(lambda: stacked1.loc[('one', 'a')], \n",
      "                   number=10000)\n",
      "r2 = timeit.timeit(lambda: df.loc['one']['a'], \n",
      "                   number=10000)\n",
      "r3 = timeit.timeit(lambda: df.iloc[1, 0], \n",
      "                   number=10000)\n",
      "\n",
      "# and the results are...  Yes, it's the fastest of the three\n",
      "r1, r2, r3"
     ],
     "language": "python",
     "metadata": {},
     "outputs": [
      {
       "metadata": {},
       "output_type": "pyout",
       "prompt_number": 53,
       "text": [
        "(0.5667150020599365, 0.9489731788635254, 1.2142961025238037)"
       ]
      }
     ],
     "prompt_number": 53
    }
   ],
   "metadata": {}
  }
 ]
}