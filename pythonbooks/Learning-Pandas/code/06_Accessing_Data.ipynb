{
 "metadata": {
  "name": "",
  "signature": "sha256:2fbdea8a3b773cbd002c804a9e318efcb201d34ce01b3bb4841acb01d4f93f8e"
 },
 "nbformat": 3,
 "nbformat_minor": 0,
 "worksheets": [
  {
   "cells": [
    {
     "cell_type": "heading",
     "level": 1,
     "metadata": {},
     "source": [
      "Setting up the notebook"
     ]
    },
    {
     "cell_type": "code",
     "collapsed": false,
     "input": [
      "# import pandas and numpy\n",
      "import numpy as np\n",
      "import pandas as pd\n",
      "\n",
      "# Set some pandas options for controlling output\n",
      "pd.set_option('display.notebook_repr_html', False)\n",
      "pd.set_option('display.max_columns', 10)\n",
      "pd.set_option('display.max_rows', 10)"
     ],
     "language": "python",
     "metadata": {},
     "outputs": [],
     "prompt_number": 1
    },
    {
     "cell_type": "heading",
     "level": 1,
     "metadata": {},
     "source": [
      "Reading from CSV files"
     ]
    },
    {
     "cell_type": "heading",
     "level": 2,
     "metadata": {},
     "source": [
      "The sample CSV data set"
     ]
    },
    {
     "cell_type": "code",
     "collapsed": false,
     "input": [
      "# view the first five lines of data/msft.csv\n",
      "!head -n 5 data/msft.csv # mac or Linux\n",
      "# type data/msft.csv # on windows, but shows the entire file"
     ],
     "language": "python",
     "metadata": {},
     "outputs": [
      {
       "output_type": "stream",
       "stream": "stdout",
       "text": [
        "Date,Open,High,Low,Close,Volume,Adj Close\r\n",
        "2014-07-21,83.46,83.53,81.81,81.93,2359300,81.93\r\n",
        "2014-07-18,83.30,83.40,82.52,83.35,4020800,83.35\r\n",
        "2014-07-17,84.35,84.63,83.33,83.63,1974000,83.63\r\n",
        "2014-07-16,83.77,84.91,83.66,84.91,1755600,84.91\r\n"
       ]
      }
     ],
     "prompt_number": 2
    },
    {
     "cell_type": "heading",
     "level": 2,
     "metadata": {},
     "source": [
      "Reading a CSV into a DataFrame"
     ]
    },
    {
     "cell_type": "code",
     "collapsed": false,
     "input": [
      "# read in msft.csv into a DataFrame\n",
      "msft = pd.read_csv(\"data/msft.csv\")\n",
      "msft.head()"
     ],
     "language": "python",
     "metadata": {},
     "outputs": [
      {
       "metadata": {},
       "output_type": "pyout",
       "prompt_number": 3,
       "text": [
        "         Date   Open   High    Low  Close   Volume  Adj Close\n",
        "0  2014-07-21  83.46  83.53  81.81  81.93  2359300      81.93\n",
        "1  2014-07-18  83.30  83.40  82.52  83.35  4020800      83.35\n",
        "2  2014-07-17  84.35  84.63  83.33  83.63  1974000      83.63\n",
        "3  2014-07-16  83.77  84.91  83.66  84.91  1755600      84.91\n",
        "4  2014-07-15  84.30  84.38  83.20  83.58  1874700      83.58"
       ]
      }
     ],
     "prompt_number": 3
    },
    {
     "cell_type": "heading",
     "level": 2,
     "metadata": {},
     "source": [
      "Specifying the index column when reading a CSV file"
     ]
    },
    {
     "cell_type": "code",
     "collapsed": false,
     "input": [
      "# use column 0 as the index\n",
      "msft = pd.read_csv(\"data/msft.csv\", index_col=0)\n",
      "msft.head()"
     ],
     "language": "python",
     "metadata": {},
     "outputs": [
      {
       "metadata": {},
       "output_type": "pyout",
       "prompt_number": 4,
       "text": [
        "             Open   High    Low  Close   Volume  Adj Close\n",
        "Date                                                      \n",
        "2014-07-21  83.46  83.53  81.81  81.93  2359300      81.93\n",
        "2014-07-18  83.30  83.40  82.52  83.35  4020800      83.35\n",
        "2014-07-17  84.35  84.63  83.33  83.63  1974000      83.63\n",
        "2014-07-16  83.77  84.91  83.66  84.91  1755600      84.91\n",
        "2014-07-15  84.30  84.38  83.20  83.58  1874700      83.58"
       ]
      }
     ],
     "prompt_number": 4
    },
    {
     "cell_type": "heading",
     "level": 3,
     "metadata": {},
     "source": [
      "Data type inference and specification"
     ]
    },
    {
     "cell_type": "code",
     "collapsed": false,
     "input": [
      "# examine the types of the columns in this DataFrame\n",
      "msft.dtypes"
     ],
     "language": "python",
     "metadata": {},
     "outputs": [
      {
       "metadata": {},
       "output_type": "pyout",
       "prompt_number": 5,
       "text": [
        "Open         float64\n",
        "High         float64\n",
        "Low          float64\n",
        "Close        float64\n",
        "Volume         int64\n",
        "Adj Close    float64\n",
        "dtype: object"
       ]
      }
     ],
     "prompt_number": 5
    },
    {
     "cell_type": "code",
     "collapsed": false,
     "input": [
      "# specify that the Volume column should be a float64\n",
      "msft = pd.read_csv(\"data/msft.csv\", \n",
      "                   dtype = { 'Volume' : np.float64})\n",
      "msft.dtypes"
     ],
     "language": "python",
     "metadata": {},
     "outputs": [
      {
       "metadata": {},
       "output_type": "pyout",
       "prompt_number": 6,
       "text": [
        "Date          object\n",
        "Open         float64\n",
        "High         float64\n",
        "Low          float64\n",
        "Close        float64\n",
        "Volume       float64\n",
        "Adj Close    float64\n",
        "dtype: object"
       ]
      }
     ],
     "prompt_number": 6
    },
    {
     "cell_type": "heading",
     "level": 2,
     "metadata": {},
     "source": [
      "Specifying column names"
     ]
    },
    {
     "cell_type": "code",
     "collapsed": false,
     "input": [
      "# specify a new set of names for the columns\n",
      "# all lower case, remove space in Adj Close\n",
      "# also, header=0 skips the header row\n",
      "df = pd.read_csv(\"data/msft.csv\", \n",
      "                 header=0,\n",
      "                 names=['open', 'high', 'low', \n",
      "                        'close', 'volume', 'adjclose'])\n",
      "df.head()"
     ],
     "language": "python",
     "metadata": {},
     "outputs": [
      {
       "metadata": {},
       "output_type": "pyout",
       "prompt_number": 7,
       "text": [
        "             open   high    low  close   volume  adjclose\n",
        "2014-07-21  83.46  83.53  81.81  81.93  2359300     81.93\n",
        "2014-07-18  83.30  83.40  82.52  83.35  4020800     83.35\n",
        "2014-07-17  84.35  84.63  83.33  83.63  1974000     83.63\n",
        "2014-07-16  83.77  84.91  83.66  84.91  1755600     84.91\n",
        "2014-07-15  84.30  84.38  83.20  83.58  1874700     83.58"
       ]
      }
     ],
     "prompt_number": 7
    },
    {
     "cell_type": "heading",
     "level": 3,
     "metadata": {},
     "source": [
      "Specifying specific columns to load"
     ]
    },
    {
     "cell_type": "code",
     "collapsed": false,
     "input": [
      "# read in data only in the Date and Close columns\n",
      "# and index by the Date column\n",
      "df2 = pd.read_csv(\"data/msft.csv\", \n",
      "                  usecols=['Date', 'Close'], \n",
      "                  index_col=['Date'])\n",
      "df2.head()"
     ],
     "language": "python",
     "metadata": {},
     "outputs": [
      {
       "metadata": {},
       "output_type": "pyout",
       "prompt_number": 8,
       "text": [
        "            Close\n",
        "Date             \n",
        "2014-07-21  81.93\n",
        "2014-07-18  83.35\n",
        "2014-07-17  83.63\n",
        "2014-07-16  84.91\n",
        "2014-07-15  83.58"
       ]
      }
     ],
     "prompt_number": 8
    },
    {
     "cell_type": "heading",
     "level": 2,
     "metadata": {},
     "source": [
      "Saving a DataFrame to a CSV"
     ]
    },
    {
     "cell_type": "code",
     "collapsed": false,
     "input": [
      "# save df2 to a new csv file\n",
      "# also specify naming the index as date\n",
      "df2.to_csv(\"data/msft_modified.csv\", index_label='date')"
     ],
     "language": "python",
     "metadata": {},
     "outputs": [],
     "prompt_number": 9
    },
    {
     "cell_type": "code",
     "collapsed": false,
     "input": [
      "# view the start of the file just saved\n",
      "!head data/msft_modified.csv\n",
      "#type data/msft_modified.csv # windows"
     ],
     "language": "python",
     "metadata": {},
     "outputs": [
      {
       "output_type": "stream",
       "stream": "stdout",
       "text": [
        "date,Close\r\n",
        "2014-07-21,81.93\r\n",
        "2014-07-18,83.35\r\n",
        "2014-07-17,83.63\r\n",
        "2014-07-16,84.91\r\n",
        "2014-07-15,83.58\r\n",
        "2014-07-14,84.4\r\n",
        "2014-07-11,83.35\r\n",
        "2014-07-10,83.42\r\n",
        "2014-07-09,85.5\r\n"
       ]
      }
     ],
     "prompt_number": 10
    },
    {
     "cell_type": "heading",
     "level": 2,
     "metadata": {},
     "source": [
      "General field-delimited data"
     ]
    },
    {
     "cell_type": "code",
     "collapsed": false,
     "input": [
      "# use read_table with sep=',' to read a CSV\n",
      "df = pd.read_table(\"data/msft.csv\", sep=',')\n",
      "df.head()"
     ],
     "language": "python",
     "metadata": {},
     "outputs": [
      {
       "metadata": {},
       "output_type": "pyout",
       "prompt_number": 11,
       "text": [
        "         Date   Open   High    Low  Close   Volume  Adj Close\n",
        "0  2014-07-21  83.46  83.53  81.81  81.93  2359300      81.93\n",
        "1  2014-07-18  83.30  83.40  82.52  83.35  4020800      83.35\n",
        "2  2014-07-17  84.35  84.63  83.33  83.63  1974000      83.63\n",
        "3  2014-07-16  83.77  84.91  83.66  84.91  1755600      84.91\n",
        "4  2014-07-15  84.30  84.38  83.20  83.58  1874700      83.58"
       ]
      }
     ],
     "prompt_number": 11
    },
    {
     "cell_type": "code",
     "collapsed": false,
     "input": [
      "# save as pipe delimited\n",
      "df.to_csv(\"data/msft_piped.txt\", sep='|')\n",
      "# check that it worked\n",
      "!head -n 5 data/msft_piped.txt # osx or Linux\n",
      "# type data/psft_piped.txt # on windows"
     ],
     "language": "python",
     "metadata": {},
     "outputs": [
      {
       "output_type": "stream",
       "stream": "stdout",
       "text": [
        "|Date|Open|High|Low|Close|Volume|Adj Close\r\n",
        "0|2014-07-21|83.46|83.53|81.81|81.93|2359300|81.93\r\n",
        "1|2014-07-18|83.3|83.4|82.52|83.35|4020800|83.35\r\n",
        "2|2014-07-17|84.35|84.63|83.33|83.63|1974000|83.63\r\n",
        "3|2014-07-16|83.77|84.91|83.66|84.91|1755600|84.91\r\n"
       ]
      }
     ],
     "prompt_number": 12
    },
    {
     "cell_type": "heading",
     "level": 2,
     "metadata": {},
     "source": [
      "Handling variants of formats in field-delimited data"
     ]
    },
    {
     "cell_type": "code",
     "collapsed": false,
     "input": [
      "# messy file\n",
      "!head data/msft2.csv # osx or Linux\n",
      "# type data/msft2.csv # windows"
     ],
     "language": "python",
     "metadata": {},
     "outputs": [
      {
       "output_type": "stream",
       "stream": "stdout",
       "text": [
        "This is fun because the data does not start on the first line\r\n",
        "Date,Open,High,Low,Close,Volume,Adj Close\r\n",
        "\r\n",
        "And there is space between the header row and data\r\n",
        "2014-07-21,83.46,83.53,81.81,81.93,2359300,81.93\r\n",
        "2014-07-18,83.30,83.40,82.52,83.35,4020800,83.35\r\n",
        "2014-07-17,84.35,84.63,83.33,83.63,1974000,83.63\r\n",
        "2014-07-16,83.77,84.91,83.66,84.91,1755600,84.91\r\n",
        "2014-07-15,84.30,84.38,83.20,83.58,1874700,83.58\r\n",
        "2014-07-14,83.66,84.64,83.11,84.40,1432100,84.40\r\n"
       ]
      }
     ],
     "prompt_number": 13
    },
    {
     "cell_type": "code",
     "collapsed": false,
     "input": [
      "# read, but skip rows 0, 2 and 3\n",
      "df = pd.read_csv(\"data/msft2.csv\", skiprows=[0, 2, 3])\n",
      "df"
     ],
     "language": "python",
     "metadata": {},
     "outputs": [
      {
       "metadata": {},
       "output_type": "pyout",
       "prompt_number": 14,
       "text": [
        "         Date   Open   High    Low  Close   Volume  Adj Close\n",
        "0         NaN    NaN    NaN    NaN    NaN      NaN        NaN\n",
        "1  2014-07-21  83.46  83.53  81.81  81.93  2359300      81.93\n",
        "2  2014-07-18  83.30  83.40  82.52  83.35  4020800      83.35\n",
        "3  2014-07-17  84.35  84.63  83.33  83.63  1974000      83.63\n",
        "4  2014-07-16  83.77  84.91  83.66  84.91  1755600      84.91\n",
        "5  2014-07-15  84.30  84.38  83.20  83.58  1874700      83.58\n",
        "6  2014-07-14  83.66  84.64  83.11  84.40  1432100      84.40\n",
        "7  2014-07-11  83.55  83.98  82.85  83.35  2001400      83.35\n",
        "8  2014-07-10  85.20  85.57  83.36  83.42  2713300      83.42\n",
        "9  2014-07-09  84.83  85.79  84.76  85.50  1540700      85.50"
       ]
      }
     ],
     "prompt_number": 14
    },
    {
     "cell_type": "code",
     "collapsed": false,
     "input": [
      "# another messy file, with the mess at the end\n",
      "!cat data/msft_with_footer.csv # osx or Linux\n",
      "# type data/msft_with_footer.csv # windows"
     ],
     "language": "python",
     "metadata": {},
     "outputs": [
      {
       "output_type": "stream",
       "stream": "stdout",
       "text": [
        "Date,Open,High,Low,Close,Volume,Adj Close\r\n",
        "2014-07-21,83.46,83.53,81.81,81.93,2359300,81.93\r\n",
        "2014-07-18,83.30,83.40,82.52,83.35,4020800,83.35\r\n",
        "\r\n",
        "Uh oh, there is stuff at the end."
       ]
      }
     ],
     "prompt_number": 15
    },
    {
     "cell_type": "code",
     "collapsed": false,
     "input": [
      "# skip only two lines at the end\n",
      "df = pd.read_csv(\"data/msft_with_footer.csv\", \n",
      "                 skip_footer=2,\n",
      "                 engine = 'python')\n",
      "df"
     ],
     "language": "python",
     "metadata": {},
     "outputs": [
      {
       "metadata": {},
       "output_type": "pyout",
       "prompt_number": 16,
       "text": [
        "         Date   Open   High    Low  Close   Volume  Adj Close\n",
        "0  2014-07-21  83.46  83.53  81.81  81.93  2359300      81.93\n",
        "1  2014-07-18  83.30  83.40  82.52  83.35  4020800      83.35"
       ]
      }
     ],
     "prompt_number": 16
    },
    {
     "cell_type": "code",
     "collapsed": false,
     "input": [
      "# only process the first three rows\n",
      "pd.read_csv(\"data/msft.csv\", nrows=3)"
     ],
     "language": "python",
     "metadata": {},
     "outputs": [
      {
       "metadata": {},
       "output_type": "pyout",
       "prompt_number": 17,
       "text": [
        "         Date   Open   High    Low  Close   Volume  Adj Close\n",
        "0  2014-07-21  83.46  83.53  81.81  81.93  2359300      81.93\n",
        "1  2014-07-18  83.30  83.40  82.52  83.35  4020800      83.35\n",
        "2  2014-07-17  84.35  84.63  83.33  83.63  1974000      83.63"
       ]
      }
     ],
     "prompt_number": 17
    },
    {
     "cell_type": "code",
     "collapsed": false,
     "input": [
      "# skip 100 lines, then only process the next five\n",
      "pd.read_csv(\"data/msft.csv\", skiprows=100, nrows=5, \n",
      "            header=0,\n",
      "            names=['open', 'high', 'low', 'close', 'vol', \n",
      "                   'adjclose'])"
     ],
     "language": "python",
     "metadata": {},
     "outputs": [
      {
       "metadata": {},
       "output_type": "pyout",
       "prompt_number": 18,
       "text": [
        "             open   high    low  close      vol  adjclose\n",
        "2014-03-03  80.35  81.31  79.91  79.97  5004100     77.40\n",
        "2014-02-28  82.40  83.42  82.17  83.42  2853200     80.74\n",
        "2014-02-27  84.06  84.63  81.63  82.00  3676800     79.36\n",
        "2014-02-26  82.92  84.03  82.43  83.81  2623600     81.12\n",
        "2014-02-25  83.80  83.80  81.72  83.08  3579100     80.41"
       ]
      }
     ],
     "prompt_number": 18
    },
    {
     "cell_type": "heading",
     "level": 1,
     "metadata": {},
     "source": [
      "Reading and writing data in Excel format"
     ]
    },
    {
     "cell_type": "code",
     "collapsed": false,
     "input": [
      "# read excel file\n",
      "# only reads first sheet (msft in this case)\n",
      "df = pd.read_excel(\"data/stocks.xlsx\")\n",
      "df.head()"
     ],
     "language": "python",
     "metadata": {},
     "outputs": [
      {
       "metadata": {},
       "output_type": "pyout",
       "prompt_number": 19,
       "text": [
        "        Date   Open   High    Low  Close   Volume  Adj Close\n",
        "0 2014-07-21  83.46  83.53  81.81  81.93  2359300      81.93\n",
        "1 2014-07-18  83.30  83.40  82.52  83.35  4020800      83.35\n",
        "2 2014-07-17  84.35  84.63  83.33  83.63  1974000      83.63\n",
        "3 2014-07-16  83.77  84.91  83.66  84.91  1755600      84.91\n",
        "4 2014-07-15  84.30  84.38  83.20  83.58  1874700      83.58"
       ]
      }
     ],
     "prompt_number": 19
    },
    {
     "cell_type": "code",
     "collapsed": false,
     "input": [
      "# read from the aapl worksheet\n",
      "aapl = pd.read_excel(\"data/stocks.xlsx\", sheetname='aapl')\n",
      "aapl.head()"
     ],
     "language": "python",
     "metadata": {},
     "outputs": [
      {
       "metadata": {},
       "output_type": "pyout",
       "prompt_number": 20,
       "text": [
        "        Date   Open   High    Low  Close    Volume  Adj Close\n",
        "0 2014-07-21  94.99  95.00  93.72  93.94  38887700      93.94\n",
        "1 2014-07-18  93.62  94.74  93.02  94.43  49898600      94.43\n",
        "2 2014-07-17  95.03  95.28  92.57  93.09  57152000      93.09\n",
        "3 2014-07-16  96.97  97.10  94.74  94.78  53396300      94.78\n",
        "4 2014-07-15  96.80  96.85  95.03  95.32  45477900      95.32"
       ]
      }
     ],
     "prompt_number": 20
    },
    {
     "cell_type": "code",
     "collapsed": false,
     "input": [
      "# save to an .XLS file, in worksheet 'Sheet1'\n",
      "df.to_excel(\"data/stocks2.xls\")"
     ],
     "language": "python",
     "metadata": {},
     "outputs": [],
     "prompt_number": 21
    },
    {
     "cell_type": "code",
     "collapsed": false,
     "input": [
      "# write making the worksheet name MSFT\n",
      "df.to_excel(\"data/stocks_msft.xls\", sheet_name='MSFT')"
     ],
     "language": "python",
     "metadata": {},
     "outputs": [],
     "prompt_number": 22
    },
    {
     "cell_type": "code",
     "collapsed": false,
     "input": [
      "# write multiple sheets\n",
      "# requires use of the ExcelWriter class\n",
      "from pandas import ExcelWriter\n",
      "with ExcelWriter(\"data/all_stocks.xls\") as writer:\n",
      "    aapl.to_excel(writer, sheet_name='AAPL')\n",
      "    df.to_excel(writer, sheet_name='MSFT')"
     ],
     "language": "python",
     "metadata": {},
     "outputs": [],
     "prompt_number": 23
    },
    {
     "cell_type": "code",
     "collapsed": false,
     "input": [
      "# write to xlsx\n",
      "df.to_excel(\"data/msft2.xlsx\")"
     ],
     "language": "python",
     "metadata": {},
     "outputs": [],
     "prompt_number": 24
    },
    {
     "cell_type": "heading",
     "level": 1,
     "metadata": {},
     "source": [
      "Reading and writing JSON files"
     ]
    },
    {
     "cell_type": "code",
     "collapsed": false,
     "input": [
      "# wirite the excel data to a JSON file\n",
      "df.head().to_json(\"data/stocks.json\")\n",
      "!cat data/stocks.json # osx or Linux\n",
      "#type data/stocks.json # windows"
     ],
     "language": "python",
     "metadata": {},
     "outputs": [
      {
       "output_type": "stream",
       "stream": "stdout",
       "text": [
        "{\"Date\":{\"0\":1405900800000,\"1\":1405641600000,\"2\":1405555200000,\"3\":1405468800000,\"4\":1405382400000},\"Open\":{\"0\":83.46,\"1\":83.3,\"2\":84.35,\"3\":83.77,\"4\":84.3},\"High\":{\"0\":83.53,\"1\":83.4,\"2\":84.63,\"3\":84.91,\"4\":84.38},\"Low\":{\"0\":81.81,\"1\":82.52,\"2\":83.33,\"3\":83.66,\"4\":83.2},\"Close\":{\"0\":81.93,\"1\":83.35,\"2\":83.63,\"3\":84.91,\"4\":83.58},\"Volume\":{\"0\":2359300,\"1\":4020800,\"2\":1974000,\"3\":1755600,\"4\":1874700},\"Adj Close\":{\"0\":81.93,\"1\":83.35,\"2\":83.63,\"3\":84.91,\"4\":83.58}}"
       ]
      }
     ],
     "prompt_number": 25
    },
    {
     "cell_type": "code",
     "collapsed": false,
     "input": [
      "# read data in from JSON\n",
      "df_from_json = pd.read_json(\"data/stocks.json\")\n",
      "df_from_json.head(5)"
     ],
     "language": "python",
     "metadata": {},
     "outputs": [
      {
       "metadata": {},
       "output_type": "pyout",
       "prompt_number": 26,
       "text": [
        "   Adj Close  Close       Date   High    Low   Open   Volume\n",
        "0      81.93  81.93 2014-07-21  83.53  81.81  83.46  2359300\n",
        "1      83.35  83.35 2014-07-18  83.40  82.52  83.30  4020800\n",
        "2      83.63  83.63 2014-07-17  84.63  83.33  84.35  1974000\n",
        "3      84.91  84.91 2014-07-16  84.91  83.66  83.77  1755600\n",
        "4      83.58  83.58 2014-07-15  84.38  83.20  84.30  1874700"
       ]
      }
     ],
     "prompt_number": 26
    },
    {
     "cell_type": "heading",
     "level": 1,
     "metadata": {},
     "source": [
      "Reading HTML data from the Web"
     ]
    },
    {
     "cell_type": "code",
     "collapsed": false,
     "input": [
      "# the URL to read\n",
      "url = \"http://www.fdic.gov/bank/individual/failed/banklist.html\"\n",
      "# read it\n",
      "banks = pd.read_html(url)\n",
      "# examine a subset of the first table read\n",
      "banks[0][0:5].ix[:,0:4]"
     ],
     "language": "python",
     "metadata": {},
     "outputs": [
      {
       "metadata": {},
       "output_type": "pyout",
       "prompt_number": 27,
       "text": [
        "                           Bank Name       City  ST   CERT\n",
        "0               Doral BankEn Espanol   San Juan  PR  32102\n",
        "1  Capitol City Bank & Trust Company    Atlanta  GA  33938\n",
        "2            Highland Community Bank    Chicago  IL  20290\n",
        "3   First National Bank of Crestview  Crestview  FL  17557\n",
        "4                 Northern Star Bank    Mankato  MN  34983"
       ]
      }
     ],
     "prompt_number": 27
    },
    {
     "cell_type": "code",
     "collapsed": false,
     "input": [
      "# read the stock data\n",
      "df = pd.read_excel(\"data/stocks.xlsx\")\n",
      "# write the first two rows to HTML\n",
      "df.head(2).to_html(\"data/stocks.html\")\n",
      "# check the first 28 lines of the output\n",
      "!head -n 28 data/stocks.html # max or Linux\n",
      "# type data/stocks.html # window, but prints the entire file"
     ],
     "language": "python",
     "metadata": {},
     "outputs": [
      {
       "output_type": "stream",
       "stream": "stdout",
       "text": [
        "<table border=\"1\" class=\"dataframe\">\r\n",
        "  <thead>\r\n",
        "    <tr style=\"text-align: right;\">\r\n",
        "      <th></th>\r\n",
        "      <th>Date</th>\r\n",
        "      <th>Open</th>\r\n",
        "      <th>High</th>\r\n",
        "      <th>Low</th>\r\n",
        "      <th>Close</th>\r\n",
        "      <th>Volume</th>\r\n",
        "      <th>Adj Close</th>\r\n",
        "    </tr>\r\n",
        "  </thead>\r\n",
        "  <tbody>\r\n",
        "    <tr>\r\n",
        "      <th>0</th>\r\n",
        "      <td>2014-07-21</td>\r\n",
        "      <td> 83.46</td>\r\n",
        "      <td> 83.53</td>\r\n",
        "      <td> 81.81</td>\r\n",
        "      <td> 81.93</td>\r\n",
        "      <td> 2359300</td>\r\n",
        "      <td> 81.93</td>\r\n",
        "    </tr>\r\n",
        "    <tr>\r\n",
        "      <th>1</th>\r\n",
        "      <td>2014-07-18</td>\r\n",
        "      <td> 83.30</td>\r\n"
       ]
      }
     ],
     "prompt_number": 28
    },
    {
     "cell_type": "heading",
     "level": 1,
     "metadata": {},
     "source": [
      "Reading and writing HDF5 format files"
     ]
    },
    {
     "cell_type": "code",
     "collapsed": false,
     "input": [
      "# seed for replication\n",
      "np.random.seed(123456)\n",
      "# create a DataFrame of dates and random numbers in three columns\n",
      "df = pd.DataFrame(np.random.randn(8, 3), \n",
      "                  index=pd.date_range('1/1/2000', periods=8),\n",
      "                  columns=['A', 'B', 'C'])\n",
      "\n",
      "# create HDF5 store\n",
      "store = pd.HDFStore('data/store.h5')\n",
      "store['df'] = df # persisting happened here\n",
      "store"
     ],
     "language": "python",
     "metadata": {},
     "outputs": [
      {
       "metadata": {},
       "output_type": "pyout",
       "prompt_number": 29,
       "text": [
        "<class 'pandas.io.pytables.HDFStore'>\n",
        "File path: data/store.h5\n",
        "/df            frame        (shape->[8,3])"
       ]
      }
     ],
     "prompt_number": 29
    },
    {
     "cell_type": "code",
     "collapsed": false,
     "input": [
      "# read in data from HDF5\n",
      "store = pd.HDFStore(\"data/store.h5\")\n",
      "df = store['df']\n",
      "df"
     ],
     "language": "python",
     "metadata": {},
     "outputs": [
      {
       "metadata": {},
       "output_type": "pyout",
       "prompt_number": 30,
       "text": [
        "                   A         B         C\n",
        "2000-01-01  0.469112 -0.282863 -1.509059\n",
        "2000-01-02 -1.135632  1.212112 -0.173215\n",
        "2000-01-03  0.119209 -1.044236 -0.861849\n",
        "2000-01-04 -2.104569 -0.494929  1.071804\n",
        "2000-01-05  0.721555 -0.706771 -1.039575\n",
        "2000-01-06  0.271860 -0.424972  0.567020\n",
        "2000-01-07  0.276232 -1.087401 -0.673690\n",
        "2000-01-08  0.113648 -1.478427  0.524988"
       ]
      }
     ],
     "prompt_number": 30
    },
    {
     "cell_type": "code",
     "collapsed": false,
     "input": [
      "# this changes the DataFrame, but did not persist\n",
      "df.ix[0].A = 1 \n",
      "\n",
      "# to persist the change, assign the DataFrame to the \n",
      "# HDF5 store object\n",
      "store['df'] = df\n",
      "# it is now persisted\n",
      "\n",
      "# the following loads the store and \n",
      "# shows the first two rows, demonstrating\n",
      "# the the persisting was done\n",
      "pd.HDFStore(\"data/store.h5\")['df'].head(2) # it's now in there"
     ],
     "language": "python",
     "metadata": {},
     "outputs": [
      {
       "metadata": {},
       "output_type": "pyout",
       "prompt_number": 31,
       "text": [
        "                   A         B         C\n",
        "2000-01-01  1.000000 -0.282863 -1.509059\n",
        "2000-01-02 -1.135632  1.212112 -0.173215"
       ]
      }
     ],
     "prompt_number": 31
    },
    {
     "cell_type": "heading",
     "level": 1,
     "metadata": {},
     "source": [
      "Accessing data on the web and in the cloud"
     ]
    },
    {
     "cell_type": "code",
     "collapsed": false,
     "input": [
      "# read csv directly from Yahoo! Finance from a URL\n",
      "df = pd.read_csv(\"http://ichart.yahoo.com/table.csv?s=MSFT&\" +\n",
      "                 \"a=5&b=1&c=2014&\" +\n",
      "                 \"d=5&e=30&f=2014&\" +\n",
      "                 \"g=d&ignore=.csv\")\n",
      "df[:5]"
     ],
     "language": "python",
     "metadata": {},
     "outputs": [
      {
       "metadata": {},
       "output_type": "pyout",
       "prompt_number": 32,
       "text": [
        "         Date   Open   High    Low  Close    Volume  Adj Close\n",
        "0  2014-06-30  42.17  42.21  41.70  41.70  30805500      40.89\n",
        "1  2014-06-27  41.61  42.29  41.51  42.25  74640000      41.43\n",
        "2  2014-06-26  41.93  41.94  41.43  41.72  23604400      40.91\n",
        "3  2014-06-25  41.70  42.05  41.46  42.03  20049100      41.21\n",
        "4  2014-06-24  41.83  41.94  41.56  41.75  26509100      40.94"
       ]
      }
     ],
     "prompt_number": 32
    },
    {
     "cell_type": "heading",
     "level": 1,
     "metadata": {},
     "source": [
      "Reading and writing from/to SQL databases"
     ]
    },
    {
     "cell_type": "code",
     "collapsed": false,
     "input": [
      "# reference SQLite\n",
      "import sqlite3\n",
      "\n",
      "# read in the stock data from CSV\n",
      "msft = pd.read_csv(\"data/msft.csv\")\n",
      "msft[\"Symbol\"]=\"MSFT\"\n",
      "aapl = pd.read_csv(\"data/aapl.csv\")\n",
      "aapl[\"Symbol\"]=\"AAPL\"\n",
      "\n",
      "# create connection\n",
      "connection = sqlite3.connect(\"data/stocks.sqlite\")\n",
      "# .to_sql() will create SQL to store the DataFrame\n",
      "# in the specified table.  if_exists specifies\n",
      "# what to do if the table already exists\n",
      "msft.to_sql(\"STOCK_DATA\", connection, if_exists=\"replace\")\n",
      "aapl.to_sql(\"STOCK_DATA\", connection, if_exists=\"append\")\n",
      "\n",
      "# commit the SQL and close the connection\n",
      "connection.commit()\n",
      "connection.close()"
     ],
     "language": "python",
     "metadata": {},
     "outputs": [
      {
       "output_type": "stream",
       "stream": "stderr",
       "text": [
        "/Users/michaelheydt/anaconda/lib/python2.7/site-packages/pandas/io/sql.py:1309: UserWarning: The spaces in these column names will not be changed. In pandas versions < 0.14, spaces were converted to underscores.\n",
        "  warnings.warn(_SAFE_NAMES_WARNING)\n"
       ]
      }
     ],
     "prompt_number": 33
    },
    {
     "cell_type": "code",
     "collapsed": false,
     "input": [
      "# connect to the database file\n",
      "connection = sqlite3.connect(\"data/stocks.sqlite\")\n",
      "\n",
      "# query all records in STOCK_DATA\n",
      "# returns a DataFrame\n",
      "# inde_col specifies which column to make the DataFrame index\n",
      "stocks = pd.io.sql.read_sql(\"SELECT * FROM STOCK_DATA;\", \n",
      "                             connection, index_col='index')\n",
      "\n",
      "# close the connection\n",
      "connection.close()\n",
      "\n",
      "# report the head of the data retrieved\n",
      "stocks.head()"
     ],
     "language": "python",
     "metadata": {},
     "outputs": [
      {
       "metadata": {},
       "output_type": "pyout",
       "prompt_number": 34,
       "text": [
        "             Date   Open   High    Low  Close   Volume  Adj Close Symbol\n",
        "index                                                                   \n",
        "0      2014-07-21  83.46  83.53  81.81  81.93  2359300      81.93   MSFT\n",
        "1      2014-07-18  83.30  83.40  82.52  83.35  4020800      83.35   MSFT\n",
        "2      2014-07-17  84.35  84.63  83.33  83.63  1974000      83.63   MSFT\n",
        "3      2014-07-16  83.77  84.91  83.66  84.91  1755600      84.91   MSFT\n",
        "4      2014-07-15  84.30  84.38  83.20  83.58  1874700      83.58   MSFT"
       ]
      }
     ],
     "prompt_number": 34
    },
    {
     "cell_type": "code",
     "collapsed": false,
     "input": [
      "# open the connection\n",
      "connection = sqlite3.connect(\"data/stocks.sqlite\")\n",
      "\n",
      "# construct the query string\n",
      "query = \"SELECT * FROM STOCK_DATA WHERE Volume>29200100 AND Symbol='MSFT';\"\n",
      "\n",
      "# execute and close connection\n",
      "items = pd.io.sql.read_sql(query, connection, index_col='index')\n",
      "connection.close()\n",
      "\n",
      "# report the query result\n",
      "items"
     ],
     "language": "python",
     "metadata": {},
     "outputs": [
      {
       "metadata": {},
       "output_type": "pyout",
       "prompt_number": 35,
       "text": [
        "             Date   Open   High    Low  Close    Volume  Adj Close Symbol\n",
        "index                                                                    \n",
        "1081   2010-05-21  42.22  42.35  40.99  42.00  33610800      36.48   MSFT\n",
        "1097   2010-04-29  46.80  46.95  44.65  45.92  47076200      38.41   MSFT\n",
        "1826   2007-06-15  89.80  92.10  89.55  92.04  30656400      35.87   MSFT\n",
        "3455   2001-03-16  47.00  47.80  46.10  45.33  40806400      17.66   MSFT\n",
        "3712   2000-03-17  49.50  50.00  48.29  50.00  50860500      19.48   MSFT"
       ]
      }
     ],
     "prompt_number": 35
    },
    {
     "cell_type": "heading",
     "level": 1,
     "metadata": {},
     "source": [
      "Reading data from remote data services"
     ]
    },
    {
     "cell_type": "heading",
     "level": 2,
     "metadata": {},
     "source": [
      "Reading stock data from Yahoo! and Google Finance"
     ]
    },
    {
     "cell_type": "code",
     "collapsed": false,
     "input": [
      "# import pandas.io.data namespace, alias as web\n",
      "import pandas.io.data as web\n",
      "# and datetime for the dates\n",
      "import datetime\n",
      "\n",
      "# start end end dates\n",
      "start = datetime.datetime(2012, 1, 1)\n",
      "end = datetime.datetime(2014, 1, 27)\n",
      "\n",
      "# read the MSFT stock data from yahoo! and view the head\n",
      "yahoo = web.DataReader('MSFT', 'yahoo', start, end)\n",
      "yahoo.head()"
     ],
     "language": "python",
     "metadata": {},
     "outputs": [
      {
       "metadata": {},
       "output_type": "pyout",
       "prompt_number": 36,
       "text": [
        "             Open   High    Low  Close    Volume  Adj Close\n",
        "Date                                                       \n",
        "2012-01-03  26.55  26.96  26.39  26.77  64731500      24.42\n",
        "2012-01-04  26.82  27.47  26.78  27.40  80516100      25.00\n",
        "2012-01-05  27.38  27.73  27.29  27.68  56081400      25.25\n",
        "2012-01-06  27.53  28.19  27.53  28.11  99455500      25.64\n",
        "2012-01-09  28.05  28.10  27.72  27.74  59706800      25.31"
       ]
      }
     ],
     "prompt_number": 36
    },
    {
     "cell_type": "code",
     "collapsed": false,
     "input": [
      "# read from google and display the head of the data\n",
      "goog = web.DataReader(\"MSFT\", 'google', start, end)\n",
      "goog.head()"
     ],
     "language": "python",
     "metadata": {},
     "outputs": [
      {
       "metadata": {},
       "output_type": "pyout",
       "prompt_number": 37,
       "text": [
        "             Open   High    Low  Close    Volume\n",
        "\ufeffDate                                           \n",
        "2012-01-03  26.55  26.96  26.39  26.76  64735391\n",
        "2012-01-04  26.82  27.47  26.78  27.40  80519402\n",
        "2012-01-05  27.38  27.73  27.29  27.68  56082205\n",
        "2012-01-06  27.53  28.19  27.52  28.10  99459469\n",
        "2012-01-09  28.05  28.10  27.72  27.74  59708266"
       ]
      }
     ],
     "prompt_number": 37
    },
    {
     "cell_type": "heading",
     "level": 2,
     "metadata": {},
     "source": [
      "Retrieving options data from Yahoo! Finance"
     ]
    },
    {
     "cell_type": "code",
     "collapsed": false,
     "input": [
      "# specify we want all yahoo options data for AAPL\n",
      "# this can take a little time...\n",
      "aapl = pd.io.data.Options('AAPL', 'yahoo')\n",
      "# read all the data\n",
      "data = aapl.get_all_data()\n",
      "# examine the first six rows and four columns\n",
      "data.iloc[0:6, 0:4]"
     ],
     "language": "python",
     "metadata": {},
     "outputs": [
      {
       "metadata": {},
       "output_type": "pyout",
       "prompt_number": 38,
       "text": [
        "                                             Last  Bid  Ask  Chg\n",
        "Strike Expiry     Type Symbol                                   \n",
        "34.29  2016-01-15 call AAPL160115C00034290  92.00    0    0    0\n",
        "                  put  AAPL160115P00034290   0.03    0    0    0\n",
        "35.71  2016-01-15 call AAPL160115C00035710  90.00    0    0    0\n",
        "                  put  AAPL160115P00035710   0.04    0    0    0\n",
        "37.14  2016-01-15 call AAPL160115C00037140  72.55    0    0    0\n",
        "                  put  AAPL160115P00037140   0.04    0    0    0"
       ]
      }
     ],
     "prompt_number": 38
    },
    {
     "cell_type": "code",
     "collapsed": false,
     "input": [
      "# get all puts at strike price of $80 (first four columns only)\n",
      "data.loc[(80, slice(None), 'put'), :].iloc[0:5, 0:4]"
     ],
     "language": "python",
     "metadata": {},
     "outputs": [
      {
       "metadata": {},
       "output_type": "pyout",
       "prompt_number": 39,
       "text": [
        "                                            Last  Bid  Ask  Chg\n",
        "Strike Expiry     Type Symbol                                  \n",
        "80     2015-04-17 put  AAPL150417P00080000  0.01    0    0    0\n",
        "       2015-05-15 put  AAPL150515P00080000  0.02    0    0    0\n",
        "       2015-07-17 put  AAPL150717P00080000  0.12    0    0    0\n",
        "       2015-10-16 put  AAPL151016P00080000  0.34    0    0    0\n",
        "       2016-01-15 put  AAPL160115P00080000  0.69    0    0    0"
       ]
      }
     ],
     "prompt_number": 39
    },
    {
     "cell_type": "code",
     "collapsed": false,
     "input": [
      "# put options at strike of $80, between 2015-01-17 and 2015-04-17\n",
      "data.loc[(80, slice('20150117','20150417'), \n",
      "          'put'), :].iloc[:, 0:4]"
     ],
     "language": "python",
     "metadata": {},
     "outputs": [
      {
       "metadata": {},
       "output_type": "pyout",
       "prompt_number": 40,
       "text": [
        "                                            Last  Bid  Ask  Chg\n",
        "Strike Expiry     Type Symbol                                  \n",
        "80     2015-04-17 put  AAPL150417P00080000  0.01    0    0    0"
       ]
      }
     ],
     "prompt_number": 40
    },
    {
     "cell_type": "code",
     "collapsed": false,
     "input": [
      "# msft calls expiring on 2015-01-05\n",
      "expiry = datetime.date(2015, 1, 5)\n",
      "msft_calls = pd.io.data.Options('MSFT', 'yahoo').get_call_data(\n",
      "                                                    expiry=expiry)\n",
      "msft_calls.iloc[0:5, 0:5]"
     ],
     "language": "python",
     "metadata": {},
     "outputs": [
      {
       "metadata": {},
       "output_type": "pyout",
       "prompt_number": 41,
       "text": [
        "                                            Last  Bid  Ask  Chg PctChg\n",
        "Strike Expiry     Type Symbol                                         \n",
        "26     2015-04-17 call MSFT150417C00026000  17.0    0    0    0  0.00%\n",
        "29     2015-04-17 call MSFT150417C00029000  12.9    0    0    0  0.00%\n",
        "30     2015-04-17 call MSFT150417C00030000  11.2    0    0    0  0.00%\n",
        "31     2015-04-17 call MSFT150417C00031000  18.6    0    0    0  0.00%\n",
        "32     2015-04-17 call MSFT150417C00032000   9.5    0    0    0  0.00%"
       ]
      }
     ],
     "prompt_number": 41
    },
    {
     "cell_type": "code",
     "collapsed": false,
     "input": [
      "# msft calls expiring on 2015-01-05\n",
      "expiry = datetime.date(2015, 1, 17)\n",
      "aapl_calls = aapl.get_call_data(expiry=expiry)\n",
      "aapl_calls.iloc[0:5, 0:4]"
     ],
     "language": "python",
     "metadata": {},
     "outputs": [
      {
       "metadata": {},
       "output_type": "pyout",
       "prompt_number": 42,
       "text": [
        "                                             Last  Bid  Ask  Chg\n",
        "Strike Expiry     Type Symbol                                   \n",
        "45.71  2015-04-17 call AAPL150417C00045710  80.18    0    0    0\n",
        "46.43  2015-04-17 call AAPL150417C00046430  62.42    0    0    0\n",
        "47.86  2015-04-17 call AAPL150417C00047860  69.39    0    0    0\n",
        "48.57  2015-04-17 call AAPL150417C00048570  71.50    0    0    0\n",
        "49.29  2015-04-17 call AAPL150417C00049290  77.25    0    0    0"
       ]
      }
     ],
     "prompt_number": 42
    },
    {
     "cell_type": "heading",
     "level": 2,
     "metadata": {},
     "source": [
      "Reading economic data from the Federal Reserve"
     ]
    },
    {
     "cell_type": "code",
     "collapsed": false,
     "input": [
      "# read GDP data from FRED\n",
      "gdp = web.DataReader(\"GDP\", \"fred\", \n",
      "                     datetime.date(2012, 1, 1), \n",
      "                     datetime.date(2014, 1, 27))\n",
      "gdp"
     ],
     "language": "python",
     "metadata": {},
     "outputs": [
      {
       "metadata": {},
       "output_type": "pyout",
       "prompt_number": 43,
       "text": [
        "                GDP\n",
        "DATE               \n",
        "2012-01-01  15956.5\n",
        "2012-04-01  16094.7\n",
        "2012-07-01  16268.9\n",
        "2012-10-01  16332.5\n",
        "2013-01-01  16502.4\n",
        "2013-04-01  16619.2\n",
        "2013-07-01  16872.3\n",
        "2013-10-01  17078.3\n",
        "2014-01-01  17044.0"
       ]
      }
     ],
     "prompt_number": 43
    },
    {
     "cell_type": "code",
     "collapsed": false,
     "input": [
      "# Get Compensation of employees: Wages and salaries\n",
      "web.DataReader(\"A576RC1A027NBEA\",\n",
      "               \"fred\", \n",
      "               datetime.date(1929, 1, 1),\n",
      "               datetime.date(2013, 1, 1))"
     ],
     "language": "python",
     "metadata": {},
     "outputs": [
      {
       "metadata": {},
       "output_type": "pyout",
       "prompt_number": 44,
       "text": [
        "            A576RC1A027NBEA\n",
        "DATE                       \n",
        "1929-01-01             50.5\n",
        "1930-01-01             46.2\n",
        "1931-01-01             39.2\n",
        "1932-01-01             30.5\n",
        "1933-01-01             29.0\n",
        "...                     ...\n",
        "2009-01-01           6251.4\n",
        "2010-01-01           6377.5\n",
        "2011-01-01           6633.2\n",
        "2012-01-01           6932.1\n",
        "2013-01-01           7124.7\n",
        "\n",
        "[85 rows x 1 columns]"
       ]
      }
     ],
     "prompt_number": 44
    },
    {
     "cell_type": "heading",
     "level": 2,
     "metadata": {},
     "source": [
      "Accessing Kenneth French data"
     ]
    },
    {
     "cell_type": "code",
     "collapsed": false,
     "input": [
      "# read from Kenneth French fama global factors data set\n",
      "factors = web.DataReader(\"Global_Factors\", \"famafrench\")\n",
      "factors"
     ],
     "language": "python",
     "metadata": {},
     "outputs": [
      {
       "metadata": {},
       "output_type": "pyout",
       "prompt_number": 45,
       "text": [
        "{3:         1 Mkt-RF  2 SMB  3 HML  4 WML  5 RF\n",
        " 199007      0.79   0.07   0.24 -99.99  0.68\n",
        " 199008    -10.76  -1.56   0.42 -99.99  0.66\n",
        " 199009    -12.24   1.68   0.34 -99.99  0.60\n",
        " 199010      9.58  -8.11  -3.29 -99.99  0.68\n",
        " 199011     -3.87   1.62   0.68  -0.32  0.57\n",
        " ...          ...    ...    ...    ...   ...\n",
        " 201411      1.67  -2.14  -1.92   0.65  0.00\n",
        " 201412     -1.45   1.89  -0.33   1.06  0.00\n",
        " 201501     -1.75   0.04  -2.78   4.50  0.00\n",
        " 201502      5.93  -0.17  -0.30  -1.93  0.00\n",
        " 201503     -1.20   1.54  -0.89   2.07  0.00\n",
        " \n",
        " [297 rows x 5 columns]}"
       ]
      }
     ],
     "prompt_number": 45
    },
    {
     "cell_type": "heading",
     "level": 2,
     "metadata": {},
     "source": [
      "Reading from the World Bank"
     ]
    },
    {
     "cell_type": "code",
     "collapsed": false,
     "input": [
      "# make referencing pandas.io.wb a little less typing\n",
      "import pandas.io.wb as wb\n",
      "# get all indicators\n",
      "all_indicators = wb.get_indicators()"
     ],
     "language": "python",
     "metadata": {},
     "outputs": [],
     "prompt_number": 46
    },
    {
     "cell_type": "code",
     "collapsed": false,
     "input": [
      "# examine some of the indicators\n",
      "all_indicators.ix[:,0:1]"
     ],
     "language": "python",
     "metadata": {},
     "outputs": [
      {
       "metadata": {},
       "output_type": "pyout",
       "prompt_number": 47,
       "text": [
        "                                  id\n",
        "0                 1.0.HCount.1.25usd\n",
        "1                   1.0.HCount.10usd\n",
        "2                  1.0.HCount.2.5usd\n",
        "3               1.0.HCount.Mid10to50\n",
        "4                    1.0.HCount.Ofcl\n",
        "...                              ...\n",
        "12546      per_sionl.overlap_pop_urb\n",
        "12547  per_sionl.overlap_q1_preT_tot\n",
        "12548       per_sionl.overlap_q1_rur\n",
        "12549       per_sionl.overlap_q1_tot\n",
        "12550       per_sionl.overlap_q1_urb\n",
        "\n",
        "[12551 rows x 1 columns]"
       ]
      }
     ],
     "prompt_number": 47
    },
    {
     "cell_type": "code",
     "collapsed": false,
     "input": [
      "# search of life expectancy indicators\n",
      "le_indicators = wb.search(\"life expectancy\")\n",
      "# report first three rows, first two columns\n",
      "le_indicators.iloc[:3,:2]"
     ],
     "language": "python",
     "metadata": {},
     "outputs": [
      {
       "metadata": {},
       "output_type": "pyout",
       "prompt_number": 48,
       "text": [
        "                     id                                      name\n",
        "7793  SP.DYN.LE00.FE.IN  Life expectancy at birth, female (years)\n",
        "7794     SP.DYN.LE00.IN   Life expectancy at birth, total (years)\n",
        "7795  SP.DYN.LE00.MA.IN    Life expectancy at birth, male (years)"
       ]
      }
     ],
     "prompt_number": 48
    },
    {
     "cell_type": "code",
     "collapsed": false,
     "input": [
      "# get countries and show the 3 digit code and name\n",
      "countries = wb.get_countries()\n",
      "# show a subset of the country data\n",
      "countries.iloc[0:10].ix[:,['name', 'capitalCity', 'iso2c']]"
     ],
     "language": "python",
     "metadata": {},
     "outputs": [
      {
       "metadata": {},
       "output_type": "pyout",
       "prompt_number": 49,
       "text": [
        "                   name       capitalCity iso2c\n",
        "0                 Aruba        Oranjestad    AW\n",
        "1           Afghanistan             Kabul    AF\n",
        "2                Africa                      A9\n",
        "3                Angola            Luanda    AO\n",
        "4               Albania            Tirane    AL\n",
        "5               Andorra  Andorra la Vella    AD\n",
        "6         Andean Region                      L5\n",
        "7            Arab World                      1A\n",
        "8  United Arab Emirates         Abu Dhabi    AE\n",
        "9             Argentina      Buenos Aires    AR"
       ]
      }
     ],
     "prompt_number": 49
    },
    {
     "cell_type": "code",
     "collapsed": false,
     "input": [
      "# get life expectancy at birth for all countries from 1980 to 2014\n",
      "le_data_all = wb.download(indicator=\"SP.DYN.LE00.IN\", \n",
      "                          start='1980', \n",
      "                          end='2014')\n",
      "le_data_all"
     ],
     "language": "python",
     "metadata": {},
     "outputs": [
      {
       "metadata": {},
       "output_type": "pyout",
       "prompt_number": 50,
       "text": [
        "                    SP.DYN.LE00.IN\n",
        "country       year                \n",
        "Canada        2014             NaN\n",
        "              2013             NaN\n",
        "              2012       81.238049\n",
        "              2011       81.068317\n",
        "              2010       80.893488\n",
        "...                            ...\n",
        "United States 1984       74.563415\n",
        "              1983       74.463415\n",
        "              1982       74.360976\n",
        "              1981       74.007317\n",
        "              1980       73.658537\n",
        "\n",
        "[105 rows x 1 columns]"
       ]
      }
     ],
     "prompt_number": 50
    },
    {
     "cell_type": "code",
     "collapsed": false,
     "input": [
      "# only US, CAN, and MEX are returned by default\n",
      "le_data_all.index.levels[0]"
     ],
     "language": "python",
     "metadata": {},
     "outputs": [
      {
       "metadata": {},
       "output_type": "pyout",
       "prompt_number": 51,
       "text": [
        "Index([u'Canada', u'Mexico', u'United States'], dtype='object')"
       ]
      }
     ],
     "prompt_number": 51
    },
    {
     "cell_type": "code",
     "collapsed": false,
     "input": [
      "# retrieve life expectancy at birth for all countries \n",
      "# from 1980 to 2014\n",
      "le_data_all = wb.download(indicator=\"SP.DYN.LE00.IN\", \n",
      "                          country = countries['iso2c'],\n",
      "                          start='1980', \n",
      "                          end='2012')\n",
      "le_data_all"
     ],
     "language": "python",
     "metadata": {},
     "outputs": [
      {
       "output_type": "stream",
       "stream": "stderr",
       "text": [
        "/Users/michaelheydt/anaconda/lib/python2.7/site-packages/pandas/io/wb.py:128: UserWarning: Non-standard ISO country codes: 1A, 1W, 4E, 7E, 8S, A4, A5, A9, B8, C4, C5, C6, C7, C8, C9, EU, F1, JG, KV, L4, L5, L6, L7, M2, OE, S1, S2, S3, S4, XC, XD, XE, XJ, XL, XM, XN, XO, XP, XQ, XR, XS, XT, XU, XY, Z4, Z7, ZF, ZG, ZJ, ZQ\n",
        "  warnings.warn('Non-standard ISO country codes: %s' % tmp)\n"
       ]
      },
      {
       "metadata": {},
       "output_type": "pyout",
       "prompt_number": 52,
       "text": [
        "               SP.DYN.LE00.IN\n",
        "country  year                \n",
        "Aruba    2012       75.206756\n",
        "         2011       75.080390\n",
        "         2010       74.952024\n",
        "         2009       74.816146\n",
        "         2008       74.674220\n",
        "...                       ...\n",
        "Zimbabwe 1984       61.217561\n",
        "         1983       60.902854\n",
        "         1982       60.466171\n",
        "         1981       59.944951\n",
        "         1980       59.377610\n",
        "\n",
        "[8151 rows x 1 columns]"
       ]
      }
     ],
     "prompt_number": 52
    },
    {
     "cell_type": "code",
     "collapsed": false,
     "input": [
      "#le_data_all.pivot(index='country', columns='year')\n",
      "le_data = le_data_all.reset_index().pivot(index='country', \n",
      "                                          columns='year')\n",
      "# examine pivoted data\n",
      "le_data.ix[:,0:3]"
     ],
     "language": "python",
     "metadata": {},
     "outputs": [
      {
       "metadata": {},
       "output_type": "pyout",
       "prompt_number": 53,
       "text": [
        "                   SP.DYN.LE00.IN                      \n",
        "year                         1980       1981       1982\n",
        "country                                                \n",
        "Afghanistan             41.233659  41.760634  42.335610\n",
        "Albania                 70.235976  70.454463  70.685122\n",
        "Algeria                 58.164024  59.486756  60.786341\n",
        "American Samoa                NaN        NaN        NaN\n",
        "Andorra                       NaN        NaN        NaN\n",
        "...                           ...        ...        ...\n",
        "West Bank and Gaza            NaN        NaN        NaN\n",
        "World                   63.186868  63.494118  63.798264\n",
        "Yemen, Rep.             50.559537  51.541341  52.492707\n",
        "Zambia                  51.148951  50.817707  50.350805\n",
        "Zimbabwe                59.377610  59.944951  60.466171\n",
        "\n",
        "[247 rows x 3 columns]"
       ]
      }
     ],
     "prompt_number": 53
    },
    {
     "cell_type": "code",
     "collapsed": false,
     "input": [
      "# ask what is the name of country for each year\n",
      "# with the least life expectancy\n",
      "country_with_least_expectancy = le_data.idxmin(axis=0)\n",
      "country_with_least_expectancy"
     ],
     "language": "python",
     "metadata": {},
     "outputs": [
      {
       "metadata": {},
       "output_type": "pyout",
       "prompt_number": 54,
       "text": [
        "                year\n",
        "SP.DYN.LE00.IN  1980       Cambodia\n",
        "                1981       Cambodia\n",
        "                1982    Timor-Leste\n",
        "...\n",
        "SP.DYN.LE00.IN  2010    Sierra Leone\n",
        "                2011    Sierra Leone\n",
        "                2012    Sierra Leone\n",
        "Length: 33, dtype: object"
       ]
      }
     ],
     "prompt_number": 54
    },
    {
     "cell_type": "code",
     "collapsed": false,
     "input": [
      "# and what is the minimum life expectancy for each year\n",
      "expectancy_for_least_country = le_data.min(axis=0)\n",
      "expectancy_for_least_country"
     ],
     "language": "python",
     "metadata": {},
     "outputs": [
      {
       "metadata": {},
       "output_type": "pyout",
       "prompt_number": 55,
       "text": [
        "                year\n",
        "SP.DYN.LE00.IN  1980    29.613537\n",
        "                1981    35.856341\n",
        "                1982    38.176220\n",
        "...\n",
        "SP.DYN.LE00.IN  2010    44.838951\n",
        "                2011    45.102585\n",
        "                2012    45.329049\n",
        "Length: 33, dtype: float64"
       ]
      }
     ],
     "prompt_number": 55
    },
    {
     "cell_type": "code",
     "collapsed": false,
     "input": [
      "# this merges the two frames together and gives us\n",
      "# year, country and expectancy where there minimum exists\n",
      "least = pd.DataFrame(\n",
      "    data = {'Country': country_with_least_expectancy.values,\n",
      "            'Expectancy': expectancy_for_least_country.values},\n",
      "    index = country_with_least_expectancy.index.levels[1])\n",
      "least"
     ],
     "language": "python",
     "metadata": {},
     "outputs": [
      {
       "metadata": {},
       "output_type": "pyout",
       "prompt_number": 56,
       "text": [
        "           Country  Expectancy\n",
        "year                          \n",
        "1980      Cambodia   29.613537\n",
        "1981      Cambodia   35.856341\n",
        "1982   Timor-Leste   38.176220\n",
        "1983   South Sudan   39.676488\n",
        "1984   South Sudan   40.011024\n",
        "...            ...         ...\n",
        "2008  Sierra Leone   44.067463\n",
        "2009  Sierra Leone   44.501439\n",
        "2010  Sierra Leone   44.838951\n",
        "2011  Sierra Leone   45.102585\n",
        "2012  Sierra Leone   45.329049\n",
        "\n",
        "[33 rows x 2 columns]"
       ]
      }
     ],
     "prompt_number": 56
    }
   ],
   "metadata": {}
  }
 ]
}