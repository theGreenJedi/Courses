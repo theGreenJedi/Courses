{
 "metadata": {
  "name": "",
  "signature": "sha256:3d001a84631f8393b286f2232692972ea013ac2a81f16ff5fbfd6320237a21a9"
 },
 "nbformat": 3,
 "nbformat_minor": 0,
 "worksheets": [
  {
   "cells": [
    {
     "cell_type": "heading",
     "level": 1,
     "metadata": {},
     "source": [
      "Setting up the notebook"
     ]
    },
    {
     "cell_type": "code",
     "collapsed": false,
     "input": [
      "# import pandas and numpy\n",
      "import numpy as np\n",
      "import pandas as pd\n",
      "\n",
      "# Set some pandas options for controlling output\n",
      "pd.set_option('display.notebook_repr_html', False)\n",
      "pd.set_option('display.max_columns', 10)\n",
      "pd.set_option('display.max_rows', 10)\n",
      "\n",
      "import matplotlib.pyplot as plt\n",
      "# inline graphics\n",
      "%matplotlib inline"
     ],
     "language": "python",
     "metadata": {},
     "outputs": [],
     "prompt_number": 1
    },
    {
     "cell_type": "heading",
     "level": 1,
     "metadata": {},
     "source": [
      "Splitting a pandas object"
     ]
    },
    {
     "cell_type": "heading",
     "level": 2,
     "metadata": {},
     "source": [
      "Data for the examples"
     ]
    },
    {
     "cell_type": "code",
     "collapsed": false,
     "input": [
      "# load the sensors data\n",
      "sensors = pd.read_csv(\"data/sensors.csv\")\n",
      "sensors"
     ],
     "language": "python",
     "metadata": {},
     "outputs": [
      {
       "metadata": {},
       "output_type": "pyout",
       "prompt_number": 2,
       "text": [
        "    interval       sensor axis  reading\n",
        "0          0        accel    Z      0.0\n",
        "1          0        accel    Y      0.5\n",
        "2          0        accel    X      1.0\n",
        "3          1        accel    Z      0.1\n",
        "4          1        accel    Y      0.4\n",
        "..       ...          ...  ...      ...\n",
        "19         2  orientation    Y      0.3\n",
        "20         2  orientation    X      0.2\n",
        "21         3  orientation    Z      0.0\n",
        "22         3  orientation    Y      0.4\n",
        "23         3  orientation    X      0.3\n",
        "\n",
        "[24 rows x 4 columns]"
       ]
      }
     ],
     "prompt_number": 2
    },
    {
     "cell_type": "heading",
     "level": 2,
     "metadata": {},
     "source": [
      "Grouping by a column values"
     ]
    },
    {
     "cell_type": "code",
     "collapsed": false,
     "input": [
      "# group this data by the sensor column / variable\n",
      "# returns a DataFrameGroupBy object\n",
      "grouped = sensors.groupby('sensor')\n",
      "grouped"
     ],
     "language": "python",
     "metadata": {},
     "outputs": [
      {
       "metadata": {},
       "output_type": "pyout",
       "prompt_number": 3,
       "text": [
        "<pandas.core.groupby.DataFrameGroupBy object at 0x1067a07d0>"
       ]
      }
     ],
     "prompt_number": 3
    },
    {
     "cell_type": "code",
     "collapsed": false,
     "input": [
      "# get the number of groups that this will create\n",
      "grouped.ngroups"
     ],
     "language": "python",
     "metadata": {},
     "outputs": [
      {
       "metadata": {},
       "output_type": "pyout",
       "prompt_number": 4,
       "text": [
        "2"
       ]
      }
     ],
     "prompt_number": 4
    },
    {
     "cell_type": "code",
     "collapsed": false,
     "input": [
      "# what are the groups that were found?\n",
      "grouped.groups"
     ],
     "language": "python",
     "metadata": {},
     "outputs": [
      {
       "metadata": {},
       "output_type": "pyout",
       "prompt_number": 5,
       "text": [
        "{'accel': [0, 1, 2, 3, 4, 5, 6, 7, 8, 9, 10, 11],\n",
        " 'orientation': [12, 13, 14, 15, 16, 17, 18, 19, 20, 21, 22, 23]}"
       ]
      }
     ],
     "prompt_number": 5
    },
    {
     "cell_type": "heading",
     "level": 2,
     "metadata": {},
     "source": [
      "Accessing the results of a grouping"
     ]
    },
    {
     "cell_type": "code",
     "collapsed": false,
     "input": [
      "# a helper function to print the contents of the groups\n",
      "def print_groups (groupobject):\n",
      "    # loop over all groups, printing the group name \n",
      "    # and group details\n",
      "    for name, group in groupobject:\n",
      "        print (name)\n",
      "        print (group)"
     ],
     "language": "python",
     "metadata": {},
     "outputs": [],
     "prompt_number": 6
    },
    {
     "cell_type": "code",
     "collapsed": false,
     "input": [
      "# examine the content of the groups we created\n",
      "print_groups(grouped)"
     ],
     "language": "python",
     "metadata": {},
     "outputs": [
      {
       "output_type": "stream",
       "stream": "stdout",
       "text": [
        "accel\n",
        "    interval sensor axis  reading\n",
        "0          0  accel    Z      0.0\n",
        "1          0  accel    Y      0.5\n",
        "2          0  accel    X      1.0\n",
        "3          1  accel    Z      0.1\n",
        "4          1  accel    Y      0.4\n",
        "..       ...    ...  ...      ...\n",
        "7          2  accel    Y      0.3\n",
        "8          2  accel    X      0.8\n",
        "9          3  accel    Z      0.3\n",
        "10         3  accel    Y      0.2\n",
        "11         3  accel    X      0.7\n",
        "\n",
        "[12 rows x 4 columns]\n",
        "orientation\n",
        "    interval       sensor axis  reading\n",
        "12         0  orientation    Z      0.0\n",
        "13         0  orientation    Y      0.1\n",
        "14         0  orientation    X      0.0\n",
        "15         1  orientation    Z      0.0\n",
        "16         1  orientation    Y      0.2\n",
        "..       ...          ...  ...      ...\n",
        "19         2  orientation    Y      0.3\n",
        "20         2  orientation    X      0.2\n",
        "21         3  orientation    Z      0.0\n",
        "22         3  orientation    Y      0.4\n",
        "23         3  orientation    X      0.3\n",
        "\n",
        "[12 rows x 4 columns]\n"
       ]
      }
     ],
     "prompt_number": 7
    },
    {
     "cell_type": "code",
     "collapsed": false,
     "input": [
      "# get how many items are in each group\n",
      "grouped.size()"
     ],
     "language": "python",
     "metadata": {},
     "outputs": [
      {
       "metadata": {},
       "output_type": "pyout",
       "prompt_number": 8,
       "text": [
        "sensor\n",
        "accel          12\n",
        "orientation    12\n",
        "dtype: int64"
       ]
      }
     ],
     "prompt_number": 8
    },
    {
     "cell_type": "code",
     "collapsed": false,
     "input": [
      "# get the count of items in each column of each group\n",
      "grouped.count()"
     ],
     "language": "python",
     "metadata": {},
     "outputs": [
      {
       "metadata": {},
       "output_type": "pyout",
       "prompt_number": 9,
       "text": [
        "             interval  axis  reading\n",
        "sensor                              \n",
        "accel              12    12       12\n",
        "orientation        12    12       12"
       ]
      }
     ],
     "prompt_number": 9
    },
    {
     "cell_type": "code",
     "collapsed": false,
     "input": [
      "# get the data in one specific group\n",
      "grouped.get_group('accel')"
     ],
     "language": "python",
     "metadata": {},
     "outputs": [
      {
       "metadata": {},
       "output_type": "pyout",
       "prompt_number": 10,
       "text": [
        "    interval sensor axis  reading\n",
        "0          0  accel    Z      0.0\n",
        "1          0  accel    Y      0.5\n",
        "2          0  accel    X      1.0\n",
        "3          1  accel    Z      0.1\n",
        "4          1  accel    Y      0.4\n",
        "..       ...    ...  ...      ...\n",
        "7          2  accel    Y      0.3\n",
        "8          2  accel    X      0.8\n",
        "9          3  accel    Z      0.3\n",
        "10         3  accel    Y      0.2\n",
        "11         3  accel    X      0.7\n",
        "\n",
        "[12 rows x 4 columns]"
       ]
      }
     ],
     "prompt_number": 10
    },
    {
     "cell_type": "code",
     "collapsed": false,
     "input": [
      "# get the first three items in each group\n",
      "grouped.head(3)"
     ],
     "language": "python",
     "metadata": {},
     "outputs": [
      {
       "metadata": {},
       "output_type": "pyout",
       "prompt_number": 11,
       "text": [
        "    interval       sensor axis  reading\n",
        "0          0        accel    Z      0.0\n",
        "1          0        accel    Y      0.5\n",
        "2          0        accel    X      1.0\n",
        "12         0  orientation    Z      0.0\n",
        "13         0  orientation    Y      0.1\n",
        "14         0  orientation    X      0.0"
       ]
      }
     ],
     "prompt_number": 11
    },
    {
     "cell_type": "code",
     "collapsed": false,
     "input": [
      "# get the first item in each group\n",
      "grouped.nth(0)"
     ],
     "language": "python",
     "metadata": {},
     "outputs": [
      {
       "metadata": {},
       "output_type": "pyout",
       "prompt_number": 12,
       "text": [
        "             interval       sensor axis  reading\n",
        "sensor                                          \n",
        "accel               0        accel    Z        0\n",
        "orientation         0  orientation    Z        0"
       ]
      }
     ],
     "prompt_number": 12
    },
    {
     "cell_type": "code",
     "collapsed": false,
     "input": [
      "# get the 2nd item in each group\n",
      "grouped.nth(1)"
     ],
     "language": "python",
     "metadata": {},
     "outputs": [
      {
       "metadata": {},
       "output_type": "pyout",
       "prompt_number": 13,
       "text": [
        "             interval       sensor axis  reading\n",
        "sensor                                          \n",
        "accel               0        accel    Y      0.5\n",
        "orientation         0  orientation    Y      0.1"
       ]
      }
     ],
     "prompt_number": 13
    },
    {
     "cell_type": "code",
     "collapsed": false,
     "input": [
      "# and so on...\n",
      "grouped.nth(2)"
     ],
     "language": "python",
     "metadata": {},
     "outputs": [
      {
       "metadata": {},
       "output_type": "pyout",
       "prompt_number": 14,
       "text": [
        "             interval       sensor axis  reading\n",
        "sensor                                          \n",
        "accel               0        accel    X        1\n",
        "orientation         0  orientation    X        0"
       ]
      }
     ],
     "prompt_number": 14
    },
    {
     "cell_type": "code",
     "collapsed": false,
     "input": [
      "# group by both sensor and axis values\n",
      "mcg = sensors.groupby(['sensor', 'axis'])\n",
      "print_groups(mcg)"
     ],
     "language": "python",
     "metadata": {},
     "outputs": [
      {
       "output_type": "stream",
       "stream": "stdout",
       "text": [
        "('accel', 'X')\n",
        "    interval sensor axis  reading\n",
        "2          0  accel    X      1.0\n",
        "5          1  accel    X      0.9\n",
        "8          2  accel    X      0.8\n",
        "11         3  accel    X      0.7\n",
        "('accel', 'Y')\n",
        "    interval sensor axis  reading\n",
        "1          0  accel    Y      0.5\n",
        "4          1  accel    Y      0.4\n",
        "7          2  accel    Y      0.3\n",
        "10         3  accel    Y      0.2\n",
        "('accel', 'Z')\n",
        "   interval sensor axis  reading\n",
        "0         0  accel    Z      0.0\n",
        "3         1  accel    Z      0.1\n",
        "6         2  accel    Z      0.2\n",
        "9         3  accel    Z      0.3\n",
        "('orientation', 'X')\n",
        "    interval       sensor axis  reading\n",
        "14         0  orientation    X      0.0\n",
        "17         1  orientation    X      0.1\n",
        "20         2  orientation    X      0.2\n",
        "23         3  orientation    X      0.3\n",
        "('orientation', 'Y')\n",
        "    interval       sensor axis  reading\n",
        "13         0  orientation    Y      0.1\n",
        "16         1  orientation    Y      0.2\n",
        "19         2  orientation    Y      0.3\n",
        "22         3  orientation    Y      0.4\n",
        "('orientation', 'Z')\n",
        "    interval       sensor axis  reading\n",
        "12         0  orientation    Z        0\n",
        "15         1  orientation    Z        0\n",
        "18         2  orientation    Z        0\n",
        "21         3  orientation    Z        0\n"
       ]
      }
     ],
     "prompt_number": 15
    },
    {
     "cell_type": "code",
     "collapsed": false,
     "input": [
      "# get descriptive statistics for each\n",
      "mcg.describe()"
     ],
     "language": "python",
     "metadata": {},
     "outputs": [
      {
       "metadata": {},
       "output_type": "pyout",
       "prompt_number": 16,
       "text": [
        "                        interval   reading\n",
        "sensor      axis                          \n",
        "accel       X    count  4.000000  4.000000\n",
        "                 mean   1.500000  0.850000\n",
        "                 std    1.290994  0.129099\n",
        "                 min    0.000000  0.700000\n",
        "                 25%    0.750000  0.775000\n",
        "...                          ...       ...\n",
        "orientation Z    min    0.000000  0.000000\n",
        "                 25%    0.750000  0.000000\n",
        "                 50%    1.500000  0.000000\n",
        "                 75%    2.250000  0.000000\n",
        "                 max    3.000000  0.000000\n",
        "\n",
        "[48 rows x 2 columns]"
       ]
      }
     ],
     "prompt_number": 16
    },
    {
     "cell_type": "heading",
     "level": 2,
     "metadata": {},
     "source": [
      "Grouping using index levels"
     ]
    },
    {
     "cell_type": "code",
     "collapsed": false,
     "input": [
      "# make a copy of the data and reindex the copy\n",
      "mi = sensors.copy()\n",
      "mi = mi.set_index(['sensor', 'axis'])\n",
      "mi"
     ],
     "language": "python",
     "metadata": {},
     "outputs": [
      {
       "metadata": {},
       "output_type": "pyout",
       "prompt_number": 17,
       "text": [
        "                  interval  reading\n",
        "sensor      axis                   \n",
        "accel       Z            0      0.0\n",
        "            Y            0      0.5\n",
        "            X            0      1.0\n",
        "            Z            1      0.1\n",
        "            Y            1      0.4\n",
        "...                    ...      ...\n",
        "orientation Y            2      0.3\n",
        "            X            2      0.2\n",
        "            Z            3      0.0\n",
        "            Y            3      0.4\n",
        "            X            3      0.3\n",
        "\n",
        "[24 rows x 2 columns]"
       ]
      }
     ],
     "prompt_number": 17
    },
    {
     "cell_type": "code",
     "collapsed": false,
     "input": [
      "# group by the first level of the index \n",
      "mig_l1 = mi.groupby(level=0)\n",
      "print_groups(mig_l1)"
     ],
     "language": "python",
     "metadata": {},
     "outputs": [
      {
       "output_type": "stream",
       "stream": "stdout",
       "text": [
        "accel\n",
        "             interval  reading\n",
        "sensor axis                   \n",
        "accel  Z            0      0.0\n",
        "       Y            0      0.5\n",
        "       X            0      1.0\n",
        "       Z            1      0.1\n",
        "       Y            1      0.4\n",
        "...               ...      ...\n",
        "       Y            2      0.3\n",
        "       X            2      0.8\n",
        "       Z            3      0.3\n",
        "       Y            3      0.2\n",
        "       X            3      0.7\n",
        "\n",
        "[12 rows x 2 columns]\n",
        "orientation\n",
        "                  interval  reading\n",
        "sensor      axis                   \n",
        "orientation Z            0      0.0\n",
        "            Y            0      0.1\n",
        "            X            0      0.0\n",
        "            Z            1      0.0\n",
        "            Y            1      0.2\n",
        "...                    ...      ...\n",
        "            Y            2      0.3\n",
        "            X            2      0.2\n",
        "            Z            3      0.0\n",
        "            Y            3      0.4\n",
        "            X            3      0.3\n",
        "\n",
        "[12 rows x 2 columns]\n"
       ]
      }
     ],
     "prompt_number": 18
    },
    {
     "cell_type": "code",
     "collapsed": false,
     "input": [
      "# group by multiple levels of the index\n",
      "mig_l12 = mi.groupby(level=['sensor', 'axis'])\n",
      "print_groups(mig_l12)"
     ],
     "language": "python",
     "metadata": {},
     "outputs": [
      {
       "output_type": "stream",
       "stream": "stdout",
       "text": [
        "('accel', 'X')\n",
        "             interval  reading\n",
        "sensor axis                   \n",
        "accel  X            0      1.0\n",
        "       X            1      0.9\n",
        "       X            2      0.8\n",
        "       X            3      0.7\n",
        "('accel', 'Y')\n",
        "             interval  reading\n",
        "sensor axis                   \n",
        "accel  Y            0      0.5\n",
        "       Y            1      0.4\n",
        "       Y            2      0.3\n",
        "       Y            3      0.2\n",
        "('accel', 'Z')\n",
        "             interval  reading\n",
        "sensor axis                   \n",
        "accel  Z            0      0.0\n",
        "       Z            1      0.1\n",
        "       Z            2      0.2\n",
        "       Z            3      0.3\n",
        "('orientation', 'X')\n",
        "                  interval  reading\n",
        "sensor      axis                   \n",
        "orientation X            0      0.0\n",
        "            X            1      0.1\n",
        "            X            2      0.2\n",
        "            X            3      0.3\n",
        "('orientation', 'Y')\n",
        "                  interval  reading\n",
        "sensor      axis                   \n",
        "orientation Y            0      0.1\n",
        "            Y            1      0.2\n",
        "            Y            2      0.3\n",
        "            Y            3      0.4\n",
        "('orientation', 'Z')\n",
        "                  interval  reading\n",
        "sensor      axis                   \n",
        "orientation Z            0        0\n",
        "            Z            1        0\n",
        "            Z            2        0\n",
        "            Z            3        0\n"
       ]
      }
     ],
     "prompt_number": 19
    },
    {
     "cell_type": "heading",
     "level": 1,
     "metadata": {},
     "source": [
      "Apply (aggregation)"
     ]
    },
    {
     "cell_type": "heading",
     "level": 2,
     "metadata": {},
     "source": [
      "Applying aggregation functions to groups"
     ]
    },
    {
     "cell_type": "code",
     "collapsed": false,
     "input": [
      "# calculate the mean for each sensor/axis\n",
      "mig_l12.agg(np.mean)"
     ],
     "language": "python",
     "metadata": {},
     "outputs": [
      {
       "metadata": {},
       "output_type": "pyout",
       "prompt_number": 20,
       "text": [
        "                  interval  reading\n",
        "sensor      axis                   \n",
        "accel       X          1.5     0.85\n",
        "            Y          1.5     0.35\n",
        "            Z          1.5     0.15\n",
        "orientation X          1.5     0.15\n",
        "            Y          1.5     0.25\n",
        "            Z          1.5     0.00"
       ]
      }
     ],
     "prompt_number": 20
    },
    {
     "cell_type": "code",
     "collapsed": false,
     "input": [
      "# do not create an index matching the original object\n",
      "sensors.groupby(['sensor', 'axis'], \n",
      "                as_index=False).agg(np.mean)"
     ],
     "language": "python",
     "metadata": {},
     "outputs": [
      {
       "metadata": {},
       "output_type": "pyout",
       "prompt_number": 21,
       "text": [
        "        sensor axis  interval  reading\n",
        "0        accel    X       1.5     0.85\n",
        "1        accel    Y       1.5     0.35\n",
        "2        accel    Z       1.5     0.15\n",
        "3  orientation    X       1.5     0.15\n",
        "4  orientation    Y       1.5     0.25\n",
        "5  orientation    Z       1.5     0.00"
       ]
      }
     ],
     "prompt_number": 21
    },
    {
     "cell_type": "code",
     "collapsed": false,
     "input": [
      "# can simply apply the agg function to the group by object\n",
      "mig_l12.mean()"
     ],
     "language": "python",
     "metadata": {},
     "outputs": [
      {
       "metadata": {},
       "output_type": "pyout",
       "prompt_number": 22,
       "text": [
        "                  interval  reading\n",
        "sensor      axis                   \n",
        "accel       X          1.5     0.85\n",
        "            Y          1.5     0.35\n",
        "            Z          1.5     0.15\n",
        "orientation X          1.5     0.15\n",
        "            Y          1.5     0.25\n",
        "            Z          1.5     0.00"
       ]
      }
     ],
     "prompt_number": 22
    },
    {
     "cell_type": "code",
     "collapsed": false,
     "input": [
      "# apply multiple aggregation functions at once\n",
      "mig_l12.agg([np.sum, np.std])"
     ],
     "language": "python",
     "metadata": {},
     "outputs": [
      {
       "metadata": {},
       "output_type": "pyout",
       "prompt_number": 23,
       "text": [
        "                 interval           reading          \n",
        "                      sum       std     sum       std\n",
        "sensor      axis                                     \n",
        "accel       X           6  1.290994     3.4  0.129099\n",
        "            Y           6  1.290994     1.4  0.129099\n",
        "            Z           6  1.290994     0.6  0.129099\n",
        "orientation X           6  1.290994     0.6  0.129099\n",
        "            Y           6  1.290994     1.0  0.129099\n",
        "            Z           6  1.290994     0.0  0.000000"
       ]
      }
     ],
     "prompt_number": 23
    },
    {
     "cell_type": "code",
     "collapsed": false,
     "input": [
      "# apply a different function to each column\n",
      "mig_l12.agg({'interval' : len,\n",
      "             'reading': np.mean})"
     ],
     "language": "python",
     "metadata": {},
     "outputs": [
      {
       "metadata": {},
       "output_type": "pyout",
       "prompt_number": 24,
       "text": [
        "                  interval  reading\n",
        "sensor      axis                   \n",
        "accel       X            4     0.85\n",
        "            Y            4     0.35\n",
        "            Z            4     0.15\n",
        "orientation X            4     0.15\n",
        "            Y            4     0.25\n",
        "            Z            4     0.00"
       ]
      }
     ],
     "prompt_number": 24
    },
    {
     "cell_type": "code",
     "collapsed": false,
     "input": [
      "# calculate the mean of the reading column\n",
      "mig_l12['reading'].mean()"
     ],
     "language": "python",
     "metadata": {},
     "outputs": [
      {
       "metadata": {},
       "output_type": "pyout",
       "prompt_number": 25,
       "text": [
        "sensor       axis\n",
        "accel        X       0.85\n",
        "             Y       0.35\n",
        "             Z       0.15\n",
        "orientation  X       0.15\n",
        "             Y       0.25\n",
        "             Z       0.00\n",
        "Name: reading, dtype: float64"
       ]
      }
     ],
     "prompt_number": 25
    },
    {
     "cell_type": "heading",
     "level": 2,
     "metadata": {},
     "source": [
      "Transformation of group data"
     ]
    },
    {
     "cell_type": "heading",
     "level": 3,
     "metadata": {},
     "source": [
      "Overview of transformations"
     ]
    },
    {
     "cell_type": "code",
     "collapsed": false,
     "input": [
      "# a DataFrame to use for examples\n",
      "df = pd.DataFrame({ 'Label': ['A', 'C', 'B', 'A', 'C'],\n",
      "                    'Values': [0, 1, 2, 3, 4],\n",
      "                    'Values2': [5, 6, 7, 8, 9],\n",
      "                    'Noise': ['foo', 'bar', 'baz', \n",
      "                              'foobar', 'barbaz']})\n",
      "df"
     ],
     "language": "python",
     "metadata": {},
     "outputs": [
      {
       "metadata": {},
       "output_type": "pyout",
       "prompt_number": 26,
       "text": [
        "  Label   Noise  Values  Values2\n",
        "0     A     foo       0        5\n",
        "1     C     bar       1        6\n",
        "2     B     baz       2        7\n",
        "3     A  foobar       3        8\n",
        "4     C  barbaz       4        9"
       ]
      }
     ],
     "prompt_number": 26
    },
    {
     "cell_type": "code",
     "collapsed": false,
     "input": [
      "# group by label\n",
      "grouped = df.groupby('Label')\n",
      "print_groups(grouped)"
     ],
     "language": "python",
     "metadata": {},
     "outputs": [
      {
       "output_type": "stream",
       "stream": "stdout",
       "text": [
        "A\n",
        "  Label   Noise  Values  Values2\n",
        "0     A     foo       0        5\n",
        "3     A  foobar       3        8\n",
        "B\n",
        "  Label Noise  Values  Values2\n",
        "2     B   baz       2        7\n",
        "C\n",
        "  Label   Noise  Values  Values2\n",
        "1     C     bar       1        6\n",
        "4     C  barbaz       4        9\n"
       ]
      }
     ],
     "prompt_number": 27
    },
    {
     "cell_type": "code",
     "collapsed": false,
     "input": [
      "# add ten to all values in all columns\n",
      "grouped.transform(lambda x: x + 10)"
     ],
     "language": "python",
     "metadata": {},
     "outputs": [
      {
       "metadata": {},
       "output_type": "pyout",
       "prompt_number": 28,
       "text": [
        "   Values  Values2\n",
        "0      10       15\n",
        "1      11       16\n",
        "2      12       17\n",
        "3      13       18\n",
        "4      14       19"
       ]
      }
     ],
     "prompt_number": 28
    },
    {
     "cell_type": "code",
     "collapsed": false,
     "input": [
      "# a function to print the input before we are adding 10 to it\n",
      "def xplus10(x):\n",
      "    print (x)\n",
      "    return x + 10"
     ],
     "language": "python",
     "metadata": {},
     "outputs": [],
     "prompt_number": 29
    },
    {
     "cell_type": "code",
     "collapsed": false,
     "input": [
      "# transform using xplus10\n",
      "grouped.transform(xplus10)"
     ],
     "language": "python",
     "metadata": {},
     "outputs": [
      {
       "output_type": "stream",
       "stream": "stdout",
       "text": [
        "0       foo\n",
        "3    foobar\n",
        "Name: Noise, dtype: object\n",
        "0       foo\n",
        "3    foobar\n",
        "Name: Noise, dtype: object\n",
        "0       foo\n",
        "3    foobar\n",
        "Name: A, dtype: object\n",
        "0    0\n",
        "3    3\n",
        "Name: A, dtype: int64\n",
        "2    2\n",
        "Name: B, dtype: int64\n",
        "1    1\n",
        "4    4\n",
        "Name: C, dtype: int64\n",
        "0    5\n",
        "3    8\n",
        "Name: A, dtype: int64\n",
        "2    7\n",
        "Name: B, dtype: int64\n",
        "1    6\n",
        "4    9\n",
        "Name: C, dtype: int64\n"
       ]
      },
      {
       "metadata": {},
       "output_type": "pyout",
       "prompt_number": 30,
       "text": [
        "   Values  Values2\n",
        "0      10       15\n",
        "1      11       16\n",
        "2      12       17\n",
        "3      13       18\n",
        "4      14       19"
       ]
      }
     ],
     "prompt_number": 30
    },
    {
     "cell_type": "code",
     "collapsed": false,
     "input": [
      "# sum returns existing as it is applied to each individual item\n",
      "grouped.transform(lambda x: x.sum())"
     ],
     "language": "python",
     "metadata": {},
     "outputs": [
      {
       "metadata": {},
       "output_type": "pyout",
       "prompt_number": 31,
       "text": [
        "    Noise  Values  Values2\n",
        "0     foo       0        5\n",
        "1     bar       1        6\n",
        "2     baz       2        7\n",
        "3  foobar       3        8\n",
        "4  barbaz       4        9"
       ]
      }
     ],
     "prompt_number": 31
    },
    {
     "cell_type": "heading",
     "level": 3,
     "metadata": {},
     "source": [
      "Practical examples of transformation"
     ]
    },
    {
     "cell_type": "code",
     "collapsed": false,
     "input": [
      "# data to demonstrate replacement on NaN\n",
      "df = pd.DataFrame({ 'Label': list(\"ABABAB\"),\n",
      "                    'Values': [10, 20, 11, np.nan, 12, 22]},\n",
      "                  index=['i1', 'i2', 'i3', 'i4', 'i5', 'i6'])\n",
      "df"
     ],
     "language": "python",
     "metadata": {},
     "outputs": [
      {
       "metadata": {},
       "output_type": "pyout",
       "prompt_number": 32,
       "text": [
        "   Label  Values\n",
        "i1     A      10\n",
        "i2     B      20\n",
        "i3     A      11\n",
        "i4     B     NaN\n",
        "i5     A      12\n",
        "i6     B      22"
       ]
      }
     ],
     "prompt_number": 32
    },
    {
     "cell_type": "code",
     "collapsed": false,
     "input": [
      "# show the groups in the data based upon Label\n",
      "grouped = df.groupby('Label')\n",
      "print_groups(grouped)"
     ],
     "language": "python",
     "metadata": {},
     "outputs": [
      {
       "output_type": "stream",
       "stream": "stdout",
       "text": [
        "A\n",
        "   Label  Values\n",
        "i1     A      10\n",
        "i3     A      11\n",
        "i5     A      12\n",
        "B\n",
        "   Label  Values\n",
        "i2     B      20\n",
        "i4     B     NaN\n",
        "i6     B      22\n"
       ]
      }
     ],
     "prompt_number": 33
    },
    {
     "cell_type": "code",
     "collapsed": false,
     "input": [
      "# calculate the mean of the two groups\n",
      "grouped.mean()"
     ],
     "language": "python",
     "metadata": {},
     "outputs": [
      {
       "metadata": {},
       "output_type": "pyout",
       "prompt_number": 34,
       "text": [
        "       Values\n",
        "Label        \n",
        "A          11\n",
        "B          21"
       ]
      }
     ],
     "prompt_number": 34
    },
    {
     "cell_type": "code",
     "collapsed": false,
     "input": [
      "# use transform to fill the NaNs with the mean of the group\n",
      "filled_NaNs = grouped.transform(lambda x: x.fillna(x.mean()))\n",
      "filled_NaNs"
     ],
     "language": "python",
     "metadata": {},
     "outputs": [
      {
       "metadata": {},
       "output_type": "pyout",
       "prompt_number": 35,
       "text": [
        "    Values\n",
        "i1      10\n",
        "i2      20\n",
        "i3      11\n",
        "i4      21\n",
        "i5      12\n",
        "i6      22"
       ]
      }
     ],
     "prompt_number": 35
    },
    {
     "cell_type": "code",
     "collapsed": false,
     "input": [
      "# overwrite old values with the new ones\n",
      "df.Values = filled_NaNs\n",
      "df"
     ],
     "language": "python",
     "metadata": {},
     "outputs": [
      {
       "metadata": {},
       "output_type": "pyout",
       "prompt_number": 36,
       "text": [
        "   Label  Values\n",
        "i1     A      10\n",
        "i2     B      20\n",
        "i3     A      11\n",
        "i4     B      21\n",
        "i5     A      12\n",
        "i6     B      22"
       ]
      }
     ],
     "prompt_number": 36
    },
    {
     "cell_type": "code",
     "collapsed": false,
     "input": [
      "# generate a rolling mean time series\n",
      "np.random.seed(123456)\n",
      "data = pd.Series(np.random.normal(0.5, 2, 365*3), \n",
      "                 pd.date_range('2011-01-01', periods=365*3))\n",
      "rolling = pd.rolling_mean(data, 100, 100).dropna()\n",
      "rolling"
     ],
     "language": "python",
     "metadata": {},
     "outputs": [
      {
       "metadata": {},
       "output_type": "pyout",
       "prompt_number": 37,
       "text": [
        "2011-04-10    0.073603\n",
        "2011-04-11    0.057313\n",
        "2011-04-12    0.089255\n",
        "...\n",
        "2013-12-28    0.850998\n",
        "2013-12-29    0.842293\n",
        "2013-12-30    0.848419\n",
        "Freq: D, Length: 996"
       ]
      }
     ],
     "prompt_number": 37
    },
    {
     "cell_type": "code",
     "collapsed": false,
     "input": [
      "# visualize the series\n",
      "rolling.plot();"
     ],
     "language": "python",
     "metadata": {},
     "outputs": [
      {
       "metadata": {},
       "output_type": "display_data",
       "png": "[encoded data removed]",
       "text": [
        "<matplotlib.figure.Figure at 0x1067a0a50>"
       ]
      }
     ],
     "prompt_number": 38
    },
    {
     "cell_type": "code",
     "collapsed": false,
     "input": [
      "# calculate mean and std by year\n",
      "groupkey = lambda x: x.year\n",
      "groups = rolling.groupby(groupkey)\n",
      "groups.agg([np.mean, np.std])"
     ],
     "language": "python",
     "metadata": {},
     "outputs": [
      {
       "metadata": {},
       "output_type": "pyout",
       "prompt_number": 39,
       "text": [
        "          mean       std\n",
        "2011  0.454233  0.171988\n",
        "2012  0.286874  0.181930\n",
        "2013  0.599933  0.276009"
       ]
      }
     ],
     "prompt_number": 39
    },
    {
     "cell_type": "code",
     "collapsed": false,
     "input": [
      "# normalize to the z-score\n",
      "zscore = lambda x: (x - x.mean()) / x.std()\n",
      "normed = rolling.groupby(groupkey).transform(zscore)\n",
      "normed.groupby(groupkey).agg([np.mean, np.std])"
     ],
     "language": "python",
     "metadata": {},
     "outputs": [
      {
       "metadata": {},
       "output_type": "pyout",
       "prompt_number": 40,
       "text": [
        "              mean  std\n",
        "2011 -3.172066e-17    1\n",
        "2012  4.246755e-17    1\n",
        "2013 -3.388620e-16    1"
       ]
      }
     ],
     "prompt_number": 40
    },
    {
     "cell_type": "code",
     "collapsed": false,
     "input": [
      "# plot original vs normalize\n",
      "compared = pd.DataFrame({ 'Original': rolling,\n",
      "                          'Normed': normed })\n",
      "compared.plot();"
     ],
     "language": "python",
     "metadata": {},
     "outputs": [
      {
       "metadata": {},
       "output_type": "display_data",
       "png": "[encoded data removed]",
       "text": [
        "<matplotlib.figure.Figure at 0x10a006e90>"
       ]
      }
     ],
     "prompt_number": 41
    },
    {
     "cell_type": "code",
     "collapsed": false,
     "input": [
      "# check the distribution % within one std\n",
      "# should be roughly 64.2%\n",
      "normed_in1std = normed[np.abs(normed) <= 1.0].count()\n",
      "float(normed_in1std) / len(normed)"
     ],
     "language": "python",
     "metadata": {},
     "outputs": [
      {
       "metadata": {},
       "output_type": "pyout",
       "prompt_number": 42,
       "text": [
        "0.6485943775100401"
       ]
      }
     ],
     "prompt_number": 42
    },
    {
     "cell_type": "heading",
     "level": 2,
     "metadata": {},
     "source": [
      "Filtering groups"
     ]
    },
    {
     "cell_type": "code",
     "collapsed": false,
     "input": [
      "# data for our examples\n",
      "df = pd.DataFrame({'Label': list('AABCCC'),\n",
      "                   'Values': [1, 2, 3, 4, np.nan, 8]})\n",
      "df"
     ],
     "language": "python",
     "metadata": {},
     "outputs": [
      {
       "metadata": {},
       "output_type": "pyout",
       "prompt_number": 43,
       "text": [
        "  Label  Values\n",
        "0     A       1\n",
        "1     A       2\n",
        "2     B       3\n",
        "3     C       4\n",
        "4     C     NaN\n",
        "5     C       8"
       ]
      }
     ],
     "prompt_number": 43
    },
    {
     "cell_type": "code",
     "collapsed": false,
     "input": [
      "# drop groups with one or fewer non-NaN values\n",
      "f = lambda x: x.Values.count() > 1\n",
      "df.groupby('Label').filter(f)"
     ],
     "language": "python",
     "metadata": {},
     "outputs": [
      {
       "metadata": {},
       "output_type": "pyout",
       "prompt_number": 44,
       "text": [
        "  Label  Values\n",
        "0     A       1\n",
        "1     A       2\n",
        "3     C       4\n",
        "4     C     NaN\n",
        "5     C       8"
       ]
      }
     ],
     "prompt_number": 44
    },
    {
     "cell_type": "code",
     "collapsed": false,
     "input": [
      "# drop any groups with NaN values\n",
      "f = lambda x: x.Values.isnull().sum() == 0\n",
      "df.groupby('Label').filter(f)"
     ],
     "language": "python",
     "metadata": {},
     "outputs": [
      {
       "metadata": {},
       "output_type": "pyout",
       "prompt_number": 45,
       "text": [
        "  Label  Values\n",
        "0     A       1\n",
        "1     A       2\n",
        "2     B       3"
       ]
      }
     ],
     "prompt_number": 45
    },
    {
     "cell_type": "code",
     "collapsed": false,
     "input": [
      "# select groups with a mean of 2.0 or greater \n",
      "grouped = df.groupby('Label')\n",
      "mean = grouped.mean().mean()\n",
      "f = lambda x: abs(x.Values.mean() - mean) > 2.0\n",
      "df.groupby('Label').filter(f)"
     ],
     "language": "python",
     "metadata": {},
     "outputs": [
      {
       "metadata": {},
       "output_type": "pyout",
       "prompt_number": 46,
       "text": [
        "  Label  Values\n",
        "3     C       4\n",
        "4     C     NaN\n",
        "5     C       8"
       ]
      }
     ],
     "prompt_number": 46
    },
    {
     "cell_type": "code",
     "collapsed": false,
     "input": [
      "# replace values in a group where the # of items is <= 1\n",
      "f = lambda x: x.Values.count() > 1\n",
      "df.groupby('Label').filter(f, dropna=False)"
     ],
     "language": "python",
     "metadata": {},
     "outputs": [
      {
       "metadata": {},
       "output_type": "pyout",
       "prompt_number": 47,
       "text": [
        "  Label  Values\n",
        "0     A       1\n",
        "1     A       2\n",
        "2   NaN     NaN\n",
        "3     C       4\n",
        "4     C     NaN\n",
        "5     C       8"
       ]
      }
     ],
     "prompt_number": 47
    },
    {
     "cell_type": "heading",
     "level": 1,
     "metadata": {},
     "source": [
      "Discretization"
     ]
    },
    {
     "cell_type": "code",
     "collapsed": false,
     "input": [
      "# generate 10000 normal random #'s\n",
      "np.random.seed(123456)\n",
      "dist = np.random.normal(size = 10000)\n",
      "\n",
      "# show the mean and std\n",
      "\"{0} {1}\".format(dist.mean(), dist.std())"
     ],
     "language": "python",
     "metadata": {},
     "outputs": [
      {
       "metadata": {},
       "output_type": "pyout",
       "prompt_number": 48,
       "text": [
        "'-0.00286332404091 1.0087162032'"
       ]
      }
     ],
     "prompt_number": 48
    },
    {
     "cell_type": "code",
     "collapsed": false,
     "input": [
      "# and the actual data\n",
      "dist"
     ],
     "language": "python",
     "metadata": {},
     "outputs": [
      {
       "metadata": {},
       "output_type": "pyout",
       "prompt_number": 49,
       "text": [
        "array([ 0.4691123 , -0.28286334, -1.5090585 , ...,  0.26296448,\n",
        "       -0.83377412, -0.10418135])"
       ]
      }
     ],
     "prompt_number": 49
    },
    {
     "cell_type": "code",
     "collapsed": false,
     "input": [
      "# split the data into 5 bins\n",
      "bins = pd.cut(dist, 5)\n",
      "bins"
     ],
     "language": "python",
     "metadata": {},
     "outputs": [
      {
       "metadata": {},
       "output_type": "pyout",
       "prompt_number": 50,
       "text": [
        "[(-0.633, 0.81], (-0.633, 0.81], (-2.0771, -0.633], (-2.0771, -0.633], (0.81, 2.254], ..., (-2.0771, -0.633], (-0.633, 0.81], (-0.633, 0.81], (-2.0771, -0.633], (-0.633, 0.81]]\n",
        "Length: 10000\n",
        "Categories (5, object): [(-3.528, -2.0771] < (-2.0771, -0.633] < (-0.633, 0.81] < (0.81, 2.254] < (2.254, 3.698]]"
       ]
      }
     ],
     "prompt_number": 50
    },
    {
     "cell_type": "code",
     "collapsed": false,
     "input": [
      "# show the categories in the bins\n",
      "bins.categories"
     ],
     "language": "python",
     "metadata": {},
     "outputs": [
      {
       "metadata": {},
       "output_type": "pyout",
       "prompt_number": 51,
       "text": [
        "Index([u'(-3.528, -2.0771]', u'(-2.0771, -0.633]', u'(-0.633, 0.81]', u'(0.81, 2.254]', u'(2.254, 3.698]'], dtype='object')"
       ]
      }
     ],
     "prompt_number": 51
    },
    {
     "cell_type": "code",
     "collapsed": false,
     "input": [
      "# demonstrate the math to calculate the bins\n",
      "min = dist.min()\n",
      "max = dist.max()\n",
      "delta = max - min\n",
      "iwidth = delta/5\n",
      "extra = delta*0.001\n",
      "intervals = np.arange(min, max + extra, iwidth)\n",
      "intervals[0] -= delta*0.001\n",
      "intervals"
     ],
     "language": "python",
     "metadata": {},
     "outputs": [
      {
       "metadata": {},
       "output_type": "pyout",
       "prompt_number": 52,
       "text": [
        "array([-3.52809473, -2.07714421, -0.63341235,  0.81031951,  2.25405137,\n",
        "        3.69778323])"
       ]
      }
     ],
     "prompt_number": 52
    },
    {
     "cell_type": "code",
     "collapsed": false,
     "input": [
      "# codes tells us which bin each item is in\n",
      "bins.codes"
     ],
     "language": "python",
     "metadata": {},
     "outputs": [
      {
       "metadata": {},
       "output_type": "pyout",
       "prompt_number": 53,
       "text": [
        "array([2, 2, 1, ..., 2, 1, 2], dtype=int8)"
       ]
      }
     ],
     "prompt_number": 53
    },
    {
     "cell_type": "code",
     "collapsed": false,
     "input": [
      "# move the closed side of the interval to the left\n",
      "pd.cut(dist, 5, right=False).categories"
     ],
     "language": "python",
     "metadata": {},
     "outputs": [
      {
       "metadata": {},
       "output_type": "pyout",
       "prompt_number": 54,
       "text": [
        "Index([u'[-3.521, -2.0771)', u'[-2.0771, -0.633)', u'[-0.633, 0.81)', u'[0.81, 2.254)', u'[2.254, 3.705)'], dtype='object')"
       ]
      }
     ],
     "prompt_number": 54
    },
    {
     "cell_type": "code",
     "collapsed": false,
     "input": [
      "# generate 50 ages between 6 and 45\n",
      "np.random.seed(123456)\n",
      "ages = np.random.randint(6, 45, 50)\n",
      "ages"
     ],
     "language": "python",
     "metadata": {},
     "outputs": [
      {
       "metadata": {},
       "output_type": "pyout",
       "prompt_number": 55,
       "text": [
        "array([ 7, 33, 38, 29, 42, 14, 16, 16, 18, 17, 26, 28, 44, 40, 20, 12,  8,\n",
        "       10, 36, 29, 26, 26, 11, 29, 42, 17, 41, 35, 22, 40, 24, 21, 38, 33,\n",
        "       26, 23, 16, 34, 26, 20, 18, 42, 27, 13, 37, 37, 10,  7, 10, 23])"
       ]
      }
     ],
     "prompt_number": 55
    },
    {
     "cell_type": "code",
     "collapsed": false,
     "input": [
      "# cut into ranges and then get descriptive stats\n",
      "ranges = [6, 12, 18, 35, 50]\n",
      "agebins = pd.cut(ages, ranges)\n",
      "agebins.describe()"
     ],
     "language": "python",
     "metadata": {},
     "outputs": [
      {
       "metadata": {},
       "output_type": "pyout",
       "prompt_number": 56,
       "text": [
        "            counts  freqs\n",
        "categories               \n",
        "(6, 12]          8   0.16\n",
        "(12, 18]         9   0.18\n",
        "(18, 35]        21   0.42\n",
        "(35, 50]        12   0.24"
       ]
      }
     ],
     "prompt_number": 56
    },
    {
     "cell_type": "code",
     "collapsed": false,
     "input": [
      "# add names for the bins\n",
      "ranges = [6, 12, 18, 35, 50]\n",
      "labels = ['Youth', 'Young Adult', 'Adult', 'Middle Aged']\n",
      "agebins = pd.cut(ages, ranges, labels=labels)\n",
      "agebins.describe()"
     ],
     "language": "python",
     "metadata": {},
     "outputs": [
      {
       "metadata": {},
       "output_type": "pyout",
       "prompt_number": 57,
       "text": [
        "             counts  freqs\n",
        "categories                \n",
        "Youth             8   0.16\n",
        "Young Adult       9   0.18\n",
        "Adult            21   0.42\n",
        "Middle Aged      12   0.24"
       ]
      }
     ],
     "prompt_number": 57
    },
    {
     "cell_type": "code",
     "collapsed": false,
     "input": [
      "# cut into quantiles\n",
      "# 5 bins with an equal quantity of items\n",
      "qbin = pd.qcut(dist, 5)\n",
      "# this will tell us the range of values in each quantile\n",
      "qbin.describe()"
     ],
     "language": "python",
     "metadata": {},
     "outputs": [
      {
       "metadata": {},
       "output_type": "pyout",
       "prompt_number": 58,
       "text": [
        "                  counts  freqs\n",
        "categories                     \n",
        "[-3.521, -0.861]    2000    0.2\n",
        "(-0.861, -0.241]    2000    0.2\n",
        "(-0.241, 0.261]     2000    0.2\n",
        "(0.261, 0.866]      2000    0.2\n",
        "(0.866, 3.698]      2000    0.2"
       ]
      }
     ],
     "prompt_number": 58
    },
    {
     "cell_type": "code",
     "collapsed": false,
     "input": [
      "# make the quantiles at the +/- 3, 2 and 1 std deviations\n",
      "quantiles = [0,0.001,\n",
      "             0.021,\n",
      "             0.5-0.341,\n",
      "             0.5,\n",
      "             0.5+0.341,\n",
      "             1.0-0.021,\n",
      "             1.0-0.001,\n",
      "             1.0]\n",
      "qbin = pd.qcut(dist, quantiles)\n",
      "# this data should be a perfect normal distribution\n",
      "qbin.describe()"
     ],
     "language": "python",
     "metadata": {},
     "outputs": [
      {
       "metadata": {},
       "output_type": "pyout",
       "prompt_number": 59,
       "text": [
        "                     counts  freqs\n",
        "categories                        \n",
        "[-3.521, -3.131]         10  0.001\n",
        "(-3.131, -2.0562]       200  0.020\n",
        "(-2.0562, -1.0332]     1380  0.138\n",
        "(-1.0332, -0.00363]    3410  0.341\n",
        "(-0.00363, 1.0114]     3410  0.341\n",
        "(1.0114, 2.0428]       1380  0.138\n",
        "(2.0428, 3.0619]        200  0.020\n",
        "(3.0619, 3.698]          10  0.001"
       ]
      }
     ],
     "prompt_number": 59
    }
   ],
   "metadata": {}
  }
 ]
}