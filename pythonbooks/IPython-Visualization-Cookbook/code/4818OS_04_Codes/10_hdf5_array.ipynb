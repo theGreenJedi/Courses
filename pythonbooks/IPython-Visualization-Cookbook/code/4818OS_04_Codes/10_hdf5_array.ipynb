{
 "nbformat": 3, 
 "nbformat_minor": 0, 
 "worksheets": [
  {
   "cells": [
    {
     "source": [
      "> This is one of the 100 recipes of the [IPython Cookbook](http://ipython-books.github.io/), the definitive guide to high-performance scientific computing and data science in Python.\n"
     ], 
     "cell_type": "markdown", 
     "metadata": []
    }, 
    {
     "source": [
      "# 4.10. Manipulating large arrays with HDF5 and PyTables"
     ], 
     "cell_type": "markdown", 
     "metadata": {}
    }, 
    {
     "cell_type": "code", 
     "language": "python", 
     "outputs": [], 
     "collapsed": false, 
     "input": [
      "import numpy as np\n", 
      "import tables as tb"
     ], 
     "metadata": {}
    }, 
    {
     "source": [
      "## Creating an HDF5 file"
     ], 
     "cell_type": "markdown", 
     "metadata": {}
    }, 
    {
     "source": [
      "Let's create a new empty HDF5 file."
     ], 
     "cell_type": "markdown", 
     "metadata": {}
    }, 
    {
     "cell_type": "code", 
     "language": "python", 
     "outputs": [], 
     "collapsed": false, 
     "input": [
      "f = tb.open_file('myfile.h5', 'w')"
     ], 
     "metadata": {}
    }, 
    {
     "source": [
      "We create a new top-level group named \"experiment1\"."
     ], 
     "cell_type": "markdown", 
     "metadata": {}
    }, 
    {
     "cell_type": "code", 
     "language": "python", 
     "outputs": [], 
     "collapsed": false, 
     "input": [
      "f.create_group('/', 'experiment1')"
     ], 
     "metadata": {}
    }, 
    {
     "source": [
      "Let's also add some metadata to this group."
     ], 
     "cell_type": "markdown", 
     "metadata": {}
    }, 
    {
     "cell_type": "code", 
     "language": "python", 
     "outputs": [], 
     "collapsed": false, 
     "input": [
      "f.set_node_attr('/experiment1', 'date', '2013-09-01')"
     ], 
     "metadata": {}
    }, 
    {
     "source": [
      "In this group, we create a 1000*1000 array named \"array1\"."
     ], 
     "cell_type": "markdown", 
     "metadata": {}
    }, 
    {
     "cell_type": "code", 
     "language": "python", 
     "outputs": [], 
     "collapsed": false, 
     "input": [
      "x = np.random.rand(1000, 1000)\n", 
      "f.create_array('/experiment1', 'array1', x)"
     ], 
     "metadata": {}
    }, 
    {
     "source": [
      "Finally, we need to close the file to commit the changes on disk."
     ], 
     "cell_type": "markdown", 
     "metadata": {}
    }, 
    {
     "cell_type": "code", 
     "language": "python", 
     "outputs": [], 
     "collapsed": false, 
     "input": [
      "f.close()"
     ], 
     "metadata": {}
    }, 
    {
     "source": [
      "## Reading a HDF5 file"
     ], 
     "cell_type": "markdown", 
     "metadata": {}
    }, 
    {
     "cell_type": "code", 
     "language": "python", 
     "outputs": [], 
     "collapsed": false, 
     "input": [
      "f = tb.open_file('myfile.h5', 'r')"
     ], 
     "metadata": {}
    }, 
    {
     "source": [
      "We can retrieve an attribute by giving the group path and the attribute name."
     ], 
     "cell_type": "markdown", 
     "metadata": {}
    }, 
    {
     "cell_type": "code", 
     "language": "python", 
     "outputs": [], 
     "collapsed": false, 
     "input": [
      "f.get_node_attr('/experiment1', 'date')"
     ], 
     "metadata": {}
    }, 
    {
     "source": [
      "We can access any item in the file using attributes. IPython's tab completion is incredibly useful in this respect when exploring a file interactively."
     ], 
     "cell_type": "markdown", 
     "metadata": {}
    }, 
    {
     "cell_type": "code", 
     "language": "python", 
     "outputs": [], 
     "collapsed": false, 
     "input": [
      "y = f.root.experiment1.array1\n", 
      "type(y)"
     ], 
     "metadata": {}
    }, 
    {
     "source": [
      "The array can be used as a NumPy array, but an important distinction is that it is stored on disk instead of system memory. Performing a computation on this array triggers a preliminary loading of the array in memory, so that it is more efficient to only access views on this array."
     ], 
     "cell_type": "markdown", 
     "metadata": {}
    }, 
    {
     "cell_type": "code", 
     "language": "python", 
     "outputs": [], 
     "collapsed": false, 
     "input": [
      "np.array_equal(x[0,:], y[0,:])"
     ], 
     "metadata": {}
    }, 
    {
     "source": [
      "It is also possible to get a node from its absolute path, which is useful when this path is only known at runtime."
     ], 
     "cell_type": "markdown", 
     "metadata": {}
    }, 
    {
     "cell_type": "code", 
     "language": "python", 
     "outputs": [], 
     "collapsed": false, 
     "input": [
      "f.get_node('/experiment1/array1')"
     ], 
     "metadata": {}
    }, 
    {
     "cell_type": "code", 
     "language": "python", 
     "outputs": [], 
     "collapsed": false, 
     "input": [
      "f.close()"
     ], 
     "metadata": {}
    }, 
    {
     "source": [
      "Clean-up."
     ], 
     "cell_type": "markdown", 
     "metadata": {}
    }, 
    {
     "cell_type": "code", 
     "language": "python", 
     "outputs": [], 
     "collapsed": false, 
     "input": [
      "import os\n", 
      "os.remove('myfile.h5')"
     ], 
     "metadata": {}
    }, 
    {
     "source": [
      "> You'll find all the explanations, figures, references, and much more in the book (to be released later this summer).\n\n> [IPython Cookbook](http://ipython-books.github.io/), by [Cyrille Rossant](http://cyrille.rossant.net), Packt Publishing, 2014 (400 pages). [Get a 50% discount by pre-ordering now](http://www.packtpub.com/ipython-interactive-computing-and-visualization-cookbook/book) with the code `PICVCEB` (time-limited offer)!\n"
     ], 
     "cell_type": "markdown", 
     "metadata": {}
    }
   ], 
   "metadata": {}
  }
 ], 
 "metadata": {
  "name": "", 
  "signature": "sha256:7a1a73b29b2716456b650652771afe5785389a1b4ea816087ccfcbf333a1b9ab"
 }
}