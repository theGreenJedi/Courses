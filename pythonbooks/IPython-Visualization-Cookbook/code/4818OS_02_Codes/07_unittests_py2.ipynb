{
 "nbformat": 3, 
 "nbformat_minor": 0, 
 "worksheets": [
  {
   "cells": [
    {
     "source": [
      "> This is one of the 100 recipes of the [IPython Cookbook](http://ipython-books.github.io/), the definitive guide to high-performance scientific computing and data science in Python.\n"
     ], 
     "cell_type": "markdown", 
     "metadata": []
    }, 
    {
     "source": [
      "# 2.7. Writing unit tests with nose\n", 
      "\n", 
      "**This is the Python 2 version of the recipe.**\n", 
      "\n", 
      "Although Python has a native unit testing module (unittest), we will rather use Nose which is more convenient and more powerful. Having an extra dependency is not a problem as the Nose package is only required to launch the test suite, and not to use the software itself."
     ], 
     "cell_type": "markdown", 
     "metadata": {}
    }, 
    {
     "source": [
      "## Creation of the Python module"
     ], 
     "cell_type": "markdown", 
     "metadata": {}
    }, 
    {
     "cell_type": "code", 
     "language": "python", 
     "outputs": [], 
     "collapsed": false, 
     "input": [
      "%%file datautils.py\n", 
      "# Version 1.\n", 
      "import os\n", 
      "from urllib2 import urlopen  # Python 3: use urllib.request\n", 
      "\n", 
      "def download(url):\n", 
      "    \"\"\"Download a file and save it in the current folder.\n", 
      "    Return the name of the downloaded file.\"\"\"\n", 
      "    # Get the filename.\n", 
      "    file = os.path.basename(url)\n", 
      "    # Download the file unless it already exists.\n", 
      "    if not os.path.exists(file):\n", 
      "        with open(file, 'w') as f:\n", 
      "            f.write(urlopen(url).read())\n", 
      "    return file"
     ], 
     "metadata": {}
    }, 
    {
     "source": [
      "## Creation of the test module"
     ], 
     "cell_type": "markdown", 
     "metadata": {}
    }, 
    {
     "cell_type": "code", 
     "language": "python", 
     "outputs": [], 
     "collapsed": false, 
     "input": [
      "%%file test_datautils.py\n", 
      "from urllib2 import (HTTPHandler, install_opener, \n", 
      "                            build_opener, addinfourl)\n", 
      "import os\n", 
      "import shutil\n", 
      "import tempfile\n", 
      "from StringIO import StringIO  # Python 3: use io\n", 
      "from datautils import download\n", 
      "\n", 
      "TEST_FOLDER = tempfile.mkdtemp()\n", 
      "ORIGINAL_FOLDER = os.getcwd()\n", 
      "\n", 
      "class TestHTTPHandler(HTTPHandler):\n", 
      "    \"\"\"Mock HTTP handler.\"\"\"\n", 
      "    def http_open(self, req):\n", 
      "        resp = addinfourl(StringIO('test'), '', req.get_full_url(), 200)\n", 
      "        resp.msg = 'OK'\n", 
      "        return resp\n", 
      "    \n", 
      "def setup():\n", 
      "    \"\"\"Install the mock HTTP handler for unit tests.\"\"\"\n", 
      "    install_opener(build_opener(TestHTTPHandler))\n", 
      "    os.chdir(TEST_FOLDER)\n", 
      "    \n", 
      "def teardown():\n", 
      "    \"\"\"Restore the normal HTTP handler.\"\"\"\n", 
      "    install_opener(build_opener(HTTPHandler))\n", 
      "    # Go back to the original folder.\n", 
      "    os.chdir(ORIGINAL_FOLDER)\n", 
      "    # Delete the test folder.\n", 
      "    shutil.rmtree(TEST_FOLDER)\n", 
      "\n", 
      "def test_download1():\n", 
      "    file = download(\"http://example.com/file.txt\")\n", 
      "    # Check that the file has been downloaded.\n", 
      "    assert os.path.exists(file)\n", 
      "    # Check that the file contains the contents of the remote file.\n", 
      "    with open(file, 'r') as f:\n", 
      "        contents = f.read()\n", 
      "    print(contents)\n", 
      "    assert contents == 'test'"
     ], 
     "metadata": {}
    }, 
    {
     "source": [
      "## Launching the tests"
     ], 
     "cell_type": "markdown", 
     "metadata": {}
    }, 
    {
     "cell_type": "code", 
     "language": "python", 
     "outputs": [], 
     "collapsed": false, 
     "input": [
      "!nosetests"
     ], 
     "metadata": {}
    }, 
    {
     "source": [
      "## Adding a failing test"
     ], 
     "cell_type": "markdown", 
     "metadata": {}
    }, 
    {
     "source": [
      "Now, let's add a new test."
     ], 
     "cell_type": "markdown", 
     "metadata": {}
    }, 
    {
     "cell_type": "code", 
     "language": "python", 
     "outputs": [], 
     "collapsed": false, 
     "input": [
      "%%file test_datautils.py -a\n", 
      "\n", 
      "def test_download2():\n", 
      "    file = download(\"http://example.com/\")\n", 
      "    assert os.path.exists(file)"
     ], 
     "metadata": {}
    }, 
    {
     "cell_type": "code", 
     "language": "python", 
     "outputs": [], 
     "collapsed": false, 
     "input": [
      "!nosetests"
     ], 
     "metadata": {}
    }, 
    {
     "source": [
      "## Fixing the failing test"
     ], 
     "cell_type": "markdown", 
     "metadata": {}
    }, 
    {
     "source": [
      "The new test fails because the filename cannot be inferred from the URL, so we need to handle this case."
     ], 
     "cell_type": "markdown", 
     "metadata": {}
    }, 
    {
     "cell_type": "code", 
     "language": "python", 
     "outputs": [], 
     "collapsed": false, 
     "input": [
      "%%file datautils.py\n", 
      "# Version 2.\n", 
      "import os\n", 
      "from urllib2 import urlopen  # Python 3: use urllib.request\n", 
      "\n", 
      "def download(url):\n", 
      "    \"\"\"Download a file and save it in the current folder.\n", 
      "    Return the name of the downloaded file.\"\"\"\n", 
      "    # Get the filename.\n", 
      "    file = os.path.basename(url)\n", 
      "    # Fix the bug, by specifying a fixed filename if the URL \n", 
      "    # does not contain one.\n", 
      "    if not file:\n", 
      "        file = 'downloaded'\n", 
      "    # Download the file unless it already exists.\n", 
      "    if not os.path.exists(file):\n", 
      "        with open(file, 'w') as f:\n", 
      "            f.write(urlopen(url).read())\n", 
      "    return file"
     ], 
     "metadata": {}
    }, 
    {
     "cell_type": "code", 
     "language": "python", 
     "outputs": [], 
     "collapsed": false, 
     "input": [
      "!nosetests"
     ], 
     "metadata": {}
    }, 
    {
     "source": [
      "> You'll find all the explanations, figures, references, and much more in the book (to be released later this summer).\n\n> [IPython Cookbook](http://ipython-books.github.io/), by [Cyrille Rossant](http://cyrille.rossant.net), Packt Publishing, 2014 (400 pages). [Get a 50% discount by pre-ordering now](http://www.packtpub.com/ipython-interactive-computing-and-visualization-cookbook/book) with the code `PICVCEB` (time-limited offer)!\n"
     ], 
     "cell_type": "markdown", 
     "metadata": {}
    }
   ], 
   "metadata": {}
  }
 ], 
 "metadata": {
  "name": "", 
  "signature": "sha256:c67b3f81e7519b2bebda71abfae7b0ff4296b48e4c0b0d5bdb58e39edbf692f8"
 }
}