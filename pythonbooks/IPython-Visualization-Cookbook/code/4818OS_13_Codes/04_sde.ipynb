{
 "metadata": {
  "name": "",
  "signature": "sha256:58fc2927988a6e2bcab1c835369722300c87189c7ef17d62eff1cf75a16ed167"
 },
 "nbformat": 3,
 "nbformat_minor": 0,
 "worksheets": [
  {
   "cells": [
    {
     "cell_type": "markdown",
     "metadata": [],
     "source": [
      "> This is one of the 100 recipes of the [IPython Cookbook](http://ipython-books.github.io/), the definitive guide to high-performance scientific computing and data science in Python.\n"
     ]
    },
    {
     "cell_type": "markdown",
     "metadata": {},
     "source": [
      "# 13.4. Simulating a stochastic differential equation"
     ]
    },
    {
     "cell_type": "markdown",
     "metadata": {},
     "source": [
      "1. Let's import NumPy and matplotlib."
     ]
    },
    {
     "cell_type": "code",
     "collapsed": false,
     "input": [
      "import numpy as np\n",
      "import matplotlib as mpl\n",
      "import matplotlib.pyplot as plt\n",
      "%matplotlib inline"
     ],
     "language": "python",
     "metadata": {},
     "outputs": []
    },
    {
     "cell_type": "markdown",
     "metadata": {},
     "source": [
      "2. Let's define a few parameters for our model."
     ]
    },
    {
     "cell_type": "code",
     "collapsed": false,
     "input": [
      "sigma = 1.  # Standard deviation.\n",
      "mu = 10.  # Mean.\n",
      "tau = .05  # Time constant."
     ],
     "language": "python",
     "metadata": {},
     "outputs": []
    },
    {
     "cell_type": "markdown",
     "metadata": {},
     "source": [
      "3. We also define a few simulation parameters."
     ]
    },
    {
     "cell_type": "code",
     "collapsed": false,
     "input": [
      "dt = .001  # Time step.\n",
      "T = 1.  # Total time.\n",
      "n = int(T/dt)  # Number of time steps.\n",
      "t = np.linspace(0., T, n)  # Vector of times."
     ],
     "language": "python",
     "metadata": {},
     "outputs": []
    },
    {
     "cell_type": "markdown",
     "metadata": {},
     "source": [
      "4. We also define renormalized variables (to avoid recomputing these constants at every time step)."
     ]
    },
    {
     "cell_type": "code",
     "collapsed": false,
     "input": [
      "sigma_bis = sigma * np.sqrt(2. / tau)\n",
      "sqrtdt = np.sqrt(dt)"
     ],
     "language": "python",
     "metadata": {},
     "outputs": []
    },
    {
     "cell_type": "markdown",
     "metadata": {},
     "source": [
      "5. We create a vector that will contain all successive values of our process during the simulation."
     ]
    },
    {
     "cell_type": "code",
     "collapsed": false,
     "input": [
      "x = np.zeros(n)"
     ],
     "language": "python",
     "metadata": {},
     "outputs": []
    },
    {
     "cell_type": "markdown",
     "metadata": {},
     "source": [
      "6. Now, we simulate the process with the Euler-Maruyama method. It is really like the standard Euler method for ODEs, but with an extra stochastic term (which is just a scaled normal random variable). We will give the equation of the process along with the details of this method in *How it works...*."
     ]
    },
    {
     "cell_type": "code",
     "collapsed": false,
     "input": [
      "for i in range(n-1):\n",
      "    x[i+1] = x[i] + dt*(-(x[i]-mu)/tau) + \\\n",
      "             sigma_bis * sqrtdt * np.random.randn()"
     ],
     "language": "python",
     "metadata": {},
     "outputs": []
    },
    {
     "cell_type": "markdown",
     "metadata": {},
     "source": [
      "7. Let's display the evolution of the process."
     ]
    },
    {
     "cell_type": "code",
     "collapsed": false,
     "input": [
      "plt.figure(figsize=(6,3));\n",
      "plt.plot(t, x);"
     ],
     "language": "python",
     "metadata": {},
     "outputs": []
    },
    {
     "cell_type": "markdown",
     "metadata": {},
     "source": [
      "8. Now, we are going to take a look at the time evolution of the distribution of the process. To do that, we will simulate many independent realizations of the same process in a vectorized way. We define a vector `X` that will contain all realizations of the process at a given time (i.e. we do not keep the memory of all realizations at all times). This vector will be completely updated at every time step. We will show the estimated distribution (histograms) at several points in time."
     ]
    },
    {
     "cell_type": "code",
     "collapsed": false,
     "input": [
      "ntrials = 10000\n",
      "X = np.zeros(ntrials)"
     ],
     "language": "python",
     "metadata": {},
     "outputs": []
    },
    {
     "cell_type": "code",
     "collapsed": false,
     "input": [
      "# We create bins for the histograms.\n",
      "bins = np.linspace(-2., 14., 100);\n",
      "plt.figure(figsize=(6,3));\n",
      "for i in range(n):\n",
      "    # We update the process independently for all trials.\n",
      "    X += dt*(-(X-mu)/tau) + \\\n",
      "        sigma_bis*sqrtdt*np.random.randn(ntrials)\n",
      "    # We display the histogram for a few points in time.\n",
      "    if i in (5, 50, 900):\n",
      "        hist, _ = np.histogram(X, bins=bins)\n",
      "        plt.plot((bins[1:]+bins[:-1])/2, hist,\n",
      "                 {5: '-', 50: '.', 900: '-.',}[i],\n",
      "                 label=\"t={0:.2f}\".format(i*dt));\n",
      "    plt.legend();"
     ],
     "language": "python",
     "metadata": {},
     "outputs": []
    },
    {
     "cell_type": "markdown",
     "metadata": {},
     "source": [
      "The distribution of the process tends to a Gaussian distribution with mean $\\mu=10$ and standard deviation $\\sigma=1$. The process would be stationary if the initial distribution was also a Gaussian with the adequate parameters."
     ]
    },
    {
     "cell_type": "markdown",
     "metadata": {},
     "source": [
      "> You'll find all the explanations, figures, references, and much more in the book (to be released later this summer).\n",
      "\n",
      "> [IPython Cookbook](http://ipython-books.github.io/), by [Cyrille Rossant](http://cyrille.rossant.net), Packt Publishing, 2014 (400 pages). [Get a 50% discount by pre-ordering now](http://www.packtpub.com/ipython-interactive-computing-and-visualization-cookbook/book) with the code `PICVCEB` (time-limited offer)!\n"
     ]
    }
   ],
   "metadata": {}
  }
 ]
}