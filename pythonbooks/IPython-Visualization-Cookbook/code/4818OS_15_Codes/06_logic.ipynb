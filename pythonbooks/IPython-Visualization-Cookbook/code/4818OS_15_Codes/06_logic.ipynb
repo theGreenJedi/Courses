{
 "metadata": {
  "name": "",
  "signature": "sha256:8f113c190827c8683398b4a5edfeedc2c4a6ec6f24fff252055dae02486f09c0"
 },
 "nbformat": 3,
 "nbformat_minor": 0,
 "worksheets": [
  {
   "cells": [
    {
     "cell_type": "markdown",
     "metadata": [],
     "source": [
      "> This is one of the 100 recipes of the [IPython Cookbook](http://ipython-books.github.io/), the definitive guide to high-performance scientific computing and data science in Python.\n"
     ]
    },
    {
     "cell_type": "markdown",
     "metadata": {},
     "source": [
      "# 15.6. Finding a Boolean propositional formula from a truth table"
     ]
    },
    {
     "cell_type": "code",
     "collapsed": false,
     "input": [
      "from sympy import *\n",
      "init_printing(pretty_print=True)"
     ],
     "language": "python",
     "metadata": {},
     "outputs": []
    },
    {
     "cell_type": "markdown",
     "metadata": {},
     "source": [
      "Let's define a few variables."
     ]
    },
    {
     "cell_type": "code",
     "collapsed": false,
     "input": [
      "var('x y z')"
     ],
     "language": "python",
     "metadata": {},
     "outputs": []
    },
    {
     "cell_type": "markdown",
     "metadata": {},
     "source": [
      "We can define propositional formulas with symbols and a few operators."
     ]
    },
    {
     "cell_type": "code",
     "collapsed": false,
     "input": [
      "P = x & (y | ~z); P"
     ],
     "language": "python",
     "metadata": {},
     "outputs": []
    },
    {
     "cell_type": "code",
     "collapsed": false,
     "input": [
      "P.subs({x: True, y: False, z: True})"
     ],
     "language": "python",
     "metadata": {},
     "outputs": []
    },
    {
     "cell_type": "markdown",
     "metadata": {},
     "source": [
      "Now, we want to find a propositional formula depending on x, y, z, with the following truth table:"
     ]
    },
    {
     "cell_type": "code",
     "collapsed": false,
     "input": [
      "%%HTML\n",
      "<style>\n",
      "table.truth_table tr {\n",
      "    margin: 0;\n",
      "    padding: 0;\n",
      "}\n",
      "table.truth_table td, table.truth_table th {\n",
      "    width: 30px;\n",
      "    text-align: center;\n",
      "    margin: 0;\n",
      "    padding: 0;\n",
      "}\n",
      "</style>\n",
      "<table class=\"truth_table\">\n",
      "<tr>\n",
      "<th>x</th><th>y</th><th>z</th><th>??</th>\n",
      "</tr>\n",
      "<tr>\n",
      "<td>T</td><td>T</td><td>T</td><th>*</th>\n",
      "</tr>\n",
      "<tr>\n",
      "<td>T</td><td>T</td><td>F</td><th>*</th>\n",
      "</tr>\n",
      "<tr>\n",
      "<td>T</td><td>F</td><td>T</td><th>T</th>\n",
      "</tr>\n",
      "<tr>\n",
      "<td>T</td><td>F</td><td>F</td><th>T</th>\n",
      "</tr>\n",
      "<tr>\n",
      "<td>F</td><td>T</td><td>T</td><th>F</th>\n",
      "</tr>\n",
      "<tr>\n",
      "<td>F</td><td>T</td><td>F</td><th>F</th>\n",
      "</tr>\n",
      "<tr>\n",
      "<td>F</td><td>F</td><td>T</td><th>F</th>\n",
      "</tr>\n",
      "<tr>\n",
      "<td>F</td><td>F</td><td>F</td><th>T</th>\n",
      "</tr>\n",
      "</table>"
     ],
     "language": "python",
     "metadata": {},
     "outputs": [
      {
       "html": [
        "<style>\n",
        "table.truth_table tr {\n",
        "    margin: 0;\n",
        "    padding: 0;\n",
        "}\n",
        "table.truth_table td, table.truth_table th {\n",
        "    width: 30px;\n",
        "    text-align: center;\n",
        "    margin: 0;\n",
        "    padding: 0;\n",
        "}\n",
        "</style>\n",
        "<table class=\"truth_table\">\n",
        "<tr>\n",
        "<th>x</th><th>y</th><th>z</th><th>??</th>\n",
        "</tr>\n",
        "<tr>\n",
        "<td>T</td><td>T</td><td>T</td><th>*</th>\n",
        "</tr>\n",
        "<tr>\n",
        "<td>T</td><td>T</td><td>F</td><th>*</th>\n",
        "</tr>\n",
        "<tr>\n",
        "<td>T</td><td>F</td><td>T</td><th>T</th>\n",
        "</tr>\n",
        "<tr>\n",
        "<td>T</td><td>F</td><td>F</td><th>T</th>\n",
        "</tr>\n",
        "<tr>\n",
        "<td>F</td><td>T</td><td>T</td><th>F</th>\n",
        "</tr>\n",
        "<tr>\n",
        "<td>F</td><td>T</td><td>F</td><th>F</th>\n",
        "</tr>\n",
        "<tr>\n",
        "<td>F</td><td>F</td><td>T</td><th>F</th>\n",
        "</tr>\n",
        "<tr>\n",
        "<td>F</td><td>F</td><td>F</td><th>T</th>\n",
        "</tr>\n",
        "</table>"
       ],
       "metadata": {},
       "output_type": "display_data",
       "text": [
        "<IPython.core.display.HTML at 0x5b58048>"
       ]
      }
     ],
     "prompt_number": 1
    },
    {
     "cell_type": "markdown",
     "metadata": {},
     "source": [
      "Let's write down all combinations that we want to evaluate to True, and those for which the outcome does not matter."
     ]
    },
    {
     "cell_type": "code",
     "collapsed": false,
     "input": [
      "minterms = [[1,0,1], [1,0,0], [0,0,0]]\n",
      "dontcare = [[1,1,1], [1,1,0]]"
     ],
     "language": "python",
     "metadata": {},
     "outputs": []
    },
    {
     "cell_type": "markdown",
     "metadata": {},
     "source": [
      "Now, we use the SOPform function to derive an adequate proposition."
     ]
    },
    {
     "cell_type": "code",
     "collapsed": false,
     "input": [
      "Q = SOPform(['x', 'y', 'z'], minterms, dontcare); Q"
     ],
     "language": "python",
     "metadata": {},
     "outputs": []
    },
    {
     "cell_type": "markdown",
     "metadata": {},
     "source": [
      "Let's test that this proposition works."
     ]
    },
    {
     "cell_type": "code",
     "collapsed": false,
     "input": [
      "Q.subs({x: True, y: False, z: False}), Q.subs({x: False, y: True, z: True})"
     ],
     "language": "python",
     "metadata": {},
     "outputs": []
    },
    {
     "cell_type": "markdown",
     "metadata": {},
     "source": [
      "> You'll find all the explanations, figures, references, and much more in the book (to be released later this summer).\n",
      "\n",
      "> [IPython Cookbook](http://ipython-books.github.io/), by [Cyrille Rossant](http://cyrille.rossant.net), Packt Publishing, 2014 (400 pages). [Get a 50% discount by pre-ordering now](http://www.packtpub.com/ipython-interactive-computing-and-visualization-cookbook/book) with the code `PICVCEB` (time-limited offer)!\n"
     ]
    }
   ],
   "metadata": {}
  }
 ]
}