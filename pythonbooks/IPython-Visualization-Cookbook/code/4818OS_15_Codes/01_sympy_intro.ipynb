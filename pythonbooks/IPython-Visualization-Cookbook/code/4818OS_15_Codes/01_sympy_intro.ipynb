{
 "nbformat": 3, 
 "nbformat_minor": 0, 
 "worksheets": [
  {
   "cells": [
    {
     "source": [
      "> This is one of the 100 recipes of the [IPython Cookbook](http://ipython-books.github.io/), the definitive guide to high-performance scientific computing and data science in Python.\n"
     ], 
     "cell_type": "markdown", 
     "metadata": []
    }, 
    {
     "source": [
      "# 15.1. Diving into symbolic computing with SymPy"
     ], 
     "cell_type": "markdown", 
     "metadata": {}
    }, 
    {
     "source": [
      "SymPy is a pure Python package for symbolic mathematics."
     ], 
     "cell_type": "markdown", 
     "metadata": {}
    }, 
    {
     "source": [
      "First, we import SymPy, and enable rich display LaTeX-based printing in the IPython notebook (using the MathJax Javascript library)."
     ], 
     "cell_type": "markdown", 
     "metadata": {}
    }, 
    {
     "cell_type": "code", 
     "language": "python", 
     "outputs": [], 
     "collapsed": false, 
     "input": [
      "from sympy import *\n", 
      "init_printing()"
     ], 
     "metadata": {}
    }, 
    {
     "source": [
      "With NumPy and the other packages we have been using so far, we were dealing with numbers and numerical arrays. With SymPy, we deal with symbolic variables. It's a radically different shift of paradigm, which mathematicians may be more familiar with."
     ], 
     "cell_type": "markdown", 
     "metadata": {}
    }, 
    {
     "source": [
      "To deal with symbolic variables, we need to declare them."
     ], 
     "cell_type": "markdown", 
     "metadata": {}
    }, 
    {
     "cell_type": "code", 
     "language": "python", 
     "outputs": [], 
     "collapsed": false, 
     "input": [
      "var('x y')"
     ], 
     "metadata": {}
    }, 
    {
     "source": [
      "The var function creates symbols and injects them into the namespace. This function should only be used in interactive mode. In a Python module, it is better to use the symbol function which returns the symbols."
     ], 
     "cell_type": "markdown", 
     "metadata": {}
    }, 
    {
     "cell_type": "code", 
     "language": "python", 
     "outputs": [], 
     "collapsed": false, 
     "input": [
      "x, y = symbols('x y')"
     ], 
     "metadata": {}
    }, 
    {
     "source": [
      "We can create mathematical expressions with these symbols."
     ], 
     "cell_type": "markdown", 
     "metadata": {}
    }, 
    {
     "cell_type": "code", 
     "language": "python", 
     "outputs": [], 
     "collapsed": false, 
     "input": [
      "expr1 = (x + 1)**2\n", 
      "expr2 = x**2 + 2*x + 1"
     ], 
     "metadata": {}
    }, 
    {
     "source": [
      "Are these expressions equal?"
     ], 
     "cell_type": "markdown", 
     "metadata": {}
    }, 
    {
     "cell_type": "code", 
     "language": "python", 
     "outputs": [], 
     "collapsed": false, 
     "input": [
      "expr1 == expr2"
     ], 
     "metadata": {}
    }, 
    {
     "source": [
      "These expressions are mathematically equal, but not syntactically identical. To test whether they are equal, we can ask SymPy to simplify the difference algebraically."
     ], 
     "cell_type": "markdown", 
     "metadata": {}
    }, 
    {
     "cell_type": "code", 
     "language": "python", 
     "outputs": [], 
     "collapsed": false, 
     "input": [
      "simplify(expr1-expr2)"
     ], 
     "metadata": {}
    }, 
    {
     "source": [
      "A very common operation with symbolic expressions is substitution of a symbol by another symbol, expression, or a number."
     ], 
     "cell_type": "markdown", 
     "metadata": {}
    }, 
    {
     "cell_type": "code", 
     "language": "python", 
     "outputs": [], 
     "collapsed": false, 
     "input": [
      "expr1.subs(x, expr1)"
     ], 
     "metadata": {}
    }, 
    {
     "cell_type": "code", 
     "language": "python", 
     "outputs": [], 
     "collapsed": false, 
     "input": [
      "expr1.subs(x, pi)"
     ], 
     "metadata": {}
    }, 
    {
     "source": [
      "A rational number cannot be written simply as \"1/2\" as this Python expression evaluates to 0. A possibility is to use a SymPy object for 1, for example using the function S."
     ], 
     "cell_type": "markdown", 
     "metadata": {}
    }, 
    {
     "cell_type": "code", 
     "language": "python", 
     "outputs": [], 
     "collapsed": false, 
     "input": [
      "expr1.subs(x, S(1)/2)"
     ], 
     "metadata": {}
    }, 
    {
     "source": [
      "Exactly-represented numbers can be evaluated numerically with evalf:"
     ], 
     "cell_type": "markdown", 
     "metadata": {}
    }, 
    {
     "cell_type": "code", 
     "language": "python", 
     "outputs": [], 
     "collapsed": false, 
     "input": [
      "_.evalf()"
     ], 
     "metadata": {}
    }, 
    {
     "source": [
      "We can transform this *symbolic* function into an actual Python function that can be evaluated on NumPy arrays, using the `lambdify` function."
     ], 
     "cell_type": "markdown", 
     "metadata": {}
    }, 
    {
     "cell_type": "code", 
     "language": "python", 
     "outputs": [], 
     "collapsed": false, 
     "input": [
      "f = lambdify(x, expr1)"
     ], 
     "metadata": {}
    }, 
    {
     "cell_type": "code", 
     "language": "python", 
     "outputs": [], 
     "collapsed": false, 
     "input": [
      "import numpy as np\n", 
      "f(np.linspace(-2., 2., 5))"
     ], 
     "metadata": {}
    }, 
    {
     "source": [
      "> You'll find all the explanations, figures, references, and much more in the book (to be released later this summer).\n\n> [IPython Cookbook](http://ipython-books.github.io/), by [Cyrille Rossant](http://cyrille.rossant.net), Packt Publishing, 2014 (400 pages). [Get a 50% discount by pre-ordering now](http://www.packtpub.com/ipython-interactive-computing-and-visualization-cookbook/book) with the code `PICVCEB` (time-limited offer)!\n"
     ], 
     "cell_type": "markdown", 
     "metadata": {}
    }
   ], 
   "metadata": {}
  }
 ], 
 "metadata": {
  "name": "", 
  "signature": "sha256:1a44a052735860b741a061de62cffe517472f116340d626f48d65f15e847db29"
 }
}