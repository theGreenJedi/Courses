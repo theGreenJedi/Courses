{
 "nbformat": 3, 
 "nbformat_minor": 0, 
 "worksheets": [
  {
   "cells": [
    {
     "source": [
      "> This is one of the 100 recipes of the [IPython Cookbook](http://ipython-books.github.io/), the definitive guide to high-performance scientific computing and data science in Python.\n"
     ], 
     "cell_type": "markdown", 
     "metadata": []
    }, 
    {
     "source": [
      "# 15.2. Solving equations and inequalities"
     ], 
     "cell_type": "markdown", 
     "metadata": {}
    }, 
    {
     "cell_type": "code", 
     "language": "python", 
     "outputs": [], 
     "collapsed": false, 
     "input": [
      "from sympy import *\n", 
      "init_printing(pretty_print=False)"
     ], 
     "metadata": {}
    }, 
    {
     "cell_type": "code", 
     "language": "python", 
     "outputs": [], 
     "collapsed": false, 
     "input": [
      "var('x y z a')"
     ], 
     "metadata": {}
    }, 
    {
     "source": [
      "Use the function solve to resolve equations (the right hand side is always 0)."
     ], 
     "cell_type": "markdown", 
     "metadata": {}
    }, 
    {
     "cell_type": "code", 
     "language": "python", 
     "outputs": [], 
     "collapsed": false, 
     "input": [
      "solve(x**2 - a, x)"
     ], 
     "metadata": {}
    }, 
    {
     "source": [
      "You can also solve inequations. You may need to specify the domain of your variables. Here, we tell SymPy that x is a real variable."
     ], 
     "cell_type": "markdown", 
     "metadata": {}
    }, 
    {
     "cell_type": "code", 
     "language": "python", 
     "outputs": [], 
     "collapsed": false, 
     "input": [
      "x = Symbol('x')\n", 
      "solve_univariate_inequality(x**2 > 4, x)"
     ], 
     "metadata": {}
    }, 
    {
     "source": [
      "## Systems of equations"
     ], 
     "cell_type": "markdown", 
     "metadata": {}
    }, 
    {
     "source": [
      "This function also accepts systems of equations (here a linear system)."
     ], 
     "cell_type": "markdown", 
     "metadata": {}
    }, 
    {
     "cell_type": "code", 
     "language": "python", 
     "outputs": [], 
     "collapsed": false, 
     "input": [
      "solve([x + 2*y + 1, x - 3*y - 2], x, y)"
     ], 
     "metadata": {}
    }, 
    {
     "source": [
      "Non-linear systems are also supported."
     ], 
     "cell_type": "markdown", 
     "metadata": {}
    }, 
    {
     "cell_type": "code", 
     "language": "python", 
     "outputs": [], 
     "collapsed": false, 
     "input": [
      "solve([x**2 + y**2 - 1, x**2 - y**2 - S(1)/2], x, y)"
     ], 
     "metadata": {}
    }, 
    {
     "source": [
      "Singular linear systems can also be solved (here, there are infinitely many equations because the two equations are colinear)."
     ], 
     "cell_type": "markdown", 
     "metadata": {}
    }, 
    {
     "cell_type": "code", 
     "language": "python", 
     "outputs": [], 
     "collapsed": false, 
     "input": [
      "solve([x + 2*y + 1, -x - 2*y - 1], x, y)"
     ], 
     "metadata": {}
    }, 
    {
     "source": [
      "Now, let's solve a linear system using matrices with symbolic variables."
     ], 
     "cell_type": "markdown", 
     "metadata": {}
    }, 
    {
     "cell_type": "code", 
     "language": "python", 
     "outputs": [], 
     "collapsed": false, 
     "input": [
      "var('a b c d u v')"
     ], 
     "metadata": {}
    }, 
    {
     "source": [
      "We create the augmented matrix, which is the horizontal concatenation of the system's matrix with the linear coefficients, and the right-hand side vector."
     ], 
     "cell_type": "markdown", 
     "metadata": {}
    }, 
    {
     "cell_type": "code", 
     "language": "python", 
     "outputs": [], 
     "collapsed": false, 
     "input": [
      "M = Matrix([[a, b, u], [c, d, v]]); M"
     ], 
     "metadata": {}
    }, 
    {
     "cell_type": "code", 
     "language": "python", 
     "outputs": [], 
     "collapsed": false, 
     "input": [
      "solve_linear_system(M, x, y)"
     ], 
     "metadata": {}
    }, 
    {
     "source": [
      "This system needs to be non-singular to have a unique solution, which is equivalent to say that the determinant of the system's matrix needs to be non-zero (otherwise the denominators in the fractions above are equal to zero)."
     ], 
     "cell_type": "markdown", 
     "metadata": {}
    }, 
    {
     "cell_type": "code", 
     "language": "python", 
     "outputs": [], 
     "collapsed": false, 
     "input": [
      "det(M[:2,:2])"
     ], 
     "metadata": {}
    }, 
    {
     "source": [
      "> You'll find all the explanations, figures, references, and much more in the book (to be released later this summer).\n\n> [IPython Cookbook](http://ipython-books.github.io/), by [Cyrille Rossant](http://cyrille.rossant.net), Packt Publishing, 2014 (400 pages). [Get a 50% discount by pre-ordering now](http://www.packtpub.com/ipython-interactive-computing-and-visualization-cookbook/book) with the code `PICVCEB` (time-limited offer)!\n"
     ], 
     "cell_type": "markdown", 
     "metadata": {}
    }
   ], 
   "metadata": {}
  }
 ], 
 "metadata": {
  "name": "", 
  "signature": "sha256:9c7e3e0b97a99628970b81c0399d123c7cf15ac8674737134d7f5b58b8679df3"
 }
}