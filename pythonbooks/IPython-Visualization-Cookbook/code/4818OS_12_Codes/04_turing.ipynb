{
 "metadata": {
  "name": "",
  "signature": "sha256:787297c0ffcd19cf9fbce5abda91e102c8f43ab713d0ac5a41b367283a53cbd9"
 },
 "nbformat": 3,
 "nbformat_minor": 0,
 "worksheets": [
  {
   "cells": [
    {
     "cell_type": "markdown",
     "metadata": [],
     "source": [
      "> This is one of the 100 recipes of the [IPython Cookbook](http://ipython-books.github.io/), the definitive guide to high-performance scientific computing and data science in Python.\n"
     ]
    },
    {
     "cell_type": "markdown",
     "metadata": {},
     "source": [
      "# 12.4. Simulating a Partial Differential Equation: reaction-diffusion systems and Turing patterns"
     ]
    },
    {
     "cell_type": "markdown",
     "metadata": {},
     "source": [
      "1. Let's import the packages."
     ]
    },
    {
     "cell_type": "code",
     "collapsed": false,
     "input": [
      "import numpy as np\n",
      "import matplotlib.pyplot as plt\n",
      "%matplotlib inline"
     ],
     "language": "python",
     "metadata": {},
     "outputs": []
    },
    {
     "cell_type": "markdown",
     "metadata": {},
     "source": [
      "2. We will simulate the following system of partial differential equations on the domain $E=[-1,1]^2$:"
     ]
    },
    {
     "cell_type": "markdown",
     "metadata": {
      "style": "latex"
     },
     "source": [
      "\\begin{align*}\n",
      "\\frac{\\partial u}{\\partial t} &= a \\Delta u + u - u^3 - v + k\\\\\n",
      "\\tau\\frac{\\partial v}{\\partial t} &= b \\Delta v + u - v\\\\\n",
      "\\end{align*}"
     ]
    },
    {
     "cell_type": "markdown",
     "metadata": {},
     "source": [
      "The variable $u$ represents the concentration of a substance favoring skin pigmentation, whereas $v$ represents another substance that reacts with the first and impedes pigmentation.\n",
      "\n",
      "At initialization time, we assume that $u$ and $v$ contain independent random numbers on every grid point. Besides, we take **Neumann boundary conditions**: we require the spatial derivatives of the variables with respect to the normal vectors to be null on the boundaries of the domain $E$.\n",
      "\n",
      "Let's define the four parameters of the model."
     ]
    },
    {
     "cell_type": "code",
     "collapsed": false,
     "input": [
      "a = 2.8e-4\n",
      "b = 5e-3\n",
      "tau = .1\n",
      "k = -.005"
     ],
     "language": "python",
     "metadata": {},
     "outputs": []
    },
    {
     "cell_type": "markdown",
     "metadata": {},
     "source": [
      "3. We discretize time and space. The following condition ensures that the discretization scheme we use here is stable:\n",
      "\n",
      "$$dt \\leq \\frac{dx^2}{2}$$"
     ]
    },
    {
     "cell_type": "code",
     "collapsed": false,
     "input": [
      "size = 80  # size of the 2D grid\n",
      "dx = 2./size  # space step"
     ],
     "language": "python",
     "metadata": {},
     "outputs": []
    },
    {
     "cell_type": "code",
     "collapsed": false,
     "input": [
      "T = 10.0  # total time\n",
      "dt = .9 * dx**2/2  # time step\n",
      "n = int(T/dt)"
     ],
     "language": "python",
     "metadata": {},
     "outputs": []
    },
    {
     "cell_type": "markdown",
     "metadata": {},
     "source": [
      "4. We initialize the variables $u$ and $v$. The matrices $U$ and $V$ contain the values of these variables on the vertices of the 2D grid. These variables are initialized with a uniform noise between $0$ and $1$."
     ]
    },
    {
     "cell_type": "code",
     "collapsed": false,
     "input": [
      "U = np.random.rand(size, size)\n",
      "V = np.random.rand(size, size)"
     ],
     "language": "python",
     "metadata": {},
     "outputs": []
    },
    {
     "cell_type": "markdown",
     "metadata": {},
     "source": [
      "5. Now, we define a function that computes the discrete Laplace operator of a 2D variable on the grid, using a five-point stencil finite difference method. This operator is defined by:\n",
      "\n",
      "$$\\Delta u(x,y) \\simeq \\frac{u(x+h,y)+u(x-h,y)+u(x,y+h)+u(x,y-h)-4u(x,y)}{dx^2}$$\n",
      "\n",
      "We can compute the values of this operator on the grid using vectorized matrix operations. Because of side effects on the edges of the matrix, we need to remove the borders of the grid in the computation."
     ]
    },
    {
     "cell_type": "code",
     "collapsed": false,
     "input": [
      "def laplacian(Z):\n",
      "    Ztop = Z[0:-2,1:-1]\n",
      "    Zleft = Z[1:-1,0:-2]\n",
      "    Zbottom = Z[2:,1:-1]\n",
      "    Zright = Z[1:-1,2:]\n",
      "    Zcenter = Z[1:-1,1:-1]\n",
      "    return (Ztop + Zleft + Zbottom + Zright - 4 * Zcenter) / dx**2"
     ],
     "language": "python",
     "metadata": {},
     "outputs": []
    },
    {
     "cell_type": "markdown",
     "metadata": {},
     "source": [
      "6. Now, we simulate the system of equations using the finite difference method. At each time step, we compute the right-hand sides of the two equations on the grid using discrete spatial derivatives (Laplacians). Then, we update the variables using a discrete time derivative."
     ]
    },
    {
     "cell_type": "code",
     "collapsed": false,
     "input": [
      "# We simulate the PDE with the finite difference method.\n",
      "for i in range(n):\n",
      "    # We compute the Laplacian of u and v.\n",
      "    deltaU = laplacian(U)\n",
      "    deltaV = laplacian(V)\n",
      "    # We take the values of u and v inside the grid.\n",
      "    Uc = U[1:-1,1:-1]\n",
      "    Vc = V[1:-1,1:-1]\n",
      "    # We update the variables.\n",
      "    U[1:-1,1:-1], V[1:-1,1:-1] = \\\n",
      "        Uc + dt * (a * deltaU + Uc - Uc**3 - Vc + k), \\\n",
      "        Vc + dt * (b * deltaV + Uc - Vc) / tau\n",
      "    # Neumann conditions: derivatives at the edges\n",
      "    # are null.\n",
      "    for Z in (U, V):\n",
      "        Z[0,:] = Z[1,:]\n",
      "        Z[-1,:] = Z[-2,:]\n",
      "        Z[:,0] = Z[:,1]\n",
      "        Z[:,-1] = Z[:,-2]"
     ],
     "language": "python",
     "metadata": {},
     "outputs": []
    },
    {
     "cell_type": "markdown",
     "metadata": {},
     "source": [
      "7. Finally, we display the variable $u$ after a time $T$ of simulation."
     ]
    },
    {
     "cell_type": "code",
     "collapsed": false,
     "input": [
      "plt.imshow(U, cmap=plt.cm.copper, extent=[-1,1,-1,1]);"
     ],
     "language": "python",
     "metadata": {},
     "outputs": []
    },
    {
     "cell_type": "markdown",
     "metadata": {},
     "source": [
      "Whereas the variables when completely random at initialization time, we observe the formation of patterns after a sufficiently long simulation time."
     ]
    },
    {
     "cell_type": "markdown",
     "metadata": {},
     "source": [
      "> You'll find all the explanations, figures, references, and much more in the book (to be released later this summer).\n",
      "\n",
      "> [IPython Cookbook](http://ipython-books.github.io/), by [Cyrille Rossant](http://cyrille.rossant.net), Packt Publishing, 2014 (400 pages). [Get a 50% discount by pre-ordering now](http://www.packtpub.com/ipython-interactive-computing-and-visualization-cookbook/book) with the code `PICVCEB` (time-limited offer)!\n"
     ]
    }
   ],
   "metadata": {}
  }
 ]
}