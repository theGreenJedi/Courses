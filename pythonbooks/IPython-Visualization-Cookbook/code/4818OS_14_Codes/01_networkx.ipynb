{
 "metadata": {
  "name": "",
  "signature": "sha256:5ae4f2371804aad861c72bd14dae55a35d0eb4152249bb4fa4740864a8d3c847"
 },
 "nbformat": 3,
 "nbformat_minor": 0,
 "worksheets": [
  {
   "cells": [
    {
     "cell_type": "markdown",
     "metadata": [],
     "source": [
      "> This is one of the 100 recipes of the [IPython Cookbook](http://ipython-books.github.io/), the definitive guide to high-performance scientific computing and data science in Python.\n"
     ]
    },
    {
     "cell_type": "markdown",
     "metadata": {},
     "source": [
      "# 14.1. Manipulating and visualizing graphs with NetworkX"
     ]
    },
    {
     "cell_type": "markdown",
     "metadata": {},
     "source": [
      "In this recipe, we show how to create, manipulate and visualize graphs with NetworkX."
     ]
    },
    {
     "cell_type": "markdown",
     "metadata": {},
     "source": [
      "You can find the installation instructions of NetworkX on the official documentation. (http://networkx.github.io/documentation/latest/install.html)\n",
      "\n",
      "In brief, you can just execute `pip install networkx`. On Windows, you can also use Chris Gohlke's installer. (http://www.lfd.uci.edu/~gohlke/pythonlibs/#networkx)"
     ]
    },
    {
     "cell_type": "markdown",
     "metadata": {},
     "source": [
      "1. Let's import NumPy, NetworkX, and matplotlib."
     ]
    },
    {
     "cell_type": "code",
     "collapsed": false,
     "input": [
      "import numpy as np\n",
      "import networkx as nx\n",
      "import matplotlib.pyplot as plt"
     ],
     "language": "python",
     "metadata": {},
     "outputs": []
    },
    {
     "cell_type": "markdown",
     "metadata": {},
     "source": [
      "2. There are many different ways to create a graph. Here, we create a list of edges."
     ]
    },
    {
     "cell_type": "code",
     "collapsed": false,
     "input": [
      "n = 10  # Number of nodes in the graph.\n",
      "# Each node is connected to the two next nodes,\n",
      "# in a circular fashion.\n",
      "adj = [(i, (i+1)%n) for i in range(n)]\n",
      "adj += [(i, (i+2)%n) for i in range(n)]"
     ],
     "language": "python",
     "metadata": {},
     "outputs": []
    },
    {
     "cell_type": "markdown",
     "metadata": {},
     "source": [
      "3. We instantiate a `Graph` object here, giving the list of edges as argument."
     ]
    },
    {
     "cell_type": "code",
     "collapsed": false,
     "input": [
      "g = nx.Graph(adj)"
     ],
     "language": "python",
     "metadata": {},
     "outputs": []
    },
    {
     "cell_type": "markdown",
     "metadata": {},
     "source": [
      "4. Let's check the list of nodes and edges of the graph, and its adjacency matrix."
     ]
    },
    {
     "cell_type": "code",
     "collapsed": false,
     "input": [
      "print(g.nodes())"
     ],
     "language": "python",
     "metadata": {},
     "outputs": []
    },
    {
     "cell_type": "code",
     "collapsed": false,
     "input": [
      "print(g.edges())"
     ],
     "language": "python",
     "metadata": {},
     "outputs": []
    },
    {
     "cell_type": "code",
     "collapsed": false,
     "input": [
      "print(nx.adjacency_matrix(g))"
     ],
     "language": "python",
     "metadata": {},
     "outputs": []
    },
    {
     "cell_type": "markdown",
     "metadata": {},
     "source": [
      "5. Now, we will display this graph. NetworkX comes with a variety of drawing functions. A graph being an abstract mathematical object only describing relations between items, there is no canonical way to display one. One needs to either specify the positions of the nodes explicitly, or an algorithm to compute an \"interesting\" layout. Here, we use the `draw_circular` function that simply positions nodes linearly on a circle."
     ]
    },
    {
     "cell_type": "code",
     "collapsed": false,
     "input": [
      "plt.figure(figsize=(4,4));\n",
      "nx.draw_circular(g)"
     ],
     "language": "python",
     "metadata": {},
     "outputs": []
    },
    {
     "cell_type": "markdown",
     "metadata": {},
     "source": [
      "6. Graphs can be modified easily. Here, we add a new node connected to all existing nodes. We also specify a `color` attribute to this node. In NetworkX, every node and edge comes with a Python dictionary containing arbitrary attributes. This feature is extremely useful in practice."
     ]
    },
    {
     "cell_type": "code",
     "collapsed": false,
     "input": [
      "g.add_node(n, color='#fcff00')\n",
      "# We add an edge from every existing \n",
      "# node to the new node.\n",
      "for i in range(n):\n",
      "    g.add_edge(i, n)"
     ],
     "language": "python",
     "metadata": {},
     "outputs": []
    },
    {
     "cell_type": "markdown",
     "metadata": {},
     "source": [
      "7. Now, let's draw the modified graph again. This time, we specify the nodes' positions and colors explicitly."
     ]
    },
    {
     "cell_type": "code",
     "collapsed": false,
     "input": [
      "plt.figure(figsize=(4,4));\n",
      "# We define custom node positions on a circle\n",
      "# except the last node which is at the center.\n",
      "t = np.linspace(0., 2*np.pi, n)\n",
      "pos = np.zeros((n+1, 2))\n",
      "pos[:n,0] = np.cos(t)\n",
      "pos[:n,1] = np.sin(t)\n",
      "# A node's color is specified by its 'color'\n",
      "# attribute, or a default color if this attribute\n",
      "# doesn't exist.\n",
      "color = [g.node[i].get('color', '#88b0f3')\n",
      "         for i in range(n+1)]\n",
      "# We now draw the graph with matplotlib.\n",
      "nx.draw_networkx(g, pos=pos, node_color=color)\n",
      "plt.axis('off');"
     ],
     "language": "python",
     "metadata": {},
     "outputs": []
    },
    {
     "cell_type": "markdown",
     "metadata": {},
     "source": [
      "8. Let's also use an automatic layout algorithm."
     ]
    },
    {
     "cell_type": "code",
     "collapsed": false,
     "input": [
      "plt.figure(figsize=(4,4));\n",
      "nx.draw_spectral(g, node_color=color)\n",
      "plt.axis('off');"
     ],
     "language": "python",
     "metadata": {},
     "outputs": []
    },
    {
     "cell_type": "markdown",
     "metadata": {},
     "source": [
      "> You'll find all the explanations, figures, references, and much more in the book (to be released later this summer).\n",
      "\n",
      "> [IPython Cookbook](http://ipython-books.github.io/), by [Cyrille Rossant](http://cyrille.rossant.net), Packt Publishing, 2014 (400 pages). [Get a 50% discount by pre-ordering now](http://www.packtpub.com/ipython-interactive-computing-and-visualization-cookbook/book) with the code `PICVCEB` (time-limited offer)!\n"
     ]
    }
   ],
   "metadata": {}
  }
 ]
}