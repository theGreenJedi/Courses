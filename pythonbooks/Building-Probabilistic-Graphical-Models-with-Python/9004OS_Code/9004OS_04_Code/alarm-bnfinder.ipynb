{
 "metadata": {
  "name": ""
 },
 "nbformat": 3,
 "nbformat_minor": 0,
 "worksheets": [
  {
   "cells": [
    {
     "cell_type": "code",
     "collapsed": false,
     "input": [
      "import pandas as pd\n",
      "\n",
      "'''\n",
      "df=pd.read_csv(\"nursery.data\")\n",
      "df.transpose().to_csv(\"nursery_transpose.txt\",sep=\"\\t\")\n",
      "s,g,sp=learn_structure(\"nursery_transpose.txt\",\"nursery_net\")\n",
      "'''\n",
      "from BNfinder.BDE import BDE\n",
      "from BNfinder.data import dataset\n",
      "\n",
      "score=eval(\"BDE\")(data_factor=1.0,chi_alpha=.9999,sloops=False)\n",
      "\n",
      "def learn_structure(sample_data,dataset_name):\n",
      "    d = dataset(dataset_name).fromNewFile(open(sample_data))\n",
      "    score2,g,subpars = d.learn(score=score,data_factor=1.0)\n",
      "    d.write_bif(g,dataset_name+\".bif\")\n",
      "    d.write_cpd(g,file(dataset_name+\"_cpd.txt\",\"w\"))\n",
      "    return score2,g,subpars"
     ],
     "language": "python",
     "metadata": {},
     "outputs": [],
     "prompt_number": 1
    },
    {
     "cell_type": "code",
     "collapsed": false,
     "input": [
      "import pandas as pd\n",
      "\n",
      "df=pd.read_csv(\"alarm.csv\")\n",
      "df.transpose().to_csv(\"alarm_transpose.txt\",sep=\"\\t\")"
     ],
     "language": "python",
     "metadata": {},
     "outputs": [],
     "prompt_number": 3
    },
    {
     "cell_type": "code",
     "collapsed": false,
     "input": [],
     "language": "python",
     "metadata": {},
     "outputs": []
    },
    {
     "cell_type": "code",
     "collapsed": false,
     "input": [
      "s,g,sp=learn_structure(\"alarm_1.txt\",\"alarm_net\")\n"
     ],
     "language": "python",
     "metadata": {},
     "outputs": [],
     "prompt_number": 2
    },
    {
     "cell_type": "code",
     "collapsed": false,
     "input": [
      "g"
     ],
     "language": "python",
     "metadata": {},
     "outputs": [
      {
       "metadata": {},
       "output_type": "pyout",
       "prompt_number": 3,
       "text": [
        "Graph: \n",
        "\tHypovolemia(Hypovolemia) => LVEDVolume(+), StrokeVolume(+), CVP(+), PCWP(+), CO(+), BP(+), \n",
        "\tLVFailure(LVFailure) => LVEDVolume(-), StrokeVolume(+), CVP(-), PCWP(-), CO(+), History(+), \n",
        "\tLVEDVolume(LVEDVolume) => \n",
        "\tStrokeVolume(StrokeVolume) => \n",
        "\tCVP(CVP) => \n",
        "\tPCWP(PCWP) => \n",
        "\tInsuffAnesth(InsuffAnesth) => Catechol(-), HR(-), CO(-), BP(-), HREKG(-), HRSat(-), HRBP(-), \n",
        "\tPulmEmbolus(PulmEmbolus) => Shunt(-), VentLung(-), VentAlv(-), PVSat(-), ArtCOb(+), ExpCOb(-), PAP(-), MinVol(-), \n",
        "\tIntubation(Intubation) => Shunt(+), VentTube(+), VentLung(-), VentAlv(-), PVSat(-), ArtCOb(+), ExpCOb(+), Press(+), MinVol(-), \n",
        "\tShunt(Shunt) => \n",
        "\tKinkedTube(KinkedTube) => Shunt(-), VentLung(+), VentAlv(+), PVSat(+), ArtCOb(-), ExpCOb(+), Press(-), MinVol(+), \n",
        "\tMinVolSet(MinVolSet) => VentMach(+), VentTube(+), VentLung(+), VentAlv(+), ArtCOb(-), ExpCOb(-), Press(+), MinVol(+), \n",
        "\tVentMach(VentMach) => \n",
        "\tDisconnect(Disconnect) => Shunt(-), VentTube(+), VentLung(+), VentAlv(+), PVSat(+), ArtCOb(-), ExpCOb(+), Press(+), MinVol(+), \n",
        "\tVentTube(VentTube) => \n",
        "\tVentLung(VentLung) => \n",
        "\tVentAlv(VentAlv) => \n",
        "\tFiOb(FiOb) => VentLung(-), VentAlv(-), PVSat(+), ArtCOb(+), ExpCOb(-), \n",
        "\tPVSat(PVSat) => \n",
        "\tSaOb(SaOb) => Shunt(-), VentMach(+), VentTube(+), VentLung(+), VentAlv(+), PVSat(+), ArtCOb(-), Catechol(-), HR(-), CO(-), BP(-), HREKG(-), HRSat(-), HRBP(-), ExpCOb(+), Press(+), MinVol(+), \n",
        "\tAnaphylaxis(Anaphylaxis) => TPR(+), Catechol(-), HR(-), BP(+), HREKG(-), HRSat(-), HRBP(-), \n",
        "\tTPR(TPR) => \n",
        "\tArtCOb(ArtCOb) => \n",
        "\tCatechol(Catechol) => \n",
        "\tHR(HR) => \n",
        "\tCO(CO) => \n",
        "\tHistory(History) => \n",
        "\tBP(BP) => \n",
        "\tErrCauter(ErrCauter) => HREKG(+), HRSat(+), \n",
        "\tHREKG(HREKG) => \n",
        "\tHRSat(HRSat) => \n",
        "\tErrLowOutput(ErrLowOutput) => HRBP(+), \n",
        "\tHRBP(HRBP) => \n",
        "\tExpCOb(ExpCOb) => \n",
        "\tPAP(PAP) => \n",
        "\tPress(Press) => \n",
        "\tMinVol(MinVol) => \n"
       ]
      }
     ],
     "prompt_number": 3
    },
    {
     "cell_type": "code",
     "collapsed": false,
     "input": [
      "s,g,sp=learn_structure(\"alarm_2.txt\",\"alarm_net\")"
     ],
     "language": "python",
     "metadata": {},
     "outputs": [],
     "prompt_number": 8
    },
    {
     "cell_type": "code",
     "collapsed": false,
     "input": [
      "g"
     ],
     "language": "python",
     "metadata": {},
     "outputs": [
      {
       "metadata": {},
       "output_type": "pyout",
       "prompt_number": 20,
       "text": [
        "Graph: \n",
        "\tHypovolemia(Hypovolemia) => LVEDVolume(+), StrokeVolume(+), CVP(+), PCWP(+), BP(+), \n",
        "\tLVFailure(LVFailure) => LVEDVolume(-), StrokeVolume(+), CVP(-), PCWP(-), History(+), \n",
        "\tLVEDVolume(LVEDVolume) => \n",
        "\tStrokeVolume(StrokeVolume) => CO(+), \n",
        "\tCVP(CVP) => \n",
        "\tPCWP(PCWP) => \n",
        "\tInsuffAnesth(InsuffAnesth) => Catechol(-), BP(-), HREKG(-), HRSat(-), HRBP(-), \n",
        "\tPulmEmbolus(PulmEmbolus) => Shunt(-), VentAlv(-), PVSat(-), ArtCOb(+), ExpCOb(-), PAP(-), MinVol(-), \n",
        "\tIntubation(Intubation) => Shunt(+), VentLung(-), VentAlv(-), PVSat(-), ArtCOb(+), ExpCOb(+), Press(+), MinVol(-), \n",
        "\tShunt(Shunt) => SaOb(-), \n",
        "\tKinkedTube(KinkedTube) => Shunt(-), VentLung(+), VentAlv(+), PVSat(+), ArtCOb(-), ExpCOb(+), Press(-), MinVol(+), \n",
        "\tMinVolSet(MinVolSet) => VentMach(+), VentAlv(+), ArtCOb(-), ExpCOb(-), Press(+), MinVol(+), \n",
        "\tVentMach(VentMach) => VentTube(+), \n",
        "\tDisconnect(Disconnect) => Shunt(-), VentTube(+), VentAlv(+), PVSat(+), ArtCOb(-), ExpCOb(+), Press(+), MinVol(+), \n",
        "\tVentTube(VentTube) => VentLung(+), \n",
        "\tVentLung(VentLung) => \n",
        "\tVentAlv(VentAlv) => \n",
        "\tFiOb(FiOb) => VentAlv(-), PVSat(+), ArtCOb(+), ExpCOb(-), \n",
        "\tPVSat(PVSat) => SaOb(+), \n",
        "\tSaOb(SaOb) => Shunt(-), VentMach(+), VentAlv(+), PVSat(+), ArtCOb(-), Catechol(-), BP(-), HREKG(-), HRSat(-), HRBP(-), ExpCOb(+), Press(+), MinVol(+), \n",
        "\tAnaphylaxis(Anaphylaxis) => TPR(+), BP(+), HREKG(-), HRSat(-), HRBP(-), \n",
        "\tTPR(TPR) => Catechol(-), \n",
        "\tArtCOb(ArtCOb) => Catechol(+), \n",
        "\tCatechol(Catechol) => HR(+), \n",
        "\tHR(HR) => CO(+), \n",
        "\tCO(CO) => \n",
        "\tHistory(History) => \n",
        "\tBP(BP) => \n",
        "\tErrCauter(ErrCauter) => HREKG(+), HRSat(+), \n",
        "\tHREKG(HREKG) => \n",
        "\tHRSat(HRSat) => \n",
        "\tErrLowOutput(ErrLowOutput) => HRBP(+), \n",
        "\tHRBP(HRBP) => \n",
        "\tExpCOb(ExpCOb) => \n",
        "\tPAP(PAP) => \n",
        "\tPress(Press) => \n",
        "\tMinVol(MinVol) => \n"
       ]
      }
     ],
     "prompt_number": 20
    }
   ],
   "metadata": {}
  }
 ]
}