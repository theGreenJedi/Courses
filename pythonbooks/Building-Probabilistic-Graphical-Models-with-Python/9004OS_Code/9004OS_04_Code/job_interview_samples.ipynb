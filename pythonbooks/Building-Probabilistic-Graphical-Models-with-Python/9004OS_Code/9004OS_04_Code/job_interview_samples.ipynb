{
 "metadata": {
  "name": ""
 },
 "nbformat": 3,
 "nbformat_minor": 0,
 "worksheets": [
  {
   "cells": [
    {
     "cell_type": "code",
     "collapsed": false,
     "input": [
      "import json\n",
      "\n",
      "from libpgm.nodedata import NodeData\n",
      "from libpgm.graphskeleton import GraphSkeleton\n",
      "from libpgm.discretebayesiannetwork import DiscreteBayesianNetwork\n",
      "from libpgm.pgmlearner import PGMLearner\n",
      "\n",
      "nd = NodeData()\n",
      "skel = GraphSkeleton()\n",
      "\n",
      "fpath=\"job_interview.txt\"\n",
      "nd.load(fpath)\n",
      "skel.load(fpath)\n",
      "skel.toporder()\n",
      "\n",
      "bn = DiscreteBayesianNetwork(skel, nd)"
     ],
     "language": "python",
     "metadata": {},
     "outputs": [],
     "prompt_number": 1
    },
    {
     "cell_type": "code",
     "collapsed": false,
     "input": [
      "def get_samples(n):\n",
      "    s=bn.randomsample(n)\n",
      "    k=s[0].keys()\n",
      "    lst_of_cols=dict(zip(k,[[] for i in range(len(k))]))\n",
      "    [lst_of_cols[i].append(row[i]) for row in s for i in k ]\n",
      "    return lst_of_cols"
     ],
     "language": "python",
     "metadata": {},
     "outputs": [],
     "prompt_number": 2
    },
    {
     "cell_type": "code",
     "collapsed": false,
     "input": [
      "import pandas as pd\n",
      "samples=get_samples(10000)\n",
      "df=pd.DataFrame(samples)\n",
      "df.transpose().to_csv(\"job_interview_samples.txt\",sep=\"\\t\")"
     ],
     "language": "python",
     "metadata": {},
     "outputs": [],
     "prompt_number": 3
    }
   ],
   "metadata": {}
  }
 ]
}