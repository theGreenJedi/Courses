{
 "metadata": {
  "name": ""
 },
 "nbformat": 3,
 "nbformat_minor": 0,
 "worksheets": [
  {
   "cells": [
    {
     "cell_type": "markdown",
     "metadata": {},
     "source": [
      "In this notebook we shall attempt to learn the structure of a Bayes net using constraint-based approaches.We shall first load the network "
     ]
    },
    {
     "cell_type": "code",
     "collapsed": false,
     "input": [
      "import json\n",
      "\n",
      "from libpgm.nodedata import NodeData\n",
      "from libpgm.graphskeleton import GraphSkeleton\n",
      "from libpgm.discretebayesiannetwork import DiscreteBayesianNetwork\n",
      "from libpgm.pgmlearner import PGMLearner\n",
      "\n",
      "nd = NodeData()\n",
      "skel = GraphSkeleton()\n",
      "\n",
      "fpath=\"job_interview.txt\"\n",
      "nd.load(fpath)\n",
      "skel.load(fpath)\n",
      "skel.toporder()\n",
      "\n",
      "bn = DiscreteBayesianNetwork(skel, nd)"
     ],
     "language": "python",
     "metadata": {},
     "outputs": [],
     "prompt_number": 24
    },
    {
     "cell_type": "markdown",
     "metadata": {},
     "source": [
      "It may seem strange that we are loading a network with existing structure and parameters (which are defined in the file job_interview.txt). For this example, we shall be using <i>synthetic data</i>, which is samples drawn from an existing network. This helps us compare our results with the known network that we started with. To start with, we shall drawn two random samples from the job_interview network which we have seen in previous chapters (where?)"
     ]
    },
    {
     "cell_type": "code",
     "collapsed": false,
     "input": [
      "bn.randomsample(2)"
     ],
     "language": "python",
     "metadata": {},
     "outputs": [
      {
       "metadata": {},
       "output_type": "pyout",
       "prompt_number": 25,
       "text": [
        "[{u'Admission': u'admitted',\n",
        "  u'Experience': u'high',\n",
        "  u'Grades': u'poor',\n",
        "  u'Interview': u'good',\n",
        "  u'Offer': u'no'},\n",
        " {u'Admission': u'admitted',\n",
        "  u'Experience': u'low',\n",
        "  u'Grades': u'poor',\n",
        "  u'Interview': u'poor',\n",
        "  u'Offer': u'yes'}]"
       ]
      }
     ],
     "prompt_number": 25
    },
    {
     "cell_type": "markdown",
     "metadata": {},
     "source": [
      "We can see the random samples is one specific assignment to each random variable, which is drawn from the joint distribution. It could also be thought of, as a random assignment for all the nodes in the network.\n",
      "\n",
      "The algorithm goes thus: we first wish to inquire about the conditional independence of all pairs of nodes. This is achieved by running the chi-squared test. The \"null hypothesis\" states that nodes X and Y are conditionally independent, given Z. \n",
      "\n",
      "The method <b>discrete_condind</b> returns the value of chi-square, as well as the <b>p-values</b>, which is the probability that the variables are independent is due to chance. We have a prior value for the cut-off (of p-values), where we decide that any p-value > 0.05 means that probability of independence between X and Y is too high to have occured by chance, and therefore, X and Y are indeed independent. "
     ]
    },
    {
     "cell_type": "code",
     "collapsed": false,
     "input": [
      "learner = PGMLearner()\n",
      "data = bn.randomsample(200)\n",
      "\n",
      "X,Y='Grades','Offer'\n",
      "c,p,w=learner.discrete_condind(data,X,Y,[])\n",
      "print \"independence between X and Y: \",c,\" p-value\",p,\" witness node: \",w"
     ],
     "language": "python",
     "metadata": {},
     "outputs": [
      {
       "output_type": "stream",
       "stream": "stdout",
       "text": [
        "correlation between X and Y:  8184619.56996  p-value 0.0  witness node:  []\n"
       ]
      }
     ],
     "prompt_number": 33
    },
    {
     "cell_type": "markdown",
     "metadata": {},
     "source": [
      "We can see that with a p-value < 0.05, Grades and Offer are not independent. Since the D-separation rules state that given the job interview network, Grades and Offer have an active trail between them, which gets blocked if the Interview variable is observed. What happens if we introduce the witness (read: observed) variable Interview"
     ]
    },
    {
     "cell_type": "code",
     "collapsed": false,
     "input": [
      "X,Y='Grades','Offer'\n",
      "c,p,w=learner.discrete_condind(data,X,Y,['Interview'])\n",
      "print \"independence between X and Y: \",c,\" p-value\",p,\" witness node \",w"
     ],
     "language": "python",
     "metadata": {},
     "outputs": [
      {
       "output_type": "stream",
       "stream": "stdout",
       "text": [
        "correlation between X and Y:  2.79444519518  p-value 0.993172910586  witness node  ['Interview']\n"
       ]
      }
     ],
     "prompt_number": 32
    },
    {
     "cell_type": "markdown",
     "metadata": {},
     "source": [
      "Now Grades and Offer are conditionally independent (because the p-value is much > than 0.05). \n",
      "The first stage of the algorithm essentially tries to determine the conditional independence for all pairs of nodes in the network, given other witness variables. We are then left with a set of undirected dependencies between nodes.\n",
      "\n",
      "The second and third stage of the algorithm are essential contained in the <b>discrete_constraint_estimatestruct</b> method, where the set of dependencies are converted into an undirected graph, and then the directionalities are resolved.\n"
     ]
    },
    {
     "cell_type": "code",
     "collapsed": false,
     "input": [
      "result=learner.discrete_constraint_estimatestruct(data)\n",
      "print result.E"
     ],
     "language": "python",
     "metadata": {},
     "outputs": [
      {
       "output_type": "stream",
       "stream": "stdout",
       "text": [
        "[[u'Grades', u'Admission'], [u'Experience', u'Interview'], [u'Grades', u'Interview'], [u'Interview', u'Offer']]\n"
       ]
      }
     ],
     "prompt_number": 34
    },
    {
     "cell_type": "markdown",
     "metadata": {},
     "source": [
      "We can see that the five original edges in the job interview network have been found. But this is a small network, will this algorithm scale to a larger network?"
     ]
    }
   ],
   "metadata": {}
  }
 ]
}