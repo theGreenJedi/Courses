{
 "metadata": {
  "name": ""
 },
 "nbformat": 3,
 "nbformat_minor": 0,
 "worksheets": [
  {
   "cells": [
    {
     "cell_type": "markdown",
     "metadata": {},
     "source": [
      "In this notebook, we shall use the BNFinder library to learn the structure of a Bayes net. The BNFinder tool has implementations of multiple score-based approaches such as BDe, MIT and MDL. BNFinder can be installed using <i>pip install BNFinder</i>.\n",
      "\n",
      "Lets load the necessary imports and create the score function we shall use (BDe). We shall use the default parameter values. "
     ]
    },
    {
     "cell_type": "code",
     "collapsed": false,
     "input": [
      "from BNfinder.BDE import BDE\n",
      "from BNfinder.data import dataset\n",
      "from IPython.core.display import Image \n",
      "\n",
      "score=eval(\"BDE\")(data_factor=1.0,chi_alpha=.9999,sloops=False,cpu=3)\n",
      "score"
     ],
     "language": "python",
     "metadata": {},
     "outputs": [
      {
       "metadata": {},
       "output_type": "pyout",
       "prompt_number": 1,
       "text": [
        "<BNfinder.BDE.BDE instance at 0x2cc9f38>"
       ]
      }
     ],
     "prompt_number": 1
    },
    {
     "cell_type": "markdown",
     "metadata": {},
     "source": [
      "We create a dataset object and load it from a file. The file <i>job_interview_samples.txt</i> contains samples generated from libpgm's randomsample() method. The code that generated the samples can found in the IPython notebook \"job_interview_samples.ipynb\".\n",
      "\n",
      "The dataset format that BNFinder uses is the transpose of a normal dataset. If a normal dataset has 3 columns, each instance row contains 3 values, but the BNFinder dataset format will have 3 rows, which contain all the values for that column.\n",
      "\n",
      "Let's create a method that reads in a dataset, does structure learning, and saves the output in a \".bif\" format, as well writing out the CPDs."
     ]
    },
    {
     "cell_type": "code",
     "collapsed": false,
     "input": [
      "def learn_structure(sample_data,dataset_name):\n",
      "    d = dataset(dataset_name).fromNewFile(open(sample_data))\n",
      "    score2,g,subpars = d.learn(score=score,data_factor=1.0)\n",
      "    d.write_bif(g,dataset_name+\".bif\")\n",
      "    d.write_cpd(g,file(dataset_name+\"_cpd.txt\",\"w\"))\n",
      "    return score2,g,subpars"
     ],
     "language": "python",
     "metadata": {},
     "outputs": [],
     "prompt_number": 2
    },
    {
     "cell_type": "markdown",
     "metadata": {},
     "source": [
      "We'll now attempt to learn the structure from the sample data of the job interview network."
     ]
    },
    {
     "cell_type": "code",
     "collapsed": false,
     "input": [
      "s,g,sp=learn_structure(\"job_interview_samples.txt\",\"job_interview\")\n",
      "g"
     ],
     "language": "python",
     "metadata": {},
     "outputs": [
      {
       "metadata": {},
       "output_type": "pyout",
       "prompt_number": 3,
       "text": [
        "Graph: \n",
        "\tAdmission(Admission) => Grades(-), \n",
        "\tExperience(Experience) => Grades(+), Interview(+), \n",
        "\tGrades(Grades) => Admission(-), Experience(+), Interview(+), \n",
        "\tInterview(Interview) => Experience(+), Grades(+), Offer(+), \n",
        "\tOffer(Offer) => Interview(+), \n"
       ]
      }
     ],
     "prompt_number": 3
    },
    {
     "cell_type": "markdown",
     "metadata": {},
     "source": [
      "The output of the graph is a list of edges, with the parent on the left and the children on the right. The plus/minus signs indicate positive/negative correlations between nodes.\n",
      "\n",
      "Although the code terminates quickly, it doesn't find the correct edges, with the exception of the edges between Interview-Offer, and Grades-Admissions. BNFinder does give the opportunity to add our intuitions/domain knowledge to the structure finding process by way to two methods: \n",
      "We can either define the known list of  parents for a given vertex or by specifying a <b>regulator</b> (a technical term from BNFinder's roots in biological network reconstruction), which constrain the network to allow only listed nodes as parent nodes. \n",
      "\n",
      "If we add the regulator to the preamble section of the sample data file \"job_interview_samples.txt\", (which is saved in job_interview_samples_preamble1.txt). The following command should work if you have the 'head' command in your system shell."
     ]
    },
    {
     "cell_type": "code",
     "collapsed": false,
     "input": [
      "!head -1 job_interview_samples_preamble1.txt"
     ],
     "language": "python",
     "metadata": {},
     "outputs": [
      {
       "output_type": "stream",
       "stream": "stdout",
       "text": [
        "#regulators Experience Grades\r",
        "\r\n"
       ]
      }
     ],
     "prompt_number": 4
    },
    {
     "cell_type": "code",
     "collapsed": false,
     "input": [
      "s,g,sp=learn_structure(\"job_interview_samples_preamble1.txt\",\"job_interview\")\n",
      "g"
     ],
     "language": "python",
     "metadata": {},
     "outputs": [
      {
       "metadata": {},
       "output_type": "pyout",
       "prompt_number": 5,
       "text": [
        "Graph: \n",
        "\tAdmission(Admission) => \n",
        "\tExperience(Experience) => Interview(+), Offer(+), \n",
        "\tGrades(Grades) => Admission(-), Interview(+), Offer(+), \n",
        "\tInterview(Interview) => \n",
        "\tOffer(Offer) => \n"
       ]
      }
     ],
     "prompt_number": 5
    },
    {
     "cell_type": "markdown",
     "metadata": {},
     "source": [
      "This time we see other kinds of errors, where the edge between Interview and Offer is gone. Let's specify the children for the Interview vertex"
     ]
    },
    {
     "cell_type": "code",
     "collapsed": false,
     "input": [
      "!head -2 job_interview_samples_preamble2.txt"
     ],
     "language": "python",
     "metadata": {},
     "outputs": [
      {
       "output_type": "stream",
       "stream": "stdout",
       "text": [
        "#regulators Experience Grades\r",
        "\r\n",
        "#parents Interview Experience Grades\r",
        "\r\n"
       ]
      }
     ],
     "prompt_number": 6
    },
    {
     "cell_type": "code",
     "collapsed": false,
     "input": [
      "s,g,sp=learn_structure(\"job_interview_samples_preamble2.txt\",\"job_interview\")\n",
      "g"
     ],
     "language": "python",
     "metadata": {},
     "outputs": [
      {
       "metadata": {},
       "output_type": "pyout",
       "prompt_number": 7,
       "text": [
        "Graph: \n",
        "\tAdmission(Admission) => \n",
        "\tExperience(Experience) => Interview(+), Offer(+), \n",
        "\tGrades(Grades) => Admission(-), Interview(+), Offer(+), \n",
        "\tInterview(Interview) => \n",
        "\tOffer(Offer) => \n"
       ]
      }
     ],
     "prompt_number": 7
    },
    {
     "cell_type": "markdown",
     "metadata": {},
     "source": [
      "Adding 3 constraints, specifying the parents of Experience and Offer, as well as the regulators."
     ]
    },
    {
     "cell_type": "code",
     "collapsed": false,
     "input": [
      "!head -3 job_interview_samples_preamble3.txt"
     ],
     "language": "python",
     "metadata": {},
     "outputs": [
      {
       "output_type": "stream",
       "stream": "stdout",
       "text": [
        "#regulators Experience Grades\r",
        "\r\n",
        "#parents Interview Experience Grades\r",
        "\r\n",
        "#parents Offer Interview\r",
        "\r\n"
       ]
      }
     ],
     "prompt_number": 8
    },
    {
     "cell_type": "code",
     "collapsed": false,
     "input": [
      "s,g,sp=learn_structure(\"job_interview_samples_preamble3.txt\",\"job_interview\")\n",
      "#save the file to open in cytoscape\n",
      "net_str=g.to_SIF()\n",
      "f=open(\"job_interview_sif.txt\",\"w\")\n",
      "f.write(net_str)\n",
      "f.close()\n",
      "g"
     ],
     "language": "python",
     "metadata": {},
     "outputs": [
      {
       "metadata": {},
       "output_type": "pyout",
       "prompt_number": 9,
       "text": [
        "Graph: \n",
        "\tAdmission(Admission) => \n",
        "\tExperience(Experience) => Interview(+), \n",
        "\tGrades(Grades) => Admission(-), Interview(+), \n",
        "\tInterview(Interview) => Offer(+), \n",
        "\tOffer(Offer) => \n"
       ]
      }
     ],
     "prompt_number": 9
    },
    {
     "cell_type": "markdown",
     "metadata": {},
     "source": [
      "We can view the created network using the Cytoscape tool, which also allows us to export the nodes and edges found. The viewing and saving the file in Cytoscape was done offline, and is presented below. Cytoscape reads the 'sif' file created (in the snippet above), and can export a png image."
     ]
    },
    {
     "cell_type": "code",
     "collapsed": false,
     "input": [
      "Image(\"job_net.png\")"
     ],
     "language": "python",
     "metadata": {},
     "outputs": [
      {
       "metadata": {},
       "output_type": "pyout",
       "png": "[encoded data removed]",
       "prompt_number": 15,
       "text": [
        "<IPython.core.display.Image at 0x2cd13d0>"
       ]
      }
     ],
     "prompt_number": 15
    },
    {
     "cell_type": "markdown",
     "metadata": {},
     "source": [
      "Although this iteration show the correct edges,  it needed some hand-tuning for BNFinder to learn the correct edges in the network.\n",
      "\n",
      "We can try applying the BNFinder tool to larger datasets. It is more efficient than the constraint-based approach in libpgm, but it needs handholding (by adding known edges) to prevent acyclicity and to complete quicker.\n",
      "\n",
      "We shall learn the structure of a real-world network (K. Sachs, O. Perez, D. Pe\u2019er, D.A. Lauffenburger, and G.P. Nolan. Causal protein-signaling networks derived from multiparameter single-cell data. Science, 308:523\u2013529, Apr 2005.) This example is available from the BNFinder project documentation too.\n",
      "\n",
      "This dataset consists of measurements of states of a protein signalling network under different perturbations. Learning the structure is used to infer causal relationships in the form of Bayesian network.\n"
     ]
    },
    {
     "cell_type": "code",
     "collapsed": false,
     "input": [
      "s,g,sp=learn_structure(\"sachs.inp\",\"sachs\")\n",
      "net_str=g.to_SIF()\n",
      "f=open(\"sachs_cpd.sif\",\"w\")\n",
      "f.write(net_str)\n",
      "f.close()"
     ],
     "language": "python",
     "metadata": {},
     "outputs": [],
     "prompt_number": 10
    },
    {
     "cell_type": "markdown",
     "metadata": {},
     "source": [
      "The Cytoscape-generated image for the network. This network extracts 11 correct edges out of the 17 edges in the true dataset. "
     ]
    },
    {
     "cell_type": "code",
     "collapsed": false,
     "input": [
      "Image(filename='sachs_network.png')"
     ],
     "language": "python",
     "metadata": {},
     "outputs": [
      {
       "metadata": {},
       "output_type": "pyout",
       "png": "[encoded data removed]",
       "prompt_number": 16,
       "text": [
        "<IPython.core.display.Image at 0x2cd1650>"
       ]
      }
     ],
     "prompt_number": 16
    },
    {
     "cell_type": "markdown",
     "metadata": {},
     "source": [
      "We can conclude that it is unrealistic to learn the perfect network structure from a dataset derived from a real-world network, especially if the number of random variables are greater than a small number. \n",
      "The structure learning algorithm  is often employed by first incorporating domain knowledge (known edges between nodes), and then using the data to either empirically validate the plausibility of these edges, or learn about new edges unknown to the domain experts."
     ]
    }
   ],
   "metadata": {}
  }
 ]
}