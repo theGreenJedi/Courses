{
 "metadata": {
  "name": ""
 },
 "nbformat": 3,
 "nbformat_minor": 0,
 "worksheets": [
  {
   "cells": [
    {
     "cell_type": "markdown",
     "metadata": {},
     "source": [
      "In this notebook we shall use the libpgm implementation of maximum likelihood estimates to learn the parameters of the CPDs in the job interview example that we've already seen in the previous chapters.\n",
      "\n",
      "We've already seen code from libpgm that loads the the CPDs, here it is again."
     ]
    },
    {
     "cell_type": "code",
     "collapsed": false,
     "input": [
      "from libpgm.graphskeleton import GraphSkeleton\n",
      "from libpgm.nodedata import NodeData\n",
      "from libpgm.discretebayesiannetwork import DiscreteBayesianNetwork\n",
      "from libpgm.tablecpdfactor import TableCPDFactor\n",
      "from libpgm.pgmlearner import PGMLearner\n",
      "import pandas as pd\n",
      "\n",
      "nd = NodeData()\n",
      "skel = GraphSkeleton()\n",
      "jsonpath=\"job_interview.txt\"\n",
      "nd.load(jsonpath)\n",
      "skel.load(jsonpath)\n",
      "skel.toporder()"
     ],
     "language": "python",
     "metadata": {},
     "outputs": [],
     "prompt_number": 1
    },
    {
     "cell_type": "markdown",
     "metadata": {},
     "source": [
      "We create the bayes network and get some random samples"
     ]
    },
    {
     "cell_type": "code",
     "collapsed": false,
     "input": [
      "bn = DiscreteBayesianNetwork(skel, nd)\n",
      "samples=bn.randomsample(2000)"
     ],
     "language": "python",
     "metadata": {},
     "outputs": [],
     "prompt_number": 2
    },
    {
     "cell_type": "markdown",
     "metadata": {},
     "source": [
      "We instantiate the PGMLearner class. The method discrete_mle_estimateparams already knows the structure of the network. As discussed in the earlier section, the estimates for each CPD only needs information from the parent, and this decomposition makes it possible to learn the parameters of each CPD."
     ]
    },
    {
     "cell_type": "code",
     "collapsed": false,
     "input": [
      "learner = PGMLearner()\n",
      "result = learner.discrete_mle_estimateparams(skel, samples)"
     ],
     "language": "python",
     "metadata": {},
     "outputs": [],
     "prompt_number": 3
    },
    {
     "cell_type": "markdown",
     "metadata": {},
     "source": [
      "The following 2 tables are the CPD parameters from the learnt, and original network. It can be seen that they are reasonable close approximation to each other."
     ]
    },
    {
     "cell_type": "code",
     "collapsed": false,
     "input": [
      "pd.DataFrame(result.Vdata['Interview']['cprob']).transpose()"
     ],
     "language": "python",
     "metadata": {},
     "outputs": [
      {
       "html": [
        "<div style=\"max-height:1000px;max-width:1500px;overflow:auto;\">\n",
        "<table border=\"1\" class=\"dataframe\">\n",
        "  <thead>\n",
        "    <tr style=\"text-align: right;\">\n",
        "      <th></th>\n",
        "      <th>0</th>\n",
        "      <th>1</th>\n",
        "      <th>2</th>\n",
        "    </tr>\n",
        "  </thead>\n",
        "  <tbody>\n",
        "    <tr>\n",
        "      <th>['0', '0']</th>\n",
        "      <td> 0.809582</td>\n",
        "      <td> 0.165848</td>\n",
        "      <td> 0.024570</td>\n",
        "    </tr>\n",
        "    <tr>\n",
        "      <th>['0', '1']</th>\n",
        "      <td> 0.321678</td>\n",
        "      <td> 0.396853</td>\n",
        "      <td> 0.281469</td>\n",
        "    </tr>\n",
        "    <tr>\n",
        "      <th>['1', '0']</th>\n",
        "      <td> 0.323204</td>\n",
        "      <td> 0.591160</td>\n",
        "      <td> 0.085635</td>\n",
        "    </tr>\n",
        "    <tr>\n",
        "      <th>['1', '1']</th>\n",
        "      <td> 0.115079</td>\n",
        "      <td> 0.182540</td>\n",
        "      <td> 0.702381</td>\n",
        "    </tr>\n",
        "  </tbody>\n",
        "</table>\n",
        "</div>"
       ],
       "metadata": {},
       "output_type": "pyout",
       "prompt_number": 4,
       "text": [
        "                   0         1         2\n",
        "['0', '0']  0.809582  0.165848  0.024570\n",
        "['0', '1']  0.321678  0.396853  0.281469\n",
        "['1', '0']  0.323204  0.591160  0.085635\n",
        "['1', '1']  0.115079  0.182540  0.702381"
       ]
      }
     ],
     "prompt_number": 4
    },
    {
     "cell_type": "code",
     "collapsed": false,
     "input": [
      "pd.DataFrame(bn.Vdata['Interview']['cprob']).transpose()"
     ],
     "language": "python",
     "metadata": {},
     "outputs": [
      {
       "html": [
        "<div style=\"max-height:1000px;max-width:1500px;overflow:auto;\">\n",
        "<table border=\"1\" class=\"dataframe\">\n",
        "  <thead>\n",
        "    <tr style=\"text-align: right;\">\n",
        "      <th></th>\n",
        "      <th>0</th>\n",
        "      <th>1</th>\n",
        "      <th>2</th>\n",
        "    </tr>\n",
        "  </thead>\n",
        "  <tbody>\n",
        "    <tr>\n",
        "      <th>['0', '0']</th>\n",
        "      <td> 0.8</td>\n",
        "      <td> 0.18</td>\n",
        "      <td> 0.02</td>\n",
        "    </tr>\n",
        "    <tr>\n",
        "      <th>['0', '1']</th>\n",
        "      <td> 0.3</td>\n",
        "      <td> 0.60</td>\n",
        "      <td> 0.10</td>\n",
        "    </tr>\n",
        "    <tr>\n",
        "      <th>['1', '0']</th>\n",
        "      <td> 0.3</td>\n",
        "      <td> 0.40</td>\n",
        "      <td> 0.30</td>\n",
        "    </tr>\n",
        "    <tr>\n",
        "      <th>['1', '1']</th>\n",
        "      <td> 0.1</td>\n",
        "      <td> 0.20</td>\n",
        "      <td> 0.70</td>\n",
        "    </tr>\n",
        "  </tbody>\n",
        "</table>\n",
        "</div>"
       ],
       "metadata": {},
       "output_type": "pyout",
       "prompt_number": 5,
       "text": [
        "              0     1     2\n",
        "['0', '0']  0.8  0.18  0.02\n",
        "['0', '1']  0.3  0.60  0.10\n",
        "['1', '0']  0.3  0.40  0.30\n",
        "['1', '1']  0.1  0.20  0.70"
       ]
      }
     ],
     "prompt_number": 5
    }
   ],
   "metadata": {}
  }
 ]
}