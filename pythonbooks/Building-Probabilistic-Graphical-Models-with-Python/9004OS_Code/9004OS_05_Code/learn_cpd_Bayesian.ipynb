{
 "metadata": {
  "name": ""
 },
 "nbformat": 3,
 "nbformat_minor": 0,
 "worksheets": [
  {
   "cells": [
    {
     "cell_type": "markdown",
     "metadata": {},
     "source": [
      "In this notebook, we'll use PyMC to estimate the parameters of one CPD from the job interview network. \n"
     ]
    },
    {
     "cell_type": "code",
     "collapsed": false,
     "input": [
      "from libpgm.graphskeleton import GraphSkeleton\n",
      "from libpgm.nodedata import NodeData\n",
      "from libpgm.discretebayesiannetwork import DiscreteBayesianNetwork\n",
      "import pandas as pd\n",
      "\n",
      "from pymc import *\n",
      "import matplotlib.pyplot as plt\n",
      "from pymc.Matplot import plot\n",
      "\n",
      "nd = NodeData()\n",
      "skel = GraphSkeleton()\n",
      "jsonpath=\"job_interview.txt\"\n",
      "nd.load(jsonpath)\n",
      "skel.load(jsonpath)\n",
      "skel.toporder()\n",
      "bn = DiscreteBayesianNetwork(skel, nd)\n",
      "\n"
     ],
     "language": "python",
     "metadata": {},
     "outputs": [],
     "prompt_number": 70
    },
    {
     "cell_type": "markdown",
     "metadata": {},
     "source": [
      "The CPD that we try to learn is the 'Interview' CPD. "
     ]
    },
    {
     "cell_type": "code",
     "collapsed": false,
     "input": [
      "pd.DataFrame(bn.Vdata['Interview']['cprob']).transpose()"
     ],
     "language": "python",
     "metadata": {},
     "outputs": [
      {
       "html": [
        "<div style=\"max-height:1000px;max-width:1500px;overflow:auto;\">\n",
        "<table border=\"1\" class=\"dataframe\">\n",
        "  <thead>\n",
        "    <tr style=\"text-align: right;\">\n",
        "      <th></th>\n",
        "      <th>0</th>\n",
        "      <th>1</th>\n",
        "      <th>2</th>\n",
        "    </tr>\n",
        "  </thead>\n",
        "  <tbody>\n",
        "    <tr>\n",
        "      <th>['0', '0']</th>\n",
        "      <td> 0.8</td>\n",
        "      <td> 0.18</td>\n",
        "      <td> 0.02</td>\n",
        "    </tr>\n",
        "    <tr>\n",
        "      <th>['0', '1']</th>\n",
        "      <td> 0.3</td>\n",
        "      <td> 0.60</td>\n",
        "      <td> 0.10</td>\n",
        "    </tr>\n",
        "    <tr>\n",
        "      <th>['1', '0']</th>\n",
        "      <td> 0.3</td>\n",
        "      <td> 0.40</td>\n",
        "      <td> 0.30</td>\n",
        "    </tr>\n",
        "    <tr>\n",
        "      <th>['1', '1']</th>\n",
        "      <td> 0.1</td>\n",
        "      <td> 0.20</td>\n",
        "      <td> 0.70</td>\n",
        "    </tr>\n",
        "  </tbody>\n",
        "</table>\n",
        "<p>4 rows \u00d7 3 columns</p>\n",
        "</div>"
       ],
       "metadata": {},
       "output_type": "pyout",
       "prompt_number": 71,
       "text": [
        "              0     1     2\n",
        "['0', '0']  0.8  0.18  0.02\n",
        "['0', '1']  0.3  0.60  0.10\n",
        "['1', '0']  0.3  0.40  0.30\n",
        "['1', '1']  0.1  0.20  0.70\n",
        "\n",
        "[4 rows x 3 columns]"
       ]
      }
     ],
     "prompt_number": 71
    },
    {
     "cell_type": "markdown",
     "metadata": {},
     "source": [
      "The CPD has 12 unique probabilities. Each row of the table above corresponds to one particular assignment to its parents (Experience and Grades). And each row can be represented by a multinomial distribution. In this particular case, Interview takes on 3 values, and therefore the multinomial representing each row can be likened to a 3-sided dice. \n",
      "\n",
      "Since there are four unique assignments of the parent variables, we'll need to learn the parameters for four multinomials.\n",
      "\n",
      "\n",
      "The snippet below contains a PyMC model, consisting of 3 variables in a tree:\n",
      "\n",
      "  1. The prior is represented by a Dirichlet distribution, which allows us an initial prior consisting of a set of 3 probability values which sum up to 1. In PyMC, the Dirichlet stochastic variable only stores k-1 probabilities (for a multinomial with k outcomes), because the kth value can be calculated since the probabilities sum to 1. \n",
      "  2. For simplicity, we define a CompletedDirichlet as a child of the Dirichlet variable, and this makes it easier to represent all the k values (k=3 in this case).\n",
      "  3. The last variable is the Multinomial itself, which is a child of the CompletedDirichlet. We shall sample data from the job interview network and pass it to the Multinomial variable. \n",
      "  \n",
      " \n",
      "Finally, we run MCMC sampling on the this model and observe its posterior.\n",
      "\n",
      "\n",
      "\n"
     ]
    },
    {
     "cell_type": "code",
     "collapsed": false,
     "input": [
      "\n",
      "\n",
      "def create_model(data,num_draws):\n",
      "    partial_dirich = pymc.Dirichlet(name=\"partial_dirich\",theta=[1.0, 1.0, 1.0])\n",
      "    full_dirich=pymc.CompletedDirichlet(name=\"full_dirich\",D=partial_dirich)\n",
      "    multi = pymc.Multinomial(\n",
      "            name=\"multi\",\n",
      "            value=data,\n",
      "            n=num_draws,\n",
      "            p=full_dirich,\n",
      "            observed=True)\n",
      "    model=Model([partial_dirich,full_dirich,multi])\n",
      "    return model\n",
      "\n",
      "def run_mcmc(model,**kwargs):\n",
      "    mcmc = pymc.MCMC(model)\n",
      "    mcmc.sample(**kwargs)\n",
      "    return mcmc"
     ],
     "language": "python",
     "metadata": {},
     "outputs": [],
     "prompt_number": 72
    },
    {
     "cell_type": "markdown",
     "metadata": {},
     "source": [
      "Note that in the  thumbtack estimation problem, we learnt the estimate of just one Bernoulli distribution. In this case, we have to learn the parameter estimates of 4 separate Multinomial distribution. \n",
      "\n",
      "We therefore need to sample the job interview network four times, once with each assignment to its parents. We'll start with the first assignment,  Experience=0,Grades=0, which will help us learn the parameters for the first row of the CPD.\n",
      "\n",
      "The samples that can be consumed by PyMC need a specific format. \n",
      "Let's understand the term 'experiment'. In one experiment, we sample from the network N times (similar to N throws of the 3-sided dice). This will give us a sequence of 0s, 1s and 2s of length N. We prune this sequence to get the frequencies of occurrance of 0, 1, 2 (done in the get_counts method)."
     ]
    },
    {
     "cell_type": "code",
     "collapsed": false,
     "input": [
      "def get_counts(vals):\n",
      "    b = {0:0,1:0,2:0}\n",
      "    for item in vals:\n",
      "        b[item] = b.get(item, 0) + 1\n",
      "    return np.array(b.values())\n",
      "\n",
      "get_counts([0,1,2,0,1])"
     ],
     "language": "python",
     "metadata": {},
     "outputs": [
      {
       "metadata": {},
       "output_type": "pyout",
       "prompt_number": 73,
       "text": [
        "array([2, 2, 1])"
       ]
      }
     ],
     "prompt_number": 73
    },
    {
     "cell_type": "markdown",
     "metadata": {},
     "source": [
      "The resulting array tells us that 0 and 1 appeared twice, and 2 appeared once. \n",
      "\n",
      "We perform several such experiments (10 in this specific case), collate the frequencies, and pass this as data to the Multinomial variable in our PyMC model.\n",
      "\n",
      "We then run MCMC sampling on the PyMC model, and as we do a random walk, the value in the full_dirich variable in the PyMC model starts to approximate the true multinomial distribution. "
     ]
    },
    {
     "cell_type": "code",
     "collapsed": false,
     "input": [
      "\n",
      "def get_relevant_samples(experiments,evidence,num_samples=10):\n",
      "    ''' for n experiments, sample and add the frequencies obtained.'''\n",
      "    res=[]\n",
      "    for i in xrange(experiments):\n",
      "        vals=[float(i['Interview']) for i in bn.randomsample(num_samples,evidence)]\n",
      "        res.append(get_counts(vals))\n",
      "    return res\n",
      "\n",
      "def plot_traces(traces):\n",
      "    colors = [\"#348ABD\", \"#A60628\",\"#884732\"]\n",
      "\n",
      "    plt.plot(np.arange(len(traces)), traces[:,:, 0], c=colors[0])\n",
      "    plt.plot(np.arange(len(traces)), traces[:,:, 1], c=colors[1])\n",
      "    plt.plot(np.arange(len(traces)), traces[:,:, 2], c=colors[2])\n",
      "    plt.title(\"traces of posterior \")\n",
      "    plt.show()\n",
      "    \n",
      "def estimate_parameters(evidence,**kwargs):\n",
      "    ''' run a few experiments, get the data, and estimate the parameter '''\n",
      "    experiments=10\n",
      "    samples=get_relevant_samples(experiments,evidence,num_samples=10)\n",
      "    model=create_model(samples,experiments)    \n",
      "    mc=run_mcmc(model,**kwargs)   \n",
      "\n",
      "    traces=mc.trace('full_dirich')[:]\n",
      "    return [np.mean(traces[:, :,0]),np.mean(traces[:,:, 1]),np.mean(traces[:,:, 2])],traces\n",
      "    \n"
     ],
     "language": "python",
     "metadata": {},
     "outputs": [],
     "prompt_number": 74
    },
    {
     "cell_type": "markdown",
     "metadata": {},
     "source": [
      "We first determine the parameters for the assignment Experience=0,Grades=0, and plot the traces. We can see three separate plot lines, which are the values for the 3 probabilities in the multinomial, which should sum up to 1.\n"
     ]
    },
    {
     "cell_type": "code",
     "collapsed": false,
     "input": [
      "means,traces=estimate_parameters(dict(Grades='0',Experience='0'),iter=5000)\n",
      "plot_traces(traces)"
     ],
     "language": "python",
     "metadata": {},
     "outputs": [
      {
       "output_type": "stream",
       "stream": "stdout",
       "text": [
        "\r",
        " [-----------------100%-----------------] 5000 of 5000 complete in 0.5 sec"
       ]
      },
      {
       "metadata": {},
       "output_type": "display_data",
       "png": "[encoded data removed]",
       "text": [
        "<matplotlib.figure.Figure at 0x410fd50>"
       ]
      }
     ],
     "prompt_number": 75
    },
    {
     "cell_type": "markdown",
     "metadata": {},
     "source": [
      "In the plot above, we take the first 5000 traces, and we can see that the posterior moves around initially and then settles down a bit. If we add a 'burn' parameter, the algorithm discards the first N samples specified by the burn value, and then takes collects the next traces. Since the MCMC algorithm takes time doing a random walk startin from the prior, specifying a burn value allows the algorithm to discard traces that are ostensibly not from the true posterior distribution."
     ]
    },
    {
     "cell_type": "code",
     "collapsed": false,
     "input": [
      "means,traces=estimate_parameters(dict(Grades='0',Experience='0'),iter=20000,burn=1000)\n",
      "plot_traces(traces)"
     ],
     "language": "python",
     "metadata": {},
     "outputs": [
      {
       "output_type": "stream",
       "stream": "stdout",
       "text": [
        "\r",
        " [----------       27%                  ] 5531 of 20000 complete in 0.5 sec"
       ]
      },
      {
       "output_type": "stream",
       "stream": "stdout",
       "text": [
        "\r",
        " [-----------------52%                  ] 10529 of 20000 complete in 1.0 sec"
       ]
      },
      {
       "output_type": "stream",
       "stream": "stdout",
       "text": [
        "\r",
        " [-----------------77%---------         ] 15459 of 20000 complete in 1.5 sec"
       ]
      },
      {
       "output_type": "stream",
       "stream": "stdout",
       "text": [
        "\r",
        " [-----------------100%-----------------] 20000 of 20000 complete in 2.0 sec"
       ]
      },
      {
       "metadata": {},
       "output_type": "display_data",
       "png": "[encoded data removed]",
       "text": [
        "<matplotlib.figure.Figure at 0x4710bd0>"
       ]
      }
     ],
     "prompt_number": 76
    },
    {
     "cell_type": "markdown",
     "metadata": {},
     "source": [
      "We can see that the individual probabilities have converged.\n",
      "\n",
      "We first determined the parameters for the assignment Experience=0,Grades=0. To learn the values for all the joint assignments to the parent variable, we run the next snippet. Printed in the table are the posterior means."
     ]
    },
    {
     "cell_type": "code",
     "collapsed": false,
     "input": [
      "all_parent_assignments=[['0','0'],['0','1'],['1','0'],['1','1']]\n",
      "res=[]\n",
      "for i,j in all_parent_assignments:\n",
      "    evidence=dict(Grades=i,Experience=j)\n",
      "    means,traces=estimate_parameters(evidence,iter=50000,burn=10000)\n",
      "    res.append([[i,j]]+means)\n",
      "    \n",
      "pd.DataFrame(res,columns=['parent_assignment',0,1,2])"
     ],
     "language": "python",
     "metadata": {},
     "outputs": [
      {
       "output_type": "stream",
       "stream": "stdout",
       "text": [
        "\r",
        " [-----            13%                  ] 6809 of 50000 complete in 0.5 sec"
       ]
      },
      {
       "output_type": "stream",
       "stream": "stdout",
       "text": [
        "\r",
        " [---------        24%                  ] 12475 of 50000 complete in 1.0 sec"
       ]
      },
      {
       "output_type": "stream",
       "stream": "stdout",
       "text": [
        "\r",
        " [-------------    34%                  ] 17316 of 50000 complete in 1.5 sec"
       ]
      },
      {
       "output_type": "stream",
       "stream": "stdout",
       "text": [
        "\r",
        " [---------------- 44%                  ] 22364 of 50000 complete in 2.0 sec"
       ]
      },
      {
       "output_type": "stream",
       "stream": "stdout",
       "text": [
        "\r",
        " [-----------------54%                  ] 27374 of 50000 complete in 2.5 sec"
       ]
      },
      {
       "output_type": "stream",
       "stream": "stdout",
       "text": [
        "\r",
        " [-----------------64%----              ] 32212 of 50000 complete in 3.0 sec"
       ]
      },
      {
       "output_type": "stream",
       "stream": "stdout",
       "text": [
        "\r",
        " [-----------------74%--------          ] 37177 of 50000 complete in 3.5 sec"
       ]
      },
      {
       "output_type": "stream",
       "stream": "stdout",
       "text": [
        "\r",
        " [-----------------84%------------      ] 42229 of 50000 complete in 4.0 sec"
       ]
      },
      {
       "output_type": "stream",
       "stream": "stdout",
       "text": [
        "\r",
        " [-----------------94%---------------   ] 47196 of 50000 complete in 4.5 sec"
       ]
      },
      {
       "output_type": "stream",
       "stream": "stdout",
       "text": [
        "\r",
        " [-----------------100%-----------------] 50000 of 50000 complete in 4.8 sec"
       ]
      },
      {
       "output_type": "stream",
       "stream": "stdout",
       "text": [
        "\r",
        " [----             12%                  ] 6014 of 50000 complete in 0.5 sec"
       ]
      },
      {
       "output_type": "stream",
       "stream": "stdout",
       "text": [
        "\r",
        " [--------         22%                  ] 11350 of 50000 complete in 1.0 sec"
       ]
      },
      {
       "output_type": "stream",
       "stream": "stdout",
       "text": [
        "\r",
        " [------------     31%                  ] 15977 of 50000 complete in 1.5 sec"
       ]
      },
      {
       "output_type": "stream",
       "stream": "stdout",
       "text": [
        "\r",
        " [---------------  41%                  ] 20598 of 50000 complete in 2.0 sec"
       ]
      },
      {
       "output_type": "stream",
       "stream": "stdout",
       "text": [
        "\r",
        " [-----------------50%                  ] 25218 of 50000 complete in 2.5 sec"
       ]
      },
      {
       "output_type": "stream",
       "stream": "stdout",
       "text": [
        "\r",
        " [-----------------59%--                ] 29831 of 50000 complete in 3.0 sec"
       ]
      },
      {
       "output_type": "stream",
       "stream": "stdout",
       "text": [
        "\r",
        " [-----------------68%------            ] 34430 of 50000 complete in 3.5 sec"
       ]
      },
      {
       "output_type": "stream",
       "stream": "stdout",
       "text": [
        "\r",
        " [-----------------78%---------         ] 39005 of 50000 complete in 4.0 sec"
       ]
      },
      {
       "output_type": "stream",
       "stream": "stdout",
       "text": [
        "\r",
        " [-----------------87%-------------     ] 43604 of 50000 complete in 4.5 sec"
       ]
      },
      {
       "output_type": "stream",
       "stream": "stdout",
       "text": [
        "\r",
        " [-----------------96%----------------  ] 48178 of 50000 complete in 5.0 sec"
       ]
      },
      {
       "output_type": "stream",
       "stream": "stdout",
       "text": [
        "\r",
        " [-----------------100%-----------------] 50000 of 50000 complete in 5.2 sec"
       ]
      },
      {
       "output_type": "stream",
       "stream": "stdout",
       "text": [
        "\r",
        " [-----            13%                  ] 6628 of 50000 complete in 0.5 sec"
       ]
      },
      {
       "output_type": "stream",
       "stream": "stdout",
       "text": [
        "\r",
        " [---------        24%                  ] 12276 of 50000 complete in 1.0 sec"
       ]
      },
      {
       "output_type": "stream",
       "stream": "stdout",
       "text": [
        "\r",
        " [------------     34%                  ] 17042 of 50000 complete in 1.5 sec"
       ]
      },
      {
       "output_type": "stream",
       "stream": "stdout",
       "text": [
        "\r",
        " [---------------- 43%                  ] 21935 of 50000 complete in 2.0 sec"
       ]
      },
      {
       "output_type": "stream",
       "stream": "stdout",
       "text": [
        "\r",
        " [-----------------53%                  ] 26820 of 50000 complete in 2.5 sec"
       ]
      },
      {
       "output_type": "stream",
       "stream": "stdout",
       "text": [
        "\r",
        " [-----------------63%----              ] 31663 of 50000 complete in 3.0 sec"
       ]
      },
      {
       "output_type": "stream",
       "stream": "stdout",
       "text": [
        "\r",
        " [-----------------73%-------           ] 36507 of 50000 complete in 3.5 sec"
       ]
      },
      {
       "output_type": "stream",
       "stream": "stdout",
       "text": [
        "\r",
        " [-----------------82%-----------       ] 41055 of 50000 complete in 4.0 sec"
       ]
      },
      {
       "output_type": "stream",
       "stream": "stdout",
       "text": [
        "\r",
        " [-----------------91%--------------    ] 45932 of 50000 complete in 4.5 sec"
       ]
      },
      {
       "output_type": "stream",
       "stream": "stdout",
       "text": [
        "\r",
        " [-----------------100%-----------------] 50000 of 50000 complete in 4.9 sec"
       ]
      },
      {
       "output_type": "stream",
       "stream": "stdout",
       "text": [
        "\r",
        " [----             11%                  ] 5947 of 50000 complete in 0.5 sec"
       ]
      },
      {
       "output_type": "stream",
       "stream": "stdout",
       "text": [
        "\r",
        " [--------         22%                  ] 11437 of 50000 complete in 1.0 sec"
       ]
      },
      {
       "output_type": "stream",
       "stream": "stdout",
       "text": [
        "\r",
        " [------------     32%                  ] 16135 of 50000 complete in 1.5 sec"
       ]
      },
      {
       "output_type": "stream",
       "stream": "stdout",
       "text": [
        "\r",
        " [---------------  41%                  ] 20809 of 50000 complete in 2.0 sec"
       ]
      },
      {
       "output_type": "stream",
       "stream": "stdout",
       "text": [
        "\r",
        " [-----------------51%                  ] 25503 of 50000 complete in 2.5 sec"
       ]
      },
      {
       "output_type": "stream",
       "stream": "stdout",
       "text": [
        "\r",
        " [-----------------60%--                ] 30182 of 50000 complete in 3.0 sec"
       ]
      },
      {
       "output_type": "stream",
       "stream": "stdout",
       "text": [
        "\r",
        " [-----------------69%------            ] 34874 of 50000 complete in 3.5 sec"
       ]
      },
      {
       "output_type": "stream",
       "stream": "stdout",
       "text": [
        "\r",
        " [-----------------79%----------        ] 39536 of 50000 complete in 4.0 sec"
       ]
      },
      {
       "output_type": "stream",
       "stream": "stdout",
       "text": [
        "\r",
        " [-----------------88%-------------     ] 44221 of 50000 complete in 4.5 sec"
       ]
      },
      {
       "output_type": "stream",
       "stream": "stdout",
       "text": [
        "\r",
        " [-----------------97%----------------- ] 48870 of 50000 complete in 5.0 sec"
       ]
      },
      {
       "output_type": "stream",
       "stream": "stdout",
       "text": [
        "\r",
        " [-----------------100%-----------------] 50000 of 50000 complete in 5.1 sec"
       ]
      },
      {
       "html": [
        "<div style=\"max-height:1000px;max-width:1500px;overflow:auto;\">\n",
        "<table border=\"1\" class=\"dataframe\">\n",
        "  <thead>\n",
        "    <tr style=\"text-align: right;\">\n",
        "      <th></th>\n",
        "      <th>parent_assignment</th>\n",
        "      <th>0</th>\n",
        "      <th>1</th>\n",
        "      <th>2</th>\n",
        "    </tr>\n",
        "  </thead>\n",
        "  <tbody>\n",
        "    <tr>\n",
        "      <th>0</th>\n",
        "      <td> [0, 0]</td>\n",
        "      <td> 0.776159</td>\n",
        "      <td> 0.204539</td>\n",
        "      <td> 0.019302</td>\n",
        "    </tr>\n",
        "    <tr>\n",
        "      <th>1</th>\n",
        "      <td> [0, 1]</td>\n",
        "      <td> 0.348966</td>\n",
        "      <td> 0.359243</td>\n",
        "      <td> 0.291792</td>\n",
        "    </tr>\n",
        "    <tr>\n",
        "      <th>2</th>\n",
        "      <td> [1, 0]</td>\n",
        "      <td> 0.358360</td>\n",
        "      <td> 0.543345</td>\n",
        "      <td> 0.098295</td>\n",
        "    </tr>\n",
        "    <tr>\n",
        "      <th>3</th>\n",
        "      <td> [1, 1]</td>\n",
        "      <td> 0.145983</td>\n",
        "      <td> 0.174915</td>\n",
        "      <td> 0.679102</td>\n",
        "    </tr>\n",
        "  </tbody>\n",
        "</table>\n",
        "<p>4 rows \u00d7 4 columns</p>\n",
        "</div>"
       ],
       "metadata": {},
       "output_type": "pyout",
       "prompt_number": 77,
       "text": [
        "  parent_assignment         0         1         2\n",
        "0            [0, 0]  0.776159  0.204539  0.019302\n",
        "1            [0, 1]  0.348966  0.359243  0.291792\n",
        "2            [1, 0]  0.358360  0.543345  0.098295\n",
        "3            [1, 1]  0.145983  0.174915  0.679102\n",
        "\n",
        "[4 rows x 4 columns]"
       ]
      }
     ],
     "prompt_number": 77
    },
    {
     "cell_type": "markdown",
     "metadata": {},
     "source": [
      "We can compare the posterior means with the true probabilities specified in the job interview network."
     ]
    },
    {
     "cell_type": "code",
     "collapsed": false,
     "input": [
      "pd.DataFrame(bn.Vdata['Interview']['cprob']).transpose()"
     ],
     "language": "python",
     "metadata": {},
     "outputs": [
      {
       "html": [
        "<div style=\"max-height:1000px;max-width:1500px;overflow:auto;\">\n",
        "<table border=\"1\" class=\"dataframe\">\n",
        "  <thead>\n",
        "    <tr style=\"text-align: right;\">\n",
        "      <th></th>\n",
        "      <th>0</th>\n",
        "      <th>1</th>\n",
        "      <th>2</th>\n",
        "    </tr>\n",
        "  </thead>\n",
        "  <tbody>\n",
        "    <tr>\n",
        "      <th>['0', '0']</th>\n",
        "      <td> 0.8</td>\n",
        "      <td> 0.18</td>\n",
        "      <td> 0.02</td>\n",
        "    </tr>\n",
        "    <tr>\n",
        "      <th>['0', '1']</th>\n",
        "      <td> 0.3</td>\n",
        "      <td> 0.60</td>\n",
        "      <td> 0.10</td>\n",
        "    </tr>\n",
        "    <tr>\n",
        "      <th>['1', '0']</th>\n",
        "      <td> 0.3</td>\n",
        "      <td> 0.40</td>\n",
        "      <td> 0.30</td>\n",
        "    </tr>\n",
        "    <tr>\n",
        "      <th>['1', '1']</th>\n",
        "      <td> 0.1</td>\n",
        "      <td> 0.20</td>\n",
        "      <td> 0.70</td>\n",
        "    </tr>\n",
        "  </tbody>\n",
        "</table>\n",
        "<p>4 rows \u00d7 3 columns</p>\n",
        "</div>"
       ],
       "metadata": {},
       "output_type": "pyout",
       "prompt_number": 78,
       "text": [
        "              0     1     2\n",
        "['0', '0']  0.8  0.18  0.02\n",
        "['0', '1']  0.3  0.60  0.10\n",
        "['1', '0']  0.3  0.40  0.30\n",
        "['1', '1']  0.1  0.20  0.70\n",
        "\n",
        "[4 rows x 3 columns]"
       ]
      }
     ],
     "prompt_number": 78
    }
   ],
   "metadata": {}
  }
 ]
}