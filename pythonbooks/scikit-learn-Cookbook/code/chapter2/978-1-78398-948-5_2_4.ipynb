{
 "metadata": {
  "name": "",
  "signature": "sha256:4670922948ed93530a8c5ccbbf12490b7120ac27de9e7d7125837189709c2e77"
 },
 "nbformat": 3,
 "nbformat_minor": 0,
 "worksheets": [
  {
   "cells": [
    {
     "cell_type": "code",
     "collapsed": false,
     "input": [
      "from sklearn.datasets import make_regression\n",
      "reg_data, reg_target = make_regression(n_samples=2000, n_features=3, effective_rank=2, noise=10) #what happens w/o noise?"
     ],
     "language": "python",
     "metadata": {},
     "outputs": [],
     "prompt_number": 1
    },
    {
     "cell_type": "markdown",
     "metadata": {},
     "source": [
      "#Getting Ready\n",
      "\n",
      "This is the first recipe were we'll tune a the parameters for a model.  This is typically done by cross validation.  There will be recipes laying out a more general way to do this in later recipes, but here we'll walk though enough to tune Ridge Regression.\n",
      "\n",
      "If you remember in Ridge Regression $\\Gamma$ is typically $\\alpha I$, so the question becomes, what is the best $\\alpha$?  Create a regression dataset, then let's get started."
     ]
    },
    {
     "cell_type": "code",
     "collapsed": false,
     "input": [
      "from sklearn.datasets import make_regression\n",
      "reg_data, reg_target = make_regression(n_samples=100, n_features=2, effective_rank=1, noise=10)"
     ],
     "language": "python",
     "metadata": {},
     "outputs": [],
     "prompt_number": 2
    },
    {
     "cell_type": "markdown",
     "metadata": {},
     "source": [
      "#How to do it\n",
      "\n",
      "In the `linear_models` module there is an object called `RidgeCV` which stands for Ridge Cross Validation.  This performs a cross validation similar to Leave-One-Out, which is often abbrevaited LOOCV.  Under the hood it's going to train the model for all the samples except one, then evaludate the error in predicting that one test case."
     ]
    },
    {
     "cell_type": "code",
     "collapsed": false,
     "input": [
      "from sklearn.linear_model import RidgeCV\n",
      "import numpy as np\n",
      "rcv = RidgeCV(alphas=np.array([.1, .2, .3, .4]))\n",
      "rcv.fit(reg_data, reg_target)"
     ],
     "language": "python",
     "metadata": {},
     "outputs": [
      {
       "metadata": {},
       "output_type": "pyout",
       "prompt_number": 3,
       "text": [
        "RidgeCV(alphas=array([ 0.1,  0.2,  0.3,  0.4]), cv=None, fit_intercept=True,\n",
        "    gcv_mode=None, loss_func=None, normalize=False, score_func=None,\n",
        "    scoring=None, store_cv_values=False)"
       ]
      }
     ],
     "prompt_number": 3
    },
    {
     "cell_type": "markdown",
     "metadata": {},
     "source": [
      "After we've fit the regression the alpha\\_ attribute will be the \"best\" alpha choice."
     ]
    },
    {
     "cell_type": "code",
     "collapsed": false,
     "input": [
      "rcv.alpha_"
     ],
     "language": "python",
     "metadata": {},
     "outputs": [
      {
       "metadata": {},
       "output_type": "pyout",
       "prompt_number": 4,
       "text": [
        "0.10000000000000001"
       ]
      }
     ],
     "prompt_number": 4
    },
    {
     "cell_type": "markdown",
     "metadata": {},
     "source": [
      "In his example, it was the first choice.  We might want to hone in on something around .1."
     ]
    },
    {
     "cell_type": "code",
     "collapsed": false,
     "input": [
      "rcv2 = RidgeCV(alphas=np.array([.08, .09, .1, .11, .12]))\n",
      "rcv2.fit(reg_data, reg_target)"
     ],
     "language": "python",
     "metadata": {},
     "outputs": [
      {
       "metadata": {},
       "output_type": "pyout",
       "prompt_number": 5,
       "text": [
        "RidgeCV(alphas=array([ 0.08,  0.09,  0.1 ,  0.11,  0.12]), cv=None,\n",
        "    fit_intercept=True, gcv_mode=None, loss_func=None, normalize=False,\n",
        "    score_func=None, scoring=None, store_cv_values=False)"
       ]
      }
     ],
     "prompt_number": 5
    },
    {
     "cell_type": "code",
     "collapsed": false,
     "input": [
      "rcv2.alpha_"
     ],
     "language": "python",
     "metadata": {},
     "outputs": [
      {
       "metadata": {},
       "output_type": "pyout",
       "prompt_number": 6,
       "text": [
        "0.080000000000000002"
       ]
      }
     ],
     "prompt_number": 6
    },
    {
     "cell_type": "markdown",
     "metadata": {},
     "source": [
      "We could continue this hunt, but hopefully the mechanics are clear."
     ]
    },
    {
     "cell_type": "markdown",
     "metadata": {},
     "source": [
      "#How it works\n",
      "\n",
      "The mechanics may be clear, but we should talk a little more about the why, and define the what was meant by \"best\".  At each step in the cross validation the model scores the error against the test sample.  By default it's essentially squared error.  See the \"There's More\" section for more details.\n",
      "\n",
      "We can force the RidgeCV object to store the cross validation values, this will let use visualize what it's doing under the hood."
     ]
    },
    {
     "cell_type": "code",
     "collapsed": false,
     "input": [
      "alphas_to_test = np.linspace(0.01, 1)\n",
      "rcv3 = RidgeCV(alphas=alphas_to_test, store_cv_values=True)\n",
      "rcv3.fit(reg_data, reg_target)"
     ],
     "language": "python",
     "metadata": {},
     "outputs": [
      {
       "metadata": {},
       "output_type": "pyout",
       "prompt_number": 8,
       "text": [
        "RidgeCV(alphas=array([ 0.01   ,  0.0302 ,  0.05041,  0.07061,  0.09082,  0.11102,\n",
        "        0.13122,  0.15143,  0.17163,  0.19184,  0.21204,  0.23224,\n",
        "        0.25245,  0.27265,  0.29286,  0.31306,  0.33327,  0.35347,\n",
        "        0.37367,  0.39388,  0.41408,  0.43429,  0.45449,  0.47469,\n",
        "        0.4949 ,  0.5151 ...3837,\n",
        "        0.85857,  0.87878,  0.89898,  0.91918,  0.93939,  0.95959,\n",
        "        0.9798 ,  1.     ]),\n",
        "    cv=None, fit_intercept=True, gcv_mode=None, loss_func=None,\n",
        "    normalize=False, score_func=None, scoring=None, store_cv_values=True)"
       ]
      }
     ],
     "prompt_number": 8
    },
    {
     "cell_type": "markdown",
     "metadata": {},
     "source": [
      "As you can see we're testing a a bunch of points (50 in total) between 0.01 and 1.  Because we've passed store_cv_values as true we can access those values."
     ]
    },
    {
     "cell_type": "code",
     "collapsed": false,
     "input": [
      "rcv3.cv_values_.shape"
     ],
     "language": "python",
     "metadata": {},
     "outputs": [
      {
       "metadata": {},
       "output_type": "pyout",
       "prompt_number": 9,
       "text": [
        "(100, 50)"
       ]
      }
     ],
     "prompt_number": 9
    },
    {
     "cell_type": "markdown",
     "metadata": {},
     "source": [
      "So we had 100 values in the initial regression, and tested 50 different alpha values.  So we know have access to the error of all 50 values.  We can now find the smallest mean error, and we'll choose that as alpha."
     ]
    },
    {
     "cell_type": "code",
     "collapsed": false,
     "input": [
      "smallest_idx = rcv3.cv_values_.mean(axis=0).argmin()\n",
      "alphas_to_test[smallest_idx]"
     ],
     "language": "python",
     "metadata": {},
     "outputs": [
      {
       "metadata": {},
       "output_type": "pyout",
       "prompt_number": 10,
       "text": [
        "0.01"
       ]
      }
     ],
     "prompt_number": 10
    },
    {
     "cell_type": "markdown",
     "metadata": {},
     "source": [
      "The question, then, is does RidgeCV agree with our choice?"
     ]
    },
    {
     "cell_type": "code",
     "collapsed": false,
     "input": [
      "rcv3.alpha_"
     ],
     "language": "python",
     "metadata": {},
     "outputs": [
      {
       "metadata": {},
       "output_type": "pyout",
       "prompt_number": 11,
       "text": [
        "0.01"
       ]
      }
     ],
     "prompt_number": 11
    },
    {
     "cell_type": "markdown",
     "metadata": {},
     "source": [
      "Beautiful!\n",
      "\n",
      "It's also worthwhile to visualize what's going on.  In order to do that we'll plot the mean for all 50 test alphas."
     ]
    },
    {
     "cell_type": "code",
     "collapsed": false,
     "input": [
      "%matplotlib inline\n",
      "import matplotlib.pyplot as plt\n",
      "f, ax = plt.subplots(figsize=(7, 5))\n",
      "ax.set_title(r\"Various values of $\\alpha$\")\n",
      "#ax.set_ylim(100, 105)\n",
      "\n",
      "xy = (alphas_to_test[smallest_idx], rcv3.cv_values_.mean(axis=0)[smallest_idx])\n",
      "xytext = (xy[0] + .2, xy[1] + 2)\n",
      "\n",
      "ax.annotate(r'Chosen $\\alpha$', xy=xy, xytext=xytext,\n",
      "            arrowprops=dict(facecolor='black', shrink=0.02, width=.02)\n",
      "            )\n",
      "\n",
      "\n",
      "ax.plot(alphas_to_test, rcv3.cv_values_.mean(axis=0))"
     ],
     "language": "python",
     "metadata": {},
     "outputs": [
      {
       "metadata": {},
       "output_type": "pyout",
       "prompt_number": 14,
       "text": [
        "[<matplotlib.lines.Line2D at 0x108448e10>]"
       ]
      },
      {
       "metadata": {},
       "output_type": "display_data",
       "png": "[encoded data removed]",
       "text": [
        "<matplotlib.figure.Figure at 0x108343490>"
       ]
      }
     ],
     "prompt_number": 14
    },
    {
     "cell_type": "markdown",
     "metadata": {},
     "source": [
      "This kind of plot is commonly refered to as an elbow plot.  A common theme in parameter tuning is to look at the elbow plot and chose the value at the elbow (the minimum)."
     ]
    },
    {
     "cell_type": "markdown",
     "metadata": {},
     "source": [
      "#There's more\n",
      "\n",
      "If we want to use your own scoring function we can do that as well.  Since we looked a MAD before, let's use that to score the differences.  First, we need to define our loss function."
     ]
    },
    {
     "cell_type": "code",
     "collapsed": false,
     "input": [
      "def MAD(target, predictions):\n",
      "    absolute_deviation = np.abs(target - predictions)\n",
      "    return absolute_deviation.mean()"
     ],
     "language": "python",
     "metadata": {},
     "outputs": [],
     "prompt_number": 15
    },
    {
     "cell_type": "markdown",
     "metadata": {},
     "source": [
      "After we've defined the loss function, we can then employ the make_scorer function in sklearn.  This will take care of standardizing our function so sci-kit's objects know how to use it.  Also, because this is a loss function and not a score function, lower is better, and thus we need to let sklearn to flip the sign to turn this from a maximization problem into a minimization problem."
     ]
    },
    {
     "cell_type": "code",
     "collapsed": false,
     "input": [
      "import sklearn\n",
      "MAD = sklearn.metrics.make_scorer(MAD, greater_is_better=False)"
     ],
     "language": "python",
     "metadata": {},
     "outputs": [],
     "prompt_number": 16
    },
    {
     "cell_type": "code",
     "collapsed": false,
     "input": [
      "rcv4 = RidgeCV(alphas=alphas_to_test, store_cv_values=True, scoring=MAD)\n",
      "rcv4.fit(reg_data, reg_target)"
     ],
     "language": "python",
     "metadata": {},
     "outputs": [
      {
       "metadata": {},
       "output_type": "pyout",
       "prompt_number": 17,
       "text": [
        "RidgeCV(alphas=array([ 0.01   ,  0.0302 ,  0.05041,  0.07061,  0.09082,  0.11102,\n",
        "        0.13122,  0.15143,  0.17163,  0.19184,  0.21204,  0.23224,\n",
        "        0.25245,  0.27265,  0.29286,  0.31306,  0.33327,  0.35347,\n",
        "        0.37367,  0.39388,  0.41408,  0.43429,  0.45449,  0.47469,\n",
        "        0.4949 ,  0.5151 ...3837,\n",
        "        0.85857,  0.87878,  0.89898,  0.91918,  0.93939,  0.95959,\n",
        "        0.9798 ,  1.     ]),\n",
        "    cv=None, fit_intercept=True, gcv_mode=None, loss_func=None,\n",
        "    normalize=False, score_func=None,\n",
        "    scoring=make_scorer(MAD, greater_is_better=False),\n",
        "    store_cv_values=True)"
       ]
      }
     ],
     "prompt_number": 17
    },
    {
     "cell_type": "code",
     "collapsed": false,
     "input": [
      "smallest_idx = rcv4.cv_values_.mean(axis=0).argmin()\n",
      "alphas_to_test[smallest_idx]"
     ],
     "language": "python",
     "metadata": {},
     "outputs": [
      {
       "metadata": {},
       "output_type": "pyout",
       "prompt_number": 18,
       "text": [
        "0.23224489795918368"
       ]
      }
     ],
     "prompt_number": 18
    }
   ],
   "metadata": {}
  }
 ]
}