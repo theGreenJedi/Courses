{
 "metadata": {
  "name": "",
  "signature": "sha256:229f9ce0042905d804894b69ac346822e12b206ec155032a2c3bf3869eeca840"
 },
 "nbformat": 3,
 "nbformat_minor": 0,
 "worksheets": [
  {
   "cells": [
    {
     "cell_type": "markdown",
     "metadata": {},
     "source": [
      "# Getting Ready\n",
      "\n",
      "Ridge Regression and LASSO Regression can both be understood through a Bayesian lense, as opposed to an optimization lense.  Sci-Kit Learn only implements a Bayesian Ridge Regression, but in the How it works section we'll look at both cases.\n",
      "\n",
      "First as per usual, let's create some regression data."
     ]
    },
    {
     "cell_type": "code",
     "collapsed": false,
     "input": [
      "from sklearn.datasets import make_regression\n",
      "X, y = make_regression(1000, 10, n_informative=2, noise=20)"
     ],
     "language": "python",
     "metadata": {},
     "outputs": [],
     "prompt_number": 1
    },
    {
     "cell_type": "markdown",
     "metadata": {},
     "source": [
      "# How to do it"
     ]
    },
    {
     "cell_type": "markdown",
     "metadata": {},
     "source": [
      "We can just \"throw\" ridge regression at the problem with a few simple steps."
     ]
    },
    {
     "cell_type": "code",
     "collapsed": false,
     "input": [
      "from sklearn.linear_model import BayesianRidge\n",
      "\n",
      "br = BayesianRidge()\n",
      "br"
     ],
     "language": "python",
     "metadata": {},
     "outputs": [
      {
       "metadata": {},
       "output_type": "pyout",
       "prompt_number": 2,
       "text": [
        "BayesianRidge(alpha_1=1e-06, alpha_2=1e-06, compute_score=False, copy_X=True,\n",
        "       fit_intercept=True, lambda_1=1e-06, lambda_2=1e-06, n_iter=300,\n",
        "       normalize=False, tol=0.001, verbose=False)"
       ]
      }
     ],
     "prompt_number": 2
    },
    {
     "cell_type": "markdown",
     "metadata": {},
     "source": [
      "The two sets of coefficients of interest are `alpha_1` / `alpha_2` and `lambda_1` / `lambda_2`.  The alphas are the hyperparameters for the prior over the alpha parameter and the lambda as the hyperparameters of the prior over the lambda parameter.\n",
      "\n",
      "First let's fit a model without any modifications to the hyperparameters."
     ]
    },
    {
     "cell_type": "code",
     "collapsed": false,
     "input": [
      "br.fit(X, y)"
     ],
     "language": "python",
     "metadata": {},
     "outputs": [
      {
       "metadata": {},
       "output_type": "pyout",
       "prompt_number": 3,
       "text": [
        "BayesianRidge(alpha_1=1e-06, alpha_2=1e-06, compute_score=False, copy_X=True,\n",
        "       fit_intercept=True, lambda_1=1e-06, lambda_2=1e-06, n_iter=300,\n",
        "       normalize=False, tol=0.001, verbose=False)"
       ]
      }
     ],
     "prompt_number": 3
    },
    {
     "cell_type": "code",
     "collapsed": false,
     "input": [
      "br.coef_"
     ],
     "language": "python",
     "metadata": {},
     "outputs": [
      {
       "metadata": {},
       "output_type": "pyout",
       "prompt_number": 4,
       "text": [
        "array([ -0.23141224,   0.71052308,   0.16138065,   0.16195494,\n",
        "        -0.08543834,  82.85331283,  -0.20258875,   0.87568531,\n",
        "        36.46762071,  -0.55578919])"
       ]
      }
     ],
     "prompt_number": 4
    },
    {
     "cell_type": "markdown",
     "metadata": {},
     "source": [
      "Now if we modify the hyperparameters notice the slight changes in the coefficients."
     ]
    },
    {
     "cell_type": "code",
     "collapsed": false,
     "input": [
      "br_alphas = BayesianRidge(alpha_1=10, lambda_1=10)"
     ],
     "language": "python",
     "metadata": {},
     "outputs": [],
     "prompt_number": 5
    },
    {
     "cell_type": "code",
     "collapsed": false,
     "input": [
      "br_alphas.fit(X, y)"
     ],
     "language": "python",
     "metadata": {},
     "outputs": [
      {
       "metadata": {},
       "output_type": "pyout",
       "prompt_number": 6,
       "text": [
        "BayesianRidge(alpha_1=10, alpha_2=1e-06, compute_score=False, copy_X=True,\n",
        "       fit_intercept=True, lambda_1=10, lambda_2=1e-06, n_iter=300,\n",
        "       normalize=False, tol=0.001, verbose=False)"
       ]
      }
     ],
     "prompt_number": 6
    },
    {
     "cell_type": "code",
     "collapsed": false,
     "input": [
      "br_alphas.coef_"
     ],
     "language": "python",
     "metadata": {},
     "outputs": [
      {
       "metadata": {},
       "output_type": "pyout",
       "prompt_number": 7,
       "text": [
        "array([ -0.22624097,   0.7048221 ,   0.16001684,   0.16396887,\n",
        "        -0.08383413,  82.77489124,  -0.19990996,   0.87779973,\n",
        "        36.42768422,  -0.55206825])"
       ]
      }
     ],
     "prompt_number": 7
    },
    {
     "cell_type": "markdown",
     "metadata": {},
     "source": [
      "# How it works\n",
      "\n",
      "For Bayesian Ridge Regression we assume a prior over the errors and a prior over alpha.  Both these priors are gamma distributions.\n",
      "\n",
      "The gamma distribution is a very flexible distribution.  Here are some of the different shapes the gamma distribution can take given different parameterization for both the location and scale.  `1e-06` is the default parameterization of `BayesianRidge` in Sci-Kit Learn."
     ]
    },
    {
     "cell_type": "code",
     "collapsed": false,
     "input": [
      "import matplotlib.pyplot as plt\n",
      "%matplotlib inline\n",
      "\n",
      "from scipy.stats import gamma\n",
      "import numpy as np\n",
      "\n",
      "form = lambda x, y: \"loc={}, scale={}\".format(x, y)\n",
      "g = lambda x, y=1e-06, z=1e-06: gamma.pdf(x, y, z)\n",
      "g2 = lambda x, y=1e-06, z=1: gamma.pdf(x, y, z)\n",
      "g3 = lambda x, y=1e-06, z=2: gamma.pdf(x, y, z)\n",
      "rng = np.linspace(0, 5)"
     ],
     "language": "python",
     "metadata": {},
     "outputs": [],
     "prompt_number": 8
    },
    {
     "cell_type": "code",
     "collapsed": false,
     "input": [
      "f, ax = plt.subplots(figsize=(8, 5))\n",
      "\n",
      "ax.plot(rng, map(g, rng), label=form(1e-06, 1e-06), color='r')\n",
      "ax.plot(rng, map(g2, rng), label=form(1e-06, 1), color='g')\n",
      "ax.plot(rng, map(g3, rng), label=form(1e-06, 2), color='b')\n",
      "ax.set_title(\"Different Shapes of the Gamma Distribution\")\n",
      "ax.legend()\n",
      "f.savefig(\"GammaDists.png\")"
     ],
     "language": "python",
     "metadata": {},
     "outputs": [
      {
       "metadata": {},
       "output_type": "display_data",
       "png": "[encoded data removed]",
       "text": [
        "<matplotlib.figure.Figure at 0x1081d1190>"
       ]
      }
     ],
     "prompt_number": 9
    },
    {
     "cell_type": "markdown",
     "metadata": {},
     "source": [
      "As you can the coefficients are naturally shrunk towards 0, especially with a very small location parameter."
     ]
    },
    {
     "cell_type": "markdown",
     "metadata": {},
     "source": [
      "#There's More"
     ]
    },
    {
     "cell_type": "markdown",
     "metadata": {},
     "source": [
      "Like I mentioned earlier, there's also a Bayesian interpretation of LASSO regression.  Imagine we set priors over the coefficients, they are random numbers themselves mind you.  For LASSO regression, we would choose a prior that naturally produces 0s, for example, the double exponentional."
     ]
    },
    {
     "cell_type": "code",
     "collapsed": false,
     "input": [
      "import matplotlib.pyplot as plt\n",
      "%matplotlib inline\n",
      "\n",
      "from scipy.stats import laplace\n",
      "import numpy as np\n",
      "\n",
      "form = lambda x, y: \"loc={}, scale={}\".format(x, y)\n",
      "g = lambda x: laplace.pdf(x)\n",
      "rng = np.linspace(-5, 5)"
     ],
     "language": "python",
     "metadata": {},
     "outputs": [],
     "prompt_number": 10
    },
    {
     "cell_type": "code",
     "collapsed": false,
     "input": [
      "f, ax = plt.subplots(figsize=(8, 5))\n",
      "\n",
      "ax.plot(rng, map(g, rng), color='r')\n",
      "ax.set_title(\"Example of Double Exponential Distribution\")\n",
      "f.savefig(\"DoubleExp.png\")"
     ],
     "language": "python",
     "metadata": {},
     "outputs": [
      {
       "metadata": {},
       "output_type": "display_data",
       "png": "[encoded data removed]",
       "text": [
        "<matplotlib.figure.Figure at 0x1081ceb10>"
       ]
      }
     ],
     "prompt_number": 11
    },
    {
     "cell_type": "markdown",
     "metadata": {},
     "source": [
      "Notice the peakedness around 0.  This will naturally lead to the zero coefficients in LASSO regression.  By tuning the hyper parameters it's also possible to create 0 coefficients more or less likely depending on the setup of the problem."
     ]
    }
   ],
   "metadata": {}
  }
 ]
}