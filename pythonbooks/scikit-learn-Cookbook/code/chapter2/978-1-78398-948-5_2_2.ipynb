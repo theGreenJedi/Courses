{
 "metadata": {
  "name": "",
  "signature": "sha256:a866a003a0979a481bd34d98bea4f12a4144d9300ef529b7139288b3fa1c9331"
 },
 "nbformat": 3,
 "nbformat_minor": 0,
 "worksheets": [
  {
   "cells": [
    {
     "cell_type": "markdown",
     "metadata": {},
     "source": [
      "#Getting Ready\n",
      "\n",
      "In this recipe we'll look at how well our regression fits the underlying data.  Fit a regression in the last chapter but didn't pay much attention to how we'll we actually did.  So let's use the `lr` object and the boston dataset."
     ]
    },
    {
     "cell_type": "markdown",
     "metadata": {},
     "source": [
      "#How to do it\n",
      "\n",
      "There are some very simple metrics we can look at, and there are some plot's we'll want to look at as well.  Let's take another look at the residuals plot from the last chapter."
     ]
    },
    {
     "cell_type": "code",
     "collapsed": false,
     "input": [
      "## Don't show\n",
      "\n",
      "from sklearn import datasets\n",
      "boston = datasets.load_boston()\n",
      "from sklearn.linear_model import LinearRegression\n",
      "lr = LinearRegression()\n",
      "lr.fit(boston.data, boston.target)\n",
      "predictions = lr.predict(boston.data)"
     ],
     "language": "python",
     "metadata": {},
     "outputs": [],
     "prompt_number": 1
    },
    {
     "cell_type": "code",
     "collapsed": false,
     "input": [
      "### SHOW\n",
      "\n",
      "%matplotlib inline\n",
      "\n",
      "import matplotlib.pyplot as plt\n",
      "import numpy as np\n",
      "\n",
      "f = plt.figure(figsize=(7, 5))\n",
      "ax = f.add_subplot(111)\n",
      "ax.hist(boston.target - predictions, bins=50)\n",
      "ax.set_title(\"Histogram of Residuals.\")\n",
      "\n",
      "f.savefig(\"Residuals2.png\")"
     ],
     "language": "python",
     "metadata": {},
     "outputs": [
      {
       "metadata": {},
       "output_type": "display_data",
       "png": "[encoded data removed]",
       "text": [
        "<matplotlib.figure.Figure at 0x1071e1510>"
       ]
      }
     ],
     "prompt_number": 2
    },
    {
     "cell_type": "markdown",
     "metadata": {},
     "source": [
      "Like I mentioned last time the error terms should be Normal, with mean 0.  The residuals are the errors, therefore this plot should be approximately normal.  Visually, it's a good fit, if a bit skewed.  We can also look at the mean of the residuals, which should be very close to 0."
     ]
    },
    {
     "cell_type": "code",
     "collapsed": false,
     "input": [
      "np.mean(boston.target - predictions)"
     ],
     "language": "python",
     "metadata": {},
     "outputs": [
      {
       "metadata": {},
       "output_type": "pyout",
       "prompt_number": 3,
       "text": [
        "9.7734732033405089e-15"
       ]
      }
     ],
     "prompt_number": 3
    },
    {
     "cell_type": "markdown",
     "metadata": {},
     "source": [
      "Clearly very close.\n",
      "\n",
      "Another plot worth looking at is a Q-Q plot.  We'll use Scipy here, because it has a built in probability plot."
     ]
    },
    {
     "cell_type": "code",
     "collapsed": false,
     "input": [
      "from scipy.stats import probplot"
     ],
     "language": "python",
     "metadata": {},
     "outputs": [],
     "prompt_number": 4
    },
    {
     "cell_type": "code",
     "collapsed": false,
     "input": [
      "f = plt.figure(figsize=(7, 5))\n",
      "ax = f.add_subplot(111)\n",
      "probplot(boston.target - predictions, plot=ax);\n",
      "f.savefig(\"qqplot.png\")"
     ],
     "language": "python",
     "metadata": {},
     "outputs": [
      {
       "metadata": {},
       "output_type": "display_data",
       "png": "[encoded data removed]",
       "text": [
        "<matplotlib.figure.Figure at 0x10805d810>"
       ]
      }
     ],
     "prompt_number": 5
    },
    {
     "cell_type": "markdown",
     "metadata": {},
     "source": [
      "It's a little clearer here the skewed values we saw earlier.\n",
      "\n",
      "We can also look at some other metrics of the fit.  MSE and MAD are two common metrics.  Let's define each one in python, and use them.  Later in the book we'll look at how Sci-Kit Learn has built in metrics for evaluating the regression models."
     ]
    },
    {
     "cell_type": "code",
     "collapsed": false,
     "input": [
      "def MSE(target, predictions):\n",
      "    squared_deviation = np.power(target - predictions, 2)\n",
      "    return np.mean(squared_deviation)\n",
      "\n",
      "MSE(boston.target, predictions)"
     ],
     "language": "python",
     "metadata": {},
     "outputs": [
      {
       "metadata": {},
       "output_type": "pyout",
       "prompt_number": 6,
       "text": [
        "21.8977792176875"
       ]
      }
     ],
     "prompt_number": 6
    },
    {
     "cell_type": "code",
     "collapsed": false,
     "input": [
      "def MAD(target, predictions):\n",
      "    absolute_deviation = np.abs(target - predictions)\n",
      "    return np.mean(absolute_deviation)\n",
      "\n",
      "MAD(boston.target, predictions)"
     ],
     "language": "python",
     "metadata": {},
     "outputs": [
      {
       "metadata": {},
       "output_type": "pyout",
       "prompt_number": 7,
       "text": [
        "3.2729446379969369"
       ]
      }
     ],
     "prompt_number": 7
    },
    {
     "cell_type": "markdown",
     "metadata": {},
     "source": [
      "#How it works\n",
      "\n",
      "MSE stands for mean squared error.  The formula is very simple.\n",
      "\n",
      "$$ E(\\hat{y}_i - y_i)^2 $$\n",
      "\n",
      "It takes each predicted value's deviance from the actual value, then squares it, then averages all the squared terms.  This is actually what we were optimizing for finding the best set of coefficients for the Linear Regression.  The Gauss-Markov theroem actually guarnettes that the solution to the Linear Regression is the best, in the sense the coefficients have the smallest expected squared error and are unbiased.  In the Ridge Regression section we'll look at what happens when we're ok with our coefficients being biased.\n",
      "\n",
      "MAD stands for mean absolute deviation.  This is the expected error for the absolute errors, or\n",
      "\n",
      "$$ E(|\\hat{y}_i - y_i|) $$\n",
      "\n",
      "We weren't optimizing for MAD when using fitting the Regression, but it's worthwhile to look it.  Why?  Think about about what each one is doing, and which errors are more important in each case.  For example, with MSE the larger errors get penelized more than other terms because of the square term."
     ]
    },
    {
     "cell_type": "markdown",
     "metadata": {},
     "source": [
      "#There's more\n",
      "\n"
     ]
    },
    {
     "cell_type": "markdown",
     "metadata": {},
     "source": [
      "One thing that's been glossed over a bit, is the fact that the coefficients themselves are random variables.  Therefore they have a distribution.  Let's use bootstrapping to look at the distribution of the coefficient for the crime rate.  Bootstrapping is a very common technique to get an understanding for the uncertainty of an estimate."
     ]
    },
    {
     "cell_type": "code",
     "collapsed": false,
     "input": [
      "n_bootstraps = 1000\n",
      "len_boston = len(boston.target)\n",
      "subsample_size = np.int(0.5*len_boston)\n",
      "subsample = lambda: np.random.choice(np.arange(0, len_boston), size=subsample_size)"
     ],
     "language": "python",
     "metadata": {},
     "outputs": [],
     "prompt_number": 8
    },
    {
     "cell_type": "code",
     "collapsed": false,
     "input": [
      "coefs = np.ones(n_bootstraps)\n",
      "\n",
      "for i in range(n_bootstraps):\n",
      "    subsample_idx = subsample()\n",
      "    subsample_X = boston.data[subsample_idx]\n",
      "    subsample_y = boston.target[subsample_idx]\n",
      "    \n",
      "    lr.fit(subsample_X, subsample_y)\n",
      "    \n",
      "    coefs[i] = lr.coef_[0]"
     ],
     "language": "python",
     "metadata": {},
     "outputs": [],
     "prompt_number": 9
    },
    {
     "cell_type": "markdown",
     "metadata": {},
     "source": [
      "Now we can look at the distribution of the coefficient."
     ]
    },
    {
     "cell_type": "code",
     "collapsed": false,
     "input": [
      "### SHOW\n",
      "\n",
      "%matplotlib inline\n",
      "import matplotlib.pyplot as plt\n",
      "f = plt.figure(figsize=(7, 5))\n",
      "ax = f.add_subplot(111)\n",
      "ax.hist(coefs, bins=50)\n",
      "ax.set_title(\"Histogram of the lr.coef_[0].\")\n",
      "f.savefig(\"Histo of Coefs.png\")"
     ],
     "language": "python",
     "metadata": {},
     "outputs": [
      {
       "metadata": {},
       "output_type": "display_data",
       "png": "[encoded data removed]",
       "text": [
        "<matplotlib.figure.Figure at 0x1072ba890>"
       ]
      }
     ],
     "prompt_number": 10
    },
    {
     "cell_type": "markdown",
     "metadata": {},
     "source": [
      "We also might want to look at the bootstrapped confidience interval."
     ]
    },
    {
     "cell_type": "code",
     "collapsed": false,
     "input": [
      "np.percentile(coefs, [2.5, 97.5])"
     ],
     "language": "python",
     "metadata": {},
     "outputs": [
      {
       "metadata": {},
       "output_type": "pyout",
       "prompt_number": 11,
       "text": [
        "array([-0.18311657,  0.05284249])"
       ]
      }
     ],
     "prompt_number": 11
    },
    {
     "cell_type": "markdown",
     "metadata": {},
     "source": [
      "This is interesting, there's actually reason to believe that the crime rate may not actually have an impact on the home prices.  Notice how zero is within the CI, meaning that it may not play a role.\n",
      "\n",
      "It's also worth pointing out that bootstrap can lead to potentially better estimation for coefficients because in the limit the bootstrapped mean with converge to the true mean faster than the coefficient found using regular estimation."
     ]
    }
   ],
   "metadata": {}
  }
 ]
}