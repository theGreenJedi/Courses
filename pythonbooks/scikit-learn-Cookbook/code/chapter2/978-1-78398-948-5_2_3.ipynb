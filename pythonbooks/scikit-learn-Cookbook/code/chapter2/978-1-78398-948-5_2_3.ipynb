{
 "metadata": {
  "name": "",
  "signature": "sha256:e3135658b03d6c487c1768dad47d8e563707261bf53eb753239a9d084cb03028"
 },
 "nbformat": 3,
 "nbformat_minor": 0,
 "worksheets": [
  {
   "cells": [
    {
     "cell_type": "code",
     "collapsed": false,
     "input": [
      "## Don't show\n",
      "def MSE(target, predictions):\n",
      "    squared_deviation = np.power(target - predictions, 2)\n",
      "    return np.mean(squared_deviation)\n",
      "\n",
      "def MAD(target, predictions):\n",
      "    absolute_deviation = np.abs(target - predictions)\n",
      "    return np.mean(absolute_deviation)"
     ],
     "language": "python",
     "metadata": {},
     "outputs": [],
     "prompt_number": 1
    },
    {
     "cell_type": "markdown",
     "metadata": {},
     "source": [
      "#Getting Started\n",
      "\n",
      "In this recipe we'll learn about Ridge Regression.  It is different than vanilla Linear Regression in that it introduces an a regularization parameter to \"shrink\" the coefficients.  This is useful when the data set may have colinear factors.  Let's load a dataset that has a low effective rank and compare Ridge Regression with Linear Regression by way of the coefficients."
     ]
    },
    {
     "cell_type": "markdown",
     "metadata": {},
     "source": [
      "#How to do it\n",
      "\n",
      "First use `make_regression` to create a simple dataset with 3 predictors, but an effective rank of 2."
     ]
    },
    {
     "cell_type": "code",
     "collapsed": false,
     "input": [
      "from sklearn.datasets import make_regression\n",
      "reg_data, reg_target = make_regression(n_samples=2000, n_features=3, effective_rank=2, noise=10) #what happens w/o noise?"
     ],
     "language": "python",
     "metadata": {},
     "outputs": [],
     "prompt_number": 2
    },
    {
     "cell_type": "markdown",
     "metadata": {},
     "source": [
      "First regular Linear Regression."
     ]
    },
    {
     "cell_type": "code",
     "collapsed": false,
     "input": [
      "from sklearn.linear_model import LinearRegression, Ridge\n",
      "lr = LinearRegression()"
     ],
     "language": "python",
     "metadata": {},
     "outputs": [],
     "prompt_number": 3
    },
    {
     "cell_type": "markdown",
     "metadata": {},
     "source": [
      "Let's bootstrap the coefficients similarly to the last recipe."
     ]
    },
    {
     "cell_type": "code",
     "collapsed": false,
     "input": [
      "import numpy as np"
     ],
     "language": "python",
     "metadata": {},
     "outputs": [],
     "prompt_number": 4
    },
    {
     "cell_type": "code",
     "collapsed": false,
     "input": [
      "n_bootstraps = 1000\n",
      "len_data = len(reg_data)\n",
      "subsample_size = np.int(0.75*len_data)\n",
      "subsample = lambda: np.random.choice(np.arange(0, len_data), size=subsample_size)\n",
      "\n",
      "coefs = np.ones((n_bootstraps, 3))\n",
      "\n",
      "for i in range(n_bootstraps):\n",
      "    subsample_idx = subsample()\n",
      "    subsample_X = reg_data[subsample_idx]\n",
      "    subsample_y = reg_target[subsample_idx]\n",
      "    \n",
      "    lr.fit(subsample_X, subsample_y)\n",
      "    \n",
      "    coefs[i][0] = lr.coef_[0]\n",
      "    coefs[i][1] = lr.coef_[1]\n",
      "    coefs[i][2] = lr.coef_[2]"
     ],
     "language": "python",
     "metadata": {},
     "outputs": [],
     "prompt_number": 5
    },
    {
     "cell_type": "markdown",
     "metadata": {},
     "source": [
      "Now let's look at the distributions of the coefficients."
     ]
    },
    {
     "cell_type": "code",
     "collapsed": false,
     "input": [
      "### Don't show\n",
      "\n",
      "%matplotlib inline\n",
      "import matplotlib.pyplot as plt\n",
      "f, axes = plt.subplots(nrows=3, sharey=True, sharex=True, figsize=(7, 5))\n",
      "f.tight_layout()\n",
      "\n",
      "for i, ax in enumerate(axes):\n",
      "    ax.hist(coefs[:, i])\n",
      "    ax.set_title(\"Coef {}\".format(i))\n",
      "    \n",
      "f.savefig(\"RR_LinearCoefs.png\")"
     ],
     "language": "python",
     "metadata": {},
     "outputs": [
      {
       "metadata": {},
       "output_type": "display_data",
       "png": "[encoded data removed]",
       "text": [
        "<matplotlib.figure.Figure at 0x1071e9a10>"
       ]
      }
     ],
     "prompt_number": 6
    },
    {
     "cell_type": "markdown",
     "metadata": {},
     "source": [
      "Follow the same procedure with Ridge, and have a look at the output."
     ]
    },
    {
     "cell_type": "code",
     "collapsed": false,
     "input": [
      "r = Ridge()"
     ],
     "language": "python",
     "metadata": {},
     "outputs": [],
     "prompt_number": 7
    },
    {
     "cell_type": "code",
     "collapsed": false,
     "input": [
      "# don't show\n",
      "n_bootstraps = 1000\n",
      "len_data = len(reg_data)\n",
      "subsample_size = np.int(0.75*len_data)\n",
      "subsample = lambda: np.random.choice(np.arange(0, len_data), size=subsample_size)\n",
      "\n",
      "coefs_r = np.ones((n_bootstraps, 3))"
     ],
     "language": "python",
     "metadata": {},
     "outputs": [],
     "prompt_number": 8
    },
    {
     "cell_type": "code",
     "collapsed": false,
     "input": [
      "for i in range(n_bootstraps):\n",
      "    subsample_idx = subsample()\n",
      "    subsample_X = reg_data[subsample_idx]\n",
      "    subsample_y = reg_target[subsample_idx]\n",
      "    \n",
      "    r.fit(subsample_X, subsample_y)\n",
      "    \n",
      "    coefs_r[i][0] = r.coef_[0]\n",
      "    coefs_r[i][1] = r.coef_[1]\n",
      "    coefs_r[i][2] = r.coef_[2]"
     ],
     "language": "python",
     "metadata": {},
     "outputs": [],
     "prompt_number": 10
    },
    {
     "cell_type": "code",
     "collapsed": false,
     "input": [
      "### Don't show\n",
      "\n",
      "%matplotlib inline\n",
      "import matplotlib.pyplot as plt\n",
      "f, axes = plt.subplots(nrows=3, sharey=True, sharex=True, figsize=(7, 5))\n",
      "f.tight_layout()\n",
      "\n",
      "for i, ax in enumerate(axes):\n",
      "    ax.hist(coefs_r[:, i])\n",
      "    ax.set_title(\"Coef {}\".format(i))\n",
      "\n",
      "f.savefig(\"RR_Ridge_coefs.png\")"
     ],
     "language": "python",
     "metadata": {},
     "outputs": [
      {
       "metadata": {},
       "output_type": "display_data",
       "png": "[encoded data removed]",
       "text": [
        "<matplotlib.figure.Figure at 0x106e6d790>"
       ]
      }
     ],
     "prompt_number": 11
    },
    {
     "cell_type": "markdown",
     "metadata": {},
     "source": [
      "Don't let the the similar width of the plots fool you, the coefficients for the ridge regression are much closer to 0.  Let's look at the average spread between the coefficients."
     ]
    },
    {
     "cell_type": "code",
     "collapsed": true,
     "input": [
      "np.mean(coefs - coefs_r, axis=0)"
     ],
     "language": "python",
     "metadata": {},
     "outputs": [
      {
       "metadata": {},
       "output_type": "pyout",
       "prompt_number": 12,
       "text": [
        "array([ 39.65981445,   2.49829649,  84.03357735])"
       ]
      }
     ],
     "prompt_number": 12
    },
    {
     "cell_type": "markdown",
     "metadata": {},
     "source": [
      "So on average the coefficients for Linear Regression are much higher than the Ridge Regression coefficients.  That difference is the bias in the coefficients (forgetting for a second the potential bias of the Linear Regression coefficients).  So then what is the advantage of Ridge Regression, well let's look at the varience of our coefficients."
     ]
    },
    {
     "cell_type": "code",
     "collapsed": false,
     "input": [
      "np.var(coefs, axis=0)"
     ],
     "language": "python",
     "metadata": {},
     "outputs": [
      {
       "metadata": {},
       "output_type": "pyout",
       "prompt_number": 13,
       "text": [
        "array([ 176.26426683,  151.88628855,  275.86332216])"
       ]
      }
     ],
     "prompt_number": 13
    },
    {
     "cell_type": "code",
     "collapsed": false,
     "input": [
      "np.var(coefs_r, axis=0)"
     ],
     "language": "python",
     "metadata": {},
     "outputs": [
      {
       "metadata": {},
       "output_type": "pyout",
       "prompt_number": 14,
       "text": [
        "array([ 23.4020216 ,  24.6986372 ,  17.97334275])"
       ]
      }
     ],
     "prompt_number": 14
    },
    {
     "cell_type": "markdown",
     "metadata": {},
     "source": [
      "The variance has been dramatically reduced.  This is the bias-variance trade-off which is so often discussed in Machine Learning.  The next recipe will introduce how to tune the regularization parameter in Ridge Regression which is at the heart of this trade-off."
     ]
    },
    {
     "cell_type": "markdown",
     "metadata": {},
     "source": [
      "#How it works"
     ]
    },
    {
     "cell_type": "markdown",
     "metadata": {},
     "source": [
      "Speaking of the regularization parameter, let's go through how Ridge Regression differs from Linear Regression.  As was already show, Linear Regression works, but finding the vector of Betas that minimizes\n",
      "\n",
      "$$\\|\\hat{y} - X\\beta\\|^2$$\n",
      "\n",
      "Ridge Regression fins the vector of Betas that minimizes\n",
      "\n",
      "$$\\|\\hat{y} - X\\beta\\|^2 + \\|\\Gamma X\\|^2$$\n",
      "\n",
      "Where $\\Gamma$ is typically $\\alpha I$, or some scaler times the identity matrix.  We actually used the default alpha when initializing the Ridge Regression."
     ]
    },
    {
     "cell_type": "code",
     "collapsed": false,
     "input": [
      "r #notice the alpha parameter"
     ],
     "language": "python",
     "metadata": {},
     "outputs": [
      {
       "metadata": {},
       "output_type": "pyout",
       "prompt_number": 15,
       "text": [
        "Ridge(alpha=1.0, copy_X=True, fit_intercept=True, max_iter=None,\n",
        "   normalize=False, solver='auto', tol=0.001)"
       ]
      }
     ],
     "prompt_number": 15
    },
    {
     "cell_type": "markdown",
     "metadata": {},
     "source": [
      "This minimization has the solution\n",
      "\n",
      "$$ \\beta = (X^T X + \\Gamma^T \\Gamma)^{-1} X y $$\n",
      "\n",
      "Which is the same as Linear Regression, except for the $\\Gamma^T \\Gamma$ term.  For a matrix, $A$, $A^T A$ is symmetric and thus positive semi definite.  So thinking about the translation of matrix algebra from scaler algetra, we're effectivly dividing by a larger number.  Muliplication by an inverse is analgous to division.  So this is what is squeezing the coefficients towards 0.  That's a bit of a crude explaination, for a better explaination you should look at the connections between SVD and Ridge Regression."
     ]
    }
   ],
   "metadata": {}
  }
 ]
}