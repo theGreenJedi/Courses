{
 "metadata": {
  "name": "",
  "signature": "sha256:e380764895c25d979a8e0b22ab380d3a0ed6e31261d8bf16f295cc591bcc5c29"
 },
 "nbformat": 3,
 "nbformat_minor": 0,
 "worksheets": [
  {
   "cells": [
    {
     "cell_type": "code",
     "collapsed": false,
     "input": [
      "%matplotlib inline"
     ],
     "language": "python",
     "metadata": {},
     "outputs": [],
     "prompt_number": 1
    },
    {
     "cell_type": "markdown",
     "metadata": {},
     "source": [
      "In this chapter we're going to introduce grid search with basic python, though we will use sklearn for the models and matplotlib for the visualization.  Therefore, in this chapter we will."
     ]
    },
    {
     "cell_type": "markdown",
     "metadata": {},
     "source": [
      "# Getting Ready"
     ]
    },
    {
     "cell_type": "markdown",
     "metadata": {},
     "source": [
      "Therefore, in this chapter we will.\n",
      "\n",
      "1. Design a basic search grid in the parameter space.\n",
      "2. Iterate through it and check the the loss/score function at each point in the parameter space for the dataset.\n",
      "3. Choose the point in the parameter space that minimizes/maximizes the evaluation function.\n",
      "\n",
      "Also the model we'll fit is a basic descision tree classifier.  Our parameter space will be 2 dimensional to help with the visualization.\n",
      "\n",
      "$$\n",
      "\\text{criteria} = \\{\\text{gini}, \\text{entropy}\\}\n",
      "$$\n",
      "\n",
      "$$\n",
      "\\text{max_features} = \\{\\text{auto}, \\text{log2}, \\text{None}\\}\n",
      "$$\n",
      "\n",
      "How parameter space will then be the cartesian product of the those two sets.\n",
      "\n",
      "$$\n",
      "\\text{parameter space} = \\text{criteria} \\times \\text{max_features}\n",
      "$$\n",
      "\n",
      "We'll see in a bit how we can iterate through this space with itertools.\n",
      "\n",
      "\n",
      "Let's create the dataset then get started."
     ]
    },
    {
     "cell_type": "code",
     "collapsed": false,
     "input": [
      "from sklearn import datasets"
     ],
     "language": "python",
     "metadata": {},
     "outputs": [],
     "prompt_number": 2
    },
    {
     "cell_type": "code",
     "collapsed": false,
     "input": [
      "X, y = datasets.make_classification(n_samples=2000, n_features=10)"
     ],
     "language": "python",
     "metadata": {},
     "outputs": [],
     "prompt_number": 3
    },
    {
     "cell_type": "markdown",
     "metadata": {},
     "source": [
      "# How to do it"
     ]
    },
    {
     "cell_type": "markdown",
     "metadata": {},
     "source": [
      "1. Earlier we said that we'd use grid search to tune two parameters - `crietria` and `max_features`.  We need to represent those as python sets, then use itertools product to iterate through them."
     ]
    },
    {
     "cell_type": "code",
     "collapsed": false,
     "input": [
      "criteria = {'gini', 'entropy'}\n",
      "max_features = {'auto', 'log2', None}\n",
      "\n",
      "import itertools as it\n",
      "\n",
      "# one thing to remember is that product returns an in iterator so\n",
      "# if you use it, you use it up.  yields can be very useful,\n",
      "# but if you're not used to them, they can trick you\n",
      "parameter_space = it.product(criteria, max_features)"
     ],
     "language": "python",
     "metadata": {},
     "outputs": [],
     "prompt_number": 4
    },
    {
     "cell_type": "markdown",
     "metadata": {},
     "source": [
      "2. Great, so now that we have the parameter space, let's iterate through it and check the accuracy of each model as specified by the parameters.  Then, we'll store that accuracy so we can compare different parameter spaces.  We'll also use a test and train split of 50, 50."
     ]
    },
    {
     "cell_type": "code",
     "collapsed": false,
     "input": [
      "import numpy as np\n",
      "train_set = np.random.choice([True, False], size=len(y))"
     ],
     "language": "python",
     "metadata": {},
     "outputs": [],
     "prompt_number": 5
    },
    {
     "cell_type": "code",
     "collapsed": false,
     "input": [
      "from sklearn.tree import DecisionTreeClassifier"
     ],
     "language": "python",
     "metadata": {},
     "outputs": [],
     "prompt_number": 6
    },
    {
     "cell_type": "code",
     "collapsed": false,
     "input": [
      "accuracies = {}\n",
      "\n",
      "for criterion, max_feature in parameter_space:\n",
      "    dt = DecisionTreeClassifier(criterion=criterion, max_features=max_feature)\n",
      "    \n",
      "    dt.fit(X[train_set], y[train_set])\n",
      "    \n",
      "    accuracies[(criterion, max_feature)] = (dt.predict(X[~train_set]) == y[~train_set]).mean()"
     ],
     "language": "python",
     "metadata": {},
     "outputs": [],
     "prompt_number": 7
    },
    {
     "cell_type": "code",
     "collapsed": false,
     "input": [
      "accuracies"
     ],
     "language": "python",
     "metadata": {},
     "outputs": [
      {
       "metadata": {},
       "output_type": "pyout",
       "prompt_number": 8,
       "text": [
        "{('entropy', None): 0.974609375,\n",
        " ('entropy', 'auto'): 0.9736328125,\n",
        " ('entropy', 'log2'): 0.962890625,\n",
        " ('gini', None): 0.9677734375,\n",
        " ('gini', 'auto'): 0.9638671875,\n",
        " ('gini', 'log2'): 0.96875}"
       ]
      }
     ],
     "prompt_number": 8
    },
    {
     "cell_type": "markdown",
     "metadata": {},
     "source": [
      "Great, so we now that the accuracies for each model.  Let's visualize the performance."
     ]
    },
    {
     "cell_type": "code",
     "collapsed": false,
     "input": [
      "from matplotlib import pyplot as plt"
     ],
     "language": "python",
     "metadata": {},
     "outputs": [],
     "prompt_number": 9
    },
    {
     "cell_type": "code",
     "collapsed": false,
     "input": [
      "from matplotlib import cm\n",
      "cmap = cm.RdBu_r\n",
      "\n",
      "f, ax = plt.subplots(figsize=(7, 4))\n",
      "\n",
      "ax.set_xticklabels([''] + list(criteria))\n",
      "ax.set_yticklabels([''] + list(max_features))\n",
      "\n",
      "plot_array = []\n",
      "\n",
      "\n",
      "for max_feature in max_features:\n",
      "    \n",
      "    m = []\n",
      "    for criterion in criteria:\n",
      "        \n",
      "        m.append(accuracies[(criterion, max_feature)])\n",
      "        \n",
      "    plot_array.append(m)\n",
      "\n",
      "colors = ax.matshow(plot_array,\n",
      "                    vmin=np.min(accuracies.values()) - 0.001,\n",
      "                    vmax=np.max(accuracies.values()) + 0.001,\n",
      "                    cmap=cmap)\n",
      "f.colorbar(colors)\n",
      "\n",
      "f.savefig(\"978-1-78398-948-5_06_02.png\")"
     ],
     "language": "python",
     "metadata": {},
     "outputs": [
      {
       "metadata": {},
       "output_type": "display_data",
       "png": "[encoded data removed]",
       "text": [
        "<matplotlib.figure.Figure at 0x10756c7d0>"
       ]
      }
     ],
     "prompt_number": 12
    },
    {
     "cell_type": "markdown",
     "metadata": {},
     "source": [
      "It's fairly easy to see which one performed best here.  Hopefully you can see how this process can be taken to the further with a brute force method."
     ]
    },
    {
     "cell_type": "markdown",
     "metadata": {},
     "source": [
      "# How it works"
     ]
    },
    {
     "cell_type": "markdown",
     "metadata": {},
     "source": [
      "This works fairly simply, we have just:\n",
      "\n",
      "1. Chosen a set of parameters\n",
      "2. Iterated through them, and finding the accuracy of the each step\n",
      "3. Found the best by visual inspection."
     ]
    }
   ],
   "metadata": {}
  }
 ]
}