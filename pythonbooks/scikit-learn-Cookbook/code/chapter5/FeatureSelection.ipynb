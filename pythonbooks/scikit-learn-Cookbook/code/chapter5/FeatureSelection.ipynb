{
 "metadata": {
  "name": "",
  "signature": "sha256:daa57e8117e93a89b70779a1f8469639f2c984796d6d9707e3e4f10f923627f3"
 },
 "nbformat": 3,
 "nbformat_minor": 0,
 "worksheets": [
  {
   "cells": [
    {
     "cell_type": "code",
     "collapsed": false,
     "input": [
      "%matplotlib inline"
     ],
     "language": "python",
     "metadata": {},
     "outputs": [],
     "prompt_number": 1
    },
    {
     "cell_type": "markdown",
     "metadata": {},
     "source": [
      "This recipe along with the two following it will be centered around automatic feature selection.  I like to think of this as the feature version of parameter tuning.  In the same way that we cross validate to find an appropriately general parameter we can find an appropriately general subset of features.  This will involve several different methods.\n",
      "\n",
      "The simplest idea is univariate selection.  The other methods involve working with a combination of features.  We've seen some of these techniques when we discussed lasso regression.\n",
      "\n",
      "And added benefit to feature selection is that it can ease the burden on the data collection.  Imagine that you have built a model on a very small subset of the data.  If all goes well you might want to scale up to predict the model on the entire subset of data.  If this is the case you can ease the engineering effort of data collection at that scale."
     ]
    },
    {
     "cell_type": "markdown",
     "metadata": {},
     "source": [
      "# Getting Ready"
     ]
    },
    {
     "cell_type": "markdown",
     "metadata": {},
     "source": [
      "With univariate feature selection scoring functions will come to the forefront again.  This time they will define the comparable measure by which we can eliminate features.\n",
      "\n",
      "In this recipe we'll fit a regression model with a few 10000 features, but only 1000 points.  We'll walk through the various univariate feature selection methods."
     ]
    },
    {
     "cell_type": "code",
     "collapsed": false,
     "input": [
      "from sklearn import datasets\n",
      "X, y = datasets.make_regression(1000, 10000)"
     ],
     "language": "python",
     "metadata": {},
     "outputs": [],
     "prompt_number": 3
    },
    {
     "cell_type": "markdown",
     "metadata": {},
     "source": [
      "Now that we have the data we will compare the features that are included with the various methods.  This is actually a very common situation when you're dealing in text analysis or some areas of bioinformatics."
     ]
    },
    {
     "cell_type": "markdown",
     "metadata": {},
     "source": [
      "# How to do it"
     ]
    },
    {
     "cell_type": "markdown",
     "metadata": {},
     "source": [
      "First, we need to import the `feature_selection` module."
     ]
    },
    {
     "cell_type": "code",
     "collapsed": false,
     "input": [
      "from sklearn import feature_selection\n",
      "f, p = feature_selection.f_regression(X, y)"
     ],
     "language": "python",
     "metadata": {},
     "outputs": [],
     "prompt_number": 4
    },
    {
     "cell_type": "markdown",
     "metadata": {},
     "source": [
      "f is the f-score associated with each linear model fit with just one of the features.  We can then compare these features and based on that comparison we can cull features.  `p` is also the $p$ value associated with that f value."
     ]
    },
    {
     "cell_type": "code",
     "collapsed": false,
     "input": [
      "f[:5]"
     ],
     "language": "python",
     "metadata": {},
     "outputs": [
      {
       "metadata": {},
       "output_type": "pyout",
       "prompt_number": 5,
       "text": [
        "array([  1.06271357e-03,   2.91136869e+00,   1.01886922e+00,\n",
        "         2.22483130e+00,   4.67624756e-01])"
       ]
      }
     ],
     "prompt_number": 5
    },
    {
     "cell_type": "code",
     "collapsed": false,
     "input": [
      "p[:5]"
     ],
     "language": "python",
     "metadata": {},
     "outputs": [
      {
       "metadata": {},
       "output_type": "pyout",
       "prompt_number": 6,
       "text": [
        "array([ 0.97400066,  0.08826831,  0.31303204,  0.1361235 ,  0.49424067])"
       ]
      }
     ],
     "prompt_number": 6
    },
    {
     "cell_type": "markdown",
     "metadata": {},
     "source": [
      "As we can see many of the p-values are quite large.  We would rather that the p values be quite small.  So we can grab numpy out of our tool box and choose all the pvalues less than .05.  These will be the features we'll use for the analysis."
     ]
    },
    {
     "cell_type": "code",
     "collapsed": false,
     "input": [
      "import numpy as np\n",
      "idx = np.arange(0, X.shape[1])\n",
      "features_to_keep = idx[p < .05]\n",
      "len(features_to_keep)"
     ],
     "language": "python",
     "metadata": {},
     "outputs": [
      {
       "metadata": {},
       "output_type": "pyout",
       "prompt_number": 7,
       "text": [
        "501"
       ]
      }
     ],
     "prompt_number": 7
    },
    {
     "cell_type": "markdown",
     "metadata": {},
     "source": [
      "As you can see we're actually keeping a relatively large amount of features.  Depending on the context of the model we can tighten this pvalue.  This will lessen the number of features kept.\n",
      "\n",
      "Another option using the `VarianceThreshold` object.  We've talked a bit about it, but it's important to understand that our ability to fit models is largely based on the variance created by features.  If there is no variance then our features cannot describe the variation in the depdentdent variable.  A nice feature of this, per the documentation, is that because it does not use the outcome variable it can be used for unsupervised cases.\n",
      "\n",
      "We will need to set the threshold for which we eliminate features.  In order to do that that we just take the median of the feature variances, and supply that."
     ]
    },
    {
     "cell_type": "code",
     "collapsed": false,
     "input": [
      "var_threshold = feature_selection.VarianceThreshold(np.median(np.var(X, axis=1)))"
     ],
     "language": "python",
     "metadata": {},
     "outputs": [],
     "prompt_number": 8
    },
    {
     "cell_type": "code",
     "collapsed": false,
     "input": [
      "var_threshold.fit_transform(X).shape"
     ],
     "language": "python",
     "metadata": {},
     "outputs": [
      {
       "metadata": {},
       "output_type": "pyout",
       "prompt_number": 9,
       "text": [
        "(1000, 4835)"
       ]
      }
     ],
     "prompt_number": 9
    },
    {
     "cell_type": "markdown",
     "metadata": {},
     "source": [
      "As we can see, we elimated roughly half the features, more or less what we would expect."
     ]
    },
    {
     "cell_type": "markdown",
     "metadata": {},
     "source": [
      "# How it works"
     ]
    },
    {
     "cell_type": "markdown",
     "metadata": {},
     "source": [
      "In general all these methods work by fitting a basic model with a single feature.  Dependending on if we have a classification problem or a regression problem we can use the appropriate scoreing function.\n",
      "\n",
      "Let's look at a smaller problem and visualize how feature selection will elimate certain features.  We'll use the same scoring function from the first example, but just 20 features."
     ]
    },
    {
     "cell_type": "code",
     "collapsed": false,
     "input": [
      "X, y = datasets.make_regression(10000, 20)"
     ],
     "language": "python",
     "metadata": {},
     "outputs": [],
     "prompt_number": 10
    },
    {
     "cell_type": "code",
     "collapsed": false,
     "input": [
      "f, p = feature_selection.f_regression(X, y)"
     ],
     "language": "python",
     "metadata": {},
     "outputs": [],
     "prompt_number": 11
    },
    {
     "cell_type": "markdown",
     "metadata": {},
     "source": [
      "Now let's plot the p values of the features, we can see which feature would be eliminated and which would be kept."
     ]
    },
    {
     "cell_type": "code",
     "collapsed": false,
     "input": [
      "from matplotlib import pyplot as plt"
     ],
     "language": "python",
     "metadata": {},
     "outputs": [],
     "prompt_number": 12
    },
    {
     "cell_type": "code",
     "collapsed": false,
     "input": [
      "f, ax = plt.subplots(figsize=(7, 5))\n",
      "\n",
      "ax.bar(np.arange(20), p, color='k')\n",
      "ax.set_title(\"Feature p values\")\n",
      "\n",
      "f.savefig(\"978-1-78398-948-5_06_05.png\")"
     ],
     "language": "python",
     "metadata": {},
     "outputs": [
      {
       "metadata": {},
       "output_type": "display_data",
       "png": "[encoded data removed]",
       "text": [
        "<matplotlib.figure.Figure at 0x1114b8890>"
       ]
      }
     ],
     "prompt_number": 13
    },
    {
     "cell_type": "markdown",
     "metadata": {},
     "source": [
      "\n",
      "As we can see many of the features would not be kept, but several would."
     ]
    }
   ],
   "metadata": {}
  }
 ]
}