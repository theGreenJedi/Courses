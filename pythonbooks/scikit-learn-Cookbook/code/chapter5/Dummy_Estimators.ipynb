{
 "metadata": {
  "name": "",
  "signature": "sha256:c3d151ecf2c44c3fcb750442bab4664abb7e911d4522581205e65f5bc1728a4f"
 },
 "nbformat": 3,
 "nbformat_minor": 0,
 "worksheets": [
  {
   "cells": [
    {
     "cell_type": "code",
     "collapsed": false,
     "input": [
      "%matplotlib inline"
     ],
     "language": "python",
     "metadata": {},
     "outputs": [],
     "prompt_number": 1
    },
    {
     "cell_type": "markdown",
     "metadata": {},
     "source": [
      "This chapter is about post model processing, this isn't the pretty or exciting stuff, but it can be the different in fitting a good model and not."
     ]
    },
    {
     "cell_type": "markdown",
     "metadata": {},
     "source": [
      "#Getting Ready"
     ]
    },
    {
     "cell_type": "markdown",
     "metadata": {},
     "source": [
      "In this recipe, we'll\n",
      "\n",
      "1. Create some data random data\n",
      "2. Fit the various dummy estimators\n",
      "\n",
      "We'll do these two steps for regression data and classification data."
     ]
    },
    {
     "cell_type": "markdown",
     "metadata": {},
     "source": [
      "#How to do it"
     ]
    },
    {
     "cell_type": "markdown",
     "metadata": {},
     "source": [
      "So first we'll create the random data."
     ]
    },
    {
     "cell_type": "code",
     "collapsed": false,
     "input": [
      "from sklearn.datasets import make_regression, make_classification # classification if for later"
     ],
     "language": "python",
     "metadata": {},
     "outputs": [],
     "prompt_number": 2
    },
    {
     "cell_type": "code",
     "collapsed": false,
     "input": [
      "X, y = make_regression()"
     ],
     "language": "python",
     "metadata": {},
     "outputs": [],
     "prompt_number": 3
    },
    {
     "cell_type": "code",
     "collapsed": false,
     "input": [
      "from sklearn import dummy"
     ],
     "language": "python",
     "metadata": {},
     "outputs": [],
     "prompt_number": 4
    },
    {
     "cell_type": "code",
     "collapsed": false,
     "input": [
      "dumdum = dummy.DummyRegressor()"
     ],
     "language": "python",
     "metadata": {},
     "outputs": [],
     "prompt_number": 5
    },
    {
     "cell_type": "code",
     "collapsed": false,
     "input": [
      "dumdum.fit(X, y)"
     ],
     "language": "python",
     "metadata": {},
     "outputs": [
      {
       "metadata": {},
       "output_type": "pyout",
       "prompt_number": 6,
       "text": [
        "DummyRegressor(constant=None, strategy='mean')"
       ]
      }
     ],
     "prompt_number": 6
    },
    {
     "cell_type": "markdown",
     "metadata": {},
     "source": [
      "By default the estimator will predict by just taking the mean of the values and predicting that."
     ]
    },
    {
     "cell_type": "code",
     "collapsed": false,
     "input": [
      "dumdum.predict(X)[:5]"
     ],
     "language": "python",
     "metadata": {},
     "outputs": [
      {
       "metadata": {},
       "output_type": "pyout",
       "prompt_number": 7,
       "text": [
        "array([ 3.79726395,  3.79726395,  3.79726395,  3.79726395,  3.79726395])"
       ]
      }
     ],
     "prompt_number": 7
    },
    {
     "cell_type": "markdown",
     "metadata": {},
     "source": [
      "There are other two other strategies we can try.  We can predict a supplied constant (See `constant=None` from above).  We can also predict the median value.\n",
      "\n",
      "Supplying a constant will only be considered if strategy is \"constant\".\n",
      "\n",
      "Let's have a look."
     ]
    },
    {
     "cell_type": "code",
     "collapsed": false,
     "input": [
      "predictors = [(\"mean\", None),\n",
      "              (\"median\", None),\n",
      "              (\"constant\", 10)]\n",
      "\n",
      "for strategy, constant in predictors:\n",
      "    dumdum = dummy.DummyRegressor(strategy=strategy, constant=constant)\n",
      "    dumdum.fit(X, y)\n",
      "    \n",
      "    print \"stragegy: {}\".format(strategy), \",\".join(map(str, dumdum.predict(X)[:5]))"
     ],
     "language": "python",
     "metadata": {},
     "outputs": [
      {
       "output_type": "stream",
       "stream": "stdout",
       "text": [
        "stragegy: mean 3.79726395149,3.79726395149,3.79726395149,3.79726395149,3.79726395149\n",
        "stragegy: median 16.18440148,16.18440148,16.18440148,16.18440148,16.18440148\n",
        "stragegy: constant 10.0,10.0,10.0,10.0,10.0\n"
       ]
      }
     ],
     "prompt_number": 8
    },
    {
     "cell_type": "markdown",
     "metadata": {},
     "source": [
      "Ok, so now we'll try with the dummy classifier.  Before we do that we'll setup a similar predictors array.  We actually have 4 options for classifiers.  These stategies are similar to the continuous case, it's just slanted toward classification problems."
     ]
    },
    {
     "cell_type": "code",
     "collapsed": false,
     "input": [
      "predictors = [(\"constant\", 0),\n",
      "              (\"stratified\", None),\n",
      "              (\"uniform\", None),\n",
      "              (\"most_frequent\", None)]"
     ],
     "language": "python",
     "metadata": {},
     "outputs": [],
     "prompt_number": 9
    },
    {
     "cell_type": "markdown",
     "metadata": {},
     "source": [
      "We'll also need to create some classification data."
     ]
    },
    {
     "cell_type": "code",
     "collapsed": false,
     "input": [
      "X, y = make_classification()"
     ],
     "language": "python",
     "metadata": {},
     "outputs": [],
     "prompt_number": 10
    },
    {
     "cell_type": "code",
     "collapsed": false,
     "input": [
      "for strategy, constant in predictors:\n",
      "    dumdum = dummy.DummyClassifier(strategy=strategy, constant=constant)\n",
      "    dumdum.fit(X, y)\n",
      "    \n",
      "    print \"stragegy: {}\".format(strategy), \",\".join(map(str, dumdum.predict(X)[:5]))"
     ],
     "language": "python",
     "metadata": {},
     "outputs": [
      {
       "output_type": "stream",
       "stream": "stdout",
       "text": [
        "stragegy: constant 0,0,0,0,0\n",
        "stragegy: stratified 0,1,1,1,1\n",
        "stragegy: uniform 1,0,1,1,0\n",
        "stragegy: most_frequent 0,0,0,0,0\n"
       ]
      }
     ],
     "prompt_number": 11
    },
    {
     "cell_type": "markdown",
     "metadata": {},
     "source": [
      "#How it works"
     ]
    },
    {
     "cell_type": "markdown",
     "metadata": {},
     "source": [
      "It's always good to test your models against the simplest models and that exactly what the Dummy Estimators give you.  For example, imagine a fraud model.  In this model only 5% of the data set is fraud.  Therefore, we can probably fit a pretty good model just by never guessing fraud.\n",
      "\n",
      "We can create this by using the stratified strategy.  We can also get a good example of why class imbalance causes problems."
     ]
    },
    {
     "cell_type": "code",
     "collapsed": false,
     "input": [
      "X, y = make_classification(20000, weights=[.95, .05])"
     ],
     "language": "python",
     "metadata": {},
     "outputs": [],
     "prompt_number": 12
    },
    {
     "cell_type": "code",
     "collapsed": false,
     "input": [
      "dumdum = dummy.DummyClassifier(strategy='most_frequent')"
     ],
     "language": "python",
     "metadata": {},
     "outputs": [],
     "prompt_number": 13
    },
    {
     "cell_type": "code",
     "collapsed": false,
     "input": [
      "dumdum.fit(X, y)"
     ],
     "language": "python",
     "metadata": {},
     "outputs": [
      {
       "metadata": {},
       "output_type": "pyout",
       "prompt_number": 14,
       "text": [
        "DummyClassifier(constant=None, random_state=None, strategy='most_frequent')"
       ]
      }
     ],
     "prompt_number": 14
    },
    {
     "cell_type": "code",
     "collapsed": false,
     "input": [
      "from sklearn.metrics import accuracy_score\n",
      "\n",
      "print accuracy_score(y, dumdum.predict(X))"
     ],
     "language": "python",
     "metadata": {},
     "outputs": [
      {
       "output_type": "stream",
       "stream": "stdout",
       "text": [
        "0.9453\n"
       ]
      }
     ],
     "prompt_number": 15
    },
    {
     "cell_type": "markdown",
     "metadata": {},
     "source": [
      "We were actually correct very often, but that's not the point.  The point is that this is our baseline.  If we cannot create a model for fraud that is more accurate than this, then it isn't worth our time."
     ]
    }
   ],
   "metadata": {}
  }
 ]
}