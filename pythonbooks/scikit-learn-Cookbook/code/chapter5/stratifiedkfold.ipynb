{
 "metadata": {
  "name": "",
  "signature": "sha256:10d884f59dbe959589ab78d960c64d4c2e10c4c28e8020586c3e09f9eaeee3b7"
 },
 "nbformat": 3,
 "nbformat_minor": 0,
 "worksheets": [
  {
   "cells": [
    {
     "cell_type": "code",
     "collapsed": false,
     "input": [
      "%matplotlib inline"
     ],
     "language": "python",
     "metadata": {},
     "outputs": [],
     "prompt_number": 1
    },
    {
     "cell_type": "markdown",
     "metadata": {},
     "source": [
      "In this recipe we'll quickly look at Stratified K-fold valuation.  We've walked through different recipes where the class representation was unbalanced in some manner. Stratified K-fold is nice because it's scheme is specifically designed to maintain the class proportions."
     ]
    },
    {
     "cell_type": "markdown",
     "metadata": {},
     "source": [
      "# Getting Ready\n",
      "\n"
     ]
    },
    {
     "cell_type": "markdown",
     "metadata": {},
     "source": [
      "1. Ok, so we're going to create a small dataset.  This dataset we will then use Stratified K-fold validation on.  We want it small so that we can see the variation.  At larger samples it probably won't be as big of a deal.\n",
      "2. We'll then plot the class proportions at each step to illistrate how the class proportions are maintained."
     ]
    },
    {
     "cell_type": "code",
     "collapsed": false,
     "input": [
      "from sklearn import datasets\n",
      "X, y = datasets.make_classification(n_samples=int(1e3), weights=[1./11])"
     ],
     "language": "python",
     "metadata": {},
     "outputs": [],
     "prompt_number": 2
    },
    {
     "cell_type": "markdown",
     "metadata": {},
     "source": [
      "Ok, so let's check the overall class weight distribution."
     ]
    },
    {
     "cell_type": "code",
     "collapsed": false,
     "input": [
      "y.mean()"
     ],
     "language": "python",
     "metadata": {},
     "outputs": [
      {
       "metadata": {},
       "output_type": "pyout",
       "prompt_number": 3,
       "text": [
        "0.90300000000000002"
       ]
      }
     ],
     "prompt_number": 3
    },
    {
     "cell_type": "markdown",
     "metadata": {},
     "source": [
      "Ok so roughtly 90.5% of the samples are 1, with the balance 0."
     ]
    },
    {
     "cell_type": "markdown",
     "metadata": {},
     "source": [
      "# How to do it"
     ]
    },
    {
     "cell_type": "markdown",
     "metadata": {},
     "source": [
      "Ok, let's create a Stratified K-fold object and iterate though each fold.  We'll measure the proportion of `y`s that are 1.  And we'll plot the proportion over the `N` samples.  This will hopefully illustrate how this is benefitial.  We'll also plot this against a basic ShuffleSplit."
     ]
    },
    {
     "cell_type": "code",
     "collapsed": false,
     "input": [
      "from sklearn import cross_validation"
     ],
     "language": "python",
     "metadata": {},
     "outputs": [],
     "prompt_number": 4
    },
    {
     "cell_type": "code",
     "collapsed": false,
     "input": [
      "n_folds = 50\n",
      "\n",
      "strat_kfold = cross_validation.StratifiedKFold(y, n_folds=n_folds)\n",
      "shuff_split = cross_validation.ShuffleSplit(n=len(y), n_iter=n_folds)"
     ],
     "language": "python",
     "metadata": {},
     "outputs": [],
     "prompt_number": 5
    },
    {
     "cell_type": "code",
     "collapsed": false,
     "input": [
      "kfold_y_props = []\n",
      "shuff_y_props = []\n",
      "\n",
      "for (k_train, k_test), (s_train, s_test) in zip(strat_kfold, shuff_split):  \n",
      "    kfold_y_props.append(y[k_train].mean())\n",
      "    shuff_y_props.append(y[s_train].mean())"
     ],
     "language": "python",
     "metadata": {},
     "outputs": [],
     "prompt_number": 6
    },
    {
     "cell_type": "markdown",
     "metadata": {},
     "source": [
      "Now let's plot the proportions over each fold."
     ]
    },
    {
     "cell_type": "code",
     "collapsed": false,
     "input": [
      "import matplotlib.pyplot as plt"
     ],
     "language": "python",
     "metadata": {},
     "outputs": [],
     "prompt_number": 7
    },
    {
     "cell_type": "code",
     "collapsed": false,
     "input": [
      "f, ax = plt.subplots(figsize=(7, 5))\n",
      "\n",
      "ax.plot(range(n_folds), shuff_y_props, label=\"ShuffleSplit\", color='k')\n",
      "ax.plot(range(n_folds), kfold_y_props, label=\"Stratified\", color='k', ls='--')\n",
      "ax.set_title(\"Comparing class proportions.\")\n",
      "\n",
      "ax.legend(loc='best')\n",
      "\n",
      "f.savefig(\"978-1-78398-948-5_06_01.png\")"
     ],
     "language": "python",
     "metadata": {},
     "outputs": [
      {
       "metadata": {},
       "output_type": "display_data",
       "png": "[encoded data removed]",
       "text": [
        "<matplotlib.figure.Figure at 0x10754e910>"
       ]
      }
     ],
     "prompt_number": 9
    },
    {
     "cell_type": "markdown",
     "metadata": {},
     "source": [
      "We can see that the proportion of each fold for Stratified K-folds is stable across folds."
     ]
    },
    {
     "cell_type": "markdown",
     "metadata": {},
     "source": [
      "# How it works"
     ]
    },
    {
     "cell_type": "markdown",
     "metadata": {},
     "source": [
      "Stratified K-folds works by taking the y value.  First getting the overall proportion of the classes then intelligently splitting the training and test set into the proportions.  This will generalize to multiple labels."
     ]
    },
    {
     "cell_type": "code",
     "collapsed": false,
     "input": [
      "import numpy as np"
     ],
     "language": "python",
     "metadata": {},
     "outputs": [],
     "prompt_number": 11
    },
    {
     "cell_type": "code",
     "collapsed": false,
     "input": [
      "three_classes = np.random.choice([1,2,3], p=[.1, .4, .5], size=1000)"
     ],
     "language": "python",
     "metadata": {},
     "outputs": [],
     "prompt_number": 12
    },
    {
     "cell_type": "code",
     "collapsed": false,
     "input": [
      "import itertools as it\n",
      "\n",
      "for train, test in cross_validation.StratifiedKFold(three_classes, 5):\n",
      "    print np.bincount(three_classes[train])"
     ],
     "language": "python",
     "metadata": {},
     "outputs": [
      {
       "output_type": "stream",
       "stream": "stdout",
       "text": [
        "[  0  90 314 395]\n",
        "[  0  90 314 395]\n",
        "[  0  90 314 395]\n",
        "[  0  91 315 395]\n",
        "[  0  91 315 396]\n"
       ]
      }
     ],
     "prompt_number": 13
    },
    {
     "cell_type": "markdown",
     "metadata": {},
     "source": [
      "As we can see we got roughly the sampe sizes of each class for our training and testing proportions."
     ]
    },
    {
     "cell_type": "code",
     "collapsed": false,
     "input": [],
     "language": "python",
     "metadata": {},
     "outputs": []
    }
   ],
   "metadata": {}
  }
 ]
}