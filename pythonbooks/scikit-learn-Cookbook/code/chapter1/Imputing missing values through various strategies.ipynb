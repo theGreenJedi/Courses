{
 "metadata": {
  "name": "",
  "signature": "sha256:b2e1e0a32bbf7af12bac849693e92cbd7516a11c3a6f475d6d48a045ef4e98c1"
 },
 "nbformat": 3,
 "nbformat_minor": 0,
 "worksheets": [
  {
   "cells": [
    {
     "cell_type": "code",
     "collapsed": false,
     "input": [
      "from sklearn import datasets\n",
      "import numpy as np"
     ],
     "language": "python",
     "metadata": {},
     "outputs": [],
     "prompt_number": 6
    },
    {
     "cell_type": "code",
     "collapsed": false,
     "input": [
      "iris = datasets.load_iris()\n",
      "iris_X = iris.data\n",
      "masking_array = np.random.binomial(1, .25, \n",
      "                    iris_X.shape).astype(bool)\n",
      "iris_X[masking_array] = np.nan"
     ],
     "language": "python",
     "metadata": {},
     "outputs": [],
     "prompt_number": 7
    },
    {
     "cell_type": "code",
     "collapsed": false,
     "input": [
      "masking_array[:5]"
     ],
     "language": "python",
     "metadata": {},
     "outputs": [
      {
       "metadata": {},
       "output_type": "pyout",
       "prompt_number": 8,
       "text": [
        "array([[False, False, False, False],\n",
        "       [False, False, False, False],\n",
        "       [False, False,  True,  True],\n",
        "       [False, False,  True, False],\n",
        "       [ True, False, False,  True]], dtype=bool)"
       ]
      }
     ],
     "prompt_number": 8
    },
    {
     "cell_type": "code",
     "collapsed": false,
     "input": [
      "iris_X[:5]"
     ],
     "language": "python",
     "metadata": {},
     "outputs": [
      {
       "metadata": {},
       "output_type": "pyout",
       "prompt_number": 10,
       "text": [
        "array([[ 5.1,  3.5,  1.4,  0.2],\n",
        "       [ 4.9,  3. ,  1.4,  0.2],\n",
        "       [ 4.7,  3.2,  nan,  nan],\n",
        "       [ 4.6,  3.1,  nan,  0.2],\n",
        "       [ nan,  3.6,  1.4,  nan]])"
       ]
      }
     ],
     "prompt_number": 10
    },
    {
     "cell_type": "code",
     "collapsed": false,
     "input": [
      "from sklearn import preprocessing"
     ],
     "language": "python",
     "metadata": {},
     "outputs": [],
     "prompt_number": 11
    },
    {
     "cell_type": "code",
     "collapsed": false,
     "input": [
      "impute = preprocessing.Imputer()"
     ],
     "language": "python",
     "metadata": {},
     "outputs": [],
     "prompt_number": 12
    },
    {
     "cell_type": "code",
     "collapsed": false,
     "input": [
      "iris_X_prime = impute.fit_transform(iris_X)"
     ],
     "language": "python",
     "metadata": {},
     "outputs": [],
     "prompt_number": 13
    },
    {
     "cell_type": "code",
     "collapsed": false,
     "input": [
      "iris_X_prime[:5]"
     ],
     "language": "python",
     "metadata": {},
     "outputs": [
      {
       "metadata": {},
       "output_type": "pyout",
       "prompt_number": 14,
       "text": [
        "array([[ 5.1       ,  3.5       ,  1.4       ,  0.2       ],\n",
        "       [ 4.9       ,  3.        ,  1.4       ,  0.2       ],\n",
        "       [ 4.7       ,  3.2       ,  3.89122807,  1.23853211],\n",
        "       [ 4.6       ,  3.1       ,  3.89122807,  0.2       ],\n",
        "       [ 5.83846154,  3.6       ,  1.4       ,  1.23853211]])"
       ]
      }
     ],
     "prompt_number": 14
    },
    {
     "cell_type": "code",
     "collapsed": false,
     "input": [
      "iris_X_prime[3, 0]"
     ],
     "language": "python",
     "metadata": {},
     "outputs": [
      {
       "metadata": {},
       "output_type": "pyout",
       "prompt_number": 15,
       "text": [
        "4.5999999999999996"
       ]
      }
     ],
     "prompt_number": 15
    },
    {
     "cell_type": "code",
     "collapsed": false,
     "input": [
      "iris_X[3, 0]"
     ],
     "language": "python",
     "metadata": {},
     "outputs": [
      {
       "metadata": {},
       "output_type": "pyout",
       "prompt_number": 16,
       "text": [
        "4.5999999999999996"
       ]
      }
     ],
     "prompt_number": 16
    },
    {
     "cell_type": "code",
     "collapsed": false,
     "input": [
      "impute = preprocessing.Imputer(strategy='median')\n",
      "iris_X_prime = impute.fit_transform(iris_X)\n",
      "iris_X_prime[:5]"
     ],
     "language": "python",
     "metadata": {},
     "outputs": [
      {
       "metadata": {},
       "output_type": "pyout",
       "prompt_number": 17,
       "text": [
        "array([[ 5.1,  3.5,  1.4,  0.2],\n",
        "       [ 4.9,  3. ,  1.4,  0.2],\n",
        "       [ 4.7,  3.2,  4.4,  1.4],\n",
        "       [ 4.6,  3.1,  4.4,  0.2],\n",
        "       [ 5.7,  3.6,  1.4,  1.4]])"
       ]
      }
     ],
     "prompt_number": 17
    },
    {
     "cell_type": "code",
     "collapsed": false,
     "input": [
      "iris_X[np.isnan(iris_X)] = -1\n",
      "iris_X[:5]"
     ],
     "language": "python",
     "metadata": {},
     "outputs": [
      {
       "metadata": {},
       "output_type": "pyout",
       "prompt_number": 18,
       "text": [
        "array([[ 5.1,  3.5,  1.4,  0.2],\n",
        "       [ 4.9,  3. ,  1.4,  0.2],\n",
        "       [ 4.7,  3.2, -1. , -1. ],\n",
        "       [ 4.6,  3.1, -1. ,  0.2],\n",
        "       [-1. ,  3.6,  1.4, -1. ]])"
       ]
      }
     ],
     "prompt_number": 18
    },
    {
     "cell_type": "code",
     "collapsed": false,
     "input": [
      "import pandas as pd\n",
      "iris_X[masking_array] = np.nan"
     ],
     "language": "python",
     "metadata": {},
     "outputs": [],
     "prompt_number": 23
    },
    {
     "cell_type": "code",
     "collapsed": false,
     "input": [
      "iris_df = pd.DataFrame(iris_X, columns=iris.feature_names)"
     ],
     "language": "python",
     "metadata": {},
     "outputs": [],
     "prompt_number": 24
    },
    {
     "cell_type": "code",
     "collapsed": false,
     "input": [
      "iris_df.fillna(iris_df.mean())['sepal length (cm)'].head(5)"
     ],
     "language": "python",
     "metadata": {},
     "outputs": [
      {
       "metadata": {},
       "output_type": "pyout",
       "prompt_number": 26,
       "text": [
        "0    5.100000\n",
        "1    4.900000\n",
        "2    4.700000\n",
        "3    4.600000\n",
        "4    5.838462\n",
        "Name: sepal length (cm), dtype: float64"
       ]
      }
     ],
     "prompt_number": 26
    },
    {
     "cell_type": "code",
     "collapsed": false,
     "input": [
      "iris_df.fillna(iris_df.max())['sepal length (cm)'].head(5)"
     ],
     "language": "python",
     "metadata": {},
     "outputs": [
      {
       "metadata": {},
       "output_type": "pyout",
       "prompt_number": 28,
       "text": [
        "0    5.1\n",
        "1    4.9\n",
        "2    4.7\n",
        "3    4.6\n",
        "4    7.9\n",
        "Name: sepal length (cm), dtype: float64"
       ]
      }
     ],
     "prompt_number": 28
    }
   ],
   "metadata": {}
  }
 ]
}