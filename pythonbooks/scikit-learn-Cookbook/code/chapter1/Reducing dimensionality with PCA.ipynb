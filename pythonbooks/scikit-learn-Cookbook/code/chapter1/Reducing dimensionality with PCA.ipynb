{
 "metadata": {
  "name": "",
  "signature": "sha256:a76281df7535914a4c6260ce677bd933bbde533083001077f35b86fe64a8b333"
 },
 "nbformat": 3,
 "nbformat_minor": 0,
 "worksheets": [
  {
   "cells": [
    {
     "cell_type": "markdown",
     "metadata": {},
     "source": [
      "# Reducing dimensionality with PCA"
     ]
    },
    {
     "cell_type": "code",
     "collapsed": false,
     "input": [
      "from sklearn import datasets\n",
      "iris = datasets.load_iris()\n",
      "iris_X = iris.data"
     ],
     "language": "python",
     "metadata": {},
     "outputs": [],
     "prompt_number": 1
    },
    {
     "cell_type": "code",
     "collapsed": false,
     "input": [
      "from sklearn import decomposition"
     ],
     "language": "python",
     "metadata": {},
     "outputs": [],
     "prompt_number": 2
    },
    {
     "cell_type": "code",
     "collapsed": false,
     "input": [
      "pca = decomposition.PCA()\n",
      "pca"
     ],
     "language": "python",
     "metadata": {},
     "outputs": [
      {
       "metadata": {},
       "output_type": "pyout",
       "prompt_number": 4,
       "text": [
        "PCA(copy=True, n_components=None, whiten=False)"
       ]
      }
     ],
     "prompt_number": 4
    },
    {
     "cell_type": "code",
     "collapsed": false,
     "input": [
      "iris_pca = pca.fit_transform(iris_X)\n",
      "iris_pca[:5]"
     ],
     "language": "python",
     "metadata": {},
     "outputs": [
      {
       "metadata": {},
       "output_type": "pyout",
       "prompt_number": 5,
       "text": [
        "array([[ -2.68420713e+00,  -3.26607315e-01,   2.15118370e-02,\n",
        "          1.00615724e-03],\n",
        "       [ -2.71539062e+00,   1.69556848e-01,   2.03521425e-01,\n",
        "          9.96024240e-02],\n",
        "       [ -2.88981954e+00,   1.37345610e-01,  -2.47092410e-02,\n",
        "          1.93045428e-02],\n",
        "       [ -2.74643720e+00,   3.11124316e-01,  -3.76719753e-02,\n",
        "         -7.59552741e-02],\n",
        "       [ -2.72859298e+00,  -3.33924564e-01,  -9.62296998e-02,\n",
        "         -6.31287327e-02]])"
       ]
      }
     ],
     "prompt_number": 5
    },
    {
     "cell_type": "code",
     "collapsed": false,
     "input": [
      "pca.explained_variance_ratio_"
     ],
     "language": "python",
     "metadata": {},
     "outputs": [
      {
       "metadata": {},
       "output_type": "pyout",
       "prompt_number": 9,
       "text": [
        "array([ 0.92461621,  0.05301557,  0.01718514,  0.00518309])"
       ]
      }
     ],
     "prompt_number": 9
    },
    {
     "cell_type": "code",
     "collapsed": false,
     "input": [
      "pca.explained_variance_ratio_.sum()"
     ],
     "language": "python",
     "metadata": {},
     "outputs": [
      {
       "metadata": {},
       "output_type": "pyout",
       "prompt_number": 16,
       "text": [
        "1.0"
       ]
      }
     ],
     "prompt_number": 16
    }
   ],
   "metadata": {}
  }
 ]
}