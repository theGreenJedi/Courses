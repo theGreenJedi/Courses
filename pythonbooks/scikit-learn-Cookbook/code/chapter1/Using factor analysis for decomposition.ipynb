{
 "metadata": {
  "name": "",
  "signature": "sha256:d0b7156ec9808dab99e53da8c31f05f9e8c672df26b357496a3b40f9fac78a61"
 },
 "nbformat": 3,
 "nbformat_minor": 0,
 "worksheets": [
  {
   "cells": [
    {
     "cell_type": "markdown",
     "metadata": {},
     "source": [
      "# Using factor analysis for decomposition"
     ]
    },
    {
     "cell_type": "code",
     "collapsed": false,
     "input": [
      "from sklearn import datasets\n",
      "\n",
      "iris = datasets.load_iris()"
     ],
     "language": "python",
     "metadata": {},
     "outputs": [],
     "prompt_number": 4
    },
    {
     "cell_type": "code",
     "collapsed": false,
     "input": [
      "from sklearn.decomposition import FactorAnalysis"
     ],
     "language": "python",
     "metadata": {},
     "outputs": [],
     "prompt_number": 5
    },
    {
     "cell_type": "code",
     "collapsed": false,
     "input": [
      "fa = FactorAnalysis(n_components=2)\n",
      "iris_two_dim = fa.fit_transform(iris.data)\n",
      "iris_two_dim[:5]"
     ],
     "language": "python",
     "metadata": {},
     "outputs": [
      {
       "metadata": {},
       "output_type": "pyout",
       "prompt_number": 6,
       "text": [
        "array([[-1.33125848,  0.55846779],\n",
        "       [-1.33914102, -0.00509715],\n",
        "       [-1.40258715, -0.307983  ],\n",
        "       [-1.29839497, -0.71854288],\n",
        "       [-1.33587575,  0.36533259]])"
       ]
      }
     ],
     "prompt_number": 6
    }
   ],
   "metadata": {}
  }
 ]
}