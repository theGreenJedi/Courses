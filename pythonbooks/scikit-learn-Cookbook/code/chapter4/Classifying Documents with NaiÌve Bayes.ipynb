{
 "metadata": {
  "name": "",
  "signature": "sha256:25b2cefd5afcd3bb8b45bee4d7c68a63b90fe03104a81b1153c5534e8c45f9f4"
 },
 "nbformat": 3,
 "nbformat_minor": 0,
 "worksheets": [
  {
   "cells": [
    {
     "cell_type": "code",
     "collapsed": false,
     "input": [
      "import numpy as np"
     ],
     "language": "python",
     "metadata": {},
     "outputs": [],
     "prompt_number": 8
    },
    {
     "cell_type": "code",
     "collapsed": true,
     "input": [
      "from sklearn.datasets import fetch_20newsgroups\n",
      "\n",
      "categories = [\"rec.autos\", \"rec.motorcycles\"]\n",
      "newgroups = fetch_20newsgroups(categories=categories)\n",
      "\n",
      "#take a look\n",
      "print \"\\n\".join(newgroups.data[:1])"
     ],
     "language": "python",
     "metadata": {},
     "outputs": [
      {
       "output_type": "stream",
       "stream": "stdout",
       "text": [
        "From: gregl@zimmer.CSUFresno.EDU (Greg Lewis)\n",
        "Subject: Re: WARNING.....(please read)...\n",
        "Keywords: BRICK, TRUCK, DANGER\n",
        "Nntp-Posting-Host: zimmer.csufresno.edu\n",
        "Organization: CSU Fresno\n",
        "Lines: 33\n",
        "\n",
        "In article <1qh336INNfl5@CS.UTK.EDU> larose@austin.cs.utk.edu (Brian LaRose) writes:\n",
        ">This just a warning to EVERYBODY on the net.  Watch out for\n",
        ">folks standing NEXT to the road or on overpasses.   They can\n",
        ">cause SERIOUS HARM to you and your car.  \n",
        ">\n",
        ">(just a cliff-notes version of my story follows)\n",
        ">\n",
        ">10pm last night, I was travelling on the interstate here in\n",
        ">knoxville,  I was taking an offramp exit to another interstate\n",
        ">and my wife suddenly screamed and something LARGE hit the side\n",
        ">of my truck.  We slowed down, but after looking back to see the\n",
        ">vandals standing there, we drove on to the police station.\n",
        ">\n",
        ">She did get a good look at the guy and saw him \"cock his arm\" with\n",
        ">something the size of a cinderblock, BUT I never saw him. We are \n",
        ">VERY lucky the truck sits up high on the road; if it would have hit\n",
        ">her window, it would have killed her. \n",
        ">\n",
        ">The police are looking for the guy, but in all likelyhood he is gone. \n",
        "Stuff deleted...\n",
        "\n",
        "I am sorry to report that in Southern California it was a sick sport\n",
        "for a while to drop concrete blocks from the overpasses onto the\n",
        "freeway.  Several persons were killed when said blocks came through\n",
        "their windshields.  Many overpass bridges are now fenced, and they\n",
        "have made it illegal to loiter on such bridges (as if that would stop\n",
        "such people).  Yet many bridges are NOT fenced.  I always look up at a\n",
        "bridge while I still have time to take evasive action even though this\n",
        "*sport* has not reached us here in Fresno.\n",
        "___________________________________________________________________\n",
        "Greg_Lewis@csufresno.edu\n",
        "Photojournalism sequence, Department of Journalism\n",
        "CSU Fresno, Fresno, CA 93740\n",
        "\n"
       ]
      }
     ],
     "prompt_number": 3
    },
    {
     "cell_type": "code",
     "collapsed": false,
     "input": [
      "newgroups.target_names[newgroups.target[:1]]"
     ],
     "language": "python",
     "metadata": {},
     "outputs": [
      {
       "metadata": {},
       "output_type": "pyout",
       "prompt_number": 4,
       "text": [
        "'rec.autos'"
       ]
      }
     ],
     "prompt_number": 4
    },
    {
     "cell_type": "code",
     "collapsed": false,
     "input": [
      "from sklearn.feature_extraction.text import CountVectorizer\n",
      "\n",
      "count_vec = CountVectorizer()\n",
      "bow = count_vec.fit_transform(newgroups.data)"
     ],
     "language": "python",
     "metadata": {},
     "outputs": [],
     "prompt_number": 5
    },
    {
     "cell_type": "code",
     "collapsed": false,
     "input": [
      "bow"
     ],
     "language": "python",
     "metadata": {},
     "outputs": [
      {
       "metadata": {},
       "output_type": "pyout",
       "prompt_number": 6,
       "text": [
        "<1192x19177 sparse matrix of type '<type 'numpy.int64'>'\n",
        "\twith 164296 stored elements in Compressed Sparse Row format>"
       ]
      }
     ],
     "prompt_number": 6
    },
    {
     "cell_type": "code",
     "collapsed": false,
     "input": [
      "bow = np.array(bow.todense())"
     ],
     "language": "python",
     "metadata": {},
     "outputs": [],
     "prompt_number": 9
    },
    {
     "cell_type": "code",
     "collapsed": false,
     "input": [
      "words = np.array(count_vec.get_feature_names())"
     ],
     "language": "python",
     "metadata": {},
     "outputs": [],
     "prompt_number": 10
    },
    {
     "cell_type": "code",
     "collapsed": false,
     "input": [
      "words[bow[0] > 0][:5]"
     ],
     "language": "python",
     "metadata": {},
     "outputs": [
      {
       "metadata": {},
       "output_type": "pyout",
       "prompt_number": 11,
       "text": [
        "array([u'10pm', u'1qh336innfl5', u'33', u'93740',\n",
        "       u'___________________________________________________________________'], \n",
        "      dtype='<U79')"
       ]
      }
     ],
     "prompt_number": 11
    },
    {
     "cell_type": "code",
     "collapsed": false,
     "input": [
      "'10pm' in newgroups.data[0].lower()"
     ],
     "language": "python",
     "metadata": {},
     "outputs": [
      {
       "metadata": {},
       "output_type": "pyout",
       "prompt_number": 12,
       "text": [
        "True"
       ]
      }
     ],
     "prompt_number": 12
    },
    {
     "cell_type": "code",
     "collapsed": false,
     "input": [
      "'1qh336innfl5' in newgroups.data[0].lower()"
     ],
     "language": "python",
     "metadata": {},
     "outputs": [
      {
       "metadata": {},
       "output_type": "pyout",
       "prompt_number": 13,
       "text": [
        "True"
       ]
      }
     ],
     "prompt_number": 13
    },
    {
     "cell_type": "code",
     "collapsed": false,
     "input": [
      "from sklearn import naive_bayes"
     ],
     "language": "python",
     "metadata": {},
     "outputs": [],
     "prompt_number": 14
    },
    {
     "cell_type": "code",
     "collapsed": false,
     "input": [
      "clf = naive_bayes.GaussianNB()"
     ],
     "language": "python",
     "metadata": {},
     "outputs": [],
     "prompt_number": 15
    },
    {
     "cell_type": "code",
     "collapsed": false,
     "input": [
      "mask = np.random.choice([True, False], len(bow))"
     ],
     "language": "python",
     "metadata": {},
     "outputs": [],
     "prompt_number": 16
    },
    {
     "cell_type": "code",
     "collapsed": false,
     "input": [
      "clf.fit(bow[mask], newgroups.target[mask])"
     ],
     "language": "python",
     "metadata": {},
     "outputs": [
      {
       "metadata": {},
       "output_type": "pyout",
       "prompt_number": 17,
       "text": [
        "GaussianNB()"
       ]
      }
     ],
     "prompt_number": 17
    },
    {
     "cell_type": "code",
     "collapsed": false,
     "input": [
      "predictions = clf.predict(bow[~mask])"
     ],
     "language": "python",
     "metadata": {},
     "outputs": [],
     "prompt_number": 18
    },
    {
     "cell_type": "code",
     "collapsed": false,
     "input": [
      "np.mean(predictions == newgroups.target[~mask])"
     ],
     "language": "python",
     "metadata": {},
     "outputs": [
      {
       "metadata": {},
       "output_type": "pyout",
       "prompt_number": 19,
       "text": [
        "0.93717277486910999"
       ]
      }
     ],
     "prompt_number": 19
    },
    {
     "cell_type": "code",
     "collapsed": false,
     "input": [
      "from sklearn.datasets import fetch_20newsgroups\n",
      "mn_categories = [\"rec.autos\", \"rec.motorcycles\", 'talk.politics.guns']\n",
      "mn_newgroups = fetch_20newsgroups(categories=mn_categories)"
     ],
     "language": "python",
     "metadata": {},
     "outputs": [],
     "prompt_number": 20
    },
    {
     "cell_type": "code",
     "collapsed": false,
     "input": [
      "mn_bow = count_vec.fit_transform(mn_newgroups.data)\n",
      "mn_bow = np.array(mn_bow.todense())"
     ],
     "language": "python",
     "metadata": {},
     "outputs": [],
     "prompt_number": 22
    },
    {
     "cell_type": "code",
     "collapsed": false,
     "input": [
      "mn_mask = np.random.choice([True, False], len(mn_newgroups.data))\n",
      "multinom = naive_bayes.MultinomialNB()\n",
      "multinom.fit(mn_bow[mn_mask], mn_newgroups.target[mn_mask])\n",
      "\n",
      "mn_predict = multinom.predict(mn_bow[~mn_mask])\n",
      "np.mean(mn_predict == mn_newgroups.target[~mn_mask])"
     ],
     "language": "python",
     "metadata": {},
     "outputs": [
      {
       "metadata": {},
       "output_type": "pyout",
       "prompt_number": 23,
       "text": [
        "0.97058823529411764"
       ]
      }
     ],
     "prompt_number": 23
    },
    {
     "cell_type": "code",
     "collapsed": false,
     "input": [],
     "language": "python",
     "metadata": {},
     "outputs": []
    }
   ],
   "metadata": {}
  }
 ]
}